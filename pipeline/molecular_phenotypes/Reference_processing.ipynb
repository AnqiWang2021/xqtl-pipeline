{
 "cells": [
  {
   "cell_type": "markdown",
   "id": "1bc1e773-7909-4e10-89f7-dd318a12439e",
   "metadata": {
    "kernel": "SoS",
    "tags": []
   },
   "source": [
    "# Reference Processing\n",
    "This module will perform variouse proprocessing for reference data\n",
    "In Particular:\n",
    "1. Convert gff3 to gtf\n",
    "\n",
    "Input: an uncompressed gff3 file.(i.e. can be view via cat)\n",
    "\n",
    "Output: a gtf file.\n",
    "\n",
    "2. Produce gene collapesed version of gtf\n",
    "\n",
    "Input: a gtf file.\n",
    "\n",
    "Output: a gtf file with collapesed gene model.\n",
    "\n",
    "\n",
    "3. Generate STAR index based on gtf and reference fasta\n",
    "\n",
    "Input: a gtf file and an acompanying fasta file.\n",
    "\n",
    "Output: A folder of STAR index.\n",
    "\n",
    "\n",
    "4. Generate RSEM index based on gtf and reference fasta\n",
    "\n",
    "Input: a gtf file and an acompanying fasta file.\n",
    "\n",
    "Output: A folder of RSEM index."
   ]
  },
  {
   "cell_type": "code",
   "execution_count": null,
   "id": "afb23eaa-8248-4f1b-a1dc-88eb10051ee7",
   "metadata": {
    "kernel": "SoS"
   },
   "outputs": [],
   "source": [
    "[global]\n",
    "# The output directory for generated files. MUST BE FULL PATH\n",
    "parameter: wd = path(\"./\")\n",
    "cwd = wd\n",
    "# For cluster jobs, number commands to run per job\n",
    "parameter: job_size = 1\n",
    "# Wall clock time expected\n",
    "parameter: walltime = \"5h\"\n",
    "# Memory expected\n",
    "parameter: mem = \"16G\"\n",
    "# Number of threads\n",
    "parameter: numThreads = 8\n",
    "# Software container option\n",
    "parameter: container = \"\"\n"
   ]
  },
  {
   "cell_type": "code",
   "execution_count": null,
   "id": "80531974-0b82-4405-890d-d2c1746edfec",
   "metadata": {
    "kernel": "SoS"
   },
   "outputs": [],
   "source": [
    "[gff3_to_gtf]\n",
    "parameter: gff3_file = path\n",
    "input: gff3_file\n",
    "output: f'{wd}/{_input:n}.gtf'\n",
    "bash: container=container, expand= \"${ }\", stderr = f'{_input[0]}.stderr', stdout = f'{_input[0]}.stdout'\n",
    "        gffread ${_input} -T -o ${_output}"
   ]
  },
  {
   "cell_type": "markdown",
   "id": "04a51056-2ceb-4598-b5ee-b8e8d30ec8d1",
   "metadata": {
    "kernel": "SoS"
   },
   "source": [
    "### GTF reformatting"
   ]
  },
  {
   "cell_type": "markdown",
   "id": "6271038a-d831-4fe2-b5e7-0d841655452e",
   "metadata": {
    "kernel": "SoS"
   },
   "source": [
    "This step modify the gtf file for following reason:\n",
    "1. RSEM require GTF input to have the same chromosome name format as the fasta file.\n",
    "\n",
    "**For STAR, this problem can be solved by the now commented --sjdbGTFchrPrefix \"chr\"  option**\n",
    "   \n",
    "2. collapse_annotation.py from GTEX require the gtf have transcript_type insteadd transcript_biotype in its annotation.\n",
    "**This problem can be solved by modifying the collapse_annotation.py while building the docker**\n",
    "\n",
    "Once the problem with RSEM is solved, or when RSEM is no longer needed, the aforementioned remedy can be implemented and this step can be remvoed"
   ]
  },
  {
   "cell_type": "code",
   "execution_count": null,
   "id": "32941265-117a-4e3b-b609-ddafa95b100d",
   "metadata": {
    "kernel": "SoS"
   },
   "outputs": [],
   "source": [
    "[chrom_reformating]\n",
    "# Reference genome\n",
    "parameter: gtf = path\n",
    "parameter: fasta = path\n",
    "parameter: empty_rows = 5\n",
    "input: fasta, gtf\n",
    "output:  f'{wd}/{_input[1]:bn}.reformated.gtf'\n",
    "task: trunk_workers = 1, trunk_size = 1, walltime = '24h',  mem = '30G', tags = f'{step_name}_{_output[0]:bn}',container=container\n",
    "R: expand = \"${ }\", stderr = f'{_output}.stderr', stdout = f'{_output}.stdout'\n",
    "    library(\"readr\")\n",
    "    library(\"stringr\")\n",
    "    library(\"dplyr\")\n",
    "    options(scipen = 999)\n",
    "    fasta = system(\"head -1 ${_input[0]}\",intern = TRUE)\n",
    "    gtf = read_delim(\"${_input[1]}\", col_names  = F,\"\\t\", skip = ${empty_rows})\n",
    "    if(!str_detect(fasta,\">chr\")){\n",
    "    gtf_mod = gtf%>%mutate(X1 = str_remove_all(X1,\"chr\"))\n",
    "    } else if(!any(str_detect(gtf$X1[1],\"chr\"))) {\n",
    "        gtf_mod = gtf%>%mutate(X1 = paste0(\"chr\",X1))    \n",
    "    }\n",
    "    if(str_detect(gtf_mod$X9,\"transcript_biotype\")){gtf_mod = gtf_mod%>%mutate(X9 = str_replace_all(X9,\"transcript_biotype\",\"transcript_type\"))}\n",
    "    gtf_mod%>%write.table(\"${_output}\",sep = \"\\t\",quote = FALSE,col.names = F,row.names = F)"
   ]
  },
  {
   "cell_type": "code",
   "execution_count": null,
   "id": "60e6d923-c5f3-415e-aa60-d7ef853d4f94",
   "metadata": {
    "kernel": "SoS"
   },
   "outputs": [],
   "source": [
    "[collapse]\n",
    "parameter: gtf = path\n",
    "input: gtf\n",
    "output: f'{wd}/{_input:bn}.collapsed.gtf'\n",
    "bash: expand = \"${ }\", stderr = f'{_output[0]}.stderr', stdout = f'{_output[0]}.stdout',container = container\n",
    "    collapse_annotation.py ${_input} ${_output}"
   ]
  },
  {
   "cell_type": "markdown",
   "id": "9947063b-eb0d-4a93-9824-b19fc3cc5b8b",
   "metadata": {
    "kernel": "SoS",
    "tags": []
   },
   "source": [
    "## Generating indexing file for `STAR` \n",
    "This step generate the indexing file for STAR alignment. This file just need to generate once and can be re-used. \n",
    "\n",
    "At least 40GB of memory is needed\n",
    "### Step Inputs:\n",
    "* `STAR_index_dir`: a path to the output.\n",
    "* `gtf` and `fasta`: path to reference sequence. Both of them needs to be unzipped\n",
    "* `sjdbOverhang`: specifies the length of the genomic sequence around the annotated junction to be used in constructing the splice junctions database. Ideally, this length should be equal to the ReadLength-1, where ReadLength is the length of the reads.\n",
    "\n",
    "### Step Output:\n",
    "* Indexing file stored in `STAR_index_dir`, which will be used by `STAR`"
   ]
  },
  {
   "cell_type": "code",
   "execution_count": null,
   "id": "35d89c7b-2fd8-487f-b3e0-5557b7508f8b",
   "metadata": {
    "kernel": "SoS"
   },
   "outputs": [],
   "source": [
    "[STAR_indexing]\n",
    "\n",
    "# The directory for STAR index\n",
    "# Reference genome\n",
    "parameter: gtf = path\n",
    "parameter: fasta = path\n",
    "\n",
    "# Length:\n",
    "parameter: sjdbOverhang = 150\n",
    "input: fasta, gtf\n",
    "output: f'{wd}/STAR_Index/genomeParameters.txt'\n",
    "task: trunk_workers = 1, trunk_size = 1, walltime = '24h',  mem = '40G', tags = f'{step_name}_{_output[0]:bn}'\n",
    "bash: container=container, expand= \"${ }\", stderr = f'{_input[0]}.stderr', stdout = f'{_input[0]}.stdout'\n",
    "    STAR --runMode genomeGenerate \\\n",
    "         --genomeDir ${_output:d} \\\n",
    "         --genomeFastaFiles ${_input[0]} \\\n",
    "         --sjdbGTFfile ${_input[1]} \\\n",
    "         --sjdbOverhang ${sjdbOverhang} \\\n",
    "         --runThreadN ${numThreads} #--sjdbGTFchrPrefix \"chr\" "
   ]
  },
  {
   "cell_type": "markdown",
   "id": "b6ccf674-bd36-4f51-ae04-9d9b293932fb",
   "metadata": {
    "kernel": "Bash"
   },
   "source": [
    "## Generating indexing file for `RSEM`\n",
    "This step generate the indexing file for `RSEM`. This file just need to generate once.\n",
    "\n",
    "### Step Inputs:\n",
    "\n",
    "* `RSEM_index_dir`: a path to the output.\n",
    "* `gtf` and `fasta`: path to reference sequence.\n",
    "* `sjdbOverhang`: specifies the length of the genomic sequence around the annotated junction to be used in constructing the splice junctions database. Ideally, this length should be equal to the ReadLength-1, where ReadLength is the length of the reads.\n",
    "\n",
    "### Step Outputs:\n",
    "* Indexing file stored in `RSEM_index_dir`, which will be used by `RSEM`\n",
    "\n",
    "### Example Command"
   ]
  },
  {
   "cell_type": "code",
   "execution_count": null,
   "id": "eda8529a-eb35-4722-96ca-dfba23726b82",
   "metadata": {
    "kernel": "SoS"
   },
   "outputs": [],
   "source": []
  },
  {
   "cell_type": "code",
   "execution_count": null,
   "id": "2d4a7d73-8daf-4f3c-9185-ca6f07d7987e",
   "metadata": {
    "kernel": "SoS"
   },
   "outputs": [],
   "source": [
    "[RSEM_indexing]\n",
    "# Output directory:\n",
    "\n",
    "# Reference genome\n",
    "parameter: gtf = path\n",
    "parameter: fasta = path\n",
    "parameter: name = str\n",
    "input: fasta, gtf\n",
    "output: f'{wd}/RSEM_Index/rsem_reference.idx.fa'\n",
    "task: trunk_workers = 1, trunk_size = 1, walltime = '24h',  mem = '40G', tags = f'{step_name}_{_output[0]:bn}'\n",
    "bash: container=container, expand= \"${ }\", stderr = f'{_input[0]}.stderr', stdout = f'{_input[0]}.stdout'\n",
    "    rsem-prepare-reference \\\n",
    "            ${_input[0]} \\\n",
    "            ${_output:nn} \\\n",
    "            --gtf ${_input[1]} \\\n",
    "            --num-threads ${numThreads}"
   ]
  }
 ],
 "metadata": {
  "kernelspec": {
   "display_name": "SoS",
   "language": "sos",
   "name": "sos"
  },
  "language_info": {
   "codemirror_mode": "sos",
   "file_extension": ".sos",
   "mimetype": "text/x-sos",
   "name": "sos",
   "nbconvert_exporter": "sos_notebook.converter.SoS_Exporter",
   "pygments_lexer": "sos"
  },
  "sos": {
   "kernels": [
    [
     "SoS",
     "sos",
     "",
     ""
    ]
   ],
   "version": "0.22.6"
  }
 },
 "nbformat": 4,
 "nbformat_minor": 5
}
