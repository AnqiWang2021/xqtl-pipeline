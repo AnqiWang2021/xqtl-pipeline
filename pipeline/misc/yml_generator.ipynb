{
 "cells": [
  {
   "cell_type": "markdown",
   "id": "21916f1d-f3e1-477f-8aff-5422d32062d6",
   "metadata": {
    "kernel": "SoS",
    "tags": []
   },
   "source": [
    "## Allele filp QC YML generator\n",
    "This module takes in a table of sumstat, with the columns: #chr, theme1, theme2, theme3 and each rows as 1 chr and the sumstat of corresponding chr and generate a list of yml to be used"
   ]
  },
  {
   "cell_type": "code",
   "execution_count": null,
   "id": "bee6d742-7eb3-49dd-a0f9-5b2db598f16a",
   "metadata": {
    "kernel": "SoS"
   },
   "outputs": [],
   "source": [
    "[global]\n",
    "# a table of sumstat, with the columns: #chr, theme1, theme2, theme3 and each rows as 1 chr and the sumstat of corresponding chr\n",
    "parameter: sumstat_list_path = path\n",
    "parameter: wd = path\n",
    "import pandas as pd\n",
    "sumstat_list = pd.read_csv(sumstat_list_path, sep = \"\\t\")\n",
    "sumstat_inv = sumstat_list.values.tolist()\n",
    "name = \"_\".join(sumstat_list.columns.values[1:len(sumstat_list.columns.values)].tolist())\n",
    "\n",
    "## Assuming all the input sumstat are using the same header\n",
    "parameter: CHR = \"chr\"\n",
    "parameter: POS = \"pos\"\n",
    "parameter: A0 = \"ref\" \n",
    "parameter: A1 = \"alt\"\n",
    "parameter: SNP = \"variant_id\"\n",
    "parameter: STAT = \"beta\"\n",
    "parameter: SE: = \"se\"\n",
    "parameter: P = \"pval\"\n",
    "parameter: KEEP_AMBIGUOUS = \"True\"\n"
   ]
  },
  {
   "cell_type": "code",
   "execution_count": null,
   "id": "9a4f4572-99bd-4e5f-bb8f-cef16ae7ec53",
   "metadata": {
    "kernel": "SoS"
   },
   "outputs": [],
   "source": [
    "[yml_generator]\n",
    "input: for_each  = \"sumstat_inv\"\n",
    "output: f'{wd:a}/{name}.{_sumstat_inv[0]}/{name}.{_sumstat_inv[0]}.yml'\n",
    "bash: expand = \"$[ ]\", stderr = f'{_output}.stderr', stdout = f'{_output}.stdout'\n",
    "        echo '\n",
    "        INPUT:' > $[_output]\n",
    "\n",
    "        for i in $[\" \".join(_sumstat_inv[1:len(_sumstat_inv)])] ; do \n",
    "        echo \"  \n",
    "            - $i:\n",
    "                CHR: $[CHR]\n",
    "                POS: $[POS]\n",
    "                A0: $[REF]\n",
    "                A1: $[ALT]\n",
    "                SNP: $[SNP]\n",
    "                STAT: $[BETA]\n",
    "                SE: $[SE]\n",
    "                P: $[P]\" >> $[_output];\n",
    "        done \n",
    "        \n",
    "        echo \"\n",
    "        Target:\n",
    "            - $[_sumstat_inv[1]]:\n",
    "                CHR: $[CHR]\n",
    "                POS: $[POS]\n",
    "                A0: $[REF]\n",
    "                A1: $[ALT]\n",
    "                SNP: $[SNP]\n",
    "                STAT: $[BETA]\n",
    "                SE: $[SE]\n",
    "                P: $[P]\n",
    "        OUTPUT: $[_output:d]\n",
    "        KEEP_AMBIGUOUS: $[KEEP_AMBIGUOUS]\" >> $[_output]"
   ]
  },
  {
   "cell_type": "code",
   "execution_count": null,
   "id": "f7740ce4-11cc-40fb-8373-2b8012ec4139",
   "metadata": {
    "kernel": "SoS"
   },
   "outputs": [],
   "source": []
  },
  {
   "cell_type": "code",
   "execution_count": null,
   "id": "315bfd79-fcbf-4826-a200-59187953b053",
   "metadata": {
    "kernel": "SoS"
   },
   "outputs": [],
   "source": [
    "[yml_list]\n",
    "input: output_from(\"generator\"),group_by = \"all\"\n",
    "output: f'{wd:a}/yml_list.txt'\n",
    "python: expand = \"$[ ]\", stderr = f'{_output}.stderr', stdout = f'{_output}.stdout'\n",
    "        import pandas as pd\n",
    "        yml_df = pd.DataFrame({\"#chr\" : pd.read_csv($[sumstat_list_path:r],sep = \"\\t\")[\"#chr\"].values.tolist()  ,  \"dir\"  : [$[_input:r,]] })\n",
    "        yml_df.to_csv(\"$[_output]\",sep = \"\\t\",index = 0)"
   ]
  },
  {
   "cell_type": "code",
   "execution_count": null,
   "id": "abe663e2-1ab6-47d2-81ee-c03a828d82bc",
   "metadata": {
    "kernel": "SoS"
   },
   "outputs": [],
   "source": []
  }
 ],
 "metadata": {
  "kernelspec": {
   "display_name": "SoS",
   "language": "sos",
   "name": "sos"
  },
  "language_info": {
   "codemirror_mode": "sos",
   "file_extension": ".sos",
   "mimetype": "text/x-sos",
   "name": "sos",
   "nbconvert_exporter": "sos_notebook.converter.SoS_Exporter",
   "pygments_lexer": "sos"
  },
  "sos": {
   "kernels": [
    [
     "SoS",
     "sos",
     "",
     ""
    ]
   ],
   "version": "0.22.6"
  }
 },
 "nbformat": 4,
 "nbformat_minor": 5
}
