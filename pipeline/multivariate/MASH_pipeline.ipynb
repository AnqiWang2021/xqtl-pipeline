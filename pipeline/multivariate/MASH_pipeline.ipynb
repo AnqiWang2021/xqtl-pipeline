{
 "cells": [
  {
   "cell_type": "markdown",
   "id": "indian-christmas",
   "metadata": {
    "kernel": "SoS",
    "tags": []
   },
   "source": [
    "# Multivariate association with MASH\n",
    "This note book document the process of meta analysis using mash. \n",
    "\n",
    "The output of association scan, and optionally the output from METAL, will undergo a reformmating process, and then fed into the MASH module to generate\n",
    "1. MASH result in vcf format\n",
    "2. Mixture prior for MvSuSIE_RSS"
   ]
  },
  {
   "cell_type": "markdown",
   "id": "fd4541c3-a784-4778-a1a0-9ddb6a25ddc6",
   "metadata": {
    "kernel": "SoS",
    "tags": []
   },
   "source": [
    "# Data Processing"
   ]
  },
  {
   "cell_type": "markdown",
   "id": "4ae3ec02-3e34-44da-82fd-a7a4ab8e8dab",
   "metadata": {
    "kernel": "SoS"
   },
   "source": [
    "## Allele flip QC\n",
    "1. feed a table of sumstat to yml_generator\n",
    "2. yml_generator will provide the yml template for allele flip qc\n",
    "3. The output sumstat_list can direct the next step"
   ]
  },
  {
   "cell_type": "code",
   "execution_count": null,
   "id": "31fb9871-196c-48e9-bc94-1fe4f60d83e2",
   "metadata": {
    "kernel": "SoS"
   },
   "outputs": [],
   "source": [
    "nohup sos run /home/hs3163/GIT/xqtl-pipeline/pipeline/misc/yml_generator.ipynb yml_list \\\n",
    "--sumstat_list_path /mnt/mfs/statgen/xqtl_workflow_testing/success_example/testing_no_cov/QTL_association/sumstat_list  \\\n",
    "--wd ./  &\n",
    "\n",
    "nohup sos run /home/hs3163/GIT/xqtl-pipeline/pipeline/misc/summary_stats_merger.ipynb \\\n",
    "--yml_list  /mnt/mfs/statgen/xqtl_workflow_testing/module/Merge/yml_list.txt  \\\n",
    "--cwd ./  &"
   ]
  },
  {
   "cell_type": "markdown",
   "id": "db6108c4-dbb0-43fe-874d-97a1e3ac2e1f",
   "metadata": {
    "kernel": "SoS"
   },
   "source": [
    "## Merging and partitioning\n",
    "This step takes in the qced sumstat_list from the previouse step and generate a merged rds for each gene. To feed into downstream analysis "
   ]
  },
  {
   "cell_type": "code",
   "execution_count": null,
   "id": "5e7b21d2-f05e-4df0-9eca-f908493d2402",
   "metadata": {
    "kernel": "SoS"
   },
   "outputs": [],
   "source": [
    "nohup sos run /home/hs3163/GIT/xqtl-pipeline/pipeline/multivariate/MASH/sumstat_processing.ipynb processing \\\n",
    "--sumstat_list_path /mnt/mfs/statgen/xqtl_workflow_testing/module/Merge/qc_sumstat_list.txt \\\n",
    "--region_list /home/hs3163/GIT/ADSPFG-xQTL/MWE/mwe_region_long \\\n",
    "--wd ./  --container /mnt/mfs/statgen/containers/xqtl_pipeline_sif/base-bioinfo.sif -s force &"
   ]
  },
  {
   "cell_type": "markdown",
   "id": "through-cycling",
   "metadata": {
    "kernel": "Markdown",
    "tags": []
   },
   "source": [
    "## Extract effect\n",
    "The stronges, the random, and the null signal will be extracted for each gene, and merged into 1 rds for downstream analysis"
   ]
  },
  {
   "cell_type": "code",
   "execution_count": null,
   "id": "extreme-siemens",
   "metadata": {
    "kernel": "SoS"
   },
   "outputs": [],
   "source": [
    "nohup sos run /home/hs3163/GIT/xqtl-pipeline/pipeline/multivariate/MASH/Signal_Extraction.ipynb extract_effects \\\n",
    "            --cwd ./ \\\n",
    "            --container /mnt/mfs/statgen/containers/twas_latest.sif \\\n",
    "            --name  \"PCC_DLPFC_AC\" \\\n",
    "            --analysis_units /mnt/mfs/statgen/xqtl_workflow_testing/module/Merge/merge/RDS/PCC_DLPFC_AC.analysis_unit  -s force &"
   ]
  },
  {
   "cell_type": "markdown",
   "id": "3d7df363-5723-4559-adc7-13693ca8637a",
   "metadata": {
    "kernel": "SoS"
   },
   "source": [
    "# Mash Analysis"
   ]
  },
  {
   "cell_type": "markdown",
   "id": "extraordinary-christianity",
   "metadata": {
    "kernel": "SoS"
   },
   "source": [
    "## Construct of MASH Model"
   ]
  },
  {
   "cell_type": "code",
   "execution_count": null,
   "id": "neural-emerald",
   "metadata": {
    "kernel": "SoS"
   },
   "outputs": [],
   "source": [
    "nohup sos run /home/hs3163/GIT/xqtl-pipeline/pipeline/multivariate/MASH/mashr.ipynb mash \\\n",
    "            --cwd ./ \\\n",
    "            --container /mnt/mfs/statgen/containers/twas_latest.sif \\\n",
    "            --output_prefix \"PCC_DLPFC_AC\" \\\n",
    "            --data /mnt/mfs/statgen/xqtl_workflow_testing/module/MASH/PCC_DLPFC_AC.rds -s force &"
   ]
  },
  {
   "cell_type": "markdown",
   "id": "contained-conservation",
   "metadata": {
    "kernel": "SoS",
    "tags": []
   },
   "source": [
    "## MASH Posterior\n",
    "Run the following command in the same working directory as the previouse step"
   ]
  },
  {
   "cell_type": "code",
   "execution_count": null,
   "id": "wanted-slide",
   "metadata": {
    "kernel": "SoS"
   },
   "outputs": [],
   "source": [
    "nohup sos run /home/hs3163/GIT/xqtl-pipeline/pipeline/multivariate/MASH/mashr.ipynb posterior \\\n",
    "            --cwd ./ \\\n",
    "            --container /mnt/mfs/statgen/containers/twas_latest.sif \\\n",
    "            --output_prefix \"PCC_DLPFC_AC\" \\\n",
    "            --analysis_units /mnt/mfs/statgen/xqtl_workflow_testing/module/Merge/merge/RDS/PCC_DLPFC_AC.analysis_unit  &"
   ]
  },
  {
   "cell_type": "markdown",
   "id": "fifth-conditioning",
   "metadata": {
    "kernel": "SoS"
   },
   "source": [
    "## Convert MASH result RDS to VCF\n",
    "Running the follwoing code using the mash_output_list from the previouse step as input can covert all the mash RDS into vcf format"
   ]
  },
  {
   "cell_type": "code",
   "execution_count": null,
   "id": "elect-essay",
   "metadata": {
    "kernel": "SoS"
   },
   "outputs": [],
   "source": [
    "        nohup sos run /home/hs3163/GIT/xqtl-pipeline/pipeline/misc/rds_to_vcf.ipynb rds_to_vcf \\\n",
    "            --wd ./ \\\n",
    "            --container /mnt/mfs/statgen/containers/twas_latest.sif \\\n",
    "            --name \"PCC_DLPFC_AC\" \\\n",
    "            --analysis_units   /mnt/mfs/statgen/xqtl_workflow_testing/module/MASH/mash_output_list"
   ]
  }
 ],
 "metadata": {
  "kernelspec": {
   "display_name": "SoS",
   "language": "sos",
   "name": "sos"
  },
  "language_info": {
   "codemirror_mode": "sos",
   "file_extension": ".sos",
   "mimetype": "text/x-sos",
   "name": "sos",
   "nbconvert_exporter": "sos_notebook.converter.SoS_Exporter",
   "pygments_lexer": "sos"
  },
  "sos": {
   "kernels": [
    [
     "Markdown",
     "markdown",
     "markdown",
     "",
     ""
    ]
   ],
   "version": "0.22.6"
  }
 },
 "nbformat": 4,
 "nbformat_minor": 5
}
