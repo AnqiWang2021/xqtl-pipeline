{
 "cells": [
  {
   "cell_type": "markdown",
   "id": "indian-christmas",
   "metadata": {
    "kernel": "SoS",
    "tags": []
   },
   "source": [
    "# Multivariate association with MASH\n",
    "This note book document the process of meta analysis using mash. \n",
    "\n",
    "The output of association scan, and optionally the output from METAL, will undergo a reformmating process, and then fed into the MASH module to generate\n",
    "1. MASH result in vcf format\n",
    "2. Mixture prior for MvSuSIE_RSS"
   ]
  },
  {
   "cell_type": "markdown",
   "id": "fd4541c3-a784-4778-a1a0-9ddb6a25ddc6",
   "metadata": {
    "kernel": "SoS",
    "tags": []
   },
   "source": [
    "# Data Processing"
   ]
  },
  {
   "cell_type": "markdown",
   "id": "4ae3ec02-3e34-44da-82fd-a7a4ab8e8dab",
   "metadata": {
    "kernel": "SoS"
   },
   "source": [
    "## Allele flip QC"
   ]
  },
  {
   "cell_type": "code",
   "execution_count": null,
   "id": "31fb9871-196c-48e9-bc94-1fe4f60d83e2",
   "metadata": {
    "kernel": "SoS"
   },
   "outputs": [],
   "source": [
    "nohup sos run /home/hs3163/GIT/xqtl-pipeline/pipeline/misc/yml_generator.ipynb yml_list \\\n",
    "--sumstat_list_path /mnt/mfs/statgen/xqtl_workflow_testing/success_example/testing_no_cov/QTL_association/sumstat_list  \\\n",
    "--wd ./  &\n",
    "\n",
    "nohup sos run /home/hs3163/GIT/xqtl-pipeline/pipeline/misc/allele_flip_qc.ipynb \\\n",
    "--yml_list  /mnt/mfs/statgen/xqtl_workflow_testing/module/Merge/yml_list.txt  \\\n",
    "--cwd ./  &"
   ]
  },
  {
   "cell_type": "markdown",
   "id": "db6108c4-dbb0-43fe-874d-97a1e3ac2e1f",
   "metadata": {
    "kernel": "SoS"
   },
   "source": [
    "## Merging and partitioning\n",
    "This step takes in the qced sumstat from the previouse step and generate a merged rds for each gene. To feed into downstream analysis "
   ]
  },
  {
   "cell_type": "code",
   "execution_count": null,
   "id": "5e7b21d2-f05e-4df0-9eca-f908493d2402",
   "metadata": {
    "kernel": "SoS"
   },
   "outputs": [],
   "source": [
    "nohup sos run /home/hs3163/GIT/xqtl-pipeline/pipeline/multivariate/MASH/sumstat_merger.ipynb merge \\\n",
    "--yml_list    \\\n",
    "--wd ./  &"
   ]
  },
  {
   "cell_type": "markdown",
   "id": "through-cycling",
   "metadata": {
    "kernel": "Markdown",
    "tags": []
   },
   "source": [
    "## Extract effect\n"
   ]
  },
  {
   "cell_type": "code",
   "execution_count": null,
   "id": "extreme-siemens",
   "metadata": {
    "kernel": "SoS"
   },
   "outputs": [],
   "source": [
    "[extract_effects]\n",
    "input: output_from(\"merge_and_alleleQC\")[\"merged_analysis_unit\"]\n",
    "output: extracted_effect = f'{wd}/sumstat/{Theme_prefix}.rds'\n",
    "bash: expand = \"$[ ]\", stderr = f'{_output[0]}.stderr', stdout = f'{_output[0]}.stdout'\n",
    "            sos run $[exe_dir]/Meta_Analysis/Reformatting/Signal_Extraction.ipynb extract_effects \\\n",
    "            --cwd $[wd]/sumstat/ \\\n",
    "            --container $[container] \\\n",
    "            --name $[Theme_prefix] \\\n",
    "            --analysis_units $[_input] \\\n",
    "            -J $[J] -q $[queue] -c $[yml]"
   ]
  },
  {
   "cell_type": "markdown",
   "id": "3d7df363-5723-4559-adc7-13693ca8637a",
   "metadata": {
    "kernel": "SoS"
   },
   "source": [
    "# Mash Analysis"
   ]
  },
  {
   "cell_type": "markdown",
   "id": "extraordinary-christianity",
   "metadata": {
    "kernel": "SoS"
   },
   "source": [
    "## Factor analysis and MASH Model"
   ]
  },
  {
   "cell_type": "code",
   "execution_count": null,
   "id": "neural-emerald",
   "metadata": {
    "kernel": "SoS"
   },
   "outputs": [],
   "source": [
    "[MASH_FLASH]\n",
    "parameter: effect_model = 'EZ'\n",
    "parameter: mixture_components = ['flash', 'flash_nonneg', 'pca',\"canonical\"]\n",
    "input: output_from(\"extract_effects\")[\"extracted_effect\"]\n",
    "output: MASH_model = f\"{wd}/sumstat/{Theme_prefix}.{effect_model}.V_{vhat}.mash_model.rds\",\n",
    "        resid_corr = f\"{wd}/sumstat/{Theme_prefix}.{effect_model}.V_{vhat}.rds\",\n",
    "        flash_output = [f\"{wd}/sumstat/{Theme_prefix}.{m}.rds\" for m in mixture_components]\n",
    "bash: expand = \"$[ ]\", stderr = f'{_output[0]}.stderr', stdout = f'{_output[0]}.stdout'\n",
    "            sos run $[exe_dir]/Meta_Analysis/MASH/mashr_flashr_workflow.ipynb mash \\\n",
    "            --cwd $[wd]/sumstat/ \\\n",
    "            --container $[container] \\\n",
    "            --effect_model $[effect_model] \\\n",
    "            --vhat $[vhat] \\\n",
    "            --output_prefix $[Theme_prefix] \\\n",
    "            --data $[_input] \\\n",
    "            -J $[J] -q $[queue] -c $[yml]"
   ]
  },
  {
   "cell_type": "code",
   "execution_count": null,
   "id": "favorite-porcelain",
   "metadata": {
    "kernel": "SoS"
   },
   "outputs": [],
   "source": []
  },
  {
   "cell_type": "markdown",
   "id": "contained-conservation",
   "metadata": {
    "kernel": "SoS",
    "tags": []
   },
   "source": [
    "## MASH Posterior"
   ]
  },
  {
   "cell_type": "code",
   "execution_count": null,
   "id": "wanted-slide",
   "metadata": {
    "kernel": "SoS"
   },
   "outputs": [],
   "source": [
    "[MASH_posterior]\n",
    "parameter: effect_model = 'EZ'\n",
    "parameter: mixture_components = ['flash', 'flash_nonneg', 'pca',\"canonical\"]\n",
    "analysis_units = f'{wd}/sumstat/merged_analysis_unit.txt'\n",
    "regions = [x.replace(\"\\\"\",\"\").strip().split() for x in open(analysis_units).readlines() if x.strip() and not x.strip().startswith('#')]\n",
    "gene = [x[0] for x in regions]\n",
    "input: output_from(\"MASH_FLASH\")[\"MASH_model\"], regions\n",
    "output: mash_output_list = f'{wd}/sumstat/mash_output_list'\n",
    "bash: expand = \"$[ ]\", stderr = f'{_output[0]}.stderr', stdout = f'{_output[0]}.stdout'\n",
    "            sos run $[exe_dir]/Meta_Analysis/MASH/mash_posterior.ipynb  posterior \\\n",
    "            --cwd $[wd]/sumstat/ \\\n",
    "            --container $[container] \\\n",
    "            --mash_model $[_input[0]] \\\n",
    "            --vhat $[vhat] \\\n",
    "            --output_prefix $[Theme_prefix] \\\n",
    "            --posterior_input  $[\" \".join(gene)] \\\n",
    "            -J $[J] -q $[queue] -c $[yml]"
   ]
  },
  {
   "cell_type": "markdown",
   "id": "great-baking",
   "metadata": {
    "kernel": "SoS"
   },
   "source": [
    "## Mixture Prior"
   ]
  },
  {
   "cell_type": "code",
   "execution_count": null,
   "id": "racial-organizer",
   "metadata": {
    "kernel": "SoS"
   },
   "outputs": [],
   "source": [
    "[Mixture_prior]\n",
    "parameter: effect_model = 'EZ'\n",
    "parameter: mixture_components = ['flash', 'flash_nonneg', 'pca',\"canonical\"]\n",
    "parameter: mixture_prior_method = \"ed_bovy\"\n",
    "input: output_from(\"MASH_FLASH\")[\"MASH_model\"], output_from(\"extract_effects\")[\"extracted_effect\"]\n",
    "analysis_units = f'{wd}/sumstat/merged_analysis_unit.txt'\n",
    "regions = [x.replace(\"\\\"\",\"\").strip().split() for x in open(analysis_units).readlines() if x.strip() and not x.strip().startswith('#')]\n",
    "output: mixture_prior = f'{wd}/../Fine_Mapping/Mixture_Prior/{Theme_prefix}.{mixture_prior_method}.V_{vhat}.rds'\n",
    "bash: expand = \"$[ ]\", stderr = f'{_output[0]}.stderr', stdout = f'{_output[0]}.stdout'\n",
    "            sos run $[exe_dir]/Meta_Analysis/MASH/mixture_prior.ipynb $[mixture_prior_method] \\\n",
    "            --cwd $[wd] \\\n",
    "            --container $[container] \\\n",
    "            --name $[Theme_prefix] \\\n",
    "            --vhat $[vhat] \\\n",
    "            --data  $[_input[1]] \\\n",
    "            --name $[Theme_prefix] \\\n",
    "            -J $[J] -q $[queue] -c $[yml]"
   ]
  },
  {
   "cell_type": "markdown",
   "id": "fifth-conditioning",
   "metadata": {
    "kernel": "SoS"
   },
   "source": [
    "## RDS to VCF"
   ]
  },
  {
   "cell_type": "code",
   "execution_count": null,
   "id": "elect-essay",
   "metadata": {
    "kernel": "SoS"
   },
   "outputs": [],
   "source": [
    "[RDS2VCF]\n",
    "parameter: data_dir = path(\"/\")\n",
    "input: output_from(\"MASH_posterior\")[\"mash_output_list\"]\n",
    "output: f'{wd}/mash_vcf/vcf_output_list.txt'\n",
    "bash: expand = \"$[ ]\", stderr = f'{_output[0]}.stderr', stdout = f'{_output[0]}.stdout'\n",
    "        sos run $[exe_dir]/Meta_Analysis/Reformatting/RDS_to_vcf.ipynb rds_to_vcf \\\n",
    "            --wd $[wd]/ \\\n",
    "            --container $[container] \\\n",
    "            --name $[Theme_prefix] \\\n",
    "            --analysis_units $[_input] \\\n",
    "            --data_dir $[data_dir]  \\\n",
    "            -J $[J] -q $[queue] -c $[yml]"
   ]
  }
 ],
 "metadata": {
  "kernelspec": {
   "display_name": "SoS",
   "language": "sos",
   "name": "sos"
  },
  "language_info": {
   "codemirror_mode": "sos",
   "file_extension": ".sos",
   "mimetype": "text/x-sos",
   "name": "sos",
   "nbconvert_exporter": "sos_notebook.converter.SoS_Exporter",
   "pygments_lexer": "sos"
  },
  "sos": {
   "kernels": [
    [
     "Markdown",
     "markdown",
     "markdown",
     "",
     ""
    ]
   ],
   "version": "0.22.6"
  }
 },
 "nbformat": 4,
 "nbformat_minor": 5
}
