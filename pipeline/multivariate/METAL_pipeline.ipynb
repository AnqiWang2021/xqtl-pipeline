{
 "cells": [
  {
   "cell_type": "markdown",
   "id": "naked-array",
   "metadata": {
    "kernel": "SoS",
    "tags": []
   },
   "source": [
    "# Meta-analysis with METAL\n",
    "This note book document the process of meta analysis. \n",
    "\n",
    "The output of QTL association that are to be analysis via METAL will be analysis by the METAL module, and produce:\n",
    "1. a list of sumstat that can be used for MASH and mvsusie_RSS analysis \n",
    "2. a list of sumstat in vcf format that served as the end product of the analysis."
   ]
  },
  {
   "cell_type": "markdown",
   "id": "colored-replacement",
   "metadata": {
    "kernel": "Markdown",
    "tags": []
   },
   "source": [
    "# METAL"
   ]
  },
  {
   "cell_type": "code",
   "execution_count": null,
   "id": "critical-consortium",
   "metadata": {
    "kernel": "SoS"
   },
   "outputs": [],
   "source": [
    "nohup sos run /home/hs3163/GIT/xqtl-pipeline/pipeline/multivariate/METAL/METAL.ipynb METAL \\\n",
    "--sumstat_list_path /mnt/mfs/statgen/xqtl_workflow_testing/module/sumstat_list   \\\n",
    "--wd ./  &"
   ]
  }
 ],
 "metadata": {
  "kernelspec": {
   "display_name": "SoS",
   "language": "sos",
   "name": "sos"
  },
  "language_info": {
   "codemirror_mode": "sos",
   "file_extension": ".sos",
   "mimetype": "text/x-sos",
   "name": "sos",
   "nbconvert_exporter": "sos_notebook.converter.SoS_Exporter",
   "pygments_lexer": "sos"
  },
  "sos": {
   "kernels": [
    [
     "Markdown",
     "markdown",
     "markdown",
     "",
     ""
    ]
   ],
   "version": "0.22.6"
  }
 },
 "nbformat": 4,
 "nbformat_minor": 5
}
