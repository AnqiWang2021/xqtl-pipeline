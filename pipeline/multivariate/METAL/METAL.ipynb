{
 "cells": [
  {
   "cell_type": "markdown",
   "id": "announced-cowboy",
   "metadata": {
    "kernel": "SoS",
    "tags": []
   },
   "source": [
    "# Meta-analysis with METAL"
   ]
  },
  {
   "cell_type": "markdown",
   "id": "driven-stevens",
   "metadata": {
    "kernel": "SoS"
   },
   "source": [
    "METAT is a command line tool, takes in a script that documenting the input sumstat files, the field of each of those sumstat input file, and then the end of scipt.\n",
    "\n",
    "METAL analysis is enssentially a weighted sum of Z score, therefore the input of snps from each chrm can be processed seperately. To make sure the same region was analysis, the input of this workflow shall be a list of path to the sumstat, join by \" \" to be analyzed at once.\n",
    "\n",
    "Also, The scheme of weighting at the moment is set to be standard error, changing it to sample size would require the upstream input have a columns named sample size, which they dont have it yet.\n",
    "\n",
    "At the moment, the AVERAGEFREQ, MINMAXFREQ, and GENOMICCONTROL are by default set to off, turning on each of the option require additional input from upstream file.\n",
    "\n",
    "The output file name of the seconde step will by default contains a 1 linking the desinateted prefix and surfix, which lead to the f'{wd}/{name}1.METAL.txt' file name"
   ]
  },
  {
   "cell_type": "code",
   "execution_count": null,
   "id": "valuable-violation",
   "metadata": {
    "kernel": "SoS"
   },
   "outputs": [],
   "source": [
    "[global]\n",
    "parameter: sumstat_list = list\n",
    "parameter: name = str\n",
    "parameter: variant_id = 'variant_id'\n",
    "parameter: Sample_size = 'N'\n",
    "parameter: ALLELE = 'alt ref'\n",
    "parameter: FREQ   = 'EFFECT_ALLELE_FREQ'\n",
    "parameter: Beta = 'beta'\n",
    "parameter: SE = 'se'\n",
    "parameter: PVAL   = 'pval'\n",
    "parameter: wd = path\n",
    "parameter: SCHEME = 'STDERR'\n",
    "parameter: AVERAGEFREQ = \"OFF\"\n",
    "parameter: MINMAXFREQ  = \"OFF\"\n",
    "parameter: GENOMICCONTROL  = \"OFF\"\n",
    "import pandas as pd\n",
    "\n",
    "sumstat_inv = pd.read_csv(sumstat_list, sep = \"\\t\").values.tolist()\n",
    "\n",
    "\n",
    "\n"
   ]
  },
  {
   "cell_type": "markdown",
   "id": "necessary-hormone",
   "metadata": {
    "kernel": "SoS"
   },
   "source": [
    "### Step.1 Script generation\n",
    "The METAL script contains three sections, the first is the analysis parameters, the second is the inputs files, and the third is the ending of script."
   ]
  },
  {
   "cell_type": "code",
   "execution_count": null,
   "id": "settled-march",
   "metadata": {
    "kernel": "SoS"
   },
   "outputs": [],
   "source": [
    "[METAL_1,generate_METAL_script]\n",
    "input:  sumstat_inv, group_by = 1\n",
    "output: METAL_script = f'{wd}/{name}.{_input[0]}.METAL_script.txt'\n",
    "bash: expand = \"$[ ]\", stderr = f'{_output}.stderr', stdout = f'{_output}.stdout'\n",
    "        echo '\n",
    "        # Meta-analysis weighted by:\n",
    "        SCHEME   $[SCHEME]\n",
    "        \n",
    "        # Whether do genomics control\n",
    "        GENOMICCONTROL $[GENOMICCONTROL]\n",
    "        \n",
    "        # Whether do AVERAGEFREQ or MINMAXFREQ control\n",
    "        AVERAGEFREQ $[AVERAGEFREQ]\n",
    "        MINMAXFREQ $[MINMAXFREQ] \n",
    "        OUTFILE $[wd]/$[name] .METAL.txt' > $[_output]\n",
    "\n",
    "        for i in $[\" \".join(_input[1:len(_input)])] ; do \n",
    "        echo \"     \n",
    "        MARKER   $[variant_id]\n",
    "        WEIGHT   $[Sample_size]\n",
    "        ALLELE   $[ALLELE]\n",
    "        #FREQ     $[FREQ]\n",
    "        EFFECT   $[Beta]\n",
    "        STDERR   $[SE]\n",
    "        PVAL     $[PVAL]\n",
    "        PROCESS  $i \" >> $[_output];\n",
    "        done \n",
    "        \n",
    "        echo '\n",
    "        ANALYZE' >> $[_output]"
   ]
  },
  {
   "cell_type": "markdown",
   "id": "ad04c1fd-df98-420a-9d25-f11a5f176fd7",
   "metadata": {
    "kernel": "SoS"
   },
   "source": [
    "## Step 2. Metal analysis"
   ]
  },
  {
   "cell_type": "code",
   "execution_count": null,
   "id": "diverse-cooler",
   "metadata": {
    "kernel": "SoS"
   },
   "outputs": [],
   "source": [
    "[METAL_2,Excute_METAL_script]\n",
    "input: group_with = \"sumstat_inv\"\n",
    "output: METAL_result = f'{wd}/{name}.{_sumstat_inv[0]}.1.METAL.txt'\n",
    "bash: expand = \"$[ ]\", stderr = f'{_output[0]}.stderr', stdout = f'{_output[0]}.stdout'\n",
    "       metal $[_input]"
   ]
  },
  {
   "cell_type": "markdown",
   "id": "95f1ac00-c534-4160-9862-43094ba855b3",
   "metadata": {
    "kernel": "SoS"
   },
   "source": [
    "## Step 3. Reformat the output so that they are in the same formmat as the non metaled one"
   ]
  },
  {
   "cell_type": "code",
   "execution_count": null,
   "id": "noticed-humanitarian",
   "metadata": {
    "kernel": "SoS"
   },
   "outputs": [],
   "source": [
    "[METAL_3,Output_reformatting]\n",
    "input: group_with = \"sumstat_inv\"\n",
    "output: METAL_result = f'{wd}/{name}.{_sumstat_inv[0]}.METAL.txt'\n",
    "python: expand = \"$[ ]\", stderr = f'{_output[0]}.stderr', stdout = f'{_output[0]}.stdout'\n",
    "        import pandas as pd\n",
    "        df = pd.read_csv($[_input:r],sep = \"\\t\")\n",
    "        df.columns = [\"variant_id\",\"alt\",\"ref\",\"Weight\",\"beta\",\"pval\",\"Direction\"]\n",
    "        df = df.assign(se = 1)\n",
    "        df.to_csv(\"$[_output]\",sep = \"\\t\",index = 0)"
   ]
  },
  {
   "cell_type": "code",
   "execution_count": null,
   "id": "ec6888f3-88cd-4977-b4ce-a81690710cf3",
   "metadata": {
    "kernel": "SoS"
   },
   "outputs": [],
   "source": [
    "[METAL_4,recipe]\n",
    "input: group_by = \"all\"\n",
    "output: METAL_result = f'{wd}/{name}.METAL_list.txt'\n",
    "python: expand = \"$[ ]\", stderr = f'{_output}.stderr', stdout = f'{_output}.stdout'\n",
    "        import pandas as pd\n",
    "        df = pd.read_csv(sumstat_list, sep = \"\\t\")[\"#chr\"].assign( \"METAL_dir\"  = [$[_input:r,]] )\n",
    "        df.to_csv(\"$[_output]\",sep = \"\\t\",index = 0)"
   ]
  }
 ],
 "metadata": {
  "kernelspec": {
   "display_name": "SoS",
   "language": "sos",
   "name": "sos"
  },
  "language_info": {
   "codemirror_mode": "sos",
   "file_extension": ".sos",
   "mimetype": "text/x-sos",
   "name": "sos",
   "nbconvert_exporter": "sos_notebook.converter.SoS_Exporter",
   "pygments_lexer": "sos"
  },
  "sos": {
   "kernels": [
    [
     "SoS",
     "sos",
     "",
     ""
    ]
   ],
   "version": "0.22.6"
  }
 },
 "nbformat": 4,
 "nbformat_minor": 5
}
