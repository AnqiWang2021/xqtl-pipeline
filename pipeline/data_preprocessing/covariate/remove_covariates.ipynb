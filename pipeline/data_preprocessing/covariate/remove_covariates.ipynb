{
 "cells": [
  {
   "cell_type": "markdown",
   "id": "acute-puppy",
   "metadata": {
    "kernel": "SoS",
    "tags": []
   },
   "source": [
    "# Computing covariate residuals\n",
    "This workflow calculate the adjusted molecular phenotype data to adjust for additional covariates (i.e. kingship)\n",
    "\n",
    "### Rational for covariate correction:\n",
    "**FIXME:may need additional review for this paragarph:**\n",
    "\n",
    "\n",
    "When we are doing xQtl analysis, typically, we performe variaous adjustment on both genotype matrix `X` as well as molecular phenotype matrix `Y`. This adjusting factors include sex, age, platform, etc. The overall goal of various adjustment is to rule out potential confounders in the analysis. \n",
    "\n",
    "However, when we are doing analysis, we may not always using the adjusted version of input data. Since `X` and `Y` are treated differerntly by differernt softwares, the corrected factors may not be identical. Specially, the correction in molecular phenotype matrix `Y` may be lesser that the genotype matrix `X`. This workflow implement additional covariate adjustment with regard to `Y`\n",
    "\n",
    "\n",
    "### Method:\n",
    "\n",
    "We regress out covariate `Z` out of `Y` by following methods: \n",
    "\n",
    "* Step 1: Regress `Y ~ Z`, get the estimated `βz`\n",
    "\n",
    "* Step 2: Calculate `Y' = Y -  Z %*% βz` \n",
    "\n",
    "Since the output of step 2 is actually the residual of `Y` when regression `Z` out of `Y` , so our method is actually calculating the covariate residuals. \n",
    "\n",
    "**FIXME (need verfication):** Computationanlly, estimating `βz` needs `Z` to be full rank, result in `Z^T %*% Z` to be invertible. If `Z` is in low rank, we output an error.\n",
    "\n",
    "\n",
    "### Input\n",
    "\n",
    "\n",
    "### Output\n",
    "\n",
    "\n",
    "(Other topics / Codes waiting to be adjust)"
   ]
  },
  {
   "cell_type": "code",
   "execution_count": 2,
   "id": "operational-medicaid",
   "metadata": {
    "kernel": "SoS"
   },
   "outputs": [],
   "source": [
    "[global]\n",
    "import os\n",
    "# Work directory & output directory\n",
    "parameter: wd = \"./\"\n",
    "# The filename name for output data\n",
    "# parameter: container = 'gaow/twas'\n",
    "# name for the analysis output\n",
    "parameter: name = 'ROSMAP'\n",
    "# For cluster jobs, number commands to run per job\n",
    "parameter: job_size = 1\n",
    "# Wall clock time expected\n",
    "parameter: walltime = \"5h\"\n",
    "# Memory expected\n",
    "parameter: mem = \"16G\"\n",
    "# Number of threads\n",
    "parameter: numThreads = 20"
   ]
  },
  {
   "cell_type": "code",
   "execution_count": null,
   "id": "industrial-guinea",
   "metadata": {
    "kernel": "SoS"
   },
   "outputs": [],
   "source": [
    "[Residual_Expression_1]\n",
    "# Path to the input molecular phenotype data.\n",
    "parameter: molecular_pheno_whole = path\n",
    "# Path to the factor file \n",
    "parameter: factor = path\n",
    "input: molecular_pheno_whole,covariate\n",
    "output: f'{wd}/cache/{name}.mol_phe.resid.bed'\n",
    "task: trunk_workers = 1, trunk_size = 1, walltime = '4h',  mem = '20G', tags = f'{step_name}_{_output[0]:bn}'\n",
    "R: expand = \"$[ ]\", stderr = f'{_output[0]}.stderr', stdout = f'{_output[0]}.stdout'#,volumes = [f'{wd:ad}:{genotype_list:ad}']\n",
    "    library(\"dplyr\")\n",
    "    library(\"tibble\")\n",
    "    library(\"readr\")\n",
    "    library(\"modelr\")\n",
    "    library(\"purrr\")\n",
    "    factor = read_delim(\"$[_input[1]]\",delim = \"\\t\")\n",
    "    pheno = read_delim(\"$[_input[0]]\",delim = \"\\t\")\n",
    "    factor = factor%>%filter(str_detect(`#id`,\"factor\"))%>%select(-`#id`)%>%as.matrix()%>%t()\n",
    "    pheno_id = pheno%>%select(gene_ID)\n",
    "    pheno = pheno%>%select(rownames(factor))%>%as.matrix()%>%t()\n",
    "    pheno_resid = .lm.fit(x = factor, y = pheno)$residuals\n",
    "    pheno_output = cbind(pheno_id, pheno_resid%>%t())\n",
    "    pheno_output%>%write_delim(\"$[_output[0]]\",delim = \"\\t\")"
   ]
  }
 ],
 "metadata": {
  "kernelspec": {
   "display_name": "SoS",
   "language": "sos",
   "name": "sos"
  },
  "language_info": {
   "codemirror_mode": "sos",
   "file_extension": ".sos",
   "mimetype": "text/x-sos",
   "name": "sos",
   "nbconvert_exporter": "sos_notebook.converter.SoS_Exporter",
   "pygments_lexer": "sos"
  },
  "sos": {
   "kernels": [
    [
     "SoS",
     "sos",
     "",
     ""
    ]
   ],
   "version": "0.22.4"
  }
 },
 "nbformat": 4,
 "nbformat_minor": 5
}
