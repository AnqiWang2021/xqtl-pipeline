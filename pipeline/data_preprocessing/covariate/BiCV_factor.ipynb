{
 "cells": [
  {
   "cell_type": "markdown",
   "id": "korean-lounge",
   "metadata": {
    "kernel": "SoS"
   },
   "source": [
    "# Factor analysis using Bi-Cross validation\n",
    "## Overview\n",
    "\n",
    "This workflow is intend to perform factor analysis module in [APEX toolkit](https://corbinq.github.io/apex/doc/mode_factor/)\n",
    "\n",
    "## Input and output:\n",
    "\n",
    "Format of main inputs and main outputs will be same as that in [PEER workflow](https://cumc.github.io/xqtl-pipeline/pipeline/data_preprocessing/covariate/PEER_factor.html):\n",
    "\n",
    "\n",
    "### Inputs:\n",
    "\n",
    "#### Required input:\n",
    "\n",
    "* `--molecular_pheno`: The expression file is used only for factor analysis. Currently, apex-factor assumes sample size is less than the number of molecular traits. Molecular trait data must be stored in `bed.gz` file format with indexing. Note that you must supply **compressed** version of `bed.gz` file and indexed. (i.e. run `bgzip your_file.bed && tabix your_file.bed.gz`). An example of `bed.gz` file will be:"
   ]
  },
  {
   "cell_type": "code",
   "execution_count": 40,
   "id": "significant-catch",
   "metadata": {
    "kernel": "R",
    "tags": []
   },
   "outputs": [
    {
     "data": {
      "text/html": [
       "<table class=\"dataframe\">\n",
       "<caption>A tibble: 3 × 8</caption>\n",
       "<thead>\n",
       "\t<tr><th scope=col>#chr</th><th scope=col>start</th><th scope=col>end</th><th scope=col>gene_ID</th><th scope=col>Sample1</th><th scope=col>Sample2</th><th scope=col>Sample3</th><th scope=col>Sample4</th></tr>\n",
       "\t<tr><th scope=col>&lt;dbl&gt;</th><th scope=col>&lt;dbl&gt;</th><th scope=col>&lt;dbl&gt;</th><th scope=col>&lt;chr&gt;</th><th scope=col>&lt;dbl&gt;</th><th scope=col>&lt;dbl&gt;</th><th scope=col>&lt;dbl&gt;</th><th scope=col>&lt;dbl&gt;</th></tr>\n",
       "</thead>\n",
       "<tbody>\n",
       "\t<tr><td>1</td><td>  1</td><td>100</td><td>Gene1</td><td> -1.627455</td><td> 1.684725</td><td> -0.0807924</td><td> 1.510522</td></tr>\n",
       "\t<tr><td>1</td><td>101</td><td>200</td><td>Gene2</td><td>-12.626715</td><td>17.746163</td><td>-14.2519447</td><td> 5.254536</td></tr>\n",
       "\t<tr><td>1</td><td>201</td><td>300</td><td>Gene3</td><td>  3.337390</td><td>-7.259074</td><td>  6.2643526</td><td>-1.375911</td></tr>\n",
       "</tbody>\n",
       "</table>\n"
      ],
      "text/latex": [
       "A tibble: 3 × 8\n",
       "\\begin{tabular}{llllllll}\n",
       " \\#chr & start & end & gene\\_ID & Sample1 & Sample2 & Sample3 & Sample4\\\\\n",
       " <dbl> & <dbl> & <dbl> & <chr> & <dbl> & <dbl> & <dbl> & <dbl>\\\\\n",
       "\\hline\n",
       "\t 1 &   1 & 100 & Gene1 &  -1.627455 &  1.684725 &  -0.0807924 &  1.510522\\\\\n",
       "\t 1 & 101 & 200 & Gene2 & -12.626715 & 17.746163 & -14.2519447 &  5.254536\\\\\n",
       "\t 1 & 201 & 300 & Gene3 &   3.337390 & -7.259074 &   6.2643526 & -1.375911\\\\\n",
       "\\end{tabular}\n"
      ],
      "text/markdown": [
       "\n",
       "A tibble: 3 × 8\n",
       "\n",
       "| #chr &lt;dbl&gt; | start &lt;dbl&gt; | end &lt;dbl&gt; | gene_ID &lt;chr&gt; | Sample1 &lt;dbl&gt; | Sample2 &lt;dbl&gt; | Sample3 &lt;dbl&gt; | Sample4 &lt;dbl&gt; |\n",
       "|---|---|---|---|---|---|---|---|\n",
       "| 1 |   1 | 100 | Gene1 |  -1.627455 |  1.684725 |  -0.0807924 |  1.510522 |\n",
       "| 1 | 101 | 200 | Gene2 | -12.626715 | 17.746163 | -14.2519447 |  5.254536 |\n",
       "| 1 | 201 | 300 | Gene3 |   3.337390 | -7.259074 |   6.2643526 | -1.375911 |\n",
       "\n"
      ],
      "text/plain": [
       "  #chr start end gene_ID Sample1    Sample2   Sample3     Sample4  \n",
       "1 1      1   100 Gene1    -1.627455  1.684725  -0.0807924  1.510522\n",
       "2 1    101   200 Gene2   -12.626715 17.746163 -14.2519447  5.254536\n",
       "3 1    201   300 Gene3     3.337390 -7.259074   6.2643526 -1.375911"
      ]
     },
     "metadata": {},
     "output_type": "display_data"
    }
   ],
   "source": [
    "readr::read_delim(\"Example_data/example_data.bed.gz\",show_col_types= F)[1:3,1:8]"
   ]
  },
  {
   "cell_type": "markdown",
   "id": "unlike-kitchen",
   "metadata": {
    "kernel": "SoS"
   },
   "source": [
    "* `--name`: The name of your final output. The final name of the output will be `{name}.APEX.cov`\n",
    "\n",
    "#### Optional inputs:\n",
    "\n",
    "* `--covariate`: The covariate file supplied. Note that the sample names should be same (case sensitive: i.e. `Sample 1` is **not** equal to `sample1`). This input will not be truly included in the calculation of APEX factors(see [here](https://corbinq.github.io/apex/doc/mode_factor/) for detail). Factors obtained from expression will sololy will be used to calculate factors and the result will be concatenated with the input covariate file. A sample covariate file is illustrated here: "
   ]
  },
  {
   "cell_type": "code",
   "execution_count": 1,
   "id": "executive-beads",
   "metadata": {
    "kernel": "R"
   },
   "outputs": [
    {
     "data": {
      "text/html": [
       "<table class=\"dataframe\">\n",
       "<caption>A tibble: 2 × 8</caption>\n",
       "<thead>\n",
       "\t<tr><th scope=col>#id</th><th scope=col>Sample1</th><th scope=col>Sample2</th><th scope=col>Sample3</th><th scope=col>Sample4</th><th scope=col>Sample5</th><th scope=col>Sample6</th><th scope=col>Sample7</th></tr>\n",
       "\t<tr><th scope=col>&lt;chr&gt;</th><th scope=col>&lt;dbl&gt;</th><th scope=col>&lt;dbl&gt;</th><th scope=col>&lt;dbl&gt;</th><th scope=col>&lt;dbl&gt;</th><th scope=col>&lt;dbl&gt;</th><th scope=col>&lt;dbl&gt;</th><th scope=col>&lt;dbl&gt;</th></tr>\n",
       "</thead>\n",
       "<tbody>\n",
       "\t<tr><td>Cov1</td><td> 1.6243454</td><td>-2.301539</td><td> 1.462108</td><td>-1.0998913</td><td>-1.100619</td><td>-0.6837279</td><td>-0.6916608</td></tr>\n",
       "\t<tr><td>Cov2</td><td>-0.6117564</td><td> 1.744812</td><td>-2.060141</td><td>-0.1724282</td><td> 1.144724</td><td>-0.1228902</td><td>-0.3967535</td></tr>\n",
       "</tbody>\n",
       "</table>\n"
      ],
      "text/latex": [
       "A tibble: 2 × 8\n",
       "\\begin{tabular}{llllllll}\n",
       " \\#id & Sample1 & Sample2 & Sample3 & Sample4 & Sample5 & Sample6 & Sample7\\\\\n",
       " <chr> & <dbl> & <dbl> & <dbl> & <dbl> & <dbl> & <dbl> & <dbl>\\\\\n",
       "\\hline\n",
       "\t Cov1 &  1.6243454 & -2.301539 &  1.462108 & -1.0998913 & -1.100619 & -0.6837279 & -0.6916608\\\\\n",
       "\t Cov2 & -0.6117564 &  1.744812 & -2.060141 & -0.1724282 &  1.144724 & -0.1228902 & -0.3967535\\\\\n",
       "\\end{tabular}\n"
      ],
      "text/markdown": [
       "\n",
       "A tibble: 2 × 8\n",
       "\n",
       "| #id &lt;chr&gt; | Sample1 &lt;dbl&gt; | Sample2 &lt;dbl&gt; | Sample3 &lt;dbl&gt; | Sample4 &lt;dbl&gt; | Sample5 &lt;dbl&gt; | Sample6 &lt;dbl&gt; | Sample7 &lt;dbl&gt; |\n",
       "|---|---|---|---|---|---|---|---|\n",
       "| Cov1 |  1.6243454 | -2.301539 |  1.462108 | -1.0998913 | -1.100619 | -0.6837279 | -0.6916608 |\n",
       "| Cov2 | -0.6117564 |  1.744812 | -2.060141 | -0.1724282 |  1.144724 | -0.1228902 | -0.3967535 |\n",
       "\n"
      ],
      "text/plain": [
       "  #id  Sample1    Sample2   Sample3   Sample4    Sample5   Sample6   \n",
       "1 Cov1  1.6243454 -2.301539  1.462108 -1.0998913 -1.100619 -0.6837279\n",
       "2 Cov2 -0.6117564  1.744812 -2.060141 -0.1724282  1.144724 -0.1228902\n",
       "  Sample7   \n",
       "1 -0.6916608\n",
       "2 -0.3967535"
      ]
     },
     "metadata": {},
     "output_type": "display_data"
    }
   ],
   "source": [
    "readr::read_delim(\"Example_data/example_cov.txt\",show_col_types= F)[,1:8]"
   ]
  },
  {
   "cell_type": "markdown",
   "id": "assumed-profile",
   "metadata": {
    "kernel": "R"
   },
   "source": [
    "* `--N`:The number of latent factor to calculate. Default is **FIXME HERE**\n",
    "\n",
    "* `--iteration`: The number of iteration used. Default is 3.  APEX **do no** recommend to run until converge.\n",
    "\n",
    "* Other apex defaults\n",
    "\n",
    "### Outputs:\n",
    "\n",
    "Outputs of this workflow will be \n",
    "\n",
    "* Two files `{name}.APEX.cov.gz` and `{name}.APEX.cov` of covariates imputed by APEX main\n",
    "\n",
    "* A file `{name}.full_APEX.cov` for downstream analysis (i.e. concatenated the covariates)\n",
    "\n",
    "## Useage:\n",
    "```sos\n",
    "    sos run BiCV_factor.ipynb APEX \\\n",
    "        --name NAME_HERE \\\n",
    "        --container_apex gouwh/apex:1.0.0 \\\n",
    "        --molecular_pheno PEER_example_data/Peer_example_data.bed.gz \\\n",
    "        --covariate PEER_example_data/Peer_example_cov.txt\n",
    "        ...\n",
    "```"
   ]
  },
  {
   "cell_type": "code",
   "execution_count": 1,
   "id": "usual-natural",
   "metadata": {
    "kernel": "SoS"
   },
   "outputs": [],
   "source": [
    "[global]\n",
    "# The output directory for generated files. MUST BE FULL PATH\n",
    "parameter: wd = path\n",
    "# For cluster jobs, number commands to run per job\n",
    "parameter: job_size = 1\n",
    "# Wall clock time expected\n",
    "parameter: walltime = \"5h\"\n",
    "# Memory expected\n",
    "parameter: mem = \"16G\"\n",
    "# Number of threads\n",
    "parameter: numThreads = 8\n",
    "# Software container option\n",
    "parameter: container_apex = str\n",
    "parameter: name = str\n",
    "\n",
    "# N PEER factors, If do not specify or specified as 0, default values suggested by \n",
    "# UCSC (based on different sample size) Will be used\n",
    "parameter: N = 10\n",
    "n_of_factor = N\n",
    "\n",
    "# Default values from PEER:\n",
    "## The number iteration: default value is 3.\n",
    "parameter: iteration = 3\n",
    "\n",
    "# The molecular phenotype matrix, in bed, after annotation\n",
    "parameter: molecular_pheno = path\n",
    "# The covariate file\n",
    "parameter: covariate = \"none\"\n",
    "\n",
    "# Other APEX defaults:\n",
    "parameter: priorp = 0\n",
    "parameter: priortau = 1"
   ]
  },
  {
   "cell_type": "code",
   "execution_count": 25,
   "id": "helpful-shanghai",
   "metadata": {
    "kernel": "Bash",
    "tags": []
   },
   "outputs": [
    {
     "name": "stdout",
     "output_type": "stream",
     "text": [
      "usage: sos run BiCV_factor.ipynb [workflow_name | -t targets] [options] [workflow_options]\n",
      "  workflow_name:        Single or combined workflows defined in this script\n",
      "  targets:              One or more targets to generate\n",
      "  options:              Single-hyphen sos parameters (see \"sos run -h\" for details)\n",
      "  workflow_options:     Double-hyphen workflow-specific parameters\n",
      "\n",
      "Workflows:\n",
      "  APEX\n",
      "  APEXX\n",
      "\n",
      "Global Workflow Options:\n",
      "  --wd VAL (as path, required)\n",
      "                        The output directory for generated files. MUST BE FULL\n",
      "                        PATH\n",
      "  --job-size 1 (as int)\n",
      "                        For cluster jobs, number commands to run per job\n",
      "  --walltime 5h\n",
      "                        Wall clock time expected\n",
      "  --mem 16384\n",
      "                        Memory expected\n",
      "  --numThreads 8 (as int)\n",
      "                        Number of threads\n",
      "  --container-apex VAL (as str, required)\n",
      "                        Software container option\n",
      "  --name VAL (as str, required)\n",
      "  --N 10 (as int)\n",
      "                        N PEER factors, If do not specify or specified as 0,\n",
      "                        default values suggested by UCSC (based on different\n",
      "                        sample size) Will be used\n",
      "  --iteration 3 (as int)\n",
      "                        Default values from PEER: The number iteration: default\n",
      "                        value is 3.\n",
      "  --molecular-pheno VAL (as path, required)\n",
      "                        The molecular phenotype matrix, in bed, after annotation\n",
      "  --covariate none\n",
      "                        The covariate file\n",
      "\n",
      "Sections\n",
      "  APEX:                 APEX factor analysis main\n",
      "  APEXX:                Combine the covaraite and the factor\n"
     ]
    }
   ],
   "source": [
    "sos run BiCV_factor.ipynb -h"
   ]
  },
  {
   "cell_type": "code",
   "execution_count": 1,
   "id": "disturbed-trinity",
   "metadata": {
    "kernel": "SoS"
   },
   "outputs": [],
   "source": [
    "# APEX factor analysis main\n",
    "[APEX_1]\n",
    "input:  molecular_pheno\n",
    "output: f'{wd}/{name}.APEX.cov.gz',\n",
    "        f'{wd}/{name}.APEX.cov'\n",
    "task: trunk_workers = 1, trunk_size = 1, walltime = '4h',  mem = '20G', tags = f'{step_name}_{_output[0]:bn}'\n",
    "bash: expand = \"$[ ]\", stderr = f'{_output[0]}.stderr', stdout = f'{_output[0]}.stdout',container = container_apex\n",
    "    \n",
    "    apex factor \\\n",
    "    --out $[_output[0]:nn] \\\n",
    "    --iter $[iteration] \\\n",
    "    --factors $[n_of_factor] \\\n",
    "    --bed $[_input] \\\n",
    "    --prior-p 0 \\\n",
    "    --prior-tau 1\n",
    "\n",
    "    gzip -dk $[_output[0]]\n",
    "\n",
    "# Combine the covaraite and the factor\n",
    "[APEX_2]\n",
    "input: f'{wd}/{name}.APEX.cov'\n",
    "output:f'{wd}/{name}.full_APEX.cov'\n",
    "task: trunk_workers = 1, trunk_size = 1, walltime = '4h',  mem = '20G', tags = f'{step_name}_{_output:bn}'\n",
    "R: expand = \"$[ ]\", stderr = f'{_output}.stderr', stdout = f'{_output}.stdout',container = container_apex\n",
    "    \n",
    "    # Function adapted from PEER\n",
    "    WriteTable <- function(data, filename, index.name) {\n",
    "      datafile <- file(filename, open = \"wt\")\n",
    "      on.exit(close(datafile))\n",
    "      header <- c(index.name, colnames(data))\n",
    "      writeLines(paste0(header, collapse = \"\\t\"), con = datafile, sep = \"\\n\")\n",
    "      write.table(data, datafile, sep = \"\\t\", col.names = F, quote = F)\n",
    "    }\n",
    "  \n",
    "    cov_impute <- read.delim($[_input:r], row.names = 1, check.names = F)\n",
    "    \n",
    "    pc <- \"$[covariate]\"\n",
    "    \n",
    "    if(pc == \"none\"){\n",
    "      WriteTable(cov_impute, $[_output:r], \"#id\")\n",
    "      }else{\n",
    "      cov_origin <- read.delim(pc, row.names = 1, check.names = F)\n",
    "      common_sample <- intersect(names(cov_origin), names(cov_impute))\n",
    "      if(length(common_sample) == 0){\n",
    "          stop(\"No common samples! \")\n",
    "      }else{\n",
    "          cov_impute <- cov_impute[,common_sample]\n",
    "          cov_origin <- cov_origin[,common_sample]\n",
    "          print(cov_origin)\n",
    "          cov_out <- rbind(cov_impute,cov_origin)\n",
    "          WriteTable(cov_out, $[_output:r], \"#id\")\n",
    "      }\n",
    "    }\n",
    "    "
   ]
  },
  {
   "cell_type": "markdown",
   "id": "systematic-hypothesis",
   "metadata": {
    "kernel": "SoS"
   },
   "source": [
    "## Minimum working example"
   ]
  },
  {
   "cell_type": "code",
   "execution_count": 45,
   "id": "polish-republican",
   "metadata": {
    "kernel": "Bash"
   },
   "outputs": [
    {
     "name": "stdout",
     "output_type": "stream",
     "text": [
      "INFO: Running \u001b[32mAPEX_1\u001b[0m: APEX factor analysis main\n",
      "HINT: Pulling docker image gouwh/apex:1.0.0\n",
      "HINT: Docker image gouwh/apex:1.0.0 is now up to date\n",
      "INFO: \u001b[32mAPEX_1\u001b[0m is \u001b[32mcompleted\u001b[0m.\n",
      "INFO: \u001b[32mAPEX_1\u001b[0m output:   \u001b[32mapex_out/apex0.APEX.cov.gz apex_out/apex0.APEX.cov\u001b[0m\n",
      "INFO: Running \u001b[32mAPEX_2\u001b[0m: Combine the covaraite and the factor\n",
      "INFO: \u001b[32mAPEX_2\u001b[0m is \u001b[32mcompleted\u001b[0m.\n",
      "INFO: \u001b[32mAPEX_2\u001b[0m output:   \u001b[32mapex_out/apex0.full_APEX.cov\u001b[0m\n",
      "INFO: Workflow APEX (ID=w1ce245c1631ad966) is executed successfully with 2 completed steps.\n"
     ]
    }
   ],
   "source": [
    "sos run BiCV_factor.ipynb APEX \\\n",
    "    --wd ./apex_out \\\n",
    "    --name apex0 \\\n",
    "    --container_apex gouwh/apex:1.0.0 \\\n",
    "    --molecular_pheno Example_data/example_data.bed.gz \\\n",
    "    --iteration 3 \\\n",
    "    --covariate Example_data/example_cov.txt"
   ]
  },
  {
   "cell_type": "code",
   "execution_count": 46,
   "id": "headed-spanish",
   "metadata": {
    "kernel": "Bash"
   },
   "outputs": [
    {
     "name": "stdout",
     "output_type": "stream",
     "text": [
      "\u001b[01;34m./apex_out\u001b[00m\n",
      "├── apex0.APEX.cov\n",
      "├── \u001b[01;31mapex0.APEX.cov.gz\u001b[00m\n",
      "├── apex0.APEX.cov.gz.stderr\n",
      "├── apex0.APEX.cov.gz.stdout\n",
      "├── apex0.full_APEX.cov\n",
      "├── apex0.full_APEX.cov.stderr\n",
      "└── apex0.full_APEX.cov.stdout\n",
      "\n",
      "0 directories, 7 files\n"
     ]
    }
   ],
   "source": [
    "tree ./apex_out"
   ]
  },
  {
   "cell_type": "code",
   "execution_count": 47,
   "id": "quiet-zealand",
   "metadata": {
    "kernel": "Bash"
   },
   "outputs": [
    {
     "name": "stdout",
     "output_type": "stream",
     "text": [
      "Using 4 threads.\n",
      "\u001b[?25l1 present in file.\n",
      "\n",
      "WARNING: No covariate file specified. That's usually a bad idea.\n",
      "    Covariates can be specified using --cov FILE. Use --rankNormal\n",
      "    to rank-normal (aka, inverse-normal) transform traits, and use\n",
      "    --rankNormal-resid for trait residuals.\n",
      "Found 200 samples in expression bed file ... \n",
      "Processed expression for 100 genes across 200 samples.\n",
      "Scaling expression traits ... \n",
      "Estimating latent factors ... \n",
      "Done.\n",
      "\u001b[?25h"
     ]
    }
   ],
   "source": [
    "cat ./apex_out/apex0.APEX.cov.gz.stdout"
   ]
  },
  {
   "cell_type": "code",
   "execution_count": null,
   "id": "bound-lemon",
   "metadata": {
    "kernel": "Bash"
   },
   "outputs": [],
   "source": []
  }
 ],
 "metadata": {
  "kernelspec": {
   "display_name": "SoS",
   "language": "sos",
   "name": "sos"
  },
  "language_info": {
   "codemirror_mode": "sos",
   "file_extension": ".sos",
   "mimetype": "text/x-sos",
   "name": "sos",
   "nbconvert_exporter": "sos_notebook.converter.SoS_Exporter",
   "pygments_lexer": "sos"
  },
  "sos": {
   "kernels": [
    [
     "Bash",
     "bash",
     "Bash",
     "#E6EEFF",
     "shell"
    ],
    [
     "R",
     "ir",
     "R",
     "#DCDCDA",
     ""
    ],
    [
     "SoS",
     "sos",
     "",
     "",
     "sos"
    ]
   ],
   "version": "0.22.6"
  }
 },
 "nbformat": 4,
 "nbformat_minor": 5
}
