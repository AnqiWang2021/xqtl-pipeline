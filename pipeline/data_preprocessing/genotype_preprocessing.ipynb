{
 "cells": [
  {
   "cell_type": "markdown",
   "id": "brilliant-gauge",
   "metadata": {
    "kernel": "SoS",
    "tags": []
   },
   "source": [
    "# Genotype data preprocessing\n",
    "\n",
    "\n",
    "**This tutorial contains examples on running the light yellow, dark yellow, and red section of the following diagram.**\n",
    "\n",
    "![captain](../../images/Data_proc_flowchart.png)"
   ]
  },
  {
   "cell_type": "markdown",
   "id": "a4344caa-5157-4dfc-9c3d-7f99958ea443",
   "metadata": {
    "kernel": "SoS"
   },
   "source": [
    "## Genotype QC(light yellow)"
   ]
  },
  {
   "cell_type": "code",
   "execution_count": null,
   "id": "1ac51bbb-ef96-4f61-84d1-a66de8db6108",
   "metadata": {
    "kernel": "SoS"
   },
   "outputs": [],
   "source": [
    "nohup sos run  /home/hs3163/GIT/xqtl-pipeline/pipeline/data_preprocessing/genotype/GWAS_QC.ipynb qc \\\n",
    "    --genotype_list /home/hs3163/GIT/ADSPFG-xQTL/MWE/mwe_genotype_list \\\n",
    "    --cwd /mnt/mfs/statgen/xqtl_workflow_testing/demo/GWAS_QC/ \\\n",
    "    --name \"demo\" \\\n",
    "    --merged_prefix \"merge\" \\\n",
    "    --container_lmm \"/mnt/mfs/statgen/containers/xqtl_pipeline_sif/base-bioinfo.sif\" &"
   ]
  },
  {
   "cell_type": "markdown",
   "id": "b1ba1df3-45f9-4aea-9de0-38f55ce86506",
   "metadata": {
    "kernel": "SoS"
   },
   "source": [
    "## GRM"
   ]
  },
  {
   "cell_type": "code",
   "execution_count": null,
   "id": "9069df15-2f12-42ce-bb8a-a46f46699e33",
   "metadata": {
    "kernel": "SoS"
   },
   "outputs": [],
   "source": [
    "nohup sos run  /home/hs3163/GIT/xqtl-pipeline/pipeline/data_preprocessing/genotype/GRM.ipynb  GRM\\\n",
    "    --genotype_list /mnt/mfs/statgen/xqtl_workflow_testing/demo/GWAS_QC/demo.processed_genotype.plink_per_chrom.recipe \\\n",
    "    --wd /mnt/mfs/statgen/xqtl_workflow_testing/demo/GRM/ \\\n",
    "    --name \"demo\" \\\n",
    "    --container \"/mnt/mfs/statgen/containers/xqtl_pipeline_sif/base-bioinfo.sif\" &"
   ]
  },
  {
   "cell_type": "markdown",
   "id": "578c632e-d459-4e3b-9030-b5cf893cc4f8",
   "metadata": {
    "kernel": "SoS"
   },
   "source": [
    "## Reformatting and partition(dark yellow)"
   ]
  },
  {
   "cell_type": "code",
   "execution_count": null,
   "id": "4bb3aba7-6974-4273-91de-6b76189a5c12",
   "metadata": {
    "kernel": "SoS"
   },
   "outputs": [],
   "source": [
    "nohup sos run  /home/hs3163/GIT/xqtl-pipeline/pipeline/data_preprocessing/genotype/genotype_formatting.ipynb plink2vcf\\\n",
    "    --genotype_list /mnt/mfs/statgen/xqtl_workflow_testing/demo/GWAS_QC/demo.processed_genotype.plink_per_chrom.recipe \\\n",
    "    --wd /mnt/mfs/statgen/xqtl_workflow_testing/demo/genotype_reformmating/ \\\n",
    "    --name \"demo\" \\\n",
    "    --region_list /home/hs3163/GIT/ADSPFG-xQTL/MWE/mwe_region  \\\n",
    "    --container \"/mnt/mfs/statgen/containers/xqtl_pipeline_sif/base-bioinfo.sif\" &\n",
    "\n",
    "nohup sos run  /home/hs3163/GIT/xqtl-pipeline/pipeline/data_preprocessing/genotype/genotype_formatting.ipynb plink_by_gene \\\n",
    "    --genotype_list /mnt/mfs/statgen/xqtl_workflow_testing/demo/GWAS_QC/demo.processed_genotype.plink_per_chrom.recipe \\\n",
    "    --wd /mnt/mfs/statgen/xqtl_workflow_testing/demo/genotype_reformmating/ \\\n",
    "    --name \"demo\" \\\n",
    "    --region_list /home/hs3163/GIT/ADSPFG-xQTL/MWE/mwe_region  \\\n",
    "    --container \"/mnt/mfs/statgen/containers/xqtl_pipeline_sif/base-bioinfo.sif\" &"
   ]
  },
  {
   "cell_type": "markdown",
   "id": "f619af26-c2f6-4ed2-bf87-07aa57502c38",
   "metadata": {
    "kernel": "SoS"
   },
   "source": [
    "## LD (Red)"
   ]
  },
  {
   "cell_type": "code",
   "execution_count": null,
   "id": "05430309-dbff-45e6-a0ab-56a9ae74b55e",
   "metadata": {
    "kernel": "SoS"
   },
   "outputs": [],
   "source": [
    "nohup sos run  /home/hs3163/GIT/xqtl-pipeline/pipeline/data_preprocessing/genotype/LD.ipynb LD \\\n",
    "    --genotype_list /mnt/mfs/statgen/xqtl_workflow_testing/module/genotype_format/demo_per_gene_plink/plink_per_gene_list \\\n",
    "    --wd /mnt/mfs/statgen/xqtl_workflow_testing/demo/LD/  \\\n",
    "    --name \"demo\" \\\n",
    "    --container \"/mnt/mfs/statgen/containers/xqtl_pipeline_sif/base-bioinfo.sif\" &"
   ]
  }
 ],
 "metadata": {
  "kernelspec": {
   "display_name": "SoS",
   "language": "sos",
   "name": "sos"
  },
  "language_info": {
   "codemirror_mode": "sos",
   "file_extension": ".sos",
   "mimetype": "text/x-sos",
   "name": "sos",
   "nbconvert_exporter": "sos_notebook.converter.SoS_Exporter",
   "pygments_lexer": "sos"
  },
  "sos": {
   "kernels": [
    [
     "Bash",
     "bash",
     "Bash",
     "#E6EEFF",
     ""
    ],
    [
     "SoS",
     "sos",
     "",
     "",
     "sos"
    ]
   ],
   "version": "0.22.6"
  }
 },
 "nbformat": 4,
 "nbformat_minor": 5
}
