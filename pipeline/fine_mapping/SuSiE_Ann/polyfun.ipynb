{
 "cells": [
  {
   "cell_type": "markdown",
   "id": "major-patent",
   "metadata": {
    "kernel": "SoS",
    "tags": []
   },
   "source": [
    "# Fine-mapping with PolyFun"
   ]
  },
  {
   "cell_type": "markdown",
   "id": "human-revolution",
   "metadata": {
    "kernel": "Markdown",
    "tags": []
   },
   "source": [
    "## Aim"
   ]
  },
  {
   "cell_type": "markdown",
   "id": "stopped-township",
   "metadata": {
    "kernel": "Markdown",
    "tags": []
   },
   "source": [
    "The purpose of this notebook is to demonstrate a functionally-informed fine-mapping workflow using the PolyFun method."
   ]
  },
  {
   "cell_type": "markdown",
   "id": "cardiac-duration",
   "metadata": {
    "kernel": "Markdown"
   },
   "source": [
    "## Methods Overview "
   ]
  },
  {
   "cell_type": "markdown",
   "id": "certain-legislature",
   "metadata": {
    "kernel": "Markdown"
   },
   "source": [
    "## Input "
   ]
  },
  {
   "cell_type": "markdown",
   "id": "canadian-analysis",
   "metadata": {
    "kernel": "SoS"
   },
   "source": [
    "1) GWAS summary statistics including the following variables: \n",
    "\n",
    "- variant_id - variant ID \n",
    "- P - p-value \n",
    "- CHR - chromosome number \n",
    "- BP - base pair position\n",
    "- A1 - The effect allele (i.e., the sign of the effect size is with respect to A1)\n",
    "- A2 - the second allele \n",
    "- MAF - minor allele frequency \n",
    "- BETA - effect size \n",
    "- SE - effect size standard error\n",
    "\n",
    "2) SNP-identifier file or S-LDSC (stratified LD-score regression) LD-score and annotation file\n",
    "\n",
    "   SNP-identifier file should include the following columns: \n",
    "\n",
    "- CHR - chromosome\n",
    "- BP - base pair position (in hg19 coordinates)\n",
    "- A1 - The effect allele \n",
    "- A2 - the second allele\n",
    "\n",
    "3) Ld-score weights file \n"
   ]
  },
  {
   "cell_type": "markdown",
   "id": "optical-implement",
   "metadata": {
    "kernel": "Markdown"
   },
   "source": [
    "## Output\n",
    "\n",
    "A `.gz` file containing input summary statistics columns and additionally the following columns:\n",
    "\n",
    "- PIP - posterior causal probability\n",
    "- BETA_MEAN - posterior mean of causal effect size (in standardized genotype scale)\n",
    "- BETA_SD - posterior standard deviation of causal effect size (in standardized genotype scale)\n",
    "- CREDIBLE_SET - the index of the first (typically smallest) credible set that the SNP belongs to (0 means none).\n"
   ]
  },
  {
   "cell_type": "markdown",
   "id": "hungry-harmony",
   "metadata": {
    "kernel": "Markdown"
   },
   "source": [
    "## Workflow"
   ]
  },
  {
   "cell_type": "markdown",
   "id": "piano-flood",
   "metadata": {
    "kernel": "SoS"
   },
   "source": [
    "### Step 1: Compute Prior Causal Probabilities"
   ]
  },
  {
   "cell_type": "markdown",
   "id": "lightweight-anatomy",
   "metadata": {
    "kernel": "SoS"
   },
   "source": [
    "#### Method 1: Use precomputed prior causal probabilities"
   ]
  },
  {
   "cell_type": "markdown",
   "id": "fabulous-description",
   "metadata": {
    "kernel": "SoS"
   },
   "source": [
    "Use precomputed prior causal probabilities of 19 million imputed UK Biobank SNPs with MAF>0.1%, based on a meta-analysis of 15 UK Biobank traits. "
   ]
  },
  {
   "cell_type": "code",
   "execution_count": null,
   "id": "gentle-triangle",
   "metadata": {
    "kernel": "SoS",
    "tags": []
   },
   "outputs": [],
   "source": [
    "[prior_causal_prob]\n",
    "parameter: sumstats = AD_sumstats_Jansenetal_2019sept.txt.gz\n",
    "parameter: container = none\n",
    "bash: container = container \n",
    "    mkdir -p /output\n",
    "    python extract_snpvar.py \\\n",
    "        --sumstats sumstats \\\n",
    "        --out /output/snps_with_var.gz \\\n",
    "        --allow-missing"
   ]
  },
  {
   "cell_type": "markdown",
   "id": "helpful-queens",
   "metadata": {
    "kernel": "SoS"
   },
   "source": [
    "#### Method 2: Compute via L2-regularized extension of S-LDSC (preferred)"
   ]
  },
  {
   "cell_type": "markdown",
   "id": "guided-acting",
   "metadata": {
    "kernel": "SoS"
   },
   "source": [
    "Compute via an L2-regularized extension of stratified LD-score regression (S-LDSC). "
   ]
  },
  {
   "cell_type": "markdown",
   "id": "changed-sydney",
   "metadata": {
    "kernel": "SoS"
   },
   "source": [
    "1) Create a munged summary statistics file in a PolyFun-friendly parquet format."
   ]
  },
  {
   "cell_type": "code",
   "execution_count": null,
   "id": "prescribed-bernard",
   "metadata": {
    "kernel": "SoS",
    "tags": []
   },
   "outputs": [],
   "source": [
    "[munged_sumstats]\n",
    "parameter: sumstats = AD_sumstats_Jansenetal_2019sept.txt.gz\n",
    "parameter: sample_size = int\n",
    "parameter: container = none\n",
    "bash: container = container \n",
    "    mkdir -p /SLDSC_output\n",
    "    python munge_polyfun_sumstats.py \\\n",
    "      --sumstats sumstats \\\n",
    "      --n sample_size \\\n",
    "      --out /SLDSC_output/sumstats_munged.parquet \\\n",
    "      --min-info 0 \\\n",
    "      --min-maf 0"
   ]
  },
  {
   "cell_type": "markdown",
   "id": "engaged-operator",
   "metadata": {
    "kernel": "SoS"
   },
   "source": [
    "2) Run PolyFun with L2-regularized S-LDSC"
   ]
  },
  {
   "cell_type": "code",
   "execution_count": null,
   "id": "therapeutic-atlantic",
   "metadata": {
    "kernel": "SoS",
    "tags": []
   },
   "outputs": [],
   "source": [
    "[L2_regu_SLDSC]\n",
    "parameter: container = none\n",
    "paramter: ref_ld = /baselineLF2.2.UKB/baselineLF2.2.UKB.\n",
    "parameter: ref_wgt = /weights.UKB.l2.ldscore/weights.UKB.\n",
    "bash: container=container\n",
    "    python polyfun.py \\\n",
    "    --compute-h2-L2 \\\n",
    "    --no-partitions \\\n",
    "    --output-prefix /SLDSC_output/run \\\n",
    "    --sumstats /SLDSC_output/sumstats_munged.parquet \\\n",
    "    --ref-ld-chr ref_ld \\\n",
    "    --w-ld-chr ref_wgt \\\n",
    "    --allow-missing"
   ]
  },
  {
   "cell_type": "markdown",
   "id": "quality-disabled",
   "metadata": {
    "kernel": "SoS"
   },
   "source": [
    "#### Method 3: Compute Non-parametrically"
   ]
  },
  {
   "cell_type": "markdown",
   "id": "lyric-capitol",
   "metadata": {
    "kernel": "SoS"
   },
   "source": [
    "1) Create a munged summary statistics file in a PolyFun-friendly parquet format."
   ]
  },
  {
   "cell_type": "code",
   "execution_count": null,
   "id": "diagnostic-vampire",
   "metadata": {
    "kernel": "SoS",
    "tags": []
   },
   "outputs": [],
   "source": [
    "[munged_sumstats2]\n",
    "parameter: sumstats = AD_sumstats_Jansenetal_2019sept.txt.gz\n",
    "parameter: sample_size = int\n",
    "parameter: container = none\n",
    "bash: container = container \n",
    "    mkdir -p /SLDSC_output\n",
    "    python munge_polyfun_sumstats.py \\\n",
    "      --sumstats sumstats \\\n",
    "      --n sample_size \\\n",
    "      --out /SLDSC_output/sumstats_munged.parquet \\\n",
    "      --min-info 0 \\\n",
    "      --min-maf 0"
   ]
  },
  {
   "cell_type": "markdown",
   "id": "massive-roads",
   "metadata": {
    "kernel": "SoS"
   },
   "source": [
    "2) Run PolyFun with L2-regularized S-LDSC"
   ]
  },
  {
   "cell_type": "code",
   "execution_count": null,
   "id": "driving-accreditation",
   "metadata": {
    "kernel": "SoS"
   },
   "outputs": [],
   "source": [
    "[L2_regu_SLDSC2]\n",
    "parameter: container = none\n",
    "paramter: ref_ld = example_data/annotations.\n",
    "parameter: ref_wgt = example_data/weights.\n",
    "bash: container=container\n",
    "    python polyfun.py \\\n",
    "    --compute-h2-L2 \\\n",
    "    --output-prefix output/testrun \\\n",
    "    --sumstats example_data/sumstats.parquet \\\n",
    "    --ref-ld-chr ref_ld \\\n",
    "    --w-ld-chr ref_wgt"
   ]
  },
  {
   "cell_type": "markdown",
   "id": "buried-toronto",
   "metadata": {
    "kernel": "SoS"
   },
   "source": [
    "3) Compute LD-scores for each SNP bin"
   ]
  },
  {
   "cell_type": "code",
   "execution_count": null,
   "id": "clear-softball",
   "metadata": {
    "kernel": "SoS"
   },
   "outputs": [],
   "source": [
    "[ld_snpbin]\n",
    "bash:\n",
    "    python polyfun.py \\\n",
    "    --compute-ldscores \\\n",
    "    --output-prefix output/testrun \\\n",
    "    --bfile-chr example_data/reference. \\\n",
    "    --chr 1"
   ]
  },
  {
   "cell_type": "markdown",
   "id": "scenic-liabilities",
   "metadata": {
    "kernel": "SoS"
   },
   "source": [
    "4) Re-estimate per-SNP heritabilities via S-LDSC"
   ]
  },
  {
   "cell_type": "code",
   "execution_count": null,
   "id": "loaded-killer",
   "metadata": {
    "kernel": "SoS"
   },
   "outputs": [],
   "source": [
    "[re_SLDSC]\n",
    "bash:\n",
    "    python polyfun.py \\\n",
    "    --compute-h2-bins \\\n",
    "    --output-prefix output/testrun \\\n",
    "    --sumstats example_data/sumstats.parquet \\\n",
    "    --w-ld-chr example_data/weights."
   ]
  },
  {
   "cell_type": "markdown",
   "id": "qualified-marine",
   "metadata": {
    "kernel": "SoS"
   },
   "source": [
    "### Step 2: Create functional annotations "
   ]
  },
  {
   "cell_type": "markdown",
   "id": "funky-transfer",
   "metadata": {
    "kernel": "SoS"
   },
   "source": [
    "#### Method 1: Use existing function annotation files \n",
    "\n",
    "Use functional annotations for ~19 million UK Biobank imputed SNPs with MAF>0.1%, based on the baseline-LF 2.2.UKB annotations\n",
    "\n",
    "Download (30G): https://data.broadinstitute.org/alkesgroup/LDSCORE/baselineLF_v2.2.UKB.polyfun.tar.gz"
   ]
  },
  {
   "cell_type": "markdown",
   "id": "abroad-preservation",
   "metadata": {
    "kernel": "SoS"
   },
   "source": [
    "#### Method 2: Create annotations "
   ]
  },
  {
   "cell_type": "markdown",
   "id": "spoken-methodology",
   "metadata": {
    "kernel": "SoS"
   },
   "source": [
    "To create your own annotations, for each chromosome, the following files are needed: \n",
    "\n",
    "1) A `.gz` or `.parquet` Annotations file containing the following columns:\n",
    "\n",
    "- CHR - chromosome number\n",
    "- BP base pair position\n",
    "- SNP - dbSNP reference number \n",
    "- A1 - The effect allele \n",
    "- A2 - the second allele\n",
    "- Arbitrary additional columns representing annotations \n",
    "\n",
    "2) A `.l2.M` white-space delimited file containing a single line with the sums of the columns of each annotation\n",
    "\n",
    "3) (Optional) A `l2.M_5_50` file that is the `.l2.M` file but only containing common SNPS (MAF between 5% and 50%) \n"
   ]
  },
  {
   "cell_type": "markdown",
   "id": "suited-creator",
   "metadata": {
    "kernel": "SoS"
   },
   "source": [
    "### Step 3: Compute LD-scores for annotations "
   ]
  },
  {
   "cell_type": "markdown",
   "id": "southern-picking",
   "metadata": {
    "kernel": "SoS"
   },
   "source": [
    "#### Method 1: Compute with reference panel of sequenced individuals "
   ]
  },
  {
   "cell_type": "markdown",
   "id": "acute-angel",
   "metadata": {
    "kernel": "SoS"
   },
   "source": [
    "Reference panel should have at least 3000 sequenced individuals from target population."
   ]
  },
  {
   "cell_type": "code",
   "execution_count": null,
   "id": "incident-trustee",
   "metadata": {
    "kernel": "SoS"
   },
   "outputs": [],
   "source": [
    "[ld_score]\n",
    "parameter: container = none\n",
    "parameter: ref_ld = reference.1\n",
    "parameter: annot_file = annotations.1.annot.parquet\n",
    "bash: container = container\n",
    "    mkdir -p\n",
    "    python compute_ldscores.py \\\n",
    "    --bfile ref_ldexample_data/reference.1 \\\n",
    "    --annot annot_file \\\n",
    "    --out output/ldscores1.parquet"
   ]
  },
  {
   "cell_type": "markdown",
   "id": "studied-personal",
   "metadata": {
    "kernel": "SoS"
   },
   "source": [
    "#### Method 2: Compute with pre-computed UK Biobank LD matrices "
   ]
  },
  {
   "cell_type": "markdown",
   "id": "adjusted-looking",
   "metadata": {
    "kernel": "SoS"
   },
   "source": [
    "Matrices download: https://data.broadinstitute.org/alkesgroup/UKBB_LD"
   ]
  },
  {
   "cell_type": "code",
   "execution_count": null,
   "id": "incorporate-douglas",
   "metadata": {
    "kernel": "SoS"
   },
   "outputs": [],
   "source": [
    "[ld_score_uk]\n",
    "parameter: container = none\n",
    "parameter: annot_file = annotations.1.annot.parquet\n",
    "base: container = container\n",
    "    mkdir -p \n",
    "    python compute_ldscores_from_ld.py \\\n",
    "    --annot annot_file \\\n",
    "    --ukb \\\n",
    "    --out output/ldscores2.parquet"
   ]
  },
  {
   "cell_type": "markdown",
   "id": "smaller-butler",
   "metadata": {
    "kernel": "SoS"
   },
   "source": [
    "#### Method 3: Compute with own pre-computed LD matrices"
   ]
  },
  {
   "cell_type": "markdown",
   "id": "vietnamese-spectrum",
   "metadata": {
    "kernel": "SoS"
   },
   "source": [
    "Own pre-computed LD matrices should be in `.bcor` format. "
   ]
  },
  {
   "cell_type": "code",
   "execution_count": null,
   "id": "built-taxation",
   "metadata": {
    "kernel": "SoS"
   },
   "outputs": [],
   "source": [
    "[ld_score_own]\n",
    "parameter: container = none\n",
    "parameter: annot_file = annotations.1.annot.parquet\n",
    "parameter: sample_size = int\n",
    "base: container = container\n",
    "    mkdir -p \n",
    "    python compute_ldscores_from_ld.py \\\n",
    "    --annot annot_file \\\n",
    "    --out output/ldscores3.parquet \\\n",
    "    --n sample_size\\\n",
    "    bcor_files/*.bcor"
   ]
  },
  {
   "cell_type": "markdown",
   "id": "uniform-guatemala",
   "metadata": {
    "kernel": "SoS"
   },
   "source": [
    "### Step 4: Functionally informed fine mapping with finemapper"
   ]
  },
  {
   "cell_type": "markdown",
   "id": "south-joyce",
   "metadata": {
    "kernel": "SoS"
   },
   "source": [
    "Input summary statistics file must have `SNPVAR` column (per-SNP heritability) to perform functionally-informed fine-mapping."
   ]
  },
  {
   "cell_type": "code",
   "execution_count": null,
   "id": "herbal-politics",
   "metadata": {
    "kernel": "SoS"
   },
   "outputs": [],
   "source": [
    "[fine_mapping]\n",
    "parameter: genotype_file = example_data/chr1\n",
    "parameter: sumstat = example_data/chr1.finemap_sumstats.txt.gz\n",
    "parameter: sample_size = 383290\n",
    "parameter: chr = 1\n",
    "parameter: start = 46000001\n",
    "parameter: end = 49000001\n",
    "parameter: output_path = output/finemap.1.46000001.49000001.gz\n",
    "bash: \n",
    "    mkdir -p LD_cache\n",
    "    mkdir -o output\n",
    "\n",
    "    python finemapper.py \\\n",
    "    --geno genotype_file \\\n",
    "    --sumstats  \\\n",
    "    --n sample_size \\\n",
    "    --chr chr \\\n",
    "    --start start \\\n",
    "    --end end \\\n",
    "    --method susie \\\n",
    "    --max-num-causal 5 \\\n",
    "    --cache-dir LD_cache \\\n",
    "    --out output_path"
   ]
  },
  {
   "cell_type": "markdown",
   "id": "conservative-andrew",
   "metadata": {
    "kernel": "Markdown"
   },
   "source": [
    "## Minimal Working Example"
   ]
  },
  {
   "cell_type": "code",
   "execution_count": null,
   "id": "eastern-winner",
   "metadata": {
    "kernel": "SoS"
   },
   "outputs": [],
   "source": [
    "bash: \n",
    "    python extract_snpvar.py \\\n",
    "        --sumstats AD_sumstats_Jansenetal_2019sept.txt.gz \\\n",
    "        --out output/AD_snps_with_var.gz \\\n",
    "        --allow-missing"
   ]
  },
  {
   "cell_type": "code",
   "execution_count": null,
   "id": "sorted-leather",
   "metadata": {
    "kernel": "SoS"
   },
   "outputs": [],
   "source": [
    "bash: \n",
    "    python finemapper.py \\\n",
    "    --geno UKB_expandedwhiteonly_phenotypeindepqc_410905indiv_528206snps_102720_chr1 \\\n",
    "    --sumstats AD_snps_with_var.gz \\\n",
    "    --n 410905 \\\n",
    "    --chr 1 \\\n",
    "    --start 46000001 \\\n",
    "    --end 49000001 \\\n",
    "    --method susie \\\n",
    "    --max-num-causal 5 \\\n",
    "    --allow-missing \\\n",
    "    --cache-dir LD_cache \\\n",
    "    --out output/finemap.1.46000001.49000001.gz"
   ]
  },
  {
   "cell_type": "markdown",
   "id": "dominant-sugar",
   "metadata": {
    "kernel": "Bash"
   },
   "source": [
    "### Summary"
   ]
  },
  {
   "cell_type": "code",
   "execution_count": 23,
   "id": "acknowledged-while",
   "metadata": {
    "kernel": "SoS"
   },
   "outputs": [
    {
     "name": "stdout",
     "output_type": "stream",
     "text": [
      "CHR\tSNP\tBP\tA1\tA2\tSNPVAR\tZ\tN\tP\tPIP\tBETA_MEAN\tBETA_SD\tDISTANCE_FROM_CENTER\tCREDIBLE_SET\n",
      "1\trs2088102\t46032974\tT\tC\t1.70060e-06\t1.25500e+01\t383290\t3.97510e-36\t1.00000e+00\t-2.03917e-02\t1.61901e-03\t1456799\t1\n",
      "1\trs7528714\t47966058\tG\tA\t1.18040e-06\t5.14320e+00\t383290\t2.70098e-07\t9.97870e-01\t7.42146e-03\t1.62305e-03\t476285\t2\n",
      "1\trs7528075\t47870271\tG\tA\t1.18040e-06\t4.40160e+00\t383290\t1.07456e-05\t9.76545e-01\t-5.98945e-03\t1.81667e-03\t380498\t3\n",
      "1\trs212968\t48734666\tG\tA\t1.70060e-06\t-3.01130e+00\t383290\t2.60132e-03\t3.75823e-01\t-1.56305e-03\t2.23942e-03\t1244893\t0\n",
      "1\trs2622911\t47837404\tC\tA\t1.70060e-06\t3.12520e+00\t383290\t1.77684e-03\t3.71804e-01\t1.54312e-03\t2.22812e-03\t347631\t0\n",
      "1\trs4511165\t48293181\tG\tA\t1.70060e-06\t-1.18940e+00\t383290\t2.34282e-01\t5.75970e-02\t1.60630e-04\t7.52226e-04\t803408\t0\n",
      "1\trs3766196\t47284526\tC\tA\t6.93040e-06\t-5.92360e-02\t383290\t9.52764e-01\t4.89776e-02\t-5.06776e-07\t3.48039e-04\t205247\t0\n",
      "1\trs12567716\t48197570\tT\tC\t1.18040e-06\t2.14810e+00\t383290\t3.17058e-02\t4.45128e-02\t-1.28281e-04\t6.81457e-04\t707797\t0\n",
      "1\trs4927234\t48384796\tG\tA\t1.70060e-06\t-7.59600e-01\t383290\t4.47494e-01\t3.41123e-02\t7.74978e-05\t5.04755e-04\t895023\t0\n"
     ]
    }
   ],
   "source": [
    "bash:\n",
    "    gzcat output/finemap.1.46000001.49000001.gz | head"
   ]
  },
  {
   "cell_type": "code",
   "execution_count": 25,
   "id": "integrated-jones",
   "metadata": {
    "kernel": "Python3"
   },
   "outputs": [
    {
     "name": "stdout",
     "output_type": "stream",
     "text": [
      "['Number of variants with PIP > 0.5: 3\\n', 'Number of variants with PIP > 0.95: 3\\n', 'Number of variants that have credible sets: 3\\n', 'Number of unique credible sets: 3\\n', 'Average number of variants per credible set: 1.0']\n"
     ]
    }
   ],
   "source": [
    "import numpy as np\n",
    "import pandas as pd\n",
    "\n",
    "data = pd.read_csv('output/finemap.1.46000001.49000001.gz', sep=\"\\t\")\n",
    "\n",
    "data.head(5)\n",
    "    \n",
    "num_var_cs = np.count_nonzero(data['CREDIBLE_SET'])\n",
    "total_cs = len(data.CREDIBLE_SET.unique())- 1\n",
    "avg_var_cs = float(num_var_cs) / total_cs\n",
    "pip50 = sum(1 for i in data['PIP'] if i >0.5)\n",
    "pip95 = sum(1 for i in data['PIP'] if i >0.95)\n",
    "\n",
    "result = \"Number of variants with PIP > 0.5: \" + str(pip50) + \"\\n\" + \"Number of variants with PIP > 0.95: \" + str(pip95) + \"\\n\" \\\n",
    "    + \"Number of variants that have credible sets: \" + str(num_var_cs) + \"\\n\" \\\n",
    "    + \"Number of unique credible sets: \" + str(total_cs) + \"\\n\" \\\n",
    "    + \"Average number of variants per credible set: \" + str(avg_var_cs) \n",
    "\n",
    "\n",
    "with open('results.txt', 'a') as the_file:\n",
    "    the_file.write(result)\n",
    "\n",
    "with open('results.txt') as f:\n",
    "    contents = f.readlines()\n",
    "    print(contents)"
   ]
  }
 ],
 "metadata": {
  "kernelspec": {
   "display_name": "SoS",
   "language": "sos",
   "name": "sos"
  },
  "language_info": {
   "codemirror_mode": "sos",
   "file_extension": ".sos",
   "mimetype": "text/x-sos",
   "name": "sos",
   "nbconvert_exporter": "sos_notebook.converter.SoS_Exporter",
   "pygments_lexer": "sos"
  },
  "sos": {
   "kernels": [
    [
     "Bash",
     "bash",
     "Bash",
     "#E6EEFF",
     ""
    ],
    [
     "Python3",
     "python3",
     "Python3",
     "#FFD91A",
     ""
    ],
    [
     "SoS",
     "sos",
     "",
     "",
     "sos"
    ]
   ],
   "version": "0.22.4"
  }
 },
 "nbformat": 4,
 "nbformat_minor": 5
}
