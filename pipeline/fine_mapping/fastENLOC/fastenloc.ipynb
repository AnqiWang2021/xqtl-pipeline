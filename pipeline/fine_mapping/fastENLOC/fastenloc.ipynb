{
 "cells": [
  {
   "cell_type": "markdown",
   "id": "maritime-bradford",
   "metadata": {
    "kernel": "SoS"
   },
   "source": [
    "# Colocalization with FastENLOC "
   ]
  },
  {
   "cell_type": "markdown",
   "id": "novel-creator",
   "metadata": {
    "kernel": "SoS"
   },
   "source": [
    "## Aim"
   ]
  },
  {
   "cell_type": "markdown",
   "id": "sudden-toyota",
   "metadata": {
    "kernel": "SoS"
   },
   "source": [
    "The purpose of this notebook is to demonstrate a colocalization analysis workflow utilizing fastENLOC"
   ]
  },
  {
   "cell_type": "markdown",
   "id": "narrative-lexington",
   "metadata": {
    "kernel": "SoS"
   },
   "source": [
    "## Input"
   ]
  },
  {
   "cell_type": "markdown",
   "id": "generic-expert",
   "metadata": {
    "kernel": "SoS"
   },
   "source": [
    "1. GWAS summary statistics file including the following columns (minimum)\n",
    "\n",
    "- snp_id: variant ID, format must match in all files\n",
    "- chr: chromosome number\n",
    "- pos: base pair position\n",
    "- z_score: z-score values\n",
    "\n",
    "2. eQTL Annotation file produced by DAP-G including the following columns:\n",
    "\n",
    "- chr: chromosome number\n",
    "- pos: base pair position\n",
    "- snp_id: variant ID\n",
    "- a1: effect allele\n",
    "- a2: second allele\n",
    "- pip: posterior inclusion probabilitiy, in the format (remove spaces around symbols): \n",
    "\n",
    "  GENE : CLUSTER @ TISSUE = INDIVID_PIP[ CLUSTER_PIP : NUM ] | GENE : CLUSTER @ TISSUE2 = INDIVID_PIP[ CLUSTER_PIP : NUM ]...\n",
    "  \n",
    "  where NUM = total number of variants within that cluster\n",
    "  \n",
    "\n",
    "3. LD correlation matrix file for all SNPs included in eQTL data file.\n"
   ]
  },
  {
   "cell_type": "markdown",
   "id": "dimensional-canada",
   "metadata": {
    "kernel": "SoS"
   },
   "source": [
    "## Output "
   ]
  },
  {
   "cell_type": "markdown",
   "id": "orange-month",
   "metadata": {
    "kernel": "SoS"
   },
   "source": [
    "1) Enrichment analysis result `prefix.enloc.enrich.rst`: estimated enrichment parameters and standard errors.\n",
    "\n",
    "2) Signal-level colocalization result `prefix.enloc.sig.out`: the main output from the colocalization analysis wi th the following format\n",
    "- column 1: signal cluster name (from eQTL analysis)\n",
    "- column 2: number of member SNPs\n",
    "- column 3: cluster PIP of eQTLs\n",
    "- column 4: cluster PIP of GWAS hits (without eQTL prior)\n",
    "- column 5: cluster PIP of GWAS hits (with eQTL prior)\n",
    "- column 6: regional colocalization probability (RCP)\n",
    "\n",
    "3) SNP-level colocalization result `prefix.enloc.snp.out`: SNP-level colocalization output with the following form at\n",
    "- column 1: signal cluster name\n",
    "- column 2: SNP name\n",
    "- column 3: SNP-level PIP of eQTLs\n",
    "- column 4: SNP-level PIP of GWAS (without eQTL prior)\n",
    "- column 5: SNP-level PIP of GWAS (with eQTL prior)\n",
    "- column 6: SNP-level colocalization probability\n",
    "\n",
    "4) Sorted list of colocalization signals with  \n",
    "\n",
    "  ```sort -grk6 prefix.enloc.sig.out ```"
   ]
  },
  {
   "cell_type": "markdown",
   "id": "pending-davis",
   "metadata": {
    "kernel": "SoS"
   },
   "source": [
    "## Workflow"
   ]
  },
  {
   "cell_type": "markdown",
   "id": "documented-independence",
   "metadata": {
    "kernel": "SoS"
   },
   "source": [
    "### Step 1: Prepare GWAS PIP "
   ]
  },
  {
   "cell_type": "markdown",
   "id": "linear-movie",
   "metadata": {
    "kernel": "SoS"
   },
   "source": [
    "Result file should have the following columns at minimum:\n",
    "\n",
    "- snp_id \n",
    "- LD_block \n",
    "- z_score"
   ]
  },
  {
   "cell_type": "code",
   "execution_count": null,
   "id": "preceding-monte",
   "metadata": {
    "kernel": "SoS"
   },
   "outputs": [],
   "source": [
    "[gwas_pip]\n",
    "bash:\n",
    "    perl format2torus.pl gwas_z.txt > gwas.zval\n",
    "    gzip gwas.zval\n",
    "    torus -d gwas.zval.gz --load_zval -dump_pip gwas.pip"
   ]
  },
  {
   "cell_type": "markdown",
   "id": "published-administration",
   "metadata": {
    "kernel": "SoS"
   },
   "source": [
    "### Step 2: Prepare eQTL Annotation File"
   ]
  },
  {
   "cell_type": "markdown",
   "id": "burning-gauge",
   "metadata": {
    "kernel": "SoS"
   },
   "source": [
    "#### Method 1: Use pre-computed GTEx multi-tissue eQTL annotation files"
   ]
  },
  {
   "cell_type": "markdown",
   "id": "quantitative-ordinance",
   "metadata": {
    "kernel": "SoS"
   },
   "source": [
    "download: \n",
    "\n",
    "- hg38 Position ID: https://drive.google.com/open?id=1kfH_CffxyCtZcx3z7k63rIARNidLv1_P\n",
    "- rsID: https://drive.google.com/open?id=1rSaHenk8xOFtQo7VuDZevRkjUz6iwuj0"
   ]
  },
  {
   "cell_type": "markdown",
   "id": "likely-graphics",
   "metadata": {
    "kernel": "SoS"
   },
   "source": [
    "#### Method 2: Derive annotations based on own eQTL data, using DAP-G"
   ]
  },
  {
   "cell_type": "markdown",
   "id": "organizational-situation",
   "metadata": {
    "kernel": "SoS"
   },
   "source": [
    "DAP-G annotations are produced through 2 parts: "
   ]
  },
  {
   "cell_type": "markdown",
   "id": "southern-alignment",
   "metadata": {
    "kernel": "SoS"
   },
   "source": [
    "__Part 1__: Estimate priors with `torus`"
   ]
  },
  {
   "cell_type": "markdown",
   "id": "environmental-rates",
   "metadata": {
    "kernel": "SoS"
   },
   "source": [
    "Input file format:\n",
    "1) SNP data file with the following columns: \n",
    "\n",
    "- gene: gene name\n",
    "\n",
    "- snp: variant ID\n",
    "\n",
    "- tss: distance to TSS (transcription starting site)\n",
    "\n",
    "- pval: p-value\n",
    "\n",
    "- beta: beta-hat\n",
    "\n",
    "- se: standard error of beta-hat\n",
    "\n",
    "2) SNP map file with the following columns:\n",
    "\n",
    "- snp: variant ID\n",
    "- chr: chromosome number\n",
    "- pos: base pair position\n",
    "\n",
    "3) Gene map file with the following columns:\n",
    "\n",
    "- gene: gene name\n",
    "- chr: chromosome number\n",
    "- tss: distiance to TSS\n",
    "- tss: repeat of the above column\n",
    "\n"
   ]
  },
  {
   "cell_type": "code",
   "execution_count": null,
   "id": "stylish-single",
   "metadata": {
    "kernel": "SoS"
   },
   "outputs": [],
   "source": [
    "[estimate_prior]\n",
    "bash: \n",
    "    torus -d prior.input.gz -smap snp_map.gz -gmap gene_map.gz -dump_prior data"
   ]
  },
  {
   "cell_type": "markdown",
   "id": "coordinated-resident",
   "metadata": {
    "kernel": "SoS"
   },
   "source": [
    "__Part 2__: Annotate with `DAP-G`"
   ]
  },
  {
   "cell_type": "code",
   "execution_count": null,
   "id": "medical-width",
   "metadata": {
    "kernel": "SoS"
   },
   "outputs": [],
   "source": [
    "[dap_annot]\n",
    "bash: \n",
    "    dap-g -d_z z_file.txt -d_ld chr1_ld.ld.bin -p ./data -ld_control 0.5 --all -t 4 > dap_annot \n",
    "    perl summarize_dap2enloc.pl -dir dap_rst_dir -vcf vcfs/$gene.vcf.gz | gzip - > annot/$gene.annot.vcf.gz"
   ]
  },
  {
   "cell_type": "markdown",
   "id": "gentle-trunk",
   "metadata": {
    "kernel": "SoS"
   },
   "source": [
    "### Step 3: Colocalization with fastENLOC"
   ]
  },
  {
   "cell_type": "code",
   "execution_count": null,
   "id": "visible-dubai",
   "metadata": {
    "kernel": "SoS"
   },
   "outputs": [],
   "source": [
    "[fastenloc]\n",
    "bash: \n",
    "    fastenloc -eqtl annot/$gene.annot.vcf.gz -gwas G1.gwas.pip.gz "
   ]
  },
  {
   "cell_type": "markdown",
   "id": "fixed-retro",
   "metadata": {
    "kernel": "SoS"
   },
   "source": [
    "## Minimum Working Example: "
   ]
  },
  {
   "cell_type": "code",
   "execution_count": null,
   "id": "superb-museum",
   "metadata": {
    "kernel": "SoS"
   },
   "outputs": [],
   "source": [
    "[example]\n",
    "bash: \n",
    "    torus -d zval.gz --load_zval -dump_pip gwas.pip\n",
    "    gzip gwas.pip\n",
    "    torus -d for_prior/ENSG00000110079.prior.txt.gz --fastqtl -dump_prior dumpENSG00000110079\n",
    "    dap-g -d_z z_files/ENSG00000110079.z.txt -d_ld lds/ENSG00000110079.ld -p dumpENSG00000110079/ENSG00000110079.prior -ld_control 0.5 --all -t 4 > dap_rst_dir/ENSG00000110079.dap\n",
    "    perl summarize_dap2enloc.pl -dir dap_rst_dir -vcf vcfs/ENSG00000110079.vcf.gz | gzip - > annot/ENSG00000110079.annot.vcf.gz\n",
    "    fastenloc -eqtl annot/ENSG00000110079.annot.vcf.gz -gwas gwas.pip.gz"
   ]
  },
  {
   "cell_type": "markdown",
   "id": "closed-least",
   "metadata": {
    "kernel": "SoS"
   },
   "source": [
    "#### Summary: "
   ]
  },
  {
   "cell_type": "code",
   "execution_count": 4,
   "id": "taken-macedonia",
   "metadata": {
    "kernel": "Bash"
   },
   "outputs": [
    {
     "name": "stdout",
     "output_type": "stream",
     "text": [
      "                Intercept    -9.075           -\n",
      "Enrichment (no shrinkage)     3.892       0.136\n",
      "Enrichment (w/ shrinkage)     3.822       0.135\n"
     ]
    }
   ],
   "source": [
    "head gwas.enloc.enrich.out"
   ]
  },
  {
   "cell_type": "code",
   "execution_count": 6,
   "id": "stupid-johnson",
   "metadata": {
    "kernel": "Bash"
   },
   "outputs": [
    {
     "name": "stdout",
     "output_type": "stream",
     "text": [
      "Signal\tNum_SNP\tCPIP_qtl\tCPIP_gwas_marginal\tCPIP_gwas_qtl_prior\tRCP\n",
      "ENSG00000238009:1      1  9.999e-01 2.290e-05    9.479e-04      9.479e-04\n",
      "ENSG00000227232:1      3  1.000e+00 6.493e-05    9.496e-04      9.107e-04\n",
      "ENSG00000238009:2      1  9.999e-01 2.167e-05    8.967e-04      8.967e-04\n",
      "ENSG00000269981:2      1  9.999e-01 2.085e-05    8.629e-04      8.629e-04\n",
      "ENSG00000238009:3      1  9.999e-01 2.108e-05    8.724e-04      8.724e-04\n",
      "ENSG00000269981:1      1  9.999e-01 2.108e-05    8.724e-04      8.724e-04\n",
      "ENSG00000268903:1      1  9.999e-01 2.108e-05    8.723e-04      8.723e-04\n",
      "ENSG00000239906:1      2  9.998e-01 4.184e-05    8.909e-04      8.721e-04\n",
      "ENSG00000279457:1      1  2.633e-01 2.027e-05    2.345e-04      2.209e-04\n"
     ]
    }
   ],
   "source": [
    "head gwas.enloc.sig.out"
   ]
  },
  {
   "cell_type": "code",
   "execution_count": 7,
   "id": "expected-utilization",
   "metadata": {
    "kernel": "Bash"
   },
   "outputs": [
    {
     "name": "stdout",
     "output_type": "stream",
     "text": [
      "Signal\tSNP\tPIP_qtl\tPIP_gwas_marginal\tPIP_gwas_qtl_prior\tSCP\n",
      "ENSG00000238009:1   chr1_63671_G_A_b38   9.999e-01 2.290e-05    9.479e-04      9.479e-04\n",
      "ENSG00000227232:1   chr1_665098_G_A_b38   3.025e-01 2.223e-05    2.923e-04      2.783e-04\n",
      "ENSG00000227232:1   chr1_666028_G_A_b38   6.410e-01 2.202e-05    5.913e-04      5.841e-04\n",
      "ENSG00000238009:2   chr1_108826_G_C_b38   9.999e-01 2.167e-05    8.967e-04      8.967e-04\n",
      "ENSG00000269981:2   chr1_133160_G_A_b38   9.999e-01 2.085e-05    8.629e-04      8.629e-04\n",
      "ENSG00000238009:3   chr1_135203_G_A_b38   9.999e-01 2.108e-05    8.724e-04      8.724e-04\n",
      "ENSG00000269981:1   chr1_135203_G_A_b38   9.999e-01 2.108e-05    8.724e-04      8.724e-04\n",
      "ENSG00000268903:1   chr1_135203_G_A_b38   9.999e-01 2.108e-05    8.723e-04      8.723e-04\n",
      "ENSG00000239906:1   chr1_135203_G_A_b38   9.885e-01 2.108e-05    8.626e-04      8.624e-04\n"
     ]
    }
   ],
   "source": [
    "head gwas.enloc.snp.out"
   ]
  },
  {
   "cell_type": "code",
   "execution_count": null,
   "id": "going-discipline",
   "metadata": {
    "kernel": "Bash"
   },
   "outputs": [],
   "source": []
  }
 ],
 "metadata": {
  "kernelspec": {
   "display_name": "SoS",
   "language": "sos",
   "name": "sos"
  },
  "language_info": {
   "codemirror_mode": "sos",
   "file_extension": ".sos",
   "mimetype": "text/x-sos",
   "name": "sos",
   "nbconvert_exporter": "sos_notebook.converter.SoS_Exporter",
   "pygments_lexer": "sos"
  },
  "sos": {
   "kernels": [
    [
     "Bash",
     "bash",
     "Bash",
     "#E6EEFF",
     "shell"
    ],
    [
     "SoS",
     "sos",
     "",
     "",
     "sos"
    ]
   ],
   "version": "0.22.4"
  }
 },
 "nbformat": 4,
 "nbformat_minor": 5
}
