{
 "cells": [
  {
   "cell_type": "markdown",
   "id": "4061b995-e011-4978-a36e-3e60e0cb8a1b",
   "metadata": {},
   "source": [
    "# Nature Protocol Manuscript Conversion\n",
    "Code to convert xQTL pipeline notebooks to format for Nature Protocol paper  \n"
   ]
  },
  {
   "cell_type": "code",
   "execution_count": 310,
   "id": "cfc19551-4713-4abe-8da5-677608ba06b7",
   "metadata": {
    "tags": []
   },
   "outputs": [],
   "source": [
    "import json\n",
    "import re\n",
    "import yaml\n"
   ]
  },
  {
   "cell_type": "markdown",
   "id": "a8500932-a127-478d-b3b1-245ad5c23568",
   "metadata": {},
   "source": [
    "## Setup"
   ]
  },
  {
   "cell_type": "code",
   "execution_count": 311,
   "id": "f0db4a23-9d6b-4023-9231-995ac333b574",
   "metadata": {
    "tags": []
   },
   "outputs": [],
   "source": [
    "def append_to_markdown(output_markdown_file, content):\n",
    "    with open(output_markdown_file, 'a') as md_file:\n",
    "        md_file.write(content + '\\n\\n')\n"
   ]
  },
  {
   "cell_type": "code",
   "execution_count": 312,
   "id": "dafd9eba-8de2-4fd9-b54e-ef334a8f44bd",
   "metadata": {
    "tags": []
   },
   "outputs": [],
   "source": [
    "manuscript_format_notebook = f\"example_manuscript.ipynb\"\n",
    "output_markdown_file = f\"output_markdown.md\""
   ]
  },
  {
   "cell_type": "code",
   "execution_count": 313,
   "id": "2b546971-49f3-4758-aa83-b37172c829d7",
   "metadata": {
    "tags": []
   },
   "outputs": [],
   "source": [
    "major_sections_keep = [\n",
    "    'Reference data',\n",
    "    'Molecular Phenotypes',\n",
    "    'Data Pre-processing'\n",
    "]\n",
    "\n",
    "miniprotocol_keep = [\n",
    "    '../../code/reference_data/reference_data.ipynb',\n",
    "    '../../code/molecular_phenotypes/bulk_expression.ipynb',\n",
    "    '../../code/molecular_phenotypes/splicing.ipynb',\n",
    "    '../../code/data_preprocessing/genotype_preprocessing.ipynb',\n",
    "    '../../code/data_preprocessing/phenotype_preprocessing.ipynb',\n",
    "    '../../code/data_preprocessing/covariate_preprocessing.ipynb',\n",
    "\n",
    "]"
   ]
  },
  {
   "cell_type": "code",
   "execution_count": 314,
   "id": "f7a51bb5-c3f7-4e60-a6c1-b44819aa93d9",
   "metadata": {
    "tags": []
   },
   "outputs": [],
   "source": [
    "\n",
    "#list of miniprotocols to simplify for each section of the manuscript\n",
    "miniprotocol_simplify = [\n",
    "    '../../code/reference_data/reference_data.ipynb',\n",
    "]"
   ]
  },
  {
   "cell_type": "code",
   "execution_count": 315,
   "id": "972eeb04-3019-4673-b9cf-66950842aa25",
   "metadata": {
    "tags": []
   },
   "outputs": [],
   "source": [
    "\n",
    "# Specify the path to your YAML file\n",
    "yaml_file_path = \"../_toc.yml\"\n",
    "\n",
    "# Load the YAML file\n",
    "with open(yaml_file_path, \"r\") as file:\n",
    "    yaml_data = yaml.safe_load(file)"
   ]
  },
  {
   "cell_type": "code",
   "execution_count": 316,
   "id": "c37b6088-aa95-4804-95f2-90ac50b28e1f",
   "metadata": {
    "tags": []
   },
   "outputs": [
    {
     "data": {
      "text/plain": [
       "{'Reference data': ['../../code/reference_data/reference_data.ipynb'],\n",
       " 'Molecular Phenotypes': ['../../code/molecular_phenotypes/bulk_expression.ipynb',\n",
       "  '../../code/molecular_phenotypes/splicing.ipynb'],\n",
       " 'Data Pre-processing': ['../../code/data_preprocessing/genotype_preprocessing.ipynb',\n",
       "  '../../code/data_preprocessing/phenotype_preprocessing.ipynb',\n",
       "  '../../code/data_preprocessing/covariate_preprocessing.ipynb']}"
      ]
     },
     "execution_count": 316,
     "metadata": {},
     "output_type": "execute_result"
    }
   ],
   "source": [
    "#dictionary with keys being the names of the major sections and \n",
    "#values being lists of the miniprotocol notebooks for that major section\n",
    "#these values should match the keys used in the 'miniprotocol_dict' below\n",
    "major_section_dict = {}\n",
    "for part in yaml_data['parts']:\n",
    "    caption = part['caption']\n",
    "    #filter\n",
    "    if caption in major_sections_keep: \n",
    "        miniprotocols = [f\"../../{file['file']}\" for file in part['chapters'] if f\"../../{file['file']}\" in miniprotocol_keep]\n",
    "        major_section_dict[caption] = miniprotocols\n",
    "major_section_dict\n",
    "\n",
    "###used to be in this format:\n",
    "#major_section_dict =  {\n",
    "#    \"Molecular Phenotype Quantification\": [\n",
    "#        f\"{WRKDIR}/bulk_expression/bulk_expression.ipynb\",\n",
    "#        f\"{WRKDIR}/splicing/splicing.ipynb\"\n",
    "#    ],\n",
    "#    \"Data Pre-Processing\":[\n",
    "#        f\"{WRKDIR}/data_preprocessing/covariate/covariate_preprocessing.ipynb\",\n",
    "#        ],\n",
    "#    \"QTL Association Analysis\":[],\n",
    "#    \"Integrative Analysis\":[]\n",
    "#}"
   ]
  },
  {
   "cell_type": "code",
   "execution_count": 317,
   "id": "c5bcec57-0cd5-428e-9959-a1cc418ea172",
   "metadata": {
    "tags": []
   },
   "outputs": [
    {
     "data": {
      "text/plain": [
       "{'../../code/reference_data/reference_data.ipynb': ['../../code/reference_data/reference_data_preparation.ipynb',\n",
       "  '../../code/reference_data/generalized_TADB.ipynb',\n",
       "  '../../code/reference_data/ld_prune_reference.ipynb'],\n",
       " '../../code/molecular_phenotypes/bulk_expression.ipynb': ['../../code/molecular_phenotypes/calling/RNA_calling.ipynb',\n",
       "  '../../code/molecular_phenotypes/QC/bulk_expression_QC.ipynb',\n",
       "  '../../code/molecular_phenotypes/QC/bulk_expression_normalization.ipynb'],\n",
       " '../../code/molecular_phenotypes/splicing.ipynb': ['../../code/molecular_phenotypes/calling/splicing_calling.ipynb',\n",
       "  '../../code/molecular_phenotypes/QC/splicing_normalization.ipynb'],\n",
       " '../../code/data_preprocessing/genotype_preprocessing.ipynb': ['../../code/data_preprocessing/genotype/VCF_QC.ipynb',\n",
       "  '../../code/data_preprocessing/genotype/GWAS_QC.ipynb',\n",
       "  '../../code/data_preprocessing/genotype/PCA.ipynb',\n",
       "  '../../code/data_preprocessing/genotype/GRM.ipynb',\n",
       "  '../../code/data_preprocessing/genotype/genotype_formatting.ipynb'],\n",
       " '../../code/data_preprocessing/phenotype_preprocessing.ipynb': ['../../code/data_preprocessing/phenotype/gene_annotation.ipynb',\n",
       "  '../../code/data_preprocessing/phenotype/phenotype_formatting.ipynb',\n",
       "  '../../code/data_preprocessing/phenotype/phenotype_imputation.ipynb'],\n",
       " '../../code/data_preprocessing/covariate_preprocessing.ipynb': ['../../code/data_preprocessing/covariate/covariate_hidden_factor.ipynb',\n",
       "  '../../code/data_preprocessing/covariate/covariate_formatting.ipynb']}"
      ]
     },
     "execution_count": 317,
     "metadata": {},
     "output_type": "execute_result"
    }
   ],
   "source": [
    "#dictionary with keys being the mininprotocol notebooks and \n",
    "#values being lists of the module notebooks for the miniprotocol\n",
    "miniprotocol_dict = {}\n",
    "for part in yaml_data['parts']:\n",
    "    for chapter in part['chapters']:\n",
    "        miniprotocol = f\"../../{chapter['file']}\"\n",
    "        #filter\n",
    "        if miniprotocol in miniprotocol_keep:\n",
    "            if 'sections' in chapter:\n",
    "                miniprotocol_dict[miniprotocol] = [f\"../../{module['file']}\" for module in chapter['sections']]\n",
    "            else:\n",
    "                miniprotocol_dict[miniprotocol] = []\n",
    "miniprotocol_dict\n",
    "###used to be in this format:\n",
    "#miniprotocol_dict = {\n",
    "#    f\"{WRKDIR}/bulk_expression/bulk_expression.ipynb\":[\n",
    "#        f\"{WRKDIR}/bulk_expression/RNA_calling.ipynb\",\n",
    "#        f\"{WRKDIR}/bulk_expression/bulk_expression_QC.ipynb\",\n",
    "#        f\"{WRKDIR}/bulk_expression/bulk_expression_normalization.ipynb\"\n",
    "#    ],\n",
    "#    f\"{WRKDIR}/splicing/splicing.ipynb\":[\n",
    "#        f\"{WRKDIR}/splicing/splicing_calling.ipynb\",\n",
    "#        f\"{WRKDIR}/splicing/splicing_normalization.ipynb\"\n",
    "#    ],\n",
    "#    f\"{WRKDIR}/data_preprocessing/covariate/covariate_preprocessing.ipynb\":[\n",
    "#        f\"{WRKDIR}/data_preprocessing/covariate/covariate_formatting.ipynb\",\n",
    "#        f\"{WRKDIR}/data_preprocessing/covariate/covariate_hidden_factor.ipynb\"\n",
    "#    ]\n",
    "#}        "
   ]
  },
  {
   "cell_type": "code",
   "execution_count": 318,
   "id": "ba8557c3-0e3f-45bc-8f59-fd05cdbb3171",
   "metadata": {
    "tags": []
   },
   "outputs": [],
   "source": [
    "#read the miniprotocol notebook and get the title (should be first cell)\n",
    "def get_miniprot_notebook_title(notebook_str):\n",
    "    with open(notebook_str, 'r') as miniprot_content:\n",
    "        miniprot_notebook = json.load(miniprot_content)\n",
    "        for i, cell in enumerate(miniprot_notebook[\"cells\"]):\n",
    "            \n",
    "            if cell[\"cell_type\"] == \"markdown\":\n",
    "                \n",
    "                if len(cell[\"source\"]) >0:\n",
    "                    if cell[\"source\"][0].startswith(\"# \"):\n",
    "                        miniprot_title = cell[\"source\"][0]\n",
    "                        miniprot_title = miniprot_title.replace(\"#\",\"\")\n",
    "                        print(miniprot_title)\n",
    "                        return miniprot_title"
   ]
  },
  {
   "cell_type": "code",
   "execution_count": 319,
   "id": "2cebb71a-090d-4bae-994c-d10cd0515369",
   "metadata": {
    "tags": []
   },
   "outputs": [],
   "source": [
    "#dictionary listing the procedure steps that will keep the full sos command in the manuscript (including parameters)\n",
    "#by default we will shorten the sos lines to remove parameters to improve readability\n",
    "#keys are the module notebook names (should match the values in the miniprotocol_dict above)\n",
    "#values are the names of the actual steps (should match the step name in the miniprotocol notebooks)\n",
    "full_code_steps = {\n",
    "    \"../../code/molecular_phenotypes/calling/RNA_calling.ipynb\":[\n",
    "        \"Perform data quality summary via `fastqc`\",\n",
    "        \"Cut adaptor (Optional)\"\n",
    "       ]\n",
    "}"
   ]
  },
  {
   "cell_type": "markdown",
   "id": "cd69e8a5-bf94-46db-86f9-a3f00523dafa",
   "metadata": {},
   "source": [
    "## Experimental Design Conversion"
   ]
  },
  {
   "cell_type": "code",
   "execution_count": 320,
   "id": "367f05d3-34cd-4ae2-ae02-0faed6a51fc8",
   "metadata": {
    "tags": []
   },
   "outputs": [],
   "source": [
    "#get the content for the experimental design of the manuscript by going through each miniprotocol for the \n",
    "#title and through each module for the descriptions\n",
    "def content_for_exp_design():\n",
    "    return_content = []\n",
    "    major_step = 1\n",
    "    #iterate over major sections dict\n",
    "    for major_section in major_section_dict.keys():\n",
    "        return_content.append(f\"#### {major_section} (Step {major_step})\")\n",
    "        major_step += 1\n",
    "        \n",
    "\n",
    "\n",
    "        miniprot_step = 1\n",
    "        #iterate over miniprotocols in each major section\n",
    "        for miniprot in major_section_dict[major_section]:\n",
    "            \n",
    "            #get the title of the miniprotocol\n",
    "            miniprot_title = f\"##### {chr(ord('@')+miniprot_step)}. {get_miniprot_notebook_title(miniprot)}\"\n",
    "            return_content.append(miniprot_title)\n",
    "            \n",
    "            #don't do much if this is one of the miniprotocols sections we want to simplify\n",
    "            if miniprot in miniprotocol_simplify:\n",
    "                return_content.append(f\"Please refer to the protocol website for more information on this miniprotocol.\")\n",
    "            else:\n",
    "                #iterate over modules in each miniprotocol                                    \n",
    "                for module in miniprotocol_dict[miniprot]:\n",
    "                    with open(module, 'r') as module_content:\n",
    "                        #flag to get the next cell (or cell after description header in this case)\n",
    "                        get_next_cell = False\n",
    "                        module_notebook = json.load(module_content)\n",
    "                        for i, cell in enumerate(module_notebook[\"cells\"]):\n",
    "                            if cell[\"cell_type\"] == \"markdown\":\n",
    "                                if len(cell[\"source\"]) >0:\n",
    "                                    content = cell[\"source\"][0]\n",
    "\n",
    "\n",
    "                                    if content.startswith(\"##\") and get_next_cell:\n",
    "                                        #reset the flag\n",
    "                                        get_next_cell = False\n",
    "                                    #add the description text\n",
    "                                    if get_next_cell:\n",
    "\n",
    "                                        return_content.append(\"\\n\" + \"\\n\".join(cell[\"source\"]))\n",
    "                                    if cell[\"source\"][0].startswith(\"## Description\"):\n",
    "                                        #tells us to get the next cell after the this one for the output\n",
    "                                        get_next_cell = True\n",
    "\n",
    "            miniprot_step += 1\n",
    "    return \"\\n\".join(return_content)"
   ]
  },
  {
   "cell_type": "markdown",
   "id": "63f69c6e-9a35-44cf-8a3e-ee0bbb3a322e",
   "metadata": {},
   "source": [
    "## Procedure Conversion"
   ]
  },
  {
   "cell_type": "code",
   "execution_count": 321,
   "id": "3576bd6f-012b-4fbb-9cbc-86d32100e9cb",
   "metadata": {
    "tags": []
   },
   "outputs": [],
   "source": [
    "def content_for_procedure():\n",
    "    return_content = []\n",
    "    return_content.append(\"> CRITICAL  \\n  To improve readability, the code outlined here highlights the notebook to run for each step and not the necessary parameters in some cases. Please refer to the protocol website for information on what parameters to include.\")\n",
    "    major_step = 1\n",
    "    \n",
    "    #iterate over major sections dict\n",
    "    for major_section in major_section_dict.keys():\n",
    "        return_content.append(f\"### {major_step}. {major_section}\")\n",
    "        major_step += 1\n",
    "        \n",
    "        miniprot_step = 1\n",
    "        #iterate over miniprotocols in each major section\n",
    "        for miniprot in major_section_dict[major_section]:\n",
    "            #get the title of the miniprotocol\n",
    "            miniprot_title = f\"#### {chr(ord('@')+miniprot_step)}. {get_miniprot_notebook_title(miniprot)}\"\n",
    "            return_content.append(miniprot_title)\n",
    "\n",
    "            miniprot_step += 1\n",
    "            #don't do much if this is one of the miniprotocols sections we want to simplify\n",
    "            if miniprot in miniprotocol_simplify:\n",
    "                return_content.append(f\"Please refer to the protocol website for more information on this miniprotocol.\")\n",
    "            else:\n",
    "                #iterate over modules in each miniprotocol to read the Minimal Working Example\n",
    "                for module in miniprotocol_dict[miniprot]:\n",
    "                    with open(module, 'r') as module_content:\n",
    "                        #flag for if we have found the mwe cell\n",
    "                        in_mwe = False\n",
    "                        keep_code_params = False\n",
    "                        module_notebook = json.load(module_content)\n",
    "                        for i, cell in enumerate(module_notebook[\"cells\"]):\n",
    "                            if cell[\"cell_type\"] == \"markdown\":\n",
    "                                if len(cell[\"source\"]) >0:\n",
    "                                    content = cell[\"source\"][0]\n",
    "\n",
    "                                    #if in the mwe part\n",
    "                                    if in_mwe:\n",
    "                                        #this is one of the sections with code\n",
    "                                        if content.startswith(\"### \"):\n",
    "                                            sub_title = content\n",
    "\n",
    "                                            keep_code_params = should_keep_sos_params(sub_title, module)\n",
    "\n",
    "                                            sub_title = sub_title.replace(\"###\", \"#####\")\n",
    "                                            return_content.append(sub_title)\n",
    "                                        #if we are on the cell with the timing info\n",
    "                                        if content.startswith(\"Timing\"):\n",
    "                                            return_content.append(content.replace(\":\",\"\"))\n",
    "                                        #reset the flag if we are at the troubleshooting part (after mwe)\n",
    "                                        if content.startswith(\"## \"):\n",
    "                                            in_mwe = False\n",
    "\n",
    "                                    #check if we have reached the MWE part of the module\n",
    "                                    if content.startswith(\"## Minimal Working Example\"):\n",
    "                                        #tells us to get the next cell after the this one for the output\n",
    "                                        in_mwe = True\n",
    "                            #if at a code cell and in MWE, then add the code to the output\n",
    "                            elif cell[\"cell_type\"] == \"code\" and in_mwe:\n",
    "                                if keep_code_params:\n",
    "                                    code_content = '\\n```\\n' + ''.join(cell[\"source\"]) + '\\n```\\n\\n'\n",
    "                                else:\n",
    "                                    code_content = simplify_sos_code(cell[\"source\"])\n",
    "                                return_content.append(code_content)                        \n",
    "\n",
    "    return \"\\n\".join(return_content)"
   ]
  },
  {
   "cell_type": "code",
   "execution_count": 322,
   "id": "9d4a1dab-52a2-4875-a88c-32742f7c657a",
   "metadata": {
    "tags": []
   },
   "outputs": [],
   "source": [
    "#checks the full_code_steps dictionary to determine if the step_name is in there\n",
    "def should_keep_sos_params(step_name, module):\n",
    "    if module in full_code_steps.keys():\n",
    "        for step in full_code_steps[module]:\n",
    "            if step_name.split('.', 1)[1].strip() in step:\n",
    "                return True\n",
    "    return False"
   ]
  },
  {
   "cell_type": "code",
   "execution_count": 323,
   "id": "5cb3628a-6890-4254-9e7d-576ae8ef73bc",
   "metadata": {
    "tags": []
   },
   "outputs": [],
   "source": [
    "#simplify an sos code block to only include the part with the notebook and the container\n",
    "def simplify_sos_code(code):\n",
    "    filtered_code = []\n",
    "    for c in code:\n",
    "        if \"ipynb\" in c:\n",
    "            filtered_code.append(c)\n",
    "        elif \"--container\" in c:\n",
    "            filtered_code.append(c)\n",
    "    return '\\n```\\n' + ''.join(filtered_code) + '\\n```\\n\\n'"
   ]
  },
  {
   "cell_type": "markdown",
   "id": "17dee33f-0b4d-4b48-b63f-3fc223fadc9c",
   "metadata": {},
   "source": [
    "## Timing Conversion"
   ]
  },
  {
   "cell_type": "code",
   "execution_count": 324,
   "id": "bb5d8350-f3c5-4215-9546-5269a36af31a",
   "metadata": {
    "tags": []
   },
   "outputs": [],
   "source": [
    "#get the content for the timing seection of the manuscript by going through each miniprotocol\n",
    "def content_for_timing():\n",
    "    return_content = []\n",
    "    return_content.append(f\"| Step(Major Section) | Substep(Miniprotocol) | Time|\")\n",
    "    return_content.append(f\"|------|-----|----|\")\n",
    "    \n",
    "    #iterate over major sections dict\n",
    "    for major_section in major_section_dict.keys():\n",
    "        table_row = \"\"\n",
    "        table_row = table_row + f\"|{major_section}\"\n",
    "        #iterate over miniprotocols in each major section\n",
    "        for miniprot in major_section_dict[major_section]:\n",
    "            with open(miniprot, 'r') as miniprot_content:\n",
    "                #get the title of the miniprotocol\n",
    "                miniprot_title = f\"{get_miniprot_notebook_title(miniprot)}\".replace(\"\\n\",\"\")\n",
    "                table_row = table_row + f\"|{miniprot_title}\"\n",
    "\n",
    "                miniprot_notebook = json.load(miniprot_content)\n",
    "                for i, cell in enumerate(miniprot_notebook[\"cells\"]):\n",
    "                    if cell[\"cell_type\"] == \"markdown\":\n",
    "                        if len(cell[\"source\"]) >0:\n",
    "                            content = cell[\"source\"][0]\n",
    "                            if content.startswith(\"#### Miniprotocol Timing\"):\n",
    "                                for c in cell[\"source\"]:\n",
    "                                    if c.startswith(\"Timing\"):\n",
    "                                        table_row = table_row +f\"|{c.replace('Timing','')}|\"\n",
    "                                        return_content.append(table_row)\n",
    "                                        break\n",
    "                table_row = \"| \"\n",
    "        table_row = \"\"\n",
    "    return \"\\n\".join(return_content)"
   ]
  },
  {
   "cell_type": "markdown",
   "id": "cdb44d5c-6222-42a5-8b2f-b8e73506d831",
   "metadata": {},
   "source": [
    "## Anticipated Results Conversion"
   ]
  },
  {
   "cell_type": "code",
   "execution_count": 325,
   "id": "b0ac630f-5c03-4369-98d4-6b525623b6a0",
   "metadata": {
    "tags": []
   },
   "outputs": [],
   "source": [
    "#get the content for the anticipated results seection of the manuscript by going through each miniprotocol\n",
    "def content_for_anticipated_results():\n",
    "    \n",
    "    return_content = []\n",
    "    \n",
    "    \n",
    "    #iterate over major sections dict\n",
    "    for major_section in major_section_dict.keys():\n",
    "        miniprot_step = 1\n",
    "        on_results = False\n",
    "        #iterate over miniprotocols in each major section\n",
    "        for miniprot in major_section_dict[major_section]:\n",
    "\n",
    "            #get the title of the miniprotocol\n",
    "            miniprot_title = f\"#### {chr(ord('@')+miniprot_step)}. {get_miniprot_notebook_title(miniprot)}\"\n",
    "            return_content.append(miniprot_title)\n",
    "            \n",
    "            miniprot_step += 1\n",
    "                \n",
    "            with open(miniprot, 'r') as miniprot_content:\n",
    "\n",
    "                miniprot_notebook = json.load(miniprot_content)\n",
    "                for i, cell in enumerate(miniprot_notebook[\"cells\"]):\n",
    "                    if cell[\"cell_type\"] == \"markdown\":\n",
    "                        if len(cell[\"source\"]) >0:\n",
    "                            content = cell[\"source\"][0]\n",
    "                            if on_results:\n",
    "                                return_content.append(content)\n",
    "                                on_results = False\n",
    "                            if content.startswith(\"## Anticipated Results\"):\n",
    "                                on_results = True\n",
    "    return \"\\n\".join(return_content)"
   ]
  },
  {
   "cell_type": "markdown",
   "id": "092cfbe8-19ed-4e8d-b201-8decdcfbeee1",
   "metadata": {},
   "source": [
    "## References Conversion"
   ]
  },
  {
   "cell_type": "code",
   "execution_count": 326,
   "id": "8693ff42-3942-44a7-8ea8-8c2aa04446a5",
   "metadata": {
    "tags": []
   },
   "outputs": [],
   "source": [
    "def content_for_references():\n",
    "    \n",
    "    return_content = []\n",
    "    \n",
    "    #hold the references in a list fromatted as \"author year doi\"\n",
    "    #use this to check for duplicates and to order correctly\n",
    "    ref_list = []\n",
    "    \n",
    "    \n",
    "    #for now just check through the experimental design text \n",
    "    exp_design = content_for_exp_design()\n",
    "    \n",
    "    \n",
    "    \n",
    "    # look for the pattern for references. Should look like:\n",
    "    #[cf. Signal et al (2022)](https://doi.org/10.1186/s12859-022-04572-7)\n",
    "    pattern = r'\\[cf(.*?)\\]\\((.*?)\\)'\n",
    "\n",
    "    # Use re.findall to find all occurrences of the pattern in the input string\n",
    "    matches = re.findall(pattern, exp_design)\n",
    "\n",
    "    # look through all the matches and add to the ref_list\n",
    "    for match in matches:\n",
    "        ref_text = match[0]\n",
    "        doi = match[1]\n",
    "        year = re.findall(r'\\b\\d{4}\\b', match[0])[0]\n",
    "        author = re.findall(r'\\s([a-zA-Z]+)\\s', match[0])[0]\n",
    "        \n",
    "        for_ref_list = f\"{author} et al. {year}. {doi}\"\n",
    "        #make sure it isn't already added before adding\n",
    "        if for_ref_list not in ref_list:\n",
    "            ref_list.append(for_ref_list)\n",
    "    \n",
    "    \n",
    "    ref_num = 1\n",
    "    #now iterate through the ref_list and add to the return content\n",
    "    for ref in ref_list:\n",
    "        return_content.append(f\"{ref_num}. {ref} \")\n",
    "        ref_num+=1\n",
    "    return \"\\n\".join(return_content)\n",
    "\n",
    "    \n",
    "    "
   ]
  },
  {
   "cell_type": "markdown",
   "id": "1a7c052e-fee8-4bbb-bd3f-6dcec2d8008a",
   "metadata": {},
   "source": [
    "# Do the conversion\n",
    "This reads through the example_manuscript.ipynb and the miniprotocol and module notebooks to create a markdown file"
   ]
  },
  {
   "cell_type": "code",
   "execution_count": 327,
   "id": "edfd870c-3b73-483e-aecd-909f5019421a",
   "metadata": {
    "scrolled": true,
    "tags": []
   },
   "outputs": [
    {
     "name": "stdout",
     "output_type": "stream",
     "text": [
      " Reference Data\n",
      "\n",
      " RNA-seq expression\n",
      "\n",
      " Alternative splicing from RNA-seq data\n",
      "\n",
      " Genotype data preprocessing\n",
      "\n",
      " Phenotype data preprocessing\n",
      "\n",
      " Covariate Data Preprocessing\n",
      "\n",
      " Reference Data\n",
      "\n",
      " RNA-seq expression\n",
      "\n",
      " Alternative splicing from RNA-seq data\n",
      "\n",
      " Genotype data preprocessing\n",
      "\n",
      " Phenotype data preprocessing\n",
      "\n",
      " Covariate Data Preprocessing\n",
      "\n",
      " Reference Data\n",
      "\n",
      " RNA-seq expression\n",
      "\n",
      " Alternative splicing from RNA-seq data\n",
      "\n",
      " Genotype data preprocessing\n",
      "\n",
      " Phenotype data preprocessing\n",
      "\n",
      " Covariate Data Preprocessing\n",
      "\n",
      " Reference Data\n",
      "\n",
      " RNA-seq expression\n",
      "\n",
      " Alternative splicing from RNA-seq data\n",
      "\n",
      " Genotype data preprocessing\n",
      "\n",
      " Phenotype data preprocessing\n",
      "\n",
      " Covariate Data Preprocessing\n",
      "\n",
      " Reference Data\n",
      "\n",
      " RNA-seq expression\n",
      "\n",
      " Alternative splicing from RNA-seq data\n",
      "\n",
      " Genotype data preprocessing\n",
      "\n",
      " Phenotype data preprocessing\n",
      "\n",
      " Covariate Data Preprocessing\n",
      "\n"
     ]
    }
   ],
   "source": [
    "with open(manuscript_format_notebook, 'r') as manuscript_format:\n",
    "    notebook = json.load(manuscript_format)\n",
    "# Clearing the content of the markdown file before appending new content\n",
    "open(output_markdown_file, 'w').close()\n",
    "#flag to tell us if we are in the procedure part. Used to skip some of the content in \n",
    "#the example_manuscript.ipynb that will be added programmatically here\n",
    "in_procedure = False\n",
    "\n",
    "for i, cell in enumerate(notebook[\"cells\"]):\n",
    "    if cell[\"cell_type\"] == \"markdown\":\n",
    "\n",
    "        if len(cell[\"source\"]) >0:\n",
    "\n",
    "            content = cell[\"source\"][0]\n",
    "            # one of the main sections (Title, Abstract, Procedure, etc...)\n",
    "            if content.startswith(\"## \"):\n",
    "                section_title = ''.join(cell[\"source\"]) + '\\n\\n'\n",
    "                append_to_markdown(output_markdown_file, section_title)\n",
    "                #if in procedure and we hit a new section, then we are no longer in the procedure section\n",
    "                if in_procedure:\n",
    "                    in_procedure = False\n",
    "                #get content for procedure section\n",
    "                if content.startswith(\"## Procedure\"):\n",
    "                    in_procedure = True\n",
    "                    proc = content_for_procedure()\n",
    "                    append_to_markdown(output_markdown_file, proc)\n",
    "                #get content for timing section\n",
    "                if content.startswith(\"## Timing\"):\n",
    "                    in_procedure = False\n",
    "                    timing = content_for_timing()\n",
    "                    append_to_markdown(output_markdown_file, timing)\n",
    "                #get content for anticipated results section\n",
    "                if content.startswith(\"## Anticipated Results\"):\n",
    "                    in_procedure = False\n",
    "                    antires = content_for_anticipated_results()\n",
    "                    append_to_markdown(output_markdown_file, antires)\n",
    "                #get content for references section\n",
    "                if content.startswith(\"## References\"):\n",
    "                    in_procedure = False\n",
    "                    ref = content_for_references()\n",
    "                    append_to_markdown(output_markdown_file, ref)\n",
    "            #other sub sections\n",
    "            if content.startswith(\"### \") and not in_procedure:\n",
    "                section_title = ''.join(cell[\"source\"]) + '\\n\\n'\n",
    "\n",
    "                append_to_markdown(output_markdown_file, section_title)\n",
    "                # experimental design subsection of Introduction\n",
    "                if content.startswith(\"### Experimental Design\"):\n",
    "                    exp = content_for_exp_design()\n",
    "\n",
    "                    append_to_markdown(output_markdown_file, exp)\n"
   ]
  },
  {
   "cell_type": "code",
   "execution_count": null,
   "id": "c9e99403-69fd-4c97-a616-1b2301ba9a08",
   "metadata": {},
   "outputs": [],
   "source": []
  },
  {
   "cell_type": "code",
   "execution_count": null,
   "id": "30dc881d-5f9e-453f-aa15-d6d19231dc97",
   "metadata": {},
   "outputs": [],
   "source": []
  }
 ],
 "metadata": {
  "kernelspec": {
   "display_name": "Python 3 (ipykernel)",
   "language": "python",
   "name": "python3"
  },
  "language_info": {
   "codemirror_mode": {
    "name": "ipython",
    "version": 3
   },
   "file_extension": ".py",
   "mimetype": "text/x-python",
   "name": "python",
   "nbconvert_exporter": "python",
   "pygments_lexer": "ipython3",
   "version": "3.11.2"
  }
 },
 "nbformat": 4,
 "nbformat_minor": 5
}
