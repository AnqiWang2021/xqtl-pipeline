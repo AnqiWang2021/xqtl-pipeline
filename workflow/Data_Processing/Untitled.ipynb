{
 "cells": [
  {
   "cell_type": "code",
   "execution_count": 1,
   "id": "2befdd1b-0d72-4ee5-8b46-cdc88d02b211",
   "metadata": {
    "kernel": "SoS",
    "tags": []
   },
   "outputs": [
    {
     "ename": "ParsingError",
     "evalue": "File contains parsing errors: \n\t[line  2]: output_pd = pd.DataFrame({\n    \"merged_analysis_unit\" : [\"1\",\"2],\n    \"resid_corr\" : [3,4],\n    \"ud_prior\" : [5,6],\n    \"ted_prior\" : [7,8],\n\nInvalid statements: SyntaxError('EOL while scanning string literal', ('<string>', 2, 39, '    \"merged_analysis_unit\" : [\"1\",\"2],\\n'))",
     "execution_count": 1,
     "output_type": "error",
     "status": "error",
     "traceback": [
      "\u001b[91mFile contains parsing errors: \n\t[line  2]: output_pd = pd.DataFrame({\n    \"merged_analysis_unit\" : [\"1\",\"2],\n    \"resid_corr\" : [3,4],\n    \"ud_prior\" : [5,6],\n    \"ted_prior\" : [7,8],\n\nInvalid statements: SyntaxError('EOL while scanning string literal', ('<string>', 2, 39, '    \"merged_analysis_unit\" : [\"1\",\"2],\\n'))\u001b[0m"
     ]
    }
   ],
   "source": [
    "output_pd = pd.DataFrame({\n",
    "    \"merged_analysis_unit\" : [\"/mnt/mfs/statgen/xqtl_workflow_testing/testing_1/merged_analysis_unit_template\"],\n",
    "    \"resid_corr\" : [\"resid_corr\"],\n",
    "    \"ud_prior\" : [\"ud_prior\"],\n",
    "    \"ted_prior\" : [\"ted_prior\"],\n",
    "    \"ed_prior\" : [\"ed_prior\"],\n",
    "    \"Theme_prefix\" : [\"Theme_prefix\"]})"
   ]
  },
  {
   "cell_type": "code",
   "execution_count": 4,
   "id": "64a44cc9-cf71-4a7a-af8f-2b862d01dcec",
   "metadata": {
    "kernel": "SoS"
   },
   "outputs": [],
   "source": [
    "import pandas as pd\n",
    "data = [['/mnt/mfs/statgen/xqtl_workflow_testing/testing_1/Data_Processing/Phenotype/AC.mol_phe.chr_list','/mnt/mfs/statgen/xqtl_workflow_testing/testing_1/Data_Processing/Genotype/GRM/AC.grm_list.txt','/mnt/mfs/statgen/xqtl_workflow_testing/testing_1/Data_Processing/Genotype/AC.filtered.plink.genotype_list','/mnt/mfs/statgen/xqtl_workflow_testing/testing_1/Data_Processing/Genotype/AC_vcf_geno/AC.vcf_geno_list.txt','/mnt/mfs/statgen/xqtl_workflow_testing/testing_1/Data_Processing/Factor_and_Covariate/AC.APEX.pca.cov']]\n",
    "df = pd.DataFrame(data,columns = [\"molecular_pheno_chr_list\",\"grm_list\",\"covariate_factor_pca\",\n",
    "                                    \"qced_plink_genotype_list\",\"qced_vcf_genotype_list\"]  ).assign(name = \"AC\")\n",
    "df.to_csv(\"/mnt/mfs/statgen/xqtl_workflow_testing/testing_1/Data_Processing/AC.data_proc_output_recipe.tsv\",index = 0,sep = \"\\t\" )"
   ]
  },
  {
   "cell_type": "code",
   "execution_count": 5,
   "id": "6c7d8b31-14ff-46a6-a2f2-0afa1bc73006",
   "metadata": {
    "kernel": "SoS"
   },
   "outputs": [
    {
     "data": {
      "text/html": [
       "<div>\n",
       "<style scoped>\n",
       "    .dataframe tbody tr th:only-of-type {\n",
       "        vertical-align: middle;\n",
       "    }\n",
       "\n",
       "    .dataframe tbody tr th {\n",
       "        vertical-align: top;\n",
       "    }\n",
       "\n",
       "    .dataframe thead th {\n",
       "        text-align: right;\n",
       "    }\n",
       "</style>\n",
       "<table border=\"1\" class=\"dataframe\">\n",
       "  <thead>\n",
       "    <tr style=\"text-align: right;\">\n",
       "      <th></th>\n",
       "      <th>molecular_pheno_chr_list</th>\n",
       "      <th>grm_list</th>\n",
       "      <th>covariate_factor_pca</th>\n",
       "      <th>qced_plink_genotype_list</th>\n",
       "      <th>qced_vcf_genotype_list</th>\n",
       "      <th>name</th>\n",
       "    </tr>\n",
       "  </thead>\n",
       "  <tbody>\n",
       "    <tr>\n",
       "      <th>0</th>\n",
       "      <td>/mnt/mfs/statgen/xqtl_workflow_testing/testing...</td>\n",
       "      <td>/mnt/mfs/statgen/xqtl_workflow_testing/testing...</td>\n",
       "      <td>/mnt/mfs/statgen/xqtl_workflow_testing/testing...</td>\n",
       "      <td>/mnt/mfs/statgen/xqtl_workflow_testing/testing...</td>\n",
       "      <td>/mnt/mfs/statgen/xqtl_workflow_testing/testing...</td>\n",
       "      <td>AC</td>\n",
       "    </tr>\n",
       "  </tbody>\n",
       "</table>\n",
       "</div>"
      ],
      "text/plain": [
       "                            molecular_pheno_chr_list  \\\n",
       "0  /mnt/mfs/statgen/xqtl_workflow_testing/testing...   \n",
       "\n",
       "                                            grm_list  \\\n",
       "0  /mnt/mfs/statgen/xqtl_workflow_testing/testing...   \n",
       "\n",
       "                                covariate_factor_pca  \\\n",
       "0  /mnt/mfs/statgen/xqtl_workflow_testing/testing...   \n",
       "\n",
       "                            qced_plink_genotype_list  \\\n",
       "0  /mnt/mfs/statgen/xqtl_workflow_testing/testing...   \n",
       "\n",
       "                              qced_vcf_genotype_list name  \n",
       "0  /mnt/mfs/statgen/xqtl_workflow_testing/testing...   AC  "
      ]
     },
     "execution_count": 5,
     "metadata": {},
     "output_type": "execute_result"
    }
   ],
   "source": [
    "df"
   ]
  },
  {
   "cell_type": "code",
   "execution_count": null,
   "id": "0d0f8c9d-1fb0-4f00-ad58-2bb545829b41",
   "metadata": {
    "kernel": "SoS"
   },
   "outputs": [],
   "source": [
    "LD_pd = pd.DataFrame({\n",
    "    \"ld_file_prefix\" : [\"a\"],\n",
    "    \"ld_file_surfix\" : [\"a\"]})\n"
   ]
  },
  {
   "cell_type": "code",
   "execution_count": null,
   "id": "eb148fea-1d5b-461f-9f61-b314fd547f24",
   "metadata": {
    "kernel": "SoS"
   },
   "outputs": [],
   "source": [
    "sed '#parameter*named_output' /home/hs3163/GIT/ADSPFG-xQTL/workflow/Data_Processing/Data_Processing_debug.ipynb"
   ]
  },
  {
   "cell_type": "code",
   "execution_count": null,
   "id": "527200c5-6289-4da0-8e61-793d9c9d992a",
   "metadata": {
    "kernel": "SoS"
   },
   "outputs": [],
   "source": [
    "sos dryrun /home/hs3163/GIT/ADSPFG-xQTL/workflow/Data_Processing/Data_Processing_debug.ipynb Recipe  --molecular_pheno_whole /home/hs3163/Project/Rosmap/data/gene_exp/AC/geneTpmResidualsAgeGenderAdj_rename.txt     --region_list ~/GIT/ADSPFG-xQTL/MWE/mwe_region     --genotype_list /home/hs3163/Project/Rosmap/data/Rosmap_wgs_genotype_list.txt     --covariate .     --name AC     --container_lmm /mnt/mfs/statgen/containers/lmm.sif     --container /mnt/mfs/statgen/containers/twas_latest.sif      --container_apex '/mnt/mfs/statgen/containers/apex.sif'     --wd /mnt/mfs/statgen/xqtl_workflow_testing/testing_1/Data_Processing/"
   ]
  }
 ],
 "metadata": {
  "kernelspec": {
   "display_name": "Python 3 (ipykernel)",
   "language": "python",
   "name": "python3"
  },
  "language_info": {
   "codemirror_mode": {
    "name": "ipython",
    "version": 3
   },
   "file_extension": ".py",
   "mimetype": "text/x-python",
   "name": "python",
   "nbconvert_exporter": "python",
   "pygments_lexer": "ipython3",
   "version": "3.9.5"
  },
  "sos": {
   "kernels": [
    [
     "SoS",
     "sos",
     "",
     ""
    ]
   ],
   "version": "0.22.6"
  }
 },
 "nbformat": 4,
 "nbformat_minor": 5
}
