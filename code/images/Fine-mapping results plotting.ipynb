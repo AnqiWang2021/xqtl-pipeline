{
 "cells": [
  {
   "cell_type": "markdown",
   "id": "273f9e97-4744-4d0e-88a4-e1413aecbfa1",
   "metadata": {
    "kernel": "SoS"
   },
   "source": [
    "# Plotting the Fine-mapping results"
   ]
  },
  {
   "cell_type": "code",
   "execution_count": 1,
   "id": "7ba30de4-10be-401d-be55-6aef4d20e9fc",
   "metadata": {
    "kernel": "SoS"
   },
   "outputs": [],
   "source": [
    "import pandas as pd"
   ]
  },
  {
   "cell_type": "code",
   "execution_count": 2,
   "id": "b4c2e909-033b-40a9-a469-90c6f17ffe5c",
   "metadata": {
    "kernel": "SoS"
   },
   "outputs": [],
   "source": [
    "plot_list  = pd.read_csv(\"/mnt/mfs/hgrcgrid/homes/xc2610/7_cells/UpsetR_recipe\", sep = \"\\t\")\n",
    "file_type = plot_list.columns.values.tolist()\n",
    "file_type = [x.split(\".\")[0] for x in file_type ]\n",
    "plot_list = plot_list.to_dict(\"records\")"
   ]
  },
  {
   "cell_type": "code",
   "execution_count": 3,
   "id": "57fe8753-b459-4c27-937e-db0219b80dcd",
   "metadata": {
    "kernel": "SoS"
   },
   "outputs": [
    {
     "data": {
      "text/plain": [
       "[{'cell-specific eQTL': '/mnt/mfs/hgrcgrid/homes/xc2610/7_cells/7_cells_all_variants_zero_no_dup.tsv',\n",
       "  'haQTL': '/mnt/vast/hpc/csg/molecular_phenotype_calling/QTL_fine_mapping/output/haQTL_pure_completed_unlimited.tsv',\n",
       "  'mQTL': '/mnt/vast/hpc/csg/molecular_phenotype_calling/QTL_fine_mapping/output/meQTL_pure_completed_unlimited.tsv',\n",
       "  'eQTL': '/mnt/vast/hpc/csg/molecular_phenotype_calling/sQTL_finemapping/ROSMAP_psichomics/Plot_final/eqtl_all_variants_zero.tsv',\n",
       "  'sQTL(PSI)': '/mnt/vast/hpc/csg/molecular_phenotype_calling/sQTL_finemapping/ROSMAP_psichomics/Plot_final/PSI_all_variants_zero.tsv',\n",
       "  'pQTL': '/mnt/vast/hpc/csg/molecular_phenotype_calling/sQTL_finemapping/ROSMAP_psichomics/Plot_final/pqtl_all_variants_zero.tsv',\n",
       "  'ADGWAS': '/mnt/vast/hpc/csg/xqtl_workflow_testing/susie_rss/output/ADGWAS_finemapping_extracted/Bellenguez/ADGWAS_sumstat'}]"
      ]
     },
     "execution_count": 3,
     "metadata": {},
     "output_type": "execute_result"
    }
   ],
   "source": [
    "plot_list"
   ]
  },
  {
   "cell_type": "code",
   "execution_count": 4,
   "id": "1f4fa6a1-968e-43a6-89f1-c95d7805547d",
   "metadata": {
    "kernel": "SoS"
   },
   "outputs": [
    {
     "data": {
      "text/plain": [
       "\"cell-specific eQTL','haQTL','mQTL','eQTL','sQTL(PSI)','pQTL','ADGWAS\""
      ]
     },
     "execution_count": 4,
     "metadata": {},
     "output_type": "execute_result"
    }
   ],
   "source": [
    "\"','\".join(file_type)"
   ]
  },
  {
   "cell_type": "code",
   "execution_count": 5,
   "id": "5475f5a6-d33c-42c1-a7fe-d455af7e5d45",
   "metadata": {
    "kernel": "R",
    "tags": []
   },
   "outputs": [
    {
     "name": "stderr",
     "output_type": "stream",
     "text": [
      "\n",
      "Attaching package: ‘dplyr’\n",
      "\n",
      "\n",
      "The following objects are masked from ‘package:stats’:\n",
      "\n",
      "    filter, lag\n",
      "\n",
      "\n",
      "The following objects are masked from ‘package:base’:\n",
      "\n",
      "    intersect, setdiff, setequal, union\n",
      "\n",
      "\n",
      "\n",
      "Attaching package: ‘ComplexUpset’\n",
      "\n",
      "\n",
      "The following object is masked from ‘package:UpSetR’:\n",
      "\n",
      "    upset\n",
      "\n",
      "\n"
     ]
    }
   ],
   "source": [
    "library(\"dplyr\")\n",
    "library(\"readr\") \n",
    "library(\"ggplot2\")\n",
    "library(\"purrr\")\n",
    "library(\"UpSetR\")\n",
    "library(\"ComplexUpset\")"
   ]
  },
  {
   "cell_type": "code",
   "execution_count": 8,
   "id": "6f1b3f05-9119-450b-837d-46407d5689a7",
   "metadata": {
    "kernel": "R",
    "tags": []
   },
   "outputs": [],
   "source": [
    "plot_recipe = tibble( type = c('ct-eQTL','haQTL','meQTL','eQTL','sQTL(PSI)','pQTL','Bellenguez et al (2022)'), path = c('/mnt/mfs/hgrcgrid/homes/xc2610/7_cells/7_cells_all_variants_zero_no_dup.tsv', \n",
    "                                                                                                                 '/mnt/vast/hpc/csg/molecular_phenotype_calling/QTL_fine_mapping/output/haQTL_pure_completed_unlimited.tsv',\n",
    "                                                                                                                 '/mnt/vast/hpc/csg/molecular_phenotype_calling/QTL_fine_mapping/output/meQTL_pure_completed_unlimited.tsv',\n",
    "                                                                                                                 '/mnt/vast/hpc/csg/molecular_phenotype_calling/sQTL_finemapping/ROSMAP_psichomics/Plot_final/eqtl_all_variants_zero.tsv',\n",
    "                                                                                                                 '/mnt/vast/hpc/csg/molecular_phenotype_calling/sQTL_finemapping/ROSMAP_psichomics/Plot_final/PSI_all_variants_zero.tsv',\n",
    "                                                                                                                 '/mnt/vast/hpc/csg/molecular_phenotype_calling/sQTL_finemapping/ROSMAP_psichomics/Plot_final/pqtl_all_variants_zero.tsv',\n",
    "                                                                                                                 '/mnt/vast/hpc/csg/xqtl_workflow_testing/susie_rss/output/ADGWAS_finemapping_extracted/Bellenguez/ADGWAS_sumstat'))"
   ]
  },
  {
   "cell_type": "code",
   "execution_count": 9,
   "id": "348c316e-3ef1-4924-ae59-c4dfff9f5706",
   "metadata": {
    "kernel": "R"
   },
   "outputs": [
    {
     "data": {
      "text/html": [
       "<table class=\"dataframe\">\n",
       "<caption>A tibble: 7 × 2</caption>\n",
       "<thead>\n",
       "\t<tr><th scope=col>type</th><th scope=col>path</th></tr>\n",
       "\t<tr><th scope=col>&lt;chr&gt;</th><th scope=col>&lt;chr&gt;</th></tr>\n",
       "</thead>\n",
       "<tbody>\n",
       "\t<tr><td>ct-eQTL                </td><td>/mnt/mfs/hgrcgrid/homes/xc2610/7_cells/7_cells_all_variants_zero_no_dup.tsv                                           </td></tr>\n",
       "\t<tr><td>haQTL                  </td><td>/mnt/vast/hpc/csg/molecular_phenotype_calling/QTL_fine_mapping/output/haQTL_pure_completed_unlimited.tsv              </td></tr>\n",
       "\t<tr><td>meQTL                  </td><td>/mnt/vast/hpc/csg/molecular_phenotype_calling/QTL_fine_mapping/output/meQTL_pure_completed_unlimited.tsv              </td></tr>\n",
       "\t<tr><td>eQTL                   </td><td>/mnt/vast/hpc/csg/molecular_phenotype_calling/sQTL_finemapping/ROSMAP_psichomics/Plot_final/eqtl_all_variants_zero.tsv</td></tr>\n",
       "\t<tr><td>sQTL(PSI)              </td><td>/mnt/vast/hpc/csg/molecular_phenotype_calling/sQTL_finemapping/ROSMAP_psichomics/Plot_final/PSI_all_variants_zero.tsv </td></tr>\n",
       "\t<tr><td>pQTL                   </td><td>/mnt/vast/hpc/csg/molecular_phenotype_calling/sQTL_finemapping/ROSMAP_psichomics/Plot_final/pqtl_all_variants_zero.tsv</td></tr>\n",
       "\t<tr><td>Bellenguez et al (2022)</td><td>/mnt/vast/hpc/csg/xqtl_workflow_testing/susie_rss/output/ADGWAS_finemapping_extracted/Bellenguez/ADGWAS_sumstat       </td></tr>\n",
       "</tbody>\n",
       "</table>\n"
      ],
      "text/latex": [
       "A tibble: 7 × 2\n",
       "\\begin{tabular}{ll}\n",
       " type & path\\\\\n",
       " <chr> & <chr>\\\\\n",
       "\\hline\n",
       "\t ct-eQTL                 & /mnt/mfs/hgrcgrid/homes/xc2610/7\\_cells/7\\_cells\\_all\\_variants\\_zero\\_no\\_dup.tsv                                           \\\\\n",
       "\t haQTL                   & /mnt/vast/hpc/csg/molecular\\_phenotype\\_calling/QTL\\_fine\\_mapping/output/haQTL\\_pure\\_completed\\_unlimited.tsv              \\\\\n",
       "\t meQTL                   & /mnt/vast/hpc/csg/molecular\\_phenotype\\_calling/QTL\\_fine\\_mapping/output/meQTL\\_pure\\_completed\\_unlimited.tsv              \\\\\n",
       "\t eQTL                    & /mnt/vast/hpc/csg/molecular\\_phenotype\\_calling/sQTL\\_finemapping/ROSMAP\\_psichomics/Plot\\_final/eqtl\\_all\\_variants\\_zero.tsv\\\\\n",
       "\t sQTL(PSI)               & /mnt/vast/hpc/csg/molecular\\_phenotype\\_calling/sQTL\\_finemapping/ROSMAP\\_psichomics/Plot\\_final/PSI\\_all\\_variants\\_zero.tsv \\\\\n",
       "\t pQTL                    & /mnt/vast/hpc/csg/molecular\\_phenotype\\_calling/sQTL\\_finemapping/ROSMAP\\_psichomics/Plot\\_final/pqtl\\_all\\_variants\\_zero.tsv\\\\\n",
       "\t Bellenguez et al (2022) & /mnt/vast/hpc/csg/xqtl\\_workflow\\_testing/susie\\_rss/output/ADGWAS\\_finemapping\\_extracted/Bellenguez/ADGWAS\\_sumstat       \\\\\n",
       "\\end{tabular}\n"
      ],
      "text/markdown": [
       "\n",
       "A tibble: 7 × 2\n",
       "\n",
       "| type &lt;chr&gt; | path &lt;chr&gt; |\n",
       "|---|---|\n",
       "| ct-eQTL                 | /mnt/mfs/hgrcgrid/homes/xc2610/7_cells/7_cells_all_variants_zero_no_dup.tsv                                            |\n",
       "| haQTL                   | /mnt/vast/hpc/csg/molecular_phenotype_calling/QTL_fine_mapping/output/haQTL_pure_completed_unlimited.tsv               |\n",
       "| meQTL                   | /mnt/vast/hpc/csg/molecular_phenotype_calling/QTL_fine_mapping/output/meQTL_pure_completed_unlimited.tsv               |\n",
       "| eQTL                    | /mnt/vast/hpc/csg/molecular_phenotype_calling/sQTL_finemapping/ROSMAP_psichomics/Plot_final/eqtl_all_variants_zero.tsv |\n",
       "| sQTL(PSI)               | /mnt/vast/hpc/csg/molecular_phenotype_calling/sQTL_finemapping/ROSMAP_psichomics/Plot_final/PSI_all_variants_zero.tsv  |\n",
       "| pQTL                    | /mnt/vast/hpc/csg/molecular_phenotype_calling/sQTL_finemapping/ROSMAP_psichomics/Plot_final/pqtl_all_variants_zero.tsv |\n",
       "| Bellenguez et al (2022) | /mnt/vast/hpc/csg/xqtl_workflow_testing/susie_rss/output/ADGWAS_finemapping_extracted/Bellenguez/ADGWAS_sumstat        |\n",
       "\n"
      ],
      "text/plain": [
       "  type                   \n",
       "1 ct-eQTL                \n",
       "2 haQTL                  \n",
       "3 meQTL                  \n",
       "4 eQTL                   \n",
       "5 sQTL(PSI)              \n",
       "6 pQTL                   \n",
       "7 Bellenguez et al (2022)\n",
       "  path                                                                                                                  \n",
       "1 /mnt/mfs/hgrcgrid/homes/xc2610/7_cells/7_cells_all_variants_zero_no_dup.tsv                                           \n",
       "2 /mnt/vast/hpc/csg/molecular_phenotype_calling/QTL_fine_mapping/output/haQTL_pure_completed_unlimited.tsv              \n",
       "3 /mnt/vast/hpc/csg/molecular_phenotype_calling/QTL_fine_mapping/output/meQTL_pure_completed_unlimited.tsv              \n",
       "4 /mnt/vast/hpc/csg/molecular_phenotype_calling/sQTL_finemapping/ROSMAP_psichomics/Plot_final/eqtl_all_variants_zero.tsv\n",
       "5 /mnt/vast/hpc/csg/molecular_phenotype_calling/sQTL_finemapping/ROSMAP_psichomics/Plot_final/PSI_all_variants_zero.tsv \n",
       "6 /mnt/vast/hpc/csg/molecular_phenotype_calling/sQTL_finemapping/ROSMAP_psichomics/Plot_final/pqtl_all_variants_zero.tsv\n",
       "7 /mnt/vast/hpc/csg/xqtl_workflow_testing/susie_rss/output/ADGWAS_finemapping_extracted/Bellenguez/ADGWAS_sumstat       "
      ]
     },
     "metadata": {},
     "output_type": "display_data"
    }
   ],
   "source": [
    "plot_recipe"
   ]
  },
  {
   "cell_type": "code",
   "execution_count": 10,
   "id": "91fd6c90-1191-486a-97d0-5cf1713e5e62",
   "metadata": {
    "kernel": "R"
   },
   "outputs": [
    {
     "name": "stderr",
     "output_type": "stream",
     "text": [
      "\u001b[1mRows: \u001b[22m\u001b[34m428604\u001b[39m \u001b[1mColumns: \u001b[22m\u001b[34m16\u001b[39m\n",
      "\u001b[36m──\u001b[39m \u001b[1mColumn specification\u001b[22m \u001b[36m────────────────────────────────────────────────────────\u001b[39m\n",
      "\u001b[1mDelimiter:\u001b[22m \"\\t\"\n",
      "\u001b[31mchr\u001b[39m (7): variants, ref, alt, cs_order, cs_id, log10_base_factor, molecular_t...\n",
      "\u001b[32mdbl\u001b[39m (9): snps_index, chromosome, position, pip, posterior_mean, posterior_sd...\n",
      "\n",
      "\u001b[36mℹ\u001b[39m Use `spec()` to retrieve the full column specification for this data.\n",
      "\u001b[36mℹ\u001b[39m Specify the column types or set `show_col_types = FALSE` to quiet this message.\n",
      "\u001b[1mRows: \u001b[22m\u001b[34m29043\u001b[39m \u001b[1mColumns: \u001b[22m\u001b[34m14\u001b[39m\n",
      "\u001b[36m──\u001b[39m \u001b[1mColumn specification\u001b[22m \u001b[36m────────────────────────────────────────────────────────\u001b[39m\n",
      "\u001b[1mDelimiter:\u001b[22m \"\\t\"\n",
      "\u001b[31mchr\u001b[39m  (4): variants, ref, alt, molecular_trait_id\n",
      "\u001b[32mdbl\u001b[39m (10): snps_index, chromosome, position, cs_order, pip, finemapped_region...\n",
      "\n",
      "\u001b[36mℹ\u001b[39m Use `spec()` to retrieve the full column specification for this data.\n",
      "\u001b[36mℹ\u001b[39m Specify the column types or set `show_col_types = FALSE` to quiet this message.\n",
      "\u001b[1mRows: \u001b[22m\u001b[34m65751\u001b[39m \u001b[1mColumns: \u001b[22m\u001b[34m14\u001b[39m\n",
      "\u001b[36m──\u001b[39m \u001b[1mColumn specification\u001b[22m \u001b[36m────────────────────────────────────────────────────────\u001b[39m\n",
      "\u001b[1mDelimiter:\u001b[22m \"\\t\"\n",
      "\u001b[31mchr\u001b[39m  (4): variants, ref, alt, molecular_trait_id\n",
      "\u001b[32mdbl\u001b[39m (10): snps_index, chromosome, position, cs_order, pip, finemapped_region...\n",
      "\n",
      "\u001b[36mℹ\u001b[39m Use `spec()` to retrieve the full column specification for this data.\n",
      "\u001b[36mℹ\u001b[39m Specify the column types or set `show_col_types = FALSE` to quiet this message.\n",
      "\u001b[1mRows: \u001b[22m\u001b[34m392567\u001b[39m \u001b[1mColumns: \u001b[22m\u001b[34m16\u001b[39m\n",
      "\u001b[36m──\u001b[39m \u001b[1mColumn specification\u001b[22m \u001b[36m────────────────────────────────────────────────────────\u001b[39m\n",
      "\u001b[1mDelimiter:\u001b[22m \"\\t\"\n",
      "\u001b[31mchr\u001b[39m (7): variants, ref, alt, cs_order, cs_id, log10_base_factor, molecular_t...\n",
      "\u001b[32mdbl\u001b[39m (9): snps_index, chromosome, position, pip, posterior_mean, posterior_sd...\n",
      "\n",
      "\u001b[36mℹ\u001b[39m Use `spec()` to retrieve the full column specification for this data.\n",
      "\u001b[36mℹ\u001b[39m Specify the column types or set `show_col_types = FALSE` to quiet this message.\n",
      "\u001b[1mRows: \u001b[22m\u001b[34m115710\u001b[39m \u001b[1mColumns: \u001b[22m\u001b[34m16\u001b[39m\n",
      "\u001b[36m──\u001b[39m \u001b[1mColumn specification\u001b[22m \u001b[36m────────────────────────────────────────────────────────\u001b[39m\n",
      "\u001b[1mDelimiter:\u001b[22m \"\\t\"\n",
      "\u001b[31mchr\u001b[39m (7): variants, ref, alt, cs_order, cs_id, log10_base_factor, molecular_t...\n",
      "\u001b[32mdbl\u001b[39m (9): snps_index, chromosome, position, pip, posterior_mean, posterior_sd...\n",
      "\n",
      "\u001b[36mℹ\u001b[39m Use `spec()` to retrieve the full column specification for this data.\n",
      "\u001b[36mℹ\u001b[39m Specify the column types or set `show_col_types = FALSE` to quiet this message.\n",
      "\u001b[1mRows: \u001b[22m\u001b[34m62850\u001b[39m \u001b[1mColumns: \u001b[22m\u001b[34m16\u001b[39m\n",
      "\u001b[36m──\u001b[39m \u001b[1mColumn specification\u001b[22m \u001b[36m────────────────────────────────────────────────────────\u001b[39m\n",
      "\u001b[1mDelimiter:\u001b[22m \"\\t\"\n",
      "\u001b[31mchr\u001b[39m (6): variants, ref, alt, cs_order, log10_base_factor, molecular_trait_id\n",
      "\u001b[32mdbl\u001b[39m (9): snps_index, chromosome, position, pip, posterior_mean, posterior_sd...\n",
      "\u001b[33mlgl\u001b[39m (1): cs_id\n",
      "\n",
      "\u001b[36mℹ\u001b[39m Use `spec()` to retrieve the full column specification for this data.\n",
      "\u001b[36mℹ\u001b[39m Specify the column types or set `show_col_types = FALSE` to quiet this message.\n",
      "\u001b[1mRows: \u001b[22m\u001b[34m471\u001b[39m \u001b[1mColumns: \u001b[22m\u001b[34m16\u001b[39m\n",
      "\u001b[36m──\u001b[39m \u001b[1mColumn specification\u001b[22m \u001b[36m────────────────────────────────────────────────────────\u001b[39m\n",
      "\u001b[1mDelimiter:\u001b[22m \"\\t\"\n",
      "\u001b[31mchr\u001b[39m (6): variants, ref, alt, cs_order, log10_base_factor, molecular_trait_id\n",
      "\u001b[32mdbl\u001b[39m (9): snps_index, chromosome, position, pip, posterior_mean, posterior_sd...\n",
      "\u001b[33mlgl\u001b[39m (1): cs_id\n",
      "\n",
      "\u001b[36mℹ\u001b[39m Use `spec()` to retrieve the full column specification for this data.\n",
      "\u001b[36mℹ\u001b[39m Specify the column types or set `show_col_types = FALSE` to quiet this message.\n"
     ]
    }
   ],
   "source": [
    "plot_list = map2(plot_recipe$type,plot_recipe$path, ~read_delim(.y, guess_max = 10000000)%>%mutate(cs = cs_order != 0 )%>%filter(cs > 0)%>%select(variants,cs)%>%`colnames<-`(c(\"variants\",.x))%>%distinct() )"
   ]
  },
  {
   "cell_type": "code",
   "execution_count": 11,
   "id": "86e30b04-7e82-4246-9d08-edb6befed9b3",
   "metadata": {
    "kernel": "R"
   },
   "outputs": [
    {
     "name": "stderr",
     "output_type": "stream",
     "text": [
      "\u001b[1m\u001b[22mJoining, by = \"variants\"\n",
      "\u001b[1m\u001b[22mJoining, by = \"variants\"\n",
      "\u001b[1m\u001b[22mJoining, by = \"variants\"\n",
      "\u001b[1m\u001b[22mJoining, by = \"variants\"\n",
      "\u001b[1m\u001b[22mJoining, by = \"variants\"\n",
      "\u001b[1m\u001b[22mJoining, by = \"variants\"\n"
     ]
    }
   ],
   "source": [
    "cs_sharing = Reduce(full_join,plot_list)"
   ]
  },
  {
   "cell_type": "code",
   "execution_count": 12,
   "id": "4f01099a-c7dc-485d-96aa-95ce4e3c7390",
   "metadata": {
    "kernel": "R"
   },
   "outputs": [
    {
     "data": {
      "text/html": [
       "29043"
      ],
      "text/latex": [
       "29043"
      ],
      "text/markdown": [
       "29043"
      ],
      "text/plain": [
       "[1] 29043"
      ]
     },
     "metadata": {},
     "output_type": "display_data"
    }
   ],
   "source": [
    "# checking total number of SNPs\n",
    "715303-sum(is.na(cs_sharing[, 3]))"
   ]
  },
  {
   "cell_type": "code",
   "execution_count": 16,
   "id": "7652e527-68a9-419a-a42a-1d436f76397f",
   "metadata": {
    "kernel": "R"
   },
   "outputs": [
    {
     "data": {
      "text/html": [
       "<table class=\"dataframe\">\n",
       "<caption>A tibble: 6 × 8</caption>\n",
       "<thead>\n",
       "\t<tr><th scope=col>variants</th><th scope=col>ct-eQTL</th><th scope=col>haQTL</th><th scope=col>meQTL</th><th scope=col>eQTL</th><th scope=col>sQTL(PSI)</th><th scope=col>pQTL</th><th scope=col>Bellenguez et al (2022)</th></tr>\n",
       "\t<tr><th scope=col>&lt;chr&gt;</th><th scope=col>&lt;lgl&gt;</th><th scope=col>&lt;lgl&gt;</th><th scope=col>&lt;lgl&gt;</th><th scope=col>&lt;lgl&gt;</th><th scope=col>&lt;lgl&gt;</th><th scope=col>&lt;lgl&gt;</th><th scope=col>&lt;lgl&gt;</th></tr>\n",
       "</thead>\n",
       "<tbody>\n",
       "\t<tr><td>chr10:100327281_T_C   </td><td>TRUE</td><td>NA</td><td>TRUE</td><td>  NA</td><td>NA</td><td>NA</td><td>NA</td></tr>\n",
       "\t<tr><td>chr10:100329417_C_A   </td><td>TRUE</td><td>NA</td><td>  NA</td><td>TRUE</td><td>NA</td><td>NA</td><td>NA</td></tr>\n",
       "\t<tr><td>chr10:100329679_G_A   </td><td>TRUE</td><td>NA</td><td>  NA</td><td>TRUE</td><td>NA</td><td>NA</td><td>NA</td></tr>\n",
       "\t<tr><td>chr10:100329906_C_T   </td><td>TRUE</td><td>NA</td><td>TRUE</td><td>TRUE</td><td>NA</td><td>NA</td><td>NA</td></tr>\n",
       "\t<tr><td>chr10:100337826_T_C   </td><td>TRUE</td><td>NA</td><td>  NA</td><td>TRUE</td><td>NA</td><td>NA</td><td>NA</td></tr>\n",
       "\t<tr><td>chr10:100344843_AT_ATT</td><td>TRUE</td><td>NA</td><td>  NA</td><td>TRUE</td><td>NA</td><td>NA</td><td>NA</td></tr>\n",
       "</tbody>\n",
       "</table>\n"
      ],
      "text/latex": [
       "A tibble: 6 × 8\n",
       "\\begin{tabular}{llllllll}\n",
       " variants & ct-eQTL & haQTL & meQTL & eQTL & sQTL(PSI) & pQTL & Bellenguez et al (2022)\\\\\n",
       " <chr> & <lgl> & <lgl> & <lgl> & <lgl> & <lgl> & <lgl> & <lgl>\\\\\n",
       "\\hline\n",
       "\t chr10:100327281\\_T\\_C    & TRUE & NA & TRUE &   NA & NA & NA & NA\\\\\n",
       "\t chr10:100329417\\_C\\_A    & TRUE & NA &   NA & TRUE & NA & NA & NA\\\\\n",
       "\t chr10:100329679\\_G\\_A    & TRUE & NA &   NA & TRUE & NA & NA & NA\\\\\n",
       "\t chr10:100329906\\_C\\_T    & TRUE & NA & TRUE & TRUE & NA & NA & NA\\\\\n",
       "\t chr10:100337826\\_T\\_C    & TRUE & NA &   NA & TRUE & NA & NA & NA\\\\\n",
       "\t chr10:100344843\\_AT\\_ATT & TRUE & NA &   NA & TRUE & NA & NA & NA\\\\\n",
       "\\end{tabular}\n"
      ],
      "text/markdown": [
       "\n",
       "A tibble: 6 × 8\n",
       "\n",
       "| variants &lt;chr&gt; | ct-eQTL &lt;lgl&gt; | haQTL &lt;lgl&gt; | meQTL &lt;lgl&gt; | eQTL &lt;lgl&gt; | sQTL(PSI) &lt;lgl&gt; | pQTL &lt;lgl&gt; | Bellenguez et al (2022) &lt;lgl&gt; |\n",
       "|---|---|---|---|---|---|---|---|\n",
       "| chr10:100327281_T_C    | TRUE | NA | TRUE |   NA | NA | NA | NA |\n",
       "| chr10:100329417_C_A    | TRUE | NA |   NA | TRUE | NA | NA | NA |\n",
       "| chr10:100329679_G_A    | TRUE | NA |   NA | TRUE | NA | NA | NA |\n",
       "| chr10:100329906_C_T    | TRUE | NA | TRUE | TRUE | NA | NA | NA |\n",
       "| chr10:100337826_T_C    | TRUE | NA |   NA | TRUE | NA | NA | NA |\n",
       "| chr10:100344843_AT_ATT | TRUE | NA |   NA | TRUE | NA | NA | NA |\n",
       "\n"
      ],
      "text/plain": [
       "  variants               ct-eQTL haQTL meQTL eQTL sQTL(PSI) pQTL\n",
       "1 chr10:100327281_T_C    TRUE    NA    TRUE    NA NA        NA  \n",
       "2 chr10:100329417_C_A    TRUE    NA      NA  TRUE NA        NA  \n",
       "3 chr10:100329679_G_A    TRUE    NA      NA  TRUE NA        NA  \n",
       "4 chr10:100329906_C_T    TRUE    NA    TRUE  TRUE NA        NA  \n",
       "5 chr10:100337826_T_C    TRUE    NA      NA  TRUE NA        NA  \n",
       "6 chr10:100344843_AT_ATT TRUE    NA      NA  TRUE NA        NA  \n",
       "  Bellenguez et al (2022)\n",
       "1 NA                     \n",
       "2 NA                     \n",
       "3 NA                     \n",
       "4 NA                     \n",
       "5 NA                     \n",
       "6 NA                     "
      ]
     },
     "metadata": {},
     "output_type": "display_data"
    }
   ],
   "source": [
    "head(cs_sharing)"
   ]
  },
  {
   "cell_type": "code",
   "execution_count": 22,
   "id": "c842efe9-79ec-412a-89ee-76312cf031bf",
   "metadata": {
    "kernel": "R"
   },
   "outputs": [],
   "source": [
    "cs_upsetR_sharing = cs_sharing\n",
    "cs_upsetR_sharing[,2:ncol(cs_upsetR_sharing)]%>%mutate_all(as.numeric)-> cs_upsetR_sharing[,2:ncol(cs_upsetR_sharing)]"
   ]
  },
  {
   "cell_type": "code",
   "execution_count": 25,
   "id": "68c3c370-1a15-4518-bd3d-d4e25e9d4130",
   "metadata": {
    "kernel": "R"
   },
   "outputs": [
    {
     "data": {
      "text/html": [
       "<table class=\"dataframe\">\n",
       "<caption>A tibble: 6 × 8</caption>\n",
       "<thead>\n",
       "\t<tr><th scope=col>variants</th><th scope=col>ct-eQTL</th><th scope=col>haQTL</th><th scope=col>meQTL</th><th scope=col>eQTL</th><th scope=col>sQTL(PSI)</th><th scope=col>pQTL</th><th scope=col>Bellenguez et al (2022)</th></tr>\n",
       "\t<tr><th scope=col>&lt;chr&gt;</th><th scope=col>&lt;dbl&gt;</th><th scope=col>&lt;dbl&gt;</th><th scope=col>&lt;dbl&gt;</th><th scope=col>&lt;dbl&gt;</th><th scope=col>&lt;dbl&gt;</th><th scope=col>&lt;dbl&gt;</th><th scope=col>&lt;dbl&gt;</th></tr>\n",
       "</thead>\n",
       "<tbody>\n",
       "\t<tr><td>chr10:100327281_T_C   </td><td>1</td><td>NA</td><td> 1</td><td>NA</td><td>NA</td><td>NA</td><td>NA</td></tr>\n",
       "\t<tr><td>chr10:100329417_C_A   </td><td>1</td><td>NA</td><td>NA</td><td> 1</td><td>NA</td><td>NA</td><td>NA</td></tr>\n",
       "\t<tr><td>chr10:100329679_G_A   </td><td>1</td><td>NA</td><td>NA</td><td> 1</td><td>NA</td><td>NA</td><td>NA</td></tr>\n",
       "\t<tr><td>chr10:100329906_C_T   </td><td>1</td><td>NA</td><td> 1</td><td> 1</td><td>NA</td><td>NA</td><td>NA</td></tr>\n",
       "\t<tr><td>chr10:100337826_T_C   </td><td>1</td><td>NA</td><td>NA</td><td> 1</td><td>NA</td><td>NA</td><td>NA</td></tr>\n",
       "\t<tr><td>chr10:100344843_AT_ATT</td><td>1</td><td>NA</td><td>NA</td><td> 1</td><td>NA</td><td>NA</td><td>NA</td></tr>\n",
       "</tbody>\n",
       "</table>\n"
      ],
      "text/latex": [
       "A tibble: 6 × 8\n",
       "\\begin{tabular}{llllllll}\n",
       " variants & ct-eQTL & haQTL & meQTL & eQTL & sQTL(PSI) & pQTL & Bellenguez et al (2022)\\\\\n",
       " <chr> & <dbl> & <dbl> & <dbl> & <dbl> & <dbl> & <dbl> & <dbl>\\\\\n",
       "\\hline\n",
       "\t chr10:100327281\\_T\\_C    & 1 & NA &  1 & NA & NA & NA & NA\\\\\n",
       "\t chr10:100329417\\_C\\_A    & 1 & NA & NA &  1 & NA & NA & NA\\\\\n",
       "\t chr10:100329679\\_G\\_A    & 1 & NA & NA &  1 & NA & NA & NA\\\\\n",
       "\t chr10:100329906\\_C\\_T    & 1 & NA &  1 &  1 & NA & NA & NA\\\\\n",
       "\t chr10:100337826\\_T\\_C    & 1 & NA & NA &  1 & NA & NA & NA\\\\\n",
       "\t chr10:100344843\\_AT\\_ATT & 1 & NA & NA &  1 & NA & NA & NA\\\\\n",
       "\\end{tabular}\n"
      ],
      "text/markdown": [
       "\n",
       "A tibble: 6 × 8\n",
       "\n",
       "| variants &lt;chr&gt; | ct-eQTL &lt;dbl&gt; | haQTL &lt;dbl&gt; | meQTL &lt;dbl&gt; | eQTL &lt;dbl&gt; | sQTL(PSI) &lt;dbl&gt; | pQTL &lt;dbl&gt; | Bellenguez et al (2022) &lt;dbl&gt; |\n",
       "|---|---|---|---|---|---|---|---|\n",
       "| chr10:100327281_T_C    | 1 | NA |  1 | NA | NA | NA | NA |\n",
       "| chr10:100329417_C_A    | 1 | NA | NA |  1 | NA | NA | NA |\n",
       "| chr10:100329679_G_A    | 1 | NA | NA |  1 | NA | NA | NA |\n",
       "| chr10:100329906_C_T    | 1 | NA |  1 |  1 | NA | NA | NA |\n",
       "| chr10:100337826_T_C    | 1 | NA | NA |  1 | NA | NA | NA |\n",
       "| chr10:100344843_AT_ATT | 1 | NA | NA |  1 | NA | NA | NA |\n",
       "\n"
      ],
      "text/plain": [
       "  variants               ct-eQTL haQTL meQTL eQTL sQTL(PSI) pQTL\n",
       "1 chr10:100327281_T_C    1       NA     1    NA   NA        NA  \n",
       "2 chr10:100329417_C_A    1       NA    NA     1   NA        NA  \n",
       "3 chr10:100329679_G_A    1       NA    NA     1   NA        NA  \n",
       "4 chr10:100329906_C_T    1       NA     1     1   NA        NA  \n",
       "5 chr10:100337826_T_C    1       NA    NA     1   NA        NA  \n",
       "6 chr10:100344843_AT_ATT 1       NA    NA     1   NA        NA  \n",
       "  Bellenguez et al (2022)\n",
       "1 NA                     \n",
       "2 NA                     \n",
       "3 NA                     \n",
       "4 NA                     \n",
       "5 NA                     \n",
       "6 NA                     "
      ]
     },
     "metadata": {},
     "output_type": "display_data"
    }
   ],
   "source": [
    "head(cs_upsetR_sharing)"
   ]
  },
  {
   "cell_type": "markdown",
   "id": "97cb161d-6b0c-4b58-a6f4-576f3dd294b4",
   "metadata": {
    "kernel": "R"
   },
   "source": [
    "## Plot the left side bar on all significant SNPs"
   ]
  },
  {
   "cell_type": "code",
   "execution_count": 24,
   "id": "8ce28240-9a8a-43b6-bc9d-7fbdf038b0e1",
   "metadata": {
    "kernel": "R"
   },
   "outputs": [
    {
     "name": "stderr",
     "output_type": "stream",
     "text": [
      "Warning message in upset_data(data, intersect, mode = mode, encode_sets = encode_sets, :\n",
      "“Converting non-logical columns to binary: ct-eQTL, haQTL, meQTL, eQTL, sQTL(PSI), pQTL, Bellenguez et al (2022)”\n",
      "Warning message in upset_data(data, intersect, mode = mode, encode_sets = encode_sets, :\n",
      "“Detected missing values in the columns indicating sets, coercing to FALSE”\n"
     ]
    }
   ],
   "source": [
    "b = upset(cs_upsetR_sharing%>%as.data.frame,intersect = colnames(cs_upsetR_sharing[2:ncol(cs_upsetR_sharing)]),\n",
    "      keep_empty_groups = F,\n",
    "          base_annotations=list(`Intersection size` = intersection_size( bar_number_threshold = 1, position = position_dodge(0.5), width = 0.3 ,text = list(size = 5)   )  ) ,\n",
    "              themes=upset_default_themes(axis.text=element_text(size=30))     ,\n",
    "              min_degree = 1)"
   ]
  },
  {
   "cell_type": "code",
   "execution_count": 26,
   "id": "06d77fde-007f-4070-80df-3ee368c836dd",
   "metadata": {
    "kernel": "R"
   },
   "outputs": [
    {
     "data": {
      "image/png": "[encoded data removed]",
      "text/plain": [
       "plot without title"
      ]
     },
     "metadata": {
      "image/png": {
       "height": 420,
       "width": 420
      }
     },
     "output_type": "display_data"
    }
   ],
   "source": [
    "b"
   ]
  },
  {
   "cell_type": "code",
   "execution_count": null,
   "id": "d7ee8c3c-27d9-46fd-872f-cc80542a3cac",
   "metadata": {
    "kernel": "R"
   },
   "outputs": [],
   "source": [
    "b%>%ggsave(filename = \"/mnt/mfs/hgrcgrid/homes/xc2610/7_cells/Plot2/cell-specific eQTL_haQTL_mQTL_eQTL_sQTL(PSI)_pQTL_ADGWAS.UpSetR.pdf\",device = \"pdf\",dpi = \"retina\",width=18.5, height=10.5)\n",
    "list(cs_upsetR_sharing)%>%saveRDS(\"/mnt/mfs/hgrcgrid/homes/xc2610/7_cells/Plot2/cell-specific eQTL_haQTL_mQTL_eQTL_sQTL(PSI)_pQTL_ADGWAS.UpSetR.rds\")"
   ]
  },
  {
   "cell_type": "markdown",
   "id": "033942d7-ef2a-494e-8177-7d0102567010",
   "metadata": {
    "kernel": "R"
   },
   "source": [
    "## Plot the right side bar on overlaps with ADGWAS only"
   ]
  },
  {
   "cell_type": "code",
   "execution_count": 17,
   "id": "d7f92c0d-31fa-4b28-b085-0016270e33c4",
   "metadata": {
    "kernel": "R"
   },
   "outputs": [],
   "source": [
    "cs_upsetR_sharing = cs_upsetR_sharing[!is.na(cs_upsetR_sharing$\"Bellenguez et al (2022)\"),]"
   ]
  },
  {
   "cell_type": "code",
   "execution_count": 18,
   "id": "99691018-6acd-4b6b-907c-f3c83fa9cfb2",
   "metadata": {
    "kernel": "R"
   },
   "outputs": [
    {
     "data": {
      "text/html": [
       "<table class=\"dataframe\">\n",
       "<caption>A tibble: 6 × 8</caption>\n",
       "<thead>\n",
       "\t<tr><th scope=col>variants</th><th scope=col>ct-eQTL</th><th scope=col>haQTL</th><th scope=col>meQTL</th><th scope=col>eQTL</th><th scope=col>sQTL(PSI)</th><th scope=col>pQTL</th><th scope=col>Bellenguez et al (2022)</th></tr>\n",
       "\t<tr><th scope=col>&lt;chr&gt;</th><th scope=col>&lt;dbl&gt;</th><th scope=col>&lt;dbl&gt;</th><th scope=col>&lt;dbl&gt;</th><th scope=col>&lt;dbl&gt;</th><th scope=col>&lt;dbl&gt;</th><th scope=col>&lt;dbl&gt;</th><th scope=col>&lt;dbl&gt;</th></tr>\n",
       "</thead>\n",
       "<tbody>\n",
       "\t<tr><td>chr15:63277703_C_T</td><td>1</td><td> 1</td><td>NA</td><td> 1</td><td>NA</td><td>NA</td><td>1</td></tr>\n",
       "\t<tr><td>chr17:63470201_G_A</td><td>1</td><td>NA</td><td>NA</td><td>NA</td><td>NA</td><td> 1</td><td>1</td></tr>\n",
       "\t<tr><td>chr17:63471115_G_A</td><td>1</td><td>NA</td><td>NA</td><td>NA</td><td>NA</td><td> 1</td><td>1</td></tr>\n",
       "\t<tr><td>chr17:63471587_C_A</td><td>1</td><td>NA</td><td>NA</td><td>NA</td><td>NA</td><td> 1</td><td>1</td></tr>\n",
       "\t<tr><td>chr17:63473368_C_A</td><td>1</td><td>NA</td><td>NA</td><td> 1</td><td>NA</td><td> 1</td><td>1</td></tr>\n",
       "\t<tr><td>chr17:63476980_C_T</td><td>1</td><td>NA</td><td>NA</td><td> 1</td><td>NA</td><td> 1</td><td>1</td></tr>\n",
       "</tbody>\n",
       "</table>\n"
      ],
      "text/latex": [
       "A tibble: 6 × 8\n",
       "\\begin{tabular}{llllllll}\n",
       " variants & ct-eQTL & haQTL & meQTL & eQTL & sQTL(PSI) & pQTL & Bellenguez et al (2022)\\\\\n",
       " <chr> & <dbl> & <dbl> & <dbl> & <dbl> & <dbl> & <dbl> & <dbl>\\\\\n",
       "\\hline\n",
       "\t chr15:63277703\\_C\\_T & 1 &  1 & NA &  1 & NA & NA & 1\\\\\n",
       "\t chr17:63470201\\_G\\_A & 1 & NA & NA & NA & NA &  1 & 1\\\\\n",
       "\t chr17:63471115\\_G\\_A & 1 & NA & NA & NA & NA &  1 & 1\\\\\n",
       "\t chr17:63471587\\_C\\_A & 1 & NA & NA & NA & NA &  1 & 1\\\\\n",
       "\t chr17:63473368\\_C\\_A & 1 & NA & NA &  1 & NA &  1 & 1\\\\\n",
       "\t chr17:63476980\\_C\\_T & 1 & NA & NA &  1 & NA &  1 & 1\\\\\n",
       "\\end{tabular}\n"
      ],
      "text/markdown": [
       "\n",
       "A tibble: 6 × 8\n",
       "\n",
       "| variants &lt;chr&gt; | ct-eQTL &lt;dbl&gt; | haQTL &lt;dbl&gt; | meQTL &lt;dbl&gt; | eQTL &lt;dbl&gt; | sQTL(PSI) &lt;dbl&gt; | pQTL &lt;dbl&gt; | Bellenguez et al (2022) &lt;dbl&gt; |\n",
       "|---|---|---|---|---|---|---|---|\n",
       "| chr15:63277703_C_T | 1 |  1 | NA |  1 | NA | NA | 1 |\n",
       "| chr17:63470201_G_A | 1 | NA | NA | NA | NA |  1 | 1 |\n",
       "| chr17:63471115_G_A | 1 | NA | NA | NA | NA |  1 | 1 |\n",
       "| chr17:63471587_C_A | 1 | NA | NA | NA | NA |  1 | 1 |\n",
       "| chr17:63473368_C_A | 1 | NA | NA |  1 | NA |  1 | 1 |\n",
       "| chr17:63476980_C_T | 1 | NA | NA |  1 | NA |  1 | 1 |\n",
       "\n"
      ],
      "text/plain": [
       "  variants           ct-eQTL haQTL meQTL eQTL sQTL(PSI) pQTL\n",
       "1 chr15:63277703_C_T 1        1    NA     1   NA        NA  \n",
       "2 chr17:63470201_G_A 1       NA    NA    NA   NA         1  \n",
       "3 chr17:63471115_G_A 1       NA    NA    NA   NA         1  \n",
       "4 chr17:63471587_C_A 1       NA    NA    NA   NA         1  \n",
       "5 chr17:63473368_C_A 1       NA    NA     1   NA         1  \n",
       "6 chr17:63476980_C_T 1       NA    NA     1   NA         1  \n",
       "  Bellenguez et al (2022)\n",
       "1 1                      \n",
       "2 1                      \n",
       "3 1                      \n",
       "4 1                      \n",
       "5 1                      \n",
       "6 1                      "
      ]
     },
     "metadata": {},
     "output_type": "display_data"
    }
   ],
   "source": [
    "head(cs_upsetR_sharing)"
   ]
  },
  {
   "cell_type": "code",
   "execution_count": 27,
   "id": "77af4917-7ec7-427f-a177-c38d8f283311",
   "metadata": {
    "kernel": "R"
   },
   "outputs": [],
   "source": [
    "# cs_upsetR_sharing = cs_upsetR_sharing[rowSums(is.na(cs_upsetR_sharing[,2:7]))!=6,]"
   ]
  },
  {
   "cell_type": "code",
   "execution_count": 19,
   "id": "735f76cc-de29-4409-868c-54b366fe854b",
   "metadata": {
    "kernel": "R"
   },
   "outputs": [
    {
     "name": "stderr",
     "output_type": "stream",
     "text": [
      "Warning message in upset_data(data, intersect, mode = mode, encode_sets = encode_sets, :\n",
      "“Converting non-logical columns to binary: ct-eQTL, haQTL, meQTL, eQTL, sQTL(PSI), pQTL, Bellenguez et al (2022)”\n",
      "Warning message in upset_data(data, intersect, mode = mode, encode_sets = encode_sets, :\n",
      "“Detected missing values in the columns indicating sets, coercing to FALSE”\n"
     ]
    }
   ],
   "source": [
    "a = upset(cs_upsetR_sharing%>%as.data.frame,intersect = colnames(cs_upsetR_sharing[2:ncol(cs_upsetR_sharing)]),\n",
    "      keep_empty_groups = F,\n",
    "          base_annotations=list(`Intersection size` = intersection_size( bar_number_threshold = 1, position = position_dodge(0.5), width = 0.3 ,text = list(size = 5)   )  ) ,\n",
    "              themes=upset_default_themes(axis.text=element_text(size=30))     ,\n",
    "              min_degree = 1)"
   ]
  },
  {
   "cell_type": "code",
   "execution_count": 20,
   "id": "b0ee7db4-da78-49eb-a32e-a95eb8f39205",
   "metadata": {
    "kernel": "R"
   },
   "outputs": [
    {
     "data": {
      "image/png": "[encoded data removed]",
      "text/plain": [
       "plot without title"
      ]
     },
     "metadata": {
      "image/png": {
       "height": 420,
       "width": 420
      }
     },
     "output_type": "display_data"
    }
   ],
   "source": [
    "a"
   ]
  },
  {
   "cell_type": "code",
   "execution_count": 21,
   "id": "2cecab1d-553c-4479-a297-43027d9de9a8",
   "metadata": {
    "kernel": "R"
   },
   "outputs": [],
   "source": [
    "a%>%ggsave(filename = \"/mnt/mfs/hgrcgrid/homes/xc2610/7_cells/Plot2/ADGWAS_include.UpSetR.pdf\",device = \"pdf\",dpi = \"retina\",width=18.5, height=10.5)\n",
    "list(cs_upsetR_sharing)%>%saveRDS(\"/mnt/mfs/hgrcgrid/homes/xc2610/7_cells/Plot2/ADGWAS_include.UpSetR.rds\")"
   ]
  },
  {
   "cell_type": "code",
   "execution_count": null,
   "id": "b5f29afb-7023-4583-963c-ef54512c7065",
   "metadata": {
    "kernel": "R"
   },
   "outputs": [],
   "source": []
  }
 ],
 "metadata": {
  "kernelspec": {
   "display_name": "SoS",
   "language": "sos",
   "name": "sos"
  },
  "language_info": {
   "codemirror_mode": "sos",
   "file_extension": ".sos",
   "mimetype": "text/x-sos",
   "name": "sos",
   "nbconvert_exporter": "sos_notebook.converter.SoS_Exporter",
   "pygments_lexer": "sos"
  },
  "sos": {
   "kernels": [
    [
     "SoS",
     "sos",
     "",
     ""
    ]
   ],
   "version": "0.23.3"
  }
 },
 "nbformat": 4,
 "nbformat_minor": 5
}
