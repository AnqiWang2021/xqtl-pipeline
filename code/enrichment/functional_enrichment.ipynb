{
 "cells": [
  {
   "cell_type": "markdown",
   "metadata": {
    "kernel": "SoS"
   },
   "source": [
    "# Chromosome-Specific Enrichment Analysis of Annotations Using Block Jackknife"
   ]
  },
  {
   "cell_type": "markdown",
   "metadata": {
    "kernel": "SoS"
   },
   "source": [
    "## Description"
   ]
  },
  {
   "cell_type": "markdown",
   "metadata": {
    "kernel": "SoS"
   },
   "source": [
    "This notebook performs a chromosome-specific enrichment analysis for genomic annotations using a block jackknife approach. It computes odds ratios (OR) and enrichment statistics for each annotation column by systematically leaving out one chromosome at a time and recalculating the statistics. The analysis provides insight into the overlap and significance of annotations in relation to significant variants within a genomic region.\n",
    "\n",
    "Key features:\n",
    "\n",
    "- Helper function to compute odds ratios and enrichment.calculate_OR_enrichment\n",
    "- Chromosome-level leave-one-out cross-validation.\n",
    "- Summary statistics, including means and standard errors for OR and enrichment values.\n",
    "\n",
    "The results are saved as an RDS file for downstream analysis."
   ]
  },
  {
   "cell_type": "markdown",
   "metadata": {
    "kernel": "SoS",
    "tags": []
   },
   "source": [
    "## Input Format\n",
    "\n",
    "### 1. `significant_variants_path`\n",
    "- **Format**: RDS file containing significant variants.\n",
    "- **Columns**:\n",
    "  - `chr`: Chromosome number (integer).\n",
    "  - `pos`: Genomic position (integer).\n",
    "- **Example**:\n",
    "  ```r\n",
    "  chr  pos\n",
    "  1    12345\n",
    "  1    67890\n",
    "\n",
    "  ```  \n",
    "### 2. `baseline_anno_path`\n",
    "\n",
    "- **Format**: RDS file containing a tabular data frame with baseline annotations.\n",
    "- **Columns**:\n",
    "    - **CHR**: Chromosome number (integer).\n",
    "    - **BP**: Genomic base pair position (integer).\n",
    "    - **SNP**: SNP ID (character).\n",
    "    - **CM**: Centimorgan position (numeric).\n",
    "    - **base**: Base-level information (integer).\n",
    "    - **Annotation columns**: Binary columns (0/1) for various genomic annotations (e.g., `Coding_UCSC`, `Conserved_LindbladToh`, `CTCF_Hoffman`, etc.).\n",
    "    - **Flanking regions**: Binary columns indicating the presence of annotations within 500 bp of the main region (e.g., `Coding_UCSC.flanking.500`, `Conserved_LindbladToh.flanking.500`, etc.).\n",
    "    - **Additional annotation metrics**: Annotation statistics like species enhancer counts and promoter scores (`Human_Enhancer_Villar_Species_Enhancer_Count`, `Human_Promoter_Villar_ExAC`, etc.).\n",
    "- **Example**:\n",
    "    \n",
    "    ```r\n",
    "    CHR   BP    SNP           CM   base   Coding_UCSC   Coding_UCSC.flanking.500   ⋯   Human_Enhancer_Villar   Human_Enhancer_Villar.flanking.500\n",
    "    1     11008 rs575272151   0    1      0             0                          ⋯   0                        0\n",
    "    1     11012 rs544419019   0    1      0             0                          ⋯   0                        0\n",
    "    1     13110 rs540538026   0    1      0             0                          ⋯   0                        0\n",
    "    1     13116 rs62635286    0    1      0             0                          ⋯   0                        0\n",
    "    ```\n",
    "    \n",
    "\n",
    "---\n",
    "\n",
    "## Output Format\n",
    "\n",
    "### 1. `enrichment_results.rds`\n",
    "\n",
    "- **Format**: RDS file containing the following components:\n",
    "    - **`summary`**: A data frame summarizing the OR, OR_SE, Enrichment, and Enrichment_SE for each annotation column.\n",
    "        \n",
    "        ```r\n",
    "        Annotation                      OR      OR_SE   Enrichment   Enrichment_SE\n",
    "        Coding_UCSC                    1.23    0.12    0.85         0.10\n",
    "        Conserved_LindbladToh          0.98    0.08    1.12         0.05\n",
    "        Human_Enhancer_Villar          1.45    0.15    1.30         0.12\n",
    "        \n",
    "        ```\n",
    "        \n",
    "    - **`OR_blockJacknife`**: A matrix (22 rows for chromosomes × annotation columns) of log2-transformed OR values.\n",
    "        \n",
    "        ```r\n",
    "        Coding_UCSC   Conserved_LindbladToh   Human_Enhancer_Villar\n",
    "        0.12          -0.02                  0.25\n",
    "        0.15           0.01                  0.18\n",
    "        ⋮              ⋮                     ⋮\n",
    "        ```\n",
    "        \n",
    "    - **`Enrichment_blockJacknife`**: A matrix (22 rows for chromosomes × annotation columns) of enrichment values.\n",
    "    - **`OR`**: A numeric vector of mean log2-transformed OR values across chromosomes for each annotation column.\n",
    "    - **`Enrichment`**: A numeric vector of mean enrichment values across chromosomes for each annotation column.\n",
    "    - **`OR_sd`**: A numeric vector of standard errors for OR values across chromosomes for each annotation column.\n",
    "    - **`Enrichment_sd`**: A numeric vector of standard errors for enrichment values across chromosomes for each annotation column.\n",
    "    - **`annotations`**: A list of annotation column names."
   ]
  },
  {
   "cell_type": "markdown",
   "metadata": {
    "kernel": "SoS"
   },
   "source": [
    "## Minimal Working Example Steps"
   ]
  },
  {
   "cell_type": "code",
   "execution_count": null,
   "metadata": {
    "kernel": "SoS",
    "vscode": {
     "languageId": "plaintext"
    }
   },
   "outputs": [],
   "source": [
    "sos run xqtl-protocol/pipeline/functional_enrichment.ipynb enrichment\\\n",
    "    --significant_variants_path /path/to/significant_variants.rds \\\n",
    "    --baseline_anno_path ./Anno_Enrichment/Baseline_anno_each.rds \\\n",
    "    --cwd output"
   ]
  },
  {
   "cell_type": "markdown",
   "metadata": {
    "kernel": "SoS"
   },
   "source": [
    "## Command interface"
   ]
  },
  {
   "cell_type": "code",
   "execution_count": null,
   "metadata": {
    "kernel": "SoS"
   },
   "outputs": [],
   "source": [
    "sos run functional_enrichment.ipynb -h"
   ]
  },
  {
   "cell_type": "markdown",
   "metadata": {
    "kernel": "SoS"
   },
   "source": [
    "## Workflow implementation"
   ]
  },
  {
   "cell_type": "code",
   "execution_count": null,
   "metadata": {
    "kernel": "SoS"
   },
   "outputs": [],
   "source": [
    "[global]\n",
    "# Path to the work directory of the analysis.\n",
    "parameter: cwd = path('output')\n",
    "\n",
    "parameter: significant_variants_path = path\n",
    "parameter: baseline_anno_path = path\n",
    "# Number of threads\n",
    "parameter: numThreads = 8\n",
    "# For cluster jobs, number commands to run per job\n",
    "parameter: job_size = 1\n",
    "parameter: walltime = '12h'\n",
    "parameter: mem = '16G'\n",
    "# Container option for software to run the analysis: docker or singularity\n",
    "parameter: container = ''\n",
    "import re\n",
    "parameter: entrypoint= ('micromamba run -a \"\" -n' + ' ' + re.sub(r'(_apptainer:latest|_docker:latest|\\.sif)$', '', container.split('/')[-1])) if container else \"\"\n"
   ]
  },
  {
   "cell_type": "code",
   "execution_count": null,
   "metadata": {},
   "outputs": [],
   "source": [
    "[enrichment]\n",
    "\n",
    "input: significant_variants_path, baseline_anno_path\n",
    "output: enrichment = f'{cwd:a}/{step_name}/enrichment_results.rds'\n",
    "\n",
    "task: trunk_workers = 1, trunk_size = job_size, walltime = walltime, mem = mem, cores = numThreads, tags = f'{step_name}_{_output[0]:bnn}'\n",
    "R: expand = '${ }', stderr = f'{_output[0]}.stderr', stdout = f'{_output[0]}.stdout', container = container, entrypoint = entrypoint\n",
    "    library(tidyverse)\n",
    "\n",
    "    # Helper function for enrichment calculation\n",
    "    calculate_OR_enrichment <- function(set1, set2, target_set = NULL){\n",
    "        if (is.null(target_set)){\n",
    "            target_set <- unique(union(set1, set2))\n",
    "        }\n",
    "        A <- intersect(set1, target_set)\n",
    "        B <- intersect(set2, target_set)\n",
    "        AB <- intersect(A, B)\n",
    "        AnoB <- setdiff(A, AB)\n",
    "        noAB <- setdiff(B, AB)\n",
    "        noAnoB <- setdiff(target_set, c(A,B))\n",
    "        \n",
    "        if (length(noAB)==0 || length(AnoB)==0) {\n",
    "            OR <- Enrichment <- 1\n",
    "        } else {\n",
    "            OR <- (length(AB) / length(AnoB)) * (length(noAnoB) / length(noAB))\n",
    "            Den <- length(A) / length(target_set)\n",
    "            Num <- length(AB) / length(B)\n",
    "            Enrichment <- Num / Den\n",
    "        }\n",
    "        \n",
    "        return(list(\"OR\" = OR,\n",
    "                   \"Enrichment\" = Enrichment))\n",
    "    }\n",
    "\n",
    "    # Load input data\n",
    "    coloc_anno <- readRDS(\"${significant_variants_path}\")\n",
    "    baseline <- readRDS(\"${baseline_anno_path}\")\n",
    "\n",
    "    # Process significant variants \n",
    "    coloc_anno <- sapply(1:nrow(coloc_anno), function(i){\n",
    "        a <- coloc_anno[i,]\n",
    "        paste0(a$chr, \":\", a$pos)\n",
    "    })\n",
    "\n",
    "    # Process baseline annotation\n",
    "    baseline <- baseline %>%\n",
    "        mutate(chr_bp = paste0(\"chr\", CHR, \":\", BP))\n",
    "\n",
    "    # Get annotation columns\n",
    "    annotations <- colnames(baseline)[-c(1:5, 102)]\n",
    "\n",
    "    # Initialize matrices for results\n",
    "    OR_blockJacknife <- Enrichment_blockJacknife <- matrix(NA, \n",
    "        nrow = 22, \n",
    "        ncol = length(annotations))\n",
    "    colnames(OR_blockJacknife) <- colnames(Enrichment_blockJacknife) <- annotations\n",
    "\n",
    "    # Perform leave-one-chromosome-out analysis\n",
    "    for (i.chr in 1:22){\n",
    "        chr <- i.chr\n",
    "        pp <- which(baseline$CHR == chr)\n",
    "        baseline.jk <- baseline[-pp,]\n",
    "        target_set <- baseline.jk$chr_bp\n",
    "        \n",
    "        for (i in 1:length(annotations)){\n",
    "            anno <- baseline %>% select(annotations[i])\n",
    "            pos <- which(anno == 1)\n",
    "            baseline.tmp <- baseline$chr_bp[pos]\n",
    "            res <- calculate_OR_enrichment(baseline.tmp, coloc_anno, target_set = target_set)\n",
    "            OR_blockJacknife[i.chr, i] <- res$OR\n",
    "            Enrichment_blockJacknife[i.chr, i] <- res$Enrichment\n",
    "        }\n",
    "        cat(sprintf(\"\\rProcessing chromosome %d/22\", i.chr))\n",
    "    }\n",
    "\n",
    "    # Calculate final statistics\n",
    "    OR <- colMeans(log2(OR_blockJacknife))\n",
    "    Enrichment <- colMeans(Enrichment_blockJacknife)\n",
    "\n",
    "    OR_sd <- Enrichment_sd <- numeric(length(annotations))\n",
    "    for (j in 1:length(annotations)){\n",
    "        OR_sd[j] <- sqrt(var(OR_blockJacknife[,j]) * 21^2/22)\n",
    "        Enrichment_sd[j] <- sqrt(var(Enrichment_blockJacknife[,j]) * 21^2/22)\n",
    "    }\n",
    "\n",
    "    # Create summary data frame\n",
    "    summary_df <- data.frame(\n",
    "        Annotation = annotations,\n",
    "        OR = exp(OR),\n",
    "        OR_SE = OR_sd,\n",
    "        Enrichment = Enrichment,\n",
    "        Enrichment_SE = Enrichment_sd\n",
    "    )\n",
    "\n",
    "    # Prepare results\n",
    "    results <- list(\n",
    "        \"summary\" = summary_df,\n",
    "        \"OR_blockJacknife\" = OR_blockJacknife,\n",
    "        \"Enrichment_blockJacknife\" = Enrichment_blockJacknife,\n",
    "        \"OR\" = OR,\n",
    "        \"Enrichment\" = Enrichment,\n",
    "        \"OR_sd\" = OR_sd,\n",
    "        \"Enrichment_sd\" = Enrichment_sd,\n",
    "        \"annotations\" = annotations\n",
    "    )\n",
    "\n",
    "    # Save results\n",
    "    saveRDS(result, '${_output['enrichment']}', compress='xz')"
   ]
  }
 ],
 "metadata": {
  "kernelspec": {
   "display_name": "SoS",
   "language": "sos",
   "name": "sos"
  },
  "language_info": {
   "codemirror_mode": "sos",
   "file_extension": ".sos",
   "mimetype": "text/x-sos",
   "name": "sos",
   "nbconvert_exporter": "sos_notebook.converter.SoS_Exporter",
   "pygments_lexer": "sos"
  },
  "sos": {
   "kernels": [
    [
     "Bash",
     "calysto_bash",
     "Bash",
     "#E6EEFF",
     "shell"
    ],
    [
     "Markdown",
     "markdown",
     "markdown",
     "",
     ""
    ],
    [
     "SoS",
     "sos",
     "",
     "",
     "sos"
    ]
   ],
   "version": "0.24.3"
  }
 },
 "nbformat": 4,
 "nbformat_minor": 4
}
