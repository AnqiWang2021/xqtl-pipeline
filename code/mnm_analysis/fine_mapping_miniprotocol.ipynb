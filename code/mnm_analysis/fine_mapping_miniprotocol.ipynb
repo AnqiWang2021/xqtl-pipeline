{
 "cells": [
  {
   "cell_type": "markdown",
   "id": "3ee1c5f8-3015-41d3-bdcb-38b63861bffe",
   "metadata": {},
   "source": [
    "# Fine-Mapping\n",
    "\n",
    "This notebook shows the various fine-mapping methods available in our pipeline."
   ]
  },
  {
   "cell_type": "markdown",
   "id": "497a0361-7646-4bdc-967f-0cd3ad55b301",
   "metadata": {},
   "source": [
    "#### Miniprotocol Timing\n",
    "This represents the total duration for all miniprotocol phases. While module-specific timings are provided separately on their respective pages, they are also included in this overall estimate. \n",
    "\n",
    "Timing < X minutes"
   ]
  },
  {
   "cell_type": "markdown",
   "id": "b179d380-7ed1-48ba-9d94-39c1e83733f0",
   "metadata": {},
   "source": [
    "## Overview\n",
    "\n",
    "Each of these parts are independent of one another.\n",
    "\n",
    "1. `mnm_regression.ipynb susie_twas`: Univariate Fine-Mapping and TWAS with SuSiE\n",
    "2. `mnm_regression.ipynb mnm_genes`: Multivariate Fine-Mapping for multiple genes\n",
    "3. `mnm_regression.ipynb fsusie`: Univariate Fine-Mapping of Functional (Epigenomic) Data with fSuSiE\n",
    "4. `mnm_regression.ipynb mnm`: Multivariate Fine-Mapping with mvSuSiE and mr.mash\n",
    "5. `rss_analysis.ipynb univariate_rss`: Regression with Summary Statistics (RSS) Fine-Mapping and TWAS with SuSiE"
   ]
  },
  {
   "cell_type": "markdown",
   "id": "f1e1cd1a-d341-45de-876e-773e04789244",
   "metadata": {},
   "source": [
    "## Steps"
   ]
  },
  {
   "cell_type": "code",
   "execution_count": null,
   "id": "664a9a1b-60a1-4f89-b6f6-1f0dcf0a23b0",
   "metadata": {},
   "outputs": [],
   "source": []
  },
  {
   "cell_type": "markdown",
   "id": "99ef76cd-184b-4107-a8fe-523daa10a09c",
   "metadata": {},
   "source": [
    "## Anticipated Results"
   ]
  },
  {
   "cell_type": "markdown",
   "id": "c46afb81-7a8e-4b9b-ad3c-ebf409b33824",
   "metadata": {},
   "source": [
    "Univariate finemapping will produce a file containing results for the top hits and a file containing twas weights produced by susie. Multigene finemapping with mvSuSiE will produce a file for each gene and region containing results for the top hits and a file containing twas weights produced by susie. Univariate finemapping for functional data with fSuSiE will produce a file containing results for the top hits and a file containing residuals from SuSiE. Multivariate finemapping will produce a file containing results for the top hits for each gene and a file containing twas weights produced by susie. Summary statistics fine-mapping produces a results file for each region and gwas of interest."
   ]
  },
  {
   "cell_type": "code",
   "execution_count": null,
   "id": "34729ce0-94f8-4f78-8961-e3c3dc365f2e",
   "metadata": {},
   "outputs": [],
   "source": []
  }
 ],
 "metadata": {
  "kernelspec": {
   "display_name": "Python 3 (ipykernel)",
   "language": "python",
   "name": "python3"
  },
  "language_info": {
   "codemirror_mode": {
    "name": "ipython",
    "version": 3
   },
   "file_extension": ".py",
   "mimetype": "text/x-python",
   "name": "python",
   "nbconvert_exporter": "python",
   "pygments_lexer": "ipython3",
   "version": "3.10.12"
  }
 },
 "nbformat": 4,
 "nbformat_minor": 5
}
