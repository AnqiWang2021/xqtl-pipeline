{
 "cells": [
  {
   "cell_type": "markdown",
   "id": "veterinary-poison",
   "metadata": {
    "kernel": "SoS",
    "tags": []
   },
   "source": [
    "# Univariate fine-mapping workflows"
   ]
  },
  {
   "cell_type": "markdown",
   "id": "executive-camera",
   "metadata": {
    "kernel": "Bash",
    "tags": []
   },
   "source": [
    "1. Using `susieR::susie()`\n",
    "2. Using `susiF.alpha::susif`"
   ]
  },
  {
   "cell_type": "markdown",
   "id": "03c5178c-5b91-4e64-a1c4-e9cb8b4a38dd",
   "metadata": {
    "kernel": "SoS"
   },
   "source": [
    "## Univariate SuSiE"
   ]
  },
  {
   "cell_type": "code",
   "execution_count": null,
   "id": "53caf474-8d43-4b3b-ba23-46eb584dfd4d",
   "metadata": {
    "kernel": "SoS"
   },
   "outputs": [],
   "source": [
    "nohup sos run /home/hs3163/GIT/xqtl-pipeline/pipeline/fine_mapping/SuSiE/SuSiE.ipynb uni_susie  \\\n",
    "        --phenotype_list /mnt/mfs/statgen/xqtl_workflow_testing/demo/phenotype_reformat/demo.processed_phenotype.per_gene.recipe  \\\n",
    "        --genotype_list /mnt/mfs/statgen/xqtl_workflow_testing/demo/genotype_reformmating/demo_per_gene_plink/plink_per_gene_list  \\\n",
    "        --region_list  /home/hs3163/GIT/ADSPFG-xQTL/MWE/mwe_region_long \\\n",
    "        --container /mnt/mfs/statgen/containers/twas_latest.sif \\\n",
    "        --wd ./ \\\n",
    "        --name \"demo\" &  "
   ]
  },
  {
   "cell_type": "markdown",
   "id": "c08b454e-a2b2-4624-9790-b8e26a6d5e15",
   "metadata": {
    "kernel": "SoS"
   },
   "source": [
    "### SuSiE results post processing\n"
   ]
  },
  {
   "cell_type": "code",
   "execution_count": null,
   "id": "006ac9ee-fc22-4c9a-8bd3-9d1028a067f9",
   "metadata": {
    "kernel": "SoS"
   },
   "outputs": [],
   "source": [
    "sos run pipeline/SuSiE_post_processing.ipynb susie_to_tsv \\\n",
    "    --cwd output/ADGWAS_finemapping_extracted/Bellenguez/ --rds_path `ls GWAS_Finemapping_Results/Bellenguez/ADGWAS2022*rds ` \\\n",
    "    --region-list ~/1300_hg38_EUR_LD_blocks_orig.tsv \\\n",
    "    --container containers/stephenslab.sif "
   ]
  },
  {
   "cell_type": "markdown",
   "id": "38ce5e3d-d602-439a-aaca-f3e982944eb9",
   "metadata": {
    "kernel": "SoS"
   },
   "source": [
    "## Univariate SuSiF"
   ]
  },
  {
   "cell_type": "code",
   "execution_count": null,
   "id": "4d844ead-3d13-4793-8c0c-2dd6a2b30fe7",
   "metadata": {
    "kernel": "SoS"
   },
   "outputs": [],
   "source": [
    "sos run pipeline/SuSiE.ipynb uni_fsusie \\\n",
    "    --genoFile /mnt/vast/hpc/csg/molecular_phenotype_calling/eqtl/output/dlpfc_tad_region_list_plink_files/ROSMAP_NIA_WGS.leftnorm.filtered.filtered.plink_files_list.txt  \\\n",
    "    --cwd output/f_susie_tad_haQTL_pos_check_pure_2/ --name haQTL \\\n",
    "    --region-list dlpfc_tad_list \\\n",
    "    --phenoFile phenotype_list \\\n",
    "    --covFile covar_list --prior mixture_normal_per_scale  --container containers/stephenslab.sif "
   ]
  },
  {
   "cell_type": "markdown",
   "id": "58dfe4e3-fe57-4309-9d3b-82eb4bfba136",
   "metadata": {
    "kernel": "SoS"
   },
   "source": [
    "### SuSiE results post processing\n"
   ]
  },
  {
   "cell_type": "code",
   "execution_count": null,
   "id": "e488fd3a-6cad-4238-af24-933af74c2fab",
   "metadata": {
    "kernel": "SoS"
   },
   "outputs": [],
   "source": [
    "sos run pipeline/SuSiE_post_processing.ipynb fsusie_to_tsv \\\n",
    "    --cwd output/f_susie_tad_haQTL_pos_check_pure_2 --rds_path `ls output/f_susie_tad_haQTL_pos_check_pure_2/cache/*rds ` \\\n",
    "    --region-list ../eqtl/dlpfc_tad_list \\\n",
    "    --container containers/stephenslab.sif "
   ]
  },
  {
   "cell_type": "markdown",
   "id": "e1c05587-5de1-4be9-93a3-ae106ada37ec",
   "metadata": {
    "kernel": "SoS"
   },
   "source": [
    "## Plotting susie"
   ]
  },
  {
   "cell_type": "markdown",
   "id": "488ee24b-7d04-40be-b6ad-3dda31b1e50a",
   "metadata": {
    "kernel": "SoS"
   },
   "source": [
    "### PIP land scape plot"
   ]
  },
  {
   "cell_type": "code",
   "execution_count": null,
   "id": "a2c0dd2a-8858-40ea-bb55-6adfe2ac9a2d",
   "metadata": {
    "kernel": "SoS"
   },
   "outputs": [],
   "source": [
    "sos run pipeline/SuSiE_post_processing.ipynb susie_pip_landscape_plot \\\n",
    "    --cwd output/test/ --plot_list plot_recipe_1 --annot_tibble ~/Annotatr_builtin_annotation_tibble.tsv -s force &"
   ]
  },
  {
   "cell_type": "markdown",
   "id": "359ef7fe-9c65-43ca-90d9-c7983afe51c4",
   "metadata": {
    "kernel": "SoS"
   },
   "source": [
    "### UpSetR plot "
   ]
  },
  {
   "cell_type": "code",
   "execution_count": null,
   "id": "ee0273be-9ee3-476f-918b-7a66e94b9158",
   "metadata": {
    "kernel": "SoS"
   },
   "outputs": [],
   "source": [
    "sos run pipeline/SuSiE_post_processing.ipynb susie_upsetR_plot \\\n",
    "    --cwd output/test/ --plot_list plot_recipe_1 -s force &"
   ]
  }
 ],
 "metadata": {
  "kernelspec": {
   "display_name": "SoS",
   "language": "sos",
   "name": "sos"
  },
  "language_info": {
   "codemirror_mode": "sos",
   "file_extension": ".sos",
   "mimetype": "text/x-sos",
   "name": "sos",
   "nbconvert_exporter": "sos_notebook.converter.SoS_Exporter",
   "pygments_lexer": "sos"
  },
  "sos": {
   "kernels": [
    [
     "Bash",
     "bash",
     "Bash",
     "#E6EEFF",
     ""
    ],
    [
     "Markdown",
     "markdown",
     "markdown",
     "",
     ""
    ],
    [
     "SoS",
     "sos",
     "",
     "",
     "sos"
    ]
   ],
   "version": "0.22.6"
  }
 },
 "nbformat": 4,
 "nbformat_minor": 5
}
