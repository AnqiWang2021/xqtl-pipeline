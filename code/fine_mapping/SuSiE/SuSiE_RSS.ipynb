{
 "cells": [
  {
   "cell_type": "markdown",
   "id": "c95d8992-e05e-482a-8b33-5c6725650d43",
   "metadata": {},
   "source": [
    "# Fine-mapping with SuSiE RSS model"
   ]
  },
  {
   "cell_type": "markdown",
   "id": "29b654fe-c703-479f-a1af-4c68f0a862e3",
   "metadata": {},
   "source": [
    "This notebook take a list of LD file and a list of sumstat file and do salmon QC and susie RSS for each overlap LD block."
   ]
  },
  {
   "cell_type": "code",
   "execution_count": null,
   "id": "d1c31441-f4f8-41cd-9b5e-cdc65d22e314",
   "metadata": {},
   "outputs": [],
   "source": [
    "[global]\n",
    "\n",
    "parameter: container = \"\"\n",
    "# For cluster jobs, number commands to run per job\n",
    "parameter: job_size = 1\n",
    "# Wall clock time expected\n",
    "parameter: walltime = \"5h\"\n",
    "# Memory expected\n",
    "parameter: mem = \"16G\"\n",
    "# Number of threads\n",
    "parameter: numThreads = 20\n",
    "\n",
    "# getting the overlapped input\n",
    "parameter: LD_list = path\n",
    "parameter: sumstat_list = path\n",
    "import pandas as pd\n",
    "LD_list = pd.read_csv(LD_list,\"\\t\")\n",
    "sumstat_list = pd.read_csv(sumstat_list,\"\\t\")\n",
    "LD_list[\"#chr\"] = [x[0].replace(\"chr\", \"\") for x in  LD_list[\"#id\"].str.split(\"_\") ]\n",
    "sumstat_list[\"#chr\"] = [str(x).replace(\"chr\", \"\") for x in  sumstat_list[\"#chr\"] ]\n",
    "input_inv = LD_list.merge(sumstat_list)\n",
    "input_list = input_inv.iloc[:,[1,3]].values.tolist()\n",
    "parameter: cwd = path(\"output\")\n",
    "\n",
    "\n",
    "[SuSiE_RSS_1]\n",
    "input: input_list, group_by = 2\n",
    "output: f'{cwd:a}/{_input[1]:bn}.{_input[0].split(\".\")[-3]}.unisusie_rss.fit.rds'\n",
    "task: trunk_workers = 1, trunk_size = job_size, walltime = walltime, mem = mem, cores = numThreads, tags = f'{step_name}_{_output[0]:bn}'\n",
    "python: expand = '${ }', stdout = f\"{_output:nn}.stdout\", stderr = f\"{_output:nn}.stderr\", container = container\n",
    "    import pandas as pd\n",
    "    import numpy as np\n",
    "    def load_npz_ld(path):\n",
    "        np_ld_loaded = np.load(path,allow_pickle=True)\n",
    "        # sort by start position\n",
    "        snp_id = np_ld_loaded.get(\"arr_1\")\n",
    "        np_ld_loaded = np_ld_loaded.get(\"arr_0\")\n",
    "        new = np_ld_loaded + np_ld_loaded.T\n",
    "        np.fill_diagonal(new, np.diag(new)/2)\n",
    "        return new,snp_id\n",
    "\n",
    "    def get_bcor_meta(bcor_obj):\n",
    "        df_ld_snps = bcor_obj.getMeta()\n",
    "        df_ld_snps.rename(columns={'rsid':'SNP', 'position':'BP', 'chromosome':'CHR', 'allele1':'A1', 'allele2':'A2'}, inplace=True, errors='raise')\n",
    "        ###df_ld_snps['CHR'] = df_ld_snps['CHR'].astype(np.int64)\n",
    "        df_ld_snps['BP'] = df_ld_snps['BP'].astype(np.int64)\n",
    "        return df_ld_snps\n",
    "\n",
    "    def load_ld_bcor(ld_prefix):\n",
    "        bcor_file = ld_prefix+'.bcor'\n",
    "        import os\n",
    "        import time\n",
    "        from ldstore.bcor import bcor\n",
    "        if not os.path.exists(bcor_file):\n",
    "            raise IOError('%s not found'%(bcor_file))\n",
    "        t0 = time.time()\n",
    "        bcor_obj = bcor(bcor_file)\n",
    "        df_ld_snps = get_bcor_meta(bcor_obj)\n",
    "        ld_arr = bcor_obj.readCorr([])\n",
    "        assert np.all(~np.isnan(ld_arr))\n",
    "        return ld_arr, df_ld_snps\n",
    "\n",
    "    ## Load LD\n",
    "    if \"${_input[0]}\".endswith(\"npz\"):\n",
    "        LD,snp_id = load_npz_ld(${_input[0]:r}) \n",
    "    if \"${_input[0]}\".endswith(\"bcor\"):\n",
    "        LD,snp_id = load_ld_bcor(${_input[0]:nr}) \n",
    "        \n",
    "    "
   ]
  },
  {
   "cell_type": "markdown",
   "id": "fcb502e7-950a-4c74-90c1-4ce49e643d1b",
   "metadata": {},
   "source": [
    "# Draft"
   ]
  },
  {
   "cell_type": "code",
   "execution_count": null,
   "id": "9e4f369c-7df9-4aee-b15f-21141b108deb",
   "metadata": {},
   "outputs": [],
   "source": [
    "    elif \"${_input[0]}\".endswith(\"bcor\"):\n",
    "        LD,snp_id = load_bcor_ld(${_input[0]:r})"
   ]
  },
  {
   "cell_type": "code",
   "execution_count": 53,
   "id": "ad26d3ab-da3b-477f-b188-4ff66dd84768",
   "metadata": {},
   "outputs": [],
   "source": [
    "import pandas as pd\n",
    "import numpy as np"
   ]
  },
  {
   "cell_type": "code",
   "execution_count": 22,
   "id": "ee664d6e-d3a0-4f8c-80d2-2e86241088ca",
   "metadata": {},
   "outputs": [
    {
     "name": "stderr",
     "output_type": "stream",
     "text": [
      "/home/hs3163/miniconda3/lib/python3.9/site-packages/IPython/core/interactiveshell.py:3441: FutureWarning: In a future version of pandas all arguments of read_csv except for the argument 'filepath_or_buffer' will be keyword-only.\n",
      "  exec(code_obj, self.user_global_ns, self.user_ns)\n",
      "/home/hs3163/miniconda3/lib/python3.9/site-packages/IPython/core/interactiveshell.py:3441: FutureWarning: In a future version of pandas all arguments of read_csv except for the argument 'filepath_or_buffer' will be keyword-only.\n",
      "  exec(code_obj, self.user_global_ns, self.user_ns)\n"
     ]
    }
   ],
   "source": [
    "LD_list = pd.read_csv(\"/mnt/vast/hpc/csg/molecular_phenotype_calling/LD/output_npz_2/1300_hg38_EUR_LD_blocks_npz_files/ROSMAP_NIA_WGS.leftnorm.filtered.filtered.ld.list\",\"\\t\")\n",
    "sumstat_list = pd.read_csv(\"/mnt/vast/hpc/csg/xqtl_workflow_testing/ADGWAS/data_intergration/ADGWAS2022/qced_sumstat_list.txt\",\"\\t\")\n"
   ]
  },
  {
   "cell_type": "code",
   "execution_count": 3,
   "id": "dc2f9808-a098-4e6a-b73b-6ed84df2bc67",
   "metadata": {},
   "outputs": [
    {
     "data": {
      "text/html": [
       "<div>\n",
       "<style scoped>\n",
       "    .dataframe tbody tr th:only-of-type {\n",
       "        vertical-align: middle;\n",
       "    }\n",
       "\n",
       "    .dataframe tbody tr th {\n",
       "        vertical-align: top;\n",
       "    }\n",
       "\n",
       "    .dataframe thead th {\n",
       "        text-align: right;\n",
       "    }\n",
       "</style>\n",
       "<table border=\"1\" class=\"dataframe\">\n",
       "  <thead>\n",
       "    <tr style=\"text-align: right;\">\n",
       "      <th></th>\n",
       "      <th>#chr</th>\n",
       "      <th>ADGWAS_Bellenguez_2022</th>\n",
       "    </tr>\n",
       "  </thead>\n",
       "  <tbody>\n",
       "    <tr>\n",
       "      <th>0</th>\n",
       "      <td>1</td>\n",
       "      <td>/mnt/vast/hpc/csg/xqtl_workflow_testing/ADGWAS...</td>\n",
       "    </tr>\n",
       "    <tr>\n",
       "      <th>1</th>\n",
       "      <td>2</td>\n",
       "      <td>/mnt/vast/hpc/csg/xqtl_workflow_testing/ADGWAS...</td>\n",
       "    </tr>\n",
       "    <tr>\n",
       "      <th>2</th>\n",
       "      <td>3</td>\n",
       "      <td>/mnt/vast/hpc/csg/xqtl_workflow_testing/ADGWAS...</td>\n",
       "    </tr>\n",
       "    <tr>\n",
       "      <th>3</th>\n",
       "      <td>4</td>\n",
       "      <td>/mnt/vast/hpc/csg/xqtl_workflow_testing/ADGWAS...</td>\n",
       "    </tr>\n",
       "    <tr>\n",
       "      <th>4</th>\n",
       "      <td>5</td>\n",
       "      <td>/mnt/vast/hpc/csg/xqtl_workflow_testing/ADGWAS...</td>\n",
       "    </tr>\n",
       "    <tr>\n",
       "      <th>5</th>\n",
       "      <td>6</td>\n",
       "      <td>/mnt/vast/hpc/csg/xqtl_workflow_testing/ADGWAS...</td>\n",
       "    </tr>\n",
       "    <tr>\n",
       "      <th>6</th>\n",
       "      <td>7</td>\n",
       "      <td>/mnt/vast/hpc/csg/xqtl_workflow_testing/ADGWAS...</td>\n",
       "    </tr>\n",
       "    <tr>\n",
       "      <th>7</th>\n",
       "      <td>8</td>\n",
       "      <td>/mnt/vast/hpc/csg/xqtl_workflow_testing/ADGWAS...</td>\n",
       "    </tr>\n",
       "    <tr>\n",
       "      <th>8</th>\n",
       "      <td>9</td>\n",
       "      <td>/mnt/vast/hpc/csg/xqtl_workflow_testing/ADGWAS...</td>\n",
       "    </tr>\n",
       "    <tr>\n",
       "      <th>9</th>\n",
       "      <td>10</td>\n",
       "      <td>/mnt/vast/hpc/csg/xqtl_workflow_testing/ADGWAS...</td>\n",
       "    </tr>\n",
       "    <tr>\n",
       "      <th>10</th>\n",
       "      <td>11</td>\n",
       "      <td>/mnt/vast/hpc/csg/xqtl_workflow_testing/ADGWAS...</td>\n",
       "    </tr>\n",
       "    <tr>\n",
       "      <th>11</th>\n",
       "      <td>12</td>\n",
       "      <td>/mnt/vast/hpc/csg/xqtl_workflow_testing/ADGWAS...</td>\n",
       "    </tr>\n",
       "    <tr>\n",
       "      <th>12</th>\n",
       "      <td>13</td>\n",
       "      <td>/mnt/vast/hpc/csg/xqtl_workflow_testing/ADGWAS...</td>\n",
       "    </tr>\n",
       "    <tr>\n",
       "      <th>13</th>\n",
       "      <td>14</td>\n",
       "      <td>/mnt/vast/hpc/csg/xqtl_workflow_testing/ADGWAS...</td>\n",
       "    </tr>\n",
       "    <tr>\n",
       "      <th>14</th>\n",
       "      <td>15</td>\n",
       "      <td>/mnt/vast/hpc/csg/xqtl_workflow_testing/ADGWAS...</td>\n",
       "    </tr>\n",
       "    <tr>\n",
       "      <th>15</th>\n",
       "      <td>16</td>\n",
       "      <td>/mnt/vast/hpc/csg/xqtl_workflow_testing/ADGWAS...</td>\n",
       "    </tr>\n",
       "    <tr>\n",
       "      <th>16</th>\n",
       "      <td>17</td>\n",
       "      <td>/mnt/vast/hpc/csg/xqtl_workflow_testing/ADGWAS...</td>\n",
       "    </tr>\n",
       "    <tr>\n",
       "      <th>17</th>\n",
       "      <td>18</td>\n",
       "      <td>/mnt/vast/hpc/csg/xqtl_workflow_testing/ADGWAS...</td>\n",
       "    </tr>\n",
       "    <tr>\n",
       "      <th>18</th>\n",
       "      <td>19</td>\n",
       "      <td>/mnt/vast/hpc/csg/xqtl_workflow_testing/ADGWAS...</td>\n",
       "    </tr>\n",
       "    <tr>\n",
       "      <th>19</th>\n",
       "      <td>20</td>\n",
       "      <td>/mnt/vast/hpc/csg/xqtl_workflow_testing/ADGWAS...</td>\n",
       "    </tr>\n",
       "    <tr>\n",
       "      <th>20</th>\n",
       "      <td>21</td>\n",
       "      <td>/mnt/vast/hpc/csg/xqtl_workflow_testing/ADGWAS...</td>\n",
       "    </tr>\n",
       "    <tr>\n",
       "      <th>21</th>\n",
       "      <td>22</td>\n",
       "      <td>/mnt/vast/hpc/csg/xqtl_workflow_testing/ADGWAS...</td>\n",
       "    </tr>\n",
       "  </tbody>\n",
       "</table>\n",
       "</div>"
      ],
      "text/plain": [
       "    #chr                             ADGWAS_Bellenguez_2022\n",
       "0      1  /mnt/vast/hpc/csg/xqtl_workflow_testing/ADGWAS...\n",
       "1      2  /mnt/vast/hpc/csg/xqtl_workflow_testing/ADGWAS...\n",
       "2      3  /mnt/vast/hpc/csg/xqtl_workflow_testing/ADGWAS...\n",
       "3      4  /mnt/vast/hpc/csg/xqtl_workflow_testing/ADGWAS...\n",
       "4      5  /mnt/vast/hpc/csg/xqtl_workflow_testing/ADGWAS...\n",
       "5      6  /mnt/vast/hpc/csg/xqtl_workflow_testing/ADGWAS...\n",
       "6      7  /mnt/vast/hpc/csg/xqtl_workflow_testing/ADGWAS...\n",
       "7      8  /mnt/vast/hpc/csg/xqtl_workflow_testing/ADGWAS...\n",
       "8      9  /mnt/vast/hpc/csg/xqtl_workflow_testing/ADGWAS...\n",
       "9     10  /mnt/vast/hpc/csg/xqtl_workflow_testing/ADGWAS...\n",
       "10    11  /mnt/vast/hpc/csg/xqtl_workflow_testing/ADGWAS...\n",
       "11    12  /mnt/vast/hpc/csg/xqtl_workflow_testing/ADGWAS...\n",
       "12    13  /mnt/vast/hpc/csg/xqtl_workflow_testing/ADGWAS...\n",
       "13    14  /mnt/vast/hpc/csg/xqtl_workflow_testing/ADGWAS...\n",
       "14    15  /mnt/vast/hpc/csg/xqtl_workflow_testing/ADGWAS...\n",
       "15    16  /mnt/vast/hpc/csg/xqtl_workflow_testing/ADGWAS...\n",
       "16    17  /mnt/vast/hpc/csg/xqtl_workflow_testing/ADGWAS...\n",
       "17    18  /mnt/vast/hpc/csg/xqtl_workflow_testing/ADGWAS...\n",
       "18    19  /mnt/vast/hpc/csg/xqtl_workflow_testing/ADGWAS...\n",
       "19    20  /mnt/vast/hpc/csg/xqtl_workflow_testing/ADGWAS...\n",
       "20    21  /mnt/vast/hpc/csg/xqtl_workflow_testing/ADGWAS...\n",
       "21    22  /mnt/vast/hpc/csg/xqtl_workflow_testing/ADGWAS..."
      ]
     },
     "execution_count": 3,
     "metadata": {},
     "output_type": "execute_result"
    }
   ],
   "source": [
    "sumstat_list"
   ]
  },
  {
   "cell_type": "code",
   "execution_count": 25,
   "id": "5faa5ee5-bac2-40cc-9aee-27ea53cde918",
   "metadata": {},
   "outputs": [],
   "source": [
    "LD_list[\"#chr\"] = [x[0].replace(\"chr\", \"\") for x in  LD_list[\"#id\"].str.split(\"_\") ]"
   ]
  },
  {
   "cell_type": "code",
   "execution_count": 24,
   "id": "e11b1c68-e8ee-4bc7-9a8b-094f61ad6785",
   "metadata": {},
   "outputs": [],
   "source": [
    "sumstat_list[\"#chr\"] = [str(x).replace(\"chr\", \"\") for x in  sumstat_list[\"#chr\"] ]"
   ]
  },
  {
   "cell_type": "code",
   "execution_count": 27,
   "id": "aead0cd2-d02c-43da-90a5-d42da4da0e7a",
   "metadata": {},
   "outputs": [],
   "source": [
    "input_inv = LD_list.merge(sumstat_list)"
   ]
  },
  {
   "cell_type": "code",
   "execution_count": 35,
   "id": "ecb73edf-9913-4563-af7c-39000051f774",
   "metadata": {},
   "outputs": [
    {
     "data": {
      "text/html": [
       "<div>\n",
       "<style scoped>\n",
       "    .dataframe tbody tr th:only-of-type {\n",
       "        vertical-align: middle;\n",
       "    }\n",
       "\n",
       "    .dataframe tbody tr th {\n",
       "        vertical-align: top;\n",
       "    }\n",
       "\n",
       "    .dataframe thead th {\n",
       "        text-align: right;\n",
       "    }\n",
       "</style>\n",
       "<table border=\"1\" class=\"dataframe\">\n",
       "  <thead>\n",
       "    <tr style=\"text-align: right;\">\n",
       "      <th></th>\n",
       "      <th>#id</th>\n",
       "      <th>dir</th>\n",
       "      <th>#chr</th>\n",
       "      <th>ADGWAS_Bellenguez_2022</th>\n",
       "    </tr>\n",
       "  </thead>\n",
       "  <tbody>\n",
       "    <tr>\n",
       "      <th>0</th>\n",
       "      <td>chr1_16103_2888443</td>\n",
       "      <td>/mnt/vast/hpc/csg/molecular_phenotype_calling/...</td>\n",
       "      <td>1</td>\n",
       "      <td>/mnt/vast/hpc/csg/xqtl_workflow_testing/ADGWAS...</td>\n",
       "    </tr>\n",
       "    <tr>\n",
       "      <th>1</th>\n",
       "      <td>chr1_2888443_4320284</td>\n",
       "      <td>/mnt/vast/hpc/csg/molecular_phenotype_calling/...</td>\n",
       "      <td>1</td>\n",
       "      <td>/mnt/vast/hpc/csg/xqtl_workflow_testing/ADGWAS...</td>\n",
       "    </tr>\n",
       "    <tr>\n",
       "      <th>2</th>\n",
       "      <td>chr1_4320284_5853833</td>\n",
       "      <td>/mnt/vast/hpc/csg/molecular_phenotype_calling/...</td>\n",
       "      <td>1</td>\n",
       "      <td>/mnt/vast/hpc/csg/xqtl_workflow_testing/ADGWAS...</td>\n",
       "    </tr>\n",
       "    <tr>\n",
       "      <th>3</th>\n",
       "      <td>chr1_5853833_7110219</td>\n",
       "      <td>/mnt/vast/hpc/csg/molecular_phenotype_calling/...</td>\n",
       "      <td>1</td>\n",
       "      <td>/mnt/vast/hpc/csg/xqtl_workflow_testing/ADGWAS...</td>\n",
       "    </tr>\n",
       "    <tr>\n",
       "      <th>4</th>\n",
       "      <td>chr1_7110219_9473386</td>\n",
       "      <td>/mnt/vast/hpc/csg/molecular_phenotype_calling/...</td>\n",
       "      <td>1</td>\n",
       "      <td>/mnt/vast/hpc/csg/xqtl_workflow_testing/ADGWAS...</td>\n",
       "    </tr>\n",
       "    <tr>\n",
       "      <th>...</th>\n",
       "      <td>...</td>\n",
       "      <td>...</td>\n",
       "      <td>...</td>\n",
       "      <td>...</td>\n",
       "    </tr>\n",
       "    <tr>\n",
       "      <th>1356</th>\n",
       "      <td>chr22_43251864_44603286</td>\n",
       "      <td>/mnt/vast/hpc/csg/molecular_phenotype_calling/...</td>\n",
       "      <td>22</td>\n",
       "      <td>/mnt/vast/hpc/csg/xqtl_workflow_testing/ADGWAS...</td>\n",
       "    </tr>\n",
       "    <tr>\n",
       "      <th>1357</th>\n",
       "      <td>chr22_44603286_46177037</td>\n",
       "      <td>/mnt/vast/hpc/csg/molecular_phenotype_calling/...</td>\n",
       "      <td>22</td>\n",
       "      <td>/mnt/vast/hpc/csg/xqtl_workflow_testing/ADGWAS...</td>\n",
       "    </tr>\n",
       "    <tr>\n",
       "      <th>1358</th>\n",
       "      <td>chr22_46177037_47876022</td>\n",
       "      <td>/mnt/vast/hpc/csg/molecular_phenotype_calling/...</td>\n",
       "      <td>22</td>\n",
       "      <td>/mnt/vast/hpc/csg/xqtl_workflow_testing/ADGWAS...</td>\n",
       "    </tr>\n",
       "    <tr>\n",
       "      <th>1359</th>\n",
       "      <td>chr22_47876022_49355984</td>\n",
       "      <td>/mnt/vast/hpc/csg/molecular_phenotype_calling/...</td>\n",
       "      <td>22</td>\n",
       "      <td>/mnt/vast/hpc/csg/xqtl_workflow_testing/ADGWAS...</td>\n",
       "    </tr>\n",
       "    <tr>\n",
       "      <th>1360</th>\n",
       "      <td>chr22_49355984_50799822</td>\n",
       "      <td>/mnt/vast/hpc/csg/molecular_phenotype_calling/...</td>\n",
       "      <td>22</td>\n",
       "      <td>/mnt/vast/hpc/csg/xqtl_workflow_testing/ADGWAS...</td>\n",
       "    </tr>\n",
       "  </tbody>\n",
       "</table>\n",
       "<p>1361 rows × 4 columns</p>\n",
       "</div>"
      ],
      "text/plain": [
       "                          #id  \\\n",
       "0          chr1_16103_2888443   \n",
       "1        chr1_2888443_4320284   \n",
       "2        chr1_4320284_5853833   \n",
       "3        chr1_5853833_7110219   \n",
       "4        chr1_7110219_9473386   \n",
       "...                       ...   \n",
       "1356  chr22_43251864_44603286   \n",
       "1357  chr22_44603286_46177037   \n",
       "1358  chr22_46177037_47876022   \n",
       "1359  chr22_47876022_49355984   \n",
       "1360  chr22_49355984_50799822   \n",
       "\n",
       "                                                    dir #chr  \\\n",
       "0     /mnt/vast/hpc/csg/molecular_phenotype_calling/...    1   \n",
       "1     /mnt/vast/hpc/csg/molecular_phenotype_calling/...    1   \n",
       "2     /mnt/vast/hpc/csg/molecular_phenotype_calling/...    1   \n",
       "3     /mnt/vast/hpc/csg/molecular_phenotype_calling/...    1   \n",
       "4     /mnt/vast/hpc/csg/molecular_phenotype_calling/...    1   \n",
       "...                                                 ...  ...   \n",
       "1356  /mnt/vast/hpc/csg/molecular_phenotype_calling/...   22   \n",
       "1357  /mnt/vast/hpc/csg/molecular_phenotype_calling/...   22   \n",
       "1358  /mnt/vast/hpc/csg/molecular_phenotype_calling/...   22   \n",
       "1359  /mnt/vast/hpc/csg/molecular_phenotype_calling/...   22   \n",
       "1360  /mnt/vast/hpc/csg/molecular_phenotype_calling/...   22   \n",
       "\n",
       "                                 ADGWAS_Bellenguez_2022  \n",
       "0     /mnt/vast/hpc/csg/xqtl_workflow_testing/ADGWAS...  \n",
       "1     /mnt/vast/hpc/csg/xqtl_workflow_testing/ADGWAS...  \n",
       "2     /mnt/vast/hpc/csg/xqtl_workflow_testing/ADGWAS...  \n",
       "3     /mnt/vast/hpc/csg/xqtl_workflow_testing/ADGWAS...  \n",
       "4     /mnt/vast/hpc/csg/xqtl_workflow_testing/ADGWAS...  \n",
       "...                                                 ...  \n",
       "1356  /mnt/vast/hpc/csg/xqtl_workflow_testing/ADGWAS...  \n",
       "1357  /mnt/vast/hpc/csg/xqtl_workflow_testing/ADGWAS...  \n",
       "1358  /mnt/vast/hpc/csg/xqtl_workflow_testing/ADGWAS...  \n",
       "1359  /mnt/vast/hpc/csg/xqtl_workflow_testing/ADGWAS...  \n",
       "1360  /mnt/vast/hpc/csg/xqtl_workflow_testing/ADGWAS...  \n",
       "\n",
       "[1361 rows x 4 columns]"
      ]
     },
     "execution_count": 35,
     "metadata": {},
     "output_type": "execute_result"
    }
   ],
   "source": [
    "input_inv"
   ]
  },
  {
   "cell_type": "code",
   "execution_count": 33,
   "id": "110ddf7d-4d54-44a9-9147-fe7c9779517f",
   "metadata": {},
   "outputs": [],
   "source": [
    "LD_file = input_inv.iloc[:,1].values.tolist()\n",
    "sumstat_file = input_inv.iloc[:,3].values.tolist()"
   ]
  },
  {
   "cell_type": "code",
   "execution_count": 36,
   "id": "6d16735f-58d1-4b31-990a-26e83d33ad1a",
   "metadata": {},
   "outputs": [],
   "source": [
    "sumstat_file = input_inv.iloc[:,3].values.tolist()"
   ]
  },
  {
   "cell_type": "code",
   "execution_count": 47,
   "id": "8ae6c273-0a7a-4e6b-a1af-4f604a67cd3a",
   "metadata": {},
   "outputs": [],
   "source": [
    "test = input_inv.iloc[:,[1,3]].values.tolist()[0]"
   ]
  },
  {
   "cell_type": "code",
   "execution_count": 50,
   "id": "e7d39cad-433b-44cb-bdab-db693261f348",
   "metadata": {},
   "outputs": [
    {
     "data": {
      "text/plain": [
       "True"
      ]
     },
     "execution_count": 50,
     "metadata": {},
     "output_type": "execute_result"
    }
   ],
   "source": [
    "test[0].endswith(\"npz\")"
   ]
  },
  {
   "cell_type": "code",
   "execution_count": 51,
   "id": "0f89fbec-7207-43c6-808a-36f15099a5eb",
   "metadata": {},
   "outputs": [],
   "source": []
  },
  {
   "cell_type": "code",
   "execution_count": 54,
   "id": "45b94340-63e1-436b-80c0-3c7050b49654",
   "metadata": {},
   "outputs": [],
   "source": []
  },
  {
   "cell_type": "code",
   "execution_count": 55,
   "id": "a017f5ce-b4f8-4d5d-8bbf-5f47c3267d41",
   "metadata": {},
   "outputs": [
    {
     "data": {
      "text/plain": [
       "array([[ 1.000e+00, -4.330e-03, -4.761e-03, ..., -5.127e-03, -3.656e-03,\n",
       "         5.508e-03],\n",
       "       [-4.330e-03,  1.000e+00, -4.761e-03, ..., -5.127e-03, -3.656e-03,\n",
       "        -2.812e-02],\n",
       "       [-4.761e-03, -4.761e-03,  1.000e+00, ..., -5.638e-03, -4.021e-03,\n",
       "        -2.127e-04],\n",
       "       ...,\n",
       "       [-5.127e-03, -5.127e-03, -5.638e-03, ...,  1.000e+00, -4.330e-03,\n",
       "        -3.329e-02],\n",
       "       [-3.656e-03, -3.656e-03, -4.021e-03, ..., -4.330e-03,  1.000e+00,\n",
       "         4.654e-03],\n",
       "       [ 5.508e-03, -2.812e-02, -2.127e-04, ..., -3.329e-02,  4.654e-03,\n",
       "         1.000e+00]], dtype=float16)"
      ]
     },
     "execution_count": 55,
     "metadata": {},
     "output_type": "execute_result"
    }
   ],
   "source": [
    "new"
   ]
  },
  {
   "cell_type": "code",
   "execution_count": 68,
   "id": "ddc35bed-03f7-4b8d-b790-195f8cbfffc3",
   "metadata": {},
   "outputs": [],
   "source": [
    "def load_npz_ld(path):\n",
    "        np_ld_loaded = np.load(path,allow_pickle=True)\n",
    "        # sort by start position\n",
    "        snp_id = np_ld_loaded.get(\"arr_1\")\n",
    "        np_ld_loaded = np_ld_loaded.get(\"arr_0\")\n",
    "        new = np_ld_loaded + np_ld_loaded.T\n",
    "        np.fill_diagonal(new, np.diag(new)/2)\n",
    "        return new,snp_id\n",
    "\n",
    "\n",
    "def load_ld_bcor(ld_prefix):\n",
    "    bcor_file = ld_prefix+'.bcor'\n",
    "    import os\n",
    "    import time\n",
    "    from ldstore.bcor import bcor\n",
    "    if not os.path.exists(bcor_file):\n",
    "        raise IOError('%s not found'%(bcor_file))\n",
    "    t0 = time.time()\n",
    "    bcor_obj = bcor(bcor_file)\n",
    "    df_ld_snps = get_bcor_meta(bcor_obj)\n",
    "    ld_arr = bcor_obj.readCorr([])\n",
    "    assert np.all(~np.isnan(ld_arr))\n",
    "    return ld_arr, df_ld_snps"
   ]
  },
  {
   "cell_type": "code",
   "execution_count": 69,
   "id": "857153ff-06ce-42ce-a9ab-a0b4283f6abb",
   "metadata": {},
   "outputs": [
    {
     "name": "stdout",
     "output_type": "stream",
     "text": [
      "File \"/mnt/vast/hpc/csg/UKBiobank/results/pleiotropy_AD_ARHI/111822_LDstore_files/regions_chr1_22/22/22_37570269_39307894.bcor\" is not from LDStore!\n"
     ]
    },
    {
     "ename": "AttributeError",
     "evalue": "'bcor' object has no attribute '_bcor__nSNPs'",
     "output_type": "error",
     "traceback": [
      "\u001b[0;31m---------------------------------------------------------------------------\u001b[0m",
      "\u001b[0;31mAttributeError\u001b[0m                            Traceback (most recent call last)",
      "\u001b[0;32m/tmp/3229975.1.plot.q/ipykernel_13455/4069476813.py\u001b[0m in \u001b[0;36m<module>\u001b[0;34m\u001b[0m\n\u001b[0;32m----> 1\u001b[0;31m \u001b[0mload_ld_bcor\u001b[0m\u001b[0;34m(\u001b[0m\u001b[0;34m\"/mnt/vast/hpc/csg/UKBiobank/results/pleiotropy_AD_ARHI/111822_LDstore_files/regions_chr1_22/22/22_37570269_39307894\"\u001b[0m\u001b[0;34m)\u001b[0m\u001b[0;34m\u001b[0m\u001b[0;34m\u001b[0m\u001b[0m\n\u001b[0m",
      "\u001b[0;32m/tmp/3229975.1.plot.q/ipykernel_13455/1594785109.py\u001b[0m in \u001b[0;36mload_ld_bcor\u001b[0;34m(ld_prefix)\u001b[0m\n\u001b[1;32m      7\u001b[0m         \u001b[0;32mraise\u001b[0m \u001b[0mIOError\u001b[0m\u001b[0;34m(\u001b[0m\u001b[0;34m'%s not found'\u001b[0m\u001b[0;34m%\u001b[0m\u001b[0;34m(\u001b[0m\u001b[0mbcor_file\u001b[0m\u001b[0;34m)\u001b[0m\u001b[0;34m)\u001b[0m\u001b[0;34m\u001b[0m\u001b[0;34m\u001b[0m\u001b[0m\n\u001b[1;32m      8\u001b[0m     \u001b[0mt0\u001b[0m \u001b[0;34m=\u001b[0m \u001b[0mtime\u001b[0m\u001b[0;34m.\u001b[0m\u001b[0mtime\u001b[0m\u001b[0;34m(\u001b[0m\u001b[0;34m)\u001b[0m\u001b[0;34m\u001b[0m\u001b[0;34m\u001b[0m\u001b[0m\n\u001b[0;32m----> 9\u001b[0;31m     \u001b[0mbcor_obj\u001b[0m \u001b[0;34m=\u001b[0m \u001b[0mbcor\u001b[0m\u001b[0;34m(\u001b[0m\u001b[0mbcor_file\u001b[0m\u001b[0;34m)\u001b[0m\u001b[0;34m\u001b[0m\u001b[0;34m\u001b[0m\u001b[0m\n\u001b[0m\u001b[1;32m     10\u001b[0m     \u001b[0mdf_ld_snps\u001b[0m \u001b[0;34m=\u001b[0m \u001b[0mget_bcor_meta\u001b[0m\u001b[0;34m(\u001b[0m\u001b[0mbcor_obj\u001b[0m\u001b[0;34m)\u001b[0m\u001b[0;34m\u001b[0m\u001b[0;34m\u001b[0m\u001b[0m\n\u001b[1;32m     11\u001b[0m     \u001b[0mld_arr\u001b[0m \u001b[0;34m=\u001b[0m \u001b[0mbcor_obj\u001b[0m\u001b[0;34m.\u001b[0m\u001b[0mreadCorr\u001b[0m\u001b[0;34m(\u001b[0m\u001b[0;34m[\u001b[0m\u001b[0;34m]\u001b[0m\u001b[0;34m)\u001b[0m\u001b[0;34m\u001b[0m\u001b[0;34m\u001b[0m\u001b[0m\n",
      "\u001b[0;32m~/miniconda3/lib/python3.9/site-packages/ldstore/bcor.py\u001b[0m in \u001b[0;36m__init__\u001b[0;34m(self, fname, read_header)\u001b[0m\n\u001b[1;32m     17\u001b[0m             \u001b[0mself\u001b[0m\u001b[0;34m.\u001b[0m\u001b[0m__readHeader\u001b[0m\u001b[0;34m(\u001b[0m\u001b[0;34m)\u001b[0m\u001b[0;34m\u001b[0m\u001b[0;34m\u001b[0m\u001b[0m\n\u001b[1;32m     18\u001b[0m             \u001b[0;32mif\u001b[0m \u001b[0mread_header\u001b[0m\u001b[0;34m:\u001b[0m\u001b[0;34m\u001b[0m\u001b[0;34m\u001b[0m\u001b[0m\n\u001b[0;32m---> 19\u001b[0;31m                 \u001b[0mself\u001b[0m\u001b[0;34m.\u001b[0m\u001b[0m__readMeta\u001b[0m\u001b[0;34m(\u001b[0m\u001b[0;34m)\u001b[0m\u001b[0;34m\u001b[0m\u001b[0;34m\u001b[0m\u001b[0m\n\u001b[0m\u001b[1;32m     20\u001b[0m         \u001b[0;32mexcept\u001b[0m \u001b[0mIOError\u001b[0m\u001b[0;34m:\u001b[0m\u001b[0;34m\u001b[0m\u001b[0;34m\u001b[0m\u001b[0m\n\u001b[1;32m     21\u001b[0m             \u001b[0;32mraise\u001b[0m\u001b[0;34m\u001b[0m\u001b[0;34m\u001b[0m\u001b[0m\n",
      "\u001b[0;32m~/miniconda3/lib/python3.9/site-packages/ldstore/bcor.py\u001b[0m in \u001b[0;36m__readMeta\u001b[0;34m(self)\u001b[0m\n\u001b[1;32m    150\u001b[0m     \u001b[0;32mdef\u001b[0m \u001b[0m__readMeta\u001b[0m\u001b[0;34m(\u001b[0m \u001b[0mself\u001b[0m \u001b[0;34m)\u001b[0m\u001b[0;34m:\u001b[0m\u001b[0;34m\u001b[0m\u001b[0;34m\u001b[0m\u001b[0m\n\u001b[1;32m    151\u001b[0m         \u001b[0mrsid\u001b[0m       \u001b[0;34m=\u001b[0m \u001b[0;34m[\u001b[0m\u001b[0;34m]\u001b[0m\u001b[0;34m\u001b[0m\u001b[0;34m\u001b[0m\u001b[0m\n\u001b[0;32m--> 152\u001b[0;31m         \u001b[0mposition\u001b[0m   \u001b[0;34m=\u001b[0m \u001b[0mnp\u001b[0m\u001b[0;34m.\u001b[0m\u001b[0mzeros\u001b[0m\u001b[0;34m(\u001b[0m \u001b[0mself\u001b[0m\u001b[0;34m.\u001b[0m\u001b[0m__nSNPs\u001b[0m\u001b[0;34m,\u001b[0m \u001b[0mdtype\u001b[0m \u001b[0;34m=\u001b[0m \u001b[0mnp\u001b[0m\u001b[0;34m.\u001b[0m\u001b[0mint\u001b[0m \u001b[0;34m)\u001b[0m\u001b[0;34m\u001b[0m\u001b[0;34m\u001b[0m\u001b[0m\n\u001b[0m\u001b[1;32m    153\u001b[0m         \u001b[0mchromosome\u001b[0m \u001b[0;34m=\u001b[0m \u001b[0;34m[\u001b[0m\u001b[0;34m]\u001b[0m\u001b[0;34m\u001b[0m\u001b[0;34m\u001b[0m\u001b[0m\n\u001b[1;32m    154\u001b[0m         \u001b[0mallele1\u001b[0m    \u001b[0;34m=\u001b[0m \u001b[0;34m[\u001b[0m\u001b[0;34m]\u001b[0m\u001b[0;34m\u001b[0m\u001b[0;34m\u001b[0m\u001b[0m\n",
      "\u001b[0;31mAttributeError\u001b[0m: 'bcor' object has no attribute '_bcor__nSNPs'"
     ]
    }
   ],
   "source": [
    "load_ld_bcor(\"/mnt/vast/hpc/csg/UKBiobank/results/pleiotropy_AD_ARHI/111822_LDstore_files/regions_chr1_22/22/22_37570269_39307894\")"
   ]
  },
  {
   "cell_type": "code",
   "execution_count": 80,
   "id": "a5a78091-c3f3-4ada-96ba-482a97a5b46b",
   "metadata": {},
   "outputs": [],
   "source": [
    "new,snp_id = load_npz_ld(test[0])"
   ]
  },
  {
   "cell_type": "code",
   "execution_count": 82,
   "id": "6851a200-739b-49f8-989a-0219e9e49b82",
   "metadata": {},
   "outputs": [],
   "source": [
    "np_ld_loaded = np.load(test[0],allow_pickle=True)"
   ]
  },
  {
   "cell_type": "code",
   "execution_count": 87,
   "id": "c8130911-c87c-4c14-a9e4-fc1f1c82692b",
   "metadata": {},
   "outputs": [
    {
     "data": {
      "text/plain": [
       "array('chr1:16433_C_G', dtype='<U14')"
      ]
     },
     "execution_count": 87,
     "metadata": {},
     "output_type": "execute_result"
    }
   ],
   "source": [
    "np_ld_loaded.get(\"arr_1\")"
   ]
  },
  {
   "cell_type": "code",
   "execution_count": 70,
   "id": "32bb9157-0e13-4b1d-a283-c889c022a5d9",
   "metadata": {},
   "outputs": [
    {
     "data": {
      "text/plain": [
       "array([[ 1.000e+00, -4.330e-03, -4.761e-03, ..., -5.127e-03, -3.656e-03,\n",
       "         5.508e-03],\n",
       "       [-4.330e-03,  1.000e+00, -4.761e-03, ..., -5.127e-03, -3.656e-03,\n",
       "        -2.812e-02],\n",
       "       [-4.761e-03, -4.761e-03,  1.000e+00, ..., -5.638e-03, -4.021e-03,\n",
       "        -2.127e-04],\n",
       "       ...,\n",
       "       [-5.127e-03, -5.127e-03, -5.638e-03, ...,  1.000e+00, -4.330e-03,\n",
       "        -3.329e-02],\n",
       "       [-3.656e-03, -3.656e-03, -4.021e-03, ..., -4.330e-03,  1.000e+00,\n",
       "         4.654e-03],\n",
       "       [ 5.508e-03, -2.812e-02, -2.127e-04, ..., -3.329e-02,  4.654e-03,\n",
       "         1.000e+00]], dtype=float16)"
      ]
     },
     "execution_count": 70,
     "metadata": {},
     "output_type": "execute_result"
    }
   ],
   "source": [
    "new"
   ]
  },
  {
   "cell_type": "code",
   "execution_count": 71,
   "id": "d1fdeb4a-ddb5-4191-98c6-2001330e0d46",
   "metadata": {},
   "outputs": [
    {
     "name": "stderr",
     "output_type": "stream",
     "text": [
      "/home/hs3163/miniconda3/lib/python3.9/site-packages/IPython/core/interactiveshell.py:3441: FutureWarning: In a future version of pandas all arguments of read_csv except for the argument 'filepath_or_buffer' will be keyword-only.\n",
      "  exec(code_obj, self.user_global_ns, self.user_ns)\n"
     ]
    }
   ],
   "source": [
    "sumstat = pd.read_csv(test[1], \"\\t\")"
   ]
  },
  {
   "cell_type": "code",
   "execution_count": 73,
   "id": "a1a58fea-7397-4087-9e09-3d7edbcee6b2",
   "metadata": {},
   "outputs": [
    {
     "data": {
      "text/plain": [
       "0          chr1_100000223_C_T\n",
       "1          chr1_100000723_G_A\n",
       "2          chr1_100000874_G_T\n",
       "3         chr1_100001444_AT_A\n",
       "4          chr1_100001756_T_C\n",
       "                 ...         \n",
       "811292     chr1_248934257_A_C\n",
       "811293     chr1_248935675_T_C\n",
       "811294     chr1_248936715_C_T\n",
       "811295     chr1_248937246_A_G\n",
       "811296    chr1_248941807_AG_A\n",
       "Name: variant, Length: 811297, dtype: object"
      ]
     },
     "execution_count": 73,
     "metadata": {},
     "output_type": "execute_result"
    }
   ],
   "source": [
    "sumstat.variant"
   ]
  },
  {
   "cell_type": "code",
   "execution_count": 78,
   "id": "d184e537-21e2-468c-8fbc-75c70bef0f18",
   "metadata": {},
   "outputs": [
    {
     "data": {
      "text/plain": [
       "array([], dtype=object)"
      ]
     },
     "execution_count": 78,
     "metadata": {},
     "output_type": "execute_result"
    }
   ],
   "source": [
    "np.intersect1d(sumstat.variant.to_numpy(),snp_id)"
   ]
  },
  {
   "cell_type": "code",
   "execution_count": 77,
   "id": "43cfa668-24ef-40a7-8d50-030634a3bc2d",
   "metadata": {},
   "outputs": [
    {
     "data": {
      "text/plain": [
       "array(['chr1_100000223_C_T', 'chr1_100000723_G_A', 'chr1_100000874_G_T',\n",
       "       ..., 'chr1_248936715_C_T', 'chr1_248937246_A_G',\n",
       "       'chr1_248941807_AG_A'], dtype=object)"
      ]
     },
     "execution_count": 77,
     "metadata": {},
     "output_type": "execute_result"
    }
   ],
   "source": [
    "sumstat.variant.to_numpy()"
   ]
  },
  {
   "cell_type": "code",
   "execution_count": 94,
   "id": "4e0c3dc2-6fd3-494c-aaa9-28ba0fab4ae3",
   "metadata": {},
   "outputs": [
    {
     "name": "stderr",
     "output_type": "stream",
     "text": [
      "/home/hs3163/miniconda3/lib/python3.9/site-packages/IPython/core/interactiveshell.py:3441: FutureWarning: In a future version of pandas all arguments of read_csv except for the argument 'filepath_or_buffer' will be keyword-only.\n",
      "  exec(code_obj, self.user_global_ns, self.user_ns)\n"
     ]
    }
   ],
   "source": [
    "snp_id = pd.read_csv(\"/mnt/vast/hpc/csg/molecular_phenotype_calling/LD/output_npz_2/1300_hg38_EUR_LD_blocks_plink_files/ROSMAP_NIA_WGS.leftnorm.filtered.filtered.chr1_16103_2888443.bim\",\"\\t\",header = None)[1].to_numpy()"
   ]
  },
  {
   "cell_type": "code",
   "execution_count": 95,
   "id": "341cac71-717b-4982-b53e-2719c2b5d5c4",
   "metadata": {},
   "outputs": [
    {
     "data": {
      "text/plain": [
       "array(['chr1:16206_T_A', 'chr1:16433_C_G', 'chr1:16619_C_T', ...,\n",
       "       'chr1:2887986_T_C', 'chr1:2888101_C_G', 'chr1:2888245_G_A'],\n",
       "      dtype=object)"
      ]
     },
     "execution_count": 95,
     "metadata": {},
     "output_type": "execute_result"
    }
   ],
   "source": [
    "snp_id"
   ]
  },
  {
   "cell_type": "code",
   "execution_count": 88,
   "id": "2ed963af-c874-4239-96bc-bacfab84c4ba",
   "metadata": {},
   "outputs": [
    {
     "data": {
      "text/plain": [
       "'/mnt/vast/hpc/csg/molecular_phenotype_calling/LD/output_npz_2/1300_hg38_EUR_LD_blocks_npz_files/ROSMAP_NIA_WGS.leftnorm.filtered.filtered.chr1_16103_2888443.flt16.npz'"
      ]
     },
     "execution_count": 88,
     "metadata": {},
     "output_type": "execute_result"
    }
   ],
   "source": [
    "test[0]"
   ]
  },
  {
   "cell_type": "code",
   "execution_count": 96,
   "id": "11a73660-fe0d-479a-afc8-5c6c02927867",
   "metadata": {},
   "outputs": [
    {
     "data": {
      "text/plain": [
       "array([], dtype=object)"
      ]
     },
     "execution_count": 96,
     "metadata": {},
     "output_type": "execute_result"
    }
   ],
   "source": [
    "np.intersect1d(sumstat.variant.to_numpy(),snp_id)"
   ]
  },
  {
   "cell_type": "code",
   "execution_count": 97,
   "id": "edfebbc9-8a89-43c7-9e84-d1b00fdd2fd7",
   "metadata": {},
   "outputs": [
    {
     "data": {
      "text/plain": [
       "array(['chr1:16206_T_A', 'chr1:16433_C_G', 'chr1:16619_C_T', ...,\n",
       "       'chr1:2887986_T_C', 'chr1:2888101_C_G', 'chr1:2888245_G_A'],\n",
       "      dtype=object)"
      ]
     },
     "execution_count": 97,
     "metadata": {},
     "output_type": "execute_result"
    }
   ],
   "source": [
    "snp_id"
   ]
  },
  {
   "cell_type": "code",
   "execution_count": 98,
   "id": "f50b01ea-d7c3-4a23-ba2a-d6b44ed13ecc",
   "metadata": {},
   "outputs": [
    {
     "data": {
      "text/plain": [
       "array(['chr1_100000223_C_T', 'chr1_100000723_G_A', 'chr1_100000874_G_T',\n",
       "       ..., 'chr1_248936715_C_T', 'chr1_248937246_A_G',\n",
       "       'chr1_248941807_AG_A'], dtype=object)"
      ]
     },
     "execution_count": 98,
     "metadata": {},
     "output_type": "execute_result"
    }
   ],
   "source": [
    "sumstat.variant.to_numpy()"
   ]
  },
  {
   "cell_type": "code",
   "execution_count": 104,
   "id": "b7ba638b-6722-4f97-be76-cf88fc44baf2",
   "metadata": {},
   "outputs": [
    {
     "data": {
      "text/html": [
       "<div>\n",
       "<style scoped>\n",
       "    .dataframe tbody tr th:only-of-type {\n",
       "        vertical-align: middle;\n",
       "    }\n",
       "\n",
       "    .dataframe tbody tr th {\n",
       "        vertical-align: top;\n",
       "    }\n",
       "\n",
       "    .dataframe thead th {\n",
       "        text-align: right;\n",
       "    }\n",
       "</style>\n",
       "<table border=\"1\" class=\"dataframe\">\n",
       "  <thead>\n",
       "    <tr style=\"text-align: right;\">\n",
       "      <th></th>\n",
       "      <th>chromosome</th>\n",
       "      <th>position</th>\n",
       "      <th>ref</th>\n",
       "      <th>alt</th>\n",
       "      <th>variant</th>\n",
       "      <th>beta</th>\n",
       "      <th>se</th>\n",
       "      <th>pvalue</th>\n",
       "      <th>maf</th>\n",
       "      <th>n_cases</th>\n",
       "      <th>n_controls</th>\n",
       "      <th>original_effect_allele_frequency</th>\n",
       "    </tr>\n",
       "  </thead>\n",
       "  <tbody>\n",
       "    <tr>\n",
       "      <th>0</th>\n",
       "      <td>1</td>\n",
       "      <td>100000223</td>\n",
       "      <td>C</td>\n",
       "      <td>T</td>\n",
       "      <td>chr1_100000223_C_T</td>\n",
       "      <td>0.1758</td>\n",
       "      <td>0.2049</td>\n",
       "      <td>0.391100</td>\n",
       "      <td>0.0011</td>\n",
       "      <td>69576</td>\n",
       "      <td>360279</td>\n",
       "      <td>0.0011</td>\n",
       "    </tr>\n",
       "    <tr>\n",
       "      <th>1</th>\n",
       "      <td>1</td>\n",
       "      <td>100000723</td>\n",
       "      <td>G</td>\n",
       "      <td>A</td>\n",
       "      <td>chr1_100000723_G_A</td>\n",
       "      <td>-0.0031</td>\n",
       "      <td>0.0134</td>\n",
       "      <td>0.817700</td>\n",
       "      <td>0.1023</td>\n",
       "      <td>85934</td>\n",
       "      <td>401577</td>\n",
       "      <td>0.1023</td>\n",
       "    </tr>\n",
       "    <tr>\n",
       "      <th>2</th>\n",
       "      <td>1</td>\n",
       "      <td>100000874</td>\n",
       "      <td>G</td>\n",
       "      <td>T</td>\n",
       "      <td>chr1_100000874_G_T</td>\n",
       "      <td>0.2609</td>\n",
       "      <td>0.0749</td>\n",
       "      <td>0.000499</td>\n",
       "      <td>0.0038</td>\n",
       "      <td>83561</td>\n",
       "      <td>392587</td>\n",
       "      <td>0.0038</td>\n",
       "    </tr>\n",
       "    <tr>\n",
       "      <th>3</th>\n",
       "      <td>1</td>\n",
       "      <td>100001444</td>\n",
       "      <td>AT</td>\n",
       "      <td>A</td>\n",
       "      <td>chr1_100001444_AT_A</td>\n",
       "      <td>-0.0070</td>\n",
       "      <td>0.2303</td>\n",
       "      <td>0.975800</td>\n",
       "      <td>0.0009</td>\n",
       "      <td>26798</td>\n",
       "      <td>28624</td>\n",
       "      <td>0.0009</td>\n",
       "    </tr>\n",
       "    <tr>\n",
       "      <th>4</th>\n",
       "      <td>1</td>\n",
       "      <td>100001756</td>\n",
       "      <td>T</td>\n",
       "      <td>C</td>\n",
       "      <td>chr1_100001756_T_C</td>\n",
       "      <td>-0.0312</td>\n",
       "      <td>0.0344</td>\n",
       "      <td>0.364400</td>\n",
       "      <td>0.0145</td>\n",
       "      <td>85934</td>\n",
       "      <td>401577</td>\n",
       "      <td>0.9855</td>\n",
       "    </tr>\n",
       "    <tr>\n",
       "      <th>...</th>\n",
       "      <td>...</td>\n",
       "      <td>...</td>\n",
       "      <td>...</td>\n",
       "      <td>...</td>\n",
       "      <td>...</td>\n",
       "      <td>...</td>\n",
       "      <td>...</td>\n",
       "      <td>...</td>\n",
       "      <td>...</td>\n",
       "      <td>...</td>\n",
       "      <td>...</td>\n",
       "      <td>...</td>\n",
       "    </tr>\n",
       "    <tr>\n",
       "      <th>811292</th>\n",
       "      <td>1</td>\n",
       "      <td>248934257</td>\n",
       "      <td>A</td>\n",
       "      <td>C</td>\n",
       "      <td>chr1_248934257_A_C</td>\n",
       "      <td>-0.0051</td>\n",
       "      <td>0.0302</td>\n",
       "      <td>0.866400</td>\n",
       "      <td>0.0386</td>\n",
       "      <td>34556</td>\n",
       "      <td>49251</td>\n",
       "      <td>0.9614</td>\n",
       "    </tr>\n",
       "    <tr>\n",
       "      <th>811293</th>\n",
       "      <td>1</td>\n",
       "      <td>248935675</td>\n",
       "      <td>T</td>\n",
       "      <td>C</td>\n",
       "      <td>chr1_248935675_T_C</td>\n",
       "      <td>0.1627</td>\n",
       "      <td>0.3225</td>\n",
       "      <td>0.614100</td>\n",
       "      <td>0.0007</td>\n",
       "      <td>20301</td>\n",
       "      <td>21839</td>\n",
       "      <td>0.9993</td>\n",
       "    </tr>\n",
       "    <tr>\n",
       "      <th>811294</th>\n",
       "      <td>1</td>\n",
       "      <td>248936715</td>\n",
       "      <td>C</td>\n",
       "      <td>T</td>\n",
       "      <td>chr1_248936715_C_T</td>\n",
       "      <td>-0.0207</td>\n",
       "      <td>0.0552</td>\n",
       "      <td>0.707500</td>\n",
       "      <td>0.0065</td>\n",
       "      <td>83831</td>\n",
       "      <td>387691</td>\n",
       "      <td>0.0065</td>\n",
       "    </tr>\n",
       "    <tr>\n",
       "      <th>811295</th>\n",
       "      <td>1</td>\n",
       "      <td>248937246</td>\n",
       "      <td>A</td>\n",
       "      <td>G</td>\n",
       "      <td>chr1_248937246_A_G</td>\n",
       "      <td>0.1434</td>\n",
       "      <td>0.1920</td>\n",
       "      <td>0.455200</td>\n",
       "      <td>0.0012</td>\n",
       "      <td>76073</td>\n",
       "      <td>367064</td>\n",
       "      <td>0.9988</td>\n",
       "    </tr>\n",
       "    <tr>\n",
       "      <th>811296</th>\n",
       "      <td>1</td>\n",
       "      <td>248941807</td>\n",
       "      <td>AG</td>\n",
       "      <td>A</td>\n",
       "      <td>chr1_248941807_AG_A</td>\n",
       "      <td>0.0935</td>\n",
       "      <td>0.0850</td>\n",
       "      <td>0.271300</td>\n",
       "      <td>0.0067</td>\n",
       "      <td>71904</td>\n",
       "      <td>367415</td>\n",
       "      <td>0.0067</td>\n",
       "    </tr>\n",
       "  </tbody>\n",
       "</table>\n",
       "<p>811297 rows × 12 columns</p>\n",
       "</div>"
      ],
      "text/plain": [
       "        chromosome   position ref alt              variant    beta      se  \\\n",
       "0                1  100000223   C   T   chr1_100000223_C_T  0.1758  0.2049   \n",
       "1                1  100000723   G   A   chr1_100000723_G_A -0.0031  0.0134   \n",
       "2                1  100000874   G   T   chr1_100000874_G_T  0.2609  0.0749   \n",
       "3                1  100001444  AT   A  chr1_100001444_AT_A -0.0070  0.2303   \n",
       "4                1  100001756   T   C   chr1_100001756_T_C -0.0312  0.0344   \n",
       "...            ...        ...  ..  ..                  ...     ...     ...   \n",
       "811292           1  248934257   A   C   chr1_248934257_A_C -0.0051  0.0302   \n",
       "811293           1  248935675   T   C   chr1_248935675_T_C  0.1627  0.3225   \n",
       "811294           1  248936715   C   T   chr1_248936715_C_T -0.0207  0.0552   \n",
       "811295           1  248937246   A   G   chr1_248937246_A_G  0.1434  0.1920   \n",
       "811296           1  248941807  AG   A  chr1_248941807_AG_A  0.0935  0.0850   \n",
       "\n",
       "          pvalue     maf  n_cases  n_controls  \\\n",
       "0       0.391100  0.0011    69576      360279   \n",
       "1       0.817700  0.1023    85934      401577   \n",
       "2       0.000499  0.0038    83561      392587   \n",
       "3       0.975800  0.0009    26798       28624   \n",
       "4       0.364400  0.0145    85934      401577   \n",
       "...          ...     ...      ...         ...   \n",
       "811292  0.866400  0.0386    34556       49251   \n",
       "811293  0.614100  0.0007    20301       21839   \n",
       "811294  0.707500  0.0065    83831      387691   \n",
       "811295  0.455200  0.0012    76073      367064   \n",
       "811296  0.271300  0.0067    71904      367415   \n",
       "\n",
       "        original_effect_allele_frequency  \n",
       "0                                 0.0011  \n",
       "1                                 0.1023  \n",
       "2                                 0.0038  \n",
       "3                                 0.0009  \n",
       "4                                 0.9855  \n",
       "...                                  ...  \n",
       "811292                            0.9614  \n",
       "811293                            0.9993  \n",
       "811294                            0.0065  \n",
       "811295                            0.9988  \n",
       "811296                            0.0067  \n",
       "\n",
       "[811297 rows x 12 columns]"
      ]
     },
     "execution_count": 104,
     "metadata": {},
     "output_type": "execute_result"
    }
   ],
   "source": [
    "sumstat.sort_values(\"position\")"
   ]
  },
  {
   "cell_type": "code",
   "execution_count": 103,
   "id": "37601c47-f71b-44d7-a41c-37141b139bd5",
   "metadata": {},
   "outputs": [
    {
     "data": {
      "text/html": [
       "<div>\n",
       "<style scoped>\n",
       "    .dataframe tbody tr th:only-of-type {\n",
       "        vertical-align: middle;\n",
       "    }\n",
       "\n",
       "    .dataframe tbody tr th {\n",
       "        vertical-align: top;\n",
       "    }\n",
       "\n",
       "    .dataframe thead th {\n",
       "        text-align: right;\n",
       "    }\n",
       "</style>\n",
       "<table border=\"1\" class=\"dataframe\">\n",
       "  <thead>\n",
       "    <tr style=\"text-align: right;\">\n",
       "      <th></th>\n",
       "      <th>chromosome</th>\n",
       "      <th>position</th>\n",
       "      <th>ref</th>\n",
       "      <th>alt</th>\n",
       "      <th>variant</th>\n",
       "      <th>beta</th>\n",
       "      <th>se</th>\n",
       "      <th>pvalue</th>\n",
       "      <th>maf</th>\n",
       "      <th>n_cases</th>\n",
       "      <th>n_controls</th>\n",
       "      <th>original_effect_allele_frequency</th>\n",
       "    </tr>\n",
       "  </thead>\n",
       "  <tbody>\n",
       "    <tr>\n",
       "      <th>0</th>\n",
       "      <td>1</td>\n",
       "      <td>100000223</td>\n",
       "      <td>C</td>\n",
       "      <td>T</td>\n",
       "      <td>chr1_100000223_C_T</td>\n",
       "      <td>0.1758</td>\n",
       "      <td>0.2049</td>\n",
       "      <td>0.391100</td>\n",
       "      <td>0.0011</td>\n",
       "      <td>69576</td>\n",
       "      <td>360279</td>\n",
       "      <td>0.0011</td>\n",
       "    </tr>\n",
       "    <tr>\n",
       "      <th>1</th>\n",
       "      <td>1</td>\n",
       "      <td>100000723</td>\n",
       "      <td>G</td>\n",
       "      <td>A</td>\n",
       "      <td>chr1_100000723_G_A</td>\n",
       "      <td>-0.0031</td>\n",
       "      <td>0.0134</td>\n",
       "      <td>0.817700</td>\n",
       "      <td>0.1023</td>\n",
       "      <td>85934</td>\n",
       "      <td>401577</td>\n",
       "      <td>0.1023</td>\n",
       "    </tr>\n",
       "    <tr>\n",
       "      <th>2</th>\n",
       "      <td>1</td>\n",
       "      <td>100000874</td>\n",
       "      <td>G</td>\n",
       "      <td>T</td>\n",
       "      <td>chr1_100000874_G_T</td>\n",
       "      <td>0.2609</td>\n",
       "      <td>0.0749</td>\n",
       "      <td>0.000499</td>\n",
       "      <td>0.0038</td>\n",
       "      <td>83561</td>\n",
       "      <td>392587</td>\n",
       "      <td>0.0038</td>\n",
       "    </tr>\n",
       "    <tr>\n",
       "      <th>3</th>\n",
       "      <td>1</td>\n",
       "      <td>100001444</td>\n",
       "      <td>AT</td>\n",
       "      <td>A</td>\n",
       "      <td>chr1_100001444_AT_A</td>\n",
       "      <td>-0.0070</td>\n",
       "      <td>0.2303</td>\n",
       "      <td>0.975800</td>\n",
       "      <td>0.0009</td>\n",
       "      <td>26798</td>\n",
       "      <td>28624</td>\n",
       "      <td>0.0009</td>\n",
       "    </tr>\n",
       "    <tr>\n",
       "      <th>4</th>\n",
       "      <td>1</td>\n",
       "      <td>100001756</td>\n",
       "      <td>T</td>\n",
       "      <td>C</td>\n",
       "      <td>chr1_100001756_T_C</td>\n",
       "      <td>-0.0312</td>\n",
       "      <td>0.0344</td>\n",
       "      <td>0.364400</td>\n",
       "      <td>0.0145</td>\n",
       "      <td>85934</td>\n",
       "      <td>401577</td>\n",
       "      <td>0.9855</td>\n",
       "    </tr>\n",
       "    <tr>\n",
       "      <th>...</th>\n",
       "      <td>...</td>\n",
       "      <td>...</td>\n",
       "      <td>...</td>\n",
       "      <td>...</td>\n",
       "      <td>...</td>\n",
       "      <td>...</td>\n",
       "      <td>...</td>\n",
       "      <td>...</td>\n",
       "      <td>...</td>\n",
       "      <td>...</td>\n",
       "      <td>...</td>\n",
       "      <td>...</td>\n",
       "    </tr>\n",
       "    <tr>\n",
       "      <th>811292</th>\n",
       "      <td>1</td>\n",
       "      <td>248934257</td>\n",
       "      <td>A</td>\n",
       "      <td>C</td>\n",
       "      <td>chr1_248934257_A_C</td>\n",
       "      <td>-0.0051</td>\n",
       "      <td>0.0302</td>\n",
       "      <td>0.866400</td>\n",
       "      <td>0.0386</td>\n",
       "      <td>34556</td>\n",
       "      <td>49251</td>\n",
       "      <td>0.9614</td>\n",
       "    </tr>\n",
       "    <tr>\n",
       "      <th>811293</th>\n",
       "      <td>1</td>\n",
       "      <td>248935675</td>\n",
       "      <td>T</td>\n",
       "      <td>C</td>\n",
       "      <td>chr1_248935675_T_C</td>\n",
       "      <td>0.1627</td>\n",
       "      <td>0.3225</td>\n",
       "      <td>0.614100</td>\n",
       "      <td>0.0007</td>\n",
       "      <td>20301</td>\n",
       "      <td>21839</td>\n",
       "      <td>0.9993</td>\n",
       "    </tr>\n",
       "    <tr>\n",
       "      <th>811294</th>\n",
       "      <td>1</td>\n",
       "      <td>248936715</td>\n",
       "      <td>C</td>\n",
       "      <td>T</td>\n",
       "      <td>chr1_248936715_C_T</td>\n",
       "      <td>-0.0207</td>\n",
       "      <td>0.0552</td>\n",
       "      <td>0.707500</td>\n",
       "      <td>0.0065</td>\n",
       "      <td>83831</td>\n",
       "      <td>387691</td>\n",
       "      <td>0.0065</td>\n",
       "    </tr>\n",
       "    <tr>\n",
       "      <th>811295</th>\n",
       "      <td>1</td>\n",
       "      <td>248937246</td>\n",
       "      <td>A</td>\n",
       "      <td>G</td>\n",
       "      <td>chr1_248937246_A_G</td>\n",
       "      <td>0.1434</td>\n",
       "      <td>0.1920</td>\n",
       "      <td>0.455200</td>\n",
       "      <td>0.0012</td>\n",
       "      <td>76073</td>\n",
       "      <td>367064</td>\n",
       "      <td>0.9988</td>\n",
       "    </tr>\n",
       "    <tr>\n",
       "      <th>811296</th>\n",
       "      <td>1</td>\n",
       "      <td>248941807</td>\n",
       "      <td>AG</td>\n",
       "      <td>A</td>\n",
       "      <td>chr1_248941807_AG_A</td>\n",
       "      <td>0.0935</td>\n",
       "      <td>0.0850</td>\n",
       "      <td>0.271300</td>\n",
       "      <td>0.0067</td>\n",
       "      <td>71904</td>\n",
       "      <td>367415</td>\n",
       "      <td>0.0067</td>\n",
       "    </tr>\n",
       "  </tbody>\n",
       "</table>\n",
       "<p>811297 rows × 12 columns</p>\n",
       "</div>"
      ],
      "text/plain": [
       "        chromosome   position ref alt              variant    beta      se  \\\n",
       "0                1  100000223   C   T   chr1_100000223_C_T  0.1758  0.2049   \n",
       "1                1  100000723   G   A   chr1_100000723_G_A -0.0031  0.0134   \n",
       "2                1  100000874   G   T   chr1_100000874_G_T  0.2609  0.0749   \n",
       "3                1  100001444  AT   A  chr1_100001444_AT_A -0.0070  0.2303   \n",
       "4                1  100001756   T   C   chr1_100001756_T_C -0.0312  0.0344   \n",
       "...            ...        ...  ..  ..                  ...     ...     ...   \n",
       "811292           1  248934257   A   C   chr1_248934257_A_C -0.0051  0.0302   \n",
       "811293           1  248935675   T   C   chr1_248935675_T_C  0.1627  0.3225   \n",
       "811294           1  248936715   C   T   chr1_248936715_C_T -0.0207  0.0552   \n",
       "811295           1  248937246   A   G   chr1_248937246_A_G  0.1434  0.1920   \n",
       "811296           1  248941807  AG   A  chr1_248941807_AG_A  0.0935  0.0850   \n",
       "\n",
       "          pvalue     maf  n_cases  n_controls  \\\n",
       "0       0.391100  0.0011    69576      360279   \n",
       "1       0.817700  0.1023    85934      401577   \n",
       "2       0.000499  0.0038    83561      392587   \n",
       "3       0.975800  0.0009    26798       28624   \n",
       "4       0.364400  0.0145    85934      401577   \n",
       "...          ...     ...      ...         ...   \n",
       "811292  0.866400  0.0386    34556       49251   \n",
       "811293  0.614100  0.0007    20301       21839   \n",
       "811294  0.707500  0.0065    83831      387691   \n",
       "811295  0.455200  0.0012    76073      367064   \n",
       "811296  0.271300  0.0067    71904      367415   \n",
       "\n",
       "        original_effect_allele_frequency  \n",
       "0                                 0.0011  \n",
       "1                                 0.1023  \n",
       "2                                 0.0038  \n",
       "3                                 0.0009  \n",
       "4                                 0.9855  \n",
       "...                                  ...  \n",
       "811292                            0.9614  \n",
       "811293                            0.9993  \n",
       "811294                            0.0065  \n",
       "811295                            0.9988  \n",
       "811296                            0.0067  \n",
       "\n",
       "[811297 rows x 12 columns]"
      ]
     },
     "execution_count": 103,
     "metadata": {},
     "output_type": "execute_result"
    }
   ],
   "source": [
    "sumstat"
   ]
  },
  {
   "cell_type": "code",
   "execution_count": null,
   "id": "e4221c7b-7c86-4dda-8fa3-b60eb08778d5",
   "metadata": {},
   "outputs": [],
   "source": []
  }
 ],
 "metadata": {
  "kernelspec": {
   "display_name": "Python 3 (ipykernel)",
   "language": "python",
   "name": "python3"
  },
  "language_info": {
   "codemirror_mode": {
    "name": "ipython",
    "version": 3
   },
   "file_extension": ".py",
   "mimetype": "text/x-python",
   "name": "python",
   "nbconvert_exporter": "python",
   "pygments_lexer": "ipython3",
   "version": "3.9.5"
  }
 },
 "nbformat": 4,
 "nbformat_minor": 5
}
