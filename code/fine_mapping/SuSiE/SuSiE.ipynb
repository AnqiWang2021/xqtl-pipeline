{
 "cells": [
  {
   "cell_type": "markdown",
   "metadata": {
    "kernel": "SoS"
   },
   "source": [
    "# Fine-mapping with SuSiE model\n",
    "\n",
    "This notebook performs statistical fine-mapping using SuSiE model for individual level data. "
   ]
  },
  {
   "cell_type": "markdown",
   "metadata": {
    "kernel": "SoS",
    "tags": []
   },
   "source": [
    "## Input\n",
    "\n",
    "1. A list of regions to be analyzed.\n",
    "2. A list of genotype files per region to be analyzed, in PLINK `bed` format. \n",
    "3. lists of phenotype files per region to be analyzed, in UCSC `bed.gz` with index in `bed.gz.tbi` formats.\n",
    "4. vector of covariate files corresponding to the lists above.\n",
    "\n",
    "Input 2 and 3 should be outputs from `genotype_per_region` and `phenotype_per_region` modules in previous preprocessing steps. 4 should be output of `covariate_preprocessing` pipeline that contains genotype PC, phenotypic hidden confounders and fixed covariates."
   ]
  },
  {
   "cell_type": "markdown",
   "metadata": {
    "kernel": "SoS",
    "tags": []
   },
   "source": [
    "### Example genotype list\n",
    "\n",
    "```\n",
    "# region        dir\n",
    "ENSG00000000457 /mnt/mfs/statgen/xqtl_workflow_testing/genotype_per_region/ENSG00000000457.bed\n",
    "ENSG00000000460 /mnt/mfs/statgen/xqtl_workflow_testing/genotype_per_region/ENSG00000000460.bed\n",
    "ENSG00000000938 /mnt/mfs/statgen/xqtl_workflow_testing/genotype_per_region/ENSG00000000938.bed\n",
    "ENSG00000000971 /mnt/mfs/statgen/xqtl_workflow_testing/genotype_per_region/ENSG00000000971.bed\n",
    "ENSG00000001036 /mnt/mfs/statgen/xqtl_workflow_testing/genotype_per_region/ENSG00000001036.bed\n",
    "ENSG00000001084 /mnt/mfs/statgen/xqtl_workflow_testing/genotype_per_region/ENSG00000001084.bed\n",
    "ENSG00000001167 /mnt/mfs/statgen/xqtl_workflow_testing/genotype_per_region/ENSG00000001167.bed\n",
    "ENSG00000001460 /mnt/mfs/statgen/xqtl_workflow_testing/genotype_per_region/ENSG00000001460.bed\n",
    "```\n",
    "\n",
    "### Example phenotype list\n",
    "\n",
    "```\n",
    "# region dir\n",
    "ENSG00000000457 /mnt/mfs/statgen/xqtl_workflow_testing/phenotype_per_region/ENSG00000000457.t1.bed.gz\n",
    "ENSG00000000460 /mnt/mfs/statgen/xqtl_workflow_testing/phenotype_per_region/ENSG00000000460.t1.bed.gz\n",
    "ENSG00000000938 /mnt/mfs/statgen/xqtl_workflow_testing/phenotype_per_region/ENSG00000000938.t1.bed.gz\n",
    "ENSG00000000971 /mnt/mfs/statgen/xqtl_workflow_testing/phenotype_per_region/ENSG00000000971.t1.bed.gz\n",
    "ENSG00000001036 /mnt/mfs/statgen/xqtl_workflow_testing/phenotype_per_region/ENSG00000001036.t1.bed.gz\n",
    "ENSG00000001084 /mnt/mfs/statgen/xqtl_workflow_testing/phenotype_per_region/ENSG00000001084.t1.bed.gz\n",
    "ENSG00000001167 /mnt/mfs/statgen/xqtl_workflow_testing/phenotype_per_region/ENSG00000001167.t1.bed.gz\n",
    "ENSG00000001460 /mnt/mfs/statgen/xqtl_workflow_testing/phenotype_per_region/ENSG00000001460.t1.bed.gz\n",
    "```"
   ]
  },
  {
   "cell_type": "markdown",
   "metadata": {
    "jp-MarkdownHeadingCollapsed": true,
    "kernel": "SoS",
    "tags": []
   },
   "source": [
    "## Output\n",
    "\n",
    "For each analysis region, the output is SuSiE model fitted and saved in RDS format."
   ]
  },
  {
   "cell_type": "markdown",
   "metadata": {
    "kernel": "SoS",
    "tags": []
   },
   "source": [
    "## Minimal working example\n",
    "\n",
    "```\n",
    "# suggested output naming convention is cohort_modality, eg ROSMAP_snRNA_pseudobulk\n",
    "sos run SuSiE.ipynb susie \\\n",
    "    --name cohort_modality \\\n",
    "    --genoFile /path/to/genotype_list \\\n",
    "    --phenoFile /path/to/phenotype_list_1 /path/to/phenotype_list_1 /path/to/phenotype_list_3 \\\n",
    "    --covFile phenotype_1_cov phenotype_2_cov phenotype_3_cov \\\n",
    "    --utils-R /path/to/misc/xqtl_utils.R \\\n",
    "    --container /path/to/stephenslab.sif\n",
    "```"
   ]
  },
  {
   "cell_type": "code",
   "execution_count": 1,
   "metadata": {
    "kernel": "SoS"
   },
   "outputs": [],
   "source": [
    "[global]\n",
    "import glob\n",
    "import pandas as pd\n",
    "# A list of file paths for genotype data. \n",
    "parameter: genoFile = path\n",
    "# One or multiple lists of file paths for phenotype data.\n",
    "parameter: phenoFile = paths\n",
    "# Covariate file path\n",
    "parameter: covFile = path\n",
    "# Optional: if a region list is provide the analysis will be focused on provided region. \n",
    "# Otherwise, all regions with both genotype and phenotype files will be analyzed\n",
    "parameter: region_list = path()\n",
    "parameter: cwd = path(\"output\")\n",
    "# It is required to input the name of the analysis\n",
    "parameter: name = str\n",
    "# path to utility script. In the future we will consolidate this into an R package.\n",
    "parameter: utils_R = path(\"misc/xqtl_utils.R\")\n",
    "parameter: container = \"\"\n",
    "parameter: entrypoint={('micromamba run -a \"\" -n' + ' ' + container.split('/')[-1][:-4]) if container.endswith('.sif') else f''}\n",
    "# For cluster jobs, number commands to run per job\n",
    "parameter: job_size = 1\n",
    "# Wall clock time expected\n",
    "parameter: walltime = \"5h\"\n",
    "# Memory expected\n",
    "parameter: mem = \"16G\"\n",
    "# Number of threads\n",
    "parameter: numThreads = 2\n",
    "\n",
    "utils_R = f\"{utils_R:a}\""
   ]
  },
  {
   "cell_type": "markdown",
   "metadata": {
    "kernel": "SoS"
   },
   "source": [
    "## Univariate SuSiE"
   ]
  },
  {
   "cell_type": "code",
   "execution_count": null,
   "metadata": {
    "kernel": "SoS"
   },
   "outputs": [],
   "source": [
    "[get_analysis_regions: shared = \"regional_data\"]\n",
    "# regional_data should be a dictionary with:\n",
    "# 1. a list of tuples: {data: [(gene_1.genotype, gene_1.condition_1, cov_1, gene_1.condition_2, cov_2), (gene_2.genotype, gene_2.condition_1, cov_1, gene_2.condition_2, cov_2), ...]}\n",
    "# 2. a list of region ID: {ID: [gene_1, gene_2, ...]}\n",
    "# FIXME: Hao, please implement the details\n",
    "regional_data = {\"data\": [(\"1.genotype\", \"1.mic\", \"1.mic.cov\", \"1.ast\", \"1.ast.cov\"), (\"2.genotype\", \"2.mic\", \"2.mic.cov\", \"2.ast\", \"2.ast.cov\")], \"ID\": [\"gene_1\", \"gene_2\"]}\n",
    "from pathlib import Path\n",
    "for i in regional_data['data']:\n",
    "    for j in i:\n",
    "        Path(j).touch()"
   ]
  },
  {
   "cell_type": "code",
   "execution_count": 1,
   "metadata": {
    "kernel": "SoS"
   },
   "outputs": [],
   "source": [
    "[susie_1]\n",
    "parameter: max_L = 20\n",
    "# remove a variant if it has more than imiss missing individual level data\n",
    "parameter: imiss = 0.1\n",
    "# MAF cutoff\n",
    "parameter: maf = 0\n",
    "# MAC cutoff, on top of MAF cutoff\n",
    "# Here I set default to mac = 10 rather than using an MAF cutoff\n",
    "# I don't set it to 5 because I'm not so sure of performance of SuSiE on somewhat infrequent variants\n",
    "# MAC = 10 would not be too infrequenty for xQTL data where sample size is about ~1,000 at most (as of 2022)\n",
    "parameter: mac = 10\n",
    "depends: sos_variable(\"regional_data\")\n",
    "\n",
    "def group_by_region(lst, data):\n",
    "    vector = [len(x) for x in data]\n",
    "    return [lst[sum(vector[:i]):sum(vector[:i+1])] for i in range(len(vector))]\n",
    "\n",
    "input: regional_data[\"data\"], group_by = lambda x: group_by_region(x, regional_data[\"data\"])\n",
    "output: f'{cwd:a}/SuSiE/{name}.{regional_data[\"ID\"][_index]}.susie_fitted.rds'\n",
    "task: trunk_workers = 1, trunk_size = job_size, walltime = walltime, mem = mem, cores = numThreads, tags = f'{step_name}_{_output:bn}'\n",
    "R: expand = '${ }', stdout = f\"{_output:n}.stdout\", stderr = f\"{_output:n}.stderr\", container = container, entrypoint = entrypoint, input = utils_R\n",
    "    fdat = load_regional_association_data(genotype = ${_input[0]:ar}, \n",
    "                                          phenotype = c(${\",\".join(['\"%s\"' % x for x in _input[1::2]])}),\n",
    "                                          covariate = c(${\",\".join(['\"%s\"' % x for x in _input[2::2]])}),\n",
    "                                          maf_cutoff = ${maf},\n",
    "                                          mac_cutoff = ${mac},\n",
    "                                          imiss_cutoff = ${imiss},\n",
    "                                          y_as_matrix = FALSE)\n",
    "    # Fine-mapping with SuSiE\n",
    "    library(\"susieR\")\n",
    "    fitted = list()\n",
    "    for (r in names(fdat$residual_Y_scaled)) {\n",
    "        st = proc.time()\n",
    "        fitted[[r]] <- susie(fdat$residual_X_scaled[[r]],\n",
    "                             fdat$residual_Y_scaled[[r]],\n",
    "                             L=${max_L},\n",
    "                             max_iter=1000,\n",
    "                             estimate_residual_variance=TRUE,\n",
    "                             estimate_prior_variance=TRUE,\n",
    "                             refine=TRUE,\n",
    "                             compute_univariate_zscore=TRUE, \n",
    "                             coverage=0.95)\n",
    "        fitted[[r]]$time = proc.time() - st\n",
    "        fitted[[r]]$cs_corr = get_cs_correlation(fitted[[r]], X=fdat$residual_X_scaled[[r]])\n",
    "        fitted[[r]]$cs_snps = names(fitted[[r]]$X_column_scale_factors[unlist(fitted[[r]]$sets$cs)])\n",
    "        fitted[[r]]$variable_name = names(fitted[[r]]$pip)\n",
    "        fitted[[r]]$coef = coef.susie(fitted[[r]])\n",
    "    }\n",
    "    saveRDS(fitted, ${_output:ar})"
   ]
  },
  {
   "cell_type": "code",
   "execution_count": null,
   "metadata": {
    "kernel": "SoS"
   },
   "outputs": [],
   "source": [
    "[susie_2]\n",
    "input: group_by = \"all\"\n",
    "output: f'{cwd}/{name}.susie_output.txt'\n",
    "python: expand= \"$[ ]\", stderr = f'{_output}.stderr', stdout = f'{_output}.stdout', container = container, entrypoint = entrypoint\n",
    "    import pandas as pd\n",
    "    pd.DataFrame({\"output\" : [$[_input:ar,]]}).to_csv(\"$[_output]\",index = False ,header = False, sep = \"\\t\")"
   ]
  }
 ],
 "metadata": {
  "kernelspec": {
   "display_name": "SoS",
   "language": "sos",
   "name": "sos"
  },
  "language_info": {
   "codemirror_mode": "sos",
   "file_extension": ".sos",
   "mimetype": "text/x-sos",
   "name": "sos",
   "nbconvert_exporter": "sos_notebook.converter.SoS_Exporter",
   "pygments_lexer": "sos"
  },
  "sos": {
   "kernels": [
    [
     "SoS",
     "sos",
     "",
     ""
    ]
   ],
   "version": "0.20.1"
  }
 },
 "nbformat": 4,
 "nbformat_minor": 4
}
