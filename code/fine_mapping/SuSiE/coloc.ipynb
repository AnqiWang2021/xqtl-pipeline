{
 "cells": [
  {
   "cell_type": "markdown",
   "id": "687a3be6-e7f6-45ff-94c2-20f279e9d295",
   "metadata": {},
   "source": [
    "# Coloc\n",
    "This notebook take a list of rds output from susie_rss and a list of rds output from uni_susie to conduct coloc on them."
   ]
  },
  {
   "cell_type": "code",
   "execution_count": null,
   "id": "02785544-1d5e-4a14-a87d-4330786bd3ea",
   "metadata": {},
   "outputs": [],
   "source": []
  },
  {
   "cell_type": "code",
   "execution_count": null,
   "id": "6bb64625-45b2-4cf0-b13f-82d446ce7804",
   "metadata": {},
   "outputs": [],
   "source": []
  },
  {
   "cell_type": "markdown",
   "id": "b031da40-a079-45a1-bbc9-20195478d6ae",
   "metadata": {},
   "source": [
    "## Input \n",
    "1. A list of output from the susie_rss module, whose file name **must** ends with the pattern `.chr17_60570445_65149278.unisusie_rss.fit.rds`\n",
    "2. A list of output from the susie module, whose file name **must** ends with the pattern `.ENSG00000120063.unisusie.fit.rds`\n",
    "3. A region_list, with the columns \"#chr\", \"start\", \"end\" and \"gene_id\". The numbers in #chr columns require to have \"chr\" prefix."
   ]
  },
  {
   "cell_type": "markdown",
   "id": "d326077f-e7d8-4880-9b02-a44a621e683d",
   "metadata": {},
   "source": [
    "The module will transform all the input 1 into following table:\n",
    "```\n",
    "        ss_path #chr    ss_from ss_to\n",
    "output/ADGWAS2022.chr17.sumstat.chr17_1013206_2799513.unisusie_rss.fit.rds      chr17   1013206 2799513\n",
    "output/ADGWAS2022.chr17.sumstat.chr17_10670471_12764265.unisusie_rss.fit.rds    chr17   10670471        12764265\n",
    "output/ADGWAS2022.chr17.sumstat.chr17_120360_1013206.unisusie_rss.fit.rds       chr17   120360  1013206\n",
    "output/ADGWAS2022.chr17.sumstat.chr17_12764265_13625781.unisusie_rss.fit.rds    chr17   12764265        13625781\n",
    "output/ADGWAS2022.chr17.sumstat.chr17_13625781_14744159.unisusie_rss.fit.rds    chr17   13625781        14744159\n",
    "output/ADGWAS2022.chr17.sumstat.chr17_14744159_16989527.unisusie_rss.fit.rds    chr17   14744159        16989527\n",
    "output/ADGWAS2022.chr17.sumstat.chr17_16989527_20940244.unisusie_rss.fit.rds    chr17   16989527        20940244\n",
    "output/ADGWAS2022.chr17.sumstat.chr17_60570445_65149278.unisusie_rss.fit.rds    chr17   60570445        65149278\n",
    "\n",
    "```\n",
    "and input 2 into following table: \n",
    "```\n",
    "        qtl_path        gene_id\n",
    "/mnt/.../cache/demo.ENSG00000000419.unisusie.fit.rds      ENSG00000000419\n",
    "/mnt/.../cache/demo.ENSG00000000457.unisusie.fit.rds      ENSG00000000457\n",
    "/mnt/.../cache/demo.ENSG00000000938.unisusie.fit.rds      ENSG00000000938\n",
    "/mnt/.../cache/demo.ENSG00000000971.unisusie.fit.rds      ENSG00000000971\n",
    "/mnt/.../cache/demo.ENSG00000001036.unisusie.fit.rds      ENSG00000001036\n",
    "/mnt/.../cache/demo.ENSG00000001084.unisusie.fit.rds      ENSG00000001084\n",
    "/mnt/.../cache/demo.ENSG00000001167.unisusie.fit.rds      ENSG00000001167\n",
    "/mnt/.../cache/demo.ENSG00000001460.unisusie.fit.rds      ENSG00000001460\n",
    "/mnt/.../cache/demo.ENSG00000001461.unisusie.fit.rds      ENSG00000001461\n",
    "\n",
    "```\n",
    "Under the hood, the two table will be merged together using input 3 to produce:\n",
    "```\n",
    "        #chr    start   end     gene_id ss_from ss_to      qtl_path                                ss_path \n",
    "chr17   181649  181650  ENSG00000272636  120360  1013206  /mnt/.../cache/demo.E...unisusie.fit.rds output/ADGW...unisusie_rss.fit.rds     \n",
    "chr17   191586  191587  ENSG00000273172  120360  1013206  /mnt/.../cache/demo.E...unisusie.fit.rds output/ADGW...unisusie_rss.fit.rds     \n",
    "chr17   331204  331205  ENSG00000262061  120360  1013206  /mnt/.../cache/demo.E...unisusie.fit.rds output/ADGW...unisusie_rss.fit.rds     \n",
    "chr17   386253  386254  ENSG00000181031  120360  1013206  /mnt/.../cache/demo.E...unisusie.fit.rds output/ADGW...unisusie_rss.fit.rds     \n",
    "chr17   410324  410325  ENSG00000187624  120360  1013206  /mnt/.../cache/demo.E...unisusie.fit.rds output/ADGW...unisusie_rss.fit.rds     \n",
    "chr17   445938  445939  ENSG00000183688  120360  1013206  /mnt/.../cache/demo.E...unisusie.fit.rds output/ADGW...unisusie_rss.fit.rds     \n",
    "chr17   657546  657547  ENSG00000244097  120360  1013206  /mnt/.../cache/demo.E...unisusie.fit.rds output/ADGW...unisusie_rss.fit.rds     \n",
    "\n",
    "```\n",
    "\n",
    "Only the rows where the TSS of a gene is within the LD region that the summary stats are fine-mapped on will be retained."
   ]
  },
  {
   "cell_type": "code",
   "execution_count": null,
   "id": "40fcd015-6ae7-44ea-a3b6-631b59ee296d",
   "metadata": {},
   "outputs": [],
   "source": []
  },
  {
   "cell_type": "markdown",
   "id": "cfba9734-b401-4cdd-a7dd-42667bf5df89",
   "metadata": {},
   "source": [
    "### MWE"
   ]
  },
  {
   "cell_type": "code",
   "execution_count": null,
   "id": "31ab82c7-d563-4e09-a8b6-37d023f02842",
   "metadata": {},
   "outputs": [],
   "source": [
    "sos run pipeline/coloc.ipynb coloc \\\n",
    "    --qtl_rds `ls /mnt/vast/hpc/csg/molecular_phenotype_calling/eqtl/output/susie_per_gene_tad_3/cache/*rds` \\\n",
    "    --sumstat_rds `ls output/*rds` \\\n",
    "    --region_list test.region_list "
   ]
  },
  {
   "cell_type": "code",
   "execution_count": null,
   "id": "2b32da48-4ce0-491e-bb60-5e10833e3457",
   "metadata": {},
   "outputs": [],
   "source": [
    "[global]\n",
    "parameter: container = \"\"\n",
    "# For cluster jobs, number commands to run per job\n",
    "parameter: job_size = 1\n",
    "# Wall clock time expected\n",
    "parameter: walltime = \"5h\"\n",
    "# Memory expected\n",
    "parameter: mem = \"16G\"\n",
    "# Number of threads\n",
    "parameter: numThreads = 20\n",
    "parameter: cwd = path(\"output\")\n",
    "# Get the susie_rss results\n",
    "parameter: sumstat_rds = paths\n",
    "# Get the susie results\n",
    "parameter: qtl_rds = paths\n",
    "# A region_list to link the susie results and the rss results\n",
    "parameter: region_list\n",
    "import pandas as pd\n",
    "\n",
    "sumstat_list = pd.DataFrame({\"ss_path\" : [str(x) for x in sumstat_rds]})\n",
    "sumstat_list[\"#chr\"] = [f'chr{x.split(\".\")[-4].split(\"_\")[0].replace(\"chr\",\"\")}'  for x in sumstat_list.ss_path ] ## Add chr if there is no chr prefix. This is to accomodata chr XY and M\n",
    "sumstat_list[\"ss_from\"] = [int(x.split(\".\")[-4].split(\"_\")[1])  for x in sumstat_list.ss_path ]\n",
    "sumstat_list[\"ss_to\"] = [int(x.split(\".\")[-4].split(\"_\")[2])  for x in sumstat_list.ss_path ]\n",
    "\n",
    "qtl_list = pd.DataFrame({\"qtl_path\" : [str(x) for x in qtl_rds], \"gene_id\" : [str(x).split(\".\")[-4] for x in qtl_rds] })\n",
    "\n",
    "region_list = pd.read_csv(region_list,\"\\t\").merge(qtl_list, on = \"gene_id\").merge(sumstat_list , on = \"#chr\")\n",
    "region_list = region_list.query(\"start > ss_from & end < ss_to\")\n",
    "region_list.to_csv(\"test_3\",\"\\t\")\n",
    "input_list = region_list[[\"ss_path\",\"qtl_path\"]].values.tolist()\n"
   ]
  },
  {
   "cell_type": "code",
   "execution_count": null,
   "id": "15e2dfe0-9a23-423b-93a6-89cd6438a563",
   "metadata": {},
   "outputs": [],
   "source": [
    "[coloc]\n",
    "input: input_list, group_by = 2\n",
    "output: f'{cwd}/{_input[0]:bnnn}.{_input[1]:bnnn}.coloc.rds'\n",
    "task: trunk_workers = 1, trunk_size = job_size, walltime = walltime, mem = mem, cores = numThreads, tags = f'{step_name}_{_output:bn}'\n",
    "R: expand = '${ }', stdout = f\"{_output:nn}.stdout\", stderr = f\"{_output:nn}.stderr\", container = container\n",
    "    library(coloc)\n",
    "    library(dplyr)\n",
    "    library(stringr)\n",
    "    gwas <- readRDS(file = \"${_input[0]}\")\n",
    "    colnames(gwas$lbf_variable) = stringr::str_replace(gwas$variant,\"_\",\":\")\n",
    "    eqtl <- readRDS(file = \"${_input[1]}\")\n",
    "    coloc_result = list()\n",
    "    for(i in 1:length(eqtl) ){coloc_result[i] <- coloc.susie(gwas, eqtl[[i]]) }\n",
    "    coloc_result%>%saveRDS(\"${_output}\")\n",
    "    "
   ]
  }
 ],
 "metadata": {
  "kernelspec": {
   "display_name": "Python 3 (ipykernel)",
   "language": "python",
   "name": "python3"
  },
  "language_info": {
   "codemirror_mode": {
    "name": "ipython",
    "version": 3
   },
   "file_extension": ".py",
   "mimetype": "text/x-python",
   "name": "python",
   "nbconvert_exporter": "python",
   "pygments_lexer": "ipython3",
   "version": "3.9.5"
  }
 },
 "nbformat": 4,
 "nbformat_minor": 5
}
