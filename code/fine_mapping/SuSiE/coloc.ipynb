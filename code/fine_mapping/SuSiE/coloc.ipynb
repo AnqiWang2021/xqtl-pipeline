{
 "cells": [
  {
   "cell_type": "markdown",
   "id": "687a3be6-e7f6-45ff-94c2-20f279e9d295",
   "metadata": {},
   "source": [
    "# Coloc\n",
    "This notebook take a list of rds output from susie_rss and a list of rds output from uni_susie to conduct coloc on them."
   ]
  },
  {
   "cell_type": "code",
   "execution_count": null,
   "id": "02785544-1d5e-4a14-a87d-4330786bd3ea",
   "metadata": {},
   "outputs": [],
   "source": [
    "sos run pipeline/coloc.ipynb coloc \\\n",
    "    --qtl_rds `ls susie/*rds` \\\n",
    "    --sumstat_rds `ls output/*rds` \\\n",
    "    --region_list test.region_list\n",
    "    --container containers/stephenslab.sif &"
   ]
  },
  {
   "cell_type": "code",
   "execution_count": null,
   "id": "2b32da48-4ce0-491e-bb60-5e10833e3457",
   "metadata": {},
   "outputs": [],
   "source": [
    "[global]\n",
    "parameter: container = \"\"\n",
    "# For cluster jobs, number commands to run per job\n",
    "parameter: job_size = 1\n",
    "# Wall clock time expected\n",
    "parameter: walltime = \"5h\"\n",
    "# Memory expected\n",
    "parameter: mem = \"16G\"\n",
    "# Number of threads\n",
    "parameter: numThreads = 20\n",
    "parameter: cwd = path(\"output\")\n",
    "# Get the susie_rss results\n",
    "parameter: sumstat_rds = paths\n",
    "# Get the susie results\n",
    "parameter: qtl_rds = paths\n",
    "# A region_list to link the susie results and the rss results\n",
    "parameter: region_list\n",
    "import pandas as pd\n",
    "\n",
    "sumstat_list = pd.DataFrame({\"ss_path\" : [str(x) for x in sumstat_rds]})\n",
    "sumstat_list[\"#chr\"] = [x.split(\".\")[-4].split(\"_\")[0].replace(\"chr\",\"\")  for x in sumstat_list.path ]\n",
    "sumstat_list[\"from\"] = [x.split(\".\")[-4].split(\"_\")[1]  for x in sumstat_list.path ]\n",
    "sumstat_list[\"to\"] = [x.split(\".\")[-4].split(\"_\")[2]  for x in sumstat_list.path ]\n",
    "\n",
    "qtl_list = pd.DataFrame({\"qtl_path\" : [str(x) for x in qtl_rds], \"gene_id\" = [str(x).split(\".\")[-4] for x in qtl_rds] })\n",
    "\n",
    "region_list = region_list.merge(qtl_list, on = \"gene_id\").merge(sumstat_list , on = \"#chr\")\n",
    "region_list = region_list.query(\"start > from & end < to\")\n",
    "ss_input = region_list.ss_path\n",
    "qlt_input = region_list.qtl_path\n",
    "\n"
   ]
  },
  {
   "cell_type": "code",
   "execution_count": null,
   "id": "15e2dfe0-9a23-423b-93a6-89cd6438a563",
   "metadata": {},
   "outputs": [],
   "source": [
    "[coloc]\n",
    "input: ss_input, group_with = \"qlt_input\", group_by = 1\n",
    "output: f'{cwd}/{_input[0]:nnn}.{_input[1]:nnn}.coloc.rds'\n",
    "task: trunk_workers = 1, trunk_size = job_size, walltime = walltime, mem = mem, cores = numThreads, tags = f'{step_name}_{_output[0]:bn}'\n",
    "R: expand = '${ }', stdout = f\"{_output[0]:nn}.stdout\", stderr = f\"{_output[0]:nn}.stderr\", container = container\n",
    "    gwas <- readRDS(file = \"${_input[0]}\")\n",
    "    eqtl <- readRDS(file = \"${_input[1]}\")\n",
    "    coloc_result = list()\n",
    "    for(i in 1:length(eqtl) ){coloc_result[i] <- coloc.susie(gwas, eqtl[i]) }\n",
    "    coloc_result%>%saveRDS(\"${_output}\")\n",
    "    "
   ]
  }
 ],
 "metadata": {
  "kernelspec": {
   "display_name": "Python 3 (ipykernel)",
   "language": "python",
   "name": "python3"
  },
  "language_info": {
   "codemirror_mode": {
    "name": "ipython",
    "version": 3
   },
   "file_extension": ".py",
   "mimetype": "text/x-python",
   "name": "python",
   "nbconvert_exporter": "python",
   "pygments_lexer": "ipython3",
   "version": "3.9.5"
  }
 },
 "nbformat": 4,
 "nbformat_minor": 5
}
