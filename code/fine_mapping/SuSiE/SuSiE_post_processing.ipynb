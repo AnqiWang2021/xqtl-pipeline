{
 "cells": [
  {
   "cell_type": "markdown",
   "id": "59d5b415-b698-4f4c-830f-fa4e63f0115f",
   "metadata": {
    "kernel": "SoS",
    "tags": []
   },
   "source": [
    "# SuSIE results post process"
   ]
  },
  {
   "cell_type": "markdown",
   "id": "8c3e81ce-3d9e-43ba-9722-4a84e6a86936",
   "metadata": {
    "kernel": "SoS"
   },
   "source": [
    "This notebook is to post-process the susie results into different text file\n"
   ]
  },
  {
   "cell_type": "markdown",
   "id": "dfc9db56-c94b-43a8-bcbe-a3e2cc624f58",
   "metadata": {
    "kernel": "SoS"
   },
   "source": [
    "### Extracting susie results"
   ]
  },
  {
   "cell_type": "code",
   "execution_count": null,
   "id": "d88a03a1-9c13-4cd4-a495-ec628c5e5bc0",
   "metadata": {
    "kernel": "SoS"
   },
   "outputs": [],
   "source": [
    "sos run pipeline/SuSiE_post_processing.ipynb susie_to_tsv \\\n",
    "    --cwd output/test --rds_path `ls output/test/cache/*rds | head ` --region-list <(head -50  ./dlpfc_region_list) --container containers/stephenslab.sif "
   ]
  },
  {
   "cell_type": "markdown",
   "id": "e7ce5b57-e5c1-4ba0-9f6d-f3cd96907cd4",
   "metadata": {
    "kernel": "SoS"
   },
   "source": [
    "### Extracting susie_rss results for ADGWAS"
   ]
  },
  {
   "cell_type": "code",
   "execution_count": null,
   "id": "06f3b656-aaff-4688-885b-c67a965da218",
   "metadata": {
    "kernel": "SoS"
   },
   "outputs": [],
   "source": [
    "sos run pipeline/SuSiE_post_processing.ipynb susie_to_tsv \\\n",
    "    --cwd output/ADGWAS_finemapping_extracted/Bellenguez/ --rds_path `ls GWAS_Finemapping_Results/Bellenguez/ADGWAS2022*rds ` \\\n",
    "    --region-list ~/1300_hg38_EUR_LD_blocks_orig.tsv \\\n",
    "    --container containers/stephenslab.sif \n",
    "\n",
    "sos run pipeline/SuSiE_post_processing.ipynb susie_tsv_collapse \\\n",
    "    --cwd output/ADGWAS_finemapping_extracted --tsv_path `ls output/ADGWAS_finemapping_extracted/*lbf.tsv` \\\n",
    "    --container containers/stephenslab.sif "
   ]
  },
  {
   "cell_type": "markdown",
   "id": "eddce6a8-b653-4e11-a6dd-91e4c604eff5",
   "metadata": {
    "kernel": "SoS"
   },
   "source": [
    "### Extracting fsusie results "
   ]
  },
  {
   "cell_type": "code",
   "execution_count": null,
   "id": "2e662841-e69c-46f7-83fd-23c9e3bcbfa9",
   "metadata": {
    "kernel": "SoS"
   },
   "outputs": [],
   "source": [
    "sos run pipeline/SuSiE_post_processing.ipynb fsusie_to_tsv \\\n",
    "    --cwd output/f_susie_tad_haQTL_pos --rds_path `ls output/f_susie_tad_haQTL_pos/cache/*rds ` \\\n",
    "    --region-list ../eqtl/dlpfc_tad_list \\\n",
    "    --container containers/stephenslab.sif -s build"
   ]
  },
  {
   "cell_type": "code",
   "execution_count": null,
   "id": "a7c27e1c-8097-451e-a3b4-4d216f89e480",
   "metadata": {
    "kernel": "SoS"
   },
   "outputs": [],
   "source": [
    "sos run pipeline/SuSiE_post_processing.ipynb fsusie_to_tsv \\\n",
    "    --cwd output/f_susie_tad_meQTL_pos_selected/ --rds_path `ls output/f_susie_tad_meQTL_pos_selected//cache/*1204*rds ` \\\n",
    "    --region-list ../eqtl/dlpfc_tad_list \\\n",
    "    --container containers/stephenslab.sif -s build"
   ]
  },
  {
   "cell_type": "code",
   "execution_count": null,
   "id": "6fc68c47-ade2-4273-873e-94df3a863ba1",
   "metadata": {
    "kernel": "SoS"
   },
   "outputs": [],
   "source": [
    "sos run pipeline/SuSiE_post_processing.ipynb fsusie_to_tsv \\\n",
    "    --cwd output/f_susie_tad_meQTL_pos_2/ --rds_path `ls output/f_susie_tad_meQTL_pos_2//cache/*rds ` \\\n",
    "    --region-list ../eqtl/dlpfc_tad_list \\\n",
    "    --container containers/stephenslab.sif -s build"
   ]
  },
  {
   "cell_type": "code",
   "execution_count": null,
   "id": "9f643ed2-67cc-4dd1-8442-a93865720c1e",
   "metadata": {
    "kernel": "SoS"
   },
   "outputs": [],
   "source": [
    "sos run pipeline/SuSiE_post_processing.ipynb fsusie_to_tsv \\\n",
    "    --cwd output/f_susie_tad_meQTL_pos/ --rds_path `ls output/f_susie_tad_meQTL_pos//cache/*rds ` \\\n",
    "    --region-list ../eqtl/dlpfc_tad_list \\\n",
    "    --container containers/stephenslab.sif -s build"
   ]
  },
  {
   "cell_type": "code",
   "execution_count": null,
   "id": "3c5cae21-21df-4b01-a193-524c7620bb11",
   "metadata": {
    "kernel": "SoS"
   },
   "outputs": [],
   "source": [
    "sos run pipeline/SuSiE_post_processing.ipynb fsusie_to_tsv \\\n",
    "    --cwd output/f_susie_tad_haQTL_pos_check_pure_2 --rds_path `ls output/f_susie_tad_haQTL_pos_check_pure_2/cache/*rds ` \\\n",
    "    --region-list ../eqtl/dlpfc_tad_list \\\n",
    "    --container containers/stephenslab.sif -s build"
   ]
  },
  {
   "cell_type": "code",
   "execution_count": null,
   "id": "c0470772-ee61-4e91-9e34-b13670c2b983",
   "metadata": {
    "kernel": "SoS"
   },
   "outputs": [],
   "source": [
    "sos run pipeline/SuSiE_post_processing.ipynb fsusie_to_tsv \\\n",
    "    --cwd output/f_susie_tad_meQTL_pos_2/ --rds_path `ls output/f_susie_tad_meQTL_pos_2//cache/*rds ` \\\n",
    "    --region-list ../eqtl/dlpfc_tad_list \\\n",
    "    --container containers/stephenslab.sif -s build"
   ]
  },
  {
   "cell_type": "markdown",
   "id": "227c05a4-03ce-4d1c-8cae-5491e87ec0e6",
   "metadata": {
    "kernel": "SoS",
    "tags": []
   },
   "source": [
    "### Plotting the pip plot"
   ]
  },
  {
   "cell_type": "code",
   "execution_count": null,
   "id": "803d2f1a-0360-4abc-8ce5-bb8982a43a50",
   "metadata": {
    "kernel": "SoS"
   },
   "outputs": [],
   "source": [
    "sos run pipeline/SuSiE_post_processing.ipynb susie_pip_landscape_plot \\\n",
    "    --cwd output/test/ --plot_list plot_recipe --annot_tibble ~/Annotatr_builtin_annotation_tibble.tsv -s force &"
   ]
  },
  {
   "cell_type": "code",
   "execution_count": null,
   "id": "7234b425-7b70-4631-9b46-addfda4c66c0",
   "metadata": {
    "kernel": "SoS"
   },
   "outputs": [],
   "source": [
    "sos run pipeline/SuSiE_post_processing.ipynb susie_upsetR_plot \\\n",
    "    --cwd output/test/ --plot_list plot_recipe_1  -s force &"
   ]
  },
  {
   "cell_type": "markdown",
   "id": "eca3bcf8-25da-40a4-926a-552b792caaf7",
   "metadata": {
    "kernel": "SoS"
   },
   "source": [
    "The required input for this step is a tab-delimited plot_recipe file that specifies the path to each of the variant.tsv files generated from this module. Each column represents a molecular phenotype, and each row indicates the files that share common variants. Since one TAD may correspond to multiple genes, additional eQTL are permitted. If there are additional molecular phenotypes or ADGWAS datasets, additional columns can be appended.\n",
    "\n",
    "The built-in Annotatr_builtin_annotation_tibble.tsv can be downloaded from [synapse](https://www.synapse.org/#!Synapse:syn51198526), please download it and specify the path."
   ]
  },
  {
   "cell_type": "code",
   "execution_count": 3,
   "id": "0cf95467-bfae-48bc-90d2-fec3816bef02",
   "metadata": {
    "kernel": "Bash",
    "tags": []
   },
   "outputs": [
    {
     "name": "stdout",
     "output_type": "stream",
     "text": [
      "haQTL\tmQTL\teQTL\teQTL\tADGWAS\n",
      "/mnt/vast/hpc/csg/molecular_phenotype_calling/QTL_fine_mapping/output/f_susie_tad_meQTL_pos//meQTL.yuqi_mqtl.tad100.uni_Fsusie.mixture_normal_per_scale.variant.tsv\t/mnt/vast/hpc/csg/molecular_phenotype_calling/QTL_fine_mapping/output/f_susie_tad_haQTL_pos//haQTL.rosmap_haqtl.tad100.uni_Fsusie.mixture_normal_per_scale.variant.tsv\t/mnt/vast/hpc/csg/molecular_phenotype_calling/eqtl//output/susie_per_gene_tad//demo.ENSG00000117322.unisusie.fit.variant.tsv\t/mnt/vast/hpc/csg/molecular_phenotype_calling/eqtl//output/susie_per_gene_tad//demo.ENSG00000203710.unisusie.fit.variant.tsv\t/mnt/vast/hpc/csg/xqtl_workflow_testing/susie_rss/output/ADGWAS_finemapping_extracted/Bellenguez/ADGWAS2022.chr1.sumstat.chr1_205972031_208461272.unisusie_rss.fit.variant.tsv\n"
     ]
    }
   ],
   "source": [
    "cat /mnt/vast/hpc/csg/molecular_phenotype_calling/QTL_fine_mapping/plot_recipe"
   ]
  },
  {
   "cell_type": "code",
   "execution_count": null,
   "id": "3819b186-187f-4b00-b066-41cb774f5993",
   "metadata": {
    "kernel": "SoS"
   },
   "outputs": [],
   "source": [
    "[global]\n",
    "import glob\n",
    "import pandas as pd\n",
    "\n",
    "\n",
    "# A region list file documenting the chr_pos_ref_alt of a susie_object\n",
    "parameter: cwd = path(\"output\")\n",
    "parameter: name = \"demo\"\n",
    "\n",
    "## Path to work directory where output locates\n",
    "## Containers that contains the necessary packages\n",
    "parameter: container = \"\"\n",
    "# For cluster jobs, number commands to run per job\n",
    "parameter: job_size = 1\n",
    "# Wall clock time expected\n",
    "parameter: walltime = \"96h\"\n",
    "# Memory expected\n",
    "parameter: mem = \"16G\"\n",
    "# Number of threads\n",
    "parameter: numThreads = 20\n",
    "parameter: windows = 1000000\n",
    "# use this function to edit memory string for PLINK input\n",
    "from sos.utils import expand_size"
   ]
  },
  {
   "cell_type": "code",
   "execution_count": 1,
   "id": "9e39ee42-5012-400d-9c53-982a5ea3087a",
   "metadata": {
    "kernel": "SoS"
   },
   "outputs": [],
   "source": [
    "[susie_to_tsv_1]\n",
    "# Input\n",
    "# For complete susie, region_list or tad_list, for susie_rss , LD region list \n",
    "parameter: region_list = path\n",
    "region_tbl = pd.read_csv(region_list,sep = \"\\t\")\n",
    "parameter: rds_path = paths\n",
    "input: rds_path, group_by = 1\n",
    "output: f\"{cwd}/{_input:bn}.variant.tsv\",f\"{cwd}/{_input:bn}.lbf.tsv\",f\"{cwd}/{_input:bn}.effect.tsv\"\n",
    "task: trunk_workers = 1, trunk_size = job_size, walltime = walltime, mem = mem, cores = numThreads, tags = f'{step_name}_{_output[0]:bn}'\n",
    "R: expand = '${ }', stdout = f\"{_output[0]:nn}.stdout\", stderr = f\"{_output[0]:nn}.stderr\", container = container\n",
    "    library(\"dplyr\")\n",
    "    library(\"tibble\")\n",
    "    library(\"purrr\")\n",
    "    library(\"tidyr\")\n",
    "    library(\"readr\")\n",
    "    library(\"stringr\")\n",
    "    library(\"susieR\")\n",
    "    extract_lbf = function(susie_obj){\n",
    "    \n",
    "    if(\"variants\" %in% names(susie_obj) ){\n",
    "    ss_bf = tibble(snps = susie_obj$variants, cs_index = ifelse(is.null(susie_obj$sets$cs_index), 0, paste0(susie_obj$sets$cs_index,collapse =\",\")),names = \"${f'{_input:br}'.split('.')[-4]}\")\n",
    "    }\n",
    "      else \n",
    "      {\n",
    "    ss_bf = tibble(snps = susie_obj$variable_name, cs_index = ifelse(is.null(susie_obj$sets$cs_index), 0, paste0(susie_obj$sets$cs_index,collapse =\",\")),names = \"${_input:bnnn}\")\n",
    "     }\n",
    "    \n",
    "    ss_bf = ss_bf%>%cbind(susie_obj$lbf_variable%>%t)%>%as_tibble()\n",
    "    \n",
    "    return(ss_bf)\n",
    "    }\n",
    "    \n",
    "    extract_variants_pip = function(susie_obj,region_list){\n",
    "    susie_tb = tibble( variants =  names(susie_obj$pip)[which( susie_obj$pip >= 0)],\n",
    "                           snps_index = which(( susie_obj$pip >= 0))) %>%\n",
    "        mutate(chromosome = map_chr(variants, ~read.table(text = .x, sep = \":\")$V1%>%str_replace(\"chr\",\"\") ),\n",
    "                position  = map_chr(variants, ~read.table(text = .x, sep = \":\")$V2  ),\n",
    "                ref = map_chr(position , ~read.table(text = .x, sep = \"_\",colClasses = \"character\")$V2  ),\n",
    "                alt = map_chr(position , ~read.table(text = .x, sep = \"_\",colClasses = \"character\")$V3  ),\n",
    "                position  = map_dbl(position , ~read.table(text = .x, sep = \"_\",as.is = T)$V1  )\n",
    "                             )\n",
    "      susie_tb = susie_tb%>%mutate(cs_order =(map(susie_tb$snps_index , ~tryCatch(which(pmap(list( a= susie_obj$sets$cs) , function(a) .x %in% a )%>%unlist()), error = function(e) return(0) )  ))%>%as.character%>%str_replace(\"integer\\\\(0\\\\)\",\"0\"),\n",
    "                         cs_id = map_chr(cs_order,~ifelse(.x ==\"0\", \"None\" ,names(susie_obj$sets$cs)[.x%>%str_split(\":\")%>%unlist%>%as.numeric] ) ),\n",
    "                         log10_base_factor = map_chr(snps_index,~paste0( susie_obj$lbf_variable[,.x],  collapse = \";\")),\n",
    "                         pip = susie_obj$pip,\n",
    "                         posterior_mean = coef.susie(susie_obj)[-1],\n",
    "                         posterior_sd = susie_get_posterior_sd(susie_obj),\n",
    "                         z = posterior_mean/posterior_sd)\n",
    "    \n",
    "          susie_tb =  susie_tb%>%mutate(  molecular_trait_id = region_list$molecular_trait_id,\n",
    "                             finemapped_region_start = region_list$finemapped_region_start,\n",
    "                             finemapped_region_end = region_list$finemapped_region_end)\n",
    "          return(susie_tb)    }\n",
    "          \n",
    "        \n",
    "\n",
    "     extract_effect_pip = function(susie_obj,region_list,susie_tb){\n",
    "      result_tb =  tibble(phenotype = susie_obj$name,\n",
    "        V = susie_obj$V,effect_id = paste0(\"L\",1:length(V) ) ,\n",
    "        cs_log10bf = susie_obj$lbf)\n",
    "        if(is.null(susie_obj$sets$cs)){\n",
    "            cs_min_r2 = cs_avg_r2 =  coverage =  0 \n",
    "            cs = \"None\"} else {         cs = map_chr(susie_obj$sets$cs[result_tb$effect_id],~susie_tb$variants[.x]%>%paste0(collapse = \";\"))\n",
    "        coverage = map(result_tb$effect_id, ~susie_obj$sets$coverage[which(names(susie_obj$sets$cs) == .x )])%>%as.numeric%>%replace_na(0)\n",
    "        cs_min_r2  = (susie_obj$sets$purity[result_tb$effect_id,1])%>%as.numeric%>%replace_na(0)  \n",
    "        cs_avg_r2  = (susie_obj$sets$purity[result_tb$effect_id,2])%>%as.numeric%>%replace_na(0) }\n",
    "        result_tb = result_tb%>%mutate(cs_min_r2 = cs_min_r2,cs_avg_r2 = cs_avg_r2 ,coverage = coverage%>%unlist,cs = cs )            \n",
    "      return(result_tb)\n",
    "      }\n",
    "       \n",
    "  \n",
    "    susie_obj = readRDS(\"${_input:a}\")\n",
    "    if(\"variants\" %in% names(susie_obj) ){susie_obj$variants = susie_obj$variants%>%str_replace(\"_\",\":\")}\n",
    "    if(is.null(names(susie_obj$pip ))){names(susie_obj$pip) = susie_obj$variants}\n",
    "    lbf = extract_lbf(susie_obj)\n",
    "    region_list = read_delim(\"${region_list}\",\"\\t\")\n",
    "    if(ncol(region_list) == 3 ){   region_list =  region_list%>%mutate(`#chr` = `#chr`%>%str_remove_all(\" \") , ID = paste0(`#chr`,\"_\",start,\"_\",end) ) } # LD_list \n",
    "    if(region_list$start[1] - region_list$end[1]  == -1 ){ \n",
    "        region_list = region_list%>%mutate( start = start - ${windows} ,end = start +${windows}) # region_list for fix cis windows  \n",
    "          } \n",
    "      if(\"gene_id\" %in% colnames(region_list)){region_list = region_list%>%mutate(ID = gene_id)  } # region_list for gene\n",
    "    region_list = region_list%>%select(molecular_trait_id = ID, chromosome  = `#chr`,finemapped_region_start = start ,finemapped_region_end = end)  # Formatting\n",
    "    region_list = region_list%>%filter(molecular_trait_id == \"${f'{_input:br}'.split('.')[-4]}\")\n",
    "    variants_pip = extract_variants_pip( susie_obj , region_list)\n",
    "    effect_pip = extract_effect_pip( susie_obj , region_list,variants_pip)\n",
    "    lbf%>%write_delim(\"${_output[1]}\",\"\\t\")\n",
    "    variants_pip%>%write_delim(\"${_output[0]}\",\"\\t\")\n",
    "    effect_pip%>%write_delim(\"${_output[2]}\",\"\\t\")"
   ]
  },
  {
   "cell_type": "code",
   "execution_count": null,
   "id": "b7ee2521-f9be-4f55-9400-7376a423bd10",
   "metadata": {
    "kernel": "SoS"
   },
   "outputs": [],
   "source": [
    "[fsusie_to_tsv_1]\n",
    "# Input\n",
    "# For complete susie, region_list or tad_list, for susie_rss , LD region list \n",
    "parameter: region_list = path\n",
    "region_tbl = pd.read_csv(region_list,sep = \"\\t\")\n",
    "parameter: rds_path = paths\n",
    "input: rds_path, group_by = 1\n",
    "output: f\"{cwd}/{_input:bn}.variant.tsv\"\n",
    "task: trunk_workers = 1, trunk_size = job_size, walltime = walltime, mem = mem, cores = numThreads, tags = f'{step_name}_{_output[0]:bn}'\n",
    "R: expand = '${ }', stdout = f\"{_output[0]:nn}.stdout\", stderr = f\"{_output[0]:nn}.stderr\", container = container\n",
    "    library(\"dplyr\")\n",
    "    library(\"tibble\")\n",
    "    library(\"purrr\")\n",
    "    library(\"tidyr\")\n",
    "    library(\"readr\")\n",
    "    library(\"stringr\")\n",
    "    library(\"susieR\")\n",
    "\n",
    "    extract_variants_pip = function(susie_obj,region_list){\n",
    "        susie_tb = tibble( variants =  names(susie_obj$csd_X),\n",
    "                               snps_index = which(( susie_obj$pip >= 0))) %>%\n",
    "            mutate(chromosome = map_chr(variants, ~read.table(text = .x, sep = \":\")$V1%>%str_replace(\"chr\",\"\") ),\n",
    "                    position  = map_chr(variants, ~read.table(text = .x, sep = \":\")$V2  ),\n",
    "                    ref = map_chr(position , ~read.table(text = .x, sep = \"_\",colClasses = \"character\")$V2  ),\n",
    "                    alt = map_chr(position , ~read.table(text = .x, sep = \"_\",colClasses = \"character\")$V3  ),\n",
    "                    position  = map_dbl(position , ~read.table(text = .x, sep = \"_\",as.is = T)$V1  )\n",
    "                                 )\n",
    "          susie_tb = susie_tb%>%mutate(cs_order =(map(susie_tb$snps_index , ~tryCatch(which(pmap(list( a= susie_obj$cs) , function(a) .x %in% a )%>%unlist()), error = function(e) return(0) )  ))%>%as.character%>%str_replace(\"integer\\\\(0\\\\)\",\"0\"),\n",
    "                             pip = susie_obj$pip)\n",
    "          susie_tb =  susie_tb%>%mutate(  molecular_trait_id = region_list$tad_index,\n",
    "                                 finemapped_region_start = region_list$start,\n",
    "                                 finemapped_region_end = region_list$end)\n",
    "          if(\"purity\" %in% names(susie_obj)){\n",
    "              susie_tb = susie_tb%>%mutate(purity = map_dbl(susie_tb$cs_order, ~ifelse(.x%>%as.numeric > 0, susie_obj$purity[[as.numeric(.x)]], NA ) ), is_dummy = as.numeric(purity < 0.5)  )\n",
    "              }\n",
    "    susie_tb = cbind(susie_tb,Reduce(cbind, susie_obj$lBF)%>%as.tibble%>%`colnames<-`(1:length(susie_obj$lBF)))\n",
    "          return(susie_tb)    }\n",
    "    susie_obj = readRDS(\"${_input:a}\")\n",
    "    region_list = read_delim(\"${region_list}\",\"\\t\")\n",
    "    region_list = region_list%>%filter(tad_index == \"${f'{_input:br}'.split('.')[-4]}\")\n",
    "    variants_pip = extract_variants_pip( susie_obj , region_list)\n",
    "    print(paste0(\"fsusie run time is \", round(susie_obj$runtime[[3]]/60),\"min\"))\n",
    "    variants_pip%>%write_delim(\"${_output}\",\"\\t\")"
   ]
  },
  {
   "cell_type": "code",
   "execution_count": null,
   "id": "dd78ca9d-efda-4e1f-ae33-4f3a2e805885",
   "metadata": {
    "kernel": "SoS"
   },
   "outputs": [],
   "source": [
    "[*_to_tsv_2]\n",
    "parameter: name = f'{_input[0]:b}'.split(\".\")[0]\n",
    "input: group_by = \"all\"\n",
    "output: f\"{cwd}/{name}.all_variants.tsv\"\n",
    "bash: expand = '${ }', stdout = f\"{_output:n}.stdout\", stderr = f\"{_output:n}.stderr\", container = container\n",
    "    head -1 ${_input[0]} > ${_output}\n",
    "    cat ${_input[0]:d}/*variant.tsv | grep -v cs_order >> ${_output}"
   ]
  },
  {
   "cell_type": "code",
   "execution_count": null,
   "id": "b50c78bb-4357-4146-be2a-445147f32213",
   "metadata": {
    "kernel": "SoS"
   },
   "outputs": [],
   "source": [
    "[susie_tsv_collapse]\n",
    "parameter: tsv_path = paths # TSV needs have the name ends with  *.chr1_2_3.unisusie(_rss).lbf.tsv\n",
    "tsv_list  = pd.DataFrame({\"lbf_path\" : [str(x) for x in tsv_path]})\n",
    "chromosome = list(set([f'{x.split(\".\")[-5].split(\"_\")[0].replace(\"chr\",\"\")}'  for x in tsv_list.lbf_path ])) ## Add chr if there is no chr prefix. This is to accomodata chr XY and M\n",
    "input: tsv_path, for_each = \"chromosome\"\n",
    "output: f'{cwd}/{_input[0]:bnnnnnnn}.chr{_chromosome}.unisusie_rss.lbf.tsv'\n",
    "bash: expand = '${ }', stdout = f\"{_output}.stdout\", stderr = f\"{_output}.stderr\", container = container\n",
    "        head -1 ${_input[0]} > ${_output}\n",
    "        cat ${_input[0]:d}/*.chr${_chromosome}_*lbf.tsv | grep -v cs_index >> ${_output}\n",
    "        "
   ]
  },
  {
   "cell_type": "code",
   "execution_count": null,
   "id": "080b6421-092f-4a34-bfbe-54889f15678b",
   "metadata": {
    "kernel": "SoS"
   },
   "outputs": [],
   "source": [
    "[susie_pip_landscape_plot]\n",
    "parameter: plot_list = path\n",
    "parameter: annot_tibble = path\n",
    "import pandas as pd\n",
    "plot_list  = pd.read_csv(plot_list,\"\\t\")\n",
    "file_type = plot_list.columns.values.tolist()\n",
    "file_type = [x.split(\".\")[0] for x in file_type ]\n",
    "plot_list = plot_list.to_dict(\"records\")\n",
    "input: plot_list, group_by = len(file_type)\n",
    "output: f'{cwd}/{\"_\".join(file_type)}.{str(_input[0]).split(\".\")[-5]}.pip_landscape_plot.rds',f'{cwd}/{\"_\".join(file_type)}.{str(_input[0]).split(\".\")[-5]}.pip_landscape_plot.pdf'\n",
    "R: expand = '${ }', stdout = f\"{_output[0]}.stdout\", stderr = f\"{_output[0]}.stderr\", container = container\n",
    "    library(\"dplyr\")\n",
    "    library(\"readr\") \n",
    "    library(\"ggplot2\")\n",
    "    library(\"purrr\")\n",
    "    color = c(\"black\", \"dodgerblue2\", \"green4\", \"#6A3D9A\", \n",
    "          \"#FF7F00\", \"gold1\", \"skyblue2\", \"#FB9A99\", \"palegreen2\",\n",
    "          \"#CAB2D6\", \"#FDBF6F\", \"gray70\", \"khaki2\", \"maroon\", \"orchid1\",\n",
    "          \"deeppink1\", \"blue1\", \"steelblue4\", \"darkturquoise\", \"green1\", \n",
    "          \"yellow4\", \"yellow3\",\"darkorange4\",\"brown\",\"navyblue\",\"#FF0000\",\n",
    "          \"darkgreen\",\"#FFFF00\",\"purple\",\"#00FF00\",\"pink\",\"#0000FF\",\n",
    "          \"orange\",\"#FF00FF\",\"cyan\",\"#00FFFF\",\"#FFFFFF\")\n",
    "    extract_table = function(variant_df,type){ \n",
    "    if(\"is_dummy\" %in% colnames(variant_df) ){\n",
    "      variant_df$is_dummy[is.na(variant_df$is_dummy)] = 0\n",
    "      variant_df[variant_df$is_dummy == 1,7] = 0\n",
    "      }\n",
    "     variant_df = variant_df%>%mutate(CS = (cs_order%>%as.factor%>%as.numeric-1)%>%as.factor)%>%\n",
    "          select( y = pip ,snp = variants,pos = position , CS, molecular_trait_id)%>%mutate(molecular_trait_id = paste0(type,\"_\",molecular_trait_id ) )\n",
    "    return(variant_df)\n",
    "    }\n",
    "    plot_recipe = tibble( type =  c('${\"','\".join(file_type) }'), path = c(${_input:r,}))\n",
    "    plot_list = map2(plot_recipe$type,plot_recipe$path, ~read_delim(.y, guess_max = 10000000)%>%extract_table(.x) )\n",
    "    plot_df = Reduce(rbind,plot_list)\n",
    "    plot_range = (plot_df%>%group_by(molecular_trait_id)%>%summarize(start = (min(pos)), end = (max(pos)))%>%mutate(start = median(start),end = median(end)))[1,c(2,3)]%>%as.matrix\n",
    "    plot_chr = (plot_df$snp[1]%>%stringr::str_split(\":\"))[[1]][1]\n",
    "    plot_df = plot_df%>%mutate(Shared = as.logical(map(snp, ~(plot_df%>%filter( snp ==.x ,   CS%>%as.numeric !=  1 )%>%nrow()) > 1  )))\n",
    "    pip_plot <- plot_df%>%ggplot2::ggplot(aes(y = y, x = pos,\n",
    "                                  col =  CS, shape = Shared )) + facet_grid(molecular_trait_id ~.)+\n",
    "      geom_point(size = 7) +\n",
    "      scale_color_manual(\"Gene\",values = color) +\n",
    "      theme(axis.ticks.x = element_blank()) +\n",
    "     ylab(\"Posterior Inclusion Probability (PIP)\")+xlim(plot_range)+\n",
    "      theme(axis.ticks.x = element_blank()) +\n",
    "            theme(strip.text.y.right = element_text(angle = 0))+\n",
    "            xlab(\"\") + \n",
    "            theme(text = element_text(size = 30))+ggtitle(\"Overview of fine-mapping\")\n",
    "  \n",
    "    annot = read_delim(\"${annot_tibble}\")\n",
    "    annot = annot%>%filter(seqnames == plot_chr, start > plot_range[1], end < plot_range[2])\n",
    "    annot_plot   = annot%>%filter(!type%in%c(\"hg38_genes_introns\",\"hg38_genes_1to5kb\"))%>%\n",
    "                        ggplot(aes())+\n",
    "                        geom_segment( aes(x = start,xend = end, y = \"Regulartory Element\", yend = \"Regulartory Element\", color = type ), linewidth =10)+\n",
    "                        ylab(\"\")+xlab(\"\")+xlim(plot_range)+theme(axis.text.x=element_blank(),text = element_text(size = 20))+scale_color_brewer(palette=\"Dark2\")\n",
    "    gene_plot = annot%>%filter(type%in%c(\"hg38_genes_1to5kb\"))%>%group_by(symbol)%>%\n",
    "                            summarise(start = min(start), end = max(end))%>%na.omit%>%\n",
    "                            ggplot(aes())+geom_segment( aes(x = start,xend = end, y = \"Gene\", yend = \"Gene\", color = symbol ), linewidth =10)+\n",
    "                            geom_label(aes(x = (start+end)/2,y = \"Gene\", label = symbol ),size = 5)+ylab(\"\")+xlab(\"POS\")+\n",
    "                            theme(legend.position=\"none\")+theme(text = element_text(size = 20))+xlim(plot_range)\n",
    "      \n",
    "    list(pip_plot,plot_df,annot_plot,gene_plot)%>%saveRDS(\"${_output[0]}\")\n",
    "    cowplot::plot_grid(plotlist = list(pip_plot,annot_plot,gene_plot),ncol = 1, align = \"v\",axis = \"tlbr\",rel_heights = c(8,1,1))%>%ggsave(filename = \"${_output[1]}\",device = \"pdf\",dpi = \"retina\",width = 30, height = 30)"
   ]
  },
  {
   "cell_type": "code",
   "execution_count": null,
   "id": "b6f8758f-2763-4d38-9b00-7a040d241fb5",
   "metadata": {
    "kernel": "SoS"
   },
   "outputs": [],
   "source": []
  },
  {
   "cell_type": "code",
   "execution_count": 2,
   "id": "5c6daac9-330f-4a55-bb57-0ca2e84502ca",
   "metadata": {
    "kernel": "R",
    "tags": []
   },
   "outputs": [
    {
     "name": "stderr",
     "output_type": "stream",
     "text": [
      "\n",
      "Attaching package: ‘dplyr’\n",
      "\n",
      "\n",
      "The following objects are masked from ‘package:stats’:\n",
      "\n",
      "    filter, lag\n",
      "\n",
      "\n",
      "The following objects are masked from ‘package:base’:\n",
      "\n",
      "    intersect, setdiff, setequal, union\n",
      "\n",
      "\n"
     ]
    }
   ],
   "source": [
    "library(\"dplyr\")\n",
    "library(\"readr\")\n",
    "library(\"ggplot2\")\n",
    "library(\"purrr\")\n",
    "color = c(\"black\", \"dodgerblue2\", \"green4\", \"#6A3D9A\",\n",
    "      \"#FF7F00\", \"gold1\", \"skyblue2\", \"#FB9A99\", \"palegreen2\",\n",
    "      \"#CAB2D6\", \"#FDBF6F\", \"gray70\", \"khaki2\", \"maroon\", \"orchid1\",\n",
    "      \"deeppink1\", \"blue1\", \"steelblue4\", \"darkturquoise\", \"green1\",\n",
    "      \"yellow4\", \"yellow3\",\"darkorange4\",\"brown\",\"navyblue\",\"#FF0000\",\n",
    "      \"darkgreen\",\"#FFFF00\",\"purple\",\"#00FF00\",\"pink\",\"#0000FF\",\n",
    "      \"orange\",\"#FF00FF\",\"cyan\",\"#00FFFF\",\"#FFFFFF\")\n",
    "extract_table = function(variant_df,type){\n",
    "if(\"is_dummy\" %in% colnames(variant_df) ){\n",
    "  variant_df$is_dummy[is.na(variant_df$is_dummy)] = 0\n",
    "  variant_df[variant_df$is_dummy == 1,7] = 0\n",
    "  }\n",
    " variant_df = variant_df%>%mutate(CS = (cs_order%>%as.factor%>%as.numeric-1)%>%as.factor)%>%\n",
    "      select( y = pip ,snp = variants,pos = position , CS, molecular_trait_id)%>%mutate(molecular_trait_id = paste0(type,\"_\",molecular_trait_id ) )\n",
    "return(variant_df)\n",
    "}"
   ]
  },
  {
   "cell_type": "code",
   "execution_count": 3,
   "id": "db7def3a-0872-474b-9de4-187be64603cf",
   "metadata": {
    "kernel": "R"
   },
   "outputs": [
    {
     "name": "stderr",
     "output_type": "stream",
     "text": [
      "\u001b[1mRows: \u001b[22m\u001b[34m1994\u001b[39m \u001b[1mColumns: \u001b[22m\u001b[34m16\u001b[39m\n",
      "\u001b[36m──\u001b[39m \u001b[1mColumn specification\u001b[22m \u001b[36m────────────────────────────────────────────────────────\u001b[39m\n",
      "\u001b[1mDelimiter:\u001b[22m \"\\t\"\n",
      "\u001b[31mchr\u001b[39m (7): variants, ref, alt, cs_order, cs_id, log10_base_factor, molecular_t...\n",
      "\u001b[32mdbl\u001b[39m (9): snps_index, chromosome, position, pip, posterior_mean, posterior_sd...\n",
      "\n",
      "\u001b[36mℹ\u001b[39m Use `spec()` to retrieve the full column specification for this data.\n",
      "\u001b[36mℹ\u001b[39m Specify the column types or set `show_col_types = FALSE` to quiet this message.\n",
      "\u001b[1mRows: \u001b[22m\u001b[34m1994\u001b[39m \u001b[1mColumns: \u001b[22m\u001b[34m16\u001b[39m\n",
      "\u001b[36m──\u001b[39m \u001b[1mColumn specification\u001b[22m \u001b[36m────────────────────────────────────────────────────────\u001b[39m\n",
      "\u001b[1mDelimiter:\u001b[22m \"\\t\"\n",
      "\u001b[31mchr\u001b[39m (7): variants, ref, alt, cs_order, cs_id, log10_base_factor, molecular_t...\n",
      "\u001b[32mdbl\u001b[39m (9): snps_index, chromosome, position, pip, posterior_mean, posterior_sd...\n",
      "\n",
      "\u001b[36mℹ\u001b[39m Use `spec()` to retrieve the full column specification for this data.\n",
      "\u001b[36mℹ\u001b[39m Specify the column types or set `show_col_types = FALSE` to quiet this message.\n",
      "\u001b[1mRows: \u001b[22m\u001b[34m1994\u001b[39m \u001b[1mColumns: \u001b[22m\u001b[34m16\u001b[39m\n",
      "\u001b[36m──\u001b[39m \u001b[1mColumn specification\u001b[22m \u001b[36m────────────────────────────────────────────────────────\u001b[39m\n",
      "\u001b[1mDelimiter:\u001b[22m \"\\t\"\n",
      "\u001b[31mchr\u001b[39m (7): variants, ref, alt, cs_order, cs_id, log10_base_factor, molecular_t...\n",
      "\u001b[32mdbl\u001b[39m (9): snps_index, chromosome, position, pip, posterior_mean, posterior_sd...\n",
      "\n",
      "\u001b[36mℹ\u001b[39m Use `spec()` to retrieve the full column specification for this data.\n",
      "\u001b[36mℹ\u001b[39m Specify the column types or set `show_col_types = FALSE` to quiet this message.\n"
     ]
    }
   ],
   "source": [
    "plot_recipe = tibble( type =  c('eQTL','sQTL_MXE','pQTL'), path = c('/mnt/vast/hpc/csg/molecular_phenotype_calling/eqtl/output/susie_per_gene_tad/demo.ENSG00000085788.unisusie.fit.variant.tsv','/mnt/vast/hpc/csg/molecular_phenotype_calling/sQTL_finemapping/ROSMAP_psichomics/psi_MXE/output/test/demo.psichomics_sQTL.MXE_8_ENSG00000085788.unisusie.fit.variant.tsv','/mnt/vast/hpc/csg/molecular_phenotype_calling/pqtl_finemapping/output/susie_per_ID_tad/cache/result/demo.pqtl.8_DDHD2_O94830.unisusie.fit.variant.tsv'))\n",
    "plot_list = map2(plot_recipe$type,plot_recipe$path, ~read_delim(.y, guess_max = 10000000)%>%extract_table(.x) )"
   ]
  },
  {
   "cell_type": "code",
   "execution_count": 21,
   "id": "7596ffd4-9f77-4237-8732-e090bf2a7c9c",
   "metadata": {
    "kernel": "R"
   },
   "outputs": [],
   "source": [
    "plot_df = Reduce(rbind,plot_list)\n",
    "plot_range = (plot_df%>%group_by(molecular_trait_id)%>%summarize(start = (min(pos)), end = (max(pos)))%>%mutate(start = median(start),end = median(end)))[1,c(2,3)]%>%as.matrix"
   ]
  },
  {
   "cell_type": "code",
   "execution_count": 22,
   "id": "34bd1d54-d72d-4ead-b294-ddc86ab06591",
   "metadata": {
    "kernel": "R",
    "tags": []
   },
   "outputs": [],
   "source": [
    "plot_chr = (plot_df$snp[1]%>%stringr::str_split(\":\"))[[1]][1]\n",
    "plot_df = plot_df%>%mutate(Shared = as.logical(map(snp, ~(plot_df%>%filter( snp ==.x ,   CS%>%as.numeric !=  1 )%>%nrow()) > 1  )))"
   ]
  },
  {
   "cell_type": "code",
   "execution_count": 23,
   "id": "4d9bc6a7-0e63-4632-8261-a90b18d43b65",
   "metadata": {
    "kernel": "R"
   },
   "outputs": [
    {
     "data": {
      "text/html": [
       "<table class=\"dataframe\">\n",
       "<caption>A tibble: 6 × 6</caption>\n",
       "<thead>\n",
       "\t<tr><th scope=col>y</th><th scope=col>snp</th><th scope=col>pos</th><th scope=col>CS</th><th scope=col>molecular_trait_id</th><th scope=col>Shared</th></tr>\n",
       "\t<tr><th scope=col>&lt;dbl&gt;</th><th scope=col>&lt;chr&gt;</th><th scope=col>&lt;dbl&gt;</th><th scope=col>&lt;fct&gt;</th><th scope=col>&lt;chr&gt;</th><th scope=col>&lt;lgl&gt;</th></tr>\n",
       "</thead>\n",
       "<tbody>\n",
       "\t<tr><td>2.818856e-13</td><td>chr8:38120214_T_G             </td><td>38120214</td><td>0</td><td>eQTL_ENSG00000085788</td><td>FALSE</td></tr>\n",
       "\t<tr><td>1.532108e-14</td><td>chr8:38121338_TATATATATATA_TTA</td><td>38121338</td><td>0</td><td>eQTL_ENSG00000085788</td><td>FALSE</td></tr>\n",
       "\t<tr><td>1.554312e-14</td><td>chr8:38122143_A_G             </td><td>38122143</td><td>0</td><td>eQTL_ENSG00000085788</td><td>FALSE</td></tr>\n",
       "\t<tr><td>3.732570e-13</td><td>chr8:38123069_A_C             </td><td>38123069</td><td>0</td><td>eQTL_ENSG00000085788</td><td>FALSE</td></tr>\n",
       "\t<tr><td>2.033596e-12</td><td>chr8:38125608_CAAA_CA         </td><td>38125608</td><td>0</td><td>eQTL_ENSG00000085788</td><td>FALSE</td></tr>\n",
       "\t<tr><td>1.807443e-13</td><td>chr8:38125608_CAAA_CAA        </td><td>38125608</td><td>0</td><td>eQTL_ENSG00000085788</td><td>FALSE</td></tr>\n",
       "</tbody>\n",
       "</table>\n"
      ],
      "text/latex": [
       "A tibble: 6 × 6\n",
       "\\begin{tabular}{llllll}\n",
       " y & snp & pos & CS & molecular\\_trait\\_id & Shared\\\\\n",
       " <dbl> & <chr> & <dbl> & <fct> & <chr> & <lgl>\\\\\n",
       "\\hline\n",
       "\t 2.818856e-13 & chr8:38120214\\_T\\_G              & 38120214 & 0 & eQTL\\_ENSG00000085788 & FALSE\\\\\n",
       "\t 1.532108e-14 & chr8:38121338\\_TATATATATATA\\_TTA & 38121338 & 0 & eQTL\\_ENSG00000085788 & FALSE\\\\\n",
       "\t 1.554312e-14 & chr8:38122143\\_A\\_G              & 38122143 & 0 & eQTL\\_ENSG00000085788 & FALSE\\\\\n",
       "\t 3.732570e-13 & chr8:38123069\\_A\\_C              & 38123069 & 0 & eQTL\\_ENSG00000085788 & FALSE\\\\\n",
       "\t 2.033596e-12 & chr8:38125608\\_CAAA\\_CA          & 38125608 & 0 & eQTL\\_ENSG00000085788 & FALSE\\\\\n",
       "\t 1.807443e-13 & chr8:38125608\\_CAAA\\_CAA         & 38125608 & 0 & eQTL\\_ENSG00000085788 & FALSE\\\\\n",
       "\\end{tabular}\n"
      ],
      "text/markdown": [
       "\n",
       "A tibble: 6 × 6\n",
       "\n",
       "| y &lt;dbl&gt; | snp &lt;chr&gt; | pos &lt;dbl&gt; | CS &lt;fct&gt; | molecular_trait_id &lt;chr&gt; | Shared &lt;lgl&gt; |\n",
       "|---|---|---|---|---|---|\n",
       "| 2.818856e-13 | chr8:38120214_T_G              | 38120214 | 0 | eQTL_ENSG00000085788 | FALSE |\n",
       "| 1.532108e-14 | chr8:38121338_TATATATATATA_TTA | 38121338 | 0 | eQTL_ENSG00000085788 | FALSE |\n",
       "| 1.554312e-14 | chr8:38122143_A_G              | 38122143 | 0 | eQTL_ENSG00000085788 | FALSE |\n",
       "| 3.732570e-13 | chr8:38123069_A_C              | 38123069 | 0 | eQTL_ENSG00000085788 | FALSE |\n",
       "| 2.033596e-12 | chr8:38125608_CAAA_CA          | 38125608 | 0 | eQTL_ENSG00000085788 | FALSE |\n",
       "| 1.807443e-13 | chr8:38125608_CAAA_CAA         | 38125608 | 0 | eQTL_ENSG00000085788 | FALSE |\n",
       "\n"
      ],
      "text/plain": [
       "  y            snp                            pos      CS molecular_trait_id  \n",
       "1 2.818856e-13 chr8:38120214_T_G              38120214 0  eQTL_ENSG00000085788\n",
       "2 1.532108e-14 chr8:38121338_TATATATATATA_TTA 38121338 0  eQTL_ENSG00000085788\n",
       "3 1.554312e-14 chr8:38122143_A_G              38122143 0  eQTL_ENSG00000085788\n",
       "4 3.732570e-13 chr8:38123069_A_C              38123069 0  eQTL_ENSG00000085788\n",
       "5 2.033596e-12 chr8:38125608_CAAA_CA          38125608 0  eQTL_ENSG00000085788\n",
       "6 1.807443e-13 chr8:38125608_CAAA_CAA         38125608 0  eQTL_ENSG00000085788\n",
       "  Shared\n",
       "1 FALSE \n",
       "2 FALSE \n",
       "3 FALSE \n",
       "4 FALSE \n",
       "5 FALSE \n",
       "6 FALSE "
      ]
     },
     "metadata": {},
     "output_type": "display_data"
    }
   ],
   "source": [
    "head(plot_df)"
   ]
  },
  {
   "cell_type": "code",
   "execution_count": 24,
   "id": "356bd71f-3ff9-4105-8e30-6a0e6e09b27c",
   "metadata": {
    "kernel": "R"
   },
   "outputs": [],
   "source": [
    "plot_df$molecular_trait_id[plot_df$molecular_trait_id == \"sQTL_MXE_MXE_8_+_38237627_38238089_38238209_38240275_38240364_38242250_ENSG00000085788\"] <- \"sQTL_MXE_8_ENSG00000085788\""
   ]
  },
  {
   "cell_type": "code",
   "execution_count": 25,
   "id": "d0976441-fccc-4b4c-ae1d-eb4dbeb097b4",
   "metadata": {
    "kernel": "R"
   },
   "outputs": [],
   "source": [
    "pip_plot <- plot_df%>%ggplot2::ggplot(aes(y = y, x = pos,\n",
    "                              col =  CS, shape = Shared )) + facet_grid(molecular_trait_id ~.)+\n",
    "  geom_point(size = 7) +\n",
    "  scale_color_manual(\"Gene\",values = color) +\n",
    "  theme(axis.ticks.x = element_blank()) +\n",
    " ylab(\"Posterior Inclusion Probability (PIP)\")+xlim(plot_range)+\n",
    "  theme(axis.ticks.x = element_blank()) +\n",
    "        theme(strip.text.y.right = element_text(angle = 0))+\n",
    "        xlab(\"\") +\n",
    "        theme(text = element_text(size = 30))+ggtitle(\"Overview of fine-mapping\")"
   ]
  },
  {
   "cell_type": "code",
   "execution_count": 26,
   "id": "1bfe7ea5-0468-4198-a59b-74bbecb9b74a",
   "metadata": {
    "kernel": "R"
   },
   "outputs": [
    {
     "data": {
      "image/png": "[encoded data removed]",
      "text/plain": [
       "plot without title"
      ]
     },
     "metadata": {
      "image/png": {
       "height": 420,
       "width": 420
      }
     },
     "output_type": "display_data"
    }
   ],
   "source": [
    "pip_plot"
   ]
  },
  {
   "cell_type": "code",
   "execution_count": 27,
   "id": "4d51ea5d-48d6-4aeb-b220-1d24e2447e63",
   "metadata": {
    "kernel": "R"
   },
   "outputs": [
    {
     "name": "stderr",
     "output_type": "stream",
     "text": [
      "\u001b[1mRows: \u001b[22m\u001b[34m3675002\u001b[39m \u001b[1mColumns: \u001b[22m\u001b[34m10\u001b[39m\n",
      "\u001b[36m──\u001b[39m \u001b[1mColumn specification\u001b[22m \u001b[36m────────────────────────────────────────────────────────\u001b[39m\n",
      "\u001b[1mDelimiter:\u001b[22m \"\\t\"\n",
      "\u001b[31mchr\u001b[39m (6): seqnames, strand, id, tx_id, symbol, type\n",
      "\u001b[32mdbl\u001b[39m (4): start, end, width, gene_id\n",
      "\n",
      "\u001b[36mℹ\u001b[39m Use `spec()` to retrieve the full column specification for this data.\n",
      "\u001b[36mℹ\u001b[39m Specify the column types or set `show_col_types = FALSE` to quiet this message.\n",
      "Warning message:\n",
      "“Ignoring unknown parameters: linewidth”\n",
      "Warning message:\n",
      "“Ignoring unknown parameters: linewidth”\n"
     ]
    }
   ],
   "source": [
    "annot = read_delim(\"/mnt/mfs/hgrcgrid/homes/hs3163/Annotatr_builtin_annotation_tibble.tsv\")\n",
    "annot = annot%>%filter(seqnames == plot_chr, start > plot_range[1], end < plot_range[2])\n",
    "annot_plot   = annot%>%filter(!type%in%c(\"hg38_genes_introns\",\"hg38_genes_1to5kb\"))%>%\n",
    "                    ggplot(aes())+\n",
    "                    geom_segment( aes(x = start,xend = end, y = \"Regulartory Element\", yend = \"Regulartory Element\", color = type ), linewidth =10)+\n",
    "                    ylab(\"\")+xlab(\"\")+xlim(plot_range)+theme(axis.text.x=element_blank(),text = element_text(size = 20))+scale_color_brewer(palette=\"Dark2\")\n",
    "gene_plot = annot%>%filter(type%in%c(\"hg38_genes_1to5kb\"))%>%group_by(symbol)%>%\n",
    "                        summarise(start = min(start), end = max(end))%>%na.omit%>%\n",
    "                        ggplot(aes())+geom_segment( aes(x = start,xend = end, y = \"Gene\", yend = \"Gene\", color = symbol ), linewidth =10)+\n",
    "                        geom_label(aes(x = (start+end)/2,y = \"Gene\", label = symbol ),size = 5)+ylab(\"\")+xlab(\"POS\")+\n",
    "                        theme(legend.position=\"none\")+theme(text = element_text(size = 20))+xlim(plot_range)\n",
    "\n",
    "list(pip_plot,plot_df,annot_plot,gene_plot)%>%saveRDS(\"/mnt/vast/hpc/csg/molecular_phenotype_calling/sQTL_finemapping/ROSMAP_psichomics/psi_MXE/Plot/eQTL_sQTL_MXE_pQTL.ENSG00000085788.pip_landscape_plot.rds\")\n",
    "cowplot::plot_grid(plotlist = list(pip_plot,annot_plot,gene_plot),ncol = 1, align = \"v\",axis = \"tlbr\",rel_heights = c(8,1,1))%>%ggsave(filename = \"/mnt/vast/hpc/csg/molecular_phenotype_calling/sQTL_finemapping/ROSMAP_psichomics/psi_MXE/Plot/eQTL_sQTL_MXE_pQTL.ENSG00000085788.pip_landscape_plot.pdf\",device = \"pdf\",dpi = \"retina\",width = 30, height = 30)"
   ]
  },
  {
   "cell_type": "code",
   "execution_count": null,
   "id": "80e42995-8c88-4548-9aa0-bd87e6639f55",
   "metadata": {
    "kernel": "SoS"
   },
   "outputs": [],
   "source": [
    "library(\"dplyr\")\n",
    "library(\"readr\")\n",
    "library(\"ggplot2\")\n",
    "library(\"purrr\")\n",
    "color = c(\"black\", \"dodgerblue2\", \"green4\", \"#6A3D9A\",\n",
    "      \"#FF7F00\", \"gold1\", \"skyblue2\", \"#FB9A99\", \"palegreen2\",\n",
    "      \"#CAB2D6\", \"#FDBF6F\", \"gray70\", \"khaki2\", \"maroon\", \"orchid1\",\n",
    "      \"deeppink1\", \"blue1\", \"steelblue4\", \"darkturquoise\", \"green1\",\n",
    "      \"yellow4\", \"yellow3\",\"darkorange4\",\"brown\",\"navyblue\",\"#FF0000\",\n",
    "      \"darkgreen\",\"#FFFF00\",\"purple\",\"#00FF00\",\"pink\",\"#0000FF\",\n",
    "      \"orange\",\"#FF00FF\",\"cyan\",\"#00FFFF\",\"#FFFFFF\")\n",
    "extract_table = function(variant_df,type){\n",
    "if(\"is_dummy\" %in% colnames(variant_df) ){\n",
    "  variant_df$is_dummy[is.na(variant_df$is_dummy)] = 0\n",
    "  variant_df[variant_df$is_dummy == 1,7] = 0\n",
    "  }\n",
    " variant_df = variant_df%>%mutate(CS = (cs_order%>%as.factor%>%as.numeric-1)%>%as.factor)%>%\n",
    "      select( y = pip ,snp = variants,pos = position , CS, molecular_trait_id)%>%mutate(molecular_trait_id = paste0(type,\"_\",molecular_trait_id ) )\n",
    "return(variant_df)\n",
    "}\n",
    "plot_recipe = tibble( type =  c('eQTL','sQTL_MXE','pQTL'), path = c('/mnt/vast/hpc/csg/molecular_phenotype_calling/eqtl/output/susie_per_gene_tad/demo.ENSG00000085788.unisusie.fit.variant.tsv','/mnt/vast/hpc/csg/molecular_phenotype_calling/sQTL_finemapping/ROSMAP_psichomics/psi_MXE/output/test/demo.psichomics_sQTL.MXE_8_ENSG00000085788.unisusie.fit.variant.tsv','/mnt/vast/hpc/csg/molecular_phenotype_calling/pqtl_finemapping/output/susie_per_ID_tad/cache/result/demo.pqtl.8_DDHD2_O94830.unisusie.fit.variant.tsv'))\n",
    "plot_list = map2(plot_recipe$type,plot_recipe$path, ~read_delim(.y, guess_max = 10000000)%>%extract_table(.x) )\n",
    "plot_df = Reduce(rbind,plot_list)\n",
    "plot_range = (plot_df%>%group_by(molecular_trait_id)%>%summarize(start = (min(pos)), end = (max(pos)))%>%mutate(start = median(start),end = median(end)))[1,c(2,3)]%>%as.matrix\n",
    "plot_chr = (plot_df$snp[1]%>%stringr::str_split(\":\"))[[1]][1]\n",
    "plot_df = plot_df%>%mutate(Shared = as.logical(map(snp, ~(plot_df%>%filter( snp ==.x ,   CS%>%as.numeric !=  1 )%>%nrow()) > 1  )))\n",
    "pip_plot <- plot_df%>%ggplot2::ggplot(aes(y = y, x = pos,\n",
    "                              col =  CS, shape = Shared )) + facet_grid(molecular_trait_id ~.)+\n",
    "  geom_point(size = 7) +\n",
    "  scale_color_manual(\"Gene\",values = color) +\n",
    "  theme(axis.ticks.x = element_blank()) +\n",
    " ylab(\"Posterior Inclusion Probability (PIP)\")+xlim(plot_range)+\n",
    "  theme(axis.ticks.x = element_blank()) +\n",
    "        theme(strip.text.y.right = element_text(angle = 0))+\n",
    "        xlab(\"\") +\n",
    "        theme(text = element_text(size = 30))+ggtitle(\"Overview of fine-mapping\")\n",
    "\n",
    "annot = read_delim(\"/mnt/mfs/hgrcgrid/homes/hs3163/Annotatr_builtin_annotation_tibble.tsv\")\n",
    "annot = annot%>%filter(seqnames == plot_chr, start > plot_range[1], end < plot_range[2])\n",
    "annot_plot   = annot%>%filter(!type%in%c(\"hg38_genes_introns\",\"hg38_genes_1to5kb\"))%>%\n",
    "                    ggplot(aes())+\n",
    "                    geom_segment( aes(x = start,xend = end, y = \"Regulartory Element\", yend = \"Regulartory Element\", color = type ), linewidth =10)+\n",
    "                    ylab(\"\")+xlab(\"\")+xlim(plot_range)+theme(axis.text.x=element_blank(),text = element_text(size = 20))+scale_color_brewer(palette=\"Dark2\")\n",
    "gene_plot = annot%>%filter(type%in%c(\"hg38_genes_1to5kb\"))%>%group_by(symbol)%>%\n",
    "                        summarise(start = min(start), end = max(end))%>%na.omit%>%\n",
    "                        ggplot(aes())+geom_segment( aes(x = start,xend = end, y = \"Gene\", yend = \"Gene\", color = symbol ), linewidth =10)+\n",
    "                        geom_label(aes(x = (start+end)/2,y = \"Gene\", label = symbol ),size = 5)+ylab(\"\")+xlab(\"POS\")+\n",
    "                        theme(legend.position=\"none\")+theme(text = element_text(size = 20))+xlim(plot_range)\n",
    "\n",
    "list(pip_plot,plot_df,annot_plot,gene_plot)%>%saveRDS(\"/mnt/vast/hpc/csg/molecular_phenotype_calling/sQTL_finemapping/ROSMAP_psichomics/psi_MXE/Plot/eQTL_sQTL_MXE_pQTL.ENSG00000085788.pip_landscape_plot.rds\")\n",
    "cowplot::plot_grid(plotlist = list(pip_plot,annot_plot,gene_plot),ncol = 1, align = \"v\",axis = \"tlbr\",rel_heights = c(8,1,1))%>%ggsave(filename = \"/mnt/vast/hpc/csg/molecular_phenotype_calling/sQTL_finemapping/ROSMAP_psichomics/psi_MXE/Plot/eQTL_sQTL_MXE_pQTL.ENSG00000085788.pip_landscape_plot.pdf\",device = \"pdf\",dpi = \"retina\",width = 30, height = 30)"
   ]
  },
  {
   "cell_type": "code",
   "execution_count": 1,
   "id": "cad815c3-da7b-4217-80cc-78215409d684",
   "metadata": {
    "kernel": "SoS"
   },
   "outputs": [],
   "source": [
    "[susie_upsetR_plot]\n",
    "parameter: plot_list = path\n",
    "import pandas as pd\n",
    "plot_list  = pd.read_csv(plot_list,\"\\t\")\n",
    "file_type = plot_list.columns.values.tolist()\n",
    "file_type = [x.split(\".\")[0] for x in file_type ]\n",
    "plot_list = plot_list.to_dict(\"records\")\n",
    "input: plot_list\n",
    "output: f'{cwd}/{\"_\".join(file_type)}.UpSetR.rds',f'{cwd}/{\"_\".join(file_type)}.UpSetR.pdf'\n",
    "R: expand = '${ }', stdout = f\"{_output[0]}.stdout\", stderr = f\"{_output[0]}.stderr\", container = container\n",
    "    library(\"dplyr\")\n",
    "    library(\"readr\") \n",
    "    library(\"ggplot2\")\n",
    "    library(\"purrr\")\n",
    "    library(\"UpSetR\")\n",
    "    library(\"ComplexUpset\")\n",
    "    plot_recipe = tibble( type =  c('${\"','\".join(file_type) }'), path = c(${_input:r,}))\n",
    "    plot_list = map2(plot_recipe$type,plot_recipe$path, ~read_delim(.y, guess_max = 10000000)%>%mutate(cs = cs_order != 0 )%>%filter(cs > 0)%>%select(variants,cs)%>%`colnames<-`(c(\"variants\",.x))%>%distinct() )\n",
    "    cs_sharing = Reduce(full_join,plot_list)\n",
    "    cs_upsetR_sharing = cs_sharing\n",
    "    cs_upsetR_sharing[,2:ncol(cs_upsetR_sharing)]%>%mutate_all(as.numeric)-> cs_upsetR_sharing[,2:ncol(cs_upsetR_sharing)]\n",
    "    a = upset(cs_upsetR_sharing%>%as.data.frame,intersect = colnames(cs_upsetR_sharing[2:ncol(cs_upsetR_sharing)]),\n",
    "      keep_empty_groups = F,\n",
    "          base_annotations=list(`Intersection size` = intersection_size( bar_number_threshold = 1, position = position_dodge(0.5), width = 0.3 ,text = list(size = 5)   )  ) ,\n",
    "              themes=upset_default_themes(axis.text=element_text(size=30))     ,\n",
    "              min_degree = 1)\n",
    "    \n",
    "    a%>%ggsave(filename = \"${_output[1]}\",device = \"pdf\",dpi = \"retina\",width=18.5, height=10.5)\n",
    "    list(cs_upsetR_sharing)%>%saveRDS(\"${_output[0]}\")"
   ]
  },
  {
   "cell_type": "code",
   "execution_count": null,
   "id": "480fc1b5-070f-4649-b60f-965369f0cf07",
   "metadata": {
    "kernel": "SoS"
   },
   "outputs": [],
   "source": [
    "[susie_upsetR_cs_plot]\n",
    "parameter: plot_list = path\n",
    "import pandas as pd\n",
    "plot_list  = pd.read_csv(plot_list,\"\\t\")\n",
    "file_type = plot_list.columns.values.tolist()\n",
    "file_type = [x.split(\".\")[0] for x in file_type ]\n",
    "plot_list = plot_list.to_dict(\"records\")\n",
    "trait_to_select =  1 \n",
    "input: plot_list\n",
    "output: f'{cwd}/{\"_\".join(file_type)}.UpSetR_cs.rds',f'{cwd}/{\"_\".join(file_type)}.UpSetR_cs.pdf'\n",
    "R: expand = '${ }', stdout = f\"{_output[0]}.stdout\", stderr = f\"{_output[0]}.stderr\", container = container\n",
    "\n",
    "    library(\"dplyr\")\n",
    "    library(\"readr\") \n",
    "    library(\"ggplot2\")\n",
    "    library(\"purrr\")\n",
    "    library(\"UpSetR\")\n",
    "    library(\"ComplexUpset\")\n",
    "\n",
    "    cs_sharing_identifer = function(upsetR_input,df){\n",
    "    inner_join(upsetR_input, df%>%select(variants,molecular_trait_id, cs_order)%>%filter(cs_order != 0))%>%select(-variants)-> dfL_CS_sharing\n",
    "    dfL_CS_sharing[is.na(dfL_CS_sharing)] = FALSE\n",
    "    dfL_CS_sharing = dfL_CS_sharing%>%group_by(molecular_trait_id,cs_order)%>%summarize(across(everything(), list(mean))   )\n",
    "    dfL_CS_sharing = dfL_CS_sharing%>%mutate(across(haQTL_1:ADGWAS_1, ~.x != 0  ))%>%`colnames<-`(c(\"molecular_trait_id\",\"cs_order\",colnames(cs_sharing)[2:7]))\n",
    "    }\n",
    "  \n",
    "  \n",
    "    plot_recipe = tibble( type =  c('${\"','\".join(file_type) }'), path = c(${_input:r,}))\n",
    "    plot_list = map2(plot_recipe$type,plot_recipe$path, ~read_delim(.y, guess_max = 10000000)%>%mutate(cs = cs_order != 0 )%>%filter(cs > 0)%>%select(variants,cs)%>%`colnames<-`(c(\"variants\",.x))%>%distinct() )\n",
    "    cs_sharing = Reduce(full_join,plot_list)\n",
    "    cs_upsetR_sharing = cs_sharing\n",
    "    cs_upsetR_sharing[,2:ncol(cs_upsetR_sharing)]%>%mutate_all(as.numeric)-> cs_upsetR_sharing[,2:ncol(cs_upsetR_sharing)]\n",
    "\n",
    "    df = read_delim(plot_recipe$path[[${trait_to_select}]])\n",
    "    \n",
    "    cs_sharing_df = cs_sharing_identifer(cs_upsetR_sharing,df)\n",
    "\n",
    "    a = upset(cs_sharing_df%>%as.data.frame,intersect = colnames(cs_sharing_df[3:ncol(cs_sharing_df)]),\n",
    "          keep_empty_groups = F,\n",
    "          base_annotations=list(`Intersection size` = intersection_size( bar_number_threshold = 1, position = position_dodge(0.5), width = 0.3 ,text = list(size = 8)   )  ),\n",
    "          themes=upset_default_themes(axis.text=element_text(size=30)),\n",
    "          set_size = F  ,  min_degree = 1,wrap = T) + ggtitle( paste0(plot_recipe$type[[${trait_to_select}]],'CS shared with other phenotypes') )   + theme(plot.title = element_text(size = 40, face = \"bold\"))\n",
    "  \n",
    "    a%>%ggsave(filename = \"${_output[1]}\",device = \"pdf\",dpi = \"retina\",width=18.5, height=10.5)\n",
    "    list(cs_sharing_df)%>%saveRDS(\"${_output[0]}\")"
   ]
  },
  {
   "cell_type": "code",
   "execution_count": null,
   "id": "d540e6b9-d917-4776-88d6-fb7f7b6dbe07",
   "metadata": {
    "kernel": "SoS"
   },
   "outputs": [],
   "source": [
    "[tmp_annotatation_of_snps_1]\n",
    "parameter: SNP_list = path\n",
    "parameter: annotation_rds = path\n",
    "input: SNP_list\n",
    "output: f'{cwd}/{_input:b}.annotated.rds'\n",
    "task: trunk_workers = 1, trunk_size = job_size, walltime = walltime, mem = mem, cores = numThreads, tags = f'{step_name}_{_output:bn}'\n",
    "R: expand = '${ }', stdout = f\"{_output}.stdout\", stderr = f\"{_output}.stderr\", container = container\n",
    "    library(\"dplyr\")\n",
    "    library(\"readr\") \n",
    "    library(\"purrr\")\n",
    "    library(\"stringr\")\n",
    "    sharing_snp = readRDS(\"${_input}\")\n",
    "    sharing_snp_fsusie = sharing_snp[[1]]%>%filter(haQTL == 1 | mQTL == 1)\n",
    "    sharing_snp_fsusie = sharing_snp_fsusie%>%mutate(X1 =  read.table(text = sharing_snp_fsusie$variants, sep = \":\")$V1, X2 = read.table(text = read.table(text = sharing_snp_fsusie$variants, sep = \":\")$V2 , sep = \"_\")$V1  )\n",
    "    sharing_snp_fsusie = sharing_snp_fsusie%>%select(variants,chr = X1, pos = X2)\n",
    "    annotation = readRDS(\"${annotation_rds}\")\n",
    "    print(\"data loaded\")\n",
    "    result = sharing_snp_fsusie%>%mutate(annot = map2( chr,pos , ~ annotation%>%filter(X1 == .x, X2 <= .y, X3 >= .y)%>%pull(X5)))%>%mutate(annot = map_chr(annot, ~paste0(.x ,collapse = \",\")) )\n",
    "    print(\"snp annotated\")\n",
    "    result%>%saveRDS(\"${_output}\")"
   ]
  },
  {
   "cell_type": "code",
   "execution_count": null,
   "id": "08371733-5ae9-4beb-8946-e361ab220e6a",
   "metadata": {
    "kernel": "SoS"
   },
   "outputs": [],
   "source": [
    "[tmp_annotatation_of_snps_2]\n",
    "parameter: SNP_list = path\n",
    "parameter: annotation_rds = path\n",
    "output: f'{cwd}/{_input:b}.annotated_rev.rds'\n",
    "task: trunk_workers = 1, trunk_size = job_size, walltime = walltime, mem = mem, cores = numThreads, tags = f'{step_name}_{_output:bn}'\n",
    "R: expand = '${ }', stdout = f\"{_output}.stdout\", stderr = f\"{_output}.stderr\", container = container\n",
    "    library(\"dplyr\")\n",
    "    library(\"readr\") \n",
    "    library(\"purrr\")\n",
    "    library(\"stringr\")\n",
    "    result = readRDS(${_input:r})\n",
    "    result_rev = tibble(annot = unique(annotation$X5))%>%mutate(variants = map(annot, ~  result%>%filter( str_detect(annot,.x))%>%pull(variants)) )%>%mutate( variants = map_chr(variants,~paste0(.x ,collapse = \",\"))  )\n",
    "    result_rev%>%saveRDS(\"${_output}\")"
   ]
  },
  {
   "cell_type": "code",
   "execution_count": null,
   "id": "eae6f3d2-f362-49be-8c12-a3073bbd87d7",
   "metadata": {
    "kernel": "SoS"
   },
   "outputs": [],
   "source": [
    "[fsusie_extract_effect]\n",
    "parameter: rds_path = paths\n",
    "parameter: annot_tibble = path\n",
    "input: rds_path, group_by = 1\n",
    "output: f'{cwd}/{_input:bn}.estimated_effect.tsv',f'{cwd}/{_input:bn}.estimated_effect.pdf'\n",
    "task: trunk_workers = 1, trunk_size = job_size, walltime = walltime, mem = mem, cores = numThreads, tags = f'{step_name}_{_output:bn}'\n",
    "R: expand = '${ }', stdout = f\"{_output[0]}.stdout\", stderr = f\"{_output[0]}.stderr\", container = container\n",
    "    library(\"stringr\")\n",
    "    library(\"dplyr\")\n",
    "    library(\"readr\") \n",
    "    library(\"ggplot2\")\n",
    "    library(\"purrr\")\n",
    "    library(\"tidyr\")\n",
    "    color = c(\"black\", \"dodgerblue2\", \"green4\", \"#6A3D9A\", \n",
    "          \"#FF7F00\", \"gold1\", \"skyblue2\", \"#FB9A99\", \"palegreen2\",\n",
    "          \"#CAB2D6\", \"#FDBF6F\", \"gray70\", \"khaki2\", \"maroon\", \"orchid1\",\n",
    "          \"deeppink1\", \"blue1\", \"steelblue4\", \"darkturquoise\", \"green1\", \n",
    "          \"yellow4\", \"yellow3\",\"darkorange4\",\"brown\",\"navyblue\",\"#FF0000\",\n",
    "          \"darkgreen\",\"#FFFF00\",\"purple\",\"#00FF00\",\"pink\",\"#0000FF\",\n",
    "          \"orange\",\"#FF00FF\",\"cyan\",\"#00FFFF\",\"#FFFFFF\")\n",
    "    \n",
    "    effect_extract = function(fsusie){\n",
    "        plot_df = fsusie$fitted_func%>%as_tibble(.name_repair = \"universal\")%>%mutate(pos =  fsusie$outing_grid)%>%`colnames<-`(c(paste0(\"Effect_\",1:length(fsusie$cs)),\"pos\"))%>%mutate(`#chr` = str_split(names(fsusie$csd_X)[[1]],\":\")[[1]][[1]] )%>%select(`#chr`, pos, everything())\n",
    "        plot=  plot_df%>%pivot_longer(cols = 3:ncol(plot_df),names_to = \"effect\", values_to = \"values\"   ) %>%ggplot(aes(x = pos, y = values,color = effect))+\n",
    "        geom_line()+ylab(\"Estimated Effect\") + xlab(\"POS\")+facet_grid(effect~. )+\n",
    "            scale_color_manual(\"Credible set\",values = color[2:length(color)])+\n",
    "            theme(strip.text.y.right = element_text(angle = 0))+\n",
    "            xlab(\"\") + \n",
    "            ylab(\"Estimated Effect\")+ \n",
    "            theme(text = element_text(size = 20))+\n",
    "            ggtitle(paste0( \"Estimated effect for ${f'{_input:br}'.split('.')[-4]}\"))\n",
    "        return(list(plot_df,plot))\n",
    "        }\n",
    "    susie_obj =  readRDS(\"${_input}\")\n",
    "    output = effect_extract(susie_obj)\n",
    "    effect_tbl = output[[1]]\n",
    "    annot = read_delim(\"${annot_tibble}\")\n",
    "    annot = annot%>%filter(seqnames == (effect_tbl$`#chr`)[[1]], start > min(effect_tbl$pos), end < max(effect_tbl$pos))\n",
    "    plot_range = c(min(effect_tbl$pos),  max(effect_tbl$pos))\n",
    "    annot_plot   = annot%>%filter(!type%in%c(\"hg38_genes_introns\",\"hg38_genes_1to5kb\"))%>%\n",
    "                        ggplot(aes())+\n",
    "                        geom_segment( aes(x = start,xend = end, y = \"Regulartory Element\", yend = \"Regulartory Element\", color = type ), linewidth =10)+\n",
    "                        ylab(\"\")+xlab(\"\")+xlim(plot_range)+theme(axis.text.x=element_blank(),text = element_text(size = 20))+scale_color_brewer(palette=\"Dark2\")\n",
    "    gene_plot = annot%>%filter(type%in%c(\"hg38_genes_1to5kb\"))%>%group_by(symbol)%>%\n",
    "                            summarise(start = min(start), end = max(end))%>%na.omit%>%\n",
    "                            ggplot(aes())+geom_segment( aes(x = start,xend = end, y = \"Gene\", yend = \"Gene\", color = symbol ), linewidth =10)+\n",
    "                            geom_label(aes(x = (start+end)/2,y = \"Gene\", label = symbol ),size = 5)+ylab(\"\")+xlab(\"POS\")+\n",
    "                            theme(legend.position=\"none\")+theme(text = element_text(size = 20))+xlim(plot_range)\n",
    "    effect_tbl%>%write_delim(\"${_output[0]}\",\"\\t\")\n",
    "    cowplot::plot_grid(plotlist = list(output[[2]],annot_plot,gene_plot),ncol = 1, align = \"v\",axis = \"tlbr\",rel_heights = c(8,1,1))%>%ggsave(filename = \"${_output[1]}\",device = \"pdf\",dpi = \"retina\",width = 30, height = 30)"
   ]
  }
 ],
 "metadata": {
  "kernelspec": {
   "display_name": "SoS",
   "language": "sos",
   "name": "sos"
  },
  "language_info": {
   "codemirror_mode": "sos",
   "file_extension": ".sos",
   "mimetype": "text/x-sos",
   "name": "sos",
   "nbconvert_exporter": "sos_notebook.converter.SoS_Exporter",
   "pygments_lexer": "sos"
  },
  "sos": {
   "kernels": [
    [
     "Bash",
     "bash",
     "Bash",
     "#E6EEFF",
     ""
    ],
    [
     "R",
     "ir",
     "R",
     "#DCDCDA",
     ""
    ],
    [
     "SoS",
     "sos",
     "",
     "",
     "sos"
    ]
   ],
   "version": "0.23.3"
  }
 },
 "nbformat": 4,
 "nbformat_minor": 5
}
