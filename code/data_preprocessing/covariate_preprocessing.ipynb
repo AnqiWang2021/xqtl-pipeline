{
 "cells": [
  {
   "attachments": {},
   "cell_type": "markdown",
   "id": "similar-preserve",
   "metadata": {
    "kernel": "SoS"
   },
   "source": [
    "# Covariate Data Preprocessing\n",
    "\n",
    "This notebook contains workflow of processing covariate files and computes PCA-derived covariates from phenotype data."
   ]
  },
  {
   "attachments": {},
   "cell_type": "markdown",
   "id": "9ae24abc",
   "metadata": {},
   "source": [
    "#### Miniprotocol Timing\n",
    "This represents the total duration for all miniprotocol phases. While module-specific timings are provided separately on their respective pages, they are also included in this overall estimate. \n",
    "\n",
    "Timing < X minutes"
   ]
  },
  {
   "attachments": {},
   "cell_type": "markdown",
   "id": "joined-consciousness",
   "metadata": {
    "kernel": "SoS"
   },
   "source": [
    "## Overview\n",
    "\n",
    "This workflow is an application of the covariate related sections from the xQTL project pipeline.\n",
    "\n",
    "1. `covariate_formatting.ipynb` (): \n",
    "2. `covariate_hidden_factor.ipynb` ():\n"
   ]
  },
  {
   "attachments": {},
   "cell_type": "markdown",
   "id": "eb28a1bb",
   "metadata": {},
   "source": [
    "## Data Input\n",
    "- `output/protocol_example.protein.bed.gz`\n",
    "- PCs from genotypes genereated in the [genotype_pca](https://github.com/cumc/brain-xqtl-analysis/tree/main/analysis/Wang_Columbia/ROSMAP/pqtl/genotype_pca) step.\n",
    "- Fixed covarate file including information such as sex, age at death, pmi etc"
   ]
  },
  {
   "attachments": {},
   "cell_type": "markdown",
   "id": "funny-station",
   "metadata": {
    "kernel": "SoS"
   },
   "source": [
    "## Data Output\n",
    "- `output/` This contains all covariates from Genotype PCs, known covariates, and hidden factors."
   ]
  },
  {
   "attachments": {},
   "cell_type": "markdown",
   "id": "7061ca4f",
   "metadata": {},
   "source": [
    "## Steps"
   ]
  },
  {
   "attachments": {},
   "cell_type": "markdown",
   "id": "preliminary-engine",
   "metadata": {
    "kernel": "SoS"
   },
   "source": [
    "### i. Merge Covariates and Genotype PCA\n",
    "You can edit the total amount of variation you want your PCs to explain by editing the `--k ` parameter. In this example, we chose 80%."
   ]
  },
  {
   "cell_type": "code",
   "execution_count": null,
   "id": "adjustable-kruger",
   "metadata": {
    "kernel": "Bash"
   },
   "outputs": [],
   "source": [
    "sos run pipeline/covariate_formatting.ipynb merge_genotype_pc \\\n",
    "    --cwd output/covariate \\\n",
    "    --pcaFile output/genotype_pca/protocol_example.genotype.chr21_22.pQTL.plink_qc.prune.pca.rds \\\n",
    "    --covFile  input/protocol_example.samples.tsv \\\n",
    "    --tol_cov 0.4  \\\n",
    "    --k `awk '$3 < 0.8' output/genotype_pca/protocol_example.genotype.chr21_22.pQTL.plink_qc.prune.pca.scree.txt | tail -1 | cut -f 1 ` \\\n",
    "    --container containers/bioinfo.sif"
   ]
  },
  {
   "attachments": {},
   "cell_type": "markdown",
   "id": "visible-practitioner",
   "metadata": {
    "kernel": "SoS"
   },
   "source": [
    "### ii. Compute residule on merged covariates and perform hidden factor analysis"
   ]
  },
  {
   "cell_type": "code",
   "execution_count": null,
   "id": "floral-masters",
   "metadata": {
    "kernel": "Bash"
   },
   "outputs": [],
   "source": [
    "sos run pipeline/covariate_hidden_factor.ipynb Marchenko_PC \\\n",
    "   --cwd output/covariate \\\n",
    "   --phenoFile output/phenotype/protocol_example.protein.bed.gz  \\\n",
    "   --covFile output/covariate/protocol_example.samples.protocol_example.genotype.chr21_22.pQTL.plink_qc.prune.pca.gz \\\n",
    "   --mean-impute-missing \\\n",
    "   --container containers/PCAtools.sif"
   ]
  },
  {
   "attachments": {},
   "cell_type": "markdown",
   "id": "c1f89b31",
   "metadata": {},
   "source": [
    "## Anticipated Results"
   ]
  }
 ],
 "metadata": {
  "kernelspec": {
   "display_name": "SoS",
   "language": "sos",
   "name": "sos"
  },
  "language_info": {
   "codemirror_mode": "sos",
   "file_extension": ".sos",
   "mimetype": "text/x-sos",
   "name": "sos",
   "nbconvert_exporter": "sos_notebook.converter.SoS_Exporter",
   "pygments_lexer": "sos"
  },
  "sos": {
   "kernels": [
    [
     "Bash",
     "bash",
     "Bash",
     "#E6EEFF",
     "shell"
    ],
    [
     "Python3",
     "python3",
     "Python3",
     "#FFD91A",
     ""
    ]
   ],
   "version": "0.22.4"
  }
 },
 "nbformat": 4,
 "nbformat_minor": 5
}
