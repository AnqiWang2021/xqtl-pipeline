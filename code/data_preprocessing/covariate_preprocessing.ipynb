{
 "cells": [
  {
   "cell_type": "markdown",
   "id": "descending-sample",
   "metadata": {
    "kernel": "SoS",
    "tags": []
   },
   "source": [
    "# Covariate data preprocessing\n",
    "\n",
    "This module documents output from the factor analysis section of command generator MWE and explained the purpose for each of the command. The file used in this page can be found at [here](https://drive.google.com/drive/folders/16ZUsciZHqCeeEWwZQR46Hvh5OtS8lFtA?usp=sharing).\n",
    "\n",
    "**Each commands in the factor analysis tutorials will be generated once per theme. The MWE is considered a one theme analysis** \n",
    "\n"
   ]
  },
  {
   "cell_type": "markdown",
   "id": "0feecc32-f334-4dbe-9e07-ff3946d987eb",
   "metadata": {
    "kernel": "SoS"
   },
   "source": [
    "## Merge covariate\n",
    "This step generate a concatanated principle component + covaraiate (pc-cov) matrixs so that we can use it to generate a residual phenotype, as outlined in the [phenotype processing]() page\n",
    "\n",
    "The tolerance for sample-wide NA rate of any covariates/pc are specified by `tol_cov`.  -1 means quit, otherwise for covariate with missing rate larger than tol_cov will be removed, with missing rate smaller than tol_cov will be mean_imputed.\n",
    "\n",
    "The first k PCs that satisfied >70% PVE will be merged with the covariates for downstream analysis and for estimating the residual expression in the `phenotype_preprocessing` section."
   ]
  },
  {
   "cell_type": "code",
   "execution_count": null,
   "id": "ad761cec-00ea-4aa7-8e13-c051ee717123",
   "metadata": {
    "kernel": "SoS"
   },
   "outputs": [],
   "source": [
    "sos run pipeline/covariate_formatting.ipynb merge_pca_covariate \\\n",
    "        --cwd output/data_preprocessing/MWE/covariates \\\n",
    "        --pcaFile data_preprocessing/MWE/pca/MWE.MWE.related.filtered.extracted.pca.projected.rds \\\n",
    "        --covFile  MWE.covariate.cov.gz \\\n",
    "        --tol_cov 0.3  \\\n",
    "        --k `awk '$3 < 0.7' output/data_preprocessing/MWE/pca/MWE.MWE.related.filtered.extracted.pca.projected.scree.txt | tail -1 | cut -f 1 ` \\\n",
    "        --container containers/bioinfo.sif"
   ]
  },
  {
   "cell_type": "markdown",
   "id": "ac029a46-1b37-4ac2-bd5e-8f197e368dc1",
   "metadata": {
    "kernel": "SoS"
   },
   "source": [
    "## Factor Analysis\n",
    "The [residual expression]() will be used to conduct the factor analysis using either [BiCV (APEX)](https://corbinq.github.io/apex/) or [PEER (MOFA2)](https://biofam.github.io/MOFA2/)(https://biofam.github.io/MOFA2/index.html). The purpose of factor analysis is to uncovered un-measured factor embedded in the phenotype data, potentiall factor could be experiment batch effct, or unmeasure morbidity of the sampels .etc.\n",
    "\n",
    "The primary factor analysis method we used in our analysis is PEER."
   ]
  },
  {
   "cell_type": "code",
   "execution_count": null,
   "id": "74c03e07-4d46-49dc-93d6-3acc9e7a22fb",
   "metadata": {
    "kernel": "SoS"
   },
   "outputs": [],
   "source": [
    "sos run pipeline/BiCV_factor.ipynb BiCV \\\n",
    "   --cwd output/data_preprocessing/MWE/covariates \\\n",
    "   --phenoFile data_preprocessing/MWE/phenotype/MWE.log2cpm.MWE.covariate.cov.MWE.MWE.related.filtered.extracted.pca.projected.resid.bed.gz  \\\n",
    "   --container containers/APEX.sif  \\\n",
    "   --walltime 24h \\\n",
    "   --numThreads 8 \\\n",
    "   --iteration 1000 \\\n",
    "   --N 10"
   ]
  },
  {
   "cell_type": "code",
   "execution_count": null,
   "id": "10125493-f372-4d0e-8ac7-00461a2db8ca",
   "metadata": {
    "kernel": "SoS"
   },
   "outputs": [],
   "source": [
    "sos run pipeline/PEER_factor.ipynb PEER \\\n",
    "   --cwd output/data_preprocessing/MWE/covariates \\\n",
    "   --phenoFile data_preprocessing/MWE/phenotype/MWE.log2cpm.MWE.covariate.cov.MWE.MWE.related.filtered.extracted.pca.projected.resid.bed.gz  \\\n",
    "   --container containers/PEER.sif  \\\n",
    "   --walltime 24h \\\n",
    "   --numThreads 8 \\\n",
    "   --iteration 1000 \\\n",
    "   --N 10"
   ]
  },
  {
   "cell_type": "markdown",
   "id": "c98596f7-9eaa-4088-bfe6-2091cfb3a98f",
   "metadata": {
    "kernel": "SoS"
   },
   "source": [
    "## Merged factor & covariates\n",
    "The factors estimated above will be concatanated with pc-cov matrix for downstream analysis."
   ]
  },
  {
   "cell_type": "code",
   "execution_count": null,
   "id": "849dadb3-79ee-442d-bd5f-b8fc566a2d6e",
   "metadata": {
    "kernel": "SoS"
   },
   "outputs": [],
   "source": [
    "sos run pipeline/covariate_formatting.ipynb merge_factor_covariate \\\n",
    "        --cwd output/data_preprocessing/MWE/covariates \\\n",
    "        --factorFile data_preprocessing/MWE/covariates/MWE.log2cpm.MWE.covariate.cov.MWE.MWE.related.filtered.extracted.pca.projected.resid.bed.PEER.cov.gz \\\n",
    "        --covFile  data_preprocessing/MWE/covariates/MWE.covariate.cov.MWE.MWE.related.filtered.extracted.pca.projected.gz \\\n",
    "        --container containers/bioinfo.sif"
   ]
  }
 ],
 "metadata": {
  "kernelspec": {
   "display_name": "SoS",
   "language": "sos",
   "name": "sos"
  },
  "language_info": {
   "codemirror_mode": "sos",
   "file_extension": ".sos",
   "mimetype": "text/x-sos",
   "name": "sos",
   "nbconvert_exporter": "sos_notebook.converter.SoS_Exporter",
   "pygments_lexer": "sos"
  },
  "sos": {
   "kernels": [
    [
     "Bash",
     "bash",
     "Bash",
     "#E6EEFF",
     ""
    ],
    [
     "SoS",
     "sos",
     "",
     "",
     "sos"
    ]
   ],
   "version": "0.22.6"
  }
 },
 "nbformat": 4,
 "nbformat_minor": 5
}
