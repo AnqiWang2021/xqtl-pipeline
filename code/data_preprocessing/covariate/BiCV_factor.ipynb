{
 "cells": [
  {
   "cell_type": "markdown",
   "id": "integrated-reference",
   "metadata": {
    "kernel": "SoS",
    "tags": []
   },
   "source": [
    "# Factor analysis using Bi-Cross validation"
   ]
  },
  {
   "cell_type": "markdown",
   "id": "prospective-visibility",
   "metadata": {
    "kernel": "SoS"
   },
   "source": [
    "## Overview\n",
    "\n",
    "FIXME: cite Jingshu Wang's paper (2016?)\n",
    "\n",
    "## Input and output\n",
    "\n",
    "Same interface as [PEER factor analysis](PEER_factor.html). "
   ]
  },
  {
   "cell_type": "markdown",
   "id": "nasty-effort",
   "metadata": {
    "kernel": "SoS"
   },
   "source": [
    "## Minimal working example\n",
    "\n",
    "**FIXME: please add it and upload to Google Drive a folder APEX_factor containing the MWE data**"
   ]
  },
  {
   "cell_type": "code",
   "execution_count": null,
   "id": "impressed-photographer",
   "metadata": {
    "kernel": "SoS"
   },
   "outputs": [],
   "source": [
    "[global]\n",
    "# The output directory for generated files. MUST BE FULL PATH\n",
    "parameter: cwd = path\n",
    "# The molecular phenotype matrix\n",
    "parameter: phenoFile = path\n",
    "# The covariate file\n",
    "parameter: covFile = path\n",
    "# The VCF file, required by APEX\n",
    "# https://github.com/hsun3163/neuro-apex/issues/1\n",
    "# https://github.com/cumc/xqtl-pipeline/issues/138\n",
    "parameter: vcfFile = path\n",
    "# For cluster jobs, number commands to run per job\n",
    "parameter: job_size = 1\n",
    "# Wall clock time expected\n",
    "parameter: walltime = \"5h\"\n",
    "# Memory expected\n",
    "parameter: mem = \"16G\"\n",
    "# Number of threads\n",
    "parameter: numThreads = 8\n",
    "# Software container option\n",
    "parameter: container = \"\"\n",
    "parameter: name = \"\"\n",
    "# N PEER factors, If specified as 0 it will use APEX default\n",
    "parameter: N = 0\n",
    "\n",
    "# Default values from PEER:\n",
    "## The number of max iteration\n",
    "\n",
    "parameter: iteration = 10"
   ]
  },
  {
   "cell_type": "code",
   "execution_count": 3,
   "id": "guided-circumstances",
   "metadata": {
    "kernel": "SoS"
   },
   "outputs": [],
   "source": [
    "[BiCV]\n",
    "input: phenoFile, covFile, vcfFile\n",
    "output: f'{cwd:a}/{name}.BiCV.cov.gz'\n",
    "task: trunk_workers = 1, walltime = walltime, mem = mem, cores = numThreads, tags = f'{step_name}_{_output[0]:bn}'\n",
    "bash: container=container, expand= \"$[ ]\", stderr = f'{_output[0]}.stderr', stdout = f'{_output[0]}.stdout'\n",
    "    apex factor \\\n",
    "        --out $[_output[0]:nn] \\\n",
    "        --iter $[iteration] \\\n",
    "        $[(\"--factors %s\" % N) if N > 0 else \"\"] \\\n",
    "        --bed $[_input[0]] \\\n",
    "        --vcf $[_input[2]] \\\n",
    "        --cov $[_input[1]]\n",
    "\n",
    "    gzip -f $[_output[0]]"
   ]
  }
 ],
 "metadata": {
  "kernelspec": {
   "display_name": "SoS",
   "language": "sos",
   "name": "sos"
  },
  "language_info": {
   "codemirror_mode": "sos",
   "file_extension": ".sos",
   "mimetype": "text/x-sos",
   "name": "sos",
   "nbconvert_exporter": "sos_notebook.converter.SoS_Exporter",
   "pygments_lexer": "sos"
  },
  "sos": {
   "kernels": [
    [
     "Bash",
     "bash",
     "Bash",
     "#E6EEFF",
     "shell"
    ],
    [
     "R",
     "ir",
     "R",
     "#DCDCDA",
     "r"
    ],
    [
     "SoS",
     "sos",
     "",
     "",
     "sos"
    ]
   ],
   "version": "0.22.4"
  }
 },
 "nbformat": 4,
 "nbformat_minor": 5
}
