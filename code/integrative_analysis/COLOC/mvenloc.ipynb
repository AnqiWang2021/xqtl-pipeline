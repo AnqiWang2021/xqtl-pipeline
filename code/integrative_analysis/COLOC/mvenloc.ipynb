{
 "cells": [
  {
   "cell_type": "markdown",
   "id": "relevant-grove",
   "metadata": {
    "kernel": "SoS"
   },
   "source": [
    "## Multivariate SuSiE and FastENLOC"
   ]
  },
  {
   "cell_type": "markdown",
   "id": "moral-uniform",
   "metadata": {
    "kernel": "SoS"
   },
   "source": [
    "### Aim:"
   ]
  },
  {
   "cell_type": "markdown",
   "id": "acknowledged-saver",
   "metadata": {
    "kernel": "SoS"
   },
   "source": [
    "This notebook aims to demonstrate a workflow of generating posterior inclusion probabilities (PIPs) from GWAS summary statistics using SuSiE linear regression and construsting SNP signal clusters from global eQTL analysis data obtained from multivariate SuSiE models. "
   ]
  },
  {
   "cell_type": "markdown",
   "id": "necessary-bracelet",
   "metadata": {
    "kernel": "SoS"
   },
   "source": [
    "### Input:"
   ]
  },
  {
   "cell_type": "markdown",
   "id": "cleared-study",
   "metadata": {
    "kernel": "SoS"
   },
   "source": [
    "1) GWAS Summary Statistics with the following columns:\n",
    "- chr: chromosome number\n",
    "- bp: base pair position\n",
    "- a1: effect allele\n",
    "- a2: other allele\n",
    "- beta: effect size\n",
    "- se: standard error of beta\n",
    "- z: z score\n",
    "\n",
    "2) eQTL data from multivariate SuSiE model with the following columns:\n",
    "- chr: chromosome number\n",
    "- bp: base pair position\n",
    "- a1: effect allele\n",
    "- a2: other allele\n",
    "- pip: posterior inclusion probability\n",
    "\n",
    "3) LD correlation matrix "
   ]
  },
  {
   "cell_type": "markdown",
   "id": "accessory-affiliate",
   "metadata": {
    "kernel": "SoS"
   },
   "source": [
    "### Output:"
   ]
  },
  {
   "cell_type": "markdown",
   "id": "ecological-satin",
   "metadata": {
    "kernel": "SoS"
   },
   "source": [
    "Intermediate files:\n",
    "\n",
    "1) GWAS PIP file with the following columns\n",
    "- var_id\n",
    "- ld_block \n",
    "- snp_pip\n",
    "- block_pip\n",
    "\n",
    "2) eQTL annotation file with the following columns\n",
    "- chr\n",
    "- bp\n",
    "- var_id\n",
    "- a1\n",
    "- a2\n",
    "- annotations, in the form: gene:cs_num@tissue=snp_pip[cs_pip:cs_total_snps] \n",
    "\n",
    "\n",
    "Final Outputs:\n",
    "\n",
    "1) Enrichment analysis result prefix.enloc.enrich.rst: estimated enrichment parameters and standard errors.\n",
    "\n",
    "2) Signal-level colocalization result prefix.enloc.sig.out: the main output from the colocalization analysis with the following format\n",
    "- column 1: signal cluster name (from eQTL analysis)\n",
    "- column 2: number of member SNPs\n",
    "- column 3: cluster PIP of eQTLs\n",
    "- column 4: cluster PIP of GWAS hits (without eQTL prior)\n",
    "- column 5: cluster PIP of GWAS hits (with eQTL prior)\n",
    "- column 6: regional colocalization probability (RCP)\n",
    "\n",
    "3) SNP-level colocalization result prefix.enloc.snp.out: SNP-level colocalization output with the following form at\n",
    "- column 1: signal cluster name\n",
    "- column 2: SNP name\n",
    "- column 3: SNP-level PIP of eQTLs\n",
    "- column 4: SNP-level PIP of GWAS (without eQTL prior)\n",
    "- column 5: SNP-level PIP of GWAS (with eQTL prior)\n",
    "- column 6: SNP-level colocalization probability\n",
    "\n",
    "4) Sorted list of colocalization signals with\n",
    "`sort -grk6 prefix.enloc.sig.out`"
   ]
  },
  {
   "cell_type": "markdown",
   "id": "greenhouse-novel",
   "metadata": {
    "kernel": "SoS"
   },
   "source": [
    "### Method:"
   ]
  },
  {
   "cell_type": "markdown",
   "id": "comfortable-phone",
   "metadata": {
    "kernel": "SoS"
   },
   "source": [
    "### Functions:"
   ]
  },
  {
   "cell_type": "markdown",
   "id": "bulgarian-cherry",
   "metadata": {
    "kernel": "SoS"
   },
   "source": [
    "#### 1) Allele Flip "
   ]
  },
  {
   "cell_type": "markdown",
   "id": "deadly-support",
   "metadata": {
    "kernel": "SoS"
   },
   "source": [
    "Takes into consideration 3 situations: \n",
    "\n",
    "1) \"Major\" and \"minor\" alleles flipped\n",
    "\n",
    "2) Different strand but same variant\n",
    "\n",
    "3) Remove variants with A/T and C/G alleles due to ambiguity"
   ]
  },
  {
   "cell_type": "code",
   "execution_count": null,
   "id": "absolute-check",
   "metadata": {
    "kernel": "R"
   },
   "outputs": [],
   "source": [
    "library(tidyverse)\n",
    "library(devtools)\n",
    "library(susieR)"
   ]
  },
  {
   "cell_type": "code",
   "execution_count": null,
   "id": "loaded-coast",
   "metadata": {
    "kernel": "R"
   },
   "outputs": [],
   "source": [
    "\n",
    "allele.qc = function(a1,a2,ref1,ref2) {\n",
    "\t# a1 and a2 are the first data-set\n",
    "\t# ref1 and ref2 are the 2nd data-set\n",
    "\t# Make all the alleles into upper-case, as A,T,C,G:\n",
    "        a1 = toupper(a1)\n",
    "        a2 = toupper(a2)\n",
    "        ref1 = toupper(ref1)\n",
    "        ref2 = toupper(ref2)\n",
    "\t# Strand flip, to change the allele representation in the 2nd data-set\n",
    "\tstrand_flip = function(ref) {\n",
    "\t\tflip = ref\n",
    "\t\tflip[ref == \"A\"] = \"T\"\n",
    "\t\tflip[ref == \"T\"] = \"A\"\n",
    "\t\tflip[ref == \"G\"] = \"C\"\n",
    "\t\tflip[ref == \"C\"] = \"G\"\n",
    "\t\tflip\n",
    "\t}\n",
    "\tflip1 = strand_flip(ref1)\n",
    "\tflip2 = strand_flip(ref2)\n",
    "\tsnp = list()\n",
    "\t# Remove strand ambiguous SNPs (scenario 3)\n",
    "\tsnp[[\"keep\"]] = !((a1==\"A\" & a2==\"T\") | (a1==\"T\" & a2==\"A\") | (a1==\"C\" & a2==\"G\") | (a1==\"G\" & a2==\"C\"))\n",
    "\t# Remove non-ATCG coding\n",
    "\tsnp[[\"keep\"]][ a1 != \"A\" & a1 != \"T\" & a1 != \"G\" & a1 != \"C\" ] = F\n",
    "\tsnp[[\"keep\"]][ a2 != \"A\" & a2 != \"T\" & a2 != \"G\" & a2 != \"C\" ] = F\n",
    "\t# as long as scenario 1 is involved, sign_flip will return TRUE\n",
    "\tsnp[[\"sign_flip\"]] = (a1 == ref2 & a2 == ref1) | (a1 == flip2 & a2 == flip1)\n",
    "\t# as long as scenario 2 is involved, strand_flip will return TRUE\n",
    "\tsnp[[\"strand_flip\"]] = (a1 == flip1 & a2 == flip2) | (a1 == flip2 & a2 == flip1)\n",
    "\t# remove other cases, eg, tri-allelic, one dataset is A C, the other is A G, for example.\n",
    "\texact_match = (a1 == ref1 & a2 == ref2) \n",
    "\tsnp[[\"keep\"]][!(exact_match | snp[[\"sign_flip\"]] | snp[[\"strand_flip\"]])] = F\n",
    "\treturn(snp)\n",
    "}"
   ]
  },
  {
   "cell_type": "markdown",
   "id": "bronze-ecology",
   "metadata": {
    "kernel": "R"
   },
   "source": [
    "#### 2) Construct eQTL data frame"
   ]
  },
  {
   "cell_type": "code",
   "execution_count": null,
   "id": "specialized-citation",
   "metadata": {
    "kernel": "R"
   },
   "outputs": [],
   "source": [
    "eqtl.split = function(eqtl){\n",
    "  rows = length(eqtl)\n",
    "  chr = vector(length = rows)\n",
    "  pos = vector(length = rows)\n",
    "  a1 = vector(length = rows)\n",
    "  a2 = vector(length = rows)\n",
    "  for (i in 1:rows){\n",
    "    split1 = str_split(eqtl[i], \":\")\n",
    "    split2 = str_split(split1[[1]][2], \"_\")\n",
    "    chr[i]= split1[[1]][1]\n",
    "    pos[i] = split2[[1]][1]\n",
    "    a1[i] = split2[[1]][2]\n",
    "    a2[i] = split2[[1]][3]\n",
    "\n",
    "  }\n",
    "  eqtl.df = data.frame(eqtl,chr,pos,a1,a2)\n",
    "}"
   ]
  },
  {
   "cell_type": "markdown",
   "id": "static-collar",
   "metadata": {
    "kernel": "R"
   },
   "source": [
    "#### 3) Remove Duplicate variants "
   ]
  },
  {
   "cell_type": "code",
   "execution_count": null,
   "id": "federal-technique",
   "metadata": {
    "kernel": "R"
   },
   "outputs": [],
   "source": [
    "remove.dup = function(df){\n",
    "  df = df %>% arrange(PosGRCh37, -N)\n",
    "  df = df[!duplicated(df$PosGRCh37),]\n",
    "  return(df)\n",
    "}"
   ]
  },
  {
   "cell_type": "markdown",
   "id": "behind-sector",
   "metadata": {
    "kernel": "R"
   },
   "source": [
    "#### 4) Construct signal clusters (LD $R^{2}$ threshold = 0.5)"
   ]
  },
  {
   "cell_type": "code",
   "execution_count": null,
   "id": "convertible-pencil",
   "metadata": {
    "kernel": "R"
   },
   "outputs": [],
   "source": [
    "greedy = function(alpha) {\n",
    "  len = length(alpha)\n",
    "  r2 = 0.5\n",
    "  c_r2 = 1\n",
    "  ids = vector()\n",
    "  first = 1\n",
    "  less = 0\n",
    "  total = 0\n",
    "  for (i in 1:len) {\n",
    "    max = max(alpha)\n",
    "    total = total + max\n",
    "    idx = which.max(alpha)\n",
    "    if (length(ids) == 0) {\n",
    "      ids = append(ids, idx)\n",
    "    }\n",
    "    \n",
    "    \n",
    "    for (j in 1:length(ids)) {\n",
    "      new_r2 = (ld_f2[ids[j], idx]) ^ 2\n",
    "      # print(new_r2)\n",
    "      if (new_r2 < r2) {\n",
    "        less = 1\n",
    "        break\n",
    "      }\n",
    "      else{\n",
    "        c_r2 = new_r2\n",
    "      }\n",
    "      \n",
    "    }\n",
    "    \n",
    "    if (less == 1) {\n",
    "      total = total - max\n",
    "      break\n",
    "    }\n",
    "    \n",
    "    if (first == 0) {\n",
    "      ids = append(ids, idx)\n",
    "    }\n",
    "    \n",
    "    alpha[idx] = 0\n",
    "    first = 0\n",
    "    \n",
    "  }\n",
    "  return(list(ids, total, c_r2))\n",
    "}\n"
   ]
  },
  {
   "cell_type": "markdown",
   "id": "expired-explorer",
   "metadata": {
    "kernel": "SoS"
   },
   "source": [
    "### Workflow:"
   ]
  },
  {
   "cell_type": "markdown",
   "id": "spoken-atlantic",
   "metadata": {
    "kernel": "R"
   },
   "source": [
    "#### Step 1: Extract common SNPS between the GWAS summary statistics and eQTL data "
   ]
  },
  {
   "cell_type": "code",
   "execution_count": null,
   "id": "selected-olive",
   "metadata": {
    "kernel": "R"
   },
   "outputs": [],
   "source": [
    "# eqtl\n",
    "load(file.choose())\n",
    "eqtl = gene.name\n",
    "\n",
    "# colnames\n",
    "load(\"path/to/scaled/gene\")\n",
    "var = colnames(scaled.gene)\n",
    "\n",
    "#ld\n",
    "ld = readRDS(file.choose())\n",
    "\n",
    "# initial filter of gwas variants that are in eqtl\n",
    "gwas_filter = gwas[which(gwas$id %in% var),]\n",
    "\n",
    "# create eqtl df\n",
    "eqtl.df = eqtl.split(var)\n",
    "\n",
    "# allele flip\n",
    "f_gwas = gwas %>% filter(chr %in% eqtl.df$chr & PosGRCh37 %in% eqtl.df$pos)\n",
    "eqtl.df.f = eqtl.df %>% filter(pos %in% f_gwas$PosGRCh37)\n",
    "\n",
    "# check if there are duplicate pos\n",
    "length(unique(f_gwas$PosGRCh37))\n",
    "\n",
    "# multiple snps with same pos\n",
    "dup.pos = f_gwas %>% group_by(PosGRCh37) %>% filter(n() > 1) \n",
    "\n",
    "f_gwas = remove.dup(f_gwas)\n",
    "\n",
    "qc = allele.qc(f_gwas$testedAllele, f_gwas$otherAllele, eqtl.df.f$a1, eqtl.df.f$a2)\n",
    "keep = as.data.frame(qc$keep)\n",
    "sign = as.data.frame(qc$sign_flip)\n",
    "strand = as.data.frame(qc$strand_flip)\n",
    "\n",
    "# sign flip\n",
    "f_gwas$z[qc$sign_flip] = -1 * f_gwas$z[qc$sign_flip]\n",
    "f_gwas$testedAllele[qc$sign_flip] = eqtl.df.f$a1[qc$sign_flip]\n",
    "f_gwas$otherAllele[qc$sign_flip] = eqtl.df.f$a2[qc$sign_flip]\n",
    "\n",
    "f_gwas$testedAllele[qc$strand_flip] = eqtl.df.f$a1[qc$strand_flip]\n",
    "f_gwas$otherAllele[qc$strand_flip] = eqtl.df.f$a2[qc$strand_flip]\n",
    "\n",
    "# remove ambigiuous \n",
    "if ( sum(!qc$keep) > 0 ) {\n",
    "  eqtl.df.f = eqtl.df.f[qc$keep,]\n",
    "  f_gwas = f_gwas[qc$keep,]\n",
    "}\n",
    "\n",
    "# lds filtered\n",
    "eqtl_id = which(var %in% eqtl.df.f$eqtl)\n",
    "ld_f = ld[eqtl_id, eqtl_id]\n",
    "\n",
    "# ld missing\n",
    "miss = which(is.na(ld_f), arr.ind=TRUE)\n",
    "\n",
    "miss_r = unique(as.data.frame(miss)$row)\n",
    "miss_c = unique(as.data.frame(miss)$col)\n",
    "\n",
    "total_miss = unique(union(miss_r,miss_c))\n",
    "\n",
    "if(length(total_miss) != 0){ \n",
    "eqtl_id.f = eqtl.df.f[-total_miss,]\n",
    "}else{eqtl_id.f = eqtl.df.f}\n",
    "\n",
    "# rename ids\n",
    "\n",
    "f_gwas = f_gwas %>% mutate(id = paste(f_gwas$chr, paste(f_gwas$PosGRCh37, f_gwas$testedAllele, f_gwas$otherAllele, sep = \"_\"), sep = \":\"))\n",
    "\n",
    "f_gwas.f = f_gwas %>% filter(id %in% eqtl_id.f$eqtl)\n",
    "\n",
    "\n",
    "if (length(total_miss)!=0){\n",
    "ld_f2 = ld_f[-total_miss,]\n",
    "ld_f2 = ld_f2[,-total_miss]\n",
    "dim(ld_f2)\n",
    "}else{ld_f2 = ld_f}\n",
    "\n",
    "miss = which(is.na(ld_f2), arr.ind=TRUE)\n",
    "\n",
    "# remove multi-allelic snps that aren't present in both eqtl and gwas \n",
    "\n",
    "idx = which(eqtl_id.f$eqtl %notin% f_gwas$id)\n",
    "if(length(idx) != 0){\n",
    "eqtl_id.f = eqtl_id.f[-idx,]\n",
    "ld_f2 = ld_f2[-idx,]\n",
    "ld_f2 = ld_f2[,-idx]\n",
    "}\n",
    "\n"
   ]
  },
  {
   "cell_type": "markdown",
   "id": "marked-stream",
   "metadata": {
    "kernel": "R"
   },
   "source": [
    "#### Step 2: Obtain SNP PIPs from GWAS summary statistics using SuSiE linear regression"
   ]
  },
  {
   "cell_type": "code",
   "execution_count": null,
   "id": "monetary-douglas",
   "metadata": {
    "kernel": "R"
   },
   "outputs": [],
   "source": [
    "susie_results = susieR::susie_rss(z = f_gwas.f$z,R = ld_f2, check_prior = F)"
   ]
  },
  {
   "cell_type": "code",
   "execution_count": null,
   "id": "noted-carol",
   "metadata": {
    "kernel": "R"
   },
   "outputs": [],
   "source": [
    "# susieR::susie_plot(susie_results,\"PIP\")\n",
    "# susie_results$z = f_gwas.f$z\n",
    "# susieR::susie_plot(susie_results,\"z_original\")"
   ]
  },
  {
   "cell_type": "code",
   "execution_count": null,
   "id": "patient-mapping",
   "metadata": {
    "kernel": "R"
   },
   "outputs": [],
   "source": [
    "gwas.annot = cbind(f_gwas.f,susie_results$pip)\n",
    "write.table(gwas.annot, file = \"gwas.pip.txt\", col.names = F, row.names = F, quote = F)"
   ]
  },
  {
   "cell_type": "markdown",
   "id": "former-verification",
   "metadata": {
    "kernel": "R"
   },
   "source": [
    "#### Step 3: Construct eQTL annotation file using eQTL SNP PIPs and credible sets "
   ]
  },
  {
   "cell_type": "code",
   "execution_count": null,
   "id": "fiscal-genetics",
   "metadata": {
    "kernel": "R"
   },
   "outputs": [],
   "source": [
    "cs = eqtl[[\"sets\"]][[\"cs\"]][[\"L1\"]]\n",
    "o_id = which(var %in% eqtl_id.f$eqtl)\n",
    "pip = eqtl$pip[o_id]\n",
    "eqtl_annot = cbind(eqtl_id.f, pip) %>% mutate(gene = gene.name,cluster = -1, cluster_pip = 0, total_snps = 0)\n",
    "\n",
    "for(snp in cs){\n",
    "  eqtl_annot$cluster[snp] = 1\n",
    "  eqtl_annot$cluster_pip[snp] = eqtl[[\"sets\"]][[\"coverage\"]]\n",
    "   eqtl_annot$total_snps[snp] = length(cs)\n",
    "}\n",
    "\n",
    "eqtl_annot3 = eqtl_annot %>% filter(cluster != -1)%>% \n",
    "  mutate(annot = sprintf(\"%s:%d@=%e[%e:%d]\",gene,cluster,pip,cluster_pip,total_snps)) %>%\n",
    "  select(c(chr,pos,eqtl,a1,a2,annot))\n",
    "\n",
    "\n",
    "write.table(eqtl_annot, file = \"eqtl.annot.txt\", col.names = T, row.names = F, quote = F)"
   ]
  },
  {
   "cell_type": "markdown",
   "id": "stretch-network",
   "metadata": {
    "kernel": "R"
   },
   "source": [
    "### Step 4: Colocalization with FastEnloc"
   ]
  },
  {
   "cell_type": "code",
   "execution_count": null,
   "id": "illegal-extent",
   "metadata": {
    "kernel": "Bash"
   },
   "outputs": [],
   "source": [
    "gzip gwas.pip.txt\n",
    "gzip eqtl.annot.txt\n",
    "fastenloc -eqtl eqtl.annot.txt.gz -gwas gwas.pip.txt.gz "
   ]
  },
  {
   "cell_type": "markdown",
   "id": "complimentary-lightweight",
   "metadata": {
    "kernel": "SoS"
   },
   "source": [
    "### Minimal Working Example: "
   ]
  },
  {
   "cell_type": "code",
   "execution_count": null,
   "id": "fallen-criticism",
   "metadata": {
    "kernel": "R"
   },
   "outputs": [],
   "source": [
    "\n",
    "# ENSG00000064687\n",
    "\n",
    "# eqtl\n",
    "load(file.choose())\n",
    "eqtl = m_ENSG00000064687\n",
    "\n",
    "# colnames\n",
    "load(\"geneTpmResidualsAgeGenderAdj_rename.ENSG00000064687.transformed_XY.RData\")\n",
    "var = colnames(scaled_ENSG00000064687[[1]])\n",
    "\n",
    "#ld\n",
    "ld = readRDS(file.choose())\n",
    "\n",
    "# initial filter of gwas variants that are in eqtl\n",
    "gwas_filter = gwas[which(gwas$id %in% var),]\n",
    "\n",
    "# create eqtl df\n",
    "eqtl.df = eqtl.split(var)\n",
    "\n",
    "# allele flip\n",
    "f_gwas = gwas %>% filter(chr %in% eqtl.df$chr & PosGRCh37 %in% eqtl.df$pos)\n",
    "eqtl.df.f = eqtl.df %>% filter(pos %in% f_gwas$PosGRCh37)\n",
    "\n",
    "# check if there are duplicate pos\n",
    "length(unique(f_gwas$PosGRCh37))\n",
    "\n",
    "# multiple snps with same pos\n",
    "dup.pos = f_gwas %>% group_by(PosGRCh37) %>% filter(n() > 1) \n",
    "\n",
    "f_gwas = remove.dup(f_gwas)\n",
    "\n",
    "qc = allele.qc(f_gwas$testedAllele, f_gwas$otherAllele, eqtl.df.f$a1, eqtl.df.f$a2)\n",
    "keep = as.data.frame(qc$keep)\n",
    "sign = as.data.frame(qc$sign_flip)\n",
    "strand = as.data.frame(qc$strand_flip)\n",
    "\n",
    "# sign flip\n",
    "f_gwas$z[qc$sign_flip] = -1 * f_gwas$z[qc$sign_flip]\n",
    "f_gwas$testedAllele[qc$sign_flip] = eqtl.df.f$a1[qc$sign_flip]\n",
    "f_gwas$otherAllele[qc$sign_flip] = eqtl.df.f$a2[qc$sign_flip]\n",
    "\n",
    "f_gwas$testedAllele[qc$strand_flip] = eqtl.df.f$a1[qc$strand_flip]\n",
    "f_gwas$otherAllele[qc$strand_flip] = eqtl.df.f$a2[qc$strand_flip]\n",
    "\n",
    "# remove ambigiuous \n",
    "if ( sum(!qc$keep) > 0 ) {\n",
    "  eqtl.df.f = eqtl.df.f[qc$keep,]\n",
    "  f_gwas = f_gwas[qc$keep,]\n",
    "}\n",
    "\n",
    "# lds filtered\n",
    "eqtl_id = which(var %in% eqtl.df.f$eqtl)\n",
    "ld_f = ld[eqtl_id, eqtl_id]\n",
    "\n",
    "# ld missing\n",
    "miss = which(is.na(ld_f), arr.ind=TRUE)\n",
    "\n",
    "miss_r = unique(as.data.frame(miss)$row)\n",
    "miss_c = unique(as.data.frame(miss)$col)\n",
    "\n",
    "total_miss = unique(union(miss_r,miss_c))\n",
    "\n",
    "if(length(total_miss) != 0){ \n",
    "eqtl_id.f = eqtl.df.f[-total_miss,]\n",
    "}else{eqtl_id.f = eqtl.df.f}\n",
    "\n",
    "# rename ids\n",
    "\n",
    "f_gwas = f_gwas %>% mutate(id = paste(f_gwas$chr, paste(f_gwas$PosGRCh37, f_gwas$testedAllele, f_gwas$otherAllele, sep = \"_\"), sep = \":\"))\n",
    "\n",
    "f_gwas.f = f_gwas %>% filter(id %in% eqtl_id.f$eqtl)\n",
    "\n",
    "\n",
    "if (length(total_miss)!=0){\n",
    "ld_f2 = ld_f[-total_miss,]\n",
    "ld_f2 = ld_f2[,-total_miss]\n",
    "dim(ld_f2)\n",
    "}else{ld_f2 = ld_f}\n",
    "\n",
    "miss = which(is.na(ld_f2), arr.ind=TRUE)\n",
    "\n",
    "# remove multi-allelic snps that aren't present in both eqtl and gwas \n",
    "\n",
    "idx = which(eqtl_id.f$eqtl %notin% f_gwas$id)\n",
    "if(length(idx) != 0){\n",
    "eqtl_id.f = eqtl_id.f[-idx,]\n",
    "ld_f2 = ld_f2[-idx,]\n",
    "ld_f2 = ld_f2[,-idx]\n",
    "}\n",
    "\n",
    "susie_results = susieR::susie_rss(z = f_gwas.f$z,R = ld_f2, check_prior = F)\n",
    "gwas.annot1 = cbind(f_gwas.f,susie_results$pip)\n",
    "\n",
    "cs = eqtl[[\"sets\"]][[\"cs\"]][[\"L1\"]]\n",
    "o_id = which(var %in% eqtl_id.f$eqtl)\n",
    "pip = eqtl$pip[o_id]\n",
    "eqtl_annot = cbind(eqtl_id.f, pip) %>% mutate(gene = \"ENSG00000064687\",cluster = -1, cluster_pip = 0, total_snps = 0)\n",
    "\n",
    "for(snp in cs){\n",
    "  eqtl_annot$cluster[snp] = 1\n",
    "  eqtl_annot$cluster_pip[snp] = eqtl[[\"sets\"]][[\"coverage\"]]\n",
    "   eqtl_annot$total_snps[snp] = length(cs)\n",
    "}\n",
    "\n",
    "eqtl_annot1 = eqtl_annot %>% filter(cluster != -1)%>% \n",
    "  mutate(annot = sprintf(\"%s:%d@=%e[%e:%d]\",gene,cluster,pip,cluster_pip,total_snps)) %>%\n",
    "  select(c(chr,pos,eqtl,a1,a2,annot))\n",
    "\n",
    "\n",
    "# ENSG00000110079\n",
    "# eqtl\n",
    "load(file.choose())\n",
    "eqtl = m_ENSG00000064687\n",
    "\n",
    "# colnames\n",
    "load(\"geneTpmResidualsAgeGenderAdj_rename.ENSG00000110079.transformed_XY.RData\")\n",
    "var = colnames(scaled_ENSG00000110079[[1]])\n",
    "\n",
    "#ld\n",
    "ld = readRDS(file.choose())\n",
    "\n",
    "# initial filter of gwas variants that are in eqtl\n",
    "gwas_filter = gwas[which(gwas$id %in% var),]\n",
    "\n",
    "# create eqtl df\n",
    "eqtl.df = eqtl.split(var)\n",
    "\n",
    "# allele flip\n",
    "f_gwas = gwas %>% filter(chr %in% eqtl.df$chr & PosGRCh37 %in% eqtl.df$pos)\n",
    "eqtl.df.f = eqtl.df %>% filter(pos %in% f_gwas$PosGRCh37)\n",
    "\n",
    "# check if there are duplicate pos\n",
    "length(unique(f_gwas$PosGRCh37))\n",
    "\n",
    "# multiple snps with same pos\n",
    "dup.pos = f_gwas %>% group_by(PosGRCh37) %>% filter(n() > 1) \n",
    "\n",
    "f_gwas = remove.dup(f_gwas)\n",
    "\n",
    "qc = allele.qc(f_gwas$testedAllele, f_gwas$otherAllele, eqtl.df.f$a1, eqtl.df.f$a2)\n",
    "keep = as.data.frame(qc$keep)\n",
    "sign = as.data.frame(qc$sign_flip)\n",
    "strand = as.data.frame(qc$strand_flip)\n",
    "\n",
    "# sign flip\n",
    "f_gwas$z[qc$sign_flip] = -1 * f_gwas$z[qc$sign_flip]\n",
    "f_gwas$testedAllele[qc$sign_flip] = eqtl.df.f$a1[qc$sign_flip]\n",
    "f_gwas$otherAllele[qc$sign_flip] = eqtl.df.f$a2[qc$sign_flip]\n",
    "\n",
    "f_gwas$testedAllele[qc$strand_flip] = eqtl.df.f$a1[qc$strand_flip]\n",
    "f_gwas$otherAllele[qc$strand_flip] = eqtl.df.f$a2[qc$strand_flip]\n",
    "\n",
    "# remove ambigiuous \n",
    "if ( sum(!qc$keep) > 0 ) {\n",
    "  eqtl.df.f = eqtl.df.f[qc$keep,]\n",
    "  f_gwas = f_gwas[qc$keep,]\n",
    "}\n",
    "\n",
    "# lds filtered\n",
    "eqtl_id = which(var %in% eqtl.df.f$eqtl)\n",
    "ld_f = ld[eqtl_id, eqtl_id]\n",
    "\n",
    "# ld missing\n",
    "miss = which(is.na(ld_f), arr.ind=TRUE)\n",
    "\n",
    "miss_r = unique(as.data.frame(miss)$row)\n",
    "miss_c = unique(as.data.frame(miss)$col)\n",
    "\n",
    "total_miss = unique(union(miss_r,miss_c))\n",
    "\n",
    "if(length(total_miss) != 0){ \n",
    "eqtl_id.f = eqtl.df.f[-total_miss,]\n",
    "}else{eqtl_id.f = eqtl.df.f}\n",
    "\n",
    "# rename ids\n",
    "\n",
    "f_gwas = f_gwas %>% mutate(id = paste(f_gwas$chr, paste(f_gwas$PosGRCh37, f_gwas$testedAllele, f_gwas$otherAllele, sep = \"_\"), sep = \":\"))\n",
    "\n",
    "f_gwas.f = f_gwas %>% filter(id %in% eqtl_id.f$eqtl)\n",
    "\n",
    "\n",
    "if (length(total_miss)!=0){\n",
    "ld_f2 = ld_f[-total_miss,]\n",
    "ld_f2 = ld_f2[,-total_miss]\n",
    "dim(ld_f2)\n",
    "}else{ld_f2 = ld_f}\n",
    "\n",
    "miss = which(is.na(ld_f2), arr.ind=TRUE)\n",
    "\n",
    "# remove multi-allelic snps that aren't present in both eqtl and gwas \n",
    "\n",
    "idx = which(eqtl_id.f$eqtl %notin% f_gwas$id)\n",
    "if(length(idx) != 0){\n",
    "eqtl_id.f = eqtl_id.f[-idx,]\n",
    "ld_f2 = ld_f2[-idx,]\n",
    "ld_f2 = ld_f2[,-idx]\n",
    "}\n",
    "\n",
    "susie_results = susieR::susie_rss(z = f_gwas.f$z,R = ld_f2, check_prior = F)\n",
    "gwas.annot2 = cbind(f_gwas.f,susie_results$pip)\n",
    "\n",
    "cs = eqtl[[\"sets\"]][[\"cs\"]][[\"L1\"]]\n",
    "o_id = which(var %in% eqtl_id.f$eqtl)\n",
    "pip = eqtl$pip[o_id]\n",
    "eqtl_annot = cbind(eqtl_id.f, pip) %>% mutate(gene = \"ENSG00000064687\",cluster = -1, cluster_pip = 0, total_snps = 0)\n",
    "\n",
    "for(snp in cs){\n",
    "  eqtl_annot$cluster[snp] = 1\n",
    "  eqtl_annot$cluster_pip[snp] = eqtl[[\"sets\"]][[\"coverage\"]]\n",
    "   eqtl_annot$total_snps[snp] = length(cs)\n",
    "}\n",
    "\n",
    "eqtl_annot2 = eqtl_annot %>% filter(cluster != -1)%>% \n",
    "  mutate(annot = sprintf(\"%s:%d@=%e[%e:%d]\",gene,cluster,pip,cluster_pip,total_snps)) %>%\n",
    "  select(c(chr,pos,eqtl,a1,a2,annot))\n",
    "  \n",
    "\n",
    "# ENSG00000161929\n",
    "# eqtl\n",
    "load(file.choose())\n",
    "eqtl = m_ENSG00000064687\n",
    "\n",
    "# colnames\n",
    "load(\"geneTpmResidualsAgeGenderAdj_rename.ENSG00000161929.transformed_XY.RData\")\n",
    "var = colnames(scaled_ENSG00000161929[[1]])\n",
    "\n",
    "#ld\n",
    "ld = readRDS(file.choose())\n",
    "\n",
    "# initial filter of gwas variants that are in eqtl\n",
    "gwas_filter = gwas[which(gwas$id %in% var),]\n",
    "\n",
    "# create eqtl df\n",
    "eqtl.df = eqtl.split(var)\n",
    "\n",
    "# allele flip\n",
    "f_gwas = gwas %>% filter(chr %in% eqtl.df$chr & PosGRCh37 %in% eqtl.df$pos)\n",
    "eqtl.df.f = eqtl.df %>% filter(pos %in% f_gwas$PosGRCh37)\n",
    "\n",
    "# check if there are duplicate pos\n",
    "length(unique(f_gwas$PosGRCh37))\n",
    "\n",
    "# multiple snps with same pos\n",
    "dup.pos = f_gwas %>% group_by(PosGRCh37) %>% filter(n() > 1) \n",
    "\n",
    "f_gwas = remove.dup(f_gwas)\n",
    "\n",
    "qc = allele.qc(f_gwas$testedAllele, f_gwas$otherAllele, eqtl.df.f$a1, eqtl.df.f$a2)\n",
    "keep = as.data.frame(qc$keep)\n",
    "sign = as.data.frame(qc$sign_flip)\n",
    "strand = as.data.frame(qc$strand_flip)\n",
    "\n",
    "# sign flip\n",
    "f_gwas$z[qc$sign_flip] = -1 * f_gwas$z[qc$sign_flip]\n",
    "f_gwas$testedAllele[qc$sign_flip] = eqtl.df.f$a1[qc$sign_flip]\n",
    "f_gwas$otherAllele[qc$sign_flip] = eqtl.df.f$a2[qc$sign_flip]\n",
    "\n",
    "f_gwas$testedAllele[qc$strand_flip] = eqtl.df.f$a1[qc$strand_flip]\n",
    "f_gwas$otherAllele[qc$strand_flip] = eqtl.df.f$a2[qc$strand_flip]\n",
    "\n",
    "# remove ambigiuous \n",
    "if ( sum(!qc$keep) > 0 ) {\n",
    "  eqtl.df.f = eqtl.df.f[qc$keep,]\n",
    "  f_gwas = f_gwas[qc$keep,]\n",
    "}\n",
    "\n",
    "# lds filtered\n",
    "eqtl_id = which(var %in% eqtl.df.f$eqtl)\n",
    "ld_f = ld[eqtl_id, eqtl_id]\n",
    "\n",
    "# ld missing\n",
    "miss = which(is.na(ld_f), arr.ind=TRUE)\n",
    "\n",
    "miss_r = unique(as.data.frame(miss)$row)\n",
    "miss_c = unique(as.data.frame(miss)$col)\n",
    "\n",
    "total_miss = unique(union(miss_r,miss_c))\n",
    "\n",
    "if(length(total_miss) != 0){ \n",
    "eqtl_id.f = eqtl.df.f[-total_miss,]\n",
    "}else{eqtl_id.f = eqtl.df.f}\n",
    "\n",
    "# rename ids\n",
    "\n",
    "f_gwas = f_gwas %>% mutate(id = paste(f_gwas$chr, paste(f_gwas$PosGRCh37, f_gwas$testedAllele, f_gwas$otherAllele, sep = \"_\"), sep = \":\"))\n",
    "\n",
    "f_gwas.f = f_gwas %>% filter(id %in% eqtl_id.f$eqtl)\n",
    "\n",
    "\n",
    "if (length(total_miss)!=0){\n",
    "ld_f2 = ld_f[-total_miss,]\n",
    "ld_f2 = ld_f2[,-total_miss]\n",
    "dim(ld_f2)\n",
    "}else{ld_f2 = ld_f}\n",
    "\n",
    "miss = which(is.na(ld_f2), arr.ind=TRUE)\n",
    "\n",
    "# remove multi-allelic snps that aren't present in both eqtl and gwas \n",
    "\n",
    "idx = which(eqtl_id.f$eqtl %notin% f_gwas$id)\n",
    "if(length(idx) != 0){\n",
    "eqtl_id.f = eqtl_id.f[-idx,]\n",
    "ld_f2 = ld_f2[-idx,]\n",
    "ld_f2 = ld_f2[,-idx]\n",
    "}\n",
    "\n",
    "susie_results = susieR::susie_rss(z = f_gwas.f$z,R = ld_f2, check_prior = F)\n",
    "gwas.annot3 = cbind(f_gwas.f,susie_results$pip)\n",
    "\n",
    "cs = eqtl[[\"sets\"]][[\"cs\"]][[\"L1\"]]\n",
    "o_id = which(var %in% eqtl_id.f$eqtl)\n",
    "pip = eqtl$pip[o_id]\n",
    "eqtl_annot = cbind(eqtl_id.f, pip) %>% mutate(gene = \"ENSG00000161929\",cluster = -1, cluster_pip = 0, total_snps = 0)\n",
    "\n",
    "for(snp in cs){\n",
    "  eqtl_annot$cluster[snp] = 1\n",
    "  eqtl_annot$cluster_pip[snp] = eqtl[[\"sets\"]][[\"coverage\"]]\n",
    "   eqtl_annot$total_snps[snp] = length(cs)\n",
    "}\n",
    "\n",
    "eqtl_annot3 = eqtl_annot %>% filter(cluster != -1)%>% \n",
    "  mutate(annot = sprintf(\"%s:%d@=%e[%e:%d]\",gene,cluster,pip,cluster_pip,total_snps)) %>%\n",
    "  select(c(chr,pos,eqtl,a1,a2,annot))  \n",
    "\n",
    "\n",
    "eqtl_annot_comb = rbind(eqtl_annot2, eqtl_annot3, eqtl_annot1)\n",
    "gwas_annot_comb = rbind(gwas_annot2, gwas_annot3, gwas_annot1)\n",
    "gwas_annot_comb = gwas_annot_comb %>% select(id,chr,PosGRCh37, pip)\n",
    "\n",
    "write.table(gwas_annot_comb, file = \"gwas.pip.txt\", col.names = F, row.names = F, quote = F)\n",
    "write.table(eqtl_annot_comb, file = \"eqtl.annot.txt\", col.names = T, row.names = F, quote = F)"
   ]
  },
  {
   "cell_type": "code",
   "execution_count": null,
   "id": "arbitrary-stylus",
   "metadata": {
    "kernel": "R"
   },
   "outputs": [],
   "source": [
    "perl format2torus.pl gwas.pip.txt > gwas.pip\n",
    "gzip gwas.pip\n",
    "gzip eqtl.annot.txt\n",
    "fastenloc -eqtl eqtl.annot.txt.gz -gwas gwas.pip.gz "
   ]
  },
  {
   "cell_type": "markdown",
   "id": "blessed-marker",
   "metadata": {
    "kernel": "SoS"
   },
   "source": [
    "Check "
   ]
  },
  {
   "cell_type": "code",
   "execution_count": null,
   "id": "refined-anaheim",
   "metadata": {
    "kernel": "R"
   },
   "outputs": [],
   "source": [
    "susieR::susie_plot(susie_results,\"PIP\")\n",
    "susie_results$z = f_gwas.f$z\n",
    "susieR::susie_plot(susie_results,\"z_original\")"
   ]
  },
  {
   "cell_type": "code",
   "execution_count": null,
   "id": "bronze-construction",
   "metadata": {
    "kernel": "R"
   },
   "outputs": [],
   "source": [
    "eqtl_annot"
   ]
  },
  {
   "cell_type": "markdown",
   "id": "gorgeous-mounting",
   "metadata": {
    "kernel": "SoS"
   },
   "source": [
    "### Summary"
   ]
  },
  {
   "cell_type": "code",
   "execution_count": null,
   "id": "vulnerable-norman",
   "metadata": {
    "kernel": "Bash"
   },
   "outputs": [],
   "source": [
    "head enloc.enrich.out"
   ]
  },
  {
   "cell_type": "code",
   "execution_count": null,
   "id": "hindu-addiction",
   "metadata": {
    "kernel": "Bash"
   },
   "outputs": [],
   "source": [
    "head enloc.sig.out"
   ]
  },
  {
   "cell_type": "code",
   "execution_count": null,
   "id": "aquatic-effort",
   "metadata": {
    "kernel": "Bash"
   },
   "outputs": [],
   "source": [
    "head enloc.snp.out"
   ]
  }
 ],
 "metadata": {
  "kernelspec": {
   "display_name": "SoS",
   "language": "sos",
   "name": "sos"
  },
  "language_info": {
   "codemirror_mode": "sos",
   "file_extension": ".sos",
   "mimetype": "text/x-sos",
   "name": "sos",
   "nbconvert_exporter": "sos_notebook.converter.SoS_Exporter",
   "pygments_lexer": "sos"
  },
  "sos": {
   "kernels": [
    [
     "Bash",
     "bash",
     "Bash",
     "#E6EEFF",
     ""
    ],
    [
     "R",
     "ir",
     "R",
     "#DCDCDA",
     ""
    ]
   ],
   "version": "0.22.4"
  }
 },
 "nbformat": 4,
 "nbformat_minor": 5
}
