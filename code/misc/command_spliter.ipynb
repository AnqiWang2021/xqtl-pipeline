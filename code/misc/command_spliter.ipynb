{
 "cells": [
  {
   "cell_type": "markdown",
   "id": "76fc286c-f768-475f-9d7a-ab51056cd640",
   "metadata": {},
   "source": [
    "# Command spliter\n",
    "This utility module is used to split a series of sos command into different genes to accomodate the need of AWS.\n",
    "## Input\n",
    "1. command_file: A text file containing variouse sos command in the correct order. The output of command generator for 1 analysis is a suitable input as long as the order of operation are correct. It is assums that all the input sos command has a parameter called --region-name and the analysis can be partitioned by this parameter.\n",
    "2. region_list: A table where the last column is the name of the region to be split analysis.\n",
    "3. s3_path: The path of the file on the AWS server\n",
    "4. virtual_machine_path: The path of the file and working directories in the to be established virtual machine.\n",
    "5. wildcard_file (WIP, please ignore)\n",
    "6. output_file: The surfix of the output script.\n",
    "## Output\n",
    "1. all the sos run command in the command_file, in the forms of for each regions in the region list. Each row is a region.\n",
    "   \n",
    "    `copy {s3 path} {vm path} && ({command 1} --region-name {gene_name} && {command 2} --region-name {gene_name} ) || copy {vm path} {s3 path}`\r",
    "## MWE\n",
    "\n",
    "\n",
    "\r\n",
    "\n",
    "   "
   ]
  },
  {
   "cell_type": "code",
   "execution_count": null,
   "id": "5b97775c-c9ec-47c1-9c88-8e6430dfd9a5",
   "metadata": {},
   "outputs": [],
   "source": [
    "sos run command_spliter.ipynb split_command --command_file test_command --s3_path \"working/\" \\\n",
    "    --virtual_machine_path \"analysis/\" \\\n",
    "    --region_list  test_command_region_list"
   ]
  },
  {
   "cell_type": "code",
   "execution_count": null,
   "id": "34ed79ae-ecf1-440b-8d22-9d9cef6647f3",
   "metadata": {},
   "outputs": [],
   "source": [
    "[global]\n",
    "parameter: command_file = path\n",
    "parameter: wildcard_file = path(\"\")\n",
    "parameter: s3_path = str\n",
    "parameter: virtual_machine_path = str\n",
    "parameter: region_list = path\n",
    "parameter: cwd = path(\".\")\n",
    "parameter: output_file = path(\"splited_cripts.sh\")\n",
    "\n",
    "\n",
    "[split_command]\n",
    "input: command_file\n",
    "output: f'{cwd}/{_input:bn}.splited_script'\n",
    "import pandas as pd\n",
    "\n",
    "region = pd.read_csv(region_list,sep = \"\\t\").iloc[:,-1].tolist()\n",
    "\n",
    "# Step 1: Read the commands from a text file\n",
    "commands = []\n",
    "with open(_input, 'r') as file:\n",
    "    command = \"\"\n",
    "    for line in file:\n",
    "        stripped_line = line.strip()\n",
    "        if stripped_line.startswith('sos run'):\n",
    "            if command:\n",
    "                commands.append(command)\n",
    "            command = stripped_line\n",
    "        elif command.endswith('\\\\'):\n",
    "            command = command[:-1].strip() + ' ' + stripped_line\n",
    "    if command:\n",
    "        commands.append(command)\n",
    "\n",
    "# Step 2: Create a DataFrame with region names appended to each command\n",
    "data = {command: [f\"{command} --region-name {r}\" for r in region] for command in commands}\n",
    "df_commands = pd.DataFrame(data, index=region)\n",
    "\n",
    "# Step 3: Creating the concatenated list\n",
    "concatenated_commands = [\" && \".join(row) for _, row in df_commands.iterrows()]\n",
    "\n",
    "# Define your paths for the copy command\n",
    "path1 = s3_path\n",
    "path2 = virtual_machine_path\n",
    "\n",
    "# Step 4: Modifying each command\n",
    "modified_commands = [f\"copy {path1} {path2} && ( {cmd} ) || copy {path2} {path1}\" for cmd in concatenated_commands]\n",
    "\n",
    "output_file = f'{modified_commands}.sh'\n",
    "with open(_output, 'w') as f:\n",
    "    for cmd in modified_commands:\n",
    "        f.write(cmd + '\\n')\n"
   ]
  }
 ],
 "metadata": {
  "kernelspec": {
   "display_name": "Python 3 (ipykernel)",
   "language": "python",
   "name": "python3"
  },
  "language_info": {
   "codemirror_mode": {
    "name": "ipython",
    "version": 3
   },
   "file_extension": ".py",
   "mimetype": "text/x-python",
   "name": "python",
   "nbconvert_exporter": "python",
   "pygments_lexer": "ipython3",
   "version": "3.9.17"
  }
 },
 "nbformat": 4,
 "nbformat_minor": 5
}
