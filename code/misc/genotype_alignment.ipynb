{
 "cells": [
  {
   "cell_type": "markdown",
   "id": "c2c7a237-f93c-4ee5-956a-57df49061540",
   "metadata": {
    "kernel": "SoS",
    "tags": []
   },
   "source": [
    "# Genotype alignment"
   ]
  },
  {
   "cell_type": "markdown",
   "id": "866a6708-af92-4a4d-9e89-57092d2b8c50",
   "metadata": {
    "kernel": "SoS",
    "tags": []
   },
   "source": [
    "## example"
   ]
  },
  {
   "cell_type": "code",
   "execution_count": null,
   "id": "3a8a0d27-5c02-4a13-92a2-64b8d6441fa4",
   "metadata": {
    "kernel": "SoS"
   },
   "outputs": [],
   "source": [
    "sos run pipeline/genotype_alignment genotype_alignment \\\n",
    "    --geno_list_paths ROSMAP/genotype/analysis_ready/geno_by_chrom \\\n",
    "                      MSBB/genotype/analysis_ready/genotype_per_chrom \\\n",
    "                      MIGA/genotype/analysis_ready/geno_per_chrom \\\n",
    "                      Knight/genotype/analysis_ready/geno_per_chrom \\                      \n",
    "                      STARNET/genotype/analysis_ready/geno_per_chrom  \\\n",
    "    -c ~/env_files/csg.yml -q csg "
   ]
  },
  {
   "cell_type": "markdown",
   "id": "0e20d3b0-bb92-463d-afda-3727f3cd6ff7",
   "metadata": {
    "kernel": "SoS",
    "tags": []
   },
   "source": [
    "can use below function to align provided variants to geno ref\n",
    "```\n",
    "#from pecotmr\n",
    "tabix_region <- function(file, region, tabix_header = \"auto\") {\n",
    "  # Execute tabix command and capture the output\n",
    "  cmd_output <- tryCatch(\n",
    "    {\n",
    "      fread(cmd = paste0(\"/mnt/vast/hpc/homes/rf2872/software/htslib-1.9/tabix -h \", file, \" \", region), sep = \"auto\", header = tabix_header)\n",
    "    },\n",
    "    error = function(e) NULL\n",
    "  )\n",
    "\n",
    "  # Check if the output is empty and return an empty tibble if so\n",
    "  if (is.null(cmd_output) || nrow(cmd_output) == 0) {\n",
    "    return(tibble())\n",
    "  }\n",
    "  cmd_output %>%\n",
    "    as_tibble() %>%\n",
    "    mutate(\n",
    "      !!names(.)[1] := as.character(.[[1]]),\n",
    "      !!names(.)[2] := as.numeric(.[[2]]) \n",
    "    )\n",
    "}\n",
    "\n",
    "\n",
    "align_to_genoref <- function(var_list, geno_ref, region ){\n",
    "    geno_ref <- tabix_region(file= geno_ref,\n",
    "                region = region)    \n",
    "    colnames(geno_ref) <- c('chr', 'pos', 'alt', 'ref')\n",
    "    geno_ref <- geno_ref %>% mutate(chr = gsub('chr','',chr))\n",
    "    var_list_df <- data.frame(chr = str_split(var_list,\":|_\",simplify = T)[,1] %>% gsub('chr','',.),\n",
    "        pos = str_split(var_list,\":|_\",simplify = T)[,2],\n",
    "        ref = str_split(var_list,\":|_\",simplify = T)[,3],\n",
    "        alt = str_split(var_list,\":|_\",simplify = T)[,4])\n",
    "    # merge_genotype_data from below cell\n",
    "    aligned_var_df <- merge_genotype_data(geno_ref, var_list_df, all=FALSE)\n",
    "    aligned_var <- aligned_var_df %>%\n",
    "      mutate(id = {\n",
    "        if (grepl(\":\", var_list[1])) {\n",
    "          if (grepl(\"_\", var_list[1])) {\n",
    "            paste(chr, paste(pos, ref, alt, sep = \"_\"),sep = ':')\n",
    "          } else {\n",
    "            paste(chr, pos, ref, alt, sep = \":\")\n",
    "          }\n",
    "        } else {\n",
    "          paste(chr, pos, ref, alt, sep = \"_\")\n",
    "        }\n",
    "      }) %>%\n",
    "      pull(id)\n",
    "    if (grepl(\"chr\", var_list[1]))  aligned_var <- paste0(\"chr\",aligned_var)\n",
    "    return(aligned_var)\n",
    "}\n",
    "```"
   ]
  },
  {
   "cell_type": "code",
   "execution_count": null,
   "id": "50409caa-463a-494d-96fd-cafbd4b97bb8",
   "metadata": {
    "kernel": "SoS"
   },
   "outputs": [],
   "source": [
    "[global]\n",
    "import glob\n",
    "import pandas as pd\n",
    "## Path to work directory where output locates\n",
    "parameter: cwd = path(\"output\")\n",
    "parameter: name = \"demo\"\n",
    "## Containers that contains the necessary packages\n",
    "parameter: container = \"\"\n",
    "import re\n",
    "parameter: entrypoint= ('micromamba run -a \"\" -n' + ' ' + re.sub(r'(_apptainer:latest|_docker:latest|\\.sif)$', '', container.split('/')[-1])) if container else \"\"\n",
    "# For cluster jobs, number commands to run per job\n",
    "parameter: job_size = 50\n",
    "# Wall clock time expected\n",
    "parameter: walltime = \"96h\"\n",
    "# Memory expected\n",
    "parameter: mem = \"6G\"\n",
    "# Number of threads\n",
    "parameter: numThreads = 2\n",
    "parameter: windows = 1000000\n",
    "# use this function to edit memory string for PLINK input\n",
    "from sos.utils import expand_size"
   ]
  },
  {
   "cell_type": "code",
   "execution_count": 1,
   "id": "f6aece91-4b54-4f80-ac8b-e8e8c124a7ef",
   "metadata": {
    "kernel": "SoS"
   },
   "outputs": [],
   "source": [
    "#align different cohort's genotype file to ROSMAP's. chr11 on ROSMAP and MIGA costed 4.5h\n",
    "[genotype_alignment]\n",
    "# Input\n",
    "# A list of folder paths with bim files, with orders, rosmap should be first, and then maybe mssb. \n",
    "parameter: geno_list_paths = []\n",
    "# a function to split the genofiles by chrom\n",
    "import pandas as pd\n",
    "import os\n",
    "import re\n",
    "\n",
    "def group_by_region(lst, partition):\n",
    "    return partition\n",
    "\n",
    "bim_files = []\n",
    "\n",
    "for path in geno_list_paths:\n",
    "    for root, dirs, files in os.walk(path):\n",
    "        for file in files:\n",
    "            if re.search(r'\\d+\\.bim$', file):\n",
    "                bim_files.append(os.path.join(root, file))\n",
    "\n",
    "data = []\n",
    "\n",
    "for path in bim_files:\n",
    "    basename = os.path.basename(path)\n",
    "    chrom = basename.split('.')[-2]\n",
    "    data.append({'geno_list': path, 'chr': chrom})\n",
    "\n",
    "region = pd.DataFrame(data)\n",
    "region = region.groupby('chr')['geno_list'].apply(lambda x: x.tolist()).reset_index()\n",
    "\n",
    "regional_data = {\n",
    "    'geno_list': [row['geno_list'] for _, row in region.iterrows()],\n",
    "    'chr': [row['chr'] for _, row in region.iterrows()]\n",
    "}\n",
    "\n",
    "chr_info = regional_data['chr']\n",
    "\n",
    "input: regional_data[\"geno_list\"], group_by = lambda x: group_by_region(x, regional_data[\"geno_list\"]), group_with = \"chr_info\"\n",
    "# a funtion to get geno prefixs as genos\n",
    "\n",
    "geno_list = regional_data['geno_list'][0]\n",
    "genos = '.'.join([os.path.basename(path).split('.')[0] for path in geno_list])\n",
    "# chrom = os.path.basename(geno_list[0]).split('.')[-2]\n",
    "\n",
    "output: f\"{cwd}/{name}.{genos}.{_chr_info}.aligned.bim.gz\", f\"{cwd}/{name}.{genos}.{_chr_info}.aligned.bim.gz.tbi\"\n",
    "task: trunk_workers = 1, trunk_size = job_size, walltime = walltime, mem = mem, cores = numThreads, tags = f'{step_name}_{_output[0]:bn}'\n",
    "R: expand = '${ }', stdout = f\"{_output[0]:nn}.stdout\", stderr = f\"{_output[0]:nn}.stderr\", container = container, entrypoint = entrypoint\n",
    "    library(tidyverse) \n",
    "    library(data.table)\n",
    "  \n",
    "    merge_genotype_data <- function(df1, df2, all = TRUE) {\n",
    "      setDT(df1)\n",
    "      setDT(df2)\n",
    "      df1[, key := paste(chr, pos, pmin(alt, ref), pmax(alt, ref))]\n",
    "      df2[, key := paste(chr, pos, pmin(alt, ref), pmax(alt, ref))]\n",
    "      df2[df1, on = \"key\", flip := i.alt == ref & i.ref == alt, by = .EACHI]\n",
    "      df2[flip == TRUE, c(\"alt\", \"ref\") := .(ref, alt)]\n",
    "      if (all) {\n",
    "        df_combined <- unique(rbindlist(list(df1[, .(chr, pos, alt, ref)], df2[, .(chr, pos, alt, ref)])), by = c(\"chr\", \"pos\", \"alt\", \"ref\"))\n",
    "      } else {\n",
    "        df_combined <- df2[, .(chr, pos, alt, ref)]\n",
    "      }\n",
    "      return(df_combined)\n",
    "    }\n",
    "\n",
    "   \n",
    "    bim_files = c(${\",\".join(['\"%s\"' % x.absolute() for x in _input])})\n",
    "    rosmap_bim <- fread(bim_files[1], header = FALSE) \n",
    "    colnames(rosmap_bim) <- c('chr', 'id', 'Mics', 'pos', 'alt', 'ref')\n",
    "\n",
    "    for(i in 2:length(bim_files)){\n",
    "      message('Aligning ', bim_files[i])\n",
    "      tmp_bim <- fread(bim_files[i], header = FALSE)\n",
    "      colnames(tmp_bim) <- c('chr', 'id', 'Mics', 'pos', 'alt', 'ref')\n",
    "      rosmap_bim <- merge_genotype_data(rosmap_bim, tmp_bim)\n",
    "    }\n",
    "    fwrite(rosmap_bim, ${_output[0]:nr})\n",
    "    system(\"bgzip ROSMAP_NIA_WGS.leftnorm.bcftools_qc.plink_qc.11.bim\")\n",
    "    system(\"tabix -s 1 -b 4 -e 4 ROSMAP_NIA_WGS.leftnorm.bcftools_qc.plink_qc.11.bim.gz\")"
   ]
  }
 ],
 "metadata": {
  "kernelspec": {
   "display_name": "SoS",
   "language": "sos",
   "name": "sos"
  },
  "language_info": {
   "codemirror_mode": "sos",
   "file_extension": ".sos",
   "mimetype": "text/x-sos",
   "name": "sos",
   "nbconvert_exporter": "sos_notebook.converter.SoS_Exporter",
   "pygments_lexer": "sos"
  },
  "sos": {
   "kernels": [
    [
     "SoS",
     "sos",
     "",
     ""
    ]
   ],
   "version": "0.24.3"
  }
 },
 "nbformat": 4,
 "nbformat_minor": 5
}
