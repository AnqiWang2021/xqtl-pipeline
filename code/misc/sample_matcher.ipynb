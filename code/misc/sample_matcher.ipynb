{
 "cells": [
  {
   "cell_type": "markdown",
   "id": "chubby-authorization",
   "metadata": {
    "kernel": "SoS",
    "tags": []
   },
   "source": [
    "# Sample Matcher\n",
    "This module trimmed phenotype/genotype files so that they only have what is in a sample_lookup list, as shown [in this ticket](https://github.com/cumc/xqtl-pipeline/issues/137)"
   ]
  },
  {
   "cell_type": "markdown",
   "id": "devoted-brighton",
   "metadata": {
    "kernel": "SoS"
   },
   "source": [
    "## Input\n",
    "1. sample_lookup file\n",
    "\n",
    "    A tab delimated table wit two columns `sample_name_in_pheno(and cov), sample_name_in_geno` that takes only the OVERLAP between these data-set. This will also serve as a sample name matching file if sample names dont agree.\n",
    "    \n",
    "2. phenotype_file\n",
    "    \n",
    "    A gct like table, Output of bulk_expression_QC or external input before gene_annotation.\n",
    "    \n",
    "    Noted, for preping input to normalization, phenotype_trimming need to be run on geneCount and geneTPM each independently\n",
    "    \n",
    "3. genotype_file\n",
    "    \n",
    "    A plink file, as output of VCF_QC module\n",
    "\n",
    "## Output\n",
    "    \n",
    "1. A gct like phenoFile that is ready to be fed into Normalization/gene_annotation\n",
    "2. A plink genoFile that is ready to be fed into downstream analysis"
   ]
  },
  {
   "cell_type": "markdown",
   "id": "registered-berkeley",
   "metadata": {
    "kernel": "SoS"
   },
   "source": [
    "## MWE\n",
    "**FIXME:WIP**"
   ]
  },
  {
   "cell_type": "code",
   "execution_count": null,
   "id": "driving-chancellor",
   "metadata": {
    "kernel": "SoS"
   },
   "outputs": [],
   "source": [
    "[global]\n",
    "# The output directory for generated files. MUST BE FULL PATH\n",
    "parameter: cwd = path(\"output\")\n",
    "# Input 1\n",
    "parameter: sample_participant_lookup = path\n",
    "# For cluster jobs, number commands to run per job\n",
    "parameter: job_size = 1\n",
    "# Wall clock time expected\n",
    "parameter: walltime = \"5h\"\n",
    "# Memory expected\n",
    "parameter: mem = \"16G\"\n",
    "# Number of threads\n",
    "parameter: numThreads = 8\n",
    "# Software container option\n",
    "parameter: container = \"\"\n",
    "parameter: name = \"\""
   ]
  },
  {
   "cell_type": "code",
   "execution_count": null,
   "id": "signed-showcase",
   "metadata": {
    "kernel": "SoS"
   },
   "outputs": [],
   "source": [
    "[phenotype_trimming]\n",
    "# The molecular phenotype matrix\n",
    "parameter: phenoFile = path\n",
    "input: phenoFile,sample_participant_lookup\n",
    "output: f'{_input[0]:nn}.sample_matched.gct.gz'\n",
    "task: trunk_workers = 1, trunk_size = job_size, walltime = walltime, mem = mem, cores = numThreads, tags = f'{step_name}_{_output:bn}'\n",
    "R: expand = \"$[ ]\", stderr = f'{_output:nn}.stderr', stdout = f'{_output:nn}.stdout', container = container\n",
    "    library(\"dplyr\")\n",
    "    library(\"readr\")\n",
    "    phenoFile = read_delim($[_input[0]:ar], \"\\t\", col_names = T, comment = \"#\")\n",
    "    sample_lookup = read_delim($[_input[1]:ar], \"\\t\" ,col_names = T, comment = \"#\")\n",
    "    ## Make phenoFile consistant with sampleLookup, remove samples by select()\n",
    "    int = intersect(colnames(phenoFile),unlist(sample_lookup[,1]))\n",
    "    phenoFile_tmp = phenoFile%>%select(c(colnames(phenoFile)[1],all_of(int)))\n",
    "    ## Add 2 header lines, https://github.com/getzlab/rnaseqc/blob/286f99dfd4164d33014241dd4f3149da0cddf5bf/src/RNASeQC.cpp#L426\n",
    "    cat(paste(\"#1.2\\n#\", nrow(phenoFile_tmp), ncol(phenoFile_tmp) - 2, \"\\n\"), file=$[_output:nr], append=FALSE)\n",
    "    phenoFile_tmp%>%write_delim($[_output:nr],delim = \"\\t\",col_names = T, append = T)"
   ]
  },
  {
   "cell_type": "code",
   "execution_count": null,
   "id": "african-trouble",
   "metadata": {
    "kernel": "SoS"
   },
   "outputs": [],
   "source": [
    "[genotype_trimming]\n",
    "# The path to bed of plink trio\n",
    "parameter: genoFile = path\n",
    "input: genoFile, sample_participant_lookup\n",
    "output: f'{cwd}/{_input[0]:bn}.sample_filtered.bed'\n",
    "task: trunk_workers = 1, trunk_size = job_size, walltime = walltime, mem = mem, cores = numThreads, tags = f'{step_name}_{_output:bn}'\n",
    "bash:  expand= \"${ }\", stderr = f'{_output[0]:n}.stderr', stdout = f'{_output[0]:n}.stdout', container = container\n",
    "    paste ${_input[1]} ${_input[1]} | cut -f 2,4 > ${_input[1]}_geno\n",
    "    plink \\\n",
    "      --bfile ${_input[0]:n} \\\n",
    "      --keep ${_input[1]}_geno \\\n",
    "      --make-bed \\\n",
    "      --out ${_output:n} \\\n",
    "      --threads ${numThreads} \\\n",
    "      --memory ${int(expand_size(mem) * 0.9)/1e6}\n",
    "    rm ${_input[1]}_geno"
   ]
  },
  {
   "cell_type": "markdown",
   "id": "cf7b906e",
   "metadata": {},
   "source": [
    "The look up table should contain two columns: `sample_id`, `genotype_id`. If the look up table is not provided (file not found) then we will assume the names have already been matched."
   ]
  },
  {
   "cell_type": "code",
   "execution_count": null,
   "id": "answering-broadcasting",
   "metadata": {
    "kernel": "SoS"
   },
   "outputs": [],
   "source": [
    "# This workflow extracts overlapping samples for genotype data with phenotype data, and output the filtered sample genotype list as well as sample phenotype list\n",
    "[genotype_phenotype_sample_overlap]\n",
    "# A genotype fam file\n",
    "parameter: genoFile = path\n",
    "# A phenotype file, can be bed.gz or tsv\n",
    "parameter: phenoFile = path\n",
    "# If this file is provided, a genotype/phenotype sample name match will be performed\n",
    "# It must contain two column names: genotype_id, sample_id\n",
    "parameter: sample_participant_lookup = path(\".\")\n",
    "input: genoFile, phenoFile\n",
    "output: f'{cwd:a}/{path(_input[2]):bn}.sample_phenotypes.txt', f'{cwd:a}/{path(_input[2]):bn}.sample_genotypes.txt'\n",
    "task: trunk_workers = 1, trunk_size = job_size, walltime = walltime, mem = mem, cores = numThreads, tags = f'{step_name}_{_output:bn}'\n",
    "R: expand = \"${ }\", stderr = f'{_output[0]:nn}.stderr', stdout = f'{_output[0]:nn}.stdout', container = container\n",
    "\n",
    "    # Load required libraries\n",
    "    library(dplyr)\n",
    "    library(readr)\n",
    "\n",
    "    # Read data files; let read_delim auto-determine the delimiter\n",
    "    genoFam <- read_delim(${input[0]:ar}, col_names = FALSE)\n",
    "    phenoFile <- read_delim(${input[1]:ar}, col_names = TRUE)\n",
    "    if (file.exists(${sample_participant_lookup:ar})) {\n",
    "        sample_lookup <- read_delim(${sample_participant_lookup:ar}, \"\\t\", col_names = TRUE)\n",
    "    } else {\n",
    "        sample_lookup <- cbind(genoFam$X2, genoFam$X2)\n",
    "        colnames(sample_lookup) <- c(\"genotype_id\", \"phenotype_id\")\n",
    "    }\n",
    "    sample_lookup <- sample_lookup %>%\n",
    "    filter(\n",
    "        genotype_id %in% genoFam$X2,\n",
    "        sample_id %in% colnames(phenoFile)\n",
    "    )\n",
    "\n",
    "    output_genotype <- cbind(genoFam[1, ], sample_lookup$genotype_id)\n",
    "    output_genotype %>%\n",
    "    as_tibble() %>%\n",
    "    write_delim(${output[1]:r}, \"\\t\")\n",
    "\n",
    "    sample_lookup %>%\n",
    "    write_delim(${output[0]:r}, \"\\t\")"
   ]
  }
 ],
 "metadata": {
  "kernelspec": {
   "display_name": "SoS",
   "language": "sos",
   "name": "sos"
  },
  "language_info": {
   "codemirror_mode": "sos",
   "file_extension": ".sos",
   "mimetype": "text/x-sos",
   "name": "sos",
   "nbconvert_exporter": "sos_notebook.converter.SoS_Exporter",
   "pygments_lexer": "sos"
  },
  "sos": {
   "kernels": [
    [
     "SoS",
     "sos",
     "",
     ""
    ]
   ],
   "version": "0.22.4"
  }
 },
 "nbformat": 4,
 "nbformat_minor": 5
}
