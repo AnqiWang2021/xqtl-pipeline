{
 "cells": [
  {
   "cell_type": "markdown",
   "id": "nearby-right",
   "metadata": {
    "kernel": "SoS",
    "tags": []
   },
   "source": [
    "## Allele filp QC YML generator\n",
    "This module takes in a table of sumstat, with the columns: #chr, theme1, theme2, theme3 and each rows as 1 chr and the sumstat of corresponding chr and generate a list of yml to be used"
   ]
  },
  {
   "cell_type": "code",
   "execution_count": null,
   "id": "premier-uniform",
   "metadata": {
    "kernel": "SoS"
   },
   "outputs": [],
   "source": [
    "[global]\n",
    "# List of path to the index of sumstat, each correspond to 1 recipe file documenting the path to the sumstat of each chromosome.\n",
    "parameter: sumstat_list = paths\n",
    "# List of names that corresponding to each of the studies\n",
    "parameter: name = list\n",
    "parameter: cwd = path\n",
    "import pandas as pd\n",
    "input_list = sumstat_list\n",
    "sumstat_list = pd.read_csv(input_list[0],sep = \"\\t\")\n",
    "sumstat_list = sumstat_list.sort_values('#chr')\n",
    "for x in range(1,len(input_list)):\n",
    "    sumstat_list = sumstat_list.merge(pd.read_csv(input_list[x],sep = \"\\t\"), on = \"#chr\")\n",
    "sumstat_list.columns = [\"#chr\"] + name\n",
    "sumstat_inv = sumstat_list.values.tolist()\n",
    "names = \"_\".join(name)\n",
    "## Assuming all the input sumstat are using the same header\n",
    "parameter: CHR = \"chrom\"\n",
    "parameter: POS = \"pos\"\n",
    "parameter: A0 = \"ref\" \n",
    "parameter: A1 = \"alt\"\n",
    "parameter: SNP = \"variant_id\"\n",
    "parameter: STAT = \"beta\"\n",
    "parameter: SE = \"se\"\n",
    "parameter: P = \"pval\"\n",
    "parameter: KEEP_AMBIGUOUS = \"True\"\n",
    "parameter: GENE = \"phenotype_id\"\n",
    "parameter: container = \"\""
   ]
  },
  {
   "cell_type": "code",
   "execution_count": null,
   "id": "mexican-letter",
   "metadata": {
    "kernel": "SoS"
   },
   "outputs": [],
   "source": [
    "[yml_generator]\n",
    "input: for_each  = \"sumstat_inv\"\n",
    "output: f'{cwd:a}/{names}.{_sumstat_inv[0]}/{names}.{_sumstat_inv[0]}.yml'\n",
    "python: expand = \"$[ ]\", stderr = f'{_output}.stderr', stdout = f'{_output}.stdout' , container = container\n",
    "    header=\"INPUT:\"\n",
    "    body = [f'\\n  - {x}:\\n\\\n",
    "          ID: GENE,CHR,POS,A0,A1\\n\\\n",
    "          CHR: $[CHR]\\n\\\n",
    "          POS: $[POS]\\n\\\n",
    "          A0: $[A0]\\n\\\n",
    "          A1: $[A1]\\n\\\n",
    "          SNP: $[SNP]\\n\\\n",
    "          STAT: $[STAT]\\n\\\n",
    "          SE: $[SE]\\n\\\n",
    "          P: $[P]\\n\\\n",
    "          GENE: $[GENE]\\n\\\n",
    "          THEME: {y}' for x,y in zip($[_sumstat_inv[1:len(_sumstat_inv)]],$[name])]\n",
    "    TARGET = \"TARGET:\" + body[0]\n",
    "    OUTPUT = \"OUTPUT: $[_output:d]\"\n",
    "    text = header+\"\\n\".join(body)+\"\\n\"+TARGET+\"\\n\"+OUTPUT\n",
    "    with open($[_output:r], 'w') as f:\n",
    "        f.write(text)       "
   ]
  },
  {
   "cell_type": "code",
   "execution_count": null,
   "id": "accepting-worker",
   "metadata": {
    "kernel": "SoS"
   },
   "outputs": [],
   "source": [
    "[yml_list]\n",
    "input: output_from(\"yml_generator\"),group_by = \"all\"\n",
    "output: f'{cwd:a}/yml_list.txt', f'{cwd:a}/qced_sumstat_list.txt'\n",
    "import pandas as pd\n",
    "yml_df = pd.DataFrame({\"#chr\" : sumstat_list[\"#chr\"].values.tolist()  ,  \"dir\" : _input})\n",
    "yml_df.to_csv(_output[0],sep = \"\\t\",index = 0)\n",
    "data_dir_tmp = pd.Series(_input)\n",
    "data_dir = [f'{x:d}' for x in data_dir_tmp ]\n",
    "theme = sumstat_list.columns.values.tolist()[1:]\n",
    "for i in theme:\n",
    "    sumstat_list = sumstat_list.assign(**{i : data_dir+ pd.Series([f'/{path(x):b}'  for x in  sumstat_list[i].values.tolist()])  } )\n",
    "sumstat_list.to_csv(_output[1],sep = \"\\t\", index = 0)"
   ]
  },
  {
   "cell_type": "code",
   "execution_count": null,
   "id": "sudden-efficiency",
   "metadata": {
    "kernel": "SoS"
   },
   "outputs": [],
   "source": []
  },
  {
   "cell_type": "code",
   "execution_count": null,
   "id": "defined-source",
   "metadata": {
    "kernel": "SoS"
   },
   "outputs": [],
   "source": []
  },
  {
   "cell_type": "code",
   "execution_count": null,
   "id": "cooked-forty",
   "metadata": {
    "kernel": "SoS"
   },
   "outputs": [],
   "source": []
  }
 ],
 "metadata": {
  "kernelspec": {
   "display_name": "SoS",
   "language": "sos",
   "name": "sos"
  },
  "language_info": {
   "codemirror_mode": "sos",
   "file_extension": ".sos",
   "mimetype": "text/x-sos",
   "name": "sos",
   "nbconvert_exporter": "sos_notebook.converter.SoS_Exporter",
   "pygments_lexer": "sos"
  },
  "sos": {
   "kernels": [
    [
     "SoS",
     "sos",
     "",
     ""
    ]
   ],
   "version": "0.22.6"
  }
 },
 "nbformat": 4,
 "nbformat_minor": 5
}
