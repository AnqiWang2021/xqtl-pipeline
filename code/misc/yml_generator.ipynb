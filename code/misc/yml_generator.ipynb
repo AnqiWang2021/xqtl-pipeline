{
 "cells": [
  {
   "cell_type": "markdown",
   "id": "nearby-right",
   "metadata": {
    "kernel": "SoS",
    "tags": []
   },
   "source": [
    "## Allele filp QC YML generator\n",
    "This module takes in a table of sumstat, with the columns: #chr, theme1, theme2, theme3 and each rows as 1 chr and the sumstat of corresponding chr and generate a list of yml to be used"
   ]
  },
  {
   "cell_type": "code",
   "execution_count": null,
   "id": "35176739-d838-4947-b724-493786d4d617",
   "metadata": {
    "kernel": "SoS"
   },
   "outputs": [],
   "source": []
  },
  {
   "cell_type": "markdown",
   "id": "3d6d4a03-eacc-4667-a959-603e233cf085",
   "metadata": {
    "kernel": "SoS"
   },
   "source": [
    "## Example target list"
   ]
  },
  {
   "cell_type": "markdown",
   "id": "3fedc624-c4c8-4385-9ea3-064b609f6972",
   "metadata": {
    "kernel": "SoS"
   },
   "source": [
    "#chr    TARGET\n",
    "1    /mnt/mfs/statgen/snuc_pseudo_bulk/eight_tissue_analysis/8test/TARGET_ref_chr1.txt\n",
    "10    /mnt/mfs/statgen/snuc_pseudo_bulk/eight_tissue_analysis/8test/TARGET_ref_chr10.txt\n",
    "11    /mnt/mfs/statgen/snuc_pseudo_bulk/eight_tissue_analysis/8test/TARGET_ref_chr11.txt\n",
    "12    /mnt/mfs/statgen/snuc_pseudo_bulk/eight_tissue_analysis/8test/TARGET_ref_chr12.txt\n",
    "13    /mnt/mfs/statgen/snuc_pseudo_bulk/eight_tissue_analysis/8test/TARGET_ref_chr13.txt\n",
    "14    /mnt/mfs/statgen/snuc_pseudo_bulk/eight_tissue_analysis/8test/TARGET_ref_chr14.txt\n",
    "15    /mnt/mfs/statgen/snuc_pseudo_bulk/eight_tissue_analysis/8test/TARGET_ref_chr15.txt\n",
    "16    /mnt/mfs/statgen/snuc_pseudo_bulk/eight_tissue_analysis/8test/TARGET_ref_chr16.txt\n",
    "17    /mnt/mfs/statgen/snuc_pseudo_bulk/eight_tissue_analysis/8test/TARGET_ref_chr17.txt\n",
    "18    /mnt/mfs/statgen/snuc_pseudo_bulk/eight_tissue_analysis/8test/TARGET_ref_chr18.txt\n",
    "19    /mnt/mfs/statgen/snuc_pseudo_bulk/eight_tissue_analysis/8test/TARGET_ref_chr19.txt\n",
    "2    /mnt/mfs/statgen/snuc_pseudo_bulk/eight_tissue_analysis/8test/TARGET_ref_chr2.txt\n",
    "20    /mnt/mfs/statgen/snuc_pseudo_bulk/eight_tissue_analysis/8test/TARGET_ref_chr20.txt\n",
    "21    /mnt/mfs/statgen/snuc_pseudo_bulk/eight_tissue_analysis/8test/TARGET_ref_chr21.txt\n",
    "22    /mnt/mfs/statgen/snuc_pseudo_bulk/eight_tissue_analysis/8test/TARGET_ref_chr22.txt\n",
    "3    /mnt/mfs/statgen/snuc_pseudo_bulk/eight_tissue_analysis/8test/TARGET_ref_chr3.txt\n",
    "4    /mnt/mfs/statgen/snuc_pseudo_bulk/eight_tissue_analysis/8test/TARGET_ref_chr4.txt\n",
    "5    /mnt/mfs/statgen/snuc_pseudo_bulk/eight_tissue_analysis/8test/TARGET_ref_chr5.txt\n",
    "6    /mnt/mfs/statgen/snuc_pseudo_bulk/eight_tissue_analysis/8test/TARGET_ref_chr6.txt\n",
    "7    /mnt/mfs/statgen/snuc_pseudo_bulk/eight_tissue_analysis/8test/TARGET_ref_chr7.txt\n",
    "8    /mnt/mfs/statgen/snuc_pseudo_bulk/eight_tissue_analysis/8test/TARGET_ref_chr8.txt\n",
    "9    /mnt/mfs/statgen/snuc_pseudo_bulk/eight_tissue_analysis/8test/TARGET_ref_chr9.txt"
   ]
  },
  {
   "cell_type": "code",
   "execution_count": 1,
   "id": "premier-uniform",
   "metadata": {
    "kernel": "SoS"
   },
   "outputs": [],
   "source": [
    "[global]\n",
    "# List of path to the index of sumstat, each correspond to 1 recipe file documenting the path to the sumstat of each chromosome.\n",
    "parameter: sumstat_list = paths\n",
    "# List of names that corresponding to each of the studies\n",
    "parameter: name = list\n",
    "parameter: cwd = path\n",
    "import pandas as pd\n",
    "input_list = sumstat_list\n",
    "sumstat_list = pd.read_csv(input_list[0],sep = \"\\t\")\n",
    "sumstat_list = sumstat_list.sort_values('#chr')\n",
    "if len(input_list) > 1:\n",
    "    for x in range(1,len(input_list)):\n",
    "        sumstat_list = sumstat_list.merge(pd.read_csv(input_list[x],sep = \"\\t\"), on = \"#chr\")\n",
    "sumstat_meta = sumstat_list.filter(regex='column').iloc[0].values.tolist()\n",
    "sumstat_list = sumstat_list.drop(sumstat_list.filter(regex='column').columns,axis = 1)\n",
    "sumstat_list.columns = [\"#chr\"] + name\n",
    "sumstat_inv = sumstat_list.values.tolist()\n",
    "names = \"_\".join(name)\n",
    "## The target vcf file, with GENE,CHR,POS,A0,A1 as columns, should contains all snps\n",
    "parameter: TARGET_list = path(\"./\")\n",
    "if TARGET_list.is_file():\n",
    "    sumstat_inv = sumstat_list.merge(pd.read_csv(TARGET_list,sep = \"\\t\"), on = \"#chr\" ).values.tolist()\n",
    "## Assuming all the input sumstat are using the same header\n",
    "parameter: CHR = \"chrom\"\n",
    "parameter: POS = \"pos\"\n",
    "parameter: A0 = \"ref\" \n",
    "parameter: A1 = \"alt\"\n",
    "parameter: SNP = \"variant_id\"\n",
    "parameter: STAT = \"beta\"\n",
    "parameter: SE = \"se\"\n",
    "parameter: P = \"pval\"\n",
    "parameter: KEEP_AMBIGUOUS = \"True\"\n",
    "parameter: GENE = \"phenotype_id\"\n",
    "parameter: container = \"\""
   ]
  },
  {
   "cell_type": "code",
   "execution_count": null,
   "id": "mexican-letter",
   "metadata": {
    "kernel": "SoS"
   },
   "outputs": [],
   "source": [
    "[yml_generator]\n",
    "input: for_each  = \"sumstat_inv\"\n",
    "output: f'{cwd:a}/{names}.{_sumstat_inv[0]}/{names}.{_sumstat_inv[0]}.yml'\n",
    "python: expand = \"$[ ]\", stderr = f'{_output}.stderr', stdout = f'{_output}.stdout' , container = container\n",
    "    import os\n",
    "    import yaml\n",
    "    import pandas as pd\n",
    "    output = dict()\n",
    "    ## Input dict\n",
    "    output[\"INPUT\"] = [pd.read_csv(y,\"\\t\",index_col = 0,names = [x],header = 0 ).to_dict() for x,y in zip($[_sumstat_inv[1:len(_sumstat_inv)-1] if TARGET_list.is_file() else  _sumstat_inv[1:len(_sumstat_inv)]],$[sumstat_meta])]       \n",
    "    ## Target dict\n",
    "    output[\"TARGET\"] = [\"$[_sumstat_inv[-1] if TARGET_list.is_file() else _sumstat_inv[1]]\"] ## Allow for both external TARGET file or using one of the sumstat as TARGET\n",
    "    ## Output dict\n",
    "    output[\"OUTPUT\"] = [$[_output:dr]]\n",
    "    with open($[_output:ar], 'w') as f:\n",
    "        yaml.dump(output,f,sort_keys = False)"
   ]
  },
  {
   "cell_type": "code",
   "execution_count": null,
   "id": "accepting-worker",
   "metadata": {
    "kernel": "SoS"
   },
   "outputs": [],
   "source": [
    "[yml_list]\n",
    "input: output_from(\"yml_generator\"),group_by = \"all\"\n",
    "output: f'{cwd:a}/yml_list.txt', f'{cwd:a}/qced_sumstat_list.txt'\n",
    "import pandas as pd\n",
    "yml_df = pd.DataFrame({\"#chr\" : sumstat_list[\"#chr\"].values.tolist()  ,  \"dir\" : _input})\n",
    "yml_df.to_csv(_output[0],sep = \"\\t\",index = 0)\n",
    "data_dir_tmp = pd.Series(_input)\n",
    "data_dir = [f'{x:d}' for x in data_dir_tmp ]\n",
    "theme = sumstat_list.columns.values.tolist()[1:]\n",
    "for i in theme:\n",
    "    sumstat_list = sumstat_list.assign(**{i : data_dir+ pd.Series([f'/{path(x):b}'  for x in  sumstat_list[i].values.tolist()])  } )\n",
    "sumstat_list.to_csv(_output[1],sep = \"\\t\", index = 0)"
   ]
  }
 ],
 "metadata": {
  "kernelspec": {
   "display_name": "SoS",
   "language": "sos",
   "name": "sos"
  },
  "language_info": {
   "codemirror_mode": "sos",
   "file_extension": ".sos",
   "mimetype": "text/x-sos",
   "name": "sos",
   "nbconvert_exporter": "sos_notebook.converter.SoS_Exporter",
   "pygments_lexer": "sos"
  },
  "sos": {
   "kernels": [
    [
     "SoS",
     "sos",
     "",
     ""
    ]
   ],
   "version": "0.22.6"
  }
 },
 "nbformat": 4,
 "nbformat_minor": 5
}
