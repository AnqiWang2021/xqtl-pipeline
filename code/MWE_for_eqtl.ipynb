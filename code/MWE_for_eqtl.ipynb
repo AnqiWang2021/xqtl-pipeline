{
 "cells": [
  {
   "cell_type": "markdown",
   "id": "1a60b315-e63f-4328-8c92-929f65850302",
   "metadata": {
    "kernel": "SoS",
    "tags": []
   },
   "source": [
    "# MWE for eqtl\n",
    "This serve as a demostration and records of how to generate and what to use the xqtl calling and discovery pipeline. The samples that we use are the first 50 samples in the [ftp server](http://ftp.ebi.ac.uk/pub/databases/arrayexpress/data/experiment/GEUV/E-GEUV-1/processed/) of [This project](https://www.ebi.ac.uk/arrayexpress/experiments/E-GEUV-1/). Each of the bam file was downloaded using wget. The bam file will be subset to include only chr 21 and 22,  convert to fastq file, and then starts from running our RNA-calling pipeline."
   ]
  },
  {
   "cell_type": "markdown",
   "id": "6c360672-5dfe-4056-8a1e-4d2d3f76fb86",
   "metadata": {
    "kernel": "SoS"
   },
   "source": [
    "## Downloading the MWE"
   ]
  },
  {
   "cell_type": "markdown",
   "id": "03a61893-30b8-4d94-a13b-2a5de4d8235a",
   "metadata": {
    "kernel": "SoS"
   },
   "source": [
    "## Preprocessing the MWE"
   ]
  },
  {
   "cell_type": "markdown",
   "id": "7343138a-0e07-46a5-b45e-f5f5463e0e2b",
   "metadata": {
    "kernel": "SoS"
   },
   "source": [
    "## Molecular Phenotype Calling"
   ]
  },
  {
   "cell_type": "markdown",
   "id": "3815a421-6d96-4475-aff6-b8ffcb4c36ff",
   "metadata": {
    "kernel": "SoS"
   },
   "source": [
    "### Gene expression"
   ]
  },
  {
   "cell_type": "markdown",
   "id": "c24b2a91-110e-4c95-b9fa-71aa7c238569",
   "metadata": {
    "kernel": "SoS"
   },
   "source": [
    "### Splicing"
   ]
  },
  {
   "cell_type": "markdown",
   "id": "7f9f7d1a-dbad-47fb-87da-40cdf970bee3",
   "metadata": {
    "kernel": "SoS"
   },
   "source": [
    "## Preparing of Xqtl Discovery pipeline"
   ]
  },
  {
   "cell_type": "markdown",
   "id": "c2480b39-2c97-4bf7-9438-28fc3b9c5dee",
   "metadata": {
    "kernel": "SoS"
   },
   "source": [
    "## Xqtl Discovery pipeline"
   ]
  },
  {
   "cell_type": "markdown",
   "id": "782b94e0-aa96-43de-a75c-a027d7d734c8",
   "metadata": {
    "kernel": "SoS"
   },
   "source": [
    "### Genotype QC"
   ]
  },
  {
   "cell_type": "markdown",
   "id": "ad6ec969-25fa-491a-bebb-71975c4d88f4",
   "metadata": {
    "kernel": "SoS"
   },
   "source": [
    "### Data Preprocessing"
   ]
  },
  {
   "cell_type": "markdown",
   "id": "8aad56bc-70a5-4025-9e55-5e682c097a12",
   "metadata": {
    "kernel": "SoS"
   },
   "source": [
    "### Association Testing"
   ]
  },
  {
   "cell_type": "markdown",
   "id": "8c6a9a7e-6927-431a-ad5c-7d5bf5c85fbb",
   "metadata": {
    "kernel": "SoS"
   },
   "source": [
    "### Sumstat Merging"
   ]
  }
 ],
 "metadata": {
  "kernelspec": {
   "display_name": "SoS",
   "language": "sos",
   "name": "sos"
  },
  "language_info": {
   "codemirror_mode": "sos",
   "file_extension": ".sos",
   "mimetype": "text/x-sos",
   "name": "sos",
   "nbconvert_exporter": "sos_notebook.converter.SoS_Exporter",
   "pygments_lexer": "sos"
  },
  "sos": {
   "kernels": [
    [
     "SoS",
     "sos",
     "",
     ""
    ]
   ],
   "version": "0.22.6"
  }
 },
 "nbformat": 4,
 "nbformat_minor": 5
}
