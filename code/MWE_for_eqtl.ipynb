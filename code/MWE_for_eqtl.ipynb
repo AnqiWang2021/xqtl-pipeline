{
 "cells": [
  {
   "cell_type": "markdown",
   "id": "1a60b315-e63f-4328-8c92-929f65850302",
   "metadata": {
    "kernel": "SoS",
    "tags": []
   },
   "source": [
    "# MWE for eqtl\n",
    "This serve as a demostration and records of how to generate and what to use the xqtl calling and discovery pipeline. "
   ]
  },
  {
   "cell_type": "markdown",
   "id": "6c360672-5dfe-4056-8a1e-4d2d3f76fb86",
   "metadata": {
    "kernel": "SoS"
   },
   "source": [
    "## Materials"
   ]
  },
  {
   "cell_type": "markdown",
   "id": "bb02ef50-9209-4d10-9053-cbf52ffa85e7",
   "metadata": {
    "kernel": "SoS",
    "tags": []
   },
   "source": [
    "### Generating the reference data\n"
   ]
  },
  {
   "cell_type": "code",
   "execution_count": null,
   "id": "84264f4a-013a-4f63-a228-53f00101cc2b",
   "metadata": {
    "kernel": "Bash"
   },
   "outputs": [],
   "source": [
    "sos run pipeline/reference_data.ipynb download_hg_reference --cwd reference_data    &\n",
    "sos run pipeline/reference_data.ipynb download_gene_annotation --cwd reference_data &\n",
    "sos run pipeline/reference_data.ipynb download_ercc_reference --cwd reference_data &"
   ]
  },
  {
   "cell_type": "markdown",
   "id": "dee2156e-feb1-4d8d-9880-ece5f2701a76",
   "metadata": {
    "kernel": "Bash"
   },
   "source": []
  },
  {
   "cell_type": "markdown",
   "id": "cb0b0ac7-a03b-4ec6-8fee-537bb43b0409",
   "metadata": {
    "kernel": "Bash"
   },
   "source": [
    "**Warning, Following step is resource intensive and should be ran using `-J 1 -c csg.yml -q csg` to be submitted to a cluster with a minimum of 16GB of mem (default)**\n",
    "\n",
    "To format reference data:"
   ]
  },
  {
   "cell_type": "code",
   "execution_count": null,
   "id": "fac62f73-5e42-4009-9ad9-d391089821cf",
   "metadata": {
    "kernel": "Bash"
   },
   "outputs": [],
   "source": [
    "sos run reference_data.ipynb hg_reference \\\n",
    "    --cwd reference_data \\\n",
    "    --ercc-reference reference_data/ERCC92.fa \\\n",
    "    --hg-reference reference_data/GRCh38_full_analysis_set_plus_decoy_hla.fa \\\n",
    "    --container container/rna_quantification.sif"
   ]
  },
  {
   "cell_type": "code",
   "execution_count": null,
   "id": "3026a50b-681c-4d91-8c6f-abb969565fdf",
   "metadata": {
    "kernel": "Bash"
   },
   "outputs": [],
   "source": [
    "\n",
    "sos run pipeline/reference_data.ipynb hg_gtf \\\n",
    "    --cwd reference_data \\\n",
    "    --hg-gtf reference_data/Homo_sapiens.GRCh38.103.chr.gtf \\\n",
    "    --hg-reference reference_data/reference_data/GRCh38_full_analysis_set_plus_decoy_hla.noALT_noHLA_noDecoy.fasta.fasta \\\n",
    "    --container containers/rna_quantification.sif -J 1 -c csg.yml -q csg &"
   ]
  },
  {
   "cell_type": "markdown",
   "id": "d4b11728-9f9f-40b6-8cd8-c51b972f4624",
   "metadata": {
    "kernel": "Bash"
   },
   "source": [
    "To format gene feature data:"
   ]
  },
  {
   "cell_type": "code",
   "execution_count": null,
   "id": "69f0dab3-40a9-4cb3-89e1-671b0f65f0b5",
   "metadata": {
    "kernel": "Bash"
   },
   "outputs": [],
   "source": [
    "sos run reference_data.ipynb gene_annotation \\\n",
    "    --cwd reference_data \\\n",
    "    --ercc-gtf reference_data/ERCC92.gtf \\\n",
    "    --hg-gtf reference_data/Homo_sapiens.GRCh38.103.chr.gtf \\\n",
    "    --hg-reference reference_data/GRCh38_full_analysis_set_plus_decoy_hla.noALT_noHLA_noDecoy_ERCC.fasta \\\n",
    "    --container container/rna_quantification.sif --stranded"
   ]
  },
  {
   "cell_type": "code",
   "execution_count": null,
   "id": "2a7c1c1d-61e7-4530-b1f6-aab0c9a526a9",
   "metadata": {
    "kernel": "Bash"
   },
   "outputs": [],
   "source": [
    "sos run reference_data.ipynb gene_annotation \\\n",
    "    --cwd reference_data \\\n",
    "    --ercc-gtf reference_data/ERCC92.gtf \\\n",
    "    --hg-gtf reference_data/Homo_sapiens.GRCh38.103.chr.gtf \\\n",
    "    --hg-reference reference_data/reference_data/GRCh38_full_analysis_set_plus_decoy_hla.noALT_noHLA_noDecoy_ERCC.fasta.fasta \\\n",
    "    --container container/rna_quantification.sif --stranded"
   ]
  },
  {
   "cell_type": "markdown",
   "id": "54f8e184-b94f-45cb-ae7d-9a47f990a64b",
   "metadata": {
    "kernel": "Bash"
   },
   "source": [
    "**Notice that for un-stranded RNA-seq protocol please use switch `--no-stranded` to the command above instead of `--stranded`. More details can be found later in the document.**"
   ]
  },
  {
   "cell_type": "markdown",
   "id": "ba0a0f31-76eb-4a14-87c4-39e211b63a4d",
   "metadata": {
    "kernel": "Bash"
   },
   "source": [
    "To generate STAR index using the GTF annotation file before gene model collapse:"
   ]
  },
  {
   "cell_type": "code",
   "execution_count": null,
   "id": "5a53c1ae-5339-49f4-ba20-3b2ba973a0c6",
   "metadata": {
    "kernel": "Bash"
   },
   "outputs": [],
   "source": [
    "sos run pipeline/reference_data.ipynb STAR_index \\\n",
    "    --cwd reference_data3 \\\n",
    "    --hg-reference reference_data/GRCh38_full_analysis_set_plus_decoy_hla.noALT_noHLA_noDecoy.fasta.fasta \\\n",
    "    --hg-gtf reference_data/Homo_sapiens.GRCh38.103.chr.reformated.ERCC.gtf \\\n",
    "    --container containers/rna_quantification.sif \\\n",
    "    --mem 40G &"
   ]
  },
  {
   "cell_type": "markdown",
   "id": "f90b7357-be07-40ee-a580-cf45cfc74070",
   "metadata": {
    "kernel": "Bash"
   },
   "source": [
    "**Notice that command above requires at least 40G of memory, and takes quite a while to complete**."
   ]
  },
  {
   "cell_type": "markdown",
   "id": "7729f89b-37a8-49b7-bdb0-ea8253265f06",
   "metadata": {
    "kernel": "Bash"
   },
   "source": [
    "To generate RSEM index:"
   ]
  },
  {
   "cell_type": "code",
   "execution_count": null,
   "id": "ddfe1bf8-05a6-459a-97d2-8bf16d1aad58",
   "metadata": {
    "kernel": "Bash"
   },
   "outputs": [],
   "source": [
    "sos run reference_data.ipynb RSEM_index \\\n",
    "    --cwd reference_data \\\n",
    "    --hg-reference reference_data/GRCh38_full_analysis_set_plus_decoy_hla.noALT_noHLA_noDecoy_ERCC.fasta \\\n",
    "    --hg-gtf reference_data/Homo_sapiens.GRCh38.103.chr.reformatted.ERCC.gtf \\\n",
    "    --container container/rna_quantification.sif \\\n",
    "    --mem 40G"
   ]
  },
  {
   "cell_type": "markdown",
   "id": "77672b13-5526-402a-8c03-2acf47f256f7",
   "metadata": {
    "kernel": "Bash"
   },
   "source": [
    "To generate SUPPA annotation for psichomics"
   ]
  },
  {
   "cell_type": "code",
   "execution_count": null,
   "id": "9efcc31e-36e0-4577-80d9-c6063f91f626",
   "metadata": {
    "kernel": "Bash"
   },
   "outputs": [],
   "source": [
    "sos run pipeline/reference_data.ipynb SUPPA_annotation \\\n",
    "    --hg_gtf reference_data/Homo_sapiens.GRCh38.103.chr.reformated.gtf"
   ]
  },
  {
   "cell_type": "markdown",
   "id": "f4c19aff-509d-43d8-b98a-f94e22656e14",
   "metadata": {
    "kernel": "SoS"
   },
   "source": [
    "### Downloading the MWE\n",
    "\n",
    "The samples that we use are the first 50 samples of [This project](https://www.ebi.ac.uk/arrayexpress/experiments/E-GEUV-1/). It should be noted that the ftp server of this project cannot be used due to mismatch between bam and bai file. Each the bam/bai file pairs was downloaded using wget. "
   ]
  },
  {
   "cell_type": "code",
   "execution_count": null,
   "id": "28305aa7-9514-44fa-997f-d58fc3dca43f",
   "metadata": {
    "kernel": "SoS"
   },
   "outputs": [],
   "source": [
    "cd /mnt/vast/hpc/csg/xqtl_workflow_testing/finalizing/data/bam"
   ]
  },
  {
   "cell_type": "code",
   "execution_count": null,
   "id": "e22708e1-f435-472f-956b-0c0b86a25240",
   "metadata": {
    "kernel": "SoS"
   },
   "outputs": [],
   "source": [
    "for i in `cat 50_samples_links`; do \n",
    "wget $i $i.bai;\n",
    "done"
   ]
  },
  {
   "cell_type": "code",
   "execution_count": null,
   "id": "16b7041a-f9d7-4965-a6fe-840986b72bda",
   "metadata": {
    "kernel": "SoS"
   },
   "outputs": [],
   "source": [
    "The Genotype data are downloaded using:"
   ]
  },
  {
   "cell_type": "code",
   "execution_count": null,
   "id": "8f58dca1-2ec0-4b7b-8a26-d35f7413c238",
   "metadata": {
    "kernel": "SoS"
   },
   "outputs": [],
   "source": [
    "wget https://www.ebi.ac.uk/arrayexpress/files/E-GEUV-1/GEUVADIS.chr21.PH1PH2_465.IMPFRQFILT_BIALLELIC_PH.annotv2.genotypes.vcf.gz \\\n",
    "     https://www.ebi.ac.uk/arrayexpress/files/E-GEUV-1/GEUVADIS.chr22.PH1PH2_465.IMPFRQFILT_BIALLELIC_PH.annotv2.genotypes.vcf.gz"
   ]
  },
  {
   "cell_type": "code",
   "execution_count": 2,
   "id": "18fecc92-5a00-4518-8a71-af378608c837",
   "metadata": {
    "kernel": "SoS"
   },
   "outputs": [],
   "source": [
    "cd ../../"
   ]
  },
  {
   "cell_type": "markdown",
   "id": "af993cc8-bab9-42cd-8e3a-c8a03e14dfe8",
   "metadata": {
    "kernel": "SoS"
   },
   "source": [
    "It should be noted that, the generation of STAR Index will take significant amount of time."
   ]
  },
  {
   "cell_type": "code",
   "execution_count": null,
   "id": "5ce565bf-f94c-474d-adcc-cecc62e5f1bd",
   "metadata": {
    "kernel": "SoS"
   },
   "outputs": [],
   "source": [
    "To downloads the data:"
   ]
  },
  {
   "cell_type": "markdown",
   "id": "03a61893-30b8-4d94-a13b-2a5de4d8235a",
   "metadata": {
    "kernel": "SoS"
   },
   "source": [
    "\n",
    "### Preprocessing the MWE\n",
    "\n",
    "Since we are using the fastq files as starting point of our RNASeq calling pipeline, the phenotype of MWE required some preprocessing. The genotype data can be used as is. \n",
    "\n",
    "#### Generating the input phenotype data\n",
    "Command 1 take only the chromosome 21 and 22 from each of the bam file in the desinated diretory, then command 2 changes them into fastq file. Doing so keeps our MWE into a managable size"
   ]
  },
  {
   "cell_type": "code",
   "execution_count": null,
   "id": "84e2a668-ab6f-44e2-a985-14416b44fdbe",
   "metadata": {
    "kernel": "SoS"
   },
   "outputs": [],
   "source": [
    "sos run pipeline/phenotype_formatting.ipynb bam_subsetting  --phenoFile `ls data/bam/*.bam` --cwd data/bam  --container containers/rna_quantification.sif  "
   ]
  },
  {
   "cell_type": "code",
   "execution_count": null,
   "id": "baea98ff-1eaf-4e66-a1cd-dcbf8d7a64f8",
   "metadata": {
    "kernel": "SoS"
   },
   "outputs": [],
   "source": [
    "sos run pipeline/phenotype_formatting.ipynb bam_to_fastq  --phenoFile `ls data/test/*subsetted.bam` --cwd data/fastq  --container containers/rna_quantification.sif  "
   ]
  },
  {
   "cell_type": "markdown",
   "id": "90246acf-3590-442f-bd8d-c7f1fe20956f",
   "metadata": {
    "kernel": "SoS"
   },
   "source": [
    "The output are shown as followed."
   ]
  },
  {
   "cell_type": "code",
   "execution_count": null,
   "id": "0e1611eb-af99-42ae-b361-952eb55b36ab",
   "metadata": {
    "kernel": "SoS"
   },
   "outputs": [],
   "source": [
    "ls -lah data/bam/*.bam"
   ]
  },
  {
   "cell_type": "code",
   "execution_count": null,
   "id": "96f0ac50-47a9-49e1-bb7f-3069128dcf1f",
   "metadata": {
    "kernel": "SoS"
   },
   "outputs": [],
   "source": [
    "ls -lah data/fastq/*.fastq"
   ]
  },
  {
   "cell_type": "markdown",
   "id": "c057557b-ac9a-4e56-af73-cae2ef2472b0",
   "metadata": {
    "kernel": "SoS"
   },
   "source": [
    "#### Generating the input fastq list\n",
    "The input of our RNA calling section requirs a list of following format, it was generated manually. We allows 2 optional columns: strand and read_length so that user can specify different stand and read length for each of the samples. However, it is not necessary to include them. Our pipeline can detect the strand based on the output of STAR Alignment "
   ]
  },
  {
   "cell_type": "code",
   "execution_count": 1,
   "id": "f4b96fd5-87d9-477c-bd99-f0f938f65854",
   "metadata": {
    "kernel": "SoS"
   },
   "outputs": [
    {
     "name": "stdout",
     "output_type": "stream",
     "text": [
      "ID      fq1     fq2     strand\n",
      "HG00096.1.M_111124_6\tHG00096.1.M_111124_6.subsetted.1.fastq \tHG00096.1.M_111124_6.subsetted.2.fastq \tstrand_missing \n",
      "HG00101.1.M_111124_4\tHG00101.1.M_111124_4.subsetted.1.fastq \tHG00101.1.M_111124_4.subsetted.2.fastq \tstrand_missing \n",
      "HG00104.1.M_111124_5\tHG00104.1.M_111124_5.subsetted.1.fastq \tHG00104.1.M_111124_5.subsetted.2.fastq \tstrand_missing \n"
     ]
    }
   ],
   "source": [
    "head data/MWE.fastq_list "
   ]
  },
  {
   "cell_type": "markdown",
   "id": "7343138a-0e07-46a5-b45e-f5f5463e0e2b",
   "metadata": {
    "kernel": "SoS"
   },
   "source": [
    "## Protocol 1: Molecular Phenotype Calling"
   ]
  },
  {
   "cell_type": "markdown",
   "id": "3815a421-6d96-4475-aff6-b8ffcb4c36ff",
   "metadata": {
    "kernel": "SoS"
   },
   "source": [
    "### RNA Seq Alignment"
   ]
  },
  {
   "cell_type": "code",
   "execution_count": null,
   "id": "4a47cbfa-ae8e-43b7-a288-fb917f564eda",
   "metadata": {
    "kernel": "SoS"
   },
   "outputs": [],
   "source": [
    "sos run pipeline/RNA_calling.ipynb fastqc \\\n",
    "    --cwd output/rnaseq/fastqc \\\n",
    "    --samples data/MWE.fastq_list  \\\n",
    "    --data-dir data/fastq \\\n",
    "    --container containers/rna_quantification.sif"
   ]
  },
  {
   "cell_type": "markdown",
   "id": "cc161b4c-28f7-49e9-9d29-7a93786b511c",
   "metadata": {
    "kernel": "SoS"
   },
   "source": [
    "To align the reads with STAR and generate the bam_list recipe for downstream molecular phenotype count matrixes. The `-J 20 -c csg.yml -q csg` part is crucial for it ask for the required memory to conduct the STAR alignment."
   ]
  },
  {
   "cell_type": "code",
   "execution_count": null,
   "id": "d25f5d8a-ac7e-4125-a0e3-a9dcde93e982",
   "metadata": {
    "kernel": "SoS"
   },
   "outputs": [],
   "source": [
    "sos run pipeline/RNA_calling.ipynb STAR_output \\\n",
    "    --cwd output/rnaseq \\\n",
    "    --samples data/MWE.fastq_list \\\n",
    "    --data-dir data/fastq \\\n",
    "    --STAR-index reference_data3/STAR_Index/ \\\n",
    "    --gtf reference_data/Homo_sapiens.GRCh38.103.chr.reformated.ERCC.gene.gtf \\\n",
    "    --container containers/rna_quantification.sif \\\n",
    "    --reference-fasta reference_data/GRCh38_full_analysis_set_plus_decoy_hla.noALT_noHLA_noDecoy.fasta.fasta \\\n",
    "    --ref-flat reference_data/Homo_sapiens.GRCh38.103.chr.reformated.ERCC.gtf.ref.flat  -J 20 -c csg.yml -q csg"
   ]
  },
  {
   "cell_type": "markdown",
   "id": "7df52190-1cd5-4f78-bf19-d098d8c385ab",
   "metadata": {
    "kernel": "SoS"
   },
   "source": [
    "### Gene expression count matrix"
   ]
  },
  {
   "cell_type": "code",
   "execution_count": null,
   "id": "8ca0dacd-a86d-4f07-b138-4ac21dec916a",
   "metadata": {
    "kernel": "SoS"
   },
   "outputs": [],
   "source": [
    "sos run pipeline/RNA_calling.ipynb rnaseqc_call \\\n",
    "    --cwd output/rnaseq \\\n",
    "    --samples data/MWE.fastq_list \\\n",
    "    --data-dir data/fastq \\\n",
    "    --STAR-index reference_data3/STAR_Index/ \\\n",
    "    --gtf reference_data/Homo_sapiens.GRCh38.103.chr.reformated.ERCC.gene.gtf \\\n",
    "    --container containers/rna_quantification.sif \\\n",
    "    --reference-fasta reference_data/GRCh38_full_analysis_set_plus_decoy_hla.noALT_noHLA_noDecoy.fasta.fasta \\\n",
    "    --ref-flat reference_data/Homo_sapiens.GRCh38.103.chr.reformated.ERCC.gtf.ref.flat  \\\n",
    "    --bam_list output/rnaseq/MWE_bam_list"
   ]
  },
  {
   "cell_type": "markdown",
   "id": "c24b2a91-110e-4c95-b9fa-71aa7c238569",
   "metadata": {
    "kernel": "SoS"
   },
   "source": [
    "### Splicing count matrix"
   ]
  },
  {
   "cell_type": "markdown",
   "id": "c4c197f1-b06c-44d9-bbe9-e327d43945a8",
   "metadata": {
    "kernel": "SoS"
   },
   "source": [
    "#### Leafcutter"
   ]
  },
  {
   "cell_type": "code",
   "execution_count": null,
   "id": "c6aca7c6-8437-472f-bce4-118306e3a163",
   "metadata": {
    "kernel": "SoS"
   },
   "outputs": [],
   "source": [
    "sos run pipeline/splicing_calling.ipynb leafcutter \\\n",
    "    --cwd output/leaf_cutter/ \\\n",
    "    --samples output/rnaseq/MWE_bam_list \\\n",
    "    --container containers/leafcutter.sif "
   ]
  },
  {
   "cell_type": "markdown",
   "id": "2d994fbc-a506-499f-bc1e-18c42aeb53d9",
   "metadata": {
    "kernel": "SoS"
   },
   "source": [
    "#### Psichomics"
   ]
  },
  {
   "cell_type": "code",
   "execution_count": null,
   "id": "220ce386-c3d2-4e23-b3dd-178222d2b003",
   "metadata": {
    "kernel": "SoS"
   },
   "outputs": [],
   "source": [
    "sos run pipeline/splicing_calling.ipynb psichomics \\\n",
    "    --cwd output/psichomics/ \\\n",
    "    --samples output/rnaseq/MWE_bam_list \\\n",
    "    --splicing_annotation hg38_suppa.rds \\\n",
    "    --container container/psichomics.sif"
   ]
  },
  {
   "cell_type": "markdown",
   "id": "7f9f7d1a-dbad-47fb-87da-40cdf970bee3",
   "metadata": {
    "kernel": "SoS"
   },
   "source": [
    "### Preparing of Xqtl Discovery pipeline"
   ]
  },
  {
   "cell_type": "markdown",
   "id": "c2480b39-2c97-4bf7-9438-28fc3b9c5dee",
   "metadata": {
    "kernel": "SoS"
   },
   "source": [
    "## Protocol 2: Xqtl Discovery pipeline"
   ]
  },
  {
   "cell_type": "markdown",
   "id": "782b94e0-aa96-43de-a75c-a027d7d734c8",
   "metadata": {
    "kernel": "SoS"
   },
   "source": [
    "### Genotype QC"
   ]
  },
  {
   "cell_type": "markdown",
   "id": "ad6ec969-25fa-491a-bebb-71975c4d88f4",
   "metadata": {
    "kernel": "SoS"
   },
   "source": [
    "### Data Preprocessing"
   ]
  },
  {
   "cell_type": "markdown",
   "id": "8aad56bc-70a5-4025-9e55-5e682c097a12",
   "metadata": {
    "kernel": "SoS"
   },
   "source": [
    "### Association Testing"
   ]
  },
  {
   "cell_type": "markdown",
   "id": "8c6a9a7e-6927-431a-ad5c-7d5bf5c85fbb",
   "metadata": {
    "kernel": "SoS"
   },
   "source": [
    "### Sumstat Merging"
   ]
  }
 ],
 "metadata": {
  "kernelspec": {
   "display_name": "Bash",
   "language": "bash",
   "name": "bash"
  },
  "language_info": {
   "codemirror_mode": "shell",
   "file_extension": ".sh",
   "mimetype": "text/x-sh",
   "name": "bash"
  },
  "sos": {
   "kernels": [
    [
     "SoS",
     "sos",
     "",
     ""
    ]
   ],
   "version": "0.22.6"
  }
 },
 "nbformat": 4,
 "nbformat_minor": 5
}
