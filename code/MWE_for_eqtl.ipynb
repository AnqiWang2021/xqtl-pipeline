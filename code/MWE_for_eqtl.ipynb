{
 "cells": [
  {
   "cell_type": "markdown",
   "id": "1a60b315-e63f-4328-8c92-929f65850302",
   "metadata": {
    "kernel": "SoS",
    "tags": []
   },
   "source": [
    "# MWE for eqtl\n",
    "This serve as a demostration and records of how to generate and what to use the xqtl calling and discovery pipeline. The samples that we use are the first 50 samples in the [ftp server](http://ftp.ebi.ac.uk/pub/databases/arrayexpress/data/experiment/GEUV/E-GEUV-1/processed/) of [This project](https://www.ebi.ac.uk/arrayexpress/experiments/E-GEUV-1/). Each of the bam file was downloaded using wget. The bam file will be subset to include only chr 21 and 22,  convert to fastq file, and then starts from running our RNA-calling pipeline."
   ]
  },
  {
   "cell_type": "code",
   "execution_count": null,
   "id": "5b17d9cb-4165-4718-93f7-6acefa0468df",
   "metadata": {
    "kernel": "SoS"
   },
   "outputs": [],
   "source": []
  }
 ],
 "metadata": {
  "kernelspec": {
   "display_name": "SoS",
   "language": "sos",
   "name": "sos"
  },
  "language_info": {
   "codemirror_mode": "sos",
   "file_extension": ".sos",
   "mimetype": "text/x-sos",
   "name": "sos",
   "nbconvert_exporter": "sos_notebook.converter.SoS_Exporter",
   "pygments_lexer": "sos"
  },
  "sos": {
   "kernels": [
    [
     "SoS",
     "sos",
     "",
     ""
    ]
   ],
   "version": "0.22.6"
  }
 },
 "nbformat": 4,
 "nbformat_minor": 5
}
