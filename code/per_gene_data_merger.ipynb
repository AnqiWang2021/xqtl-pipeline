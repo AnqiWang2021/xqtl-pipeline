{
 "cells": [
  {
   "cell_type": "markdown",
   "id": "b21f50c6-9c85-4cdc-8c73-45ff16dcd526",
   "metadata": {
    "kernel": "SoS",
    "tags": []
   },
   "source": [
    "## MWE\n",
    "MWE is uploaded in here:https://drive.google.com/drive/u/0/folders/1Ny3fzShONB-kfhvqcvnzL2VdyI1MC46J"
   ]
  },
  {
   "cell_type": "code",
   "execution_count": null,
   "id": "99b13a58-8eab-4319-93f0-594f9f429540",
   "metadata": {
    "kernel": "SoS"
   },
   "outputs": [],
   "source": [
    "sos run pipeline/per_gene_data_merger.ipynb data_merger \\\n",
    "--genoFile ./mwe.region_plink_files/plink_files_list.txt \\\n",
    "--cwd MWE/rds_per_gene/ \\\n",
    "--region-list MWE.region.list \\\n",
    "--phenoFile MWE.phenotype.list \\\n",
    "--covFile MWE.covar.list &"
   ]
  },
  {
   "cell_type": "code",
   "execution_count": null,
   "id": "b5d40343-a0e5-4d75-a754-9824a92320fe",
   "metadata": {
    "kernel": "SoS"
   },
   "outputs": [],
   "source": [
    "[global]\n",
    "parameter: genoFile = paths\n",
    "parameter: phenoFile = path\n",
    "parameter: covFile = path\n",
    "parameter: region_list = path\n",
    "parameter: cwd = path\n",
    "parameter: name = \"demo\"\n",
    "import pandas as pd\n",
    "region_tbl = pd.read_csv(region_list,sep = \"\\t\")\n",
    "genoFile = pd.read_csv(genoFile,sep = \"\\t\",names = [\"gene_id\",\"path\"],header = 0).merge(region_tbl,on = \"gene_id\").to_dict(\"records\")"
   ]
  },
  {
   "cell_type": "code",
   "execution_count": null,
   "id": "c2fac71c-65a9-44a1-a47f-2993ba13239b",
   "metadata": {
    "kernel": "SoS"
   },
   "outputs": [],
   "source": [
    "[data_merger]\n",
    "input: phenoFile,covFile, for_each = \"genoFile\"\n",
    "output: f'{cwd:a}/{name}.{_genoFile[\"gene_id\"]}.rds'\n",
    "R:  expand= \"${ }\", stderr = f'{_output:n}.stderr', stdout = f'{_output:n}.stdout'\n",
    "    library(\"plink2R\")\n",
    "    library(\"dplyr\")\n",
    "    library(\"readr\")\n",
    "    library(\"purrr\")\n",
    "    ## Define function\n",
    "    read_gene_pheno = function(path){\n",
    "      arg = paste0(c(\"tabix -h \",path,\" ${_genoFile[\"#chr\"]}:${_genoFile[\"start\"]}-${_genoFile[\"start\"]+1}\"),collapse = \"\")\n",
    "      result = system(arg,intern = T)\n",
    "      output = read.table(text = result[2], sep = \"\\t\")\n",
    "      colnames(output) = result[1]%>%stringr::str_split(\"\\t\")%>%unlist()\n",
    "      return(output)\n",
    "      }\n",
    "    ## Data Loader\n",
    "    gene_id = \"${_genoFile[\"gene_id\"]}\"\n",
    "    ### Genotype\n",
    "    geno = read_plink(\"${path(_genoFile[\"path\"]):n}\")\n",
    "    X = geno$bed\n",
    "    ### Phenotype\n",
    "    phenotype_list = read_delim(\"${_input[0]}\",\"\\t\")\n",
    "    covar_list = read_delim(\"${_input[1]}\",\"\\t\")\n",
    "    covar_list = covar_list%>%mutate(covar = map(path, ~read_delim(.x,\"\\t\")%>%select(-`#id`)%>%na.omit%>%t()))\n",
    "    phenotype_list = inner_join(phenotype_list,covar_list, by = \"tissue\")\n",
    "    phenotype_list = phenotype_list%>%mutate(Y = map(path.x, ~read_gene_pheno(.x)%>%select(-c(`#chr`,start,end,gene_id))%>%t%>%as.matrix))%>%mutate(\n",
    "                                            #### Get residue for each of tissue\n",
    "                                              Y_resid = map2(Y,covar,~.lm.fit(x = .y, y = .x)$residuals%>%t%>%as_tibble))\n",
    "    \n",
    "    Y_resid = phenotype_list%>%select(Y_resid)%>%tidyr::unnest(Y_resid)%>%t%>%as.matrix\n",
    "    colnames(Y_resid) = phenotype_list$tissue\n",
    "    list(X,Y_resid)%>%saveRDS(\"${_output}\")"
   ]
  }
 ],
 "metadata": {
  "kernelspec": {
   "display_name": "SoS",
   "language": "sos",
   "name": "sos"
  },
  "language_info": {
   "codemirror_mode": "sos",
   "file_extension": ".sos",
   "mimetype": "text/x-sos",
   "name": "sos",
   "nbconvert_exporter": "sos_notebook.converter.SoS_Exporter",
   "pygments_lexer": "sos"
  },
  "sos": {
   "kernels": [
    [
     "SoS",
     "sos",
     "",
     ""
    ]
   ],
   "version": "0.22.6"
  }
 },
 "nbformat": 4,
 "nbformat_minor": 5
}
