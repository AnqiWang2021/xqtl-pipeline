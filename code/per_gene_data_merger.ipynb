{
 "cells": [
  {
   "cell_type": "code",
   "execution_count": null,
   "id": "2172b1ad-ac58-45f0-acb6-4a80ebcdf523",
   "metadata": {
    "kernel": "SoS",
    "tags": []
   },
   "outputs": [],
   "source": [
    "[global]\n",
    "parameter: genoFile = paths\n",
    "parameter: phenoFile = path\n",
    "parameter: covFile = path\n",
    "parameter: region_list = path\n",
    "import os\n",
    "def get_genotype_file(geno_file_paths):\n",
    "    #\n",
    "    def valid_geno_file(x):\n",
    "        suffixes = path(x).suffixes\n",
    "        if suffixes[-1] == '.bed':\n",
    "            return True\n",
    "        if len(suffixes)>1 and ''.join(suffixes[-2:]) == \".vcf.gz\":\n",
    "            return True\n",
    "        return False\n",
    "    #\n",
    "    def complete_geno_path(x, geno_file):\n",
    "        if not valid_geno_file(x):\n",
    "            raise ValueError(f\"Genotype file {x} should be VCF (end with .vcf.gz) or PLINK bed file (end with .bed)\")\n",
    "        if not os.path.isfile(x):\n",
    "            # relative path\n",
    "            if not os.path.isfile(f'{geno_file:ad}/' + x):\n",
    "                raise ValueError(f\"Cannot find genotype file {x}\")\n",
    "            else:\n",
    "                x = f'{geno_file:ad}/' + x\n",
    "        return x\n",
    "    # \n",
    "    def format_chrom(chrom):\n",
    "        if chrom.startswith('chr'):\n",
    "            chrom = chrom[3:]\n",
    "        return chrom\n",
    "    # Inputs are either VCF or bed, or a vector of them \n",
    "    if len(geno_file_paths) > 1:\n",
    "        if all([valid_geno_file(x) for x in geno_file_paths]):\n",
    "            return paths(geno_file_paths)\n",
    "        else: \n",
    "            raise ValueError(f\"Invalid input {geno_file_paths}\")\n",
    "    # Input is one genotype file or text list of genotype files\n",
    "    geno_file = geno_file_paths[0]\n",
    "    if valid_geno_file(geno_file):\n",
    "        return path(geno_file)\n",
    "    else: \n",
    "        units = [x.strip().split() for x in open(geno_file).readlines() if x.strip() and not x.strip().startswith('#')]\n",
    "        if all([len(x) == 1 for x in units]):\n",
    "            return paths([complete_geno_path(x[0], geno_file) for x in units])\n",
    "        elif all([len(x) == 2 for x in units]):\n",
    "            genos = dict([(format_chrom(x[0]), path(complete_geno_path(x[1], geno_file))) for x in units])\n",
    "        else:\n",
    "            raise ValueError(f\"{geno_file} should contain one column of file names, or two columns of chrom number and corresponding file name\")\n",
    "        return genos\n",
    "    \n",
    "genoFile = get_genotype_file(genoFile)\n"
   ]
  },
  {
   "cell_type": "code",
   "execution_count": null,
   "id": "c2fac71c-65a9-44a1-a47f-2993ba13239b",
   "metadata": {
    "kernel": "SoS"
   },
   "outputs": [],
   "source": [
    "[data_merger]\n",
    "input:genoFile, group_by = 1\n",
    "output: f'{cwd:a}/{name}.{_input:bnnn}.rds'\n",
    "task: trunk_workers = 1, trunk_size = job_size, walltime = walltime, mem = mem, cores = numThreads, tags = f'{step_name}_{_output:bn}'\n",
    "R: container = container, expand= \"${ }\", stderr = f'{_output:n}.stderr', stdout = f'{_output:n}.stdout'\n",
    "    library(\"plink2R\")\n",
    "    library(\"bedr\")\n",
    "    library(\"dplyr\")\n",
    "    library(\"readr\")\n",
    "    library(\"purrr\")\n",
    "    library(\"tidyr\")\n",
    "    ## Define function\n",
    "    read_gene_pheno = function(path,gene_id){}\n",
    "    ## Data Loader\n",
    "    gene_id = ${str(_input:b).split(\".\")[-2]}\n",
    "    covar = read_delim(\"${_input}\",\"\\t\")\n",
    "    ### Genotype\n",
    "    geno = read_plink(\"${_input:n}\")\n",
    "    X = geno$bed\n",
    "    ### Phenotype\n",
    "    Phenotype_list = read_delim(\"${_phenoFile}\",\"\\t\")\n",
    "    Phenotype_list = Phenotype_list%>%mutate(data = map(dir, ~read_gene_pheno(.x,${str(_input:b).split(\".\")[-2]})))%>%unnest()\n",
    "    Y = Phenotype_list%>%select(-dir)\n",
    "    ## Processing of X and Y \n",
    "\n",
    "\n",
    "\n",
    "    ## Remove covariate\n",
    "    ### Genotype\n",
    "    for ( i in 1:ncol(X) ) {\n",
    "        X[,i] = summary(lm( X[,i] ~ as.matrix(covar[,3:ncol(covar)]) ))$resid\n",
    "        }\n",
    "    X_resid = scale(X)\n",
    "    ### Phenotype\n",
    "    Y_resid = .lm.fit(x = factor, y = pheno)$residuals"
   ]
  }
 ],
 "metadata": {
  "kernelspec": {
   "display_name": "SoS",
   "language": "sos",
   "name": "sos"
  },
  "language_info": {
   "codemirror_mode": "sos",
   "file_extension": ".sos",
   "mimetype": "text/x-sos",
   "name": "sos",
   "nbconvert_exporter": "sos_notebook.converter.SoS_Exporter",
   "pygments_lexer": "sos"
  },
  "sos": {
   "kernels": [
    [
     "SoS",
     "sos",
     "",
     ""
    ]
   ],
   "version": "0.22.6"
  }
 },
 "nbformat": 4,
 "nbformat_minor": 5
}
