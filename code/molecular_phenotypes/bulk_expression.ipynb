{
 "cells": [
  {
   "cell_type": "markdown",
   "id": "level-convention",
   "metadata": {
    "kernel": "SoS",
    "tags": []
   },
   "source": [
    "# RNA-seq expression\n",
    "\n",
    "This document shows the use of various modules to prepare reference data, perform RNA-seq calling, expression level quantification and quality control, and finally normalization. In particular,\n",
    "\n",
    "1. `reference_data.ipynb`\n",
    "2. `RNA_calling.ipynb`\n",
    "3. `bulk_expression_QC.ipynb`\n",
    "4. `bulk_expression_normalization.ipynb`\n",
    "\n",
    "This protocol is meant for generating the expression phenotype for eQTL studies, although a subset of the steps can be equally useful for preparing the data for eg differential gene expression analysis. A minimal working example is available on [Google Drive](https://drive.google.com/drive/u/0/folders/11kQv7PXozsKkgeqADH-28bC_kZ-w_oHo)."
   ]
  },
  {
   "cell_type": "markdown",
   "id": "graduate-chicago",
   "metadata": {
    "kernel": "SoS"
   },
   "source": [
    "## Download reference data (first time use)"
   ]
  },
  {
   "cell_type": "code",
   "execution_count": 1,
   "id": "caring-seeking",
   "metadata": {
    "kernel": "Bash"
   },
   "outputs": [
    {
     "name": "stderr",
     "output_type": "stream",
     "text": [
      "Traceback (most recent call last):\n",
      "  File \"/home/xc2610/miniconda3/lib/python3.9/runpy.py\", line 188, in _run_module_as_main\n",
      "    mod_name, mod_spec, code = _get_module_details(mod_name, _Error)\n",
      "  File \"/home/xc2610/miniconda3/lib/python3.9/runpy.py\", line 147, in _get_module_details\n",
      "    return _get_module_details(pkg_main_name, error)\n",
      "  File \"/home/xc2610/miniconda3/lib/python3.9/runpy.py\", line 111, in _get_module_details\n",
      "    __import__(pkg_name)\n",
      "  File \"/home/xc2610/miniconda3/lib/python3.9/site-packages/bash_kernel/__init__.py\", line 3, in <module>\n",
      "    from .kernel import __version__\n",
      "  File \"/home/xc2610/miniconda3/lib/python3.9/site-packages/bash_kernel/kernel.py\", line 1, in <module>\n",
      "    from ipykernel.kernelbase import Kernel\n",
      "  File \"/home/xc2610/miniconda3/lib/python3.9/site-packages/ipykernel/kernelbase.py\", line 37, in <module>\n",
      "    from IPython.core.error import StdinNotImplementedError\n",
      "  File \"/home/xc2610/miniconda3/lib/python3.9/site-packages/IPython/__init__.py\", line 53, in <module>\n",
      "    from .terminal.embed import embed\n",
      "  File \"/home/xc2610/miniconda3/lib/python3.9/site-packages/IPython/terminal/embed.py\", line 16, in <module>\n",
      "    from IPython.terminal.interactiveshell import TerminalInteractiveShell\n",
      "  File \"/home/xc2610/miniconda3/lib/python3.9/site-packages/IPython/terminal/interactiveshell.py\", line 29, in <module>\n",
      "    from prompt_toolkit.auto_suggest import AutoSuggestFromHistory\n",
      "  File \"/home/xc2610/miniconda3/lib/python3.9/site-packages/prompt_toolkit/__init__.py\", line 16, in <module>\n",
      "    from .application import Application\n",
      "  File \"/home/xc2610/miniconda3/lib/python3.9/site-packages/prompt_toolkit/application/__init__.py\", line 1, in <module>\n",
      "    from .application import Application\n",
      "  File \"/home/xc2610/miniconda3/lib/python3.9/site-packages/prompt_toolkit/application/application.py\", line 41, in <module>\n",
      "    from prompt_toolkit.buffer import Buffer\n",
      "  File \"/home/xc2610/miniconda3/lib/python3.9/site-packages/prompt_toolkit/buffer.py\", line 33, in <module>\n",
      "    from .auto_suggest import AutoSuggest, Suggestion\n",
      "  File \"/home/xc2610/miniconda3/lib/python3.9/site-packages/prompt_toolkit/auto_suggest.py\", line 19, in <module>\n",
      "    from .document import Document\n",
      "  File \"/home/xc2610/miniconda3/lib/python3.9/site-packages/prompt_toolkit/document.py\", line 21, in <module>\n",
      "    from .filters import vi_mode\n",
      "  File \"/home/xc2610/miniconda3/lib/python3.9/site-packages/prompt_toolkit/filters/__init__.py\", line 21, in <module>\n",
      "    from .cli import *\n",
      "  File \"<frozen importlib._bootstrap>\", line 1007, in _find_and_load\n",
      "  File \"<frozen importlib._bootstrap>\", line 986, in _find_and_load_unlocked\n",
      "  File \"<frozen importlib._bootstrap>\", line 680, in _load_unlocked\n",
      "  File \"<frozen importlib._bootstrap_external>\", line 846, in exec_module\n",
      "  File \"<frozen importlib._bootstrap_external>\", line 941, in get_code\n",
      "  File \"<frozen importlib._bootstrap_external>\", line 1040, in get_data\n",
      "KeyboardInterrupt\n"
     ]
    },
    {
     "ename": "RuntimeError",
     "evalue": "Failed to start kernel \"Bash\". Kernel didn't respond in 60 seconds\nError Message:\n",
     "execution_count": 1,
     "output_type": "error",
     "status": "error",
     "traceback": [
      "\u001b[91mFailed to start kernel \"Bash\". Kernel didn't respond in 60 seconds\nError Message:\n\u001b[0m"
     ]
    }
   ],
   "source": [
    "sos run reference_data download_hg_reference --cwd reference_data\n",
    "sos run reference_data download_gene_annotation --cwd reference_data\n",
    "sos run reference_data download_ercc_reference --cwd reference_data"
   ]
  },
  {
   "cell_type": "markdown",
   "id": "judicial-header",
   "metadata": {
    "kernel": "Bash"
   },
   "source": [
    "## Reformat reference data (first time use)"
   ]
  },
  {
   "cell_type": "code",
   "execution_count": null,
   "id": "conscious-provincial",
   "metadata": {
    "kernel": "Bash"
   },
   "outputs": [],
   "source": [
    "sos run reference_data.ipynb hg_reference \\\n",
    "    --cwd reference_data \\\n",
    "    --ercc-reference reference_data/ERCC92.fa \\\n",
    "    --hg-reference reference_data/GRCh38_full_analysis_set_plus_decoy_hla.fa \\\n",
    "    --container container/rna_quantification.sif"
   ]
  },
  {
   "cell_type": "markdown",
   "id": "registered-vulnerability",
   "metadata": {
    "kernel": "Bash"
   },
   "source": [
    "**Notice that for un-stranded RNA-seq protocol please use switch `--no-stranded` to the command below. More details can be found later in the document.**"
   ]
  },
  {
   "cell_type": "code",
   "execution_count": null,
   "id": "sitting-graham",
   "metadata": {
    "kernel": "Bash"
   },
   "outputs": [],
   "source": [
    "sos run reference_data.ipynb gene_annotation \\\n",
    "    --cwd reference_data \\\n",
    "    --ercc-gtf reference_data/ERCC92.gtf \\\n",
    "    --hg-gtf reference_data/Homo_sapiens.GRCh38.103.chr.gtf \\\n",
    "    --hg-reference reference_data/GRCh38_full_analysis_set_plus_decoy_hla.noALT_noHLA_noDecoy_ERCC.fasta \\\n",
    "    --container container/rna_quantification.sif --stranded"
   ]
  },
  {
   "cell_type": "markdown",
   "id": "constitutional-naples",
   "metadata": {
    "kernel": "Bash"
   },
   "source": [
    "## Index reference data"
   ]
  },
  {
   "cell_type": "code",
   "execution_count": null,
   "id": "artificial-ebony",
   "metadata": {
    "kernel": "Bash"
   },
   "outputs": [],
   "source": [
    "sos run reference_data.ipynb STAR_index \\\n",
    "    --cwd reference_data \\\n",
    "    --hg-reference reference_data/GRCh38_full_analysis_set_plus_decoy_hla.noALT_noHLA_noDecoy_ERCC.fasta \\\n",
    "    --hg-gtf reference_data/Homo_sapiens.GRCh38.103.chr.reformatted.ERCC.gtf \\\n",
    "    --container container/rna_quantification.sif \\\n",
    "    --mem 40G"
   ]
  },
  {
   "cell_type": "code",
   "execution_count": null,
   "id": "critical-captain",
   "metadata": {
    "kernel": "Bash"
   },
   "outputs": [],
   "source": [
    "sos run reference_data.ipynb RSEM_index \\\n",
    "    --cwd reference_data \\\n",
    "    --hg-reference reference_data/GRCh38_full_analysis_set_plus_decoy_hla.noALT_noHLA_noDecoy_ERCC.fasta \\\n",
    "    --hg-gtf reference_data/Homo_sapiens.GRCh38.103.chr.reformatted.ERCC.gtf \\\n",
    "    --container container/rna_quantification.sif \\\n",
    "    --mem 40G"
   ]
  },
  {
   "cell_type": "markdown",
   "id": "significant-lodge",
   "metadata": {
    "kernel": "Bash"
   },
   "source": [
    "## Perform data quality summary via `fastqc`"
   ]
  },
  {
   "cell_type": "code",
   "execution_count": null,
   "id": "restricted-offering",
   "metadata": {
    "kernel": "Bash"
   },
   "outputs": [],
   "source": [
    "sos run RNA_calling.ipynb fastqc \\\n",
    "    --cwd output/rnaseq/fastqc \\\n",
    "    --samples data/sample_fastq.list \\\n",
    "    --data-dir data \\\n",
    "    --container container/rna_quantification.sif"
   ]
  },
  {
   "cell_type": "markdown",
   "id": "decent-monroe",
   "metadata": {
    "kernel": "Bash"
   },
   "source": [
    "## Call gene-level RNA expression via `rnaseqc`"
   ]
  },
  {
   "cell_type": "code",
   "execution_count": null,
   "id": "angry-sheffield",
   "metadata": {
    "kernel": "Bash"
   },
   "outputs": [],
   "source": [
    "sos run RNA_calling.ipynb rnaseqc_call \\\n",
    "    --cwd output/rnaseq \\\n",
    "    --samples data/sample_fastq.list \\\n",
    "    --data-dir data \\\n",
    "    --fasta_with_adapters_etc TruSeq3-PE.fa \\\n",
    "    --STAR-index reference_data/STAR_Index/ \\\n",
    "    --gtf reference_data/Homo_sapiens.GRCh38.103.chr.reformatted.gene.ERCC.gtf \\\n",
    "    --container container/rna_quantification.sif \\\n",
    "    --mem 40G"
   ]
  },
  {
   "cell_type": "markdown",
   "id": "scenic-ensemble",
   "metadata": {
    "kernel": "Bash"
   },
   "source": [
    "## Call transcript level RNA expression via `RSEM`"
   ]
  },
  {
   "cell_type": "code",
   "execution_count": null,
   "id": "everyday-mountain",
   "metadata": {
    "kernel": "Bash"
   },
   "outputs": [],
   "source": [
    "sos run RNA_calling.ipynb rsem_call \\\n",
    "    --cwd output/rnaseq \\\n",
    "    --samples data/sample_fastq.list \\\n",
    "    --data-dir data \\\n",
    "    --fasta_with_adapters_etc TruSeq3-PE.fa \\\n",
    "    --STAR-index reference_data/STAR_Index/ \\\n",
    "    --RSEM-index reference_data/RSEM_Index/ \\\n",
    "    --container container/rna_quantification.sif \\\n",
    "    --mem 40G"
   ]
  },
  {
   "cell_type": "markdown",
   "id": "little-circulation",
   "metadata": {
    "kernel": "Bash"
   },
   "source": [
    "## Multi-sample RNA-seq QC"
   ]
  },
  {
   "cell_type": "markdown",
   "id": "weekly-listening",
   "metadata": {
    "kernel": "Bash"
   },
   "source": [
    "We need to use a different MWE data-set that contains multiple samples -- here is the [Google Drive link](https://drive.google.com/drive/u/0/folders/1Rv2bWHBbX_tastTh49ToYVDMV6rFP5Wk)."
   ]
  },
  {
   "cell_type": "code",
   "execution_count": null,
   "id": "overhead-illness",
   "metadata": {
    "kernel": "Bash"
   },
   "outputs": [],
   "source": [
    "sos run bulk_expression_QC.ipynb qc \\\n",
    "    --cwd output \\\n",
    "    --tpm-gct data/mwe.TPM.gct \\\n",
    "    --counts-gct data/mwe.Counts.gct \\\n",
    "    --container container/rna_quantification.sif"
   ]
  },
  {
   "cell_type": "markdown",
   "id": "attached-oasis",
   "metadata": {
    "kernel": "Bash"
   },
   "source": [
    "## Multi-sample read count normalization"
   ]
  },
  {
   "cell_type": "code",
   "execution_count": null,
   "id": "awful-listening",
   "metadata": {
    "kernel": "Bash"
   },
   "outputs": [],
   "source": [
    "sos run bulk_expression_normalization.ipynb normalize \\\n",
    "    --cwd output \\\n",
    "    --tpm-gct data/mwe.low_expression_filtered.outlier_removed.tpm.gct.gz \\\n",
    "    --counts-gct data/mwe.low_expression_filtered.outlier_removed.geneCount.gct.gz \\\n",
    "    --annotation-gtf reference_data/Homo_sapiens.GRCh38.103.chr.reformatted.gene.ERCC.gtf  \\\n",
    "    --sample-participant-lookup data/sampleSheetAfterQC.txt \\\n",
    "    --container container/rna_quantification.sif \\\n",
    "    --count-threshold 1"
   ]
  }
 ],
 "metadata": {
  "kernelspec": {
   "display_name": "SoS",
   "language": "sos",
   "name": "sos"
  },
  "language_info": {
   "codemirror_mode": "sos",
   "file_extension": ".sos",
   "mimetype": "text/x-sos",
   "name": "sos",
   "nbconvert_exporter": "sos_notebook.converter.SoS_Exporter",
   "pygments_lexer": "sos"
  },
  "sos": {
   "kernels": [
    [
     "Bash",
     "bash",
     "Bash",
     "#E6EEFF",
     "shell"
    ],
    [
     "SoS",
     "sos",
     "",
     "",
     "sos"
    ]
   ],
   "version": "0.23.3"
  }
 },
 "nbformat": 4,
 "nbformat_minor": 5
}
