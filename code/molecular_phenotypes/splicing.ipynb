{
 "cells": [
  {
   "cell_type": "markdown",
   "id": "binding-ottawa",
   "metadata": {
    "kernel": "SoS",
    "tags": []
   },
   "source": [
    "# Alternative splicing from RNA-seq data\n",
    "\n",
    "This document shows the use of moudules for Quantification, Quality Control + Normalization for Splicing events analysis, and converting the results to molecular phenotype data in `bed` format. In particular:\n",
    "\n",
    "1. `molecular_phenotypes/calling/splicing_calling.ipynb`\n",
    "2. `molecular_phenotypes/QC/splicing_normalization.ipynb`\n",
    "3. `data_preprocessing/phenotype/gene_annotation.ipynb`\n",
    "\n",
    "Two tools, leafCutter and Psichomics are used in this splicing analyzing workflow and please check the corresponding modules for code documentation. Various reference data need to be prepared before using this workflow, please check [this module](https://cumc.github.io/xqtl-pipeline/code/data_preprocessing/reference_data.html) to download and prepare the reference data. \n",
    "\n",
    "A minimal working example with prepared leafcutter and psichomics input can be download [here](https://drive.google.com/drive/folders/1lpcx3eKG2UpauntLUuJ6bMBjHyIhWW_R). The minimal working example files are publicly available data from the [1000 Genomes Project](https://www.ebi.ac.uk/arrayexpress/experiments/E-GEUV-1/), an international research project with an extensive catalog of human genome variation. For the minimal working example, 3 of 465 unrelated human lymphoblastoid cell lines from the 1000 Genomes Project was selected to produce leafcutter and psichomics example inputs via STAR alignment. For details of the preperation method of the minimal working example please check [this document](https://docs.google.com/document/d/1Gmk8C-zhfQRLceYE9ViGl_JcoSbkJn3jPe-E9y3L-UM/edit).\n"
   ]
  },
  {
   "cell_type": "markdown",
   "id": "ba33210e-63a0-4c89-b3cd-c6a6fd10fe5f",
   "metadata": {
    "kernel": "Markdown",
    "tags": []
   },
   "source": [
    "## Intron usage ratio quantification via `leafCutter`"
   ]
  },
  {
   "cell_type": "code",
   "execution_count": null,
   "id": "63bcc8fc-7c48-45fd-8ca6-24b2df2cfc61",
   "metadata": {
    "kernel": "Bash",
    "tags": []
   },
   "outputs": [],
   "source": [
    "sos run pipeline/splicing_calling.ipynb leafcutter \\\n",
    "    --cwd leafcutter_output/ \\\n",
    "    --samples  sample_fastq_bam_list\\\n",
    "    --container containers/leafcutter.sif "
   ]
  },
  {
   "cell_type": "markdown",
   "id": "eb9cd0d0-b276-4af0-bc4c-722f0bde19a4",
   "metadata": {
    "kernel": "SoS"
   },
   "source": [
    "## Percent Spliced In (PSI) quantification for alternative splicing events via `Psichomics`"
   ]
  },
  {
   "cell_type": "code",
   "execution_count": null,
   "id": "315abc98-6eef-472d-b072-ccad5b15c5dc",
   "metadata": {
    "kernel": "Bash",
    "tags": []
   },
   "outputs": [],
   "source": [
    "sos run splicing_calling.ipynb psichomics \\\n",
    "    --cwd psichomics_output/ \\\n",
    "    --samples sample_fastq_bam_list\\\n",
    "    --splicing_annotation hg38_suppa.rds \\\n",
    "    --container containers/psichomics.sif"
   ]
  },
  {
   "cell_type": "markdown",
   "id": "76a2be61-279c-412e-ac2c-486ac03c3f18",
   "metadata": {
    "kernel": "SoS"
   },
   "source": [
    "## QC and Normalization of leafCutter outputs"
   ]
  },
  {
   "cell_type": "code",
   "execution_count": null,
   "id": "18794388-051e-4dca-912f-646d20c460ef",
   "metadata": {
    "kernel": "Bash",
    "tags": []
   },
   "outputs": [],
   "source": [
    "sos run pipeline/splicing_normalization.ipynb leafcutter_norm \\\n",
    "    --cwd leafcutter_output/ \\\n",
    "    --ratios leafcutter_output/sample_list_intron_usage_perind.counts.gz \\\n",
    "    --container containers/leafcutter.sif "
   ]
  },
  {
   "cell_type": "markdown",
   "id": "57fd143b-3cfa-484d-a208-ba09a3238b92",
   "metadata": {
    "kernel": "SoS"
   },
   "source": [
    "## QC and Normalization of psichomics outputs"
   ]
  },
  {
   "cell_type": "code",
   "execution_count": null,
   "id": "8117c046-b0f1-4ef4-875e-2d0bbb1b99bb",
   "metadata": {
    "kernel": "Bash"
   },
   "outputs": [],
   "source": [
    "sos run pipeline/splicing_normalization.ipynb psichomics_norm\\\n",
    "    --cwd psichomics_output \\\n",
    "    --ratios psichomics_output/psi_raw_data.tsv \\\n",
    "    --container containers/psichomics.sif"
   ]
  },
  {
   "cell_type": "markdown",
   "id": "b15ab174-b9e5-44a7-b1ec-9d9365149922",
   "metadata": {
    "kernel": "SoS"
   },
   "source": [
    "## Process leafcutter and psichomics outputs for them to be TensorQTL ready"
   ]
  },
  {
   "cell_type": "code",
   "execution_count": null,
   "id": "75febff1-0246-4dde-b6bb-71e35c4ce521",
   "metadata": {
    "kernel": "Markdown",
    "tags": []
   },
   "outputs": [],
   "source": [
    "# code still in testing, to be added"
   ]
  }
 ],
 "metadata": {
  "kernelspec": {
   "display_name": "SoS",
   "language": "sos",
   "name": "sos"
  },
  "language_info": {
   "codemirror_mode": "sos",
   "file_extension": ".sos",
   "mimetype": "text/x-sos",
   "name": "sos",
   "nbconvert_exporter": "sos_notebook.converter.SoS_Exporter",
   "pygments_lexer": "sos"
  },
  "sos": {
   "kernels": [
    [
     "Bash",
     "bash",
     "Bash",
     "#E6EEFF",
     "shell"
    ],
    [
     "Markdown",
     "markdown",
     "markdown",
     "",
     "markdown"
    ]
   ],
   "version": "0.22.9"
  }
 },
 "nbformat": 4,
 "nbformat_minor": 5
}
