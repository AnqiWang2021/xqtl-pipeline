{
 "cells": [
  {
   "cell_type": "markdown",
   "id": "monthly-offer",
   "metadata": {
    "kernel": "SoS",
    "tags": []
   },
   "source": [
    "# Methylation"
   ]
  },
  {
   "cell_type": "markdown",
   "id": "supreme-fighter",
   "metadata": {
    "kernel": "SoS"
   },
   "source": [
    "## Quantification of methylation data\n",
    "\n"
   ]
  },
  {
   "cell_type": "code",
   "execution_count": null,
   "id": "7686db50-6e00-406b-923f-6e7a3fe1c7ae",
   "metadata": {},
   "outputs": [],
   "source": []
  },
  {
   "cell_type": "markdown",
   "id": "2268d4ba-0d9d-4344-8bb8-43faf8cf31c0",
   "metadata": {},
   "source": [
    "## Soft Impute to remove NA\n",
    "\n",
    "\n",
    "Many of the methylation matrix are filled with NA, softImputation are applied to the result."
   ]
  },
  {
   "cell_type": "code",
   "execution_count": null,
   "id": "9314734b-ce46-453a-9e36-413a19400768",
   "metadata": {},
   "outputs": [],
   "source": []
  }
 ],
 "metadata": {
  "kernelspec": {
   "display_name": "Bash",
   "language": "bash",
   "name": "bash"
  },
  "language_info": {
   "codemirror_mode": "shell",
   "file_extension": ".sh",
   "mimetype": "text/x-sh",
   "name": "bash"
  },
  "sos": {
   "kernels": [
    [
     "Bash",
     "bash",
     "Bash",
     "#E6EEFF",
     "shell"
    ],
    [
     "SoS",
     "sos",
     "",
     "",
     "sos"
    ]
   ],
   "version": "0.22.6"
  }
 },
 "nbformat": 4,
 "nbformat_minor": 5
}
