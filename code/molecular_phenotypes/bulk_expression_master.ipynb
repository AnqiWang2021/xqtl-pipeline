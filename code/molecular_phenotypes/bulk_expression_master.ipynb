{
 "cells": [
  {
   "cell_type": "markdown",
   "id": "level-convention",
   "metadata": {
    "kernel": "SoS",
    "tags": []
   },
   "source": [
    "# RNA-seq calling and QC\n",
    "\n",
    "This document shows the use of various modules to prepare reference data, perform RNA-seq calling, expression level quantification and quality control. In particular,\n",
    "\n",
    "1. [`reference_data.ipynb`](../data_preprocessing/reference_data.html)\n",
    "2. [`RNA_calling.ipynb`](calling/RNA_calling.html)\n",
    "3. [`readCount_QC.ipynb`](QC/readCount_QC.html)\n",
    "\n",
    "A minimal working example is available on [Google Drive](https://drive.google.com/drive/u/0/folders/11kQv7PXozsKkgeqADH-28bC_kZ-w_oHo)."
   ]
  },
  {
   "cell_type": "markdown",
   "id": "2d04a58d-04a8-4cf2-908a-d9f871f70104",
   "metadata": {
    "kernel": "SoS"
   },
   "source": [
    "This is a master control notebook for the molecular_phenotype_calling section of our pipeline. When following example commands was excuted, it will checked if the reference data was presented and generate the reference data if not. After that, molecular phenotype calling will be done based on the recipe that were fed into it. For each rows in the recipe, It will output a bed.gz file that are ready for downstream analysis.\n",
    "\n",
    "By default, the reference data is assumed to be stored in the reference_data folder under the cwd. However, user can specify whether the \n",
    "\n",
    "- Input:\n",
    "\n",
    "    A recipe file, with columns: `\"Theme\", \"Sample_fastq_list\", \"Data_dir\"`\n",
    "\n",
    "- Output: \n",
    "    \n",
    "    A bed.gz file for each row in the Input\n",
    "  \n",
    "- parameters: \n",
    "    \n",
    "    - flag `--is-stranded` or `--no-is-stranded` : whether the rna seq data intended to be called is stranded or not. \n",
    "    - flag `--pair-ended` or `--no-pair-ended` : whether the rna seq data intended to be called is paired-ended or not.\n",
    "    - `--exe_dir` : diretory to the workflow notebook\n",
    "    - `--sample-participant-lookup` : a sample participant lookup table with the first column being sample ID and second column being the cooresponding sample ids in the genotype file"
   ]
  },
  {
   "cell_type": "code",
   "execution_count": null,
   "id": "54004a97-2183-4adb-88fb-8ded125a2128",
   "metadata": {
    "kernel": "SoS"
   },
   "outputs": [],
   "source": [
    "[global]\n",
    "## The aforementioned input recipe\n",
    "parameter: recipe = path\n",
    "## Overall wd, the file structure of analysis is wd/[steps]/[sub_dir for each steps]\n",
    "parameter:  cwd = path(\".\")\n",
    "## dir to store the reference data\n",
    "parameter: refd = f'{cwd}/reference_data/'\n",
    "\n",
    "## Diretory to the excutable\n",
    "parameter: exe_dir = path(\"~/GIT/xqtl-pipeline/\")\n",
    "parameter: container = '/mnt/mfs/statgen/containers/twas_latest.sif'\n",
    "parameter: container_base_bioinfo = '/mnt/mfs/statgen/containers/bioinfo.sif'\n",
    "parameter: container_apex = '/mnt/mfs/statgen/containers/apex.sif'\n",
    "parameter: container_PEER = '/mnt/mfs/statgen/containers/PEER.sif'\n",
    "parameter: container_TensorQTL = '/mnt/mfs/statgen/containers//TensorQTL.sif'\n",
    "parameter: container_rnaquant = '/mnt/mfs/statgen/containers/rna_quantification.sif'\n",
    "parameter: container_flashpca = '/mnt/mfs/statgen/containers/flashpcaR.sif'\n",
    "parameter: sample_participant_lookup = path\n",
    "parameter: phenotype_id_type = \"gene_name\" \n",
    "parameter: yml = path(\"csg.yml\") \n",
    "import pandas as pd\n",
    "input_inv = pd.read_csv(recipe, sep = \"\\t\").to_dict(\"records\")\n",
    "import os"
   ]
  },
  {
   "cell_type": "markdown",
   "id": "graduate-chicago",
   "metadata": {
    "kernel": "SoS"
   },
   "source": [
    "## Download, Process, and index reference data (first time use)"
   ]
  },
  {
   "cell_type": "markdown",
   "id": "bbb2f3ce-097e-4e84-bf1f-3a37501529d4",
   "metadata": {
    "kernel": "SoS"
   },
   "source": [
    "### Download reference and annotation data (first time use)"
   ]
  },
  {
   "cell_type": "code",
   "execution_count": null,
   "id": "caring-seeking",
   "metadata": {
    "kernel": "Bash"
   },
   "outputs": [],
   "source": [
    "[ref_data_1,download_reference_data]\n",
    "output: f'{refd:a}/GRCh38_full_analysis_set_plus_decoy_hla.fa',\n",
    "        f\"{refd:a}/Homo_sapiens.GRCh38.103.chr.gtf\",\n",
    "        f\"{refd:a}/ERCC92.gtf\", f\"{refd:a}/ERCC92.fa\"\n",
    "bash:  expand = \"$[ ]\", stderr = f'{_output}.stderr', stdout = f'{_output}.stdout'\n",
    "        sos run $[exe_dir]/pipeline/reference_data.ipynb download_hg_reference --cwd $[_output[0]:d]\n",
    "        sos run $[exe_dir]/pipeline/reference_data.ipynb download_gene_annotation --cwd $[_output[0]:d]\n",
    "        sos run $[exe_dir]/pipeline/reference_data.ipynb download_ercc_reference --cwd $[_output[0]:d]"
   ]
  },
  {
   "cell_type": "markdown",
   "id": "judicial-header",
   "metadata": {
    "kernel": "Bash"
   },
   "source": [
    "### Reformat reference and annotation data (first time use)"
   ]
  },
  {
   "cell_type": "code",
   "execution_count": null,
   "id": "conscious-provincial",
   "metadata": {
    "kernel": "Bash"
   },
   "outputs": [],
   "source": [
    "[ref_data_2]\n",
    "output:  f'{_input[0]:n}.noALT_noHLA_noDecoy_ERCC.fasta',f'{_input[0]:bn}.noALT_noHLA_noDecoy_ERCC.dict'\n",
    "bash:  expand = \"$[ ]\", stderr = f'{_output}.stderr', stdout = f'{_output}.stdout'\n",
    "        sos run $[exe_dir]/reference_data.ipynb hg_reference \\\n",
    "            --cwd $[_output[0]:d] \\\n",
    "            --ercc-reference $[_input[3]] \\\n",
    "            --hg-reference $[_input[1]] \\\n",
    "            --container $[container_rnaquant]"
   ]
  },
  {
   "cell_type": "code",
   "execution_count": null,
   "id": "27df42af-a2ef-48f8-9176-edf5294e69e2",
   "metadata": {
    "kernel": "Bash"
   },
   "outputs": [],
   "source": [
    "**Notice: you need to know if your RNA-seq data is stranded or unstranded. If it is stranded, you should add `--is-stranded` to the command below.**"
   ]
  },
  {
   "cell_type": "code",
   "execution_count": null,
   "id": "1ecc25b5-7dea-4c6a-81d4-6583068f956e",
   "metadata": {
    "kernel": "Bash"
   },
   "outputs": [],
   "source": [
    "[gene_annotation]\n",
    "parameter: is_stranded = bool\n",
    "input: output_from(ref_data_1),output_from(ref_data_2)[0]\n",
    "output: f'{_input[1]:n}.reformatted.ERCC.gtf', f'{_input[1]:n}.reformatted.{\".collapse_only\" if is_stranded else \"\"}.gene.ERCC.gtf'\n",
    "bash:  expand = \"$[ ]\", stderr = f'{_output}.stderr', stdout = f'{_output}.stdout'\n",
    "    sos run $[exe_dir]/reference_data.ipynb gene_annotation \\\n",
    "            --cwd $[_output[0]:d] \\\n",
    "            --ercc-gtf $[_input[2]] \\\n",
    "            --hg-gtf $[_input[1]] \\\n",
    "            --hg-reference $[_input[4]] \\\n",
    "            --container $[container_rnaquant] \\\n",
    "            $[--is-stranded if is_stranded else --no-is-stranded]"
   ]
  },
  {
   "cell_type": "markdown",
   "id": "constitutional-naples",
   "metadata": {
    "kernel": "Bash"
   },
   "source": [
    "### Generation of Index (First time only)"
   ]
  },
  {
   "cell_type": "code",
   "execution_count": null,
   "id": "artificial-ebony",
   "metadata": {
    "kernel": "Bash"
   },
   "outputs": [],
   "source": [
    "[indexing]\n",
    "input: output_from(gene_annotation)[1],output_from(ref_data_2)[0]\n",
    "output: f\"{refd:a}/RSEM_Index/rsem_reference.n2g.idx.fa\", \n",
    "        f\"{refd:a}/RSEM_Index/rsem_reference.grp\", \n",
    "        f\"{refd:a}/RSEM_Index/rsem_reference.idx.fa\",\n",
    "        f\"{refd:a}/RSEM_Index/rsem_reference.ti\", \n",
    "        f\"{refd:a}/RSEM_Index/rsem_reference.chrlist\",\n",
    "        f\"{refd:a}/RSEM_Index/rsem_reference.seq\", \n",
    "        f\"{refd:a}/RSEM_Index/rsem_reference.transcripts.fa\",\n",
    "        f\"{refd:a}/STAR_Index/chrName.txt\",\n",
    "        f\"{refd:a}/STAR_Index/Log.out\", \n",
    "        f\"{refd:a}/STAR_Index/transcriptInfo.tab\",\n",
    "        f\"{refd:a}/STAR_Index/exonGeTrInfo.tab\", \n",
    "        f\"{refd:a}/STAR_Index/SAindex\",\n",
    "        f\"{refd:a}/STAR_Index/SA\",\n",
    "        f\"{refd:a}/STAR_Index/genomeParameters.txt\", \n",
    "        f\"{refd:a}/STAR_Index/chrStart.txt\",\n",
    "        f\"{refd:a}/STAR_Index/sjdbList.out.tab\", \n",
    "        f\"{refd:a}/STAR_Index/exonInfo.tab\",\n",
    "        f\"{refd:a}/STAR_Index/sjdbList.fromGTF.out.tab\", \n",
    "        f\"{refd:a}/STAR_Index/chrLength.txt\",\n",
    "        f\"{refd:a}/STAR_Index/sjdbInfo.txt\", \n",
    "        f\"{refd:a}/STAR_Index/Genome\",\n",
    "        f\"{refd:a}/STAR_Index/chrNameLength.txt\", \n",
    "        f\"{refd:a}/STAR_Index/geneInfo.tab\"\n",
    "bash:  expand = \"$[ ]\", stderr = f'{_output}.stderr', stdout = f'{_output}.stdout'\n",
    "sos run $[exe_dir]/reference_data.ipynb STAR_index RSEM_index \\\n",
    "    --cwd $[refd:a] \\\n",
    "    --hg-reference $[_input[1]] \\\n",
    "    --hg-gtf $[_input[0]] \\\n",
    "    --container $[container_rnaquant] \\\n",
    "    --mem 40G"
   ]
  },
  {
   "cell_type": "markdown",
   "id": "047b4522-d11d-4ab5-bbe5-c006f0f60e2f",
   "metadata": {
    "kernel": "Bash"
   },
   "source": []
  },
  {
   "cell_type": "markdown",
   "id": "significant-lodge",
   "metadata": {
    "kernel": "Bash"
   },
   "source": [
    "## Perform data quality summary via `fastqc`\n",
    "\n",
    "**You need to figure out from fastqc results what adapter reference sequence to use for `--fasta_with_adapters_etc`. See section Step 1 below for details**. We chose `--fasta_with_adapters_etc TruSeq3-PE.fa` for our toy example.\n",
    "\n",
    "* `fasta_with_adapters_etc`: **filename** for the adapter reference file. According to `Trimmomatic` documention,\n",
    "\n",
    "> As a rule of thumb newer libraries will use `TruSeq3`, but this really depends on your service provider. If you use FASTQC, the \"Overrepresented Sequences\" report can help indicate which adapter file is best suited for your data. \"Illumina Single End\" or \"Illumina Paired End\" sequences indicate single-end or paired-end `TruSeq2` libraries, and the appropriate adapter files are `TruSeq2-SE.fa` and `TruSeq2-PE.fa` respectively. \"TruSeq Universal Adapter\" or \"TruSeq Adapter, Index …\" indicates `TruSeq-3` libraries, and the appropriate adapter files are `TruSeq3-SE.fa` or `TruSeq3-PE.fa`, for single-end and paired-end data respectively. Adapter sequences for `TruSeq2` multiplexed libraries, indicated by \"Illumina Multiplexing \n",
    "…\", and the various RNA library preparations are not currently included.\n",
    "\n",
    "We have `fastqc` workflow defined as followed. Users should decide what fasta adapter reference to use based on `fastqc` results (or their own knowledge).\n",
    "It is assumed that all studies that were ran in one run are using the same adapter file\n",
    "\n",
    "\n"
   ]
  },
  {
   "cell_type": "code",
   "execution_count": null,
   "id": "d7113a92-d031-4c0b-b419-198db0413cd5",
   "metadata": {
    "kernel": "Bash"
   },
   "outputs": [],
   "source": [
    "[fastqc]\n",
    "input: for_each = \"input_inv\"\n",
    "output: f'{cwd:a}/output/rnaseq/fastqc/'\n",
    "bash:  expand = \"$[ ]\", stderr = f'{_output}.stderr', stdout = f'{_output}.stdout'\n",
    "    sos run $[exe_dir]/RNA_calling.ipynb fastqc \\\n",
    "        --cwd $[_output[0]:d] \\\n",
    "        --samples $[_input_inv['Sample_fastq_list']] \\\n",
    "        --data-dir $[_input_inv['Data_dir']]   \\\n",
    "        --container $[container_rnaquant]"
   ]
  },
  {
   "cell_type": "markdown",
   "id": "f23af610-1453-4c2f-9bbb-5ac8da7b390d",
   "metadata": {
    "kernel": "Bash"
   },
   "source": [
    "## Multi-sample RNA-seq Calling, QC, and normalizations (Automatically for every studies using the same set of ref/index/gtf)"
   ]
  },
  {
   "cell_type": "code",
   "execution_count": null,
   "id": "restricted-offering",
   "metadata": {
    "kernel": "Bash"
   },
   "outputs": [],
   "source": []
  },
  {
   "cell_type": "markdown",
   "id": "decent-monroe",
   "metadata": {
    "kernel": "Bash"
   },
   "source": [
    "### Call gene-level RNA expression via `rnaseqc`"
   ]
  },
  {
   "cell_type": "code",
   "execution_count": null,
   "id": "angry-sheffield",
   "metadata": {
    "kernel": "Bash"
   },
   "outputs": [],
   "source": [
    "[rnaseqc]\n",
    "parameter:fasta_with_adapters_etc = \"TruSeq3-PE.fa\"\n",
    "input:  output_from(\"gene_annotation\")[-1],output_from(\"indexing\")[-1],for_each = \"input_inv\"\n",
    "output: \n",
    "bash:  expand = \"$[ ]\", stderr = f'{_output}.stderr', stdout = f'{_output}.stdout'\n",
    "sos run RNA_calling.ipynb rnaseqc_call \\\n",
    "    --cwd $[_output[0]:d]/ \\\n",
    "    --samples  $[_input_inv['Sample_fastq_list']] \\\n",
    "    --data-dir $[_input_inv['Data_dir']] \\\n",
    "    --fasta_with_adapters_etc $[fasta_with_adapters_etc]  \\\n",
    "    --STAR-index $[_input[1]:d] \\\n",
    "    --gtf $[_input[0]] \\\n",
    "    --container $[container_rnaquant] \\\n",
    "    --mem 40G"
   ]
  },
  {
   "cell_type": "markdown",
   "id": "scenic-ensemble",
   "metadata": {
    "kernel": "Bash"
   },
   "source": [
    "### Call transcript level RNA expression via `RSEM`"
   ]
  },
  {
   "cell_type": "code",
   "execution_count": null,
   "id": "everyday-mountain",
   "metadata": {
    "kernel": "Bash"
   },
   "outputs": [],
   "source": [
    "[RSEM]\n",
    "parameter:fasta_with_adapters_etc = \"TruSeq3-PE.fa\"\n",
    "input:  output_from(\"indexing\")[0],output_from(\"indexing\")[-1],for_each = \"input_inv\"\n",
    "output: \n",
    "bash:  expand = \"$[ ]\", stderr = f'{_output}.stderr', stdout = f'{_output}.stdout'\n",
    "sos run RNA_calling.ipynb rnaseqc_call \\\n",
    "    --cwd $[_output[0]:d]/ \\\n",
    "    --samples  $[_input_inv['Sample_fastq_list']] \\\n",
    "    --data-dir $[_input_inv['Data_dir']] \\\n",
    "    --fasta_with_adapters_etc $[fasta_with_adapters_etc]  \\\n",
    "    --STAR-index $[_input[1]:d] \\\n",
    "    --RSEM-index $[_input[0]:d] \\\n",
    "    --container $[container_rnaquant] \\\n",
    "    --mem 40G"
   ]
  },
  {
   "cell_type": "markdown",
   "id": "little-circulation",
   "metadata": {
    "kernel": "Bash"
   },
   "source": [
    "## Multi-sample RNA-seq QC (For every set of samples)"
   ]
  },
  {
   "cell_type": "markdown",
   "id": "weekly-listening",
   "metadata": {
    "kernel": "Bash"
   },
   "source": [
    "We need to use a different MWE data-set that contains multiple samples -- here is the [Google Drive link](https://drive.google.com/drive/u/0/folders/1Rv2bWHBbX_tastTh49ToYVDMV6rFP5Wk)."
   ]
  },
  {
   "cell_type": "code",
   "execution_count": null,
   "id": "overhead-illness",
   "metadata": {
    "kernel": "Bash"
   },
   "outputs": [],
   "source": [
    "[QC]\n",
    "input: output_from(\"\"),output_from(\"QC\")\n",
    "output: \n",
    "bash:  expand = \"$[ ]\", stderr = f'{_output}.stderr', stdout = f'{_output}.stdout'\n",
    "\n",
    "    sos run bulk_expression_QC.ipynb qc \\\n",
    "        --cwd output \\\n",
    "        --tpm-gct data/mwe.TPM.gct \\\n",
    "        --counts-gct data/mwe.Counts.gct \\\n",
    "        --container container/rna_quantification.sif"
   ]
  },
  {
   "cell_type": "markdown",
   "id": "attached-oasis",
   "metadata": {
    "kernel": "Bash"
   },
   "source": [
    "## Multi-sample read count normalization (For every set of samples)"
   ]
  },
  {
   "cell_type": "code",
   "execution_count": null,
   "id": "awful-listening",
   "metadata": {
    "kernel": "Bash"
   },
   "outputs": [],
   "source": [
    "[normalization]\n",
    "parameter: sample-participant-lookup = path\n",
    "input: output_from(\"QC\"),output_from(\"gene_annotation\")\n",
    "output: \n",
    "bash:  expand = \"$[ ]\", stderr = f'{_output}.stderr', stdout = f'{_output}.stdout'\n",
    "sos run bulk_expression_normalization.ipynb normalize \\\n",
    "    --cwd $[_output:d] \\\n",
    "    --tpm-gct $[_input[0]] \\\n",
    "    --counts-gct $[_input[1]] \\\n",
    "    --annotation-gtf  $[_input[-1]]  \\\n",
    "    --sample-participant-lookup $[sample-participant-lookup] \\\n",
    "    --container $[container_rnaquant]  \\\n",
    "    --count-threshold 1"
   ]
  }
 ],
 "metadata": {
  "kernelspec": {
   "display_name": "SoS",
   "language": "sos",
   "name": "sos"
  },
  "language_info": {
   "codemirror_mode": "sos",
   "file_extension": ".sos",
   "mimetype": "text/x-sos",
   "name": "sos",
   "nbconvert_exporter": "sos_notebook.converter.SoS_Exporter",
   "pygments_lexer": "sos"
  },
  "sos": {
   "kernels": [
    [
     "Bash",
     "bash",
     "Bash",
     "#E6EEFF",
     "shell"
    ],
    [
     "SoS",
     "sos",
     "",
     "",
     "sos"
    ]
   ],
   "version": "0.22.4"
  }
 },
 "nbformat": 4,
 "nbformat_minor": 5
}
