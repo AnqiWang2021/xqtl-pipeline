{
 "cells": [
  {
   "cell_type": "markdown",
   "id": "monthly-offer",
   "metadata": {
    "kernel": "SoS",
    "tags": []
   },
   "source": [
    "# Quantifying methylation data"
   ]
  },
  {
   "cell_type": "markdown",
   "id": "supreme-fighter",
   "metadata": {
    "kernel": "SoS",
    "tags": []
   },
   "source": [
    "## Methods overview\n",
    "\n",
    "To be completed."
   ]
  },
  {
   "cell_type": "markdown",
   "id": "rough-robinson",
   "metadata": {
    "jp-MarkdownHeadingCollapsed": true,
    "kernel": "SoS",
    "tags": []
   },
   "source": [
    "## Input\n",
    "\n",
    "1. `phenoFile`: The input of this module is a folder containing all the IDAT file, 1 pair for each sample. Directly under the folder, there should be one companion csv file that documenting all the meta-information of the bisulfite sequencing. Please specify the `phenoFile` as the path to this companion SampleSheet csv file\n",
    "\n",
    "2. Optional: `cross_reactive`: A list of cpg probe that are reported to [map to multiple regions in the genome.](https://academic.oup.com/nargab/article/2/4/lqaa105/6040968) "
   ]
  },
  {
   "cell_type": "markdown",
   "id": "former-desert",
   "metadata": {
    "kernel": "SoS"
   },
   "source": [
    "## Output\n",
    "\n",
    "A pair bed.gz file for both beta and m value.\n"
   ]
  },
  {
   "cell_type": "markdown",
   "id": "olympic-optics",
   "metadata": {
    "kernel": "SoS"
   },
   "source": [
    "## Minimal working example\n",
    "\n",
    "\n"
   ]
  },
  {
   "cell_type": "code",
   "execution_count": null,
   "id": "5d2c7881-2243-41a3-b77c-27bcaa44f56d",
   "metadata": {
    "kernel": "SoS"
   },
   "outputs": [],
   "source": [
    "sos run pipeline/methylation_calling.ipynb sesame_methylation \\\n",
    "    --phenoFile data/MWE/MWE_Sample_sheet.csv \\\n",
    "    --container containers/methylation.sif -n"
   ]
  },
  {
   "cell_type": "markdown",
   "id": "temporal-worse",
   "metadata": {
    "kernel": "Bash"
   },
   "source": [
    "## Command interface"
   ]
  },
  {
   "cell_type": "code",
   "execution_count": 1,
   "id": "supported-mozambique",
   "metadata": {
    "kernel": "Bash"
   },
   "outputs": [
    {
     "name": "stdout",
     "output_type": "stream",
     "text": [
      "usage: sos run methylation_calling.ipynb\n",
      "               [workflow_name | -t targets] [options] [workflow_options]\n",
      "  workflow_name:        Single or combined workflows defined in this script\n",
      "  targets:              One or more targets to generate\n",
      "  options:              Single-hyphen sos parameters (see \"sos run -h\" for details)\n",
      "  workflow_options:     Double-hyphen workflow-specific parameters\n",
      "\n",
      "Workflows:\n",
      "  methylation\n",
      "\n",
      "Global Workflow Options:\n",
      "  --cwd output (as path)\n",
      "                        The output directory for generated files.\n",
      "  --phenoFile VAL (as path, required)\n",
      "                        The companion sample sheet csv file as outlined in the\n",
      "                        input section.\n",
      "  --job-size 1 (as int)\n",
      "                        For cluster jobs, number commands to run per job\n",
      "  --walltime 5h\n",
      "                        Wall clock time expected\n",
      "  --mem 16G\n",
      "                        Memory expected\n",
      "  --numThreads 8 (as int)\n",
      "                        Number of threads\n",
      "  --container ''\n",
      "                        Software container option\n",
      "\n",
      "Sections\n",
      "  methylation_1:\n",
      "    Workflow Options:\n",
      "      --samples-pval-tre 0.05 (as float)\n",
      "      --probe-det-pval-tre 0.01 (as float)\n",
      "      --bisulfite-conversion-tre 85 (as int)\n",
      "      --cross-reactive /opt/cross_reactive_probe_Hop2020.txt (as path)\n",
      "                        Use the default list in our docker, if want to skip\n",
      "                        methylation, specify it as \".\"\n",
      "      --hg 38 (as int)\n",
      "  methylation_2:\n"
     ]
    }
   ],
   "source": [
    "sos run methylation_calling.ipynb -h"
   ]
  },
  {
   "cell_type": "markdown",
   "id": "alpine-frame",
   "metadata": {
    "kernel": "SoS"
   },
   "source": [
    "## Setup and global parameters"
   ]
  },
  {
   "cell_type": "code",
   "execution_count": 6,
   "id": "passing-measurement",
   "metadata": {
    "kernel": "SoS"
   },
   "outputs": [],
   "source": [
    "[global]\n",
    "# The output directory for generated files.\n",
    "parameter: cwd = path(\"output\")\n",
    "# The companion sample sheet csv file as outlined in the input section.\n",
    "parameter: phenoFile = path\n",
    "# For cluster jobs, number commands to run per job\n",
    "parameter: job_size = 1\n",
    "# Wall clock time expected\n",
    "parameter: walltime = \"5h\"\n",
    "# Memory expected\n",
    "parameter: mem = \"16G\"\n",
    "\n",
    "# Number of threads\n",
    "parameter: numThreads = 8\n",
    "# Software container option\n",
    "parameter: container = \"\"\n",
    "from sos.utils import expand_size\n",
    "cwd = path(f'{cwd:a}')"
   ]
  },
  {
   "cell_type": "markdown",
   "id": "actual-commission",
   "metadata": {
    "kernel": "SoS",
    "toc-hr-collapsed": true
   },
   "source": [
    "## Generate methylation data matrix\n",
    "\n",
    "The first step of methylation data processing is to acquire the beta and M value after preliminary QC and filtering of the IDAT data.\n",
    "\n",
    "By default, for epic data, the data will be annotated based on hg38 using [this annotation](https://github.com/achilleasNP/IlluminaHumanMethylationEPICanno.ilm10b5.hg38), alternatively user can set the `--hg` parameter back to 19 to use the [hg19 annotation](https://bioconductor.org/packages/release/data/annotation/html/IlluminaHumanMethylationEPICanno.ilm10b4.hg19.html).\n",
    "\n",
    "For 450K data however, only hg19 annotation is availble. And that is what we would use.\n",
    "\n",
    "1. Based on 1 input csv file, all the IDAT file in the folder and sub-folder will be loaded\n",
    "2. The methylation data samples will first be filtered based on [bisulphite conversation rate](https://www.ncbi.nlm.nih.gov/pmc/articles/PMC4527772/). This operation is done using the [bscon function from watermelon package](http://www.bioconductor.org/packages/release/bioc/vignettes/wateRmelon/inst/doc/wateRmelon.html#introduction) \n",
    "3. samples will then be filtered based on a [detection pvalue](https://www.rdocumentation.org/packages/minfi/versions/1.18.4/topics/detectionP), which indicates the quality of the signal at each genomics position\n",
    "4. [Stratified Quantile Normalization](https://rdrr.io/bioc/minfi/man/preprocessQuantile.html) will then be applied.\n",
    "5. features will be filtered if they are on sex chr, known to be [cross-reactive,maping to multiple regions in the genome.](https://academic.oup.com/nargab/article/2/4/lqaa105/6040968), overlapping with snps, or having too low a detection P. The list of cross-reactive probe can be found as `/opt/cross_reactive_probe_Hop2020.txt` in our docker and [here](https://raw.githubusercontent.com/hsun3163/xqtl-pipeline/main/data/cross_reactive_probe_Hop2020.txt).\n",
    "6. Beta and M value will for all the probes/samples will then each be saved to a indexed bed.gz file.\n",
    "\n",
    "[As documented here](https://github.com/cumc/xqtl-pipeline/issues/312) when the batch of IDAT data are different, there will be a problem reading the IDAT file without specifing the force = TRUE option in the `read.metharray.exp(targets = targets,force = TRUE)`\n",
    "\n",
    "An overview of the workflow were shown below:\n",
    "\n",
    "|Calling Steps|MINFI|Sesame|\n",
    "|--------------|-------|---------------|\n",
    "|SNP/Cross reaction removal |  dropLociWithSnps + manual removal  | Q (qualityMask)  |\n",
    "|sample quality|detectionP + mean |sesameQC_calcStats + \"detection\" + frac_dt |\n",
    "|Bias correction|preprocessQuantile|D ( dyeBiasNL)|\n",
    "|Probe quality|detectionP|\"P (pOOBAH\tDetection p-value masking using oob)\" |\n",
    "|Background substraction|NA|B (noob)|\n",
    "\n"
   ]
  },
  {
   "cell_type": "markdown",
   "id": "b5dd26a0-3da2-452d-a332-07be2615dfef",
   "metadata": {
    "kernel": "SoS",
    "tags": []
   },
   "source": [
    "## Sesame\n",
    "Getting the beta value from EPIC450 IDAT for 750 samples from 3000 wells take ~40 mins.\n",
    "\n",
    "Based on [sesame documentation](https://www.bioconductor.org/packages/release/bioc/vignettes/sesame/inst/doc/sesame.html), the processing procedure suitable for human on EPIC 450 and 850 platform is \"QCDPB\"\n",
    "\n",
    "The code for each processing procedure are as followed:\n",
    "_____________\n",
    "\n",
    "| Code | Name | Detail |\n",
    "| -----|------|--------|\n",
    "| Q | qualityMask | Mask probes of poor design | \n",
    "| C | inferInfiniumIChannel | Infer channel for Infinium-I probes | \n",
    "| D | dyeBiasNL | Dye bias correction (non-linear) | \n",
    "| P | pOOBAH | Detection p-value masking using oob | \n",
    "| B | noob | Background subtraction using oob | \n",
    "\n",
    "\n",
    "\n",
    "Other potential procedures are \n",
    "\n",
    "\n",
    "| Code | Name | Detail |\n",
    "| -----|------|--------|\n",
    "|0|resetMask|Reset mask to all FALSE |\n",
    "|G|prefixMaskButCG|Mask all but cg- probes |\n",
    "|H|prefixMaskButC|Mask all but cg- and ch-probes |\n",
    "|E|dyeBiasL|Dye bias correction (linear) |\n",
    "|I|detectionIB|Mask detection by intermediate beta values |\n",
    " \n"
   ]
  },
  {
   "cell_type": "markdown",
   "id": "5e336819-035a-4037-afbe-cd63f3eeacb2",
   "metadata": {
    "kernel": "SoS"
   },
   "source": [
    "`keep_only_cpg_probes` option dictate whether only cpg probes should be kept:\n",
    "\n",
    "- On an Illumina methylation bead chip, there are three types of probes,whose nature were indicated by their names.\n",
    "       - cg: cpg probe;\n",
    "       - rs: explict snp probe;\n",
    "       - ch: non-CpG targeting probes; [reported to be more prone to cross-hybirdization](https://www.ncbi.nlm.nih.gov/pmc/articles/PMC4909830/)\n",
    "        \n",
    "  Following the guideline of [Zhou W 2016](https://www.ncbi.nlm.nih.gov/pmc/articles/PMC5389466/), by default we dont remove all the rs and ch probes. However, for research that are focusing on the cg site, like mQTL discovery, the G procedure will be used, which was turned on by the `keep_only_cpg_probes` parameter.\n",
    "   "
   ]
  },
  {
   "cell_type": "code",
   "execution_count": 1,
   "id": "3c8b3d2e-ebbe-4780-aa48-1c4a990c94b7",
   "metadata": {
    "kernel": "SoS"
   },
   "outputs": [],
   "source": [
    "[sesame_methylation_1]\n",
    "parameter: keep_only_cpg_probes = False\n",
    "processing_option = \"QCDGPB\" if keep_only_cpg_probes else \"QCDPB\"\n",
    "parameter: cross_reactive_list = path(\"/opt/cross_reactive_probe_Hop2020.txt\")\n",
    "# treshold to filter out samples based on frac_dt (Percentage of probe Detection Success)  percentage\n",
    "parameter: samples_frac_dt_tre = 0.8\n",
    "parameter: header_rows_number = 7 # The header rows in the sample sheet csv\n",
    "input: phenoFile\n",
    "output: f'{cwd}/{_input:bn}.sesame.methyl.rds',f'{cwd}/{_input:bn}.sesame.methyl.beta.tsv',f'{cwd}/{_input:bn}.sesame.methyl.M.tsv'\n",
    "task: trunk_workers = 1, trunk_size = job_size, walltime = walltime, mem = mem, cores = numThreads\n",
    "R: expand= \"${ }\", stderr = f'{_output[0]:n}.stderr', stdout = f'{_output[0]:n}.stdout', container=container\n",
    "    library(sesame)\n",
    "    library(dplyr)\n",
    "    library(tibble)\n",
    "    library(purrr)\n",
    "    # scan and load the data\n",
    "    sdfs = openSesame(\"${_input:d}\",func = NULL)\n",
    "    message(\"Data loading done!\")\n",
    "    # Load the sample sheet to get the sample names\n",
    "    sample_sheet = readr::read_delim(\"${_input}\",\",\" ,skip = ${header_rows_number})\n",
    "    sample_sheet%>%dplyr::mutate(well_name = paste0(Sentrix_ID,\"_\",Sentrix_Position))%>%dplyr::select(Sample_Name = colnames(sample_sheet)[1],well_name) -> sample_index\n",
    "    # Get Sample level QC:\n",
    "    qcs = openSesame(sdfs, prep=\"\", func=sesameQC_calcStats)\n",
    "    message(\"Sample-level QC done!\")\n",
    "    # Get poor samples base on percentage of probe fail\n",
    "    poor_samples = tibble(samples = names(qcs), frac_dt =   map_dbl(qcs,~sesameQC_getStats(.x,\"frac_dt\") ))%>%dplyr::filter(frac_dt < ${samples_frac_dt_tre})%>%pull(samples)\n",
    "    ## This design handle the case where poor_sample is empty\n",
    "    sdfs = sdfs[which(!sdfs%>%names %in% poor_samples)]\n",
    "    message(paste0(ifelse(length(poor_samples) > 0, poor_samples , \"No samples\" ) , \" were removed due to low quality based on frac_dt < ${samples_frac_dt_tre} \"))\n",
    "    # Preprocess the data via QCDPB procedure\n",
    "    ## The masking procedure of sesame is not removing the probes, but instead introduce NA in the masked probes. Therefore it makesense to na.rm it.\n",
    "    beta = openSesame(sdfs,prep = \"${QC_option}\")\n",
    "    message(\"Beta calculated!\")\n",
    "    beta = beta[rowSums(is.na(beta)) != ncol(beta), ] # Use this instead of na.omit because if not the full rows are NA, then the probe is not masked.\n",
    "    M = log2(beta/(1-beta))\n",
    "    beta%>%as_tibble(rownames = \"ID\")%>%rename_at(vars(intersect(colnames(beta),sample_index$well_name)), function(x) sample_index%>%filter(well_name %in% x)%>%pull(Sample_Name) )%>%readr::write_delim(\"${_output[1]}\",\"\\t\")\n",
    "    M%>%as_tibble(rownames = \"ID\")%>%rename_at(vars(intersect(colnames(beta),sample_index$well_name)), function(x) sample_index%>%filter(well_name %in% x)%>%pull(Sample_Name) )%>%readr::write_delim(\"${_output[2]}\",\"\\t\")\n",
    "    list(\"sdfs\" = sdfs,\"qcs\" = qcs)%>%saveRDS(\"${_output[0]}\")\n",
    "    message(\"All done!\")"
   ]
  },
  {
   "cell_type": "markdown",
   "id": "9cfa0008-c9b8-4b08-a91d-51cffd5a25a8",
   "metadata": {
    "kernel": "SoS"
   },
   "source": [
    "## MinFI\n"
   ]
  },
  {
   "cell_type": "code",
   "execution_count": 1,
   "id": "refined-bidder",
   "metadata": {
    "kernel": "SoS"
   },
   "outputs": [],
   "source": [
    "[minfi_methylation_1]\n",
    "# treshold to filter out samples based on detection P value\n",
    "parameter: samples_pval_tre = 0.05\n",
    "# treshold to filter out probes based on detection P value\n",
    "parameter: probe_det_pval_tre = 0.01\n",
    "\n",
    "## Use the default list in our docker, if want to skip methylation, specify it as \".\"\n",
    "parameter: cross_reactive_list = path(\"/opt/cross_reactive_probe_Hop2020.txt\")\n",
    "parameter: hg = 38 #hg = 38 or 19 for epic data, by default 38. Noted for 450K data only hg19 is availble\n",
    "input: phenoFile\n",
    "output: f'{cwd}/{_input:bn}.minfi.methyl.rds',f'{cwd}/{_input:bn}.minfi.methyl.beta.tsv',f'{cwd}/{_input:bn}.minfi.methyl.M.tsv'\n",
    "task: trunk_workers = 1, trunk_size = job_size, walltime = walltime, mem = mem, cores = numThreads\n",
    "R: expand= \"${ }\", stderr = f'{_output[0]:n}.stderr', stdout = f'{_output[0]:n}.stdout', container=container\n",
    "    ## load libraries\n",
    "    library(dplyr)\n",
    "    library(readr)\n",
    "    library(tibble)\n",
    "    library(minfi)\n",
    "    sessionInfo()\n",
    "    cross_reactive = readr::read_delim(\"${cross_reactive_list}\",\"\\t\")$probe\n",
    "\n",
    "    ## 1. read idat files\n",
    "    targets <- read.metharray.sheet(${_input:adr})\n",
    "    colnames(targets)[1] = \"Sample_Name\"\n",
    "    ### Only read samples with data\n",
    "    Missing_sample = targets%>%filter(!stringr::str_detect(targets$Basename ,\"/\") )%>%pull(Sample_Name) \n",
    "    targets = targets%>%filter(stringr::str_detect(targets$Basename ,\"/\") ) \n",
    "    message(paste0(\"Following samples: \",paste0(Missing_sample,collapse = \", \"), \" don't have IDAT data\" ))\n",
    "    \n",
    "    rgSet <- read.metharray.exp(targets = targets)\n",
    "    if(${hg} == 38 && rgSet@annotation[\"array\"] == 'IlluminaHumanMethylationEPIC' ){rgSet@annotation['annotation'] = \"ilm10b5.hg38\"}\n",
    "    message(\"rgset created\")\n",
    "    \n",
    "    ###### Quality Control and Normalization ###############\n",
    "\n",
    "    \n",
    "    ## 2. QC based on p-value, remove samples with average p value less than 0.05\n",
    "    \n",
    "    detP <- detectionP(rgSet)\n",
    "    keep <- colMeans(detP) < ${samples_pval_tre}\n",
    "    rgSet <- rgSet[,keep]\n",
    "    targets <- targets[keep,]\n",
    "    message(\"samples with avg det p-val < ${samples_pval_tre} removed\")\n",
    "\n",
    "    ## 3. Normalize the data - Quantile\n",
    "    mSetSq <- preprocessQuantile(rgSet)\n",
    "    message(\"data quantile-normalized\")\n",
    "    \n",
    "    ## 4. Remove cross-reactive probes\n",
    "    no_cross_reactive <- !(featureNames(mSetSq) %in% cross_reactive)\n",
    "    mSetSq <- mSetSq[no_cross_reactive, ]\n",
    "    message(\"cross-reactive probes removed\")\n",
    "    \n",
    "    ## 5. Drop probes that are also SNPs\n",
    "    \n",
    "    mSetSq <- dropLociWithSnps(mSetSq)\n",
    "    message(\"probes overlapping with snps removed\")\n",
    "    \n",
    "    ## 6. Remove probes with < ${probe_det_pval_tre} detectin p-values\n",
    "    detP <- detP[match(featureNames(mSetSq),rownames(detP)),]\n",
    "    keep <- rowSums(detP < ${probe_det_pval_tre}) == ncol(mSetSq)\n",
    "    mSetSq <- mSetSq[keep,]\n",
    "    \n",
    "    ## 7. get Beta\n",
    "    mSetSqbval <- getBeta(mSetSq)%>%as_tibble(rownames = \"ID\")\n",
    "    mSetSqMval <- getM(mSetSq)%>%as_tibble(rownames = \"ID\")\n",
    "\n",
    "    message(\"Beta-value and M value obtained\")\n",
    "    ## 8. output data\n",
    "    mSetSqbval = mSetSqbval%>%rename_at(vars(rgSet@colData%>%rownames()), function(x) rgSet@colData[x,]%>%as_tibble%>%pull(Sample_Name) )\n",
    "    mSetSqMval = mSetSqMval%>%rename_at(vars(rgSet@colData%>%rownames()), function(x) rgSet@colData[x,]%>%as_tibble%>%pull(Sample_Name) )\n",
    "    mSetSqbval%>%readr::write_delim(\"${_output[1]}\",\"\\t\")\n",
    "    mSetSqMval%>%readr::write_delim(\"${_output[2]}\",\"\\t\")\n",
    "    output = list(\"rgSet\" = rgSet,mSetSq = \"mSetSq\", mSetSqbval = \"mSetSqbval\")\n",
    "    output%>%saveRDS(${_output[0]:r})"
   ]
  },
  {
   "cell_type": "code",
   "execution_count": null,
   "id": "28821374-0f0b-49ec-b4c6-ab662958263a",
   "metadata": {
    "kernel": "SoS"
   },
   "outputs": [],
   "source": [
    "No matter the method of calling, the probes was annotated via sesameData package"
   ]
  },
  {
   "cell_type": "code",
   "execution_count": 2,
   "id": "bbc84cf8-e62c-454a-bc94-ce9e202cf14c",
   "metadata": {
    "kernel": "SoS"
   },
   "outputs": [],
   "source": [
    "[*_methylation_2]\n",
    "output:f'{cwd}/{_input[1]:bn}.bed',f'{cwd}/{_input[1]:bnn}.M.bed', f'{cwd}/{_input[1]:bnn}.gene_id.annot.tsv'\n",
    "task: trunk_workers = 1, trunk_size = job_size, walltime = walltime, mem = mem, cores = numThreads\n",
    "R: expand= \"${ }\", stderr = f'{_output[0]:n}.stderr', stdout = f'{_output[0]:n}.stdout', container=container\n",
    "    library(sesame)\n",
    "    library(tibble)\n",
    "    library(dplyr)\n",
    "    library(readr)\n",
    "    betas = read_delim(\"${_input[1]}\",\"\\t\")\n",
    "        M = read_delim(\"${_input[2]}\",\"\\t\")\n",
    "    probe_annot = sesameData::sesameData_annoProbes(betas$ID,column = \"gene_id\")\n",
    "    probe_annot = cbind(\"ID\" = probe_annot%>%names,probe_annot%>%as_tibble)%>%as_tibble\n",
    "    betas = inner_join(probe_annot%>%dplyr::select(\"#chr\" = seqnames, start , end , ID ),betas , by = \"ID\" )%>%mutate(chr_num = stringr::str_remove(`#chr`,\"chr\")%>%as.numeric)%>%arrange(chr_num,`#chr`,start)%>%select(-chr_num) \n",
    "    M = inner_join(probe_annot%>%dplyr::select(\"#chr\" = seqnames, start , end , ID ), M , by = \"ID\" )%>%mutate(chr_num = stringr::str_remove(`#chr`,\"chr\")%>%as.numeric)%>%arrange(chr_num,`#chr`,start)%>%select(-chr_num) \n",
    "    betas%>%readr::write_delim(\"${_output[0]}\",\"\\t\")\n",
    "    M%>%readr::write_delim(\"${_output[1]}\",\"\\t\")\n",
    "    probe_annot%>%write_delim(\"${_output[2]}\",\"\\t\")"
   ]
  },
  {
   "cell_type": "markdown",
   "id": "929fa247-1b74-4b08-a155-94226293ad1f",
   "metadata": {
    "kernel": "SoS"
   },
   "source": [
    "## Format and annotation methylation data\n",
    "\n",
    "After the beta and m value are generated. The output will be saved as a bed file."
   ]
  },
  {
   "cell_type": "code",
   "execution_count": null,
   "id": "37af90fa-9316-4ef9-99e7-bb248bffdb98",
   "metadata": {
    "kernel": "SoS"
   },
   "outputs": [],
   "source": [
    "[*_methylation_3]\n",
    "output: f'{_input[0]:nn}.beta.bed.gz',f'{_input[0]:nn}.M.bed.gz' \n",
    "bash: expand= \"${ }\", stderr = f'{_output[0]:n}.stderr', stdout = f'{_output[0]:n}.stdout', container=container\n",
    "    bgzip -f ${_input[0]} \n",
    "    tabix ${_output[0]}\n",
    "    bgzip -f ${_input[1]} \n",
    "    tabix ${_output[1]}"
   ]
  },
  {
   "cell_type": "code",
   "execution_count": null,
   "id": "33d5766c-21a9-4514-89f7-aafc526bbfb5",
   "metadata": {
    "kernel": "SoS"
   },
   "outputs": [],
   "source": [
    "#[combat_batch]\n",
    "parameter: batchFile = path(\".\")\n",
    "input: output_from(\"methylation\")\n",
    "output:f'{_input}.MDS.pdf',f'{_input}.beta.batch_corrected.txt'\n",
    "R: expand= \"${ }\", stderr = f'{_output[0]:n}.stderr', stdout = f'{_output[0]:n}.stdout', container=container\n",
    "    library(ggplot2)\n",
    "    library(metaMA)\n",
    "    library(sva)\n",
    "    library(lme4)\n",
    "    ## Define functions\n",
    "    posibatches <- function(dat, Sentrix, batch=TRUE, par.prior=TRUE, prior.plots=FALSE, mean.only.posi=FALSE, mean.only.batch=FALSE) {\n",
    "      require(sva)\n",
    "      require(lme4)\n",
    "      #get the position and batch information----------------------------------------\n",
    "      ### Extraction of the position numbers and chip numbers--------------------\n",
    "      #if (is.null(SentrixVector)){\n",
    "      if (is.null(Sentrix)){\n",
    "        stop('Sentrix informations must be provided.')\n",
    "      }\n",
    "      #chips<-as.numeric(factor(substr(Sentrix$sampleNames, 1, 10))) \n",
    "      #positions<-as.numeric(factor(substr(Sentrix$sampleNames, 12, 17))) \n",
    "      \n",
    "      chips <- as.numeric(factor(sapply(strsplit(as.character(Sentrix$sampleNames), \"_\"), function(x) x[1])))\n",
    "      positions <- as.numeric(factor(sapply(strsplit(as.character(Sentrix$sampleNames), \"_\"), function(x) x[2])))\n",
    "      \n",
    "      if (length(positions)!=length(chips)){\n",
    "        stop('positions and chips must have the same length')\n",
    "      }\n",
    "      if (sum(positions>12)>0){\n",
    "        stop('Position number cannot be greater than 12')\n",
    "      }\n",
    "      if (sum(is.na(chips))>1 || sum(is.na(positions))>1){\n",
    "        stop('One or more position or chip numbers missing')\n",
    "      }\n",
    "      \n",
    "      if (sum(is.na(Sentrix$batches))==length(chips)){\n",
    "        batches<-chips\n",
    "      } else {\n",
    "        batches<-as.factor(Sentrix$batches)\n",
    "      }\n",
    "      \n",
    "      if(batch==TRUE){\n",
    "        \n",
    "        ################################################################################\n",
    "        ################################################################################\n",
    "        pct_threshold = .8 # Amount of variability desired to be explained by the principal components.  Set to match the results in book chapter and SAS code.  User can adjust this to a higher (>= 0.8) number but < 1.0\n",
    "        dataRowN <- nrow(dat)\n",
    "        dataColN <- ncol(dat)\n",
    "        \n",
    "        ########## Center the data (center rows) ##########\n",
    "        datCentered <- matrix(data = 0, nrow = dataRowN, ncol = dataColN)\n",
    "        datCentered_transposed = apply(dat, 1, scale, center = TRUE, scale = FALSE)\n",
    "        datCentered = t(datCentered_transposed)\n",
    "        \n",
    "        exp_design<-data.frame(cbind(positions,batches))\n",
    "        expDesignRowN <- nrow(exp_design)\n",
    "        expDesignColN <- ncol(exp_design)\n",
    "        myColNames <- names(exp_design)\n",
    "        \n",
    "        \n",
    "        ########## Compute correlation matrix ##########\n",
    "        \n",
    "        theDataCor <- cor(datCentered)\n",
    "        \n",
    "        ########## Obtain eigenvalues ##########\n",
    "        \n",
    "        eigenData <- eigen(theDataCor)\n",
    "        eigenValues = eigenData$values\n",
    "        ev_n <- length(eigenValues)\n",
    "        eigenVectorsMatrix = eigenData$vectors\n",
    "        eigenValuesSum = sum(eigenValues)\n",
    "        percents_PCs = eigenValues /eigenValuesSum\n",
    "        \n",
    "        ########## Merge experimental file and eigenvectors for n components ##########\n",
    "        \n",
    "        my_counter_2 = 0\n",
    "        my_sum_2 = 1\n",
    "        for (i in ev_n:1){\n",
    "          my_sum_2  = my_sum_2 - percents_PCs[i]\n",
    "          if ((my_sum_2) <= pct_threshold ){\n",
    "            my_counter_2 = my_counter_2 + 1\n",
    "          }\n",
    "          \n",
    "        }\n",
    "        if (my_counter_2 < 3){\n",
    "          pc_n  = 3\n",
    "          \n",
    "        }else {\n",
    "          pc_n = my_counter_2\n",
    "        }\n",
    "        \n",
    "        # pc_n is the number of principal components to model\n",
    "        \n",
    "        pc_data_matrix <- matrix(data = 0, nrow = (expDesignRowN*pc_n), ncol = 1)\n",
    "        mycounter = 0\n",
    "        for (i in 1:pc_n){\n",
    "          for (j in 1:expDesignRowN){\n",
    "            mycounter <- mycounter + 1\n",
    "            pc_data_matrix[mycounter,1] = eigenVectorsMatrix[j,i]\n",
    "            \n",
    "          }\n",
    "        }\n",
    "        \n",
    "        AAA <- exp_design[rep(1:expDesignRowN,pc_n),]\n",
    "        \n",
    "        Data <- cbind(AAA,pc_data_matrix)\n",
    "        \n",
    "        ####### Edit these variables according to your factors #######\n",
    "        \n",
    "        variables <- c(colnames(exp_design))\n",
    "        for (i in 1:length(variables)) {\n",
    "          Data$variables[i] <- as.factor(Data$variables[i])\n",
    "        }\n",
    "        \n",
    "        ########## Mixed linear model ##########\n",
    "        \n",
    "        p <- options(warn = (-1))\n",
    "        #effects_n = expDesignColN + choose(expDesignColN, 2) + 1\n",
    "        effects_n = expDesignColN  + 1\n",
    "        randomEffectsMatrix <- matrix(data = 0, nrow = pc_n, ncol = effects_n)\n",
    "        \n",
    "        model.func <- c()\n",
    "        index <- 1\n",
    "        for (i in 1:length(variables)) {\n",
    "          mod = paste(\"(1|\", variables[i], \")\", sep = \"\")\n",
    "          model.func[index] = mod\n",
    "          index = index + 1\n",
    "        }\n",
    "        \n",
    "        function.mods <- paste(model.func, collapse = \" + \")\n",
    "        \n",
    "        for (i in 1:pc_n) {\n",
    "          y = (((i - 1) * expDesignRowN) + 1)\n",
    "          funct <- paste(\"pc_data_matrix\", function.mods, sep = \" ~ \")\n",
    "          Rm1ML <- lmer(funct, Data[y:(((i - 1) * expDesignRowN) +\n",
    "                                         expDesignRowN), ], REML = TRUE, control=lmerControl(check.nobs.vs.nlev = \"ignore\",check.nobs.vs.rankZ = \"ignore\",check.nobs.vs.nRE=\"ignore\"),verbose = FALSE,\n",
    "                        na.action = na.omit)\n",
    "          randomEffects <- Rm1ML\n",
    "          randomEffectsMatrix[i, ] <- c(unlist(VarCorr(Rm1ML)),\n",
    "                                        resid = sigma(Rm1ML)^2)\n",
    "        }\n",
    "        effectsNames <- c(names(getME(Rm1ML, \"cnms\")), \"resid\")\n",
    "        ########## Standardize Variance ##########\n",
    "        \n",
    "        randomEffectsMatrixStdze <- matrix(data = 0, nrow = pc_n, ncol = effects_n)\n",
    "        for (i in 1:pc_n){\n",
    "          mySum = sum(randomEffectsMatrix[i,])\n",
    "          for (j in 1:effects_n){\n",
    "            randomEffectsMatrixStdze[i,j] = randomEffectsMatrix[i,j]/mySum\n",
    "          }\n",
    "        }\n",
    "        \n",
    "        ########## Compute Weighted Proportions ##########\n",
    "        \n",
    "        randomEffectsMatrixWtProp <- matrix(data = 0, nrow = pc_n, ncol = effects_n)\n",
    "        for (i in 1:pc_n){\n",
    "          weight = eigenValues[i]/eigenValuesSum\n",
    "          for (j in 1:effects_n){\n",
    "            randomEffectsMatrixWtProp[i,j] = randomEffectsMatrixStdze[i,j]*weight\n",
    "          }\n",
    "        }\n",
    "        ######### Compute Weighted Ave Proportions ##########\n",
    "        \n",
    "        randomEffectsSums <- matrix(data = 0, nrow = 1, ncol = effects_n)\n",
    "        randomEffectsSums <-colSums(randomEffectsMatrixWtProp)\n",
    "        totalSum = sum(randomEffectsSums)\n",
    "        randomEffectsMatrixWtAveProp <- matrix(data = 0, nrow = 1, ncol = effects_n)\n",
    "        \n",
    "        for (j in 1:effects_n){\n",
    "          randomEffectsMatrixWtAveProp[j] = randomEffectsSums[j]/totalSum\n",
    "          \n",
    "        }\n",
    "        \n",
    "        if(randomEffectsMatrixWtAveProp[,1]<randomEffectsMatrixWtAveProp[,2]){\n",
    "          afterbatchExp<-ComBat(dat = dat, batch = batches, par.prior = par.prior, prior.plots = prior.plots, mean.only = mean.only.batch)\n",
    "          afterposiExp<-ComBat(dat = afterbatchExp, batch = positions, par.prior = par.prior, prior.plots = prior.plots, mean.only = mean.only.posi)\n",
    "          dat<-afterposiExp\n",
    "        } else{\n",
    "          afterposiExp<-ComBat(dat = dat, batch = positions, par.prior = par.prior, prior.plots = prior.plots, mean.only = mean.only.posi)\n",
    "          afterbatchExp<-ComBat(dat = afterposiExp, batch = batches, par.prior = par.prior, prior.plots = prior.plots, mean.only = mean.only.batch)\n",
    "          dat<-afterbatchExp\n",
    "        }\n",
    "      }else{\n",
    "        afterposiExp<-ComBat(dat = dat, batch = positions, par.prior = par.prior, prior.plots = prior.plots, mean.only = mean.only.posi)\n",
    "        dat<-afterposiExp\n",
    "      }\n",
    "      return(dat)\n",
    "    }\n",
    "    ## Combat batch effect\n",
    "    mSetSq = readRDS(\"${_input[0]}\")$mSetSq\n",
    "    Sentrix = read.csv(\"${batchFile}\")\n",
    "    results <- posibatches(mSetSq, Sentrix, batch=TRUE, par.prior=TRUE, prior.plots=FALSE, mean.only.posi=FALSE, mean.only.batch=FALSE)\n",
    "    results%>%readr::write_delim(${_output[1]:r})\n",
    "    ## Plot MDS\n",
    "    data4mds <- function(data, topvals){\n",
    "      b <- data\n",
    "      o <- order(rowVars(b), decreasing = TRUE)[seq_len(topvals)]\n",
    "      d <- dist(t(b[o, ]))\n",
    "      fit <- cmdscale(d)\n",
    "      return(fit)\n",
    "    }\n",
    "    \n",
    "    myfit <- as.data.frame(data4mds(mSetSq, 1000))\n",
    "    colnames(myfit) <- c(\"fit1\", \"fit2\")\n",
    "\n",
    "    MDSplot1 = ggplot(myfit, aes(x = fit1, y = fit2)) + geom_point(size = 1.5) + \n",
    "      labs(title = \"MDS plot\",  x = \"Coordinate 1\",  y = \"Coordinate 2\") + \n",
    "      theme(axis.title.x = element_text(face = \"bold\", size = 26), axis.text.x = element_text(face=\"bold\", size = 20)) + theme(axis.text.y = element_text(face=\"bold\", size = 20), axis.title.y = element_text(face = \"bold\", size = 26)) +  \n",
    "      theme(panel.background = element_rect(fill = \"white\", colour = \"white\")) + \n",
    "      theme(panel.border = element_blank(), panel.grid.major = element_blank(), panel.grid.minor = element_blank(), axis.line = element_line(size = 0.5, linetype = \"solid\", colour = \"black\")) +  \n",
    "      theme(plot.title = element_text(face = \"bold\", size = 30, hjust = 0.5)) + \n",
    "      theme(legend.position=\"bottom\", legend.text=element_text(size=16))\n",
    "      MDSplot1%>%ggsave(${_output[0]:r})"
   ]
  }
 ],
 "metadata": {
  "kernelspec": {
   "display_name": "SoS",
   "language": "sos",
   "name": "sos"
  },
  "language_info": {
   "codemirror_mode": "sos",
   "file_extension": ".sos",
   "mimetype": "text/x-sos",
   "name": "sos",
   "nbconvert_exporter": "sos_notebook.converter.SoS_Exporter",
   "pygments_lexer": "sos"
  },
  "sos": {
   "kernels": [
    [
     "Bash",
     "bash",
     "Bash",
     "#E6EEFF",
     "shell"
    ],
    [
     "SoS",
     "sos",
     "",
     "",
     "sos"
    ]
   ],
   "version": "0.22.6"
  }
 },
 "nbformat": 4,
 "nbformat_minor": 5
}
