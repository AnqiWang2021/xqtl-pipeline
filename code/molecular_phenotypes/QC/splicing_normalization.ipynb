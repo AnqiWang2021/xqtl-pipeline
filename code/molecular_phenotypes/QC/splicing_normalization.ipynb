{
 "cells": [
  {
   "cell_type": "code",
   "execution_count": null,
   "id": "30d4d949-839b-4ba8-817b-09ec7eeb44d3",
   "metadata": {
    "kernel": "SoS",
    "tags": []
   },
   "outputs": [],
   "source": []
  },
  {
   "cell_type": "code",
   "execution_count": 17,
   "id": "6b4ac2d9-5d4c-4d21-8c24-0cff215a9e3b",
   "metadata": {
    "kernel": "SoS"
   },
   "outputs": [],
   "source": [
    "[global]\n",
    "# The output directory for generated files. \n",
    "parameter: cwd = path(\"output\")\n",
    "# Sample meta data list\n",
    "parameter: samples = path\n",
    "# Raw data directory, default to the same directory as sample list\n",
    "parameter: data_dir = path(f\"{samples:d}\")\n",
    "# For cluster jobs, number commands to run per job\n",
    "parameter: job_size = 1\n",
    "# Wall clock time expected\n",
    "parameter: walltime = \"5h\"\n",
    "# Memory expected\n",
    "parameter: mem = \"16G\"\n",
    "# Number of threads\n",
    "parameter: numThreads = 8\n",
    "# Software container option\n",
    "parameter: container = \"\"\n",
    "from sos.utils import expand_size\n",
    "cwd = path(f'{cwd:a}')\n",
    "\n",
    "import pandas as pd\n"
   ]
  },
  {
   "cell_type": "code",
   "execution_count": 20,
   "id": "82ab7297-a49b-49c2-8cfa-05444082a851",
   "metadata": {
    "kernel": "SoS"
   },
   "outputs": [],
   "source": [
    "[leafcutter_norm_1]\n",
    "parameter: npc = 10\n",
    "parameter: chr_blacklist = f'{samples:d}/black_list.txt'\n",
    "output: f'{cwd}/{samples:bn}_intron_usage_perind.counts.gz.PCs',\n",
    "        f'{cwd}/{samples:bn}_intron_usage_perind.counts.gz_prepare.sh',\n",
    "        f'{cwd}/sample_list_intron_usage_phenotype_list_by_chromosome.txt'\n",
    "task: trunk_workers = 1, trunk_size = job_size, walltime = walltime, mem = mem, cores = numThreads\n",
    "bash: expand= \"${ }\", stderr = f'{_output[0]:n}.stderr', stdout = f'{_output[0]:n}.stdout', container=container\n",
    "    /opt/leafcutter/scripts/prepare_phenotype_table.py ${_input} -p ${npc} --ChromosomeBlackList ${chr_blacklist}\n",
    "python: expand= \"${ }\", stderr = f'{_output[0]:n}.stderr', stdout = f'{_output[0]:n}.stdout', container=container\n",
    "    import pandas as pd\n",
    "    blk_lst = pd.read_csv(f'${chr_blacklist}', sep = \" \", header=None)\n",
    "    blk_lst = blk_lst.iloc[:,0].values.tolist()\n",
    "    df = pd.read_csv(f'${_output[1]}', sep=\" \")\n",
    "    df = df[df['bgzip'] == \"-p\"]\n",
    "    names = df.iloc[:,2].values.tolist()\n",
    "    chrs = []\n",
    "    for i in names:\n",
    "        i = i.split('_')[-1]\n",
    "        i = i.split('.')[0]\n",
    "        chrs.append(i)\n",
    "    zipped = list(zip(chrs, names))\n",
    "    dfout = pd.DataFrame(zipped, columns=['#chr','#dir'])\n",
    "    for i in blk_lst:\n",
    "        dfout = dfout[dfout['#chr'] != str(i)]\n",
    "    dfout.to_csv(f'${cwd}/sample_list_intron_usage_phenotype_list_by_chromosome.txt', sep=\"\\t\", index=None)"
   ]
  },
  {
   "cell_type": "code",
   "execution_count": null,
   "id": "83485f93-37ff-42d5-a461-2e6a183cb52e",
   "metadata": {
    "kernel": "SoS",
    "tags": []
   },
   "outputs": [],
   "source": [
    "[leafcutter_norm_2]\n",
    "molecular_pheno_chr_inv = pd.read_csv(f'{_input[2]}',sep = \"\\t\")\n",
    "molecular_pheno_chr_inv = molecular_pheno_chr_inv.values.tolist()\n",
    "file_inv = [x[1][:-3] for x in molecular_pheno_chr_inv]\n",
    "input: file_inv # This design is necessary to avoid using for_each, as sos can not take chr number as an input.\n",
    "output: f'{_input[0]:n}.qqnorm.txt'\n",
    "task: trunk_workers = 1, trunk_size = job_size, walltime = walltime, mem = mem, cores = numThreads\n",
    "bash: expand= \"${ }\", stderr = f'{_output:n}.stderr', stdout = f'{_output:n}.stdout', container=container\n",
    "    head -1 ${_input[0]:r}  > ${_output}\n",
    "    cat ${_input:r} | grep -v \"#Chr\" >> ${_output}"
   ]
  },
  {
   "cell_type": "code",
   "execution_count": null,
   "id": "7178cd6e-f334-4621-889d-140fc5cf8de7",
   "metadata": {
    "kernel": "SoS"
   },
   "outputs": [],
   "source": []
  }
 ],
 "metadata": {
  "kernelspec": {
   "display_name": "SoS",
   "language": "sos",
   "name": "sos"
  },
  "language_info": {
   "codemirror_mode": "sos",
   "file_extension": ".sos",
   "mimetype": "text/x-sos",
   "name": "sos",
   "nbconvert_exporter": "sos_notebook.converter.SoS_Exporter",
   "pygments_lexer": "sos"
  },
  "sos": {
   "kernels": [
    [
     "SoS",
     "sos",
     "",
     ""
    ]
   ],
   "version": "0.23.3"
  }
 },
 "nbformat": 4,
 "nbformat_minor": 5
}
