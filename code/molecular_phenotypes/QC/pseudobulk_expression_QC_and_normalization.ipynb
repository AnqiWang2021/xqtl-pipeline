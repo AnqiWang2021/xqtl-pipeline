{
 "cells": [
  {
   "cell_type": "markdown",
   "id": "damaged-entrepreneur",
   "metadata": {
    "kernel": "SoS"
   },
   "source": [
    "# QC and normalization for Pseudobulk data\n"
   ]
  },
  {
   "cell_type": "markdown",
   "id": "cada4b84-bb26-44aa-ba1f-c0032418e739",
   "metadata": {
    "kernel": "SoS"
   },
   "source": [
    "## Description"
   ]
  },
  {
   "cell_type": "markdown",
   "id": "52a833d6-c609-4777-8db6-f62fdbeea3b9",
   "metadata": {
    "kernel": "SoS"
   },
   "source": [
    "This notebook implement the QC and normalization procedure used in [this paper](https://www.biorxiv.org/content/10.1101/2022.11.07.515446v1). The input is raw read count, and the output is log2CPM. The QC procedures are:\n",
    "\n",
    "\n",
    "\n",
    "\n",
    "1. Exclude low-expression genes: At least 10 counts in >70% of donors\n",
    "\n",
    "2. Exclude low cell counts individual: at least 10 cells in corresponding cell type\n",
    "\n",
    "3. Compute log2 of count-per-million (log2CPM) via TMM and limma and voom\n",
    "\n",
    "4. Exclude genes with 80% sample log2CPM < 2.0\n",
    "\n",
    "5. TMM normalization"
   ]
  },
  {
   "cell_type": "markdown",
   "id": "5ded23a1-a99e-4c4a-b233-b7dcdf20d883",
   "metadata": {
    "kernel": "SoS"
   },
   "source": [
    "## Input\n",
    "\n",
    "1. Gene expression matrix in raw count. A data table with gene ID as first column and each sample ID as a subsquent columns.\n",
    "2. A two columns table documenting the number of cells for each of the sampels. This should be in the naming convention of A.nCells for a count table with name a.count_matrix and put in the same diretory as 1.\n",
    "\n",
    "## Output\n",
    "\n",
    "1. A QC and normalized Gene expression matrix in log2cpm, to be fed into the gene_annotation module for annotation."
   ]
  },
  {
   "cell_type": "markdown",
   "id": "4ab7b162-539f-482f-b634-596352defb3d",
   "metadata": {
    "kernel": "SoS"
   },
   "source": [
    "## Minimal Working Example Steps"
   ]
  },
  {
   "cell_type": "markdown",
   "id": "37c14c92-443e-487f-9f04-196c9b7809fa",
   "metadata": {
    "kernel": "SoS"
   },
   "source": [
    "### vi. Multi-sample RNA-seq QC"
   ]
  },
  {
   "cell_type": "markdown",
   "id": "89668958-675f-4d02-9805-2822aba391f5",
   "metadata": {
    "kernel": "SoS"
   },
   "source": [
    "Timing: <15min"
   ]
  },
  {
   "cell_type": "markdown",
   "id": "83954ae8-43b7-474f-9d73-a41727d3508f",
   "metadata": {
    "kernel": "SoS"
   },
   "source": [
    "Implement pseudobulk RNA-seq QC and normalization that identifies and removes genes and samples from the raw count matrix"
   ]
  },
  {
   "cell_type": "markdown",
   "id": "70d98b4d-fc04-4af8-94bf-2b4a7674868a",
   "metadata": {
    "kernel": "SoS"
   },
   "source": [
    "## Troubleshooting"
   ]
  },
  {
   "cell_type": "markdown",
   "id": "d36a6717-eac5-4698-aced-c4969c9a2030",
   "metadata": {
    "kernel": "SoS"
   },
   "source": [
    "| Step | Substep | Problem | Possible Reason | Solution |\n",
    "|------|---------|---------|------------------|---------|\n",
    "|  |  |  |  |  |\n",
    "\n",
    "\n"
   ]
  },
  {
   "cell_type": "markdown",
   "id": "intimate-manhattan",
   "metadata": {
    "kernel": "SoS"
   },
   "source": [
    "## Command interface"
   ]
  },
  {
   "cell_type": "code",
   "execution_count": 1,
   "id": "native-lingerie",
   "metadata": {
    "kernel": "Bash"
   },
   "outputs": [
    {
     "name": "stdout",
     "output_type": "stream",
     "text": [
      "usage: sos run pseudobulk_expression_QC_and_normalization.ipynb\n",
      "               [workflow_name | -t targets] [options] [workflow_options]\n",
      "  workflow_name:        Single or combined workflows defined in this script\n",
      "  targets:              One or more targets to generate\n",
      "  options:              Single-hyphen sos parameters (see \"sos run -h\" for details)\n",
      "  workflow_options:     Double-hyphen workflow-specific parameters\n",
      "\n",
      "Workflows:\n",
      "  qc\n",
      "\n",
      "Global Workflow Options:\n",
      "  --phenoFile VAL (as path, required)\n",
      "                        Required input is raw count table and cell table\n",
      "  --cell-table VAL (as path, required)\n",
      "  --cwd output (as path)\n",
      "  --container ''\n",
      "  --entrypoint  ('micromamba run -a \"\" -n' + ' ' + re.sub(r'(_apptainer:latest|_docker:latest|\\.sif)$', '', container.split('/')[-1])) if container else \"\"\n",
      "\n",
      "  --job-size 1 (as int)\n",
      "                        For cluster jobs, number commands to run per job\n",
      "  --walltime 5h\n",
      "                        Wall clock time expected\n",
      "  --mem 16G\n",
      "                        Memory expected\n",
      "  --numThreads 8 (as int)\n",
      "                        Number of threads\n",
      "\n",
      "Sections\n",
      "  qc_1:\n",
      "    Workflow Options:\n",
      "      --low-cell-count-filter-treshold 10 (as int)\n",
      "      --low-expr-gene-count-filter-treshold 10 (as int)\n",
      "      --low-expr-gene-count-gene-filter-percent 0.7 (as float)\n",
      "      --log2cpm-gene-filter-treshold 2.0 (as float)\n",
      "      --log2cpm-gene-filter-percent 0.8 (as float)\n"
     ]
    }
   ],
   "source": [
    "sos run pseudobulk_expression_QC_and_normalization.ipynb -h"
   ]
  },
  {
   "cell_type": "code",
   "execution_count": 1,
   "id": "fb926a5a-033c-43fb-8b52-2bba51659b7e",
   "metadata": {},
   "outputs": [
    {
     "name": "stdout",
     "output_type": "stream",
     "text": [
      "/sc/arion/work/sunh14/git/xqtl-protocol/code/molecular_phenotypes/QC\n"
     ]
    }
   ],
   "source": [
    "pwd"
   ]
  },
  {
   "cell_type": "code",
   "execution_count": 3,
   "id": "f809a6e8-7e9f-4b05-a1fb-d51471829d6c",
   "metadata": {},
   "outputs": [
    {
     "name": "stdout",
     "output_type": "stream",
     "text": [
      "INFO: Checking \u001b[32mqc_1\u001b[0m: \n",
      "HINT: Rscript SCRIPT\n",
      "# Load packages\n",
      "library(tidyverse)\n",
      "library(edgeR)\n",
      "library(limma)\n",
      "\n",
      "# Read data and parameter\n",
      "# Read data and parameters\n",
      "count_table = read_delim('/hpc/users/sunh14/snmulti_QTL/input/gene_exp/Astro.count_matrix')\n",
      "cellcounts = read_delim(\"/hpc/users/sunh14/snmulti_QTL/input/gene_exp/Astro.nCells\")\n",
      "low_cell_count_filter_threshold = 10\n",
      "low_expr_gene_count_filter_threshold = 10\n",
      "low_expr_gene_count_gene_filter_percent = 0.7 \n",
      "log2cpm_gene_filter_threshold = 2.0\n",
      "log2cpm_gene_filter_percent = 0.8\n",
      "\n",
      "\n",
      "\n",
      "# Filter out samples with fewer than low_cell_count_filter_threshold cells in a cell type\n",
      "sampnames = cellcounts%>%filter(ncell >= low_cell_count_filter_threshold)%>%pull(sample)\n",
      "gene_name = count_table$index\n",
      "count_table = count_table[,c(colnames(count_table)[1],sampnames)]\n",
      "\n",
      "# Filter low expression genes\n",
      "y <- DGEList(counts = count_table)\n",
      "keep <- ((count_table[,sampnames] >= low_expr_gene_count_filter_threshold )%>%rowSums/ncol(count_table) > low_expr_gene_count_gene_filter_percent )\n",
      "y <- y[keep, , keep.lib.sizes = FALSE]\n",
      "\n",
      "# Counts per million and log2 transformation\n",
      "y <- calcNormFactors(y, method = \"TMM\")\n",
      "v <- voom(y, plot = FALSE)\n",
      "logcpm <- v$E\n",
      "\n",
      "# Remove genes if mean log2CPM < log2cpm_gene_filter_threshold for log2cpm_gene_filter_percent of samples\n",
      "keep <- ((logcpm[,sampnames] >= log2cpm_gene_filter_threshold )%>%rowSums/ncol(logcpm) > log2cpm_gene_filter_percent )\n",
      "\n",
      "logcpm <- logcpm[keep,]\n",
      "\n",
      "# Save log2CPM\n",
      "logcpm%>%as_tibble(rownames = \"ID\")%>%write_delim('/hpc/users/sunh14/snmulti_QTL/input/gene_exp/Astro.low_expression_filtered.normalized.log2cpm.gct.gz')    \n",
      "\n",
      "\n",
      "\n",
      "INFO: \u001b[32mqc_1\u001b[0m is \u001b[32mcompleted\u001b[0m.\n",
      "INFO: \u001b[32mqc_1\u001b[0m output:   \u001b[32m/hpc/users/sunh14/snmulti_QTL/input/gene_exp/Astro.low_expression_filtered.normalized.log2cpm.gct.gz\u001b[0m\n",
      "INFO: Workflow qc (ID=w4d62cab1de9049c9) is tested successfully with 1 completed step.\n"
     ]
    }
   ],
   "source": [
    "sos run pseudobulk_expression_QC_and_normalization.ipynb --phenoFile  ~/snmulti_QTL/input/gene_exp/Astro.count_matrix --cwd ~/snmulti_QTL/input/gene_exp/ -n"
   ]
  },
  {
   "cell_type": "markdown",
   "id": "entitled-increase",
   "metadata": {
    "kernel": "Bash"
   },
   "source": [
    "## Workflow implementation"
   ]
  },
  {
   "cell_type": "code",
   "execution_count": 1,
   "id": "packed-argentina",
   "metadata": {
    "kernel": "SoS",
    "tags": []
   },
   "outputs": [],
   "source": [
    "[global]\n",
    "# Required input is raw count table and cell table\n",
    "parameter: phenoFile = paths\n",
    "#parameter: cell_table = paths\n",
    "parameter: cwd = path(\"output\")\n",
    "parameter: container = \"\"\n",
    "import re\n",
    "parameter: entrypoint= ('micromamba run -a \"\" -n' + ' ' + re.sub(r'(_apptainer:latest|_docker:latest|\\.sif)$', '', container.split('/')[-1])) if container else \"\"\n",
    "cwd = path(f'{cwd:a}')\n",
    "# For cluster jobs, number commands to run per job\n",
    "parameter: job_size = 1\n",
    "# Wall clock time expected\n",
    "parameter: walltime = \"5h\"\n",
    "# Memory expected\n",
    "parameter: mem = \"16G\"\n",
    "# Number of threads\n",
    "parameter: numThreads = 8\n",
    "#file_inv = [item for pair in zip(phenoFile, cell_table) for item in pair]\n"
   ]
  },
  {
   "cell_type": "code",
   "execution_count": 2,
   "id": "broken-diabetes",
   "metadata": {
    "kernel": "SoS"
   },
   "outputs": [],
   "source": [
    "[qc_1]\n",
    "parameter: low_cell_count_filter_threshold = 10\n",
    "parameter: low_expr_gene_count_filter_threshold = 10\n",
    "parameter: low_expr_gene_count_gene_filter_percent = 0.7 # Remove if more than 70% donor have less than 10 count\n",
    "parameter: log2cpm_gene_filter_threshold = 2.0\n",
    "parameter: log2cpm_gene_filter_percent = 0.8 # Remove if more than 80% donor have less than 2 log2cpm\n",
    "input: phenoFile, group_by = 1,for_each = \"region\"\n",
    "output: f'{cwd}/{_input[0]:bnnn}.{_region}.low_expression_filtered.normalized.log2cpm.gct.gz'\n",
    "task: trunk_workers = 1, trunk_size = job_size, walltime = walltime, mem = mem, cores = numThreads\n",
    "R: expand = \"${ }\", stderr = f'{_output:nnn}.stderr', stdout = f'{_output:nnn}.log',container = container, entrypoint = entrypoint\n",
    "    # Load packages\n",
    "    library(tidyverse)\n",
    "    library(edgeR)\n",
    "    library(limma)\n",
    "\n",
    "    # Read data and parameter\n",
    "    # Read data and parameters\n",
    "    count_table = read_delim(${_input:r})\n",
    "    cellcounts = read_delim(\"${_input:n}.nCells\")\n",
    "    ## Filter by brainRegionList\n",
    "    BrainRegion = read_delim(${BrainRegionList:r})\n",
    "    Rsamples = BrainRegion%>%filter(class == \"${_region}\")%>%pull(order)\n",
    "    Rsamples = intersect(Rsamples,colnames(count_table) )\n",
    "    cellcounts = cellcounts%>%filter(sample %in% Rsamples)\n",
    "    count_table = count_table[,c(colnames(count_table)[1],Rsamples)]\n",
    "    low_cell_count_filter_threshold = ${low_cell_count_filter_threshold}\n",
    "    low_expr_gene_count_filter_threshold = ${low_expr_gene_count_filter_threshold}\n",
    "    low_expr_gene_count_gene_filter_percent = ${low_expr_gene_count_gene_filter_percent} \n",
    "    log2cpm_gene_filter_threshold = ${log2cpm_gene_filter_threshold}\n",
    "    log2cpm_gene_filter_percent = ${log2cpm_gene_filter_percent}\n",
    "    \n",
    "    \n",
    "    # Filter out samples with fewer than low_cell_count_filter_threshold cells in a cell type\n",
    "    sampnames = cellcounts%>%filter(ncell >= low_cell_count_filter_threshold)%>%pull(sample)\n",
    "    count_table = count_table[,c(colnames(count_table)[1],sampnames)]\n",
    "    print(paste0(\"Total input samples are \",   ncol(count_table) -1,  \" . \", length(sampnames), \". samples remains after filter out low cell count samples, \", ncol(count_table) - length(sampnames) - 1, \". samples are removed. The removed samples are \", paste(colnames(count_table)[!colnames(count_table)%in%c(colnames(count_table)[1],sampnames)] , collapse = \" , \"  )))    \n",
    "    # Filter low expression genes\n",
    "    y <- DGEList(counts = count_table)\n",
    "    keep <- ((count_table[,sampnames] >= low_expr_gene_count_filter_threshold )%>%rowSums/ncol(count_table) > low_expr_gene_count_gene_filter_percent )\n",
    "    print(paste0( \"Total input genes are \" ,   nrow(y$counts)  ,  \" . \",  sum(keep), \" genes remains after filter low count genes \", nrow(y$counts) - sum(keep) , \" genes are removed\" ))\n",
    "    y <- y[keep, , keep.lib.sizes = FALSE]\n",
    "    \n",
    "    # Counts per million and log2 transformation\n",
    "    y <- calcNormFactors(y, method = \"TMM\")\n",
    "    v <- voom(y, plot = FALSE)\n",
    "    logcpm <- v$E\n",
    "    \n",
    "    # Remove genes if mean log2CPM < log2cpm_gene_filter_threshold for log2cpm_gene_filter_percent of samples\n",
    "    keep <- ((logcpm[,sampnames] >= log2cpm_gene_filter_threshold )%>%rowSums/ncol(logcpm) > log2cpm_gene_filter_percent )\n",
    "    print(paste0(sum(keep), \". genes remains after filter low log2cpm genes \", nrow(logcpm) - sum(keep) , \". genes are removed\"))\n",
    "    logcpm <- logcpm[keep,]\n",
    "    \n",
    "    # Save log2CPM\n",
    "    logcpm%>%as_tibble(rownames = \"ID\")%>%write_delim(${_output:r},\"\\t\")    "
   ]
  },
  {
   "cell_type": "code",
   "execution_count": 1,
   "id": "d80fb03d-d709-4fcf-8b23-7f8294bf2d1d",
   "metadata": {},
   "outputs": [
    {
     "name": "stdout",
     "output_type": "stream",
     "text": [
      "bash: [SE_qc_1]: command not found\n",
      "bash: parameter:: command not found\n",
      "import: unable to open X server `' @ error/import.c/ImportImageCommand/344.\n",
      "bash: syntax error near unexpected token `('\n",
      "bash: syntax error near unexpected token `('\n",
      "bash: parameter:: command not found\n",
      "bash: syntax error near unexpected token `('\n",
      "bash: syntax error near unexpected token `('\n",
      "bash: input:: command not found\n",
      "bash: output:: command not found\n",
      "bash: task:: command not found\n",
      "bash: ${ }: bad substitution\n",
      "bash: syntax error near unexpected token `dplyr'\n",
      "bash: syntax error near unexpected token `readr'\n",
      "bash: syntax error near unexpected token `dreamlet'\n",
      "bash: syntax error near unexpected token `SingleCellExperiment'\n",
      "bash: syntax error near unexpected token `('\n",
      "bash: syntax error near unexpected token `('\n",
      "bash: syntax error near unexpected token `('\n",
      "bash: .Data: command not found\n",
      "bash: data_df: command not found\n",
      "bash: syntax error near unexpected token `('\n",
      "bash: syntax error near unexpected token `('\n"
     ]
    },
    {
     "ename": "",
     "evalue": "2",
     "output_type": "error",
     "traceback": []
    }
   ],
   "source": [
    "[SE_qc_1]\n",
    "# Brain Region List\n",
    "parameter: BrainRegionList = path\n",
    "import pandas as pd\n",
    "region = pd.read_csv(BrainRegionList, index_col = False, sep = \"\\t\")\n",
    "region = list(set(region.iloc[:,0]))\n",
    "parameter: celltypes = path\n",
    "celltypes = pd.read_csv(celltypes, index_col = False, sep = \"\\t\")\n",
    "celltypes = list(set(celltypes.iloc[:,0]))\n",
    "input: phenoFile, group_by = 1,for_each = [\"region\", \"celltypes\"]\n",
    "output: f'{cwd}/{_input:bnnn}.{_celltypes}.{_region}.low_expression_filtered.normalized.log2cpm.dreamlet.rds',f'{cwd}/{_input:bnnn}.{_celltypes}.{_region}.low_expression_filtered.normalized.log2cpm.gct.gz'\n",
    "task: trunk_workers = 1, trunk_size = job_size, walltime = walltime, mem = mem, cores = numThreads\n",
    "R: expand = \"${ }\", stderr = f'{_output[0]:nnn}.stderr', stdout = f'{_output[0]:nnn}.log',container = container, entrypoint = entrypoint\n",
    "    # Load packages\n",
    "    library(dplyr)\n",
    "    library(readr)\n",
    "    library(dreamlet)\n",
    "    library(SingleCellExperiment)\n",
    "    ## Load data\n",
    "    data  = get(load(\"${_input}\"))\n",
    "    ## Subset with only the desired brain regions]\n",
    "    ncell = data@int_colData$n_cells[data@colData%>%as_tibble%>%filter(BrainRegion2 == \"${_region}\")%>%pull(order)]\n",
    "    data = data[,data@colData%>%as_tibble%>%filter(BrainRegion2 == \"${_region}\")%>%pull(order)]\n",
    "    data@int_colData$n_cells = ncell\n",
    "\n",
    "    ## Do QC and normalization with dreamlet with only the selected celltypes, this is done because dreamlet break if one celltype fails.\n",
    "    data_proc = processAssays(data, ~ 1, assays = \"${_celltypes}\" )\n",
    "    data_df = as_tibble(data_proc@`.Data`[[1]]$E)\n",
    "    data_df = cbind( \"#id\" =  rownames(data_proc@`.Data`[[1]]$E) ,  data_df)\n",
    "    data_df%>%write_delim(\"${_output[1]}\",\"\\t\")\n",
    "    data_proc%>%saveRDS(\"${_output[0]}\")"
   ]
  },
  {
   "cell_type": "code",
   "execution_count": null,
   "id": "0cda0672-738d-4be9-a885-8d64b1ce81dd",
   "metadata": {},
   "outputs": [],
   "source": []
  }
 ],
 "metadata": {
  "jupytext": {
   "cell_metadata_filter": "warning,tags,message,name,-all",
   "main_language": "R",
   "notebook_metadata_filter": "-all"
  },
  "kernelspec": {
   "display_name": "Bash",
   "language": "bash",
   "name": "bash"
  },
  "language_info": {
   "codemirror_mode": "shell",
   "file_extension": ".sh",
   "mimetype": "text/x-sh",
   "name": "bash"
  },
  "sos": {
   "kernels": [
    [
     "Bash",
     "bash",
     "Bash",
     "#E6EEFF",
     "shell"
    ],
    [
     "SoS",
     "sos",
     "",
     "",
     "sos"
    ]
   ],
   "version": "0.24.1"
  }
 },
 "nbformat": 4,
 "nbformat_minor": 5
}
