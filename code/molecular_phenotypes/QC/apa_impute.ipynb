{
 "cells": [
  {
   "cell_type": "markdown",
   "id": "c7267739-c9b6-4413-8409-97aa434e9cda",
   "metadata": {
    "kernel": "SoS",
    "tags": []
   },
   "source": [
    "# Post-APA calling: Imputation and QC\n",
    "## Aim\n",
    "This notebook is designed to impute the missing values in the PDUI matrix, and perform quantile normailization for the impute values.\n",
    "## Input\n",
    "* raw PDUI matrix (row as gene, columns as sample id)\n",
    "* covariate file  \n",
    "\n",
    "## Output\n",
    "* PDUI matrix without missingness  \n",
    "  - The missing value is calculated using `impute` package"
   ]
  },
  {
   "cell_type": "markdown",
   "id": "2d733b90-c9ad-40ac-a78e-5844e0d4fbd0",
   "metadata": {
    "kernel": "SoS"
   },
   "source": [
    "## Minimum working example"
   ]
  },
  {
   "cell_type": "code",
   "execution_count": null,
   "id": "12807d30-311b-489f-b646-9acbf9881302",
   "metadata": {
    "kernel": "SoS"
   },
   "outputs": [],
   "source": [
    "sos run /mnt/mfs/statgen/ls3751/github/xqtl-pipeline/pipeline/molecular_phenotypes/QC/apa_impute.ipynb APAimpute \\\n",
    "    --cwd /mnt/mfs/statgen/ls3751/MWE_dapars2/Output \\\n",
    "    --cov /data/example.cov.txt\n",
    "    --chrlist chr1 \\\n",
    "    --container /mnt/mfs/statgen/ls3751/container/dapars2.sif"
   ]
  },
  {
   "cell_type": "markdown",
   "id": "bd202178-7ccb-42c4-b11c-20d7bc3a2645",
   "metadata": {
    "kernel": "SoS"
   },
   "source": [
    "## Workflow implementation"
   ]
  },
  {
   "cell_type": "code",
   "execution_count": 6,
   "id": "80c6ce6c-897a-44b4-b716-b053247815a3",
   "metadata": {
    "kernel": "SoS"
   },
   "outputs": [],
   "source": [
    "[global]\n",
    "parameter: walltime = '40h'\n",
    "parameter: mem = '32G'\n",
    "parameter: ncore = 16\n",
    "parameter: cwd = path\n",
    "parameter: thread = 8\n",
    "parameter: job_size = 1\n",
    "parameter: container = ''"
   ]
  },
  {
   "cell_type": "code",
   "execution_count": 11,
   "id": "b6dbb4f5-1ac6-44f8-bca2-1744b85d4658",
   "metadata": {
    "kernel": "SoS"
   },
   "outputs": [],
   "source": [
    "[APAimpute]\n",
    "parameter: cov = path\n",
    "parameter: chrlist = list\n",
    "input: [f'{cwd}/apa_{x}/Dapars_result_result_temp.{x}.txt' for x in chrlist], group_by = 1\n",
    "output: [f'{cwd}/Dapars_result_clean_{x}.txt' for x in chrlist], group_by = 1\n",
    "R: expand= \"${ }\", container = container\n",
    "\n",
    ".libPaths( c('/usr/local/lib/R/site-library' , '/usr/lib/R/site-library', '/usr/lib/R/library', .libPaths()))\n",
    "suppressPackageStartupMessages(require(dplyr))\n",
    "suppressPackageStartupMessages(require(tidyr))\n",
    "suppressPackageStartupMessages(require(impute))\n",
    "\n",
    "\n",
    " # Read the data\n",
    "    input_dir <- ${_input:r}\n",
    "  \n",
    "    dapars_result = data.table::fread(input_dir) ## much faster than read.table\n",
    "    tmp = dapars_result[,1:4]\n",
    "    dapars_result = dapars_result[,-c(2:4)]\n",
    "    rownames(dapars_result) = dapars_result[,1]\n",
    "    dapars_result = dapars_result[,-1]\n",
    "    dapars_result = dapars_result[,colMeans(is.na(dapars_result)) <= 0.8]\n",
    "    dapars_result = dapars_result[rowMeans(is.na(dapars_result)) < 0.5,]\n",
    "    tmp_vec = rownames(dapars_result)\n",
    "  \n",
    "    class(dapars_result) = \"numeric\"\n",
    "    covs = data.table::fread(${cov})\n",
    "    \n",
    "    dapars_impute = dapars_result[,colnames(dapars_result) %in% colnames(covs)]\n",
    "    dapars_impute = impute.knn(dapars_result)\n",
    "    df = as.data.frame(dapars_impute$data)\n",
    "  \n",
    "    for (gene in 1:nrow(df)) {\n",
    "      mat = apply(df[gene,], 1, rank, ties.method = \"average\")\n",
    "      mat = qnorm(mat/ (ncol(df) + 1))\n",
    "      df[gene, ] = mat\n",
    "  }\n",
    "  \n",
    "    df$Gene = tmp_vec\n",
    "    final_data <- inner_join(df, tmp)\n",
    "    write.table(final_data, file = ${_output:r}, quote = F)"
   ]
  }
 ],
 "metadata": {
  "kernelspec": {
   "display_name": "SoS",
   "language": "sos",
   "name": "sos"
  },
  "language_info": {
   "codemirror_mode": "sos",
   "file_extension": ".sos",
   "mimetype": "text/x-sos",
   "name": "sos",
   "nbconvert_exporter": "sos_notebook.converter.SoS_Exporter",
   "pygments_lexer": "sos"
  },
  "sos": {
   "kernels": [
    [
     "SoS",
     "sos",
     "",
     ""
    ]
   ],
   "version": "0.22.7"
  }
 },
 "nbformat": 4,
 "nbformat_minor": 5
}
