{
 "cells": [
  {
   "cell_type": "markdown",
   "id": "amino-following",
   "metadata": {
    "kernel": "SoS"
   },
   "source": [
    "# xQTL Hierarchical Multiple Testing\n",
    "\n",
    "This protocol implements a three-step procedure:\n",
    "1. Local adjustment: p-values of all cis-variants adjusted within each gene\n",
    "2. Global adjustment: minimum adjusted p-values from Step 1 further adjusted across all genes\n",
    "3. Global informed identification of significant xQTL: xQTL with locally adjusted p-value below the threshold\n",
    "\n",
    "It also reorganizes intermediate files produced in tensorQTL analysis to specified archive folder for book-keeping or deletion, to save space."
   ]
  },
  {
   "cell_type": "code",
   "execution_count": null,
   "id": "10b023f5-d812-45d8-aa4c-5e28f9bdb6a0",
   "metadata": {},
   "outputs": [],
   "source": [
    "[global]\n",
    "parameter: cwd = path(\".\")\n",
    "parameter: qtl_type = \"LR\"\n",
    "parameter: maf_cutoff = 0.05\n",
    "parameter: cis_window = 1000000\n",
    "parameter: pvalue_cutoff = 0.05\n",
    "parameter: fdr_threshold = 0.05\n",
    "parameter: gene_coordinates = path\n",
    "parameter: output_dir = path\n",
    "parameter: archive_dir = path\n",
    "parameter: regional_pattern = \"*.cis_qtl_regional.fdr.gz$\"\n",
    "parameter: n_variants_pattern = \"*.n_variants_stats.txt.gz$\"\n",
    "parameter: pair_pattern = \"*.cis_qtl.pairs.tsv.gz$\""
   ]
  },
  {
   "cell_type": "code",
   "execution_count": 1,
   "id": "4c440874-f540-41c5-a99b-43e74e23dde9",
   "metadata": {
    "kernel": "SoS"
   },
   "outputs": [],
   "source": [
    "[default]\n",
    "R: expand = \"${ }\"\n",
    "\n",
    "    params <- list()\n",
    "    params$workdir           <- \"${cwd:a}\"\n",
    "    params$qtl_type          <- \"${qtl_type}\"\n",
    "    params$maf_cutoff        <- ${maf_cutoff}\n",
    "    params$cis_window        <- ${cis_window}\n",
    "    params$pvalue_cutoff     <- ${pvalue_cutoff}\n",
    "    params$fdr_threshold     <- ${fdr_threshold}\n",
    "    params$gene_coordinates  <- \"${gene_coordinates:a}\"\n",
    "    params$output_dir        <- \"${output_dir:a}/${cwd:ab}\"\n",
    "    params$archive_dir       <- \"${archive_dir:a}/${cwd:ab}\"\n",
    "    params$regional_pattern  <- \"${regional_pattern}\"\n",
    "    params$n_variants_pattern<- \"${n_variants_pattern}\"\n",
    "    params$pair_pattern      <- \"${pair_pattern}\"\n",
    "\n",
    "    source(\"~/GIT/xqtl-analysis/analysis/Marcora_MSSM/TensorQTL_patch_filter_and_archive_refactor.r\")\n",
    "      \n",
    "    data <- list()\n",
    "    data$regional_data <- load_event_data(params)\n",
    "    data$pair_data <- load_pair_data(params)\n",
    "    data$gene_coords <- load_gene_coordinates(params)\n",
    "    data <- perform_local_adjustment(data, params, \"permutation\")\n",
    "    data <- perform_local_adjustment(data, params, \"bonferroni\")\n",
    "    saveRDS(res, \"test.rds\")"
   ]
  },
  {
   "cell_type": "code",
   "execution_count": null,
   "id": "e0c348a0-0def-436b-b051-8de8446ee3fc",
   "metadata": {},
   "outputs": [],
   "source": [
    "#here is my current version for data loader. Please review and cross reference with original and comment on it if anything wrong or missing or subtle difference."
   ]
  }
 ],
 "metadata": {
  "kernelspec": {
   "display_name": "SoS",
   "language": "sos",
   "name": "sos"
  },
  "language_info": {
   "codemirror_mode": "sos",
   "file_extension": ".sos",
   "mimetype": "text/x-sos",
   "name": "sos",
   "nbconvert_exporter": "sos_notebook.converter.SoS_Exporter",
   "pygments_lexer": "sos"
  },
  "sos": {
   "kernels": [
    [
     "SoS",
     "sos",
     "",
     "",
     "sos"
    ]
   ],
   "version": "0.24.1"
  }
 },
 "nbformat": 4,
 "nbformat_minor": 5
}
