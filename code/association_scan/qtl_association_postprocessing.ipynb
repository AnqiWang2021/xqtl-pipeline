{
 "cells": [
  {
   "cell_type": "markdown",
   "id": "amino-following",
   "metadata": {
    "kernel": "SoS"
   },
   "source": [
    "# xQTL Hierarchical Multiple Testing\n",
    "\n",
    "This protocol implements a three-step procedure:\n",
    "1. Local adjustment: p-values of all cis-variants adjusted within each gene\n",
    "2. Global adjustment: minimum adjusted p-values from Step 1 further adjusted across all genes\n",
    "3. Global informed identification of significant xQTL: xQTL with locally adjusted p-value below the threshold\n",
    "\n",
    "It also reorganizes intermediate files produced in tensorQTL analysis to specified archive folder for book-keeping or deletion, to save space."
   ]
  },
  {
   "cell_type": "markdown",
   "id": "597acd9f-71b8-4466-9ed6-f96c0842a69e",
   "metadata": {
    "kernel": "SoS"
   },
   "source": [
    "## Example command\n",
    "\n",
    "```bash\n",
    "sos run ~/GIT/xqtl-protocol/code/association_scan/qtl_association_postprocessing.ipynb default \\\n",
    "    --gene-coordinates look_up_gene_id.tsv \\\n",
    "    --cwd ~/Downloads/snuc_DeJager_Ast_tensorQTL_MWE --sub-dir LR \\\n",
    "    --output-dir ~/output --archive-dir ~/archive\n",
    "```\n",
    "\n",
    "When `maf_cutoff` and `cis_window` are not zero, the program will first compute the number of variants after filtering by these metric and write files with `n_variants_suffix` in the same folder as QTL data, then use those numbers to create filtered list of variants for Bonferroni adjusted p-value."
   ]
  },
  {
   "cell_type": "code",
   "execution_count": null,
   "id": "10b023f5-d812-45d8-aa4c-5e28f9bdb6a0",
   "metadata": {
    "kernel": "SoS"
   },
   "outputs": [],
   "source": [
    "[global]\n",
    "parameter: cwd = path(\".\")\n",
    "parameter: gene_coordinates = path\n",
    "parameter: output_dir = path\n",
    "parameter: archive_dir = path\n",
    "parameter: sub_dir = \"LR\"\n",
    "parameter: maf_cutoff = 0.05\n",
    "parameter: cis_window = 1000000\n",
    "parameter: tss_dist_col = \"start_distance\"\n",
    "parameter: tes_dist_col = \"end_distance\"\n",
    "# This is for selecting the subset of data to process on protential signals \n",
    "# assuming we drop those above this threshold\n",
    "# This might lead to underestimates in qvalue method since qvalue < 0.05 may contain pvalue > 0.05\n",
    "parameter: pvalue_cutoff = 0.05\n",
    "# This is used for both event and variant level significance filter\n",
    "parameter: fdr_threshold = 0.05\n",
    "parameter: regional_pattern = \"*.cis_qtl.regional.tsv.gz$\"\n",
    "parameter: n_variants_suffix = \".cis_n_variants_stats.tsv.gz\"\n",
    "parameter: qtl_pattern = \"*.cis_qtl.pairs.tsv.gz$\""
   ]
  },
  {
   "cell_type": "code",
   "execution_count": 1,
   "id": "4c440874-f540-41c5-a99b-43e74e23dde9",
   "metadata": {
    "kernel": "SoS"
   },
   "outputs": [],
   "source": [
    "[default]\n",
    "output: f\"{output_dir:a}/{cwd:ab}/{sub_dir}/{sub_dir}_consolidated.rds\"\n",
    "task: trunk_workers = 1, tags = f'tensorqtl_postprocessing_{_output:n}'\n",
    "R: expand = \"${ }\"\n",
    "\n",
    "    params <- list()\n",
    "    params$workdir           <- \"${cwd:a}/${sub_dir}\"\n",
    "    params$sub_dir          <- \"${sub_dir}\"\n",
    "    params$maf_cutoff        <- ${maf_cutoff}\n",
    "    params$cis_window        <- ${cis_window}\n",
    "    params$pvalue_cutoff     <- ${pvalue_cutoff}\n",
    "    params$fdr_threshold     <- ${fdr_threshold}\n",
    "    params$gene_coordinates  <- \"${gene_coordinates:a}\"\n",
    "    params$output_dir        <- \"${output_dir:a}/${cwd:ab}/${sub_dir}\"\n",
    "    params$archive_dir       <- \"${archive_dir:a}/${cwd:ab}\"\n",
    "    params$regional_pattern  <- \"${regional_pattern}\"\n",
    "    params$n_variants_suffix<- \"${n_variants_suffix}\"\n",
    "    params$qtl_pattern      <- \"${qtl_pattern}\"\n",
    "    params$start_distance_col <- \"${tss_dist_col}\"\n",
    "    params$end_distance_col <- \"${tes_dist_col}\"\n",
    "\n",
    "    source(\"~/GIT/pecotmr/inst/code/tensorqtl_postprocessor.R\")\n",
    "    results <- hierarchical_multiple_testing_correction(params)\n",
    "    write_results(results, params$output_dir, params$workdir, to_cwd = \"regional\")\n",
    "    archive_files(params)\n",
    "    saveRDS(results, ${_output:r})"
   ]
  }
 ],
 "metadata": {
  "kernelspec": {
   "display_name": "SoS",
   "language": "sos",
   "name": "sos"
  },
  "language_info": {
   "codemirror_mode": "sos",
   "file_extension": ".sos",
   "mimetype": "text/x-sos",
   "name": "sos",
   "nbconvert_exporter": "sos_notebook.converter.SoS_Exporter",
   "pygments_lexer": "sos"
  },
  "sos": {
   "kernels": [
    [
     "SoS",
     "sos",
     "",
     "",
     "sos"
    ]
   ],
   "version": "0.24.1"
  }
 },
 "nbformat": 4,
 "nbformat_minor": 5
}
