{
 "cells": [
  {
   "cell_type": "markdown",
   "id": "4f40855d-97ea-492a-bc33-2d4fe2cae037",
   "metadata": {
    "kernel": "SoS",
    "tags": []
   },
   "source": [
    "# Association result processing\n",
    "This notebook analysis the result of association scan based on a merged vcf file.\n",
    "see https://github.com/cumc/xqtl-pipeline/issues/215 for detail"
   ]
  },
  {
   "cell_type": "code",
   "execution_count": null,
   "id": "9bc63f9a-5e4b-45e3-8f56-3b166a8148d1",
   "metadata": {
    "kernel": "SoS"
   },
   "outputs": [],
   "source": [
    "[global]\n",
    "# list of vcf to be analysised, best to be for all chromosome by `ls *.merged.vcf.gz` in the output folder of sumstat merger\n",
    "parameter: vcf = paths\n",
    "# For cluster jobs, number commands to run per job\n",
    "parameter: job_size = 1\n",
    "# Wall clock time expected\n",
    "parameter: walltime = \"5h\"\n",
    "# Memory expected\n",
    "parameter: mem = \"16G\"\n",
    "# Number of threads\n",
    "parameter: numThreads = 20\n",
    "parameter: container = \"\""
   ]
  },
  {
   "cell_type": "code",
   "execution_count": null,
   "id": "dd84f1ef-8579-4edf-86db-cb686699133f",
   "metadata": {
    "kernel": "SoS"
   },
   "outputs": [],
   "source": [
    "[per_chrom]\n",
    "# Way to do gene level multiple correction for each snps, bonferroni or fdr\n",
    "parameter: padjust_method = \"fdr\"\n",
    "input: for_each = \"vcf\"\n",
    "output: rds = f'{_vcf:nn}.rds', processed_vcf = f'{_vcf:nn}.p_adjusted.vcf.gz'\n",
    "task: trunk_workers = 1, trunk_size = job_size, walltime = walltime, mem = mem, cores = numThreads, tags = f'{step_name}_{_output:bn}'\n",
    "R: expand= \"$[ ]\", stderr = f'{_output}.stderr', stdout = f'{_output}.stdout', container = container\n",
    "   library(\"dplyr\")\n",
    "   # Read VCF\n",
    "   data = VariantAnnotation::readVcf(\"$[_vcf]\")\n",
    "   # Extract p-val\n",
    "   data = VariantAnnotation::geno(data)$P%>%as_tibble(rownames = \"ID\")%>%mutate(GENE = VariantAnnotation::info(data)$GENE, ID = sub(\"[^:]*:\",\"\", ID) )\n",
    "   # Adjust pvalue per gene based on fdr or beferroni\n",
    "   pval_adj = pval%>%group_by(GENE)%>%mutate(across(colnames(VariantAnnotation::geno(data)$P),~.x%>%p.adjust(\"$[padjust_method]\")))\n",
    "   ## Get the number of sig association\n",
    "   n_asso = (pval_adj%>%ungroup%>%select(-ID,-GENE) < 0.05)%>%colSums(na.rm = TRUE)%>%t%>%as_tibble\n",
    "   ## Get the number of sig snps\n",
    "   n_snp = (pval_adj%>%ungroup%>%group_by(ID)%>%summarize(across(colnames(VariantAnnotation::geno(data)$P),min))%>%select(-ID)< 0.05)%>%colSums(na.rm = TRUE)%>%t%>%as_tibble\n",
    "   ## Get the top  snps for each genes\n",
    "   pval_adj_gene = pval_adj%>%group_by(GENE)%>%summarize(across(colnames(VariantAnnotation::geno(data)$P),min))\n",
    "   pval_adj_gene_snps = pval_adj%>%group_by(GENE)%>%summarize(across(colnames(VariantAnnotation::geno(data)$P),~list(pval_adj[(which(.x == min(.x))),1])))\n",
    "   output = list(\"n_asso\" = n_asso,\"n_snp\" = n_snp,\"pval_adj_gene\" = pval_adj_gene,\"pval_adj_gene_snps\" = pval_adj_gene_snps )\n",
    "   saveRDS(output,$[_output[0]])\n",
    "   "
   ]
  },
  {
   "cell_type": "code",
   "execution_count": null,
   "id": "1bd690b2-a6fa-41eb-a8ba-b0899af93128",
   "metadata": {
    "kernel": "SoS"
   },
   "outputs": [],
   "source": [
    "[genome]\n",
    "input: output_from(\"per_chrom\")[\"rds\"], group_by = \"all\"\n",
    "output: f'{_input[0]:nn}.n_sig.txt',f'{_input[0]:nn}.gene_p_adj.txt'\n",
    "R: expand= \"$[ ]\", stderr = f'{_output}.stderr', stdout = f'{_output}.stdout', container = container\n",
    "   library(\"dplyr\")\n",
    "   library(\"tidyr\")\n",
    "   # Read data\n",
    "   input_ls = list($[_input:r,])\n",
    "   data = tibble(input_ls)%>%mutate(rds = map(input_ls,read_rds(.x)),\n",
    "                                    n_assoc = map(rds,~.x$n_assoc),\n",
    "                                    n_snp = map(rds,~.x$n_snp),\n",
    "                                    pval_adj_gene = map(rds,~.x$pval_adj_gene)\n",
    "                                      )\n",
    "  \n",
    "   # Total number of sig snps\n",
    "   n_assoc_sum = data%>%select(n_assoc)%>%unnest(\"n_assoc\")%>%colSums()\n",
    "   n_snp_sum = data%>%select(n_snp)%>%unnest(\"n_snp\")%>%colSums()\n",
    "   pval_adj_gene_adj = data%>%select(pval_adj_gene)%>%unnest(\"pval_adj_gene\")%>%mutate(across(names(),~.x%>%p.adjust(\"fdr\") ))\n",
    "\n",
    "   data = VariantAnnotation::geno(data)$P%>%as_tibble(rownames = \"ID\")%>%mutate(GENE = VariantAnnotation::info(data)$GENE, ID = read.table(text = ID,sep = \":\")$V3)\n",
    "   # Adjust pvalue per gene based on fdr or beferroni\n",
    "   pval_adj = pval%>%group_by(GENE)%>%mutate(across(colnames(VariantAnnotation::geno(data)$P),~.x%>%p.adjust(\"$[padjust_method]\")))\n",
    "   ## Get the number of sig association\n",
    "   n_asso = (pval_adj%>%ungroup%>%select(-ID,-GENE) < 0.05)%>%colSums(na.rm = TRUE)\n",
    "   ## Get the number of sig snps\n",
    "   n_snp = (pval_adj%>%ungroup%>%group_by(ID)%>%summarize(across(colnames(VariantAnnotation::geno(data)$P),min))%>%select(-ID)< 0.05)%>%colSums(na.rm = TRUE)\n",
    "   ## Get the top  snps for each genes\n",
    "   pval_adj_gene = pval_adj%>%group_by(GENE)%>%summarize(across(colnames(VariantAnnotation::geno(data)$P),min))\n",
    "   output = list(n_asso,n_snp,pval_adj_gene)\n",
    "   saveRDS(output,$[_output])"
   ]
  }
 ],
 "metadata": {
  "kernelspec": {
   "display_name": "SoS",
   "language": "sos",
   "name": "sos"
  },
  "language_info": {
   "codemirror_mode": "sos",
   "file_extension": ".sos",
   "mimetype": "text/x-sos",
   "name": "sos",
   "nbconvert_exporter": "sos_notebook.converter.SoS_Exporter",
   "pygments_lexer": "sos"
  },
  "sos": {
   "kernels": [
    [
     "SoS",
     "sos",
     "",
     ""
    ]
   ],
   "version": "0.22.6"
  }
 },
 "nbformat": 4,
 "nbformat_minor": 5
}
