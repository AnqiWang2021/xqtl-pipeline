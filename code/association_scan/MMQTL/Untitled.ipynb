{
 "cells": [
  {
   "cell_type": "code",
   "execution_count": 1,
   "id": "aba33102-e7ab-4b58-9c84-eba30121d098",
   "metadata": {},
   "outputs": [
    {
     "name": "stderr",
     "output_type": "stream",
     "text": [
      "── \u001b[1mAttaching core tidyverse packages\u001b[22m ──────────────────────── tidyverse 2.0.0 ──\n",
      "\u001b[32m✔\u001b[39m \u001b[34mdplyr    \u001b[39m 1.1.2     \u001b[32m✔\u001b[39m \u001b[34mreadr    \u001b[39m 2.1.4\n",
      "\u001b[32m✔\u001b[39m \u001b[34mforcats  \u001b[39m 1.0.0     \u001b[32m✔\u001b[39m \u001b[34mstringr  \u001b[39m 1.5.0\n",
      "\u001b[32m✔\u001b[39m \u001b[34mggplot2  \u001b[39m 3.4.2     \u001b[32m✔\u001b[39m \u001b[34mtibble   \u001b[39m 3.2.1\n",
      "\u001b[32m✔\u001b[39m \u001b[34mlubridate\u001b[39m 1.9.2     \u001b[32m✔\u001b[39m \u001b[34mtidyr    \u001b[39m 1.3.0\n",
      "\u001b[32m✔\u001b[39m \u001b[34mpurrr    \u001b[39m 1.0.1     \n",
      "── \u001b[1mConflicts\u001b[22m ────────────────────────────────────────── tidyverse_conflicts() ──\n",
      "\u001b[31m✖\u001b[39m \u001b[34mdplyr\u001b[39m::\u001b[32mfilter()\u001b[39m masks \u001b[34mstats\u001b[39m::filter()\n",
      "\u001b[31m✖\u001b[39m \u001b[34mdplyr\u001b[39m::\u001b[32mlag()\u001b[39m    masks \u001b[34mstats\u001b[39m::lag()\n",
      "\u001b[36mℹ\u001b[39m Use the conflicted package (\u001b[3m\u001b[34m<http://conflicted.r-lib.org/>\u001b[39m\u001b[23m) to force all conflicts to become errors\n"
     ]
    }
   ],
   "source": [
    "library(\"tidyverse\")"
   ]
  },
  {
   "cell_type": "code",
   "execution_count": 7,
   "id": "a97c0fb5-9c86-45bd-b89d-ae42cf8efd38",
   "metadata": {},
   "outputs": [
    {
     "name": "stderr",
     "output_type": "stream",
     "text": [
      "\u001b[1mRows: \u001b[22m\u001b[34m5\u001b[39m \u001b[1mColumns: \u001b[22m\u001b[34m1\u001b[39m\n",
      "\u001b[36m──\u001b[39m \u001b[1mColumn specification\u001b[22m \u001b[36m────────────────────────────────────────────────────────\u001b[39m\n",
      "\u001b[1mDelimiter:\u001b[22m \"\\t\"\n",
      "\u001b[31mchr\u001b[39m (1): X1\n",
      "\n",
      "\u001b[36mℹ\u001b[39m Use `spec()` to retrieve the full column specification for this data.\n",
      "\u001b[36mℹ\u001b[39m Specify the column types or set `show_col_types = FALSE` to quiet this message.\n",
      "\u001b[1mRows: \u001b[22m\u001b[34m5\u001b[39m \u001b[1mColumns: \u001b[22m\u001b[34m1\u001b[39m\n",
      "\u001b[36m──\u001b[39m \u001b[1mColumn specification\u001b[22m \u001b[36m────────────────────────────────────────────────────────\u001b[39m\n",
      "\u001b[1mDelimiter:\u001b[22m \"\\t\"\n",
      "\u001b[31mchr\u001b[39m (1): X1\n",
      "\n",
      "\u001b[36mℹ\u001b[39m Use `spec()` to retrieve the full column specification for this data.\n",
      "\u001b[36mℹ\u001b[39m Specify the column types or set `show_col_types = FALSE` to quiet this message.\n"
     ]
    }
   ],
   "source": [
    "a = read_delim(\"../../../../MMQTL/Test_data_for_mmQTL/test_genotype\",\"\\t\", col_names = F)\n",
    "b = read_delim(\"../../../../MMQTL/Test_data_for_mmQTL/test_phenotype_path\",\"\\t\", col_names = F)"
   ]
  },
  {
   "cell_type": "code",
   "execution_count": 8,
   "id": "aaecbcc0-79c9-4874-a2a0-0b01cc71360c",
   "metadata": {},
   "outputs": [
    {
     "data": {
      "text/html": [
       "<table class=\"dataframe\">\n",
       "<caption>A spec_tbl_df: 5 × 1</caption>\n",
       "<thead>\n",
       "\t<tr><th scope=col>X1</th></tr>\n",
       "\t<tr><th scope=col>&lt;chr&gt;</th></tr>\n",
       "</thead>\n",
       "<tbody>\n",
       "\t<tr><td>Genotype/simulated_genotype_chr1</td></tr>\n",
       "\t<tr><td>Genotype/simulated_genotype_chr1</td></tr>\n",
       "\t<tr><td>Genotype/simulated_genotype_chr1</td></tr>\n",
       "\t<tr><td>Genotype/simulated_genotype_chr1</td></tr>\n",
       "\t<tr><td>Genotype/simulated_genotype_chr1</td></tr>\n",
       "</tbody>\n",
       "</table>\n"
      ],
      "text/latex": [
       "A spec\\_tbl\\_df: 5 × 1\n",
       "\\begin{tabular}{l}\n",
       " X1\\\\\n",
       " <chr>\\\\\n",
       "\\hline\n",
       "\t Genotype/simulated\\_genotype\\_chr1\\\\\n",
       "\t Genotype/simulated\\_genotype\\_chr1\\\\\n",
       "\t Genotype/simulated\\_genotype\\_chr1\\\\\n",
       "\t Genotype/simulated\\_genotype\\_chr1\\\\\n",
       "\t Genotype/simulated\\_genotype\\_chr1\\\\\n",
       "\\end{tabular}\n"
      ],
      "text/markdown": [
       "\n",
       "A spec_tbl_df: 5 × 1\n",
       "\n",
       "| X1 &lt;chr&gt; |\n",
       "|---|\n",
       "| Genotype/simulated_genotype_chr1 |\n",
       "| Genotype/simulated_genotype_chr1 |\n",
       "| Genotype/simulated_genotype_chr1 |\n",
       "| Genotype/simulated_genotype_chr1 |\n",
       "| Genotype/simulated_genotype_chr1 |\n",
       "\n"
      ],
      "text/plain": [
       "  X1                              \n",
       "1 Genotype/simulated_genotype_chr1\n",
       "2 Genotype/simulated_genotype_chr1\n",
       "3 Genotype/simulated_genotype_chr1\n",
       "4 Genotype/simulated_genotype_chr1\n",
       "5 Genotype/simulated_genotype_chr1"
      ]
     },
     "metadata": {},
     "output_type": "display_data"
    }
   ],
   "source": [
    "a"
   ]
  },
  {
   "cell_type": "code",
   "execution_count": 9,
   "id": "08b65795-49cc-4358-8a99-e92a16051d1a",
   "metadata": {},
   "outputs": [
    {
     "data": {
      "text/html": [
       "<table class=\"dataframe\">\n",
       "<caption>A spec_tbl_df: 5 × 1</caption>\n",
       "<thead>\n",
       "\t<tr><th scope=col>X1</th></tr>\n",
       "\t<tr><th scope=col>&lt;chr&gt;</th></tr>\n",
       "</thead>\n",
       "<tbody>\n",
       "\t<tr><td>Phenotype/simulated_phenotype_chr1_1</td></tr>\n",
       "\t<tr><td>Phenotype/simulated_phenotype_chr1_2</td></tr>\n",
       "\t<tr><td>Phenotype/simulated_phenotype_chr1_3</td></tr>\n",
       "\t<tr><td>Phenotype/simulated_phenotype_chr1_4</td></tr>\n",
       "\t<tr><td>Phenotype/simulated_phenotype_chr1_5</td></tr>\n",
       "</tbody>\n",
       "</table>\n"
      ],
      "text/latex": [
       "A spec\\_tbl\\_df: 5 × 1\n",
       "\\begin{tabular}{l}\n",
       " X1\\\\\n",
       " <chr>\\\\\n",
       "\\hline\n",
       "\t Phenotype/simulated\\_phenotype\\_chr1\\_1\\\\\n",
       "\t Phenotype/simulated\\_phenotype\\_chr1\\_2\\\\\n",
       "\t Phenotype/simulated\\_phenotype\\_chr1\\_3\\\\\n",
       "\t Phenotype/simulated\\_phenotype\\_chr1\\_4\\\\\n",
       "\t Phenotype/simulated\\_phenotype\\_chr1\\_5\\\\\n",
       "\\end{tabular}\n"
      ],
      "text/markdown": [
       "\n",
       "A spec_tbl_df: 5 × 1\n",
       "\n",
       "| X1 &lt;chr&gt; |\n",
       "|---|\n",
       "| Phenotype/simulated_phenotype_chr1_1 |\n",
       "| Phenotype/simulated_phenotype_chr1_2 |\n",
       "| Phenotype/simulated_phenotype_chr1_3 |\n",
       "| Phenotype/simulated_phenotype_chr1_4 |\n",
       "| Phenotype/simulated_phenotype_chr1_5 |\n",
       "\n"
      ],
      "text/plain": [
       "  X1                                  \n",
       "1 Phenotype/simulated_phenotype_chr1_1\n",
       "2 Phenotype/simulated_phenotype_chr1_2\n",
       "3 Phenotype/simulated_phenotype_chr1_3\n",
       "4 Phenotype/simulated_phenotype_chr1_4\n",
       "5 Phenotype/simulated_phenotype_chr1_5"
      ]
     },
     "metadata": {},
     "output_type": "display_data"
    }
   ],
   "source": [
    "b"
   ]
  },
  {
   "cell_type": "code",
   "execution_count": 10,
   "id": "8a005fa8-7a40-4aa3-b96b-7eba483bec67",
   "metadata": {},
   "outputs": [
    {
     "name": "stderr",
     "output_type": "stream",
     "text": [
      "\u001b[1mRows: \u001b[22m\u001b[34m800\u001b[39m \u001b[1mColumns: \u001b[22m\u001b[34m4\u001b[39m\n",
      "\u001b[36m──\u001b[39m \u001b[1mColumn specification\u001b[22m \u001b[36m────────────────────────────────────────────────────────\u001b[39m\n",
      "\u001b[1mDelimiter:\u001b[22m \"\\t\"\n",
      "\u001b[31mchr\u001b[39m (1): X4\n",
      "\u001b[32mdbl\u001b[39m (3): X1, X2, X3\n",
      "\n",
      "\u001b[36mℹ\u001b[39m Use `spec()` to retrieve the full column specification for this data.\n",
      "\u001b[36mℹ\u001b[39m Specify the column types or set `show_col_types = FALSE` to quiet this message.\n"
     ]
    }
   ],
   "source": [
    "c = read_delim(\"../../../../MMQTL/Test_data_for_mmQTL/gene_location_for_simulated_phenotype\",\"\\t\", col_names = F)"
   ]
  },
  {
   "cell_type": "code",
   "execution_count": 33,
   "id": "a29da9ca-8cac-4ee7-b926-0d055f0fada6",
   "metadata": {},
   "outputs": [
    {
     "data": {
      "text/html": [
       "454"
      ],
      "text/latex": [
       "454"
      ],
      "text/markdown": [
       "454"
      ],
      "text/plain": [
       "[1] 454"
      ]
     },
     "metadata": {},
     "output_type": "display_data"
    }
   ],
   "source": [
    "c%>%pull(X2)%>%unique()%>%length"
   ]
  },
  {
   "cell_type": "code",
   "execution_count": 37,
   "id": "9cd3a26c-adc5-4e17-adac-975914c9502c",
   "metadata": {},
   "outputs": [
    {
     "data": {
      "text/html": [
       "<table class=\"dataframe\">\n",
       "<caption>A spec_tbl_df: 454 × 4</caption>\n",
       "<thead>\n",
       "\t<tr><th scope=col>X1</th><th scope=col>X2</th><th scope=col>X3</th><th scope=col>X4</th></tr>\n",
       "\t<tr><th scope=col>&lt;dbl&gt;</th><th scope=col>&lt;dbl&gt;</th><th scope=col>&lt;dbl&gt;</th><th scope=col>&lt;chr&gt;</th></tr>\n",
       "</thead>\n",
       "<tbody>\n",
       "\t<tr><td>1</td><td> 53679771</td><td> 53686289</td><td>ENSG00000162384</td></tr>\n",
       "\t<tr><td>1</td><td>220141943</td><td>220220000</td><td>ENSG00000136628</td></tr>\n",
       "\t<tr><td>1</td><td>229652329</td><td>229694442</td><td>ENSG00000135776</td></tr>\n",
       "\t<tr><td>1</td><td>160370376</td><td>160398468</td><td>ENSG00000162738</td></tr>\n",
       "\t<tr><td>1</td><td>209955661</td><td>209957904</td><td>ENSG00000162757</td></tr>\n",
       "\t<tr><td>1</td><td>206680879</td><td>206762616</td><td>ENSG00000136653</td></tr>\n",
       "\t<tr><td>1</td><td>  6650784</td><td>  6674667</td><td>ENSG00000162413</td></tr>\n",
       "\t<tr><td>1</td><td> 65713902</td><td> 65881552</td><td>ENSG00000116675</td></tr>\n",
       "\t<tr><td>1</td><td>112025970</td><td>112106584</td><td>ENSG00000121933</td></tr>\n",
       "\t<tr><td>1</td><td>  1353800</td><td>  1357149</td><td>ENSG00000235098</td></tr>\n",
       "\t<tr><td>1</td><td>235490665</td><td>235507847</td><td>ENSG00000152904</td></tr>\n",
       "\t<tr><td>1</td><td> 11126675</td><td> 11159938</td><td>ENSG00000171824</td></tr>\n",
       "\t<tr><td>1</td><td>210001352</td><td>210030910</td><td>ENSG00000117597</td></tr>\n",
       "\t<tr><td>1</td><td>203309756</td><td>203320617</td><td>ENSG00000122176</td></tr>\n",
       "\t<tr><td>1</td><td>112016414</td><td>112021134</td><td>ENSG00000143110</td></tr>\n",
       "\t<tr><td>1</td><td> 89472349</td><td> 89488577</td><td>ENSG00000117226</td></tr>\n",
       "\t<tr><td>1</td><td> 65298912</td><td> 65432187</td><td>ENSG00000162434</td></tr>\n",
       "\t<tr><td>1</td><td>111956936</td><td>111970399</td><td>ENSG00000085465</td></tr>\n",
       "\t<tr><td>1</td><td> 16944751</td><td> 16971178</td><td>ENSG00000215908</td></tr>\n",
       "\t<tr><td>1</td><td> 17733256</td><td> 17766220</td><td>ENSG00000179051</td></tr>\n",
       "\t<tr><td>1</td><td>114447763</td><td>114456708</td><td>ENSG00000118655</td></tr>\n",
       "\t<tr><td>1</td><td>185126212</td><td>185260897</td><td>ENSG00000116668</td></tr>\n",
       "\t<tr><td>1</td><td>110600962</td><td>110605177</td><td>ENSG00000258634</td></tr>\n",
       "\t<tr><td>1</td><td>156904632</td><td>157015162</td><td>ENSG00000132694</td></tr>\n",
       "\t<tr><td>1</td><td>145592605</td><td>145611025</td><td>ENSG00000186141</td></tr>\n",
       "\t<tr><td>1</td><td>167498914</td><td>167523004</td><td>ENSG00000143162</td></tr>\n",
       "\t<tr><td>1</td><td>247263264</td><td>247267674</td><td>ENSG00000188295</td></tr>\n",
       "\t<tr><td>1</td><td>226332380</td><td>226374431</td><td>ENSG00000182827</td></tr>\n",
       "\t<tr><td>1</td><td>230838269</td><td>230850043</td><td>ENSG00000135744</td></tr>\n",
       "\t<tr><td>1</td><td>169631245</td><td>169823221</td><td>ENSG00000000460</td></tr>\n",
       "\t<tr><td>⋮</td><td>⋮</td><td>⋮</td><td>⋮</td></tr>\n",
       "\t<tr><td>1</td><td>  6265535</td><td>  6281359</td><td>ENSG00000158286</td></tr>\n",
       "\t<tr><td>1</td><td>169659808</td><td>169680839</td><td>ENSG00000188404</td></tr>\n",
       "\t<tr><td>1</td><td>161228517</td><td>161255240</td><td>ENSG00000248485</td></tr>\n",
       "\t<tr><td>1</td><td>234663637</td><td>234667525</td><td>ENSG00000231768</td></tr>\n",
       "\t<tr><td>1</td><td>201103900</td><td>201140702</td><td>ENSG00000116857</td></tr>\n",
       "\t<tr><td>1</td><td>  1246965</td><td>  1260071</td><td>ENSG00000127054</td></tr>\n",
       "\t<tr><td>1</td><td>236958610</td><td>237067281</td><td>ENSG00000116984</td></tr>\n",
       "\t<tr><td>1</td><td> 15853308</td><td> 15918874</td><td>ENSG00000116138</td></tr>\n",
       "\t<tr><td>1</td><td>114935399</td><td>115053781</td><td>ENSG00000197323</td></tr>\n",
       "\t<tr><td>1</td><td>182992595</td><td>183114727</td><td>ENSG00000135862</td></tr>\n",
       "\t<tr><td>1</td><td>228106357</td><td>228135599</td><td>ENSG00000143816</td></tr>\n",
       "\t<tr><td>1</td><td>156219015</td><td>156252620</td><td>ENSG00000198952</td></tr>\n",
       "\t<tr><td>1</td><td> 94333373</td><td> 94345474</td><td>ENSG00000067334</td></tr>\n",
       "\t<tr><td>1</td><td> 19542158</td><td> 19578046</td><td>ENSG00000127463</td></tr>\n",
       "\t<tr><td>1</td><td>228395831</td><td>228566577</td><td>ENSG00000154358</td></tr>\n",
       "\t<tr><td>1</td><td>  6521211</td><td>  6526255</td><td>ENSG00000215788</td></tr>\n",
       "\t<tr><td>1</td><td> 52811395</td><td> 52831865</td><td>ENSG00000154222</td></tr>\n",
       "\t<tr><td>1</td><td>100496122</td><td>100501188</td><td>ENSG00000261254</td></tr>\n",
       "\t<tr><td>1</td><td>  8064464</td><td>  8086368</td><td>ENSG00000116285</td></tr>\n",
       "\t<tr><td>1</td><td> 94614544</td><td> 94740624</td><td>ENSG00000137962</td></tr>\n",
       "\t<tr><td>1</td><td>231376953</td><td>231413719</td><td>ENSG00000116906</td></tr>\n",
       "\t<tr><td>1</td><td>152274651</td><td>152297679</td><td>ENSG00000143631</td></tr>\n",
       "\t<tr><td>1</td><td> 63249806</td><td> 63331184</td><td>ENSG00000125703</td></tr>\n",
       "\t<tr><td>1</td><td>171283347</td><td>171311223</td><td>ENSG00000076258</td></tr>\n",
       "\t<tr><td>1</td><td>201328136</td><td>201346890</td><td>ENSG00000118194</td></tr>\n",
       "\t<tr><td>1</td><td> 53068044</td><td> 53074723</td><td>ENSG00000116157</td></tr>\n",
       "\t<tr><td>1</td><td>197122810</td><td>197169672</td><td>ENSG00000177888</td></tr>\n",
       "\t<tr><td>1</td><td>155099936</td><td>155107333</td><td>ENSG00000169242</td></tr>\n",
       "\t<tr><td>1</td><td> 75198836</td><td> 75232362</td><td>ENSG00000162623</td></tr>\n",
       "\t<tr><td>1</td><td> 40997233</td><td> 41013841</td><td>ENSG00000117010</td></tr>\n",
       "</tbody>\n",
       "</table>\n"
      ],
      "text/latex": [
       "A spec\\_tbl\\_df: 454 × 4\n",
       "\\begin{tabular}{llll}\n",
       " X1 & X2 & X3 & X4\\\\\n",
       " <dbl> & <dbl> & <dbl> & <chr>\\\\\n",
       "\\hline\n",
       "\t 1 &  53679771 &  53686289 & ENSG00000162384\\\\\n",
       "\t 1 & 220141943 & 220220000 & ENSG00000136628\\\\\n",
       "\t 1 & 229652329 & 229694442 & ENSG00000135776\\\\\n",
       "\t 1 & 160370376 & 160398468 & ENSG00000162738\\\\\n",
       "\t 1 & 209955661 & 209957904 & ENSG00000162757\\\\\n",
       "\t 1 & 206680879 & 206762616 & ENSG00000136653\\\\\n",
       "\t 1 &   6650784 &   6674667 & ENSG00000162413\\\\\n",
       "\t 1 &  65713902 &  65881552 & ENSG00000116675\\\\\n",
       "\t 1 & 112025970 & 112106584 & ENSG00000121933\\\\\n",
       "\t 1 &   1353800 &   1357149 & ENSG00000235098\\\\\n",
       "\t 1 & 235490665 & 235507847 & ENSG00000152904\\\\\n",
       "\t 1 &  11126675 &  11159938 & ENSG00000171824\\\\\n",
       "\t 1 & 210001352 & 210030910 & ENSG00000117597\\\\\n",
       "\t 1 & 203309756 & 203320617 & ENSG00000122176\\\\\n",
       "\t 1 & 112016414 & 112021134 & ENSG00000143110\\\\\n",
       "\t 1 &  89472349 &  89488577 & ENSG00000117226\\\\\n",
       "\t 1 &  65298912 &  65432187 & ENSG00000162434\\\\\n",
       "\t 1 & 111956936 & 111970399 & ENSG00000085465\\\\\n",
       "\t 1 &  16944751 &  16971178 & ENSG00000215908\\\\\n",
       "\t 1 &  17733256 &  17766220 & ENSG00000179051\\\\\n",
       "\t 1 & 114447763 & 114456708 & ENSG00000118655\\\\\n",
       "\t 1 & 185126212 & 185260897 & ENSG00000116668\\\\\n",
       "\t 1 & 110600962 & 110605177 & ENSG00000258634\\\\\n",
       "\t 1 & 156904632 & 157015162 & ENSG00000132694\\\\\n",
       "\t 1 & 145592605 & 145611025 & ENSG00000186141\\\\\n",
       "\t 1 & 167498914 & 167523004 & ENSG00000143162\\\\\n",
       "\t 1 & 247263264 & 247267674 & ENSG00000188295\\\\\n",
       "\t 1 & 226332380 & 226374431 & ENSG00000182827\\\\\n",
       "\t 1 & 230838269 & 230850043 & ENSG00000135744\\\\\n",
       "\t 1 & 169631245 & 169823221 & ENSG00000000460\\\\\n",
       "\t ⋮ & ⋮ & ⋮ & ⋮\\\\\n",
       "\t 1 &   6265535 &   6281359 & ENSG00000158286\\\\\n",
       "\t 1 & 169659808 & 169680839 & ENSG00000188404\\\\\n",
       "\t 1 & 161228517 & 161255240 & ENSG00000248485\\\\\n",
       "\t 1 & 234663637 & 234667525 & ENSG00000231768\\\\\n",
       "\t 1 & 201103900 & 201140702 & ENSG00000116857\\\\\n",
       "\t 1 &   1246965 &   1260071 & ENSG00000127054\\\\\n",
       "\t 1 & 236958610 & 237067281 & ENSG00000116984\\\\\n",
       "\t 1 &  15853308 &  15918874 & ENSG00000116138\\\\\n",
       "\t 1 & 114935399 & 115053781 & ENSG00000197323\\\\\n",
       "\t 1 & 182992595 & 183114727 & ENSG00000135862\\\\\n",
       "\t 1 & 228106357 & 228135599 & ENSG00000143816\\\\\n",
       "\t 1 & 156219015 & 156252620 & ENSG00000198952\\\\\n",
       "\t 1 &  94333373 &  94345474 & ENSG00000067334\\\\\n",
       "\t 1 &  19542158 &  19578046 & ENSG00000127463\\\\\n",
       "\t 1 & 228395831 & 228566577 & ENSG00000154358\\\\\n",
       "\t 1 &   6521211 &   6526255 & ENSG00000215788\\\\\n",
       "\t 1 &  52811395 &  52831865 & ENSG00000154222\\\\\n",
       "\t 1 & 100496122 & 100501188 & ENSG00000261254\\\\\n",
       "\t 1 &   8064464 &   8086368 & ENSG00000116285\\\\\n",
       "\t 1 &  94614544 &  94740624 & ENSG00000137962\\\\\n",
       "\t 1 & 231376953 & 231413719 & ENSG00000116906\\\\\n",
       "\t 1 & 152274651 & 152297679 & ENSG00000143631\\\\\n",
       "\t 1 &  63249806 &  63331184 & ENSG00000125703\\\\\n",
       "\t 1 & 171283347 & 171311223 & ENSG00000076258\\\\\n",
       "\t 1 & 201328136 & 201346890 & ENSG00000118194\\\\\n",
       "\t 1 &  53068044 &  53074723 & ENSG00000116157\\\\\n",
       "\t 1 & 197122810 & 197169672 & ENSG00000177888\\\\\n",
       "\t 1 & 155099936 & 155107333 & ENSG00000169242\\\\\n",
       "\t 1 &  75198836 &  75232362 & ENSG00000162623\\\\\n",
       "\t 1 &  40997233 &  41013841 & ENSG00000117010\\\\\n",
       "\\end{tabular}\n"
      ],
      "text/markdown": [
       "\n",
       "A spec_tbl_df: 454 × 4\n",
       "\n",
       "| X1 &lt;dbl&gt; | X2 &lt;dbl&gt; | X3 &lt;dbl&gt; | X4 &lt;chr&gt; |\n",
       "|---|---|---|---|\n",
       "| 1 |  53679771 |  53686289 | ENSG00000162384 |\n",
       "| 1 | 220141943 | 220220000 | ENSG00000136628 |\n",
       "| 1 | 229652329 | 229694442 | ENSG00000135776 |\n",
       "| 1 | 160370376 | 160398468 | ENSG00000162738 |\n",
       "| 1 | 209955661 | 209957904 | ENSG00000162757 |\n",
       "| 1 | 206680879 | 206762616 | ENSG00000136653 |\n",
       "| 1 |   6650784 |   6674667 | ENSG00000162413 |\n",
       "| 1 |  65713902 |  65881552 | ENSG00000116675 |\n",
       "| 1 | 112025970 | 112106584 | ENSG00000121933 |\n",
       "| 1 |   1353800 |   1357149 | ENSG00000235098 |\n",
       "| 1 | 235490665 | 235507847 | ENSG00000152904 |\n",
       "| 1 |  11126675 |  11159938 | ENSG00000171824 |\n",
       "| 1 | 210001352 | 210030910 | ENSG00000117597 |\n",
       "| 1 | 203309756 | 203320617 | ENSG00000122176 |\n",
       "| 1 | 112016414 | 112021134 | ENSG00000143110 |\n",
       "| 1 |  89472349 |  89488577 | ENSG00000117226 |\n",
       "| 1 |  65298912 |  65432187 | ENSG00000162434 |\n",
       "| 1 | 111956936 | 111970399 | ENSG00000085465 |\n",
       "| 1 |  16944751 |  16971178 | ENSG00000215908 |\n",
       "| 1 |  17733256 |  17766220 | ENSG00000179051 |\n",
       "| 1 | 114447763 | 114456708 | ENSG00000118655 |\n",
       "| 1 | 185126212 | 185260897 | ENSG00000116668 |\n",
       "| 1 | 110600962 | 110605177 | ENSG00000258634 |\n",
       "| 1 | 156904632 | 157015162 | ENSG00000132694 |\n",
       "| 1 | 145592605 | 145611025 | ENSG00000186141 |\n",
       "| 1 | 167498914 | 167523004 | ENSG00000143162 |\n",
       "| 1 | 247263264 | 247267674 | ENSG00000188295 |\n",
       "| 1 | 226332380 | 226374431 | ENSG00000182827 |\n",
       "| 1 | 230838269 | 230850043 | ENSG00000135744 |\n",
       "| 1 | 169631245 | 169823221 | ENSG00000000460 |\n",
       "| ⋮ | ⋮ | ⋮ | ⋮ |\n",
       "| 1 |   6265535 |   6281359 | ENSG00000158286 |\n",
       "| 1 | 169659808 | 169680839 | ENSG00000188404 |\n",
       "| 1 | 161228517 | 161255240 | ENSG00000248485 |\n",
       "| 1 | 234663637 | 234667525 | ENSG00000231768 |\n",
       "| 1 | 201103900 | 201140702 | ENSG00000116857 |\n",
       "| 1 |   1246965 |   1260071 | ENSG00000127054 |\n",
       "| 1 | 236958610 | 237067281 | ENSG00000116984 |\n",
       "| 1 |  15853308 |  15918874 | ENSG00000116138 |\n",
       "| 1 | 114935399 | 115053781 | ENSG00000197323 |\n",
       "| 1 | 182992595 | 183114727 | ENSG00000135862 |\n",
       "| 1 | 228106357 | 228135599 | ENSG00000143816 |\n",
       "| 1 | 156219015 | 156252620 | ENSG00000198952 |\n",
       "| 1 |  94333373 |  94345474 | ENSG00000067334 |\n",
       "| 1 |  19542158 |  19578046 | ENSG00000127463 |\n",
       "| 1 | 228395831 | 228566577 | ENSG00000154358 |\n",
       "| 1 |   6521211 |   6526255 | ENSG00000215788 |\n",
       "| 1 |  52811395 |  52831865 | ENSG00000154222 |\n",
       "| 1 | 100496122 | 100501188 | ENSG00000261254 |\n",
       "| 1 |   8064464 |   8086368 | ENSG00000116285 |\n",
       "| 1 |  94614544 |  94740624 | ENSG00000137962 |\n",
       "| 1 | 231376953 | 231413719 | ENSG00000116906 |\n",
       "| 1 | 152274651 | 152297679 | ENSG00000143631 |\n",
       "| 1 |  63249806 |  63331184 | ENSG00000125703 |\n",
       "| 1 | 171283347 | 171311223 | ENSG00000076258 |\n",
       "| 1 | 201328136 | 201346890 | ENSG00000118194 |\n",
       "| 1 |  53068044 |  53074723 | ENSG00000116157 |\n",
       "| 1 | 197122810 | 197169672 | ENSG00000177888 |\n",
       "| 1 | 155099936 | 155107333 | ENSG00000169242 |\n",
       "| 1 |  75198836 |  75232362 | ENSG00000162623 |\n",
       "| 1 |  40997233 |  41013841 | ENSG00000117010 |\n",
       "\n"
      ],
      "text/plain": [
       "    X1 X2        X3        X4             \n",
       "1   1   53679771  53686289 ENSG00000162384\n",
       "2   1  220141943 220220000 ENSG00000136628\n",
       "3   1  229652329 229694442 ENSG00000135776\n",
       "4   1  160370376 160398468 ENSG00000162738\n",
       "5   1  209955661 209957904 ENSG00000162757\n",
       "6   1  206680879 206762616 ENSG00000136653\n",
       "7   1    6650784   6674667 ENSG00000162413\n",
       "8   1   65713902  65881552 ENSG00000116675\n",
       "9   1  112025970 112106584 ENSG00000121933\n",
       "10  1    1353800   1357149 ENSG00000235098\n",
       "11  1  235490665 235507847 ENSG00000152904\n",
       "12  1   11126675  11159938 ENSG00000171824\n",
       "13  1  210001352 210030910 ENSG00000117597\n",
       "14  1  203309756 203320617 ENSG00000122176\n",
       "15  1  112016414 112021134 ENSG00000143110\n",
       "16  1   89472349  89488577 ENSG00000117226\n",
       "17  1   65298912  65432187 ENSG00000162434\n",
       "18  1  111956936 111970399 ENSG00000085465\n",
       "19  1   16944751  16971178 ENSG00000215908\n",
       "20  1   17733256  17766220 ENSG00000179051\n",
       "21  1  114447763 114456708 ENSG00000118655\n",
       "22  1  185126212 185260897 ENSG00000116668\n",
       "23  1  110600962 110605177 ENSG00000258634\n",
       "24  1  156904632 157015162 ENSG00000132694\n",
       "25  1  145592605 145611025 ENSG00000186141\n",
       "26  1  167498914 167523004 ENSG00000143162\n",
       "27  1  247263264 247267674 ENSG00000188295\n",
       "28  1  226332380 226374431 ENSG00000182827\n",
       "29  1  230838269 230850043 ENSG00000135744\n",
       "30  1  169631245 169823221 ENSG00000000460\n",
       "⋮   ⋮  ⋮         ⋮         ⋮              \n",
       "425 1    6265535   6281359 ENSG00000158286\n",
       "426 1  169659808 169680839 ENSG00000188404\n",
       "427 1  161228517 161255240 ENSG00000248485\n",
       "428 1  234663637 234667525 ENSG00000231768\n",
       "429 1  201103900 201140702 ENSG00000116857\n",
       "430 1    1246965   1260071 ENSG00000127054\n",
       "431 1  236958610 237067281 ENSG00000116984\n",
       "432 1   15853308  15918874 ENSG00000116138\n",
       "433 1  114935399 115053781 ENSG00000197323\n",
       "434 1  182992595 183114727 ENSG00000135862\n",
       "435 1  228106357 228135599 ENSG00000143816\n",
       "436 1  156219015 156252620 ENSG00000198952\n",
       "437 1   94333373  94345474 ENSG00000067334\n",
       "438 1   19542158  19578046 ENSG00000127463\n",
       "439 1  228395831 228566577 ENSG00000154358\n",
       "440 1    6521211   6526255 ENSG00000215788\n",
       "441 1   52811395  52831865 ENSG00000154222\n",
       "442 1  100496122 100501188 ENSG00000261254\n",
       "443 1    8064464   8086368 ENSG00000116285\n",
       "444 1   94614544  94740624 ENSG00000137962\n",
       "445 1  231376953 231413719 ENSG00000116906\n",
       "446 1  152274651 152297679 ENSG00000143631\n",
       "447 1   63249806  63331184 ENSG00000125703\n",
       "448 1  171283347 171311223 ENSG00000076258\n",
       "449 1  201328136 201346890 ENSG00000118194\n",
       "450 1   53068044  53074723 ENSG00000116157\n",
       "451 1  197122810 197169672 ENSG00000177888\n",
       "452 1  155099936 155107333 ENSG00000169242\n",
       "453 1   75198836  75232362 ENSG00000162623\n",
       "454 1   40997233  41013841 ENSG00000117010"
      ]
     },
     "metadata": {},
     "output_type": "display_data"
    }
   ],
   "source": [
    "c%>%filter(!str_detect(X4,\"_\"))"
   ]
  },
  {
   "cell_type": "code",
   "execution_count": 38,
   "id": "2955a9e3-26fd-47c7-a6c2-c074f0b00ebf",
   "metadata": {},
   "outputs": [],
   "source": [
    "c%>%filter(!str_detect(X4,\"_\"))%>%mutate(path = paste0(\"/sc/arion/projects/CommonMind/roussp01a/snmulti_QTL/MMQTL/Test_data_for_mmQTL/Genotype/simulated_genotype_chr1.bed\"))%>%select(`#region` = X4 , path)%>%write_delim(\"/sc/arion/projects/CommonMind/roussp01a/snmulti_QTL/MMQTL/Test_data_for_mmQTL/GenoFile.list\",\"\\t\")"
   ]
  },
  {
   "cell_type": "code",
   "execution_count": 26,
   "id": "b4c8feef-8057-4853-8b2f-9b50f4f3bb75",
   "metadata": {},
   "outputs": [],
   "source": [
    "c%>%mutate(path1 = paste0(\"/sc/arion/projects/CommonMind/roussp01a/snmulti_QTL/MMQTL/Test_data_for_mmQTL/Phenotype/simulated_phenotype_chr1_1\"),\n",
    "           path2 = paste0(\"/sc/arion/projects/CommonMind/roussp01a/snmulti_QTL/MMQTL/Test_data_for_mmQTL/Phenotype/simulated_phenotype_chr1_2\"),\n",
    "           path3 = paste0(\"/sc/arion/projects/CommonMind/roussp01a/snmulti_QTL/MMQTL/Test_data_for_mmQTL/Phenotype/simulated_phenotype_chr1_3\"),\n",
    "           path4 = paste0(\"/sc/arion/projects/CommonMind/roussp01a/snmulti_QTL/MMQTL/Test_data_for_mmQTL/Phenotype/simulated_phenotype_chr1_4\"),\n",
    "           path5 = paste0(\"/sc/arion/projects/CommonMind/roussp01a/snmulti_QTL/MMQTL/Test_data_for_mmQTL/Phenotype/simulated_phenotype_chr1_5\")\n",
    "          )%>%select(\"#chr\" = X1, \"start\" =  X2, \"end\" =  X3,\"ID\" = X4 , \"path\" = path5)%>%write_delim(\"/sc/arion/projects/CommonMind/roussp01a/snmulti_QTL/MMQTL/Test_data_for_mmQTL/phenotype_list_5\",\"\\t\")"
   ]
  },
  {
   "cell_type": "code",
   "execution_count": 29,
   "id": "8b1d4ac4-1661-48ec-bd30-9de263a28bfa",
   "metadata": {},
   "outputs": [
    {
     "ename": "ERROR",
     "evalue": "Error in parse(text = x, srcfile = src): <text>:1:1: unexpected '['\n1: [\n    ^\n",
     "output_type": "error",
     "traceback": [
      "Error in parse(text = x, srcfile = src): <text>:1:1: unexpected '['\n1: [\n    ^\nTraceback:\n"
     ]
    }
   ],
   "source": []
  },
  {
   "cell_type": "code",
   "execution_count": 43,
   "id": "04ff44a3-2a6d-4126-9976-f6133a47e770",
   "metadata": {},
   "outputs": [],
   "source": [
    "library(\"tidyverse\")\n",
    "genotype = '/sc/arion/projects/CommonMind/roussp01a/snmulti_QTL/MMQTL/Test_data_for_mmQTL/Genotype/simulated_genotype_chr1'\n",
    "phenotype = c(\"/sc/arion/projects/CommonMind/roussp01a/snmulti_QTL/MMQTL/Test_data_for_mmQTL/Phenotype/simulated_phenotype_chr1_1\",\"/sc/arion/projects/CommonMind/roussp01a/snmulti_QTL/MMQTL/Test_data_for_mmQTL/Phenotype/simulated_phenotype_chr1_2\",\"/sc/arion/projects/CommonMind/roussp01a/snmulti_QTL/MMQTL/Test_data_for_mmQTL/Phenotype/simulated_phenotype_chr1_3\",\"/sc/arion/projects/CommonMind/roussp01a/snmulti_QTL/MMQTL/Test_data_for_mmQTL/Phenotype/simulated_phenotype_chr1_4\",\"/sc/arion/projects/CommonMind/roussp01a/snmulti_QTL/MMQTL/Test_data_for_mmQTL/Phenotype/simulated_phenotype_chr1_5\")\n",
    "tib = tibble(genotype = genotype, phenotype = phenotype , grm = '/sc/arion/projects/CommonMind/roussp01a/snmulti_QTL/MMQTL/Test_data_for_mmQTL/GRM/simulated_genotype.grm.rel' )\n",
    "tib%>%select(genotype)%>%write_delim(\"/sc/arion/projects/CommonMind/roussp01a/snmulti_QTL/test/output/MMQTL/ENSG00000235098/genotype_input_tmp\")\n",
    "tib%>%select(phenotype)%>%write_delim(\"/sc/arion/projects/CommonMind/roussp01a/snmulti_QTL/test/output/MMQTL/ENSG00000235098/phenotype_input_tmp\")\n",
    "tib%>%select(grm)%>%write_delim(\"/sc/arion/projects/CommonMind/roussp01a/snmulti_QTL/test/output/MMQTL/ENSG00000235098/genotype_input_tmp.grm\")\n"
   ]
  },
  {
   "cell_type": "code",
   "execution_count": null,
   "id": "b818f99e-d952-4093-abe6-335292206cbd",
   "metadata": {},
   "outputs": [],
   "source": []
  }
 ],
 "metadata": {
  "kernelspec": {
   "display_name": "Singularity StephensLab R tools",
   "language": "R",
   "name": "stephen_r"
  },
  "language_info": {
   "codemirror_mode": "r",
   "file_extension": ".r",
   "mimetype": "text/x-r-source",
   "name": "R",
   "pygments_lexer": "r",
   "version": "4.2.3"
  }
 },
 "nbformat": 4,
 "nbformat_minor": 5
}
