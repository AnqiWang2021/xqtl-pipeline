{
 "cells": [
  {
   "cell_type": "code",
   "execution_count": 1,
   "id": "1e8f6c2d-94f5-48ab-a25d-6d8be6ff4c9e",
   "metadata": {
    "tags": []
   },
   "outputs": [
    {
     "name": "stderr",
     "output_type": "stream",
     "text": [
      "\u001b[1m\u001b[4m\u001b[35mHINT:\u001b[39m\u001b[24m\u001b[22m For an X with many columns, please consider installingthe Rfast package for more efficient credible set (CS)calculations.\n",
      "\n"
     ]
    },
    {
     "name": "stdout",
     "output_type": "stream",
     "text": [
      "[1] \"objective:-1380.57545244549\"\n",
      "[1] \"objective:-1377.48660917848\"\n",
      "[1] \"objective:-1375.85777211192\"\n",
      "[1] \"objective:-1375.80892305039\"\n",
      "[1] \"objective:-1370.33949333167\"\n",
      "[1] \"objective:-1370.1967727686\"\n",
      "[1] \"objective:-1370.109197392\"\n",
      "[1] \"objective:-1370.10918017467\"\n",
      "[1] \"objective:-1370.10901872278\"\n"
     ]
    }
   ],
   "source": [
    "library(susieR)\n",
    "data(N3finemapping)\n",
    "attach(N3finemapping)\n",
    "fitted <- susie(X, Y[,1],\n",
    "                L = 10,\n",
    "        verbose = TRUE)"
   ]
  },
  {
   "cell_type": "code",
   "execution_count": null,
   "id": "f6510108-7047-45cc-bb4c-872769af2998",
   "metadata": {},
   "outputs": [],
   "source": []
  },
  {
   "cell_type": "code",
   "execution_count": 2,
   "id": "feea2d10-d370-4b42-9b39-98141b6a1cee",
   "metadata": {
    "tags": []
   },
   "outputs": [
    {
     "name": "stdout",
     "output_type": "stream",
     "text": [
      "List of 19\n",
      " $ alpha                 : num [1:10, 1:1001] 5.11e-11 1.06e-07 4.51e-07 9.99e-04 9.99e-04 ...\n",
      " $ mu                    : num [1:10, 1:1001] 0.122 0.206 0.204 0 0 ...\n",
      " $ mu2                   : num [1:10, 1:1001] 0.0259 0.0533 0.0524 0 0 ...\n",
      " $ Xr                    : num [1:574] -0.997 -0.722 -1.901 0.182 1.086 ...\n",
      " $ KL                    : num [1:10] 8.17 8.71 5.34 0 0 ...\n",
      " $ lbf                   : num [1:10] 15.53 9.29 7.97 0 0 ...\n",
      " $ lbf_variable          : num [1:10, 1:1001] -1.26 0.139 0.267 0 0 ...\n",
      " $ sigma2                : num 6.41\n",
      " $ V                     : num [1:10] 0.531 0.403 0.298 0 0 ...\n",
      " $ pi                    : num [1:1001] 0.000999 0.000999 0.000999 0.000999 0.000999 ...\n",
      " $ null_index            : num 0\n",
      " $ converged             : logi TRUE\n",
      " $ elbo                  : num [1:5] -1381 -1376 -1370 -1370 -1370\n",
      " $ niter                 : int 5\n",
      " $ intercept             : num 1.22e-16\n",
      " $ fitted                : num [1:574] -0.997 -0.722 -1.901 0.182 1.086 ...\n",
      " $ sets                  :List of 5\n",
      "  ..$ cs                :List of 3\n",
      "  .. ..$ L2: int 653\n",
      "  .. ..$ L1: int [1:2] 773 777\n",
      "  .. ..$ L3: int [1:27] 362 365 372 373 374 379 381 383 384 386 ...\n",
      "  ..$ purity            :'data.frame':\t3 obs. of  3 variables:\n",
      "  .. ..$ min.abs.corr   : num [1:3] 1 0.982 0.869\n",
      "  .. ..$ mean.abs.corr  : num [1:3] 1 0.982 0.964\n",
      "  .. ..$ median.abs.corr: num [1:3] 1 0.982 0.972\n",
      "  ..$ cs_index          : int [1:3] 2 1 3\n",
      "  ..$ coverage          : num [1:3] 1 0.999 0.954\n",
      "  ..$ requested_coverage: num 0.95\n",
      " $ pip                   : num [1:1001] 5.57e-07 9.13e-08 1.34e-07 1.39e-07 8.51e-08 ...\n",
      " $ X_column_scale_factors: num [1:1001] 0.143 0.624 0.684 0.23 0.411 ...\n",
      " - attr(*, \"class\")= chr \"susie\"\n"
     ]
    }
   ],
   "source": [
    "str(fitted)"
   ]
  },
  {
   "cell_type": "code",
   "execution_count": null,
   "id": "24113ae4-ed6c-47b1-8366-74da0d26adc5",
   "metadata": {},
   "outputs": [],
   "source": [
    "fitted$l"
   ]
  },
  {
   "cell_type": "code",
   "execution_count": 5,
   "id": "750502e3-e76d-476e-a3e1-786ebb48843b",
   "metadata": {
    "tags": []
   },
   "outputs": [
    {
     "data": {
      "text/html": [
       "<table class=\"dataframe\">\n",
       "<caption>A matrix: 10 × 1001 of type dbl</caption>\n",
       "<tbody>\n",
       "\t<tr><td>-1.2604962</td><td>-1.929514</td><td>-1.854431</td><td>-1.939545</td><td>-1.727225</td><td>-1.755107</td><td>-1.712975</td><td>-1.1231846</td><td>-1.7460610</td><td> 0.05713496</td><td>⋯</td><td>-0.367454</td><td> 0.3206293</td><td>-0.7337501</td><td>-1.851896</td><td>-1.568523</td><td>-1.491380</td><td>-0.5885602</td><td>-1.702363</td><td>-1.899278</td><td>-1.427510</td></tr>\n",
       "\t<tr><td> 0.1393732</td><td>-1.768987</td><td>-1.348962</td><td>-1.507498</td><td>-1.775366</td><td>-1.270143</td><td>-1.031020</td><td>-1.1733684</td><td>-1.0656631</td><td>-0.82301760</td><td>⋯</td><td>-1.124375</td><td>-0.3300143</td><td>-1.4273987</td><td>-1.586105</td><td>-1.491761</td><td>-1.460687</td><td>-1.2298112</td><td>-1.802993</td><td>-1.660954</td><td>-1.400010</td></tr>\n",
       "\t<tr><td> 0.2674746</td><td>-1.519304</td><td>-1.145214</td><td>-1.066811</td><td>-1.604015</td><td>-1.491617</td><td>-0.801671</td><td>-0.5927481</td><td>-0.9460849</td><td>-0.85713774</td><td>⋯</td><td>-1.538102</td><td>-1.2975310</td><td>-1.6427482</td><td>-1.623795</td><td>-1.295605</td><td>-1.316737</td><td>-1.5905969</td><td>-1.558290</td><td>-1.649574</td><td>-1.262203</td></tr>\n",
       "\t<tr><td> 0.0000000</td><td> 0.000000</td><td> 0.000000</td><td> 0.000000</td><td> 0.000000</td><td> 0.000000</td><td> 0.000000</td><td> 0.0000000</td><td> 0.0000000</td><td> 0.00000000</td><td>⋯</td><td> 0.000000</td><td> 0.0000000</td><td> 0.0000000</td><td> 0.000000</td><td> 0.000000</td><td> 0.000000</td><td> 0.0000000</td><td> 0.000000</td><td> 0.000000</td><td> 0.000000</td></tr>\n",
       "\t<tr><td> 0.0000000</td><td> 0.000000</td><td> 0.000000</td><td> 0.000000</td><td> 0.000000</td><td> 0.000000</td><td> 0.000000</td><td> 0.0000000</td><td> 0.0000000</td><td> 0.00000000</td><td>⋯</td><td> 0.000000</td><td> 0.0000000</td><td> 0.0000000</td><td> 0.000000</td><td> 0.000000</td><td> 0.000000</td><td> 0.0000000</td><td> 0.000000</td><td> 0.000000</td><td> 0.000000</td></tr>\n",
       "\t<tr><td> 0.0000000</td><td> 0.000000</td><td> 0.000000</td><td> 0.000000</td><td> 0.000000</td><td> 0.000000</td><td> 0.000000</td><td> 0.0000000</td><td> 0.0000000</td><td> 0.00000000</td><td>⋯</td><td> 0.000000</td><td> 0.0000000</td><td> 0.0000000</td><td> 0.000000</td><td> 0.000000</td><td> 0.000000</td><td> 0.0000000</td><td> 0.000000</td><td> 0.000000</td><td> 0.000000</td></tr>\n",
       "\t<tr><td> 0.0000000</td><td> 0.000000</td><td> 0.000000</td><td> 0.000000</td><td> 0.000000</td><td> 0.000000</td><td> 0.000000</td><td> 0.0000000</td><td> 0.0000000</td><td> 0.00000000</td><td>⋯</td><td> 0.000000</td><td> 0.0000000</td><td> 0.0000000</td><td> 0.000000</td><td> 0.000000</td><td> 0.000000</td><td> 0.0000000</td><td> 0.000000</td><td> 0.000000</td><td> 0.000000</td></tr>\n",
       "\t<tr><td> 0.0000000</td><td> 0.000000</td><td> 0.000000</td><td> 0.000000</td><td> 0.000000</td><td> 0.000000</td><td> 0.000000</td><td> 0.0000000</td><td> 0.0000000</td><td> 0.00000000</td><td>⋯</td><td> 0.000000</td><td> 0.0000000</td><td> 0.0000000</td><td> 0.000000</td><td> 0.000000</td><td> 0.000000</td><td> 0.0000000</td><td> 0.000000</td><td> 0.000000</td><td> 0.000000</td></tr>\n",
       "\t<tr><td> 0.0000000</td><td> 0.000000</td><td> 0.000000</td><td> 0.000000</td><td> 0.000000</td><td> 0.000000</td><td> 0.000000</td><td> 0.0000000</td><td> 0.0000000</td><td> 0.00000000</td><td>⋯</td><td> 0.000000</td><td> 0.0000000</td><td> 0.0000000</td><td> 0.000000</td><td> 0.000000</td><td> 0.000000</td><td> 0.0000000</td><td> 0.000000</td><td> 0.000000</td><td> 0.000000</td></tr>\n",
       "\t<tr><td> 0.0000000</td><td> 0.000000</td><td> 0.000000</td><td> 0.000000</td><td> 0.000000</td><td> 0.000000</td><td> 0.000000</td><td> 0.0000000</td><td> 0.0000000</td><td> 0.00000000</td><td>⋯</td><td> 0.000000</td><td> 0.0000000</td><td> 0.0000000</td><td> 0.000000</td><td> 0.000000</td><td> 0.000000</td><td> 0.0000000</td><td> 0.000000</td><td> 0.000000</td><td> 0.000000</td></tr>\n",
       "</tbody>\n",
       "</table>\n"
      ],
      "text/latex": [
       "A matrix: 10 × 1001 of type dbl\n",
       "\\begin{tabular}{lllllllllllllllllllll}\n",
       "\t -1.2604962 & -1.929514 & -1.854431 & -1.939545 & -1.727225 & -1.755107 & -1.712975 & -1.1231846 & -1.7460610 &  0.05713496 & ⋯ & -0.367454 &  0.3206293 & -0.7337501 & -1.851896 & -1.568523 & -1.491380 & -0.5885602 & -1.702363 & -1.899278 & -1.427510\\\\\n",
       "\t  0.1393732 & -1.768987 & -1.348962 & -1.507498 & -1.775366 & -1.270143 & -1.031020 & -1.1733684 & -1.0656631 & -0.82301760 & ⋯ & -1.124375 & -0.3300143 & -1.4273987 & -1.586105 & -1.491761 & -1.460687 & -1.2298112 & -1.802993 & -1.660954 & -1.400010\\\\\n",
       "\t  0.2674746 & -1.519304 & -1.145214 & -1.066811 & -1.604015 & -1.491617 & -0.801671 & -0.5927481 & -0.9460849 & -0.85713774 & ⋯ & -1.538102 & -1.2975310 & -1.6427482 & -1.623795 & -1.295605 & -1.316737 & -1.5905969 & -1.558290 & -1.649574 & -1.262203\\\\\n",
       "\t  0.0000000 &  0.000000 &  0.000000 &  0.000000 &  0.000000 &  0.000000 &  0.000000 &  0.0000000 &  0.0000000 &  0.00000000 & ⋯ &  0.000000 &  0.0000000 &  0.0000000 &  0.000000 &  0.000000 &  0.000000 &  0.0000000 &  0.000000 &  0.000000 &  0.000000\\\\\n",
       "\t  0.0000000 &  0.000000 &  0.000000 &  0.000000 &  0.000000 &  0.000000 &  0.000000 &  0.0000000 &  0.0000000 &  0.00000000 & ⋯ &  0.000000 &  0.0000000 &  0.0000000 &  0.000000 &  0.000000 &  0.000000 &  0.0000000 &  0.000000 &  0.000000 &  0.000000\\\\\n",
       "\t  0.0000000 &  0.000000 &  0.000000 &  0.000000 &  0.000000 &  0.000000 &  0.000000 &  0.0000000 &  0.0000000 &  0.00000000 & ⋯ &  0.000000 &  0.0000000 &  0.0000000 &  0.000000 &  0.000000 &  0.000000 &  0.0000000 &  0.000000 &  0.000000 &  0.000000\\\\\n",
       "\t  0.0000000 &  0.000000 &  0.000000 &  0.000000 &  0.000000 &  0.000000 &  0.000000 &  0.0000000 &  0.0000000 &  0.00000000 & ⋯ &  0.000000 &  0.0000000 &  0.0000000 &  0.000000 &  0.000000 &  0.000000 &  0.0000000 &  0.000000 &  0.000000 &  0.000000\\\\\n",
       "\t  0.0000000 &  0.000000 &  0.000000 &  0.000000 &  0.000000 &  0.000000 &  0.000000 &  0.0000000 &  0.0000000 &  0.00000000 & ⋯ &  0.000000 &  0.0000000 &  0.0000000 &  0.000000 &  0.000000 &  0.000000 &  0.0000000 &  0.000000 &  0.000000 &  0.000000\\\\\n",
       "\t  0.0000000 &  0.000000 &  0.000000 &  0.000000 &  0.000000 &  0.000000 &  0.000000 &  0.0000000 &  0.0000000 &  0.00000000 & ⋯ &  0.000000 &  0.0000000 &  0.0000000 &  0.000000 &  0.000000 &  0.000000 &  0.0000000 &  0.000000 &  0.000000 &  0.000000\\\\\n",
       "\t  0.0000000 &  0.000000 &  0.000000 &  0.000000 &  0.000000 &  0.000000 &  0.000000 &  0.0000000 &  0.0000000 &  0.00000000 & ⋯ &  0.000000 &  0.0000000 &  0.0000000 &  0.000000 &  0.000000 &  0.000000 &  0.0000000 &  0.000000 &  0.000000 &  0.000000\\\\\n",
       "\\end{tabular}\n"
      ],
      "text/markdown": [
       "\n",
       "A matrix: 10 × 1001 of type dbl\n",
       "\n",
       "| -1.2604962 | -1.929514 | -1.854431 | -1.939545 | -1.727225 | -1.755107 | -1.712975 | -1.1231846 | -1.7460610 |  0.05713496 | ⋯ | -0.367454 |  0.3206293 | -0.7337501 | -1.851896 | -1.568523 | -1.491380 | -0.5885602 | -1.702363 | -1.899278 | -1.427510 |\n",
       "|  0.1393732 | -1.768987 | -1.348962 | -1.507498 | -1.775366 | -1.270143 | -1.031020 | -1.1733684 | -1.0656631 | -0.82301760 | ⋯ | -1.124375 | -0.3300143 | -1.4273987 | -1.586105 | -1.491761 | -1.460687 | -1.2298112 | -1.802993 | -1.660954 | -1.400010 |\n",
       "|  0.2674746 | -1.519304 | -1.145214 | -1.066811 | -1.604015 | -1.491617 | -0.801671 | -0.5927481 | -0.9460849 | -0.85713774 | ⋯ | -1.538102 | -1.2975310 | -1.6427482 | -1.623795 | -1.295605 | -1.316737 | -1.5905969 | -1.558290 | -1.649574 | -1.262203 |\n",
       "|  0.0000000 |  0.000000 |  0.000000 |  0.000000 |  0.000000 |  0.000000 |  0.000000 |  0.0000000 |  0.0000000 |  0.00000000 | ⋯ |  0.000000 |  0.0000000 |  0.0000000 |  0.000000 |  0.000000 |  0.000000 |  0.0000000 |  0.000000 |  0.000000 |  0.000000 |\n",
       "|  0.0000000 |  0.000000 |  0.000000 |  0.000000 |  0.000000 |  0.000000 |  0.000000 |  0.0000000 |  0.0000000 |  0.00000000 | ⋯ |  0.000000 |  0.0000000 |  0.0000000 |  0.000000 |  0.000000 |  0.000000 |  0.0000000 |  0.000000 |  0.000000 |  0.000000 |\n",
       "|  0.0000000 |  0.000000 |  0.000000 |  0.000000 |  0.000000 |  0.000000 |  0.000000 |  0.0000000 |  0.0000000 |  0.00000000 | ⋯ |  0.000000 |  0.0000000 |  0.0000000 |  0.000000 |  0.000000 |  0.000000 |  0.0000000 |  0.000000 |  0.000000 |  0.000000 |\n",
       "|  0.0000000 |  0.000000 |  0.000000 |  0.000000 |  0.000000 |  0.000000 |  0.000000 |  0.0000000 |  0.0000000 |  0.00000000 | ⋯ |  0.000000 |  0.0000000 |  0.0000000 |  0.000000 |  0.000000 |  0.000000 |  0.0000000 |  0.000000 |  0.000000 |  0.000000 |\n",
       "|  0.0000000 |  0.000000 |  0.000000 |  0.000000 |  0.000000 |  0.000000 |  0.000000 |  0.0000000 |  0.0000000 |  0.00000000 | ⋯ |  0.000000 |  0.0000000 |  0.0000000 |  0.000000 |  0.000000 |  0.000000 |  0.0000000 |  0.000000 |  0.000000 |  0.000000 |\n",
       "|  0.0000000 |  0.000000 |  0.000000 |  0.000000 |  0.000000 |  0.000000 |  0.000000 |  0.0000000 |  0.0000000 |  0.00000000 | ⋯ |  0.000000 |  0.0000000 |  0.0000000 |  0.000000 |  0.000000 |  0.000000 |  0.0000000 |  0.000000 |  0.000000 |  0.000000 |\n",
       "|  0.0000000 |  0.000000 |  0.000000 |  0.000000 |  0.000000 |  0.000000 |  0.000000 |  0.0000000 |  0.0000000 |  0.00000000 | ⋯ |  0.000000 |  0.0000000 |  0.0000000 |  0.000000 |  0.000000 |  0.000000 |  0.0000000 |  0.000000 |  0.000000 |  0.000000 |\n",
       "\n"
      ],
      "text/plain": [
       "      [,1]       [,2]      [,3]      [,4]      [,5]      [,6]      [,7]     \n",
       " [1,] -1.2604962 -1.929514 -1.854431 -1.939545 -1.727225 -1.755107 -1.712975\n",
       " [2,]  0.1393732 -1.768987 -1.348962 -1.507498 -1.775366 -1.270143 -1.031020\n",
       " [3,]  0.2674746 -1.519304 -1.145214 -1.066811 -1.604015 -1.491617 -0.801671\n",
       " [4,]  0.0000000  0.000000  0.000000  0.000000  0.000000  0.000000  0.000000\n",
       " [5,]  0.0000000  0.000000  0.000000  0.000000  0.000000  0.000000  0.000000\n",
       " [6,]  0.0000000  0.000000  0.000000  0.000000  0.000000  0.000000  0.000000\n",
       " [7,]  0.0000000  0.000000  0.000000  0.000000  0.000000  0.000000  0.000000\n",
       " [8,]  0.0000000  0.000000  0.000000  0.000000  0.000000  0.000000  0.000000\n",
       " [9,]  0.0000000  0.000000  0.000000  0.000000  0.000000  0.000000  0.000000\n",
       "[10,]  0.0000000  0.000000  0.000000  0.000000  0.000000  0.000000  0.000000\n",
       "      [,8]       [,9]       [,10]       [,11] [,12]     [,13]      [,14]     \n",
       " [1,] -1.1231846 -1.7460610  0.05713496 ⋯     -0.367454  0.3206293 -0.7337501\n",
       " [2,] -1.1733684 -1.0656631 -0.82301760 ⋯     -1.124375 -0.3300143 -1.4273987\n",
       " [3,] -0.5927481 -0.9460849 -0.85713774 ⋯     -1.538102 -1.2975310 -1.6427482\n",
       " [4,]  0.0000000  0.0000000  0.00000000 ⋯      0.000000  0.0000000  0.0000000\n",
       " [5,]  0.0000000  0.0000000  0.00000000 ⋯      0.000000  0.0000000  0.0000000\n",
       " [6,]  0.0000000  0.0000000  0.00000000 ⋯      0.000000  0.0000000  0.0000000\n",
       " [7,]  0.0000000  0.0000000  0.00000000 ⋯      0.000000  0.0000000  0.0000000\n",
       " [8,]  0.0000000  0.0000000  0.00000000 ⋯      0.000000  0.0000000  0.0000000\n",
       " [9,]  0.0000000  0.0000000  0.00000000 ⋯      0.000000  0.0000000  0.0000000\n",
       "[10,]  0.0000000  0.0000000  0.00000000 ⋯      0.000000  0.0000000  0.0000000\n",
       "      [,15]     [,16]     [,17]     [,18]      [,19]     [,20]     [,21]    \n",
       " [1,] -1.851896 -1.568523 -1.491380 -0.5885602 -1.702363 -1.899278 -1.427510\n",
       " [2,] -1.586105 -1.491761 -1.460687 -1.2298112 -1.802993 -1.660954 -1.400010\n",
       " [3,] -1.623795 -1.295605 -1.316737 -1.5905969 -1.558290 -1.649574 -1.262203\n",
       " [4,]  0.000000  0.000000  0.000000  0.0000000  0.000000  0.000000  0.000000\n",
       " [5,]  0.000000  0.000000  0.000000  0.0000000  0.000000  0.000000  0.000000\n",
       " [6,]  0.000000  0.000000  0.000000  0.0000000  0.000000  0.000000  0.000000\n",
       " [7,]  0.000000  0.000000  0.000000  0.0000000  0.000000  0.000000  0.000000\n",
       " [8,]  0.000000  0.000000  0.000000  0.0000000  0.000000  0.000000  0.000000\n",
       " [9,]  0.000000  0.000000  0.000000  0.0000000  0.000000  0.000000  0.000000\n",
       "[10,]  0.000000  0.000000  0.000000  0.0000000  0.000000  0.000000  0.000000"
      ]
     },
     "metadata": {},
     "output_type": "display_data"
    }
   ],
   "source": [
    "fitted$lbf_variable"
   ]
  },
  {
   "cell_type": "markdown",
   "id": "35d31080-0a12-4054-8842-6612668dce68",
   "metadata": {},
   "source": [
    "## Step 2: BF to PIP"
   ]
  },
  {
   "cell_type": "code",
   "execution_count": 32,
   "id": "25a08cad-0bdd-4b4e-a034-8083f6204a2c",
   "metadata": {
    "tags": []
   },
   "outputs": [],
   "source": [
    "lbf_to_alpha_vector = function(lbf, prior_weights = NULL) {\n",
    "  if (is.null(prior_weights)) prior_weights = 1/length(lbf)\n",
    "  maxlbf = max(lbf)\n",
    "  # w is proportional to BF, but subtract max for numerical stability.\n",
    "  w = exp(lbf - maxlbf)\n",
    "  # Posterior prob for each SNP.\n",
    "  w_weighted = w * prior_weights\n",
    "  weighted_sum_w = sum(w_weighted)\n",
    "  alpha = w_weighted / weighted_sum_w\n",
    "  return(alpha)\n",
    "}\n",
    "\n",
    "lbf_to_alpha = function(lbf) t(apply(lbf, 1, lbf_to_alpha_vector))\n",
    "\n",
    "lbf_to_pip = function(lbf) {\n",
    "    alpha = lbf_to_alpha(lbf)\n",
    "    return(as.vector(1 - apply(1 - alpha,2,prod)))\n",
    "}"
   ]
  },
  {
   "cell_type": "code",
   "execution_count": 33,
   "id": "f96c5a9e-61de-4295-b22e-99518ca1082c",
   "metadata": {
    "tags": []
   },
   "outputs": [],
   "source": [
    "alpha = lbf_to_alpha(fitted$lbf_variable)\n",
    "pip = lbf_to_pip(fitted$lbf_variable)"
   ]
  },
  {
   "cell_type": "code",
   "execution_count": 34,
   "id": "e8bba053-718f-4543-8013-b6fb5676e788",
   "metadata": {
    "tags": []
   },
   "outputs": [
    {
     "data": {
      "text/plain": [
       "   Min. 1st Qu.  Median    Mean 3rd Qu.    Max. \n",
       "      0       0       0       0       0       0 "
      ]
     },
     "metadata": {},
     "output_type": "display_data"
    }
   ],
   "source": [
    "summary(as.vector(alpha - fitted$alpha))"
   ]
  },
  {
   "cell_type": "code",
   "execution_count": 35,
   "id": "d1a3d080-1c56-4f88-950a-3bd5c8dc7991",
   "metadata": {
    "tags": []
   },
   "outputs": [
    {
     "data": {
      "image/png": "[encoded data removed]",
      "text/plain": [
       "plot without title"
      ]
     },
     "metadata": {
      "image/png": {
       "height": 420,
       "width": 420
      }
     },
     "output_type": "display_data"
    }
   ],
   "source": [
    "plot(pip, fitted$pip)"
   ]
  },
  {
   "cell_type": "code",
   "execution_count": 36,
   "id": "be750567-99a1-43d7-aa65-390bf7bb4d9b",
   "metadata": {
    "tags": []
   },
   "outputs": [],
   "source": [
    "d = list(alpha=1)"
   ]
  },
  {
   "cell_type": "code",
   "execution_count": 38,
   "id": "10a04c79-cc73-4ffc-9721-9c103df133b1",
   "metadata": {
    "tags": []
   },
   "outputs": [],
   "source": [
    "class(d) = 'haochen'"
   ]
  },
  {
   "cell_type": "code",
   "execution_count": 39,
   "id": "f430e39f-14bd-48b5-89db-8bb121b1d3d8",
   "metadata": {
    "tags": []
   },
   "outputs": [
    {
     "data": {
      "text/html": [
       "'haochen'"
      ],
      "text/latex": [
       "'haochen'"
      ],
      "text/markdown": [
       "'haochen'"
      ],
      "text/plain": [
       "[1] \"haochen\""
      ]
     },
     "metadata": {},
     "output_type": "display_data"
    }
   ],
   "source": [
    "class(d)"
   ]
  },
  {
   "cell_type": "markdown",
   "id": "a9bb85da-c507-46ef-bc54-a2125170e8f6",
   "metadata": {
    "tags": []
   },
   "source": [
    "# Get effect size"
   ]
  },
  {
   "cell_type": "code",
   "execution_count": 26,
   "id": "a8a0bd7b-1707-4a88-b75a-6c8737aa4ea3",
   "metadata": {
    "tags": []
   },
   "outputs": [],
   "source": [
    "b_orig = coef(fitted)"
   ]
  },
  {
   "cell_type": "code",
   "execution_count": 28,
   "id": "0ba27124-3884-406a-9e00-398965a6f7ec",
   "metadata": {
    "tags": []
   },
   "outputs": [
    {
     "data": {
      "text/html": [
       "<dl>\n",
       "\t<dt>$vars</dt>\n",
       "\t\t<dd><table class=\"dataframe\">\n",
       "<caption>A data.frame: 1001 × 3</caption>\n",
       "<thead>\n",
       "\t<tr><th></th><th scope=col>variable</th><th scope=col>variable_prob</th><th scope=col>cs</th></tr>\n",
       "\t<tr><th></th><th scope=col>&lt;dbl&gt;</th><th scope=col>&lt;dbl&gt;</th><th scope=col>&lt;dbl&gt;</th></tr>\n",
       "</thead>\n",
       "<tbody>\n",
       "\t<tr><th scope=row>653</th><td>653</td><td>0.999823561</td><td>2</td></tr>\n",
       "\t<tr><th scope=row>773</th><td>773</td><td>0.604444238</td><td>1</td></tr>\n",
       "\t<tr><th scope=row>777</th><td>777</td><td>0.394441679</td><td>1</td></tr>\n",
       "\t<tr><th scope=row>381</th><td>381</td><td>0.100360243</td><td>3</td></tr>\n",
       "\t<tr><th scope=row>386</th><td>386</td><td>0.100360243</td><td>3</td></tr>\n",
       "\t<tr><th scope=row>396</th><td>396</td><td>0.056704331</td><td>3</td></tr>\n",
       "\t<tr><th scope=row>391</th><td>391</td><td>0.055952118</td><td>3</td></tr>\n",
       "\t<tr><th scope=row>379</th><td>379</td><td>0.054179507</td><td>3</td></tr>\n",
       "\t<tr><th scope=row>383</th><td>383</td><td>0.052896918</td><td>3</td></tr>\n",
       "\t<tr><th scope=row>384</th><td>384</td><td>0.052896918</td><td>3</td></tr>\n",
       "\t<tr><th scope=row>405</th><td>405</td><td>0.045761975</td><td>3</td></tr>\n",
       "\t<tr><th scope=row>389</th><td>389</td><td>0.042161265</td><td>3</td></tr>\n",
       "\t<tr><th scope=row>408</th><td>408</td><td>0.041551961</td><td>3</td></tr>\n",
       "\t<tr><th scope=row>387</th><td>387</td><td>0.041041505</td><td>3</td></tr>\n",
       "\t<tr><th scope=row>388</th><td>388</td><td>0.039650079</td><td>3</td></tr>\n",
       "\t<tr><th scope=row>404</th><td>404</td><td>0.032013339</td><td>3</td></tr>\n",
       "\t<tr><th scope=row>403</th><td>403</td><td>0.031992848</td><td>3</td></tr>\n",
       "\t<tr><th scope=row>374</th><td>374</td><td>0.030571484</td><td>3</td></tr>\n",
       "\t<tr><th scope=row>399</th><td>399</td><td>0.026454056</td><td>3</td></tr>\n",
       "\t<tr><th scope=row>373</th><td>373</td><td>0.023577221</td><td>3</td></tr>\n",
       "\t<tr><th scope=row>400</th><td>400</td><td>0.021659443</td><td>3</td></tr>\n",
       "\t<tr><th scope=row>392</th><td>392</td><td>0.019741011</td><td>3</td></tr>\n",
       "\t<tr><th scope=row>401</th><td>401</td><td>0.014858460</td><td>3</td></tr>\n",
       "\t<tr><th scope=row>407</th><td>407</td><td>0.014699313</td><td>3</td></tr>\n",
       "\t<tr><th scope=row>398</th><td>398</td><td>0.012907848</td><td>3</td></tr>\n",
       "\t<tr><th scope=row>362</th><td>362</td><td>0.012145481</td><td>3</td></tr>\n",
       "\t<tr><th scope=row>415</th><td>415</td><td>0.009003129</td><td>3</td></tr>\n",
       "\t<tr><th scope=row>397</th><td>397</td><td>0.008690915</td><td>3</td></tr>\n",
       "\t<tr><th scope=row>365</th><td>365</td><td>0.006263425</td><td>3</td></tr>\n",
       "\t<tr><th scope=row>372</th><td>372</td><td>0.005886458</td><td>3</td></tr>\n",
       "\t<tr><th scope=row>⋮</th><td>⋮</td><td>⋮</td><td>⋮</td></tr>\n",
       "\t<tr><th scope=row>478</th><td>478</td><td>8.272757e-08</td><td>-1</td></tr>\n",
       "\t<tr><th scope=row>89</th><td> 89</td><td>8.271502e-08</td><td>-1</td></tr>\n",
       "\t<tr><th scope=row>35</th><td> 35</td><td>8.265401e-08</td><td>-1</td></tr>\n",
       "\t<tr><th scope=row>880</th><td>880</td><td>8.259527e-08</td><td>-1</td></tr>\n",
       "\t<tr><th scope=row>117</th><td>117</td><td>8.253138e-08</td><td>-1</td></tr>\n",
       "\t<tr><th scope=row>935</th><td>935</td><td>8.251051e-08</td><td>-1</td></tr>\n",
       "\t<tr><th scope=row>84</th><td> 84</td><td>8.246942e-08</td><td>-1</td></tr>\n",
       "\t<tr><th scope=row>948</th><td>948</td><td>8.241779e-08</td><td>-1</td></tr>\n",
       "\t<tr><th scope=row>865</th><td>865</td><td>8.240778e-08</td><td>-1</td></tr>\n",
       "\t<tr><th scope=row>866</th><td>866</td><td>8.240778e-08</td><td>-1</td></tr>\n",
       "\t<tr><th scope=row>98</th><td> 98</td><td>8.229550e-08</td><td>-1</td></tr>\n",
       "\t<tr><th scope=row>167</th><td>167</td><td>8.222067e-08</td><td>-1</td></tr>\n",
       "\t<tr><th scope=row>148</th><td>148</td><td>8.221530e-08</td><td>-1</td></tr>\n",
       "\t<tr><th scope=row>519</th><td>519</td><td>8.197915e-08</td><td>-1</td></tr>\n",
       "\t<tr><th scope=row>944</th><td>944</td><td>8.179461e-08</td><td>-1</td></tr>\n",
       "\t<tr><th scope=row>873</th><td>873</td><td>8.176420e-08</td><td>-1</td></tr>\n",
       "\t<tr><th scope=row>118</th><td>118</td><td>8.171145e-08</td><td>-1</td></tr>\n",
       "\t<tr><th scope=row>47</th><td> 47</td><td>8.164097e-08</td><td>-1</td></tr>\n",
       "\t<tr><th scope=row>53</th><td> 53</td><td>8.157900e-08</td><td>-1</td></tr>\n",
       "\t<tr><th scope=row>241</th><td>241</td><td>8.157441e-08</td><td>-1</td></tr>\n",
       "\t<tr><th scope=row>467</th><td>467</td><td>8.156660e-08</td><td>-1</td></tr>\n",
       "\t<tr><th scope=row>69</th><td> 69</td><td>8.155970e-08</td><td>-1</td></tr>\n",
       "\t<tr><th scope=row>959</th><td>959</td><td>8.142732e-08</td><td>-1</td></tr>\n",
       "\t<tr><th scope=row>770</th><td>770</td><td>8.139912e-08</td><td>-1</td></tr>\n",
       "\t<tr><th scope=row>882</th><td>882</td><td>8.135400e-08</td><td>-1</td></tr>\n",
       "\t<tr><th scope=row>516</th><td>516</td><td>8.132537e-08</td><td>-1</td></tr>\n",
       "\t<tr><th scope=row>94</th><td> 94</td><td>8.125518e-08</td><td>-1</td></tr>\n",
       "\t<tr><th scope=row>546</th><td>546</td><td>8.122824e-08</td><td>-1</td></tr>\n",
       "\t<tr><th scope=row>327</th><td>327</td><td>8.093573e-08</td><td>-1</td></tr>\n",
       "\t<tr><th scope=row>207</th><td>207</td><td>8.092387e-08</td><td>-1</td></tr>\n",
       "</tbody>\n",
       "</table>\n",
       "</dd>\n",
       "\t<dt>$cs</dt>\n",
       "\t\t<dd><table class=\"dataframe\">\n",
       "<caption>A data.frame: 3 × 5</caption>\n",
       "<thead>\n",
       "\t<tr><th scope=col>cs</th><th scope=col>cs_log10bf</th><th scope=col>cs_avg_r2</th><th scope=col>cs_min_r2</th><th scope=col>variable</th></tr>\n",
       "\t<tr><th scope=col>&lt;int&gt;</th><th scope=col>&lt;dbl&gt;</th><th scope=col>&lt;dbl&gt;</th><th scope=col>&lt;dbl&gt;</th><th scope=col>&lt;chr&gt;</th></tr>\n",
       "</thead>\n",
       "<tbody>\n",
       "\t<tr><td>2</td><td>4.033879</td><td>1.0000000</td><td>1.0000000</td><td>653                                                                                                        </td></tr>\n",
       "\t<tr><td>1</td><td>6.744085</td><td>0.9634847</td><td>0.9634847</td><td>773,777                                                                                                    </td></tr>\n",
       "\t<tr><td>3</td><td>3.461470</td><td>0.9293299</td><td>0.7545197</td><td>362,365,372,373,374,379,381,383,384,386,387,388,389,391,392,396,397,398,399,400,401,403,404,405,407,408,415</td></tr>\n",
       "</tbody>\n",
       "</table>\n",
       "</dd>\n",
       "</dl>\n"
      ],
      "text/latex": [
       "\\begin{description}\n",
       "\\item[\\$vars] A data.frame: 1001 × 3\n",
       "\\begin{tabular}{r|lll}\n",
       "  & variable & variable\\_prob & cs\\\\\n",
       "  & <dbl> & <dbl> & <dbl>\\\\\n",
       "\\hline\n",
       "\t653 & 653 & 0.999823561 & 2\\\\\n",
       "\t773 & 773 & 0.604444238 & 1\\\\\n",
       "\t777 & 777 & 0.394441679 & 1\\\\\n",
       "\t381 & 381 & 0.100360243 & 3\\\\\n",
       "\t386 & 386 & 0.100360243 & 3\\\\\n",
       "\t396 & 396 & 0.056704331 & 3\\\\\n",
       "\t391 & 391 & 0.055952118 & 3\\\\\n",
       "\t379 & 379 & 0.054179507 & 3\\\\\n",
       "\t383 & 383 & 0.052896918 & 3\\\\\n",
       "\t384 & 384 & 0.052896918 & 3\\\\\n",
       "\t405 & 405 & 0.045761975 & 3\\\\\n",
       "\t389 & 389 & 0.042161265 & 3\\\\\n",
       "\t408 & 408 & 0.041551961 & 3\\\\\n",
       "\t387 & 387 & 0.041041505 & 3\\\\\n",
       "\t388 & 388 & 0.039650079 & 3\\\\\n",
       "\t404 & 404 & 0.032013339 & 3\\\\\n",
       "\t403 & 403 & 0.031992848 & 3\\\\\n",
       "\t374 & 374 & 0.030571484 & 3\\\\\n",
       "\t399 & 399 & 0.026454056 & 3\\\\\n",
       "\t373 & 373 & 0.023577221 & 3\\\\\n",
       "\t400 & 400 & 0.021659443 & 3\\\\\n",
       "\t392 & 392 & 0.019741011 & 3\\\\\n",
       "\t401 & 401 & 0.014858460 & 3\\\\\n",
       "\t407 & 407 & 0.014699313 & 3\\\\\n",
       "\t398 & 398 & 0.012907848 & 3\\\\\n",
       "\t362 & 362 & 0.012145481 & 3\\\\\n",
       "\t415 & 415 & 0.009003129 & 3\\\\\n",
       "\t397 & 397 & 0.008690915 & 3\\\\\n",
       "\t365 & 365 & 0.006263425 & 3\\\\\n",
       "\t372 & 372 & 0.005886458 & 3\\\\\n",
       "\t⋮ & ⋮ & ⋮ & ⋮\\\\\n",
       "\t478 & 478 & 8.272757e-08 & -1\\\\\n",
       "\t89 &  89 & 8.271502e-08 & -1\\\\\n",
       "\t35 &  35 & 8.265401e-08 & -1\\\\\n",
       "\t880 & 880 & 8.259527e-08 & -1\\\\\n",
       "\t117 & 117 & 8.253138e-08 & -1\\\\\n",
       "\t935 & 935 & 8.251051e-08 & -1\\\\\n",
       "\t84 &  84 & 8.246942e-08 & -1\\\\\n",
       "\t948 & 948 & 8.241779e-08 & -1\\\\\n",
       "\t865 & 865 & 8.240778e-08 & -1\\\\\n",
       "\t866 & 866 & 8.240778e-08 & -1\\\\\n",
       "\t98 &  98 & 8.229550e-08 & -1\\\\\n",
       "\t167 & 167 & 8.222067e-08 & -1\\\\\n",
       "\t148 & 148 & 8.221530e-08 & -1\\\\\n",
       "\t519 & 519 & 8.197915e-08 & -1\\\\\n",
       "\t944 & 944 & 8.179461e-08 & -1\\\\\n",
       "\t873 & 873 & 8.176420e-08 & -1\\\\\n",
       "\t118 & 118 & 8.171145e-08 & -1\\\\\n",
       "\t47 &  47 & 8.164097e-08 & -1\\\\\n",
       "\t53 &  53 & 8.157900e-08 & -1\\\\\n",
       "\t241 & 241 & 8.157441e-08 & -1\\\\\n",
       "\t467 & 467 & 8.156660e-08 & -1\\\\\n",
       "\t69 &  69 & 8.155970e-08 & -1\\\\\n",
       "\t959 & 959 & 8.142732e-08 & -1\\\\\n",
       "\t770 & 770 & 8.139912e-08 & -1\\\\\n",
       "\t882 & 882 & 8.135400e-08 & -1\\\\\n",
       "\t516 & 516 & 8.132537e-08 & -1\\\\\n",
       "\t94 &  94 & 8.125518e-08 & -1\\\\\n",
       "\t546 & 546 & 8.122824e-08 & -1\\\\\n",
       "\t327 & 327 & 8.093573e-08 & -1\\\\\n",
       "\t207 & 207 & 8.092387e-08 & -1\\\\\n",
       "\\end{tabular}\n",
       "\n",
       "\\item[\\$cs] A data.frame: 3 × 5\n",
       "\\begin{tabular}{lllll}\n",
       " cs & cs\\_log10bf & cs\\_avg\\_r2 & cs\\_min\\_r2 & variable\\\\\n",
       " <int> & <dbl> & <dbl> & <dbl> & <chr>\\\\\n",
       "\\hline\n",
       "\t 2 & 4.033879 & 1.0000000 & 1.0000000 & 653                                                                                                        \\\\\n",
       "\t 1 & 6.744085 & 0.9634847 & 0.9634847 & 773,777                                                                                                    \\\\\n",
       "\t 3 & 3.461470 & 0.9293299 & 0.7545197 & 362,365,372,373,374,379,381,383,384,386,387,388,389,391,392,396,397,398,399,400,401,403,404,405,407,408,415\\\\\n",
       "\\end{tabular}\n",
       "\n",
       "\\end{description}\n"
      ],
      "text/markdown": [
       "$vars\n",
       ":   \n",
       "A data.frame: 1001 × 3\n",
       "\n",
       "| <!--/--> | variable &lt;dbl&gt; | variable_prob &lt;dbl&gt; | cs &lt;dbl&gt; |\n",
       "|---|---|---|---|\n",
       "| 653 | 653 | 0.999823561 | 2 |\n",
       "| 773 | 773 | 0.604444238 | 1 |\n",
       "| 777 | 777 | 0.394441679 | 1 |\n",
       "| 381 | 381 | 0.100360243 | 3 |\n",
       "| 386 | 386 | 0.100360243 | 3 |\n",
       "| 396 | 396 | 0.056704331 | 3 |\n",
       "| 391 | 391 | 0.055952118 | 3 |\n",
       "| 379 | 379 | 0.054179507 | 3 |\n",
       "| 383 | 383 | 0.052896918 | 3 |\n",
       "| 384 | 384 | 0.052896918 | 3 |\n",
       "| 405 | 405 | 0.045761975 | 3 |\n",
       "| 389 | 389 | 0.042161265 | 3 |\n",
       "| 408 | 408 | 0.041551961 | 3 |\n",
       "| 387 | 387 | 0.041041505 | 3 |\n",
       "| 388 | 388 | 0.039650079 | 3 |\n",
       "| 404 | 404 | 0.032013339 | 3 |\n",
       "| 403 | 403 | 0.031992848 | 3 |\n",
       "| 374 | 374 | 0.030571484 | 3 |\n",
       "| 399 | 399 | 0.026454056 | 3 |\n",
       "| 373 | 373 | 0.023577221 | 3 |\n",
       "| 400 | 400 | 0.021659443 | 3 |\n",
       "| 392 | 392 | 0.019741011 | 3 |\n",
       "| 401 | 401 | 0.014858460 | 3 |\n",
       "| 407 | 407 | 0.014699313 | 3 |\n",
       "| 398 | 398 | 0.012907848 | 3 |\n",
       "| 362 | 362 | 0.012145481 | 3 |\n",
       "| 415 | 415 | 0.009003129 | 3 |\n",
       "| 397 | 397 | 0.008690915 | 3 |\n",
       "| 365 | 365 | 0.006263425 | 3 |\n",
       "| 372 | 372 | 0.005886458 | 3 |\n",
       "| ⋮ | ⋮ | ⋮ | ⋮ |\n",
       "| 478 | 478 | 8.272757e-08 | -1 |\n",
       "| 89 |  89 | 8.271502e-08 | -1 |\n",
       "| 35 |  35 | 8.265401e-08 | -1 |\n",
       "| 880 | 880 | 8.259527e-08 | -1 |\n",
       "| 117 | 117 | 8.253138e-08 | -1 |\n",
       "| 935 | 935 | 8.251051e-08 | -1 |\n",
       "| 84 |  84 | 8.246942e-08 | -1 |\n",
       "| 948 | 948 | 8.241779e-08 | -1 |\n",
       "| 865 | 865 | 8.240778e-08 | -1 |\n",
       "| 866 | 866 | 8.240778e-08 | -1 |\n",
       "| 98 |  98 | 8.229550e-08 | -1 |\n",
       "| 167 | 167 | 8.222067e-08 | -1 |\n",
       "| 148 | 148 | 8.221530e-08 | -1 |\n",
       "| 519 | 519 | 8.197915e-08 | -1 |\n",
       "| 944 | 944 | 8.179461e-08 | -1 |\n",
       "| 873 | 873 | 8.176420e-08 | -1 |\n",
       "| 118 | 118 | 8.171145e-08 | -1 |\n",
       "| 47 |  47 | 8.164097e-08 | -1 |\n",
       "| 53 |  53 | 8.157900e-08 | -1 |\n",
       "| 241 | 241 | 8.157441e-08 | -1 |\n",
       "| 467 | 467 | 8.156660e-08 | -1 |\n",
       "| 69 |  69 | 8.155970e-08 | -1 |\n",
       "| 959 | 959 | 8.142732e-08 | -1 |\n",
       "| 770 | 770 | 8.139912e-08 | -1 |\n",
       "| 882 | 882 | 8.135400e-08 | -1 |\n",
       "| 516 | 516 | 8.132537e-08 | -1 |\n",
       "| 94 |  94 | 8.125518e-08 | -1 |\n",
       "| 546 | 546 | 8.122824e-08 | -1 |\n",
       "| 327 | 327 | 8.093573e-08 | -1 |\n",
       "| 207 | 207 | 8.092387e-08 | -1 |\n",
       "\n",
       "\n",
       "$cs\n",
       ":   \n",
       "A data.frame: 3 × 5\n",
       "\n",
       "| cs &lt;int&gt; | cs_log10bf &lt;dbl&gt; | cs_avg_r2 &lt;dbl&gt; | cs_min_r2 &lt;dbl&gt; | variable &lt;chr&gt; |\n",
       "|---|---|---|---|---|\n",
       "| 2 | 4.033879 | 1.0000000 | 1.0000000 | 653                                                                                                         |\n",
       "| 1 | 6.744085 | 0.9634847 | 0.9634847 | 773,777                                                                                                     |\n",
       "| 3 | 3.461470 | 0.9293299 | 0.7545197 | 362,365,372,373,374,379,381,383,384,386,387,388,389,391,392,396,397,398,399,400,401,403,404,405,407,408,415 |\n",
       "\n",
       "\n",
       "\n",
       "\n"
      ],
      "text/plain": [
       "\n",
       "Variables in credible sets:\n",
       "\n",
       " variable variable_prob cs\n",
       "      653   0.999823561  2\n",
       "      773   0.604444238  1\n",
       "      777   0.394441679  1\n",
       "      381   0.100360243  3\n",
       "      386   0.100360243  3\n",
       "      396   0.056704331  3\n",
       "      391   0.055952118  3\n",
       "      379   0.054179507  3\n",
       "      383   0.052896918  3\n",
       "      384   0.052896918  3\n",
       "      405   0.045761975  3\n",
       "      389   0.042161265  3\n",
       "      408   0.041551961  3\n",
       "      387   0.041041505  3\n",
       "      388   0.039650079  3\n",
       "      404   0.032013339  3\n",
       "      403   0.031992848  3\n",
       "      374   0.030571484  3\n",
       "      399   0.026454056  3\n",
       "      373   0.023577221  3\n",
       "      400   0.021659443  3\n",
       "      392   0.019741011  3\n",
       "      401   0.014858460  3\n",
       "      407   0.014699313  3\n",
       "      398   0.012907848  3\n",
       "      362   0.012145481  3\n",
       "      415   0.009003129  3\n",
       "      397   0.008690915  3\n",
       "      365   0.006263425  3\n",
       "      372   0.005886458  3\n",
       "\n",
       "Credible sets summary:\n",
       "\n",
       " cs cs_log10bf cs_avg_r2 cs_min_r2\n",
       "  2   4.033879 1.0000000 1.0000000\n",
       "  1   6.744085 0.9634847 0.9634847\n",
       "  3   3.461470 0.9293299 0.7545197\n",
       "                                                                                                    variable\n",
       "                                                                                                         653\n",
       "                                                                                                     773,777\n",
       " 362,365,372,373,374,379,381,383,384,386,387,388,389,391,392,396,397,398,399,400,401,403,404,405,407,408,415"
      ]
     },
     "metadata": {},
     "output_type": "display_data"
    }
   ],
   "source": [
    "summary(fitted)"
   ]
  },
  {
   "cell_type": "code",
   "execution_count": 1,
   "id": "0f29a76b-e050-42a9-a051-98753051b806",
   "metadata": {},
   "outputs": [],
   "source": [
    "lbf = c()"
   ]
  },
  {
   "cell_type": "code",
   "execution_count": 2,
   "id": "624888d9-d071-45b6-b280-06b36f75f66a",
   "metadata": {
    "tags": []
   },
   "outputs": [
    {
     "name": "stderr",
     "output_type": "stream",
     "text": [
      "Warning message in lbf[1] = c(1, 2, 3):\n",
      "“number of items to replace is not a multiple of replacement length”\n"
     ]
    }
   ],
   "source": [
    "lbf[1] = c(1,2,3)"
   ]
  }
 ],
 "metadata": {
  "kernelspec": {
   "display_name": "R",
   "language": "R",
   "name": "ir"
  },
  "language_info": {
   "codemirror_mode": "r",
   "file_extension": ".r",
   "mimetype": "text/x-r-source",
   "name": "R",
   "pygments_lexer": "r",
   "version": "4.2.2"
  }
 },
 "nbformat": 4,
 "nbformat_minor": 5
}
