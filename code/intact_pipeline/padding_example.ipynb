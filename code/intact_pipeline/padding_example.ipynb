{
 "cells": [
  {
   "cell_type": "markdown",
   "id": "4a4c4812-20d0-410e-9cb9-59613d78c70e",
   "metadata": {},
   "source": [
    "# This is a example to test if our padding algorithm works\n",
    "\n",
    "## Overview: \n",
    "\n",
    "Padding is to solve the problem that the finemapping regions between GWAS and xqtl are not the same. For GWAS the finemapping regions are usually LD blocks, but for xqtl it's designed to be on TAD/TADB/cis window/ extended cis window etc. Here based on the nature that LD blocks is considered as independent from each other, we can paste the result (lbf matrix) multiple LD blocks to match the region of our xqtl finemapping. For those columns that are not shared between qtl and GWAS data, we will remove these columns.\n",
    "\n",
    "To paste out a new large matrix for GWAS lbf, our strategy is: if pasting involves 2 LD blocks for example, we will fill up the left upper part with lbf matrix from LD1, then the lower right part with lbf matrix from LD2, the rest of them we will fill up with 0. \n",
    "\n",
    "Then after we cook up the new lbf matrices both for qtl and GWAS, we need to re-compute the alpha matrix and PIP. For eqtl credible sets may require do finemapping again. for now we choose a simple strategy: just remove the variant in any credible sets if they are not shared by the two(or more) datasets.\n",
    "\n",
    "## Input 1: GWAS finemapping result folder\n",
    "\n",
    "Here I used our ADHD GWAS finemapping result: `/home/hs3393/ADHD/ADHD_finemap`\n",
    "\n",
    "## Input 2: qtl finemapping result \n",
    "\n",
    "Better use `ls /mnt/vast/hpc/csg/molecular_phenotype_calling/eqtl/output/susie_per_gene_tad/cache/*rds` as input, so that we can create job number = gene number.\n",
    "\n",
    "This is the eqtl finemapping result by Hao on AD."
   ]
  },
  {
   "cell_type": "markdown",
   "id": "3d4fe317-2d01-4d90-bb96-8c7b814e0bf9",
   "metadata": {
    "tags": []
   },
   "source": [
    "## Step details:"
   ]
  },
  {
   "cell_type": "code",
   "execution_count": 1,
   "id": "97636316-e12f-49dc-abf4-c28fa3461e29",
   "metadata": {
    "tags": []
   },
   "outputs": [
    {
     "name": "stderr",
     "output_type": "stream",
     "text": [
      "── \u001b[1mAttaching core tidyverse packages\u001b[22m ──────────────────────── tidyverse 2.0.0 ──\n",
      "\u001b[32m✔\u001b[39m \u001b[34mdplyr    \u001b[39m 1.1.2     \u001b[32m✔\u001b[39m \u001b[34mreadr    \u001b[39m 2.1.4\n",
      "\u001b[32m✔\u001b[39m \u001b[34mforcats  \u001b[39m 1.0.0     \u001b[32m✔\u001b[39m \u001b[34mstringr  \u001b[39m 1.5.0\n",
      "\u001b[32m✔\u001b[39m \u001b[34mggplot2  \u001b[39m 3.4.3     \u001b[32m✔\u001b[39m \u001b[34mtibble   \u001b[39m 3.2.1\n",
      "\u001b[32m✔\u001b[39m \u001b[34mlubridate\u001b[39m 1.9.2     \u001b[32m✔\u001b[39m \u001b[34mtidyr    \u001b[39m 1.3.0\n",
      "\u001b[32m✔\u001b[39m \u001b[34mpurrr    \u001b[39m 1.0.1     \n",
      "── \u001b[1mConflicts\u001b[22m ────────────────────────────────────────── tidyverse_conflicts() ──\n",
      "\u001b[31m✖\u001b[39m \u001b[34mdplyr\u001b[39m::\u001b[32mfilter()\u001b[39m masks \u001b[34mstats\u001b[39m::filter()\n",
      "\u001b[31m✖\u001b[39m \u001b[34mdplyr\u001b[39m::\u001b[32mlag()\u001b[39m    masks \u001b[34mstats\u001b[39m::lag()\n",
      "\u001b[36mℹ\u001b[39m Use the conflicted package (\u001b[3m\u001b[34m<http://conflicted.r-lib.org/>\u001b[39m\u001b[23m) to force all conflicts to become errors\n"
     ]
    }
   ],
   "source": [
    "library(tidyverse)"
   ]
  },
  {
   "cell_type": "code",
   "execution_count": 2,
   "id": "bf7cbec8-d233-4fc5-a691-cf1da0487f1b",
   "metadata": {
    "tags": []
   },
   "outputs": [],
   "source": [
    "# read all GWAS finemapping result file name to extract the chr, start, end and corresponding file paths  \n",
    "\n",
    "gwas_finemap_result = list.files(\"~/ADHD/ADHD_finemap\", full.names=T, pattern = \"\\\\.rds$\")\n",
    "\n",
    "gwas_file_tb = tibble(file_path = gwas_finemap_result)\n",
    "\n",
    "# use regex to extract the start, end and chromosome of LD blocks from the file name\n",
    "match_pattern = function(filename){\n",
    "    pattern <- \"chr[0-9XY]+_(\\\\d+_\\\\d+)\"\n",
    "    result = regmatches(filename, regexpr(pattern, filename))\n",
    "    return(result)\n",
    "}\n",
    "  \n",
    "LD_block_position = gwas_file_tb %>% mutate(chr_pos = map(file_path, match_pattern)) %>% \n",
    "  separate(chr_pos, into = c(\"chr\", \"start\", \"end\")) %>% relocate(file_path, .after = end) %>%\n",
    "    mutate(start = as.numeric(start), end = as.numeric(end)) %>% arrange(chr, start)"
   ]
  },
  {
   "cell_type": "code",
   "execution_count": 3,
   "id": "53df1780-058a-461e-b7d0-e8b523775436",
   "metadata": {
    "tags": []
   },
   "outputs": [
    {
     "data": {
      "text/html": [
       "<table class=\"dataframe\">\n",
       "<caption>A tibble: 6 × 4</caption>\n",
       "<thead>\n",
       "\t<tr><th scope=col>chr</th><th scope=col>start</th><th scope=col>end</th><th scope=col>file_path</th></tr>\n",
       "\t<tr><th scope=col>&lt;chr&gt;</th><th scope=col>&lt;dbl&gt;</th><th scope=col>&lt;dbl&gt;</th><th scope=col>&lt;chr&gt;</th></tr>\n",
       "</thead>\n",
       "<tbody>\n",
       "\t<tr><td>chr1</td><td>  16103</td><td> 2888443</td><td>/home/hs3393/ADHD/ADHD_finemap/ADHD_sumstat_hg38_qc.chr1.chr1_16103_2888443.unisusie_rss.fit.rds   </td></tr>\n",
       "\t<tr><td>chr1</td><td>2888443</td><td> 4320284</td><td>/home/hs3393/ADHD/ADHD_finemap/ADHD_sumstat_hg38_qc.chr1.chr1_2888443_4320284.unisusie_rss.fit.rds </td></tr>\n",
       "\t<tr><td>chr1</td><td>4320284</td><td> 5853833</td><td>/home/hs3393/ADHD/ADHD_finemap/ADHD_sumstat_hg38_qc.chr1.chr1_4320284_5853833.unisusie_rss.fit.rds </td></tr>\n",
       "\t<tr><td>chr1</td><td>5853833</td><td> 7110219</td><td>/home/hs3393/ADHD/ADHD_finemap/ADHD_sumstat_hg38_qc.chr1.chr1_5853833_7110219.unisusie_rss.fit.rds </td></tr>\n",
       "\t<tr><td>chr1</td><td>7110219</td><td> 9473386</td><td>/home/hs3393/ADHD/ADHD_finemap/ADHD_sumstat_hg38_qc.chr1.chr1_7110219_9473386.unisusie_rss.fit.rds </td></tr>\n",
       "\t<tr><td>chr1</td><td>9473386</td><td>11328222</td><td>/home/hs3393/ADHD/ADHD_finemap/ADHD_sumstat_hg38_qc.chr1.chr1_9473386_11328222.unisusie_rss.fit.rds</td></tr>\n",
       "</tbody>\n",
       "</table>\n"
      ],
      "text/latex": [
       "A tibble: 6 × 4\n",
       "\\begin{tabular}{llll}\n",
       " chr & start & end & file\\_path\\\\\n",
       " <chr> & <dbl> & <dbl> & <chr>\\\\\n",
       "\\hline\n",
       "\t chr1 &   16103 &  2888443 & /home/hs3393/ADHD/ADHD\\_finemap/ADHD\\_sumstat\\_hg38\\_qc.chr1.chr1\\_16103\\_2888443.unisusie\\_rss.fit.rds   \\\\\n",
       "\t chr1 & 2888443 &  4320284 & /home/hs3393/ADHD/ADHD\\_finemap/ADHD\\_sumstat\\_hg38\\_qc.chr1.chr1\\_2888443\\_4320284.unisusie\\_rss.fit.rds \\\\\n",
       "\t chr1 & 4320284 &  5853833 & /home/hs3393/ADHD/ADHD\\_finemap/ADHD\\_sumstat\\_hg38\\_qc.chr1.chr1\\_4320284\\_5853833.unisusie\\_rss.fit.rds \\\\\n",
       "\t chr1 & 5853833 &  7110219 & /home/hs3393/ADHD/ADHD\\_finemap/ADHD\\_sumstat\\_hg38\\_qc.chr1.chr1\\_5853833\\_7110219.unisusie\\_rss.fit.rds \\\\\n",
       "\t chr1 & 7110219 &  9473386 & /home/hs3393/ADHD/ADHD\\_finemap/ADHD\\_sumstat\\_hg38\\_qc.chr1.chr1\\_7110219\\_9473386.unisusie\\_rss.fit.rds \\\\\n",
       "\t chr1 & 9473386 & 11328222 & /home/hs3393/ADHD/ADHD\\_finemap/ADHD\\_sumstat\\_hg38\\_qc.chr1.chr1\\_9473386\\_11328222.unisusie\\_rss.fit.rds\\\\\n",
       "\\end{tabular}\n"
      ],
      "text/markdown": [
       "\n",
       "A tibble: 6 × 4\n",
       "\n",
       "| chr &lt;chr&gt; | start &lt;dbl&gt; | end &lt;dbl&gt; | file_path &lt;chr&gt; |\n",
       "|---|---|---|---|\n",
       "| chr1 |   16103 |  2888443 | /home/hs3393/ADHD/ADHD_finemap/ADHD_sumstat_hg38_qc.chr1.chr1_16103_2888443.unisusie_rss.fit.rds    |\n",
       "| chr1 | 2888443 |  4320284 | /home/hs3393/ADHD/ADHD_finemap/ADHD_sumstat_hg38_qc.chr1.chr1_2888443_4320284.unisusie_rss.fit.rds  |\n",
       "| chr1 | 4320284 |  5853833 | /home/hs3393/ADHD/ADHD_finemap/ADHD_sumstat_hg38_qc.chr1.chr1_4320284_5853833.unisusie_rss.fit.rds  |\n",
       "| chr1 | 5853833 |  7110219 | /home/hs3393/ADHD/ADHD_finemap/ADHD_sumstat_hg38_qc.chr1.chr1_5853833_7110219.unisusie_rss.fit.rds  |\n",
       "| chr1 | 7110219 |  9473386 | /home/hs3393/ADHD/ADHD_finemap/ADHD_sumstat_hg38_qc.chr1.chr1_7110219_9473386.unisusie_rss.fit.rds  |\n",
       "| chr1 | 9473386 | 11328222 | /home/hs3393/ADHD/ADHD_finemap/ADHD_sumstat_hg38_qc.chr1.chr1_9473386_11328222.unisusie_rss.fit.rds |\n",
       "\n"
      ],
      "text/plain": [
       "  chr  start   end     \n",
       "1 chr1   16103  2888443\n",
       "2 chr1 2888443  4320284\n",
       "3 chr1 4320284  5853833\n",
       "4 chr1 5853833  7110219\n",
       "5 chr1 7110219  9473386\n",
       "6 chr1 9473386 11328222\n",
       "  file_path                                                                                          \n",
       "1 /home/hs3393/ADHD/ADHD_finemap/ADHD_sumstat_hg38_qc.chr1.chr1_16103_2888443.unisusie_rss.fit.rds   \n",
       "2 /home/hs3393/ADHD/ADHD_finemap/ADHD_sumstat_hg38_qc.chr1.chr1_2888443_4320284.unisusie_rss.fit.rds \n",
       "3 /home/hs3393/ADHD/ADHD_finemap/ADHD_sumstat_hg38_qc.chr1.chr1_4320284_5853833.unisusie_rss.fit.rds \n",
       "4 /home/hs3393/ADHD/ADHD_finemap/ADHD_sumstat_hg38_qc.chr1.chr1_5853833_7110219.unisusie_rss.fit.rds \n",
       "5 /home/hs3393/ADHD/ADHD_finemap/ADHD_sumstat_hg38_qc.chr1.chr1_7110219_9473386.unisusie_rss.fit.rds \n",
       "6 /home/hs3393/ADHD/ADHD_finemap/ADHD_sumstat_hg38_qc.chr1.chr1_9473386_11328222.unisusie_rss.fit.rds"
      ]
     },
     "metadata": {},
     "output_type": "display_data"
    }
   ],
   "source": [
    "head(LD_block_position)"
   ]
  },
  {
   "cell_type": "markdown",
   "id": "3ff71418-16a1-49a4-8e70-8e26f6838a69",
   "metadata": {},
   "source": [
    "# Part 2: input - qtl finemapping result files (rds format)"
   ]
  },
  {
   "cell_type": "code",
   "execution_count": 4,
   "id": "3ff16f0f-b0c0-443d-ade7-1dbfd20b64ec",
   "metadata": {
    "tags": []
   },
   "outputs": [],
   "source": [
    "qtl_list = list.files(\"/mnt/vast/hpc/csg/molecular_phenotype_calling/eqtl/output/susie_per_gene_tad/cache\", full.names=T, pattern = \"\\\\.rds$\")\n",
    "qtl_file = readRDS(qtl_list[100])"
   ]
  },
  {
   "cell_type": "code",
   "execution_count": 5,
   "id": "cb892843-a7ce-43f1-97b4-496924259a58",
   "metadata": {
    "tags": []
   },
   "outputs": [],
   "source": [
    "qtl_chr = regmatches(qtl_file$dlpfc_eqtl$variable_name[1], regexpr(\"(chr[0-9]+)\", qtl_file$dlpfc_eqtl$variable_name[1]))\n",
    "qtl_start  <- as.numeric(sub(\".*:(\\\\d+)_.*\", \"\\\\1\", qtl_file$dlpfc_eqtl$variable_name[1]))\n",
    "qtl_end  <- as.numeric(sub(\".*:(\\\\d+)_.*\", \"\\\\1\", qtl_file$dlpfc_eqtl$variable_name[length(qtl_file$dlpfc_eqtl$variable_name)]))"
   ]
  },
  {
   "cell_type": "code",
   "execution_count": 6,
   "id": "748b9f09-8b7b-4aef-9066-cab72e16df6d",
   "metadata": {
    "tags": []
   },
   "outputs": [
    {
     "data": {
      "text/html": [
       "'chr7'"
      ],
      "text/latex": [
       "'chr7'"
      ],
      "text/markdown": [
       "'chr7'"
      ],
      "text/plain": [
       "[1] \"chr7\""
      ]
     },
     "metadata": {},
     "output_type": "display_data"
    },
    {
     "data": {
      "text/html": [
       "76680351"
      ],
      "text/latex": [
       "76680351"
      ],
      "text/markdown": [
       "76680351"
      ],
      "text/plain": [
       "[1] 76680351"
      ]
     },
     "metadata": {},
     "output_type": "display_data"
    },
    {
     "data": {
      "text/html": [
       "80078654"
      ],
      "text/latex": [
       "80078654"
      ],
      "text/markdown": [
       "80078654"
      ],
      "text/plain": [
       "[1] 80078654"
      ]
     },
     "metadata": {},
     "output_type": "display_data"
    }
   ],
   "source": [
    "qtl_chr\n",
    "qtl_start \n",
    "qtl_end "
   ]
  },
  {
   "cell_type": "code",
   "execution_count": 8,
   "id": "49dba43c-eb5e-488e-a90c-2a3a61b9eee4",
   "metadata": {
    "tags": []
   },
   "outputs": [],
   "source": [
    "# retract related files in GWAS\n",
    "related_LD = LD_block_position %>% filter(chr == qtl_chr) %>% filter((start <= qtl_start & end >= qtl_start) |\n",
    "                                         (start >= qtl_start & end <= qtl_end) | \n",
    "                                         (start <= qtl_end & end >= qtl_end))"
   ]
  },
  {
   "cell_type": "code",
   "execution_count": 9,
   "id": "edcc9962-2266-4d46-a28f-d1a9f59cc162",
   "metadata": {
    "tags": []
   },
   "outputs": [
    {
     "data": {
      "text/html": [
       "<table class=\"dataframe\">\n",
       "<caption>A tibble: 3 × 4</caption>\n",
       "<thead>\n",
       "\t<tr><th scope=col>chr</th><th scope=col>start</th><th scope=col>end</th><th scope=col>file_path</th></tr>\n",
       "\t<tr><th scope=col>&lt;chr&gt;</th><th scope=col>&lt;dbl&gt;</th><th scope=col>&lt;dbl&gt;</th><th scope=col>&lt;chr&gt;</th></tr>\n",
       "</thead>\n",
       "<tbody>\n",
       "\t<tr><td>chr7</td><td>73724576</td><td>77106024</td><td>/home/hs3393/ADHD/ADHD_finemap/ADHD_sumstat_hg38_qc.chr7.chr7_73724576_77106024.unisusie_rss.fit.rds</td></tr>\n",
       "\t<tr><td>chr7</td><td>77106024</td><td>78547096</td><td>/home/hs3393/ADHD/ADHD_finemap/ADHD_sumstat_hg38_qc.chr7.chr7_77106024_78547096.unisusie_rss.fit.rds</td></tr>\n",
       "\t<tr><td>chr7</td><td>78547096</td><td>80918333</td><td>/home/hs3393/ADHD/ADHD_finemap/ADHD_sumstat_hg38_qc.chr7.chr7_78547096_80918333.unisusie_rss.fit.rds</td></tr>\n",
       "</tbody>\n",
       "</table>\n"
      ],
      "text/latex": [
       "A tibble: 3 × 4\n",
       "\\begin{tabular}{llll}\n",
       " chr & start & end & file\\_path\\\\\n",
       " <chr> & <dbl> & <dbl> & <chr>\\\\\n",
       "\\hline\n",
       "\t chr7 & 73724576 & 77106024 & /home/hs3393/ADHD/ADHD\\_finemap/ADHD\\_sumstat\\_hg38\\_qc.chr7.chr7\\_73724576\\_77106024.unisusie\\_rss.fit.rds\\\\\n",
       "\t chr7 & 77106024 & 78547096 & /home/hs3393/ADHD/ADHD\\_finemap/ADHD\\_sumstat\\_hg38\\_qc.chr7.chr7\\_77106024\\_78547096.unisusie\\_rss.fit.rds\\\\\n",
       "\t chr7 & 78547096 & 80918333 & /home/hs3393/ADHD/ADHD\\_finemap/ADHD\\_sumstat\\_hg38\\_qc.chr7.chr7\\_78547096\\_80918333.unisusie\\_rss.fit.rds\\\\\n",
       "\\end{tabular}\n"
      ],
      "text/markdown": [
       "\n",
       "A tibble: 3 × 4\n",
       "\n",
       "| chr &lt;chr&gt; | start &lt;dbl&gt; | end &lt;dbl&gt; | file_path &lt;chr&gt; |\n",
       "|---|---|---|---|\n",
       "| chr7 | 73724576 | 77106024 | /home/hs3393/ADHD/ADHD_finemap/ADHD_sumstat_hg38_qc.chr7.chr7_73724576_77106024.unisusie_rss.fit.rds |\n",
       "| chr7 | 77106024 | 78547096 | /home/hs3393/ADHD/ADHD_finemap/ADHD_sumstat_hg38_qc.chr7.chr7_77106024_78547096.unisusie_rss.fit.rds |\n",
       "| chr7 | 78547096 | 80918333 | /home/hs3393/ADHD/ADHD_finemap/ADHD_sumstat_hg38_qc.chr7.chr7_78547096_80918333.unisusie_rss.fit.rds |\n",
       "\n"
      ],
      "text/plain": [
       "  chr  start    end     \n",
       "1 chr7 73724576 77106024\n",
       "2 chr7 77106024 78547096\n",
       "3 chr7 78547096 80918333\n",
       "  file_path                                                                                           \n",
       "1 /home/hs3393/ADHD/ADHD_finemap/ADHD_sumstat_hg38_qc.chr7.chr7_73724576_77106024.unisusie_rss.fit.rds\n",
       "2 /home/hs3393/ADHD/ADHD_finemap/ADHD_sumstat_hg38_qc.chr7.chr7_77106024_78547096.unisusie_rss.fit.rds\n",
       "3 /home/hs3393/ADHD/ADHD_finemap/ADHD_sumstat_hg38_qc.chr7.chr7_78547096_80918333.unisusie_rss.fit.rds"
      ]
     },
     "metadata": {},
     "output_type": "display_data"
    }
   ],
   "source": [
    "related_LD"
   ]
  },
  {
   "cell_type": "markdown",
   "id": "dd62d563-0bb4-4aeb-808e-1fe327a77b75",
   "metadata": {},
   "source": [
    "## Step 3: cook up new lbf matrix"
   ]
  },
  {
   "cell_type": "code",
   "execution_count": 10,
   "id": "098dd544-d2c7-4055-a892-64044a0e23ba",
   "metadata": {
    "tags": []
   },
   "outputs": [],
   "source": [
    "# extract those related GWAS finemapping result lbf matrix to form the larger one\n",
    "cnt = 1\n",
    "variants = c()\n",
    "lbf_mtx = list()\n",
    "for (file in related_LD$file_path){\n",
    "    rds = readRDS(file)\n",
    "    variants = c(variants, rds$variants)\n",
    "    lbf_mtx[[cnt]] = as.data.frame(rds$lbf_variable)\n",
    "    colnames(lbf_mtx[[cnt]]) = rds$variants\n",
    "    cnt = cnt + 1\n",
    "}\n",
    "\n",
    "# after combining the matrices, fill those NA with 0 to form the whole matrix\n",
    "lbf_whole_mtx = bind_rows(lbf_mtx) %>% replace(is.na(.), 0)\n",
    "\n",
    "# get the shared variants between gwas and qtl\n",
    "\n",
    "# here is one problem: maybe now the output of finemapping does not need $dlpfc... and the variant name have different format\n",
    "# chr:9999 or chr_999, so here we change : to _; this brings a lot of trouble\n",
    "# if now variable name are uniformed, then things are good, remove the str_replcace line\n",
    "  \n",
    "shared_variant = unlist(intersect(qtl_file$dlpfc_eqtl$variable_name %>% \n",
    "  map(~ str_replace_all(.x, \":\", \"_\")), colnames(lbf_whole_mtx)))\n",
    "\n",
    "  \n",
    "# remove those columns that does not share SNP, only keep those shared by two dataset\n",
    "GWAS_lbf_matrix = lbf_whole_mtx[, shared_variant]\n",
    "  \n",
    "\n",
    "# again, change the variant names\n",
    "colnames(qtl_file$dlpfc_eqtl$lbf_variable) = unlist(qtl_file$dlpfc_eqtl$variable_name %>% \n",
    "  map(~ str_replace_all(.x, \":\", \"_\")))\n",
    "\n",
    "# because in the susie output the cs are recorded by index, so we get the index that are removed\n",
    "rm_index = which(!(colnames(qtl_file$dlpfc_eqtl$lbf_variable) %in% shared_variant))\n",
    "  \n",
    "# also, for qtl data, only keep variants that are shared\n",
    "qtl_lbf_mtx = qtl_file$dlpfc_eqtl$lbf_variable[,shared_variant]"
   ]
  },
  {
   "cell_type": "markdown",
   "id": "6b803c6f-ebf5-433f-8a7d-e80ed313dfbb",
   "metadata": {},
   "source": [
    "## Step 4: based on lbf matrix to get new alpha, PIP and cs"
   ]
  },
  {
   "cell_type": "code",
   "execution_count": 12,
   "id": "c0c337c5-be21-45e3-828f-437c01ed52ab",
   "metadata": {
    "tags": []
   },
   "outputs": [],
   "source": [
    "# convert lbf to alpha\n",
    "lbf_to_alpha_vector = function(lbf, prior_weights = NULL) {\n",
    "  if (is.null(prior_weights)) prior_weights = 1/length(lbf)\n",
    "  maxlbf = max(lbf)\n",
    "  # w is proportional to BF, but subtract max for numerical stability.\n",
    "  w = exp(lbf - maxlbf)\n",
    "  # Posterior prob for each SNP.\n",
    "  w_weighted = w * prior_weights\n",
    "  weighted_sum_w = sum(w_weighted)\n",
    "  alpha = w_weighted / weighted_sum_w\n",
    "  return(alpha)\n",
    "}\n",
    "\n",
    "lbf_to_alpha = function(lbf) t(apply(lbf, 1, lbf_to_alpha_vector))\n",
    "\n",
    "# convert lbf to pip\n",
    "lbf_to_pip = function(lbf) {\n",
    "    alpha = lbf_to_alpha(lbf)\n",
    "    return(as.vector(1 - apply(1 - alpha,2,prod)))\n",
    "}\n",
    "\n",
    "# use new lbf matrix to compute alpha and pip\n",
    "GWAS_alpha = lbf_to_alpha(GWAS_lbf_matrix)\n",
    "GWAS_pip = lbf_to_pip(GWAS_lbf_matrix)\n",
    "\n",
    "qtl_alpha = lbf_to_alpha(qtl_lbf_mtx)\n",
    "qtl_pip = lbf_to_pip(qtl_lbf_mtx)\n",
    "  \n",
    "\n",
    "# for now, we remove the variants in cs, if that variant is not shared by two traits\n",
    "## note: this part may be changed!! now is just a rough strategy\n",
    "cs_number = length(qtl_file$dlpfc_eqtl$sets$cs)\n",
    "new_cs = list()\n",
    "if(cs_number == 0){\n",
    "    new_cs = NA\n",
    "}else{\n",
    "    for (i in (1:cs_number)){\n",
    "     new_cs[[i]] = setdiff(qtl_file$dlpfc_eqtl$sets$cs[[i]], rm_index)\n",
    "    }\n",
    "}\n",
    "\n",
    "# the output can be: GWAS+ qtl lbf matrix; alpha; pip\n",
    "# and qtl new cs"
   ]
  },
  {
   "cell_type": "code",
   "execution_count": 13,
   "id": "55472d34-48f1-4734-b354-e96192245b67",
   "metadata": {
    "tags": []
   },
   "outputs": [
    {
     "name": "stdout",
     "output_type": "stream",
     "text": [
      " num [1:10384] 0.000905 0.00082 0.000818 0.000915 0.000815 ...\n"
     ]
    }
   ],
   "source": [
    "str(qtl_pip)"
   ]
  },
  {
   "cell_type": "code",
   "execution_count": 14,
   "id": "4d9ccfb7-f86f-4ae9-a41e-5a48ae13fe0e",
   "metadata": {
    "tags": []
   },
   "outputs": [
    {
     "name": "stdout",
     "output_type": "stream",
     "text": [
      " num [1:10384] 0.00289 0.00289 0.00289 0.00289 0.00289 ...\n"
     ]
    }
   ],
   "source": [
    "str(GWAS_pip)"
   ]
  },
  {
   "cell_type": "markdown",
   "id": "fa3b05b9-825c-4019-80a3-06e688d1fc54",
   "metadata": {
    "tags": []
   },
   "source": [
    "Now they share same variants and variant number, can do susie_coloc!"
   ]
  },
  {
   "cell_type": "code",
   "execution_count": 16,
   "id": "8c7b7e02-164c-41f3-8064-7bbed835eaea",
   "metadata": {
    "tags": []
   },
   "outputs": [
    {
     "name": "stdout",
     "output_type": "stream",
     "text": [
      " num [1:30, 1:10384] 9.63e-05 9.63e-05 9.63e-05 9.63e-05 9.63e-05 ...\n",
      " - attr(*, \"dimnames\")=List of 2\n",
      "  ..$ : NULL\n",
      "  ..$ : chr [1:10384] \"chr7_76680351_T_C\" \"chr7_76680425_A_C\" \"chr7_76681272_G_GA\" \"chr7_76681467_T_C\" ...\n"
     ]
    }
   ],
   "source": [
    "str(GWAS_alpha)"
   ]
  },
  {
   "cell_type": "code",
   "execution_count": 17,
   "id": "64106108-3123-49aa-8804-ed2ab276a8b2",
   "metadata": {
    "tags": []
   },
   "outputs": [
    {
     "name": "stdout",
     "output_type": "stream",
     "text": [
      " num [1:10, 1:10384] 9.16e-05 9.16e-05 9.13e-05 9.07e-05 9.02e-05 ...\n",
      " - attr(*, \"dimnames\")=List of 2\n",
      "  ..$ : NULL\n",
      "  ..$ : chr [1:10384] \"chr7_76680351_T_C\" \"chr7_76680425_A_C\" \"chr7_76681272_G_GA\" \"chr7_76681467_T_C\" ...\n"
     ]
    }
   ],
   "source": [
    "str(qtl_alpha)"
   ]
  },
  {
   "cell_type": "markdown",
   "id": "170d79c6-0e15-49f6-83b2-c7c2c90f4089",
   "metadata": {},
   "source": [
    "Gwas matrix have 30 rows, which correspond to our design. And they have same column number."
   ]
  },
  {
   "cell_type": "code",
   "execution_count": 15,
   "id": "f7bce707-65f2-4c1d-99fe-cdfc6ab5381e",
   "metadata": {
    "tags": []
   },
   "outputs": [
    {
     "name": "stdout",
     "output_type": "stream",
     "text": [
      " logi NA\n"
     ]
    }
   ],
   "source": [
    "str(new_cs)"
   ]
  },
  {
   "cell_type": "code",
   "execution_count": null,
   "id": "738ef7e4-30ee-4891-b186-9d6b2ef870e9",
   "metadata": {},
   "outputs": [],
   "source": []
  }
 ],
 "metadata": {
  "kernelspec": {
   "display_name": "R",
   "language": "R",
   "name": "ir"
  },
  "language_info": {
   "codemirror_mode": "r",
   "file_extension": ".r",
   "mimetype": "text/x-r-source",
   "name": "R",
   "pygments_lexer": "r",
   "version": "4.2.2"
  }
 },
 "nbformat": 4,
 "nbformat_minor": 5
}
