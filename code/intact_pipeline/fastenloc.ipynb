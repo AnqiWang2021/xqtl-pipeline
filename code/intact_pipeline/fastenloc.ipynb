{
 "cells": [
  {
   "cell_type": "code",
   "execution_count": 1,
   "metadata": {
    "kernel": "SoS"
   },
   "outputs": [],
   "source": [
    "[global]\n",
    "parameter: susie_table = \"\"\n",
    "parameter: out_vcf = \"\"\n",
    "parameter: file_table = \"\"\n",
    "parameter: out_file = \"\"\n",
    "parameter: out_pre = \"\"\n",
    "parameter: eqtl_vcf = \"\"\n",
    "parameter: tissue = ''\n",
    "parameter: container = ''\n",
    "parameter: job_size = 1\n",
    "parameter: walltime = \"5h\"\n",
    "parameter: mem = \"8G\"\n",
    "parameter: numThreads = 1"
   ]
  },
  {
   "cell_type": "markdown",
   "metadata": {
    "kernel": "SoS"
   },
   "source": [
    "# Conversion of SuSie eQTL Objects to DAP-G VCF Format\n",
    "In order to properly run fastENLOC we need to first convert eQTL results from each gene in a specific tissue into a VCF object with relevant information in the INFO column. To do this we need to start with a table of each gene and its corresponding eQTL susie file as the input.\n",
    "\n",
    "It should be formatted like the file below"
   ]
  },
  {
   "cell_type": "code",
   "execution_count": 1,
   "metadata": {
    "kernel": "Bash"
   },
   "outputs": [
    {
     "name": "stdout",
     "output_type": "stream",
     "text": [
      "gene\tsusie_file\n",
      "ENSG00000000419\t/restricted/projectnb/casa/oaolayin/eQTL_Finemap/demo.ENSG00000000419.unisusie.fit.rds\n",
      "ENSG00000000457\t/restricted/projectnb/casa/oaolayin/eQTL_Finemap/demo.ENSG00000000457.unisusie.fit.rds\n",
      "ENSG00000000938\t/restricted/projectnb/casa/oaolayin/eQTL_Finemap/demo.ENSG00000000938.unisusie.fit.rds\n",
      "ENSG00000000971\t/restricted/projectnb/casa/oaolayin/eQTL_Finemap/demo.ENSG00000000971.unisusie.fit.rds\n",
      "ENSG00000001036\t/restricted/projectnb/casa/oaolayin/eQTL_Finemap/demo.ENSG00000001036.unisusie.fit.rds\n",
      "ENSG00000001084\t/restricted/projectnb/casa/oaolayin/eQTL_Finemap/demo.ENSG00000001084.unisusie.fit.rds\n",
      "ENSG00000001167\t/restricted/projectnb/casa/oaolayin/eQTL_Finemap/demo.ENSG00000001167.unisusie.fit.rds\n",
      "ENSG00000001460\t/restricted/projectnb/casa/oaolayin/eQTL_Finemap/demo.ENSG00000001460.unisusie.fit.rds\n",
      "ENSG00000001461\t/restricted/projectnb/casa/oaolayin/eQTL_Finemap/demo.ENSG00000001461.unisusie.fit.rds\n",
      "ENSG00000001561\t/restricted/projectnb/casa/oaolayin/eQTL_Finemap/demo.ENSG00000001561.unisusie.fit.rds\n",
      "ENSG00000001626\t/restricted/projectnb/casa/oaolayin/eQTL_Finemap/demo.ENSG00000001626.unisusie.fit.rds\n",
      "ENSG00000001629\t/restricted/projectnb/casa/oaolayin/eQTL_Finemap/demo.ENSG00000001629.unisusie.fit.rds\n",
      "ENSG00000001630\t/restricted/projectnb/casa/oaolayin/eQTL_Finemap/demo.ENSG00000001630.unisusie.fit.rds\n",
      "ENSG00000001631\t/restricted/projectnb/casa/oaolayin/eQTL_Finemap/demo.ENSG00000001631.unisusie.fit.rds\n",
      "ENSG00000002016\t/restricted/projectnb/casa/oaolayin/eQTL_Finemap/demo.ENSG00000002016.unisusie.fit.rds\n",
      "ENSG00000002330\t/restricted/projectnb/casa/oaolayin/eQTL_Finemap/demo.ENSG00000002330.unisusie.fit.rds\n",
      "ENSG00000002587\t/restricted/projectnb/casa/oaolayin/eQTL_Finemap/demo.ENSG00000002587.unisusie.fit.rds\n",
      "ENSG00000002745\t/restricted/projectnb/casa/oaolayin/eQTL_Finemap/demo.ENSG00000002745.unisusie.fit.rds\n",
      "ENSG00000002746\t/restricted/projectnb/casa/oaolayin/eQTL_Finemap/demo.ENSG00000002746.unisusie.fit.rds\n",
      "ENSG00000002822\t/restricted/projectnb/casa/oaolayin/eQTL_Finemap/demo.ENSG00000002822.unisusie.fit.rds\n",
      "ENSG00000002834\t/restricted/projectnb/casa/oaolayin/eQTL_Finemap/demo.ENSG00000002834.unisusie.fit.rds\n",
      "ENSG00000002919\t/restricted/projectnb/casa/oaolayin/eQTL_Finemap/demo.ENSG00000002919.unisusie.fit.rds\n",
      "ENSG00000002933\t/restricted/projectnb/casa/oaolayin/eQTL_Finemap/demo.ENSG00000002933.unisusie.fit.rds\n"
     ]
    }
   ],
   "source": [
    "cat /restricted/projectnb/casa/oaolayin/AD_GWAS_sum_stats/fastenloc/susie_tables/eqtl_susie_table_ex.tsv"
   ]
  },
  {
   "cell_type": "code",
   "execution_count": null,
   "metadata": {
    "kernel": "SoS"
   },
   "outputs": [],
   "source": [
    "[susie_to_dapg_1]\n",
    "task: trunk_workers = 1, trunk_size = job_size, walltime = walltime, mem = mem, cores = numThreads, tags = f'{step_name}_{_output:bn}'\n",
    "R: expand= \"$[ ]\", container = container\n",
    "    library(susieR)\n",
    "    library(stringr)\n",
    "    \n",
    "    susie_tbl = read.csv(\"$[susie_table]\", sep = \"\\t\")\n",
    "    susie_files = susie_tbl$susie_file\n",
    "    genes = susie_tbl$gene\n",
    "    tissue = \"$[tissue]\"\n",
    "\n",
    "    vcf_out = data.frame(chr=NULL, pos=NULL, var_id=NULL, ref = NULL, alt = NULL, info=NULL)\n",
    "    for(i in seq(1, length(genes))) {\n",
    "      gene = genes[i]\n",
    "      ssie_obj = readRDS(susie_files[i])\n",
    "      # now we get the credible set level values\n",
    "      # get the average PIP for each of the credible sets\n",
    "      sums_cs_pip = lapply(ssie_obj$dlpfc_eqtl$sets$cs, function(set) sum(ssie_obj$dlpfc_eqtl$pip[set]))\n",
    "      # get length of each of the credible sets\n",
    "      lengths_cs = lengths(ssie_obj$dlpfc_eqtl$sets$cs)\n",
    "      for(i_var in seq(1, length(ssie_obj$dlpfc_eqtl$variable_name))) {\n",
    "        var_id = str_replace_all(ssie_obj$dlpfc_eqtl$variable_name[i_var], \":\", \"_\")\n",
    "        chr = strsplit(var_id, \"_\")[[1]][1]\n",
    "        pos = strsplit(var_id, \"_\")[[1]][2]\n",
    "        ref = strsplit(var_id, \"_\")[[1]][3]\n",
    "        alt = strsplit(var_id, \"_\")[[1]][4]\n",
    "        pip = ssie_obj$dlpfc_eqtl$pip[i_var]\n",
    "        cs_id = -1\n",
    "        if (i_var %in% unlist(ssie_obj$dlpfc_eqtl$sets$cs)) {\n",
    "          cs_id = names(ssie_obj$dlpfc_eqtl$sets$cs)[sapply(ssie_obj$dlpfc_eqtl$sets$cs, function(set) i_var %in% set)]\n",
    "          cs_id = as.integer(str_remove(cs_id, \"L\"))\n",
    "        }\n",
    "        # ignore if not in a credible set\n",
    "        if (cs_id == -1) {\n",
    "          next()\n",
    "        }\n",
    "        # ignore if pip is below a threshold\n",
    "        if(pip < 1e-04) {\n",
    "          next()\n",
    "        }\n",
    "        info = paste0(gene, \":\", cs_id, \"@\", tissue, \"=\", format(pip, scientific = T), \":\", \"[\", \n",
    "                      format(sums_cs_pip[[paste0(\"L\", cs_id)]], scientific = T), \":\",  lengths_cs[[paste0(\"L\", cs_id)]], \"]\")\n",
    "        df = data.frame(chr=chr, pos=pos, var_id=var_id, ref = ref, alt = alt, info=info)\n",
    "        vcf_out <- rbind(vcf_out, df)\n",
    "        }\n",
    "    }\n",
    "    write.table(vcf_out, \"$[out_vcf]_test\", sep =\"\\t\", quote = F, row.names = F, col.names = F)"
   ]
  },
  {
   "cell_type": "code",
   "execution_count": null,
   "metadata": {
    "kernel": "SoS"
   },
   "outputs": [],
   "source": [
    "[susie_to_dapg_2]\n",
    "task: trunk_workers = 1, trunk_size = job_size, walltime = walltime, mem = mem, cores = numThreads, tags = f'{step_name}_{_output:bn}'\n",
    "python3: expand= \"$[ ]\", container = container\n",
    "    f = open(\"$[out_vcf]_test\")\n",
    "    f_out = open(\"$[out_vcf]\", \"w+\")\n",
    "    info_map = {}\n",
    "    for line in f:\n",
    "        elems = line.split(\"\\t\")\n",
    "        elems[-1] = elems[-1].strip()\n",
    "        var_idx = elems[2]\n",
    "        try:\n",
    "            info_map[var_idx] = info_map[var_idx] + [elems[-1]]\n",
    "        except KeyError:\n",
    "            info_map[var_idx] = [elems[-1]]\n",
    "    for var_idx, infos in info_map.items():\n",
    "        chrm, pos, ref, alt = var_idx.split(\"_\")\n",
    "        info = \"|\".join(infos)\n",
    "        f_out.write(\"\\t\".join([chrm, pos, var_idx, ref, alt, info]) + \"\\n\")\n",
    "    f_out.close()\n",
    "    f.close()"
   ]
  },
  {
   "cell_type": "code",
   "execution_count": null,
   "metadata": {
    "kernel": "SoS"
   },
   "outputs": [],
   "source": [
    "[susie_to_dapg_3]\n",
    "task: trunk_workers = 1, trunk_size = job_size, walltime = walltime, mem = mem, cores = numThreads, tags = f'{step_name}_{_output:bn}'\n",
    "sh: expand= \"$[ ]\", container = container\n",
    "    rm $[out_vcf]_test\n",
    "    gzip $[out_vcf]"
   ]
  },
  {
   "cell_type": "markdown",
   "metadata": {
    "kernel": "SoS"
   },
   "source": [
    "# fastENLOC from susie objects"
   ]
  },
  {
   "cell_type": "markdown",
   "metadata": {
    "kernel": "Markdown"
   },
   "source": [
    "The first input for the pipeline is a table listing the `susie` objects for each of the LD Blocks. This takes the form of one column with the name of the LD block and another with the path to the object file."
   ]
  },
  {
   "cell_type": "code",
   "execution_count": 6,
   "metadata": {
    "kernel": "Bash"
   },
   "outputs": [
    {
     "name": "stdout",
     "output_type": "stream",
     "text": [
      "ld_block\tsusie_object_file\n",
      "chr1_101384274_104443097\t/restricted/projectnb/casa/oaolayin/AD_GWAS_sum_stats/Final_Finemapping/outdir/kunkle/kunkle_sumstat_hg38_qc.chr1.chr1_101384274_104443097.unisusie_rss.fit.rds\n",
      "chr1_104443097_106225286\t/restricted/projectnb/casa/oaolayin/AD_GWAS_sum_stats/Final_Finemapping/outdir/kunkle/kunkle_sumstat_hg38_qc.chr1.chr1_104443097_106225286.unisusie_rss.fit.rds\n",
      "chr1_106225286_109761915\t/restricted/projectnb/casa/oaolayin/AD_GWAS_sum_stats/Final_Finemapping/outdir/kunkle/kunkle_sumstat_hg38_qc.chr1.chr1_106225286_109761915.unisusie_rss.fit.rds\n",
      "chr1_109761915_111483530\t/restricted/projectnb/casa/oaolayin/AD_GWAS_sum_stats/Final_Finemapping/outdir/kunkle/kunkle_sumstat_hg38_qc.chr1.chr1_109761915_111483530.unisusie_rss.fit.rds\n",
      "chr1_111483530_113276642\t/restricted/projectnb/casa/oaolayin/AD_GWAS_sum_stats/Final_Finemapping/outdir/kunkle/kunkle_sumstat_hg38_qc.chr1.chr1_111483530_113276642.unisusie_rss.fit.rds\n",
      "chr1_113276642_115338054\t/restricted/projectnb/casa/oaolayin/AD_GWAS_sum_stats/Final_Finemapping/outdir/kunkle/kunkle_sumstat_hg38_qc.chr1.chr1_113276642_115338054.unisusie_rss.fit.rds\n",
      "chr1_11328222_12710318\t/restricted/projectnb/casa/oaolayin/AD_GWAS_sum_stats/Final_Finemapping/outdir/kunkle/kunkle_sumstat_hg38_qc.chr1.chr1_11328222_12710318.unisusie_rss.fit.rds\n",
      "chr1_115338054_117562321\t/restricted/projectnb/casa/oaolayin/AD_GWAS_sum_stats/Final_Finemapping/outdir/kunkle/kunkle_sumstat_hg38_qc.chr1.chr1_115338054_117562321.unisusie_rss.fit.rds\n",
      "chr1_117562321_119804207\t/restricted/projectnb/casa/oaolayin/AD_GWAS_sum_stats/Final_Finemapping/outdir/kunkle/kunkle_sumstat_hg38_qc.chr1.chr1_117562321_119804207.unisusie_rss.fit.rds\n"
     ]
    }
   ],
   "source": [
    "head /restricted/projectnb/casa/oaolayin/AD_GWAS_sum_stats/fastenloc/susie_tables/kunkle.tsv"
   ]
  },
  {
   "cell_type": "markdown",
   "metadata": {
    "kernel": "Bash"
   },
   "source": [
    "Additionally we need a VCF file containing the xQTLs for the tissue of interest"
   ]
  },
  {
   "cell_type": "code",
   "execution_count": 1,
   "metadata": {
    "kernel": "Bash"
   },
   "outputs": [
    {
     "name": "stdout",
     "output_type": "stream",
     "text": [
      "chr1\t14677\trs201327123\tG\tA\tENSG00000228463:2@Skin_Not_Sun_Exposed=1.00000e+00[1.000e+00:1]|ENSG00000228463:1@Adipose_Visceral_Omentum=1.00000e+00[1.000e+00:1]|ENSG00000228463:2@Nerve_Tibial=1.00000e+00[1.000e+00:1]|ENSG00000228463:2@Muscle_Skeletal=1.00000e+00[1.000e+00:1]|ENSG00000228463:2@Skin_Sun_Exposed=9.99998e-01[1.000e+00:1]|ENSG00000228463:1@Heart_Left_Ventricle=9.99995e-01[1.000e+00:1]|ENSG00000228463:1@Heart_Atrial_Appendage=9.99990e-01[1.000e+00:1]|ENSG00000241860:1@Skin_Sun_Exposed=9.99986e-01[1.000e+00:1]|ENSG00000241860:1@Skin_Not_Sun_Exposed=9.99983e-01[1.000e+00:1]|ENSG00000228327:1@Muscle_Skeletal=9.99942e-01[9.999e-01:1]|ENSG00000241860:1@Nerve_Tibial=9.99938e-01[9.999e-01:1]|ENSG00000228327:1@Adipose_Visceral_Omentum=9.99918e-01[9.999e-01:1]|ENSG00000228327:2@Adipose_Subcutaneous=9.99918e-01[9.999e-01:1]|ENSG00000228327:1@Heart_Atrial_Appendage=9.99866e-01[9.999e-01:1]|ENSG00000228327:2@Lung=9.99832e-01[9.998e-01:1]|ENSG00000241860:1@Artery_Tibial=9.99822e-01[9.998e-01:1]|ENSG00000228327:2@Esophagus_Mucosa=9.99765e-01[9.998e-01:1]|ENSG00000228327:2@Thyroid=9.99553e-01[9.996e-01:1]|ENSG00000228327:2@Artery_Aorta=9.99418e-01[9.994e-01:1]|ENSG00000228327:2@Nerve_Tibial=9.99226e-01[9.992e-01:1]|ENSG00000228327:2@Skin_Sun_Exposed=9.99023e-01[9.990e-01:1]|ENSG00000228327:2@Skin_Not_Sun_Exposed=9.98909e-01[9.989e-01:1]|ENSG00000228327:1@Cells_Cultured_fibroblasts=9.98896e-01[9.989e-01:1]|ENSG00000228327:3@Artery_Tibial=9.98812e-01[9.988e-01:1]|ENSG00000241860:1@Adipose_Visceral_Omentum=9.98112e-01[9.981e-01:1]|ENSG00000241860:1@Esophagus_Muscularis=9.97358e-01[9.974e-01:1]|ENSG00000228327:2@Colon_Transverse=9.94829e-01[9.948e-01:1]|ENSG00000228327:1@Heart_Left_Ventricle=9.92955e-01[9.930e-01:1]|ENSG00000241860:1@Thyroid=9.84336e-01[9.843e-01:1]|ENSG00000241860:1@Cells_Cultured_fibroblasts=9.81095e-01[9.811e-01:1]|ENSG00000228463:4@Adipose_Subcutaneous=9.70763e-01[9.708e-01:1]|ENSG00000228327:2@Spleen=9.22751e-01[9.228e-01:1]|ENSG00000228327:1@Brain_Cortex=9.16290e-01[9.163e-01:1]|ENSG00000241860:1@Heart_Atrial_Appendage=8.94191e-01[8.942e-01:1]|ENSG00000241860:1@Brain_Nucleus_accumbens_basal_ganglia=6.26400e-01[6.264e-01:1]|ENSG00000228327:1@Pituitary=4.97094e-01[4.971e-01:1]|ENSG00000241860:1@Adipose_Subcutaneous=4.87540e-01[4.875e-01:1]|ENSG00000228463:4@Thyroid=4.71732e-01[4.717e-01:1]|ENSG00000241860:1@Lung=3.55037e-01[3.550e-01:1]|ENSG00000228463:4@Cells_Cultured_fibroblasts=3.26212e-01[3.262e-01:1]|ENSG00000228327:1@Brain_Nucleus_accumbens_basal_ganglia=2.89177e-01[2.892e-01:1]|ENSG00000228327:1@Brain_Frontal_Cortex_BA9=2.80233e-01[2.802e-01:1]|ENSG00000241860:1@Esophagus_Gastroesophageal_Junction=1.89675e-01[1.897e-01:1]|ENSG00000241860:1@Colon_Transverse=1.59617e-01[1.596e-01:1]|ENSG00000241860:1@Brain_Cortex=1.49429e-01[1.494e-01:1]|ENSG00000228327:3@Esophagus_Gastroesophageal_Junction=1.48368e-01[1.484e-01:1]|ENSG00000241860:1@Artery_Aorta=1.48320e-01[1.483e-01:1]|ENSG00000228327:1@Brain_Hypothalamus=1.46787e-01[1.468e-01:1]|ENSG00000228463:1@Liver=1.21183e-01[1.212e-01:1]|ENSG00000241860:1@Colon_Sigmoid=1.02836e-01[1.028e-01:1]|ENSG00000228327:1@Brain_Cerebellum=7.46281e-02[7.463e-02:1]|ENSG00000228327:2@Breast_Mammary_Tissue=7.09307e-02[7.093e-02:1]|ENSG00000228463:3@Esophagus_Muscularis=6.48767e-02[6.488e-02:1]|ENSG00000241860:1@Brain_Frontal_Cortex_BA9=5.98753e-02[5.988e-02:1]|ENSG00000228463:4@Artery_Tibial=5.21028e-02[5.210e-02:1]|ENSG00000228327:2@Stomach=4.94393e-02[4.944e-02:1]|ENSG00000241860:1@Breast_Mammary_Tissue=2.57222e-02[2.572e-02:1]|ENSG00000228327:3@Brain_Caudate_basal_ganglia=2.40533e-02[2.405e-02:1]|ENSG00000228327:2@Brain_Cerebellar_Hemisphere=1.64635e-02[1.646e-02:1]|ENSG00000228327:3@Liver=8.33695e-03[8.337e-03:1]|ENSG00000228327:4@Esophagus_Muscularis=5.40751e-03[5.408e-03:1]|ENSG00000241860:1@Prostate=3.34826e-03[3.348e-03:1]|ENSG00000228327:5@Colon_Sigmoid=2.72283e-03[2.723e-03:1]|ENSG00000241860:1@Liver=1.98615e-03[1.986e-03:1]|ENSG00000241860:1@Brain_Caudate_basal_ganglia=1.53346e-03[1.533e-03:1]\n",
      "chr1\t16841\trs62636368\tG\tT\tENSG00000227232:2@Esophagus_Mucosa=2.42919e-02[2.429e-02:1]|ENSG00000227232:2@Small_Intestine_Terminal_Ileum=1.79413e-02[1.794e-02:1]|ENSG00000223972:2@Testis=1.30519e-02[1.305e-02:1]|ENSG00000279457:2@Nerve_Tibial=7.19017e-03[7.190e-03:1]|ENSG00000279457:2@Esophagus_Muscularis=3.55600e-03[3.556e-03:1]|ENSG00000227232:1@Prostate=3.10046e-03[3.100e-03:1]|ENSG00000227232:2@Spleen=2.48977e-03[2.490e-03:1]|ENSG00000227232:2@Esophagus_Muscularis=2.44974e-03[2.450e-03:1]|ENSG00000227232:2@Brain_Cortex=1.98603e-03[1.986e-03:1]|ENSG00000227232:2@Cells_EBV-transformed_lymphocytes=9.62482e-04[9.625e-04:1]|ENSG00000227232:1@Brain_Caudate_basal_ganglia=9.60708e-04[9.607e-04:1]|ENSG00000227232:2@Brain_Cerebellar_Hemisphere=6.73695e-04[6.737e-04:1]|ENSG00000227232:2@Skin_Not_Sun_Exposed=5.43204e-04[5.432e-04:1]|ENSG00000227232:2@Vagina=5.33130e-04[5.331e-04:1]|ENSG00000227232:2@Minor_Salivary_Gland=5.32466e-04[5.325e-04:1]|ENSG00000227232:2@Brain_Substantia_nigra=5.22466e-04[5.225e-04:1]|ENSG00000227232:2@Brain_Spinal_cord_cervical_c-1=5.16712e-04[5.167e-04:1]|ENSG00000227232:2@Testis=4.38369e-04[4.384e-04:1]|ENSG00000227232:4@Thyroid=2.83804e-04[2.838e-04:1]\n",
      "chr1\t54421\trs146477069\tA\tG\tENSG00000279457:1@Esophagus_Muscularis=5.92456e-03[9.570e-03:2]|ENSG00000227232:2@Esophagus_Gastroesophageal_Junction=4.08081e-03[4.481e-03:2]|ENSG00000227232:2@Adipose_Subcutaneous=3.10733e-03[3.787e-03:2]|ENSG00000227232:2@Brain_Anterior_cingulate_cortex_BA24=2.64614e-03[3.712e-03:3]|ENSG00000227232:2@Brain_Putamen_basal_ganglia=2.34431e-03[2.728e-03:3]|ENSG00000227232:1@Brain_Nucleus_accumbens_basal_ganglia=2.21835e-03[2.884e-03:3]|ENSG00000227232:2@Stomach=2.17532e-03[2.299e-03:2]|ENSG00000227232:1@Brain_Cerebellar_Hemisphere=1.48762e-03[1.946e-03:3]|ENSG00000240361:1@Heart_Left_Ventricle=1.39808e-03[1.555e-02:2]|ENSG00000227232:3@Adipose_Visceral_Omentum=1.19049e-03[2.768e-03:2]|ENSG00000227232:2@Ovary=1.11753e-03[1.118e-03:1]|ENSG00000240361:1@Brain_Amygdala=1.05491e-03[1.466e-02:2]|ENSG00000279457:2@Whole_Blood=9.92484e-04[4.953e-03:4]|ENSG00000186092:2@Brain_Frontal_Cortex_BA9=9.62934e-04[3.193e-03:3]|ENSG00000227232:1@Brain_Hippocampus=8.94319e-04[1.302e-03:3]|ENSG00000227232:2@Artery_Coronary=8.09042e-04[1.284e-03:2]|ENSG00000227232:1@Brain_Spinal_cord_cervical_c-1=7.41958e-04[9.796e-04:2]|ENSG00000227232:1@Brain_Frontal_Cortex_BA9=7.33487e-04[1.085e-03:3]|ENSG00000227232:2@Muscle_Skeletal=6.99183e-04[1.204e-03:2]|ENSG00000227232:2@Heart_Left_Ventricle=6.18743e-04[8.597e-04:2]|ENSG00000227232:2@Brain_Amygdala=6.02512e-04[8.268e-04:3]|ENSG00000186092:2@Brain_Substantia_nigra=5.99880e-04[2.512e-03:3]|ENSG00000186092:2@Brain_Nucleus_accumbens_basal_ganglia=5.97710e-04[1.933e-03:2]|ENSG00000227232:2@Kidney_Cortex=5.77720e-04[8.688e-04:3]|ENSG00000227232:2@Adrenal_Gland=5.46197e-04[7.862e-04:2]|ENSG00000227232:3@Whole_Blood=4.45103e-04[5.183e-04:4]|ENSG00000227232:3@Uterus=3.99648e-04[3.996e-04:1]|ENSG00000279457:1@Heart_Left_Ventricle=3.62748e-04[4.055e-03:2]|ENSG00000279457:1@Esophagus_Mucosa=3.47952e-04[2.621e-03:2]|ENSG00000279457:2@Esophagus_Gastroesophageal_Junction=3.11443e-04[1.833e-03:2]|ENSG00000279457:3@Artery_Tibial=2.78384e-04[8.884e-04:2]|ENSG00000227232:3@Breast_Mammary_Tissue=1.40039e-04[2.174e-04:2]\n",
      "chr1\t54490\trs141149254\tG\tA\tENSG00000269981:2@Testis=9.99949e-01[9.999e-01:1]|ENSG00000238009:2@Testis=9.99848e-01[9.998e-01:1]|ENSG00000268903:2@Testis=9.99732e-01[9.997e-01:1]|ENSG00000227232:2@Thyroid=2.39352e-01[2.394e-01:1]|ENSG00000227232:2@Breast_Mammary_Tissue=5.04131e-02[5.041e-02:1]|ENSG00000269981:1@Brain_Anterior_cingulate_cortex_BA24=1.63134e-02[1.631e-02:1]|ENSG00000239906:2@Testis=1.55930e-02[1.559e-02:1]|ENSG00000227232:3@Small_Intestine_Terminal_Ileum=7.54553e-03[7.546e-03:1]|ENSG00000186092:1@Brain_Putamen_basal_ganglia=4.29199e-03[4.292e-03:1]|ENSG00000227232:2@Artery_Tibial=4.20609e-03[4.206e-03:1]|ENSG00000227232:2@Lung=3.04368e-03[3.044e-03:1]|ENSG00000268903:3@Brain_Cerebellum=2.20502e-03[2.205e-03:1]|ENSG00000227232:2@Skin_Sun_Exposed=1.84384e-03[1.844e-03:1]|ENSG00000269981:3@Brain_Cerebellum=9.39482e-04[9.395e-04:1]|ENSG00000227232:2@Pancreas=7.77825e-04[7.778e-04:1]|ENSG00000227232:1@Kidney_Cortex=5.87517e-04[5.875e-04:1]\n",
      "chr1\t58814\trs114420996\tG\tA\tENSG00000268903:1@Artery_Coronary=4.41761e-03[2.730e-01:5]|ENSG00000227232:1@Brain_Anterior_cingulate_cortex_BA24=3.20968e-03[1.047e-02:5]|ENSG00000227232:2@Brain_Hypothalamus=2.55688e-03[9.544e-03:5]|ENSG00000269981:1@Adrenal_Gland=2.48788e-03[2.543e-01:4]|ENSG00000240361:2@Brain_Amygdala=2.26966e-03[1.777e-02:5]|ENSG00000227232:2@Brain_Nucleus_accumbens_basal_ganglia=2.15385e-03[4.384e-03:5]|ENSG00000268903:1@Adrenal_Gland=1.96773e-03[1.633e-01:4]|ENSG00000227232:1@Brain_Amygdala=1.69084e-03[4.281e-03:5]|ENSG00000186092:1@Brain_Amygdala=1.29524e-03[4.482e-02:5]|ENSG00000186092:2@Brain_Caudate_basal_ganglia=1.18596e-03[4.932e-03:4]|ENSG00000186092:1@Brain_Hypothalamus=4.00307e-04[5.400e-03:5]|ENSG00000186092:2@Brain_Hippocampus=3.18903e-04[3.947e-03:5]|ENSG00000233750:2@Ovary=2.89631e-04[4.195e-02:4]|ENSG00000227232:2@Uterus=2.37506e-04[4.122e-03:3]\n",
      "chr1\t60351\trs62637817\tA\tG\tENSG00000268903:1@Colon_Transverse=1.20385e-01[9.503e-01:3]|ENSG00000269981:1@Colon_Transverse=8.67511e-02[9.858e-01:3]|ENSG00000269981:1@Artery_Coronary=8.60877e-02[8.624e-01:3]|ENSG00000268903:1@Artery_Coronary=4.85866e-02[2.730e-01:5]|ENSG00000269981:1@Adrenal_Gland=2.08951e-02[2.543e-01:4]|ENSG00000269981:1@Artery_Aorta=1.17507e-02[6.911e-01:3]|ENSG00000186092:1@Brain_Amygdala=1.03095e-02[4.482e-02:5]|ENSG00000268903:1@Adrenal_Gland=7.25585e-03[1.633e-01:4]|ENSG00000269981:3@Heart_Left_Ventricle=6.63433e-03[3.686e-02:3]|ENSG00000269981:1@Nerve_Tibial=5.71916e-03[2.250e-02:3]|ENSG00000233750:2@Ovary=5.49454e-03[4.195e-02:4]|ENSG00000269981:1@Stomach=3.78734e-03[3.648e-01:3]|ENSG00000268903:2@Colon_Sigmoid=3.45162e-03[8.390e-02:3]|ENSG00000227232:2@Brain_Hypothalamus=3.14994e-03[9.544e-03:5]|ENSG00000227232:1@Brain_Anterior_cingulate_cortex_BA24=3.13373e-03[1.047e-02:5]|ENSG00000227232:2@Uterus=2.86626e-03[4.122e-03:3]|ENSG00000240361:2@Brain_Amygdala=2.49160e-03[1.777e-02:5]|ENSG00000239906:2@Esophagus_Mucosa=1.58465e-03[2.942e-02:3]|ENSG00000186092:2@Brain_Caudate_basal_ganglia=1.30853e-03[4.932e-03:4]|ENSG00000269981:3@Esophagus_Mucosa=1.28658e-03[3.106e-02:3]|ENSG00000186092:1@Brain_Hypothalamus=1.23908e-03[5.400e-03:5]|ENSG00000268903:1@Prostate=1.03756e-03[1.592e-02:3]|ENSG00000268903:3@Esophagus_Mucosa=9.60062e-04[1.113e-02:3]|ENSG00000186092:2@Brain_Hippocampus=8.27328e-04[3.947e-03:5]|ENSG00000227232:2@Brain_Nucleus_accumbens_basal_ganglia=7.22666e-04[4.384e-03:5]|ENSG00000268903:2@Heart_Atrial_Appendage=7.04011e-04[3.095e-02:3]|ENSG00000227232:1@Brain_Amygdala=5.75953e-04[4.281e-03:5]|ENSG00000269981:1@Colon_Sigmoid=2.70880e-04[2.168e-02:3]|ENSG00000269981:3@Adipose_Visceral_Omentum=2.42656e-04[2.252e-02:3]\n",
      "chr1\t62738\trs11810446\tT\tC\tENSG00000240361:1@Heart_Left_Ventricle=1.41544e-02[1.555e-02:2]|ENSG00000240361:1@Brain_Amygdala=1.36037e-02[1.466e-02:2]|ENSG00000279457:1@Heart_Left_Ventricle=3.69205e-03[4.055e-03:2]|ENSG00000279457:1@Esophagus_Muscularis=3.64524e-03[9.570e-03:2]|ENSG00000279457:2@Thyroid=3.15370e-03[3.728e-03:3]|ENSG00000279457:1@Esophagus_Mucosa=2.27290e-03[2.621e-03:2]|ENSG00000186092:2@Brain_Frontal_Cortex_BA9=2.02308e-03[3.193e-03:3]|ENSG00000227232:3@Adipose_Visceral_Omentum=1.57731e-03[2.768e-03:2]|ENSG00000279457:2@Esophagus_Gastroesophageal_Junction=1.52119e-03[1.833e-03:2]|ENSG00000186092:2@Brain_Substantia_nigra=1.51590e-03[2.512e-03:3]|ENSG00000186092:2@Brain_Nucleus_accumbens_basal_ganglia=1.33508e-03[1.933e-03:2]|ENSG00000279457:2@Whole_Blood=9.22564e-04[4.953e-03:4]|ENSG00000227232:2@Adipose_Subcutaneous=6.79477e-04[3.787e-03:2]|ENSG00000279457:3@Artery_Tibial=6.10046e-04[8.884e-04:2]|ENSG00000227232:2@Brain_Anterior_cingulate_cortex_BA24=6.07744e-04[3.712e-03:3]|ENSG00000227232:2@Muscle_Skeletal=5.04507e-04[1.204e-03:2]|ENSG00000227232:2@Artery_Coronary=4.74549e-04[1.284e-03:2]|ENSG00000227232:1@Brain_Nucleus_accumbens_basal_ganglia=4.18416e-04[2.884e-03:3]|ENSG00000227232:2@Esophagus_Gastroesophageal_Junction=4.00409e-04[4.481e-03:2]|ENSG00000227232:1@Brain_Cerebellar_Hemisphere=3.11852e-04[1.946e-03:3]|ENSG00000227232:1@Brain_Hippocampus=2.97239e-04[1.302e-03:3]|ENSG00000227232:1@Brain_Frontal_Cortex_BA9=2.69172e-04[1.085e-03:3]|ENSG00000227232:2@Brain_Putamen_basal_ganglia=2.60220e-04[2.728e-03:3]|ENSG00000227232:2@Heart_Left_Ventricle=2.40943e-04[8.597e-04:2]|ENSG00000227232:2@Adrenal_Gland=2.39990e-04[7.862e-04:2]|ENSG00000227232:1@Brain_Spinal_cord_cervical_c-1=2.37631e-04[9.796e-04:2]|ENSG00000227232:2@Kidney_Cortex=2.19164e-04[8.688e-04:3]|ENSG00000227232:2@Brain_Amygdala=1.64997e-04[8.268e-04:3]|ENSG00000227232:2@Stomach=1.24053e-04[2.299e-03:2]\n",
      "chr1\t63671\trs80011619\tG\tA\tENSG00000238009:1@Whole_Blood=9.99913e-01[9.999e-01:1]|ENSG00000238009:1@Spleen=9.99805e-01[9.998e-01:1]|ENSG00000186092:1@Brain_Amygdala=1.06385e-02[4.482e-02:5]|ENSG00000238009:1@Testis=9.85095e-03[9.998e-01:2]|ENSG00000240361:2@Heart_Left_Ventricle=9.37929e-03[1.273e-02:2]|ENSG00000240361:2@Brain_Amygdala=3.71906e-03[1.777e-02:5]|ENSG00000268903:1@Artery_Coronary=2.49602e-03[2.730e-01:5]|ENSG00000227232:2@Colon_Transverse=2.41689e-03[3.086e-03:3]|ENSG00000186092:1@Brain_Hypothalamus=1.30402e-03[5.400e-03:5]|ENSG00000186092:2@Brain_Hippocampus=8.56873e-04[3.947e-03:5]|ENSG00000227232:1@Brain_Anterior_cingulate_cortex_BA24=6.18454e-04[1.047e-02:5]|ENSG00000227232:1@Brain_Amygdala=5.97483e-04[4.281e-03:5]|ENSG00000227232:2@Brain_Hypothalamus=3.66631e-04[9.544e-03:5]|ENSG00000227232:2@Brain_Nucleus_accumbens_basal_ganglia=3.00981e-04[4.384e-03:5]\n",
      "chr1\t63697\trs111440589\tT\tC\tENSG00000238009:1@Testis=9.89998e-01[9.998e-01:2]|ENSG00000186092:1@Brain_Amygdala=7.62070e-03[4.482e-02:5]|ENSG00000240361:2@Brain_Amygdala=5.16437e-03[1.777e-02:5]|ENSG00000240361:2@Heart_Left_Ventricle=3.34933e-03[1.273e-02:2]|ENSG00000227232:1@Brain_Amygdala=8.40382e-04[4.281e-03:5]|ENSG00000186092:1@Brain_Hypothalamus=7.22836e-04[5.400e-03:5]|ENSG00000186092:2@Brain_Hippocampus=7.12720e-04[3.947e-03:5]|ENSG00000227232:2@Colon_Transverse=5.71991e-04[3.086e-03:3]|ENSG00000227232:1@Brain_Anterior_cingulate_cortex_BA24=3.77852e-04[1.047e-02:5]|ENSG00000227232:2@Brain_Nucleus_accumbens_basal_ganglia=3.55612e-04[4.384e-03:5]|ENSG00000227232:2@Brain_Hypothalamus=3.20560e-04[9.544e-03:5]\n",
      "chr1\t64764\trs769952832\tC\tT\tENSG00000227232:1@Adipose_Subcutaneous=9.99598e-01[9.996e-01:1]|ENSG00000227232:1@Skin_Sun_Exposed=9.98360e-01[9.984e-01:1]|ENSG00000227232:1@Colon_Transverse=9.97916e-01[9.979e-01:1]|ENSG00000227232:1@Skin_Not_Sun_Exposed=9.93982e-01[9.940e-01:1]|ENSG00000227232:1@Esophagus_Muscularis=9.75643e-01[9.756e-01:1]|ENSG00000227232:1@Muscle_Skeletal=9.69639e-01[9.696e-01:1]|ENSG00000227232:1@Esophagus_Mucosa=9.37317e-01[9.373e-01:1]|ENSG00000227232:1@Artery_Aorta=9.32123e-01[9.321e-01:1]|ENSG00000227232:1@Heart_Left_Ventricle=9.20488e-01[9.566e-01:2]|ENSG00000227232:1@Testis=8.64263e-01[8.643e-01:1]|ENSG00000227232:1@Thyroid=8.02406e-01[8.024e-01:1]|ENSG00000227232:1@Colon_Sigmoid=6.20858e-01[6.209e-01:1]|ENSG00000227232:1@Esophagus_Gastroesophageal_Junction=4.79992e-01[4.800e-01:1]|ENSG00000227232:1@Pancreas=3.34999e-01[3.350e-01:1]|ENSG00000227232:1@Spleen=2.67848e-01[2.678e-01:1]|ENSG00000227232:1@Artery_Tibial=2.20328e-01[2.203e-01:1]|ENSG00000227232:1@Adipose_Visceral_Omentum=9.99200e-02[9.992e-02:1]|ENSG00000227232:1@Adrenal_Gland=9.54900e-02[9.549e-02:1]|ENSG00000227232:1@Whole_Blood=5.65108e-02[1.000e+00:3]|ENSG00000227232:1@Brain_Putamen_basal_ganglia=5.02466e-02[5.025e-02:1]|ENSG00000227232:1@Brain_Cortex=2.04707e-02[2.047e-02:1]|ENSG00000227232:1@Pituitary=1.61621e-02[1.616e-02:1]|ENSG00000227232:1@Liver=1.52671e-02[1.527e-02:1]|ENSG00000227232:1@Heart_Atrial_Appendage=7.12666e-03[7.127e-03:1]|ENSG00000227232:1@Brain_Hypothalamus=6.92206e-03[6.922e-03:1]|ENSG00000227232:1@Brain_Cerebellum=4.46138e-03[4.461e-03:1]|ENSG00000279457:1@Adipose_Visceral_Omentum=3.69563e-03[3.696e-03:1]|ENSG00000186092:1@Brain_Substantia_nigra=3.67102e-03[3.671e-03:1]|ENSG00000186092:1@Kidney_Cortex=3.31352e-03[3.314e-03:1]|ENSG00000227232:1@Artery_Coronary=3.22285e-03[3.341e-03:2]|ENSG00000186092:2@Brain_Anterior_cingulate_cortex_BA24=3.15623e-03[3.156e-03:1]|ENSG00000227232:1@Cells_EBV-transformed_lymphocytes=2.42762e-03[2.428e-03:1]|ENSG00000186092:1@Brain_Caudate_basal_ganglia=2.31129e-03[2.311e-03:1]|ENSG00000279457:2@Heart_Left_Ventricle=1.78833e-03[3.558e-03:2]|ENSG00000186092:1@Brain_Nucleus_accumbens_basal_ganglia=1.58049e-03[1.580e-03:1]|ENSG00000186092:1@Brain_Hippocampus=1.57790e-03[1.578e-03:1]|ENSG00000186092:2@Brain_Hypothalamus=1.55500e-03[1.555e-03:1]|ENSG00000227232:2@Prostate=1.45215e-03[1.452e-03:1]|ENSG00000186092:2@Heart_Left_Ventricle=1.38183e-03[1.382e-03:1]|ENSG00000279457:2@Esophagus_Mucosa=1.29722e-03[1.297e-03:1]|ENSG00000227232:2@Brain_Caudate_basal_ganglia=7.58299e-04[7.583e-04:1]|ENSG00000227232:2@Brain_Frontal_Cortex_BA9=7.12953e-04[7.130e-04:1]|ENSG00000227232:1@Minor_Salivary_Gland=5.96176e-04[6.366e-04:2]\n",
      "\n",
      "gzip: stdout: Broken pipe\n"
     ]
    }
   ],
   "source": [
    "zcat /restricted/projectnb/casa/oaolayin/gtex_v8.eqtl_annot_rsid.vcf.gz | head "
   ]
  },
  {
   "cell_type": "markdown",
   "metadata": {
    "kernel": "SoS"
   },
   "source": [
    "In the first step we convert the susie objects into one table for use with fastENLOC."
   ]
  },
  {
   "cell_type": "code",
   "execution_count": 2,
   "metadata": {
    "kernel": "SoS"
   },
   "outputs": [],
   "source": [
    "[fastenloc_1]\n",
    "task: trunk_workers = 1, trunk_size = job_size, walltime = walltime, mem = mem, cores = numThreads, tags = f'{step_name}_{_output:bn}'\n",
    "R: expand= \"$[ ]\", container = container\n",
    "  susie_tbl = read.csv('$[file_table]', sep = \"\\t\")\n",
    "  out_tbl = list()\n",
    "  out_tbl$var = c()\n",
    "  out_tbl$pip = c()\n",
    "  out_tbl$set = c()\n",
    "  for(idx in seq(1,nrow(susie_tbl))) {\n",
    "    ld_block = susie_tbl$ld_block[idx]\n",
    "    filename = susie_tbl$susie_object_file[idx]\n",
    "    ssie = readRDS(filename)\n",
    "    vars = ssie$variants\n",
    "    out_tbl$var = c(out_tbl$var, vars)\n",
    "    out_tbl$set = c(out_tbl$set, rep(ld_block, length(vars)))\n",
    "    pip = ssie$pip\n",
    "    out_tbl$pip = c(out_tbl$pip, pip)\n",
    "  }\n",
    "  out_tbl = as.data.frame(out_tbl)\n",
    "  gzf = gzfile('$[out_file]', 'w+')\n",
    "  write.table(out_tbl, gzf, sep = \"\\t\", quote = F, row.names = F, col.names = F)\n",
    "  close(gzf)"
   ]
  },
  {
   "cell_type": "markdown",
   "metadata": {
    "kernel": "SoS"
   },
   "source": [
    "And then run fastenloc on that table"
   ]
  },
  {
   "cell_type": "code",
   "execution_count": 3,
   "metadata": {
    "kernel": "SoS"
   },
   "outputs": [],
   "source": [
    "[fastenloc_2]\n",
    "task: trunk_workers = 1, trunk_size = job_size, walltime = walltime, mem = mem, cores = numThreads, tags = f'{step_name}_{_output:bn}'\n",
    "sh: expand=True, container = container\n",
    "    fastenloc -eqtl {eqtl_vcf} -gwas {out_file} -t {tissue} -prefix {out_pre}"
   ]
  },
  {
   "cell_type": "markdown",
   "metadata": {
    "kernel": "SoS"
   },
   "source": [
    "# Example\n",
    "We now run an example of this using the vcf file generated from the sample of susie eQTLs."
   ]
  },
  {
   "cell_type": "code",
   "execution_count": 2,
   "metadata": {
    "kernel": "Bash"
   },
   "outputs": [
    {
     "name": "stdout",
     "output_type": "stream",
     "text": [
      "INFO: Running \u001b[32msusie_to_dapg_1\u001b[0m: \n",
      "\u001b[?25h\u001b[?25h\u001b[?25h\u001b[?25h\u001b[?25h\u001b[?25h\u001b[?25h\u001b[?25h\u001b[?25h\u001b[?25hINFO: \u001b[32msusie_to_dapg_1\u001b[0m is \u001b[32mcompleted\u001b[0m.\n",
      "INFO: Running \u001b[32msusie_to_dapg_2\u001b[0m: \n",
      "INFO: \u001b[32msusie_to_dapg_2\u001b[0m is \u001b[32mcompleted\u001b[0m.\n",
      "INFO: Running \u001b[32msusie_to_dapg_3\u001b[0m: \n",
      "INFO: \u001b[32msusie_to_dapg_3\u001b[0m is \u001b[32mcompleted\u001b[0m.\n",
      "INFO: Workflow susie_to_dapg (ID=w71c58bd2bc7b2d49) is executed successfully with 3 completed steps.\n"
     ]
    }
   ],
   "source": [
    "export SINGULARITY_BIND=\"/restricted/projectnb/amp-ad/,/restricted/projectnb/casa,/scratch/\"\n",
    "sos run /restricted/projectnb/casa/oaolayin/xqtl-pipeline/code/intact_pipeline/fastenloc.ipynb susie_to_dapg \\\n",
    "    --susie-table /restricted/projectnb/casa/oaolayin/AD_GWAS_sum_stats/fastenloc/susie_tables/eqtl_susie_table_ex.tsv \\\n",
    "    --out-vcf /restricted/projectnb/casa/oaolayin/AD_GWAS_sum_stats/fastenloc/susie_tables/test.vcf \\\n",
    "    --tissue DLPFC --container /restricted/projectnb/casa/oaolayin/xqtl-pipeline/container/singularity/fastenloc.sif"
   ]
  },
  {
   "cell_type": "code",
   "execution_count": 2,
   "metadata": {
    "kernel": "Bash"
   },
   "outputs": [
    {
     "name": "stdout",
     "output_type": "stream",
     "text": [
      "INFO: Running \u001b[32mfastenloc_1\u001b[0m: \n",
      "WARNING: ignoring environment value of R_HOME\n",
      "INFO: \u001b[32mfastenloc_1\u001b[0m is \u001b[32mcompleted\u001b[0m.\n",
      "INFO: Running \u001b[32mfastenloc_2\u001b[0m: \n",
      "\t\t==================================================================\n",
      "\n",
      "\t\t                     fastENLOC (v2.0)                        \n",
      "\n",
      "\t\t                        April, 2022                              \n",
      "\n",
      "\t\t==================================================================\n",
      "\n",
      "\n",
      "Warning: total number of GWAS variants is unspecified (use \"-tv\" option to specify)\n",
      "\n",
      "Parameters and options:\n",
      "\n",
      "Input files:\n",
      "    * Molecular qtl annotation file: /restricted/projectnb/casa/oaolayin/AD_GWAS_sum_stats/fastenloc/susie_tables/test.vcf.gz\n",
      "    * GWAS fine-mapping file: /scratch/199892.1.ood/tmp.JZJD71q8Uz\n",
      "    * Tissue specified: DLPFC\n",
      "\n",
      "Enrichment parameters:\n",
      "    * Rounds of multiple imputation: 25\n",
      "    * Shrinkage parameter: 1.0\n",
      "\n",
      "Miscsellaneous options:\n",
      "    * Total GWAS variants: unspecified, use GWAS file input\n",
      "    * Simultaneous running threads: 1\n",
      "\n",
      "Output options:\n",
      "    * Output file prefix: /restricted/projectnb/casa/oaolayin/fastenloc_test/kunkle_DLPFC\n",
      "    * RCP and SCP output threshold: 1.0e-04\n",
      "\n",
      "\n",
      "Processing eQTL annotations ... \n",
      "read in 589 SNPs, 23 eQTL signal clusters, 22.3 expected eQTLs\n",
      "\n",
      "Processing complex trait data ... \n",
      "read in 15084065 SNPs (eQTL+gwas), 1345 GWAS loci, 6166.3 expected hits\n",
      "\n",
      "Imputation round  1 is completed\n",
      "Imputation round  2 is completed\n",
      "Imputation round  3 is completed\n",
      "Imputation round  4 is completed\n",
      "Imputation round  5 is completed\n",
      "Imputation round  6 is completed\n",
      "Imputation round  7 is completed\n",
      "Imputation round  8 is completed\n",
      "Imputation round  9 is completed\n",
      "Imputation round 10 is completed\n",
      "Imputation round 11 is completed\n",
      "Imputation round 12 is completed\n",
      "Imputation round 13 is completed\n",
      "Imputation round 14 is completed\n",
      "Imputation round 15 is completed\n",
      "Imputation round 16 is completed\n",
      "Imputation round 17 is completed\n",
      "Imputation round 18 is completed\n",
      "Imputation round 19 is completed\n",
      "Imputation round 20 is completed\n",
      "Imputation round 21 is completed\n",
      "Imputation round 22 is completed\n",
      "Imputation round 23 is completed\n",
      "Imputation round 24 is completed\n",
      "Imputation round 25 is completed\n",
      "\n",
      "Enrichment analysis is completed\n",
      "\n",
      "Computing colocalization probabilities ... \n",
      "\n",
      "\n",
      "fastENLOC analysis is completed with 1 warning\n",
      "\n",
      "INFO: \u001b[32mfastenloc_2\u001b[0m is \u001b[32mcompleted\u001b[0m.\n",
      "INFO: Workflow fastenloc (ID=wa76178fdd12fcf8b) is executed successfully with 2 completed steps.\n"
     ]
    }
   ],
   "source": [
    "export SINGULARITY_BIND=\"/restricted/projectnb/amp-ad/,/restricted/projectnb/casa,/scratch/\"\n",
    "tmp_file=$(mktemp)\n",
    "sos run /restricted/projectnb/casa/oaolayin/xqtl-pipeline/code/intact_pipeline/fastenloc.ipynb fastenloc \\\n",
    "    --file-table /restricted/projectnb/casa/oaolayin/AD_GWAS_sum_stats/fastenloc/susie_tables/kunkle.tsv \\\n",
    "    --eqtl-vcf /restricted/projectnb/casa/oaolayin/AD_GWAS_sum_stats/fastenloc/susie_tables/test.vcf.gz \\\n",
    "    --out-file ${tmp_file} --out-pre /restricted/projectnb/casa/oaolayin/fastenloc_test/kunkle_DLPFC --tissue DLPFC \\\n",
    "    --container /restricted/projectnb/casa/oaolayin/xqtl-pipeline/container/singularity/fastenloc.sif"
   ]
  },
  {
   "cell_type": "markdown",
   "metadata": {
    "kernel": "Bash"
   },
   "source": [
    "## Output\n",
    "Information on the fastENLOC outputs can be found [here](https://github.com/xqwen/fastenloc/blob/master/tutorial/README.md). "
   ]
  },
  {
   "cell_type": "code",
   "execution_count": 6,
   "metadata": {
    "kernel": "Bash"
   },
   "outputs": [
    {
     "name": "stdout",
     "output_type": "stream",
     "text": [
      "==> /restricted/projectnb/casa/oaolayin/fastenloc_test/kunkle_DLPFC.enloc.enrich.out <==\n",
      "                Intercept    -7.802           -\n",
      "Enrichment (no shrinkage)     1.853     3696.712\n",
      "Enrichment (w/ shrinkage)     0.000       1.000\n",
      "\n",
      "\n",
      "## Alternative (coloc) parameterization: p1 = 4.088e-04, p2 = 1.476e-06, p12 = 6.038e-10\n",
      "\n",
      "\n",
      "==> /restricted/projectnb/casa/oaolayin/fastenloc_test/kunkle_DLPFC.enloc.gene.out <==\n",
      "Gene\t\tGRCP\tGLCP\n",
      "ENSG00000000457\t\t2.250e-03\t9.590e-02\n",
      "ENSG00000000971\t\t0.000e+00\t0.000e+00\n",
      "ENSG00000001084\t\t5.420e-05\t6.338e-04\n",
      "ENSG00000001167\t\t4.646e-04\t1.021e-02\n",
      "ENSG00000001460\t\t0.000e+00\t0.000e+00\n",
      "ENSG00000001461\t\t0.000e+00\t0.000e+00\n",
      "ENSG00000001561\t\t2.034e-04\t2.624e-03\n",
      "ENSG00000001626\t\t0.000e+00\t0.000e+00\n",
      "ENSG00000001629\t\t1.429e-03\t5.209e-02\n",
      "ENSG00000001630\t\t1.794e-03\t1.040e-01\n",
      "ENSG00000002016\t\t0.000e+00\t0.000e+00\n",
      "ENSG00000002745\t\t5.529e-04\t1.674e-03\n",
      "ENSG00000002822\t\t2.165e-03\t2.726e-02\n",
      "ENSG00000002834\t\t5.972e-04\t5.972e-04\n",
      "ENSG00000002933\t\t0.000e+00\t0.000e+00\n",
      "\n",
      "==> /restricted/projectnb/casa/oaolayin/fastenloc_test/kunkle_DLPFC.enloc.sig.out <==\n",
      "Signal\tNum_SNP\tCPIP_qtl\tCPIP_gwas_marginal\tCPIP_gwas_qtl_prior\tRCP\tLCP\n",
      "ENSG00000000457:1(@)chr1_168438717_170228106     93  9.507e-01 9.243e-02    9.243e-02      9.494e-04\t8.787e-02\n",
      "ENSG00000000457:2(@)chr1_168438717_170228106      7  9.580e-01 9.184e-03    9.184e-03      1.302e-03\t8.798e-03\n",
      "ENSG00000001084:1(@)chr6_52730905_54027603     12  9.779e-01 6.482e-04    6.482e-04      5.420e-05\t6.338e-04\n",
      "ENSG00000001167:1(@)chr6_40377803_42070711     23  9.816e-01 1.040e-02    1.040e-02      4.646e-04\t1.021e-02\n",
      "ENSG00000001561:1(@)chr6_45129743_47741698     13  9.763e-01 2.688e-03    2.688e-03      2.034e-04\t2.624e-03\n",
      "ENSG00000001629:2(@)chr7_91032230_93795104     63  9.722e-01 4.604e-02    4.604e-02      7.931e-04\t4.476e-02\n",
      "ENSG00000001629:1(@)chr7_91032230_93795104     12  9.550e-01 8.038e-03    8.038e-03      6.368e-04\t7.676e-03\n",
      "ENSG00000001630:1(@)chr7_91032230_93795104     92  9.500e-01 1.095e-01    1.095e-01      1.794e-03\t1.040e-01\n",
      "ENSG00000002745:1(@)chr7_118713025_122731183      3  9.663e-01 1.732e-03    1.732e-03      5.529e-04\t1.674e-03\n",
      "ENSG00000002822:3(@)chr7_1196882_2640020     13  9.502e-01 9.223e-03    9.223e-03      6.615e-04\t8.764e-03\n",
      "ENSG00000002822:1(@)chr7_1196882_2640020     11  9.529e-01 8.958e-03    8.958e-03      7.878e-04\t8.536e-03\n",
      "ENSG00000002822:2(@)chr7_1196882_2640020     14  9.628e-01 1.060e-02    1.060e-02      7.170e-04\t1.021e-02\n",
      "ENSG00000002834:1(@)chr17_37727883_40721028      1  9.995e-01 5.975e-04    5.975e-04      5.972e-04\t5.972e-04\n",
      "\n",
      "==> /restricted/projectnb/casa/oaolayin/fastenloc_test/kunkle_DLPFC.enloc.snp.out <==\n",
      "Signal\tSNP\tPIP_qtl\tPIP_gwas_marginal\tPIP_gwas_qtl_prior\tSCP\n",
      "ENSG00000000457:2(@)chr1_168438717_170228106   chr1_169883710_T_C   1.060e-01 1.151e-03    1.151e-03      1.221e-04\n",
      "ENSG00000000457:2(@)chr1_168438717_170228106   chr1_169891058_C_T   1.958e-01 1.365e-03    1.365e-03      2.673e-04\n",
      "ENSG00000000457:2(@)chr1_168438717_170228106   chr1_169892071_T_C   1.569e-01 1.369e-03    1.369e-03      2.149e-04\n",
      "ENSG00000000457:2(@)chr1_168438717_170228106   chr1_169910890_G_T   2.678e-01 1.418e-03    1.418e-03      3.798e-04\n",
      "ENSG00000000457:2(@)chr1_168438717_170228106   chr1_169912320_T_A   1.945e-01 1.412e-03    1.412e-03      2.745e-04\n",
      "ENSG00000001629:1(@)chr7_91032230_93795104   chr7_92356557_A_G   1.751e-01 6.106e-04    6.106e-04      1.069e-04\n",
      "ENSG00000001629:1(@)chr7_91032230_93795104   chr7_92366996_T_C   2.574e-01 6.194e-04    6.194e-04      1.594e-04\n",
      "ENSG00000001629:1(@)chr7_91032230_93795104   chr7_92373841_CTTGT_C   2.023e-01 7.912e-04    7.912e-04      1.600e-04\n",
      "ENSG00000001629:1(@)chr7_91032230_93795104   chr7_92386708_T_C   1.921e-01 6.180e-04    6.180e-04      1.187e-04\n",
      "ENSG00000001630:1(@)chr7_91032230_93795104   chr7_92256559_A_G   6.077e-02 2.197e-03    2.197e-03      1.335e-04\n",
      "ENSG00000001630:1(@)chr7_91032230_93795104   chr7_92260408_G_A   6.077e-02 2.031e-03    2.031e-03      1.234e-04\n",
      "ENSG00000001630:1(@)chr7_91032230_93795104   chr7_92288831_A_G   6.077e-02 2.244e-03    2.244e-03      1.364e-04\n",
      "ENSG00000001630:1(@)chr7_91032230_93795104   chr7_92303352_A_G   6.160e-02 2.018e-03    2.018e-03      1.243e-04\n",
      "ENSG00000001630:1(@)chr7_91032230_93795104   chr7_92322528_C_A   7.281e-02 2.103e-03    2.103e-03      1.531e-04\n",
      "ENSG00000001630:1(@)chr7_91032230_93795104   chr7_92347912_G_A   5.151e-02 2.104e-03    2.104e-03      1.084e-04\n",
      "ENSG00000001630:1(@)chr7_91032230_93795104   chr7_92358388_T_C   6.077e-02 2.136e-03    2.136e-03      1.298e-04\n",
      "ENSG00000001630:1(@)chr7_91032230_93795104   chr7_92369341_A_C   6.077e-02 2.133e-03    2.133e-03      1.296e-04\n",
      "ENSG00000001630:1(@)chr7_91032230_93795104   chr7_92378906_A_G   6.077e-02 2.148e-03    2.148e-03      1.305e-04\n",
      "ENSG00000001630:1(@)chr7_91032230_93795104   chr7_92397873_A_G   6.782e-02 2.046e-03    2.046e-03      1.388e-04\n",
      "ENSG00000001630:1(@)chr7_91032230_93795104   chr7_92399988_G_A   6.077e-02 2.277e-03    2.277e-03      1.384e-04\n",
      "ENSG00000002745:1(@)chr7_118713025_122731183   chr7_121255331_T_C   3.638e-01 5.761e-04    5.761e-04      2.096e-04\n",
      "ENSG00000002745:1(@)chr7_118713025_122731183   chr7_121267661_C_G   4.735e-01 5.636e-04    5.636e-04      2.669e-04\n",
      "ENSG00000002822:3(@)chr7_1196882_2640020   chr7_1886454_A_G   2.086e-01 7.016e-04    7.016e-04      1.464e-04\n",
      "ENSG00000002822:3(@)chr7_1196882_2640020   chr7_1886941_T_C   2.087e-01 6.957e-04    6.957e-04      1.452e-04\n",
      "ENSG00000002822:3(@)chr7_1196882_2640020   chr7_1887109_G_A   1.984e-01 6.941e-04    6.941e-04      1.377e-04\n",
      "ENSG00000002822:1(@)chr7_1196882_2640020   chr7_2193822_G_A   5.997e-01 8.381e-04    8.381e-04      5.026e-04\n",
      "ENSG00000002822:2(@)chr7_1196882_2640020   chr7_2189069_G_C   2.554e-01 7.192e-04    7.192e-04      1.836e-04\n",
      "ENSG00000002822:2(@)chr7_1196882_2640020   chr7_2197563_C_G   1.538e-01 7.529e-04    7.529e-04      1.158e-04\n",
      "ENSG00000002822:2(@)chr7_1196882_2640020   chr7_2200459_C_T   1.399e-01 7.437e-04    7.437e-04      1.041e-04\n",
      "ENSG00000002834:1(@)chr17_37727883_40721028   chr17_38880301_G_A   9.995e-01 5.975e-04    5.975e-04      5.972e-04\n"
     ]
    }
   ],
   "source": [
    "head -n 100 /restricted/projectnb/casa/oaolayin/fastenloc_test/kunkle_DLPFC*"
   ]
  }
 ],
 "metadata": {
  "kernelspec": {
   "display_name": "SoS",
   "language": "sos",
   "name": "sos"
  },
  "language_info": {
   "codemirror_mode": "sos",
   "file_extension": ".sos",
   "mimetype": "text/x-sos",
   "name": "sos",
   "nbconvert_exporter": "sos_notebook.converter.SoS_Exporter",
   "pygments_lexer": "sos"
  },
  "sos": {
   "kernels": [
    [
     "Bash",
     "bash",
     "Bash",
     "#E6EEFF",
     "shell"
    ],
    [
     "SoS",
     "sos",
     "",
     "",
     "sos"
    ]
   ],
   "panel": {
    "displayed": true,
    "height": 0
   },
   "version": "0.24.1"
  }
 },
 "nbformat": 4,
 "nbformat_minor": 4
}
