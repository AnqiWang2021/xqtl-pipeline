{
 "cells": [
  {
   "cell_type": "markdown",
   "metadata": {
    "kernel": "SoS",
    "tags": []
   },
   "source": [
    "# PTWAS Implementation in R\n"
   ]
  },
  {
   "cell_type": "markdown",
   "metadata": {
    "kernel": "SoS"
   },
   "source": [
    "This module contains the software implementations to perform transcriptome-wide association analysis (TWAS). These methods are designed to perform rigorous causal inference connecting genes to complex traits. The statistical models and the key algorithms are described in the (manuscript](https://www.biorxiv.org/content/10.1101/808295v1).     \n",
    "**PTWAS using the ouptut from DAPG and is written by C++. Here we are going to use susie objects instead and convert the codes into R.**"
   ]
  },
  {
   "cell_type": "markdown",
   "metadata": {
    "kernel": "SoS"
   },
   "source": [
    "## Overview\n",
    "\n",
    "The goal of this module is to perform PTWAS analysis from SuSiE objects, including:\n",
    "1. Extract weights from eQTL susie objects. \n",
    "2. Conversion of GWAS sumstats to the format with z-scores. \n",
    "3. Run PTWAS with R codes.  \n"
   ]
  },
  {
   "cell_type": "markdown",
   "metadata": {
    "kernel": "SoS"
   },
   "source": [
    "### Input\n",
    "1. QTL susie table：\n",
    "    - This table has two columns for `moleculart_trait_id` and `susie_file`: target gene and corresponding susie output rds respectively.\n",
    "2. GWAS sumstats results (tsv format)    \n",
    "3. LD refrence \n",
    "\n",
    "### Ouput\n",
    "1. susie weight table\n",
    "2. re-formatted GWAS sumstats results\n",
    "3. PTWAS results"
   ]
  },
  {
   "cell_type": "code",
   "execution_count": null,
   "metadata": {
    "kernel": "SoS"
   },
   "outputs": [],
   "source": [
    "[global]\n",
    "# Workdir\n",
    "parameter: cwd = path(\"output\")\n",
    "parameter: container = ''\n",
    "import re\n",
    "parameter: entrypoint= ('micromamba run -a \"\" -n' + ' ' + re.sub(r'(_apptainer:latest|_docker:latest|\\.sif)$', '', container.split('/')[-1])) if container else \"\"\n",
    "parameter: job_size = 100\n",
    "parameter: walltime = \"1h\"\n",
    "parameter: mem = \"16G\"\n",
    "parameter: numThreads = 1"
   ]
  },
  {
   "cell_type": "markdown",
   "metadata": {
    "kernel": "SoS"
   },
   "source": [
    "## GWAS data_prep \n",
    "\n"
   ]
  },
  {
   "cell_type": "code",
   "execution_count": null,
   "metadata": {
    "kernel": "SoS",
    "vscode": {
     "languageId": "r"
    }
   },
   "outputs": [],
   "source": [
    "[gwas_ptwas_prep]\n",
    "parameter: ptwas_weights=\"\"\n",
    "parameter: gwas_basepath=\"\"\n",
    "input: ptwas_weights\n",
    "output: f\"{cwd}/ptwas/{gwas_basepath.rstrip('/').split('/')[-1]}.gambitgwas.txt\"\n",
    "task: trunk_workers = 1, trunk_size = job_size, walltime = walltime, mem = mem, cores = numThreads, tags = f'{step_name}_{_output:bn}'\n",
    "R: expand= \"${ }\", stderr = f'{_output:nn}.stderr', stdout = f'{_output:nn}.stdout'\n",
    "    library(tidyverse)\n",
    "    target_variants <- read_delim(\n",
    "        \"${ptwas_weights}\",\n",
    "        delim = \"\\t\",\n",
    "        show_col_types = FALSE) %>%\n",
    "        mutate(id = gsub(\":\", \"_\", variant)) %>%\n",
    "        pull(id) %>%\n",
    "        unique()\n",
    "\n",
    "    gwas_basepath <- \"${gwas_basepath}\"\n",
    "    gwas <- data.frame(matrix(ncol=12, nrow=0))\n",
    "\n",
    "    for (gwasfile in list.files(gwas_basepath)) {\n",
    "        gwaschr <- read_delim(\n",
    "            paste0(gwas_basepath, gwasfile),\n",
    "            delim = \"\\t\",\n",
    "            show_col_types = FALSE) %>%\n",
    "            filter(variant %in% target_variants)\n",
    "        gwas <- if (nrow(gwas) < 1) gwaschr else rbind(gwas, gwaschr)\n",
    "    }\n",
    "\n",
    "    #gwas$chromosome <- paste0('chr', gwas$chromosome)\n",
    "    gwas$ZSCORE <- gwas$beta/gwas$se\n",
    "    gwas$N <- gwas$n_cases + gwas$n_controls\n",
    "    gwas$SNP_ID <- gwas$variant\n",
    "    gambitgwas <- gwas %>% subset(select=c(\"chromosome\", \"position\", \"ref\", \"alt\", \"SNP_ID\", \"N\", \"ZSCORE\"))\n",
    "    colnames(gambitgwas) <- c(\"#CHR\", \"POS\", \"REF\", \"ALT\", \"SNP_ID\", \"N\", \"ZSCORE\")\n",
    "\n",
    "    write_delim(\n",
    "        gambitgwas,\n",
    "        \"${_output}\",\n",
    "        delim = \"\\t\",\n",
    "        append = TRUE,\n",
    "        col_names = TRUE,\n",
    "        quote = \"none\")\n",
    "  \n",
    "  \n",
    "  \n",
    "    # Create Genotype SNPMatrix\n",
    "    genotype_data <- BEDMatrix(\"${_input:n}\")\n",
    "    genotype_bim<-fread(gsub(\".bed\",\".bim\",\"${_input}\"))\n",
    "    plink_snps <- colnames(genotype_data)<-genotype_bim$V2\n",
    "    # Get Variants Present in Ref Panel\n",
    "    ld_variants <- generate_index(colnames(genotype_data))\n",
    "    input_dataframe <- read.csv(paste0(\"${cwd:a}\",\"/ptwas/cache/input_dataframe.txt\"),sep ='\\t',check.names = F)\n",
    "    #results <- input_dataframe %>%\n",
    "    #    filter(gene_id == grep(\"ENSG\", unlist(strsplit(\"${_input}\", split = '\\\\.')), value = TRUE)) %>%\n",
    "    #    filter(uber_id %in% ld_variants) %>%\n",
    "    #    mutate(weight = as.double(weight)) %>%\n",
    "    #    group_by(gene_id, tissue) \n",
    "\n",
    "    target_gene_ids <- str_extract_all(\"${_input}\", \"ENSG[0-9]+\")[[1]]\n",
    "    \n",
    "    results <- input_dataframe %>%\n",
    "            filter(sapply(gene_id, function(x) any(str_detect(x, target_gene_ids)))) %>%\n",
    "            filter(uber_id %in% ld_variants) %>%\n",
    "            mutate(weight = as.double(weight)) %>%\n",
    "            group_by(gene_id, tissue)\n",
    "    # in sQTL, there could be > 1 splicing events target the same gene\n",
    "    gene_ids <- unique(results$gene_id)\n",
    "\n",
    "    results_final <- data.frame()\n",
    "    for(gene_id in gene_ids){\n",
    "        results_tmp <- results[results$gene_id==gene_id,]\n",
    "        results_tmp$nsnps = length(results_tmp$variant)\n",
    "        results_tmp$burden_pval = burden(results_tmp$variant, results_tmp$SNP_ID, results_tmp$uber_id, genotype_data, ld_variants, results_tmp$weight, results_tmp$Z)\n",
    "        results_tmp$stat = burden(results_tmp$variant, results_tmp$SNP_ID, results_tmp$uber_id, genotype_data, ld_variants, results_tmp$weight, results_tmp$Z,TRUE)\n",
    "        results_tmp$class = \"sQTL\"\n",
    "        results_tmp <- results_tmp %>% ungroup()\n",
    "        results_final <- rbind(results_final, results_tmp)\n",
    "    }\n",
    "\n",
    "      write.table(\n",
    "        results_final %>%\n",
    "            group_by(gene_id, tissue) %>%\n",
    "            mutate(POS = paste0(min(POS), \"-\", max(POS))) %>%\n",
    "            ungroup() %>%\n",
    "            subset(\n",
    "                select=c(\"#CHR\", \"POS\", \"gene_id\", \"class\", \"tissue\", \"nsnps\", \"stat\", \"burden_pval\")) %>%\n",
    "            dplyr::rename(GENE=gene_id, CLASS=class, SUBCLASS=tissue, NSNPS=nsnps, STAT=stat, PVAL=burden_pval) %>%\n",
    "            distinct(GENE, SUBCLASS, .keep_all = TRUE),\n",
    "        \"${_output}\",\n",
    "        sep = \"\\t\",\n",
    "        append = FALSE,\n",
    "        quote = FALSE)"
   ]
  },
  {
   "cell_type": "markdown",
   "metadata": {
    "kernel": "SoS",
    "vscode": {
     "languageId": "r"
    }
   },
   "source": [
    "**output_2**: re-formatted GWAS sumstats results\n",
    "\n"
   ]
  },
  {
   "cell_type": "code",
   "execution_count": 7,
   "metadata": {
    "kernel": "Bash",
    "tags": [],
    "vscode": {
     "languageId": "shellscript"
    }
   },
   "outputs": [
    {
     "name": "stdout",
     "output_type": "stream",
     "text": [
      "#CHR\tPOS\tREF\tALT\tSNP_ID\tN\tZSCORE\n",
      "1\t24080045\tG\tA\tchr1_24080045_G_A\t487511\t-2.264705882352941\n",
      "1\t24080157\tG\tA\tchr1_24080157_G_A\t487511\t2.1585365853658534\n",
      "1\t24080563\tC\tT\tchr1_24080563_C_T\t487511\t2.012048192771084\n",
      "1\t24080644\tC\tT\tchr1_24080644_C_T\t487511\t2.1463414634146343\n",
      "1\t24080863\tG\tA\tchr1_24080863_G_A\t487511\t2.207317073170732\n",
      "1\t24080867\tG\tA\tchr1_24080867_G_A\t487511\t2.2560975609756095\n",
      "1\t24081747\tA\tG\tchr1_24081747_A_G\t487511\t2.170731707317073\n",
      "1\t24081924\tC\tT\tchr1_24081924_C_T\t487511\t2.170731707317073\n",
      "1\t24082275\tT\tC\tchr1_24082275_T_C\t487511\t2.1585365853658534\n"
     ]
    }
   ],
   "source": [
    "head output/ADGWAS_Bellenguez_2022.gambitgwas.txt\n"
   ]
  },
  {
   "cell_type": "markdown",
   "metadata": {
    "kernel": "SoS"
   },
   "source": [
    "## PTWAS scan\n",
    "This portion contains code for running the PTWAS scan as implemented in GAMBIT. \n"
   ]
  },
  {
   "cell_type": "markdown",
   "metadata": {
    "kernel": "SoS"
   },
   "source": [
    "\n",
    "### Input\n",
    "\n",
    "- eQTL Weights\n",
    "    File susiet contains eQTL weights (formatting is up-for-debate). Maybe column 1 is SNP and column 2 is the weight.\n",
    "- GWAS Z-Scores\n",
    "    File that contains GWAS z-scores (or what makes up the z-scores). Column 1 is SNP, column 2 can be z-scores.\n",
    "- LD reference\n",
    "- region list\n",
    "\n",
    "\n",
    "### Output\n",
    "\n",
    "Same output as GAMBIT"
   ]
  },
  {
   "cell_type": "code",
   "execution_count": null,
   "metadata": {
    "kernel": "SoS",
    "vscode": {
     "languageId": "r"
    }
   },
   "outputs": [],
   "source": [
    "[ptwas]\n",
    "parameter: qtl_results_list = path\n",
    "parameter: gwas_sumstats = path\n",
    "parameter: ld_block_list = path\n",
    "parameter: p_suggestive = 1E-5\n",
    "input: [x for x in open(qtl_results).readlines()], group_by = 1, group_with = 'gwas_sumstats'\n",
    "output: f'{cwd}/{_input:bnn}.ptwas.rds'\n",
    "task: trunk_workers = 1, trunk_size = job_size, walltime = walltime, mem = mem, cores = numThreads, tags = f'{step_name}_{_output:bn}'\n",
    "R: expand= \"${ }\", stderr = f'{_output:nn}.stderr', stdout = f'{_output:nn}.stdout'\n",
    "    # 1. load QTL RDS file to figure out by variant ID the genomic region in question\n",
    "    # 2. load GWAS z-score and the corresponding LD matrices -- potentially from multiple pre-computed LD block files -- put together the new LD matrix for the region\n",
    "    # 3. use mungesumstats() to QC the LD matrix with summary stats especially allele flip; also look out for strand flip.\n",
    "    # 4. use twas_z() to compute TWAS results from multipile weights\n",
    "    # 5. use some p-value cutoff to loosely pick TWAS regions of interest then if the region passes the cutoff, save the QC-ed GWAS data in the format compatabile to https://github.com/cumc/pecotmr/blob/main/R/mr.R\n"
   ]
  },
  {
   "cell_type": "code",
   "execution_count": 8,
   "metadata": {
    "kernel": "Bash",
    "tags": [],
    "vscode": {
     "languageId": "shellscript"
    }
   },
   "outputs": [
    {
     "name": "stdout",
     "output_type": "stream",
     "text": [
      "gene_id\ttissue\tnsnps\tburden_pval\n",
      "ENSG00000000457\tDLPFC\t3023\t0.37256142427110756\n",
      "ENSG00000000971\tDLPFC\t7465\t0.35697314943086955\n",
      "ENSG00000001460\tDLPFC\t1999\t7.006837334425248e-71\n",
      "ENSG00000001461\tDLPFC\t1999\t9.897049424129262e-51\n",
      "ENSG00000002016\tDLPFC\t2710\t7.302886702775239e-20\n",
      "ENSG00000003056\tDLPFC\t6052\t3.7933865595690386e-23\n",
      "ENSG00000003249\tDLPFC\t2747\t4.742781958897929e-131\n",
      "ENSG00000002834\tDLPFC\t4430\t1.1702859075378423e-74\n",
      "ENSG00000003137\tDLPFC\t4655\t1.8083016266006384e-55\n"
     ]
    }
   ],
   "source": [
    "head output/DLPFC.ptwas.output\n"
   ]
  }
 ],
 "metadata": {
  "kernelspec": {
   "display_name": "SoS",
   "language": "sos",
   "name": "sos"
  },
  "language_info": {
   "codemirror_mode": "sos",
   "file_extension": ".sos",
   "mimetype": "text/x-sos",
   "name": "sos",
   "nbconvert_exporter": "sos_notebook.converter.SoS_Exporter",
   "pygments_lexer": "sos"
  },
  "sos": {
   "kernels": [
    [
     "Bash",
     "bash",
     "Bash",
     "#E6EEFF",
     "shell"
    ],
    [
     "SoS",
     "sos",
     "",
     "",
     "sos"
    ]
   ],
   "version": "0.20.1"
  }
 },
 "nbformat": 4,
 "nbformat_minor": 4
}
