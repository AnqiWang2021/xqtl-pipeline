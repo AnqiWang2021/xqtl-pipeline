{
 "cells": [
  {
   "cell_type": "markdown",
   "id": "1a60b315-e63f-4328-8c92-929f65850302",
   "metadata": {
    "kernel": "SoS",
    "tags": []
   },
   "source": [
    "# Demonstration of xQTL protocols\n",
    "\n",
    "This notebook described the complete process of xqtl analysis using 49 de-identified samples from ROS-MAP. The \n",
    "\n",
    "## Analysis\n",
    "\n",
    "To perform a complete analysis from molecular phenotype calling up to the xqtl discovery as demonstrated in the xqtl-protocol paper(in preparation), please read the ***mini protocols*** in the following orders:\n",
    "\n",
    "### Molecular phenotype calling\n",
    "\n",
    "1. [Reference data procession](https://cumc.github.io/xqtl-pipeline/code/data_preprocessing/reference_data.html)\n",
    "2. [Gene expression calling for eQTL](https://cumc.github.io/xqtl-pipeline/code/molecular_phenotypes/bulk_expression.html)\n",
    "3. [Alternative splicing calling for sQTL](https://cumc.github.io/xqtl-pipeline/code/molecular_phenotypes/splicing.html)\n",
    "\n",
    "### xQTL discovery\n",
    "\n",
    "1. [Phenotype Processing](https://cumc.github.io/xqtl-pipeline/code/data_preprocessing/phenotype_preprocessing.html)\n",
    "2. [Genotype Processing](https://cumc.github.io/xqtl-pipeline/code/data_preprocessing/genotype_preprocessing.html)\n",
    "3. [Covariates Processing](https://cumc.github.io/xqtl-pipeline/code/data_preprocessing/covariate_preprocessing.html)\n",
    "4. [CisQTL Association Scan](https://cumc.github.io/xqtl-pipeline/code/association_scan/cisQTL_scan.html)\n",
    "5. [TransQTL Association Scan](https://cumc.github.io/xqtl-pipeline/code/association_scan/transQeL_scan.html)\n",
    "\n",
    "\n",
    "\n",
    "\n",
    "## Software Enviorments (To be updated)\n",
    "\n",
    "\n"
   ]
  },
  {
   "cell_type": "markdown",
   "id": "dda0a341-fc47-4d54-a9ea-626e80822ba6",
   "metadata": {},
   "source": [
    "## Data \n",
    "\n",
    "The input data and some of the intermediate output data can be download from [this Synapse folder](https://www.synapse.org/#!Synapse:syn36416601). To download the files, a synapse account and synapse clients are both needed. To setup a synapse client, please follow [this post](https://help.synapse.org/docs/Installing-Synapse-API-Clients.1985249668.html).\n",
    "\n",
    "### Data generations\n",
    "\n",
    "Following codes documents the command used to generate the protocol data."
   ]
  },
  {
   "cell_type": "markdown",
   "id": "d4001951-ce72-41cd-89b9-87915fe4da7d",
   "metadata": {
    "kernel": "SoS",
    "tags": []
   },
   "source": [
    "#### Generating the reference data\n",
    "**Trouble: When running download_hg_reference, it is likely to recieve a connection time out error. Only way to solve it seems to be retrying/**"
   ]
  },
  {
   "cell_type": "markdown",
   "id": "437c2210-bab3-4c7e-a255-1e9fb011ee5b",
   "metadata": {
    "kernel": "SoS"
   },
   "source": [
    "Aproximate time: 60 min"
   ]
  },
  {
   "cell_type": "code",
   "execution_count": null,
   "id": "8ea1a412-4149-48da-be52-972f98f383f3",
   "metadata": {
    "kernel": "Bash"
   },
   "outputs": [],
   "source": [
    "sos run pipeline/reference_data.ipynb download_hg_reference --cwd reference_data    &\n",
    "sos run pipeline/reference_data.ipynb download_gene_annotation --cwd reference_data &\n",
    "sos run pipeline/reference_data.ipynb download_ercc_reference --cwd reference_data &\n",
    "sos run pipeline/reference_data.ipynb download_dbsnp --cwd reference_data &"
   ]
  },
  {
   "cell_type": "markdown",
   "id": "036edf1d-206f-450b-bfe7-117685c370c2",
   "metadata": {
    "kernel": "Bash"
   },
   "source": [
    "**Warning: Following step is memory intensive and should be ran using `-J 1 -c csg.yml -q csg` to be submitted to a cluster with a minimum of 16GB of mem (default)**\n",
    "\n",
    "To format reference data:"
   ]
  },
  {
   "cell_type": "code",
   "execution_count": null,
   "id": "782a40f6-a8f5-40fd-9c15-aac5aff1c577",
   "metadata": {
    "kernel": "Bash"
   },
   "outputs": [],
   "source": [
    "Aproximate time: 1  min\n",
    "Mem: 8 G"
   ]
  },
  {
   "cell_type": "code",
   "execution_count": null,
   "id": "e74a355e-534e-49f1-92f5-46d6b648cb3e",
   "metadata": {
    "kernel": "Bash"
   },
   "outputs": [],
   "source": [
    "sos run reference_data.ipynb hg_reference \\\n",
    "    --cwd reference_data \\\n",
    "    --ercc-reference reference_data/ERCC92.fa \\\n",
    "    --hg-reference reference_data/GRCh38_full_analysis_set_plus_decoy_hla.fa \\\n",
    "    --container container/rna_quantification.sif -J 1 -c csg.yml -q csg  &"
   ]
  },
  {
   "cell_type": "markdown",
   "id": "118c3ae9-c4d2-4fef-ac33-818a6659c950",
   "metadata": {
    "kernel": "Bash"
   },
   "source": [
    "Aproximate time: 8 min\n",
    "Mem: 16G"
   ]
  },
  {
   "cell_type": "code",
   "execution_count": null,
   "id": "a1b04952-f07b-4c9f-8a54-f107e6d801de",
   "metadata": {
    "kernel": "Bash"
   },
   "outputs": [],
   "source": [
    "sos run pipeline/reference_data.ipynb hg_gtf \\\n",
    "    --cwd reference_data \\\n",
    "    --hg-gtf reference_data/Homo_sapiens.GRCh38.103.chr.gtf \\\n",
    "    --hg-reference reference_data/GRCh38_full_analysis_set_plus_decoy_hla.noALT_noHLA_noDecoy.fasta \\\n",
    "    --container containers/rna_quantification.sif --stranded -J 1 -c csg.yml -q csg  &"
   ]
  },
  {
   "cell_type": "markdown",
   "id": "1bd5520f-617c-405b-8907-388f7c5baf6b",
   "metadata": {
    "kernel": "Bash"
   },
   "source": [
    "To format gene feature data:"
   ]
  },
  {
   "cell_type": "code",
   "execution_count": null,
   "id": "b4754da9-89d8-473d-99f7-fb5a2a18ccae",
   "metadata": {
    "kernel": "Bash"
   },
   "outputs": [],
   "source": [
    "sos run pipeline/reference_data.ipynb gene_annotation \\\n",
    "    --cwd reference_data \\\n",
    "    --ercc-gtf reference_data/ERCC92.gtf \\\n",
    "    --hg-gtf reference_data/Homo_sapiens.GRCh38.103.chr.gtf \\\n",
    "    --hg-reference reference_data/GRCh38_full_analysis_set_plus_decoy_hla.noALT_noHLA_noDecoy.fasta \\\n",
    "    --container containers/rna_quantification.sif --stranded"
   ]
  },
  {
   "cell_type": "code",
   "execution_count": null,
   "id": "057d1ae8-6a61-43cb-be41-08973d2e9e9f",
   "metadata": {
    "kernel": "Bash"
   },
   "outputs": [],
   "source": []
  },
  {
   "cell_type": "markdown",
   "id": "67fa497b-0719-4b5d-ac2d-a52ffa6cfe32",
   "metadata": {
    "kernel": "Bash"
   },
   "source": [
    "**Notice that for un-stranded RNA-seq protocol please use switch `--no-stranded` to the command above instead of `--stranded`. More details can be found later in the document.**"
   ]
  },
  {
   "cell_type": "markdown",
   "id": "d1cdf7b9-e75a-4b39-8ec5-965eeb5050ca",
   "metadata": {
    "kernel": "Bash"
   },
   "source": [
    "Generating STAR index without the GTF annotation file allow customize read lenght lateron in STAR alignment. it will take at least 40G of memory for STAR to build the index. \n",
    "Aproximate time: 30  min\n",
    "Mem: 40 G"
   ]
  },
  {
   "cell_type": "code",
   "execution_count": null,
   "id": "3a9a7db9-3fe6-40ac-b1a1-2df69c2a604c",
   "metadata": {
    "kernel": "Bash"
   },
   "outputs": [],
   "source": [
    "sos run pipeline/reference_data.ipynb STAR_index \\\n",
    "    --cwd reference_data \\\n",
    "    --hg-reference reference_data/GRCh38_full_analysis_set_plus_decoy_hla.noALT_noHLA_noDecoy_ERCC.fasta \\\n",
    "    --container containers/rna_quantification.sif \\\n",
    "    --mem 40G -J 1 -c csg.yml -q csg  &"
   ]
  },
  {
   "cell_type": "markdown",
   "id": "2b5d1be1-c259-4a03-b537-9b84d3ed6e4b",
   "metadata": {
    "kernel": "Bash"
   },
   "source": [
    "**Notice that command above requires at least 40G of memory, and takes quite a while to complete**."
   ]
  },
  {
   "cell_type": "markdown",
   "id": "a9d72459-e2ae-4603-b485-9e3354fee5c2",
   "metadata": {
    "kernel": "Bash"
   },
   "source": [
    "To generate RSEM index:\n",
    "\n",
    "Aproximate time: 1  min"
   ]
  },
  {
   "cell_type": "code",
   "execution_count": null,
   "id": "2c61697b-6d93-409d-bab4-a5f087f1331e",
   "metadata": {
    "kernel": "Bash"
   },
   "outputs": [],
   "source": [
    "sos run pipeline/reference_data.ipynb RSEM_index \\\n",
    "    --cwd reference_data \\\n",
    "    --hg-reference reference_data/GRCh38_full_analysis_set_plus_decoy_hla.noALT_noHLA_noDecoy_ERCC.fasta \\\n",
    "    --hg-gtf reference_data/Homo_sapiens.GRCh38.103.chr.reformatted.ERCC.gtf \\\n",
    "    --container containers/rna_quantification.sif  &"
   ]
  },
  {
   "cell_type": "markdown",
   "id": "ccedcf06-127e-4af2-9e45-2841ba0e80cb",
   "metadata": {
    "kernel": "Bash"
   },
   "source": [
    "To generate ref.flat annotation for picard QC"
   ]
  },
  {
   "cell_type": "code",
   "execution_count": null,
   "id": "24f1d64b-8a52-4c26-8a44-ea4c0ae6532f",
   "metadata": {},
   "outputs": [],
   "source": [
    "sos run pipeline/reference_data.ipynb RefFlat_generation \\\n",
    "    --hg-gtf reference_data/Homo_sapiens.GRCh38.103.chr.reformatted.ERCC.gtf "
   ]
  },
  {
   "cell_type": "markdown",
   "id": "1246eb0c-8819-4a51-8d4b-0a39d32b6fee",
   "metadata": {
    "kernel": "SoS"
   },
   "source": [
    "#### Downloading the data\n",
    "\n",
    "The samples that we use are 49 samples of [ROSMAP dataset](https://www.synapse.org/#!Synapse:syn4164376). The data used in this protocol paper after we processed and de-identified can be found at [here]()"
   ]
  },
  {
   "cell_type": "code",
   "execution_count": null,
   "id": "d972254c-2954-414b-bdc0-a0cdea184b9c",
   "metadata": {
    "kernel": "SoS"
   },
   "outputs": [],
   "source": [
    "cd /mnt/vast/hpc/csg/xqtl_workflow_testing/finalizing/ROSMAP_data/bam"
   ]
  },
  {
   "cell_type": "code",
   "execution_count": null,
   "id": "f0f8b62d-6119-4415-bb98-a3dbbb499aaf",
   "metadata": {
    "kernel": "SoS"
   },
   "outputs": [],
   "source": [
    "for i in `cat 50_samples_synapse_id`; do \n",
    "synapse get $i;\n",
    "done"
   ]
  },
  {
   "cell_type": "code",
   "execution_count": null,
   "id": "fbea7021-cb9a-418d-b436-6bfe31352784",
   "metadata": {
    "kernel": "SoS"
   },
   "outputs": [],
   "source": [
    "The Genotype data are downloaded using:"
   ]
  },
  {
   "cell_type": "code",
   "execution_count": null,
   "id": "3400c276-a10d-464b-813f-cb3af9980451",
   "metadata": {
    "kernel": "SoS"
   },
   "outputs": [],
   "source": [
    "wget https://www.ebi.ac.uk/arrayexpress/files/E-GEUV-1/GEUVADIS.chr21.PH1PH2_465.IMPFRQFILT_BIALLELIC_PH.annotv2.genotypes.vcf.gz \\\n",
    "     https://www.ebi.ac.uk/arrayexpress/files/E-GEUV-1/GEUVADIS.chr22.PH1PH2_465.IMPFRQFILT_BIALLELIC_PH.annotv2.genotypes.vcf.gz"
   ]
  },
  {
   "cell_type": "code",
   "execution_count": 2,
   "id": "6cbcc478-1e5f-44c5-b81d-933cad7f87f6",
   "metadata": {
    "kernel": "SoS"
   },
   "outputs": [],
   "source": [
    "cd ../../"
   ]
  },
  {
   "cell_type": "markdown",
   "id": "1008ddb3-c197-4f1e-91d2-17ad72bb872d",
   "metadata": {
    "kernel": "SoS"
   },
   "source": [
    "\n",
    "#### Preprocessing the xqtl protocol data.\n",
    "\n",
    "Since we are using the fastq files as starting point of our RNASeq calling pipeline, the phenotype of xqtl protocol data required some preprocessing . \n",
    "\n"
   ]
  },
  {
   "cell_type": "markdown",
   "id": "7cb99aa1-7671-40fd-851f-86cbf7524587",
   "metadata": {},
   "source": [
    "##### Generating the input phenotype data\n",
    "Command 1 take only the chromosome 21 and 22 from each of the bam file in the desinated diretory, then command 2 changes them into fastq file. Doing so keeps our xqtl protocol data into a managable size"
   ]
  },
  {
   "cell_type": "code",
   "execution_count": null,
   "id": "5ff73c24-e6cd-4a2d-bf1f-91920927dbd1",
   "metadata": {
    "kernel": "SoS"
   },
   "outputs": [],
   "source": [
    "sos run pipeline/phenotype_formatting.ipynb bam_subsetting  \\\n",
    "    --phenoFile `ls ROSMAP_data/RNASeq/*.bam` \\\n",
    "    --cwd ROSMAP_data/RNASeq/subsetted  \\\n",
    "    --container containers/rna_quantification.sif -J 50 -q csg -c csg.yml"
   ]
  },
  {
   "cell_type": "code",
   "execution_count": null,
   "id": "36081276-7c69-4c28-8f3b-906be9bfd2a4",
   "metadata": {
    "kernel": "SoS"
   },
   "outputs": [],
   "source": [
    "sos run pipeline/phenotype_formatting.ipynb bam_to_fastq  \\\n",
    "    --phenoFile `ls ROSMAP_data/RNASeq/subsetted/*.bam` \\\n",
    "    --cwd ROSMAP_data/RNASeq/fastq  \\\n",
    "    --container containers/rna_quantification.sif -J 50 -q csg -c csg.yml"
   ]
  },
  {
   "cell_type": "markdown",
   "id": "d3605e45-5af8-45ee-a218-63ab3187ea1d",
   "metadata": {
    "tags": []
   },
   "source": [
    "##### Creation of sample name mapper and masks\n",
    "To match and de-identified the samples in both Genotype/phenotype, a index file was created with the following codes"
   ]
  },
  {
   "cell_type": "code",
   "execution_count": null,
   "id": "a78caae2-dfb6-42f6-bf79-e2444d9b4de4",
   "metadata": {},
   "outputs": [],
   "source": [
    "echo -e \"fq1\\tfq2\" > xqtl_protocol_data_sample_list\n",
    "paste <(ls *.1.fastq) <(ls *.2.fastq) >> xqtl_protocol_data_sample_list"
   ]
  },
  {
   "cell_type": "markdown",
   "id": "115aec72-1e69-4465-bbf6-51472dcb18ca",
   "metadata": {},
   "source": [
    "***Following codes are ran in python.***"
   ]
  },
  {
   "cell_type": "code",
   "execution_count": null,
   "id": "5d6973b6-a40b-456f-bad8-ad53414a1a63",
   "metadata": {},
   "outputs": [],
   "source": [
    "import pandas as pd\n",
    "a = pd.read_csv(\"xqtl_protocol_data_sample_list\",\"\\t\")\n",
    "sample_id = [x.split(\".\")[0] for x in a.fq1 ]\n",
    "b = pd.read_csv(\"filtered_sample_index\",\"\\t\")\n",
    "c = pd.read_csv(\"ROSMAP_assay_rnaSeq_metadata.csv\",\",\")\n",
    "a[\"rnaseq_id\"] = sample_id\n",
    "a.merge(b, on = \"rnaseq_id\")\n",
    "abc = ab.merge(c, left_on = \"rnaseq_id\", right_on = \"specimenID\")\n",
    "abc.to_csv(\"../../comprehensive_xqtl_protocol_sample_index.tsv\",\"\\t\",index = False)"
   ]
  },
  {
   "cell_type": "markdown",
   "id": "96b479c0-06cc-4a06-9847-23f1c8808ab2",
   "metadata": {},
   "source": [
    "`ROSMAP_assay_rnaSeq_metadata.csv` can be downloaded from [ROSMAP metadata](https://www.synapse.org/#!Synapse:syn21088596) wherease `filtered_sample_index` is an internal file we used to determined which samples to used. For the purpose of deidentifying this file will not be released to the public."
   ]
  },
  {
   "cell_type": "markdown",
   "id": "ab62279f-b3e2-49ec-9f0b-9978bb7e490b",
   "metadata": {
    "kernel": "SoS"
   },
   "source": [
    "##### De-identifing the input phenotype data\n",
    "In compliance to HIPAA and the regulation on ROSMAP, we need to de-identify the data before releasing them to publics"
   ]
  },
  {
   "cell_type": "code",
   "execution_count": null,
   "id": "363f072e-c951-4157-bf38-b6d5387474cd",
   "metadata": {
    "kernel": "SoS"
   },
   "outputs": [],
   "source": [
    "readarray -t array1 <  <(tail -49 ../../comprehensive_xqtl_protocol_sample_index.tsv | cut -f5)\n",
    "readarray -t array2 <  <(tail -49 ../../comprehensive_xqtl_protocol_sample_index.tsv | cut -f3)"
   ]
  },
  {
   "cell_type": "code",
   "execution_count": null,
   "id": "01bfb5b5-e5e6-4d72-85bb-232581832330",
   "metadata": {},
   "outputs": [],
   "source": [
    "for i in ${!array1[*]} ; do mv ${array1[$i]}.subsetted.1.fastq Sample_${array2[$i]}.subsetted.1.fastq   ;done\n",
    "for i in ${!array1[*]} ; do mv ${array1[$i]}.subsetted.2.fastq Sample_${array2[$i]}.subsetted.2.fastq   ;done\n",
    "for i in ${!array1[*]} ; do mv ${array1[$i]}.subsetted.1.stderr Sample_${array2[$i]}.subsetted.1.stderr   ;done\n",
    "for i in ${!array1[*]} ; do mv ${array1[$i]}.subsetted.1.stdout Sample_${array2[$i]}.subsetted.1.stdout   ;done"
   ]
  },
  {
   "cell_type": "markdown",
   "id": "ba5c40b5-3bf3-4c5d-b6a3-8dec2baeb225",
   "metadata": {
    "kernel": "SoS"
   },
   "source": [
    "##### Generating the input fastq list\n",
    "The input of our RNA calling section requirs a list of following format, it was generated manually. We allows 2 optional columns: strand and read_length so that user can specify different stand and read length for each of the samples. However, it is not necessary to include them. Our pipeline can detect the strand based on the output of STAR Alignment.\n",
    "\n",
    "***Following codes are ran in python.***"
   ]
  },
  {
   "cell_type": "code",
   "execution_count": null,
   "id": "c2df174e-e0f8-4fce-b13e-8aa250ccaf9f",
   "metadata": {
    "kernel": "SoS"
   },
   "outputs": [],
   "source": [
    "import pandas as pd\n",
    "abc = pd.read_csv(\"comprehensive_xqtl_protocol_sample_index.tsv\",\"\\t\",index = False)\n",
    "abc = abc[[\"sample_id\",\"fq1\",\"fq2\",\"strand\",\"readLength\"]]\n",
    "abc[\"fq1\"] =  [\".\".join([x] + y.split(\".\")[1:])  for x,y in  zip( abc.sample_id, abc.fq1) ]\n",
    "abc[\"fq2\"] =  [\".\".join([x] + y.split(\".\")[1:])  for x,y in  zip( abc.sample_id, abc.fq2) ]\n",
    "abc.colums = [\"ID\",\"fq1\",\"fq2\",\"strand\",\"read_length\"]\n",
    "abc.to_csv(\"xqtl_protocol_data.fastqlist\",\"\\t\",index = False)"
   ]
  },
  {
   "cell_type": "markdown",
   "id": "62a1a097-da83-4572-b07b-705d588d06a3",
   "metadata": {
    "kernel": "SoS"
   },
   "source": [
    "##### Subsetting and Indexing the genotypes\n",
    "Since we only use 49 samples, we extract 49 samples from the genotype data to save memory and time"
   ]
  },
  {
   "cell_type": "code",
   "execution_count": null,
   "id": "25ec21cf-30c1-40cc-8aa3-d3fbd22605da",
   "metadata": {},
   "outputs": [],
   "source": [
    "cd ../\n",
    "echo -e \"old_name\\tnew_name\" > xqtl_protocol_data_sample_list\n",
    "paste <(cut -f6 ../comprehensive_xqtl_protocol_data_sample_index.tsv ) <(cut -f1 ../comprehensive_xqtl_protocol_data_sample_index.tsv  ) >> xqtl_protocol_data_sample_mask"
   ]
  },
  {
   "cell_type": "code",
   "execution_count": null,
   "id": "46fae37d-ca6c-479e-b6f7-384a262ea3bf",
   "metadata": {
    "kernel": "SoS"
   },
   "outputs": [],
   "source": [
    "bcftools view DEJ_11898_B01_GRM_WGS_2017-05-15_21.recalibrated_variants.vcf.gz -S <(cat ../comprehensive_xqtl_protocol_data_sample_index.tsv | cut -f6 | tail -49 ) | \\\n",
    "bcftools reheader --samples xqtl_protocol_data_sample_mask  -Oz -o DEJ_11898_B01_GRM_WGS_2017-05-15_21.recalibrated_variants.xqtl_protocol_data.vcf\n",
    "\n",
    "bcftools view DEJ_11898_B01_GRM_WGS_2017-05-15_22.recalibrated_variants.vcf.gz -S <(cat ../comprehensive_xqtl_protocol_data_sample_index.tsv | cut -f6 | tail -49 ) | \\\n",
    "bcftools reheader --samples xqtl_protocol_data_sample_mask  -Oz -o  DEJ_11898_B01_GRM_WGS_2017-05-15_22.recalibrated_variants.xqtl_protocol_data.vcf\n",
    "\n",
    "bgzip DEJ_11898_B01_GRM_WGS_2017-05-15_21.recalibrated_variants.xqtl_protocol_data.vcf\n",
    "bgzip DEJ_11898_B01_GRM_WGS_2017-05-15_22.recalibrated_variants.xqtl_protocol_data.vcf\n",
    "tabix DEJ_11898_B01_GRM_WGS_2017-05-15_21.recalibrated_variants.xqtl_protocol_data.vcf.gz\n",
    "tabix DEJ_11898_B01_GRM_WGS_2017-05-15_22.recalibrated_variants.xqtl_protocol_data.vcf.gz"
   ]
  }
 ],
 "metadata": {
  "kernelspec": {
   "display_name": "Bash",
   "language": "bash",
   "name": "bash"
  },
  "language_info": {
   "codemirror_mode": "shell",
   "file_extension": ".sh",
   "mimetype": "text/x-sh",
   "name": "bash"
  },
  "sos": {
   "kernels": [
    [
     "SoS",
     "sos",
     "",
     ""
    ]
   ],
   "version": "0.22.6"
  }
 },
 "nbformat": 4,
 "nbformat_minor": 5
}
