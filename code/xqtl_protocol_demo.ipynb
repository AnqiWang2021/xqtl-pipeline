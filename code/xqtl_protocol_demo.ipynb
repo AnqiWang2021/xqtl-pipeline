{
 "cells": [
  {
   "cell_type": "markdown",
   "id": "1a60b315-e63f-4328-8c92-929f65850302",
   "metadata": {
    "kernel": "SoS",
    "tags": []
   },
   "source": [
    "# xqtl protocol data. for eqtl\n",
    "This serve as a demostration and records of how to generate and what to use the xqtl calling and discovery pipeline. "
   ]
  },
  {
   "cell_type": "markdown",
   "id": "6c360672-5dfe-4056-8a1e-4d2d3f76fb86",
   "metadata": {
    "kernel": "SoS"
   },
   "source": [
    "## Materials"
   ]
  },
  {
   "cell_type": "markdown",
   "id": "bb02ef50-9209-4d10-9053-cbf52ffa85e7",
   "metadata": {
    "kernel": "SoS",
    "tags": []
   },
   "source": [
    "### Generating the reference data\n",
    "**Trouble: When running download_hg_reference, it is likely to recieve a connection time out error. Only way to solve it seems to be retrying/**"
   ]
  },
  {
   "cell_type": "markdown",
   "id": "115211c8-823f-4397-97b3-c37c64704781",
   "metadata": {
    "kernel": "SoS"
   },
   "source": [
    "Aproximate time: 60 min"
   ]
  },
  {
   "cell_type": "code",
   "execution_count": null,
   "id": "84264f4a-013a-4f63-a228-53f00101cc2b",
   "metadata": {
    "kernel": "Bash"
   },
   "outputs": [],
   "source": [
    "sos run pipeline/reference_data.ipynb download_hg_reference --cwd reference_data    &\n",
    "sos run pipeline/reference_data.ipynb download_gene_annotation --cwd reference_data &\n",
    "sos run pipeline/reference_data.ipynb download_ercc_reference --cwd reference_data &\n",
    "sos run pipeline/reference_data.ipynb download_dbsnp --cwd reference_data &"
   ]
  },
  {
   "cell_type": "markdown",
   "id": "cb0b0ac7-a03b-4ec6-8fee-537bb43b0409",
   "metadata": {
    "kernel": "Bash"
   },
   "source": [
    "**Warning: Following step is memory intensive and should be ran using `-J 1 -c csg.yml -q csg` to be submitted to a cluster with a minimum of 16GB of mem (default)**\n",
    "\n",
    "To format reference data:"
   ]
  },
  {
   "cell_type": "code",
   "execution_count": null,
   "id": "ca60a125-5528-4b7b-81ba-9467c11c7c1c",
   "metadata": {
    "kernel": "Bash"
   },
   "outputs": [],
   "source": [
    "Aproximate time: 1  min\n",
    "Mem: 8 G"
   ]
  },
  {
   "cell_type": "code",
   "execution_count": null,
   "id": "fac62f73-5e42-4009-9ad9-d391089821cf",
   "metadata": {
    "kernel": "Bash"
   },
   "outputs": [],
   "source": [
    "sos run reference_data.ipynb hg_reference \\\n",
    "    --cwd reference_data \\\n",
    "    --ercc-reference reference_data/ERCC92.fa \\\n",
    "    --hg-reference reference_data/GRCh38_full_analysis_set_plus_decoy_hla.fa \\\n",
    "    --container container/rna_quantification.sif -J 1 -c csg.yml -q csg  &"
   ]
  },
  {
   "cell_type": "markdown",
   "id": "fc27f284-1753-44d3-902d-bd116a04bf09",
   "metadata": {
    "kernel": "Bash"
   },
   "source": [
    "Aproximate time: 8 min\n",
    "Mem: 16G"
   ]
  },
  {
   "cell_type": "code",
   "execution_count": null,
   "id": "3026a50b-681c-4d91-8c6f-abb969565fdf",
   "metadata": {
    "kernel": "Bash"
   },
   "outputs": [],
   "source": [
    "sos run pipeline/reference_data.ipynb hg_gtf \\\n",
    "    --cwd reference_data \\\n",
    "    --hg-gtf reference_data/Homo_sapiens.GRCh38.103.chr.gtf \\\n",
    "    --hg-reference reference_data/GRCh38_full_analysis_set_plus_decoy_hla.noALT_noHLA_noDecoy.fasta \\\n",
    "    --container containers/rna_quantification.sif --stranded -J 1 -c csg.yml -q csg  &"
   ]
  },
  {
   "cell_type": "markdown",
   "id": "d4b11728-9f9f-40b6-8cd8-c51b972f4624",
   "metadata": {
    "kernel": "Bash"
   },
   "source": [
    "To format gene feature data:"
   ]
  },
  {
   "cell_type": "code",
   "execution_count": null,
   "id": "69f0dab3-40a9-4cb3-89e1-671b0f65f0b5",
   "metadata": {
    "kernel": "Bash"
   },
   "outputs": [],
   "source": [
    "sos run pipeline/reference_data.ipynb gene_annotation \\\n",
    "    --cwd reference_data \\\n",
    "    --ercc-gtf reference_data/ERCC92.gtf \\\n",
    "    --hg-gtf reference_data/Homo_sapiens.GRCh38.103.chr.gtf \\\n",
    "    --hg-reference reference_data/GRCh38_full_analysis_set_plus_decoy_hla.noALT_noHLA_noDecoy.fasta \\\n",
    "    --container containers/rna_quantification.sif --stranded"
   ]
  },
  {
   "cell_type": "code",
   "execution_count": null,
   "id": "2a7c1c1d-61e7-4530-b1f6-aab0c9a526a9",
   "metadata": {
    "kernel": "Bash"
   },
   "outputs": [],
   "source": []
  },
  {
   "cell_type": "markdown",
   "id": "54f8e184-b94f-45cb-ae7d-9a47f990a64b",
   "metadata": {
    "kernel": "Bash"
   },
   "source": [
    "**Notice that for un-stranded RNA-seq protocol please use switch `--no-stranded` to the command above instead of `--stranded`. More details can be found later in the document.**"
   ]
  },
  {
   "cell_type": "markdown",
   "id": "ba0a0f31-76eb-4a14-87c4-39e211b63a4d",
   "metadata": {
    "kernel": "Bash"
   },
   "source": [
    "Generating STAR index without the GTF annotation file allow customize read lenght lateron in STAR alignment. it will take at least 40G of memory for STAR to build the index. \n",
    "Aproximate time: 30  min\n",
    "Mem: 40 G"
   ]
  },
  {
   "cell_type": "code",
   "execution_count": null,
   "id": "5a53c1ae-5339-49f4-ba20-3b2ba973a0c6",
   "metadata": {
    "kernel": "Bash"
   },
   "outputs": [],
   "source": [
    "sos run pipeline/reference_data.ipynb STAR_index \\\n",
    "    --cwd reference_data \\\n",
    "    --hg-reference reference_data/GRCh38_full_analysis_set_plus_decoy_hla.noALT_noHLA_noDecoy_ERCC.fasta \\\n",
    "    --container containers/rna_quantification.sif \\\n",
    "    --mem 40G -J 1 -c csg.yml -q csg  &"
   ]
  },
  {
   "cell_type": "markdown",
   "id": "f90b7357-be07-40ee-a580-cf45cfc74070",
   "metadata": {
    "kernel": "Bash"
   },
   "source": [
    "**Notice that command above requires at least 40G of memory, and takes quite a while to complete**."
   ]
  },
  {
   "cell_type": "markdown",
   "id": "7729f89b-37a8-49b7-bdb0-ea8253265f06",
   "metadata": {
    "kernel": "Bash"
   },
   "source": [
    "To generate RSEM index:\n",
    "\n",
    "Aproximate time: 1  min"
   ]
  },
  {
   "cell_type": "code",
   "execution_count": null,
   "id": "ddfe1bf8-05a6-459a-97d2-8bf16d1aad58",
   "metadata": {
    "kernel": "Bash"
   },
   "outputs": [],
   "source": [
    "sos run pipeline/reference_data.ipynb RSEM_index \\\n",
    "    --cwd reference_data \\\n",
    "    --hg-reference reference_data/GRCh38_full_analysis_set_plus_decoy_hla.noALT_noHLA_noDecoy_ERCC.fasta \\\n",
    "    --hg-gtf reference_data/Homo_sapiens.GRCh38.103.chr.reformatted.ERCC.gtf \\\n",
    "    --container containers/rna_quantification.sif  &"
   ]
  },
  {
   "cell_type": "markdown",
   "id": "77672b13-5526-402a-8c03-2acf47f256f7",
   "metadata": {
    "kernel": "Bash"
   },
   "source": [
    "To generate ref.flat annotation for picard QC"
   ]
  },
  {
   "cell_type": "code",
   "execution_count": null,
   "id": "6360496f-fafc-4ee2-aec6-01bf762ecf28",
   "metadata": {},
   "outputs": [],
   "source": [
    "sos run pipeline/reference_data.ipynb RefFlat_generation \\\n",
    "    --hg-gtf reference_data/Homo_sapiens.GRCh38.103.chr.reformatted.ERCC.gtf "
   ]
  },
  {
   "cell_type": "markdown",
   "id": "f4c19aff-509d-43d8-b98a-f94e22656e14",
   "metadata": {
    "kernel": "SoS"
   },
   "source": [
    "### Downloading the data\n",
    "\n",
    "The samples that we use are 49 samples of [ROSMAP dataset](https://www.synapse.org/#!Synapse:syn4164376). The data used in this protocol paper after we processed and de-identified can be found at [here]()"
   ]
  },
  {
   "cell_type": "code",
   "execution_count": null,
   "id": "28305aa7-9514-44fa-997f-d58fc3dca43f",
   "metadata": {
    "kernel": "SoS"
   },
   "outputs": [],
   "source": [
    "cd /mnt/vast/hpc/csg/xqtl_workflow_testing/finalizing/ROSMAP_data/bam"
   ]
  },
  {
   "cell_type": "code",
   "execution_count": null,
   "id": "e22708e1-f435-472f-956b-0c0b86a25240",
   "metadata": {
    "kernel": "SoS"
   },
   "outputs": [],
   "source": [
    "for i in `cat 50_samples_synapse_id`; do \n",
    "synapse get $i;\n",
    "done"
   ]
  },
  {
   "cell_type": "code",
   "execution_count": null,
   "id": "16b7041a-f9d7-4965-a6fe-840986b72bda",
   "metadata": {
    "kernel": "SoS"
   },
   "outputs": [],
   "source": [
    "The Genotype data are downloaded using:"
   ]
  },
  {
   "cell_type": "code",
   "execution_count": null,
   "id": "8f58dca1-2ec0-4b7b-8a26-d35f7413c238",
   "metadata": {
    "kernel": "SoS"
   },
   "outputs": [],
   "source": [
    "wget https://www.ebi.ac.uk/arrayexpress/files/E-GEUV-1/GEUVADIS.chr21.PH1PH2_465.IMPFRQFILT_BIALLELIC_PH.annotv2.genotypes.vcf.gz \\\n",
    "     https://www.ebi.ac.uk/arrayexpress/files/E-GEUV-1/GEUVADIS.chr22.PH1PH2_465.IMPFRQFILT_BIALLELIC_PH.annotv2.genotypes.vcf.gz"
   ]
  },
  {
   "cell_type": "code",
   "execution_count": 2,
   "id": "18fecc92-5a00-4518-8a71-af378608c837",
   "metadata": {
    "kernel": "SoS"
   },
   "outputs": [],
   "source": [
    "cd ../../"
   ]
  },
  {
   "cell_type": "markdown",
   "id": "03a61893-30b8-4d94-a13b-2a5de4d8235a",
   "metadata": {
    "kernel": "SoS"
   },
   "source": [
    "\n",
    "### Preprocessing the xqtl protocol data.\n",
    "\n",
    "Since we are using the fastq files as starting point of our RNASeq calling pipeline, the phenotype of xqtl protocol data required some preprocessing . \n",
    "\n"
   ]
  },
  {
   "cell_type": "markdown",
   "id": "b0988d1a-642e-4608-84f5-fd16edc79642",
   "metadata": {},
   "source": [
    "#### Generating the input phenotype data\n",
    "Command 1 take only the chromosome 21 and 22 from each of the bam file in the desinated diretory, then command 2 changes them into fastq file. Doing so keeps our xqtl protocol data into a managable size"
   ]
  },
  {
   "cell_type": "code",
   "execution_count": null,
   "id": "84e2a668-ab6f-44e2-a985-14416b44fdbe",
   "metadata": {
    "kernel": "SoS"
   },
   "outputs": [],
   "source": [
    "sos run pipeline/phenotype_formatting.ipynb bam_subsetting  \\\n",
    "    --phenoFile `ls ROSMAP_data/RNASeq/*.bam` \\\n",
    "    --cwd ROSMAP_data/RNASeq/subsetted  \\\n",
    "    --container containers/rna_quantification.sif -J 50 -q csg -c csg.yml"
   ]
  },
  {
   "cell_type": "code",
   "execution_count": null,
   "id": "baea98ff-1eaf-4e66-a1cd-dcbf8d7a64f8",
   "metadata": {
    "kernel": "SoS"
   },
   "outputs": [],
   "source": [
    "sos run pipeline/phenotype_formatting.ipynb bam_to_fastq  \\\n",
    "    --phenoFile `ls ROSMAP_data/RNASeq/subsetted/*.bam` \\\n",
    "    --cwd ROSMAP_data/RNASeq/fastq  \\\n",
    "    --container containers/rna_quantification.sif -J 50 -q csg -c csg.yml"
   ]
  },
  {
   "cell_type": "markdown",
   "id": "90bbd523-41aa-4c30-a1fe-9400b4915147",
   "metadata": {
    "tags": []
   },
   "source": [
    "#### Creation of sample name mapper and masks\n",
    "To match and de-identified the samples in both Genotype/phenotype, a index file was created with the following codes"
   ]
  },
  {
   "cell_type": "code",
   "execution_count": null,
   "id": "718e6fee-ea64-49b3-9be8-ee079f6c3b63",
   "metadata": {},
   "outputs": [],
   "source": [
    "echo -e \"fq1\\tfq2\" > xqtl_protocol_data_sample_list\n",
    "paste <(ls *.1.fastq) <(ls *.2.fastq) >> xqtl_protocol_data_sample_list"
   ]
  },
  {
   "cell_type": "markdown",
   "id": "af4641d3-c39a-4766-94a4-520e12382f39",
   "metadata": {},
   "source": [
    "***Following codes are ran in python.***"
   ]
  },
  {
   "cell_type": "code",
   "execution_count": null,
   "id": "3b40ecf5-3061-462d-8cad-ee9946cedc1d",
   "metadata": {},
   "outputs": [],
   "source": [
    "import pandas as pd\n",
    "a = pd.read_csv(\"xqtl_protocol_data_sample_list\",\"\\t\")\n",
    "sample_id = [x.split(\".\")[0] for x in a.fq1 ]\n",
    "b = pd.read_csv(\"filtered_sample_index\",\"\\t\")\n",
    "c = pd.read_csv(\"ROSMAP_assay_rnaSeq_metadata.csv\",\",\")\n",
    "a[\"rnaseq_id\"] = sample_id\n",
    "a.merge(b, on = \"rnaseq_id\")\n",
    "abc = ab.merge(c, left_on = \"rnaseq_id\", right_on = \"specimenID\")\n",
    "abc.to_csv(\"../../comprehensive_xqtl_protocol_sample_index.tsv\",\"\\t\",index = False)"
   ]
  },
  {
   "cell_type": "markdown",
   "id": "b0caa533-3237-487d-b16b-927fccd6d1c3",
   "metadata": {},
   "source": [
    "`ROSMAP_assay_rnaSeq_metadata.csv` can be downloaded from [ROSMAP metadata](https://www.synapse.org/#!Synapse:syn21088596) wherease `filtered_sample_index` is an internal file we used to determined which samples to used. For the purpose of deidentifying this file will not be released to the public."
   ]
  },
  {
   "cell_type": "markdown",
   "id": "c4034f7e-21c4-4f4c-a641-c48e640cbbde",
   "metadata": {
    "kernel": "SoS"
   },
   "source": [
    "#### De-identifing the input phenotype data\n",
    "In compliance to HIPAA and the regulation on ROSMAP, we need to de-identify the data before releasing them to publics"
   ]
  },
  {
   "cell_type": "code",
   "execution_count": null,
   "id": "96f0ac50-47a9-49e1-bb7f-3069128dcf1f",
   "metadata": {
    "kernel": "SoS"
   },
   "outputs": [],
   "source": [
    "readarray -t array1 <  <(tail -49 ../../comprehensive_xqtl_protocol_sample_index.tsv | cut -f5)\n",
    "readarray -t array2 <  <(tail -49 ../../comprehensive_xqtl_protocol_sample_index.tsv | cut -f3)"
   ]
  },
  {
   "cell_type": "code",
   "execution_count": null,
   "id": "1ae6e213-e783-4365-a009-6d4d56a58ebe",
   "metadata": {},
   "outputs": [],
   "source": [
    "for i in ${!array1[*]} ; do mv ${array1[$i]}.subsetted.1.fastq Sample_${array2[$i]}.subsetted.1.fastq   ;done\n",
    "for i in ${!array1[*]} ; do mv ${array1[$i]}.subsetted.2.fastq Sample_${array2[$i]}.subsetted.2.fastq   ;done\n",
    "for i in ${!array1[*]} ; do mv ${array1[$i]}.subsetted.1.stderr Sample_${array2[$i]}.subsetted.1.stderr   ;done\n",
    "for i in ${!array1[*]} ; do mv ${array1[$i]}.subsetted.1.stdout Sample_${array2[$i]}.subsetted.1.stdout   ;done"
   ]
  },
  {
   "cell_type": "markdown",
   "id": "c057557b-ac9a-4e56-af73-cae2ef2472b0",
   "metadata": {
    "kernel": "SoS"
   },
   "source": [
    "#### Generating the input fastq list\n",
    "The input of our RNA calling section requirs a list of following format, it was generated manually. We allows 2 optional columns: strand and read_length so that user can specify different stand and read length for each of the samples. However, it is not necessary to include them. Our pipeline can detect the strand based on the output of STAR Alignment.\n",
    "\n",
    "***Following codes are ran in python.***"
   ]
  },
  {
   "cell_type": "code",
   "execution_count": null,
   "id": "f4b96fd5-87d9-477c-bd99-f0f938f65854",
   "metadata": {
    "kernel": "SoS"
   },
   "outputs": [],
   "source": [
    "import pandas as pd\n",
    "abc = pd.read_csv(\"comprehensive_xqtl_protocol_sample_index.tsv\",\"\\t\",index = False)\n",
    "abc = abc[[\"sample_id\",\"fq1\",\"fq2\",\"strand\",\"readLength\"]]\n",
    "abc[\"fq1\"] =  [\".\".join([x] + y.split(\".\")[1:])  for x,y in  zip( abc.sample_id, abc.fq1) ]\n",
    "abc[\"fq2\"] =  [\".\".join([x] + y.split(\".\")[1:])  for x,y in  zip( abc.sample_id, abc.fq2) ]\n",
    "abc.colums = [\"ID\",\"fq1\",\"fq2\",\"strand\",\"read_length\"]\n",
    "abc.to_csv(\"xqtl_protocol_data.fastqlist\",\"\\t\",index = False)"
   ]
  },
  {
   "cell_type": "markdown",
   "id": "778fe8de-f98a-43db-8851-3316924ac8f7",
   "metadata": {
    "kernel": "SoS"
   },
   "source": [
    "#### Subsetting and Indexing the genotypes\n",
    "Since we only use 49 samples, we extract 49 samples from the genotype data to save memory and time"
   ]
  },
  {
   "cell_type": "code",
   "execution_count": null,
   "id": "d71aac29-6d35-4d28-8751-0aa9085117e0",
   "metadata": {},
   "outputs": [],
   "source": [
    "cd ../\n",
    "echo -e \"old_name\\tnew_name\" > xqtl_protocol_data_sample_list\n",
    "paste <(cut -f6 ../comprehensive_xqtl_protocol_data_sample_index.tsv ) <(cut -f1 ../comprehensive_xqtl_protocol_data_sample_index.tsv  ) >> xqtl_protocol_data_sample_mask"
   ]
  },
  {
   "cell_type": "code",
   "execution_count": null,
   "id": "16d933b9-9c6a-438c-8dd4-44a51c01c07c",
   "metadata": {
    "kernel": "SoS"
   },
   "outputs": [],
   "source": [
    "bcftools view DEJ_11898_B01_GRM_WGS_2017-05-15_21.recalibrated_variants.vcf.gz -S <(cat ../comprehensive_xqtl_protocol_data_sample_index.tsv | cut -f6 | tail -49 ) | \\\n",
    "bcftools reheader --samples xqtl_protocol_data_sample_mask  -Oz -o DEJ_11898_B01_GRM_WGS_2017-05-15_21.recalibrated_variants.xqtl_protocol_data.vcf\n",
    "\n",
    "bcftools view DEJ_11898_B01_GRM_WGS_2017-05-15_22.recalibrated_variants.vcf.gz -S <(cat ../comprehensive_xqtl_protocol_data_sample_index.tsv | cut -f6 | tail -49 ) | \\\n",
    "bcftools reheader --samples xqtl_protocol_data_sample_mask  -Oz -o  DEJ_11898_B01_GRM_WGS_2017-05-15_22.recalibrated_variants.xqtl_protocol_data.vcf\n",
    "\n",
    "bgzip DEJ_11898_B01_GRM_WGS_2017-05-15_21.recalibrated_variants.xqtl_protocol_data.vcf\n",
    "bgzip DEJ_11898_B01_GRM_WGS_2017-05-15_22.recalibrated_variants.xqtl_protocol_data.vcf\n",
    "tabix DEJ_11898_B01_GRM_WGS_2017-05-15_21.recalibrated_variants.xqtl_protocol_data.vcf.gz\n",
    "tabix DEJ_11898_B01_GRM_WGS_2017-05-15_22.recalibrated_variants.xqtl_protocol_data.vcf.gz"
   ]
  },
  {
   "cell_type": "markdown",
   "id": "7343138a-0e07-46a5-b45e-f5f5463e0e2b",
   "metadata": {
    "kernel": "SoS"
   },
   "source": [
    "## Protocol 1: Molecular Phenotype Calling"
   ]
  },
  {
   "cell_type": "markdown",
   "id": "3815a421-6d96-4475-aff6-b8ffcb4c36ff",
   "metadata": {
    "kernel": "SoS"
   },
   "source": [
    "### RNA Seq Alignment"
   ]
  },
  {
   "cell_type": "code",
   "execution_count": null,
   "id": "4a47cbfa-ae8e-43b7-a288-fb917f564eda",
   "metadata": {
    "kernel": "SoS"
   },
   "outputs": [],
   "source": [
    "sos run pipeline/RNA_calling.ipynb fastqc \\\n",
    "    --cwd output/rnaseq/fastqc \\\n",
    "    --samples ROSMAP_data/RNASeq/fastq/xqtl_protocol_data.fastqlist \\\n",
    "    --data-dir ROSMAP_data/RNASeq/fastq \\\n",
    "    --container containers/rna_quantification.sif \\\n",
    "    --gtf reference_data/Homo_sapiens.GRCh38.103.chr.reformatted.ERCC.gtf -J 50 -q csg -c csg.yml"
   ]
  },
  {
   "cell_type": "markdown",
   "id": "cc161b4c-28f7-49e9-9d29-7a93786b511c",
   "metadata": {
    "kernel": "SoS"
   },
   "source": [
    "To align the reads with STAR and generate the bam_list recipe for downstream molecular phenotype count matrixes. The `-J 20 -c csg.yml -q csg` part is crucial for it ask for the required memory to conduct the STAR alignment."
   ]
  },
  {
   "cell_type": "code",
   "execution_count": null,
   "id": "d25f5d8a-ac7e-4125-a0e3-a9dcde93e982",
   "metadata": {
    "kernel": "SoS"
   },
   "outputs": [],
   "source": [
    "nohup sos run pipeline/RNA_calling.ipynb STAR_output \\\n",
    "    --cwd output/rnaseq --samples ROSMAP_data/RNASeq/fastq/xqtl_protocol_data.fastqlist \\\n",
    "    --data-dir ROSMAP_data/RNASeq/fastq --STAR-index reference_data/STAR_Index/ \\\n",
    "    --gtf reference_data/Homo_sapiens.GRCh38.103.chr.reformatted.ERCC.gtf \\\n",
    "    --container containers/rna_quantification.sif \\\n",
    "    --reference-fasta reference_data/GRCh38_full_analysis_set_plus_decoy_hla.noALT_noHLA_noDecoy_ERCC.fasta \\\n",
    "    --ref-flat reference_data/Homo_sapiens.GRCh38.103.chr.reformatted.ERCC.ref.flat -J 50 -c csg.yml -q csg2 --uncompressed &"
   ]
  },
  {
   "cell_type": "markdown",
   "id": "7df52190-1cd5-4f78-bf19-d098d8c385ab",
   "metadata": {
    "kernel": "SoS"
   },
   "source": [
    "### Gene expression bed file"
   ]
  },
  {
   "cell_type": "code",
   "execution_count": null,
   "id": "8ca0dacd-a86d-4f07-b138-4ac21dec916a",
   "metadata": {
    "kernel": "SoS"
   },
   "outputs": [],
   "source": [
    "sos run pipeline/RNA_calling.ipynb rnaseqc_call \\\n",
    "    --cwd output/rnaseq \\\n",
    "    --samples ROSMAP_data/RNASeq/fastq/xqtl_protocol_data.fastqlist    --data-dir ROSMAP_data/RNASeq/fastq \\\n",
    "    --STAR-index reference_data/STAR_Index/ \\\n",
    "    --gtf reference_data/Homo_sapiens.GRCh38.103.chr.reformatted.collapse_only.gene.gtf \\\n",
    "    --container containers/rna_quantification.sif \\\n",
    "    --reference-fasta reference_data/GRCh38_full_analysis_set_plus_decoy_hla.noALT_noHLA_noDecoy.fasta \\\n",
    "    --ref-flat reference_data/Homo_sapiens.GRCh38.103.chr.reformatted.ERCC.gtf.ref.flat  \\\n",
    "    --bam_list output/rnaseq/xqtl_protocol_data_bam_list  -J 50 -c csg.yml -q csg2 "
   ]
  },
  {
   "cell_type": "code",
   "execution_count": null,
   "id": "287781aa-92f4-45aa-bd22-e027eba89b3e",
   "metadata": {},
   "outputs": [],
   "source": [
    "sos run pipeline/bulk_expression_QC.ipynb qc \\\n",
    "    --cwd output/rnaseq \\ \\\n",
    "    --tpm-gct output/rnaseq/xqtl_protocol_data.rnaseqc.gene_tpm.gct.gz \\\n",
    "    --counts-gct output/rnaseq/xqtl_protocol_data.rnaseqc.gene_readsCount.gct.gz \\\n",
    "    --container containers/rna_quantification.sif "
   ]
  },
  {
   "cell_type": "code",
   "execution_count": null,
   "id": "0dc14539-a5d0-42d3-8ccd-e31965c5c5e8",
   "metadata": {},
   "outputs": [],
   "source": [
    "nohup sos run pipeline/bulk_expression_normalization.ipynb normalize \\\n",
    "    --cwd output/rnaseq \\\n",
    "    --tpm-gct output/rnaseq/xqtl_protocol_data.rnaseqc.low_expression_filtered.outlier_removed.tpm.gct.gz \\\n",
    "    --counts-gct output/rnaseq/xqtl_protocol_data.rnaseqc.low_expression_filtered.outlier_removed.geneCount.gct.gz \\\n",
    "    --annotation-gtf reference_data/Homo_sapiens.GRCh38.103.chr.reformatted.collapse_only.gene.ERCC.gtf  \\\n",
    "    --container containers/rna_quantification.sif \\\n",
    "    --count-threshold 1 --sample_participant_lookup reference_data/sample_participant_lookup.rnaseq &"
   ]
  },
  {
   "cell_type": "markdown",
   "id": "939369f9-62e7-40bb-b256-11bd4ffa2cb4",
   "metadata": {},
   "source": [
    "### Partition by chromosome"
   ]
  },
  {
   "cell_type": "code",
   "execution_count": null,
   "id": "bec5db45-60e9-408c-a815-10d487c7b019",
   "metadata": {},
   "outputs": [],
   "source": []
  },
  {
   "cell_type": "markdown",
   "id": "c24b2a91-110e-4c95-b9fa-71aa7c238569",
   "metadata": {
    "kernel": "SoS"
   },
   "source": [
    "### Splicing count matrix"
   ]
  },
  {
   "cell_type": "markdown",
   "id": "c4c197f1-b06c-44d9-bbe9-e327d43945a8",
   "metadata": {
    "kernel": "SoS"
   },
   "source": [
    "#### Leafcutter"
   ]
  },
  {
   "cell_type": "code",
   "execution_count": null,
   "id": "c6aca7c6-8437-472f-bce4-118306e3a163",
   "metadata": {
    "kernel": "SoS"
   },
   "outputs": [],
   "source": [
    "sos run pipeline/splicing_calling.ipynb leafcutter \\\n",
    "    --cwd output/leaf_cutter/ \\\n",
    "    --samples output/rnaseq/xqtl_protocol_data_bam_list \\\n",
    "    --container containers/leafcutter.sif "
   ]
  },
  {
   "cell_type": "markdown",
   "id": "2d994fbc-a506-499f-bc1e-18c42aeb53d9",
   "metadata": {},
   "source": [
    "#### Psichomics\n"
   ]
  },
  {
   "cell_type": "code",
   "execution_count": null,
   "id": "220ce386-c3d2-4e23-b3dd-178222d2b003",
   "metadata": {},
   "outputs": [],
   "source": [
    "sos run pipeline/splicing_calling.ipynb psichomics \\\n",
    "    --cwd output/psichomics/ \\\n",
    "    --samples output/rnaseq/xqtl_protocol_data_bam_list \\\n",
    "    --splicing_annotation hg38_suppa.rds \\\n",
    "    --container containers/psichomics.sif"
   ]
  },
  {
   "cell_type": "markdown",
   "id": "7f9f7d1a-dbad-47fb-87da-40cdf970bee3",
   "metadata": {
    "kernel": "SoS",
    "tags": []
   },
   "source": [
    "### Preparing of Xqtl Discovery pipeline\n",
    "The command in the analysis in the xqtl pipeline can be generated with the command generater we provided. The command generator requirs what we called a recipe file. The code to generate it and the recipe we will be using are as followed:"
   ]
  },
  {
   "cell_type": "code",
   "execution_count": null,
   "id": "19d321ff-589b-4dc6-8df5-e37549b258c9",
   "metadata": {},
   "outputs": [],
   "source": []
  },
  {
   "cell_type": "code",
   "execution_count": null,
   "id": "8e0f1e28-b54d-4c9c-b4fb-55cd2521eed9",
   "metadata": {},
   "outputs": [],
   "source": []
  },
  {
   "cell_type": "markdown",
   "id": "c2480b39-2c97-4bf7-9438-28fc3b9c5dee",
   "metadata": {
    "kernel": "SoS"
   },
   "source": [
    "## Protocol 2: Xqtl Discovery pipeline"
   ]
  },
  {
   "cell_type": "markdown",
   "id": "782b94e0-aa96-43de-a75c-a027d7d734c8",
   "metadata": {
    "kernel": "SoS"
   },
   "source": [
    "### Genotype QC\n",
    "It will take ~25G of memory and ~5 min to complete the VCF_QC step. "
   ]
  },
  {
   "cell_type": "code",
   "execution_count": null,
   "id": "b7eca3b8-fa8e-492d-a509-f608d64594bc",
   "metadata": {
    "kernel": "SoS"
   },
   "outputs": [],
   "source": [
    "sos run pipeline/VCF_QC.ipynb qc --genoFile ROSMAP_data/Genotype/DEJ_11898_B01_GRM_WGS_2017-05-15_21.recalibrated_variants.xqtl_protocol_data.add_chr.vcf.gz ROSMAP_data/Genotype//DEJ_11898_B01_GRM_WGS_2017-05-15_22.recalibrated_variants.xqtl_protocol_data.add_chr.vcf.gz \\\n",
    "            --dbsnp-variants reference_data/00-All.add_chr.variants.gz \\\n",
    "            --reference-genome reference_data/GRCh38_full_analysis_set_plus_decoy_hla.noALT_noHLA_noDecoy_ERCC.fasta \\\n",
    "            --cwd output/genotype --container containers/bioinfo.sif -J 2 -q csg2 -c csg.yml --mem 25G &"
   ]
  },
  {
   "cell_type": "markdown",
   "id": "3ae59416-57df-4904-b224-b1a8483a12e9",
   "metadata": {},
   "source": [
    "Since the genotype data are per chromosome, we will need to merged the output plink file. When the input vcf to VCF_QC is the whole genome one, this step can be skipped"
   ]
  },
  {
   "cell_type": "code",
   "execution_count": null,
   "id": "b5ac3a14-f46b-4eda-a9e0-8f05f80899f3",
   "metadata": {},
   "outputs": [],
   "source": [
    "sos run pipeline/genotype_formatting.ipynb merge_plink \\\n",
    "            --genoFile `ls output/genotype/*.leftnorm.filtered.bed` \\\n",
    "            --cwd output/genotype --container containers/bioinfo.sif &"
   ]
  },
  {
   "cell_type": "code",
   "execution_count": null,
   "id": "8f46f31a-2143-4609-860d-2c772bc4589f",
   "metadata": {},
   "outputs": [],
   "source": [
    "sos run pipeline/GWAS_QC.ipynb king \\\n",
    "   --cwd output/genotype \\\n",
    "   --genoFile output/genotype/xqtl_protocol_data.bed \\\n",
    "   --container containers/bioinfo.sif \\\n",
    "   --walltime 48h   --no-maximize_unrelated"
   ]
  },
  {
   "cell_type": "markdown",
   "id": "ad6ec969-25fa-491a-bebb-71975c4d88f4",
   "metadata": {
    "kernel": "SoS"
   },
   "source": [
    "### Data Preprocessing"
   ]
  },
  {
   "cell_type": "markdown",
   "id": "8aad56bc-70a5-4025-9e55-5e682c097a12",
   "metadata": {
    "kernel": "SoS"
   },
   "source": [
    "### Association Testing"
   ]
  },
  {
   "cell_type": "markdown",
   "id": "8c6a9a7e-6927-431a-ad5c-7d5bf5c85fbb",
   "metadata": {
    "kernel": "SoS"
   },
   "source": [
    "### Sumstat Merging"
   ]
  }
 ],
 "metadata": {
  "kernelspec": {
   "display_name": "Bash",
   "language": "bash",
   "name": "bash"
  },
  "language_info": {
   "codemirror_mode": "shell",
   "file_extension": ".sh",
   "mimetype": "text/x-sh",
   "name": "bash"
  },
  "sos": {
   "kernels": [
    [
     "SoS",
     "sos",
     "",
     ""
    ]
   ],
   "version": "0.22.6"
  }
 },
 "nbformat": 4,
 "nbformat_minor": 5
}
